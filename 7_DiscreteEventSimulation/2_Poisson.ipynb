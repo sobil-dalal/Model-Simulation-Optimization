{
 "cells": [
  {
   "cell_type": "markdown",
   "metadata": {
    "toc": true
   },
   "source": [
    "<h1>Table of Contents<span class=\"tocSkip\"></span></h1>\n",
    "<div class=\"toc\"><ul class=\"toc-item\"><li><span><a href=\"#Preliminaries\" data-toc-modified-id=\"Preliminaries-1\"><span class=\"toc-item-num\">1&nbsp;&nbsp;</span>Preliminaries</a></span></li><li><span><a href=\"#Visualising-Poisson-Point-Processes\" data-toc-modified-id=\"Visualising-Poisson-Point-Processes-2\"><span class=\"toc-item-num\">2&nbsp;&nbsp;</span>Visualising Poisson Point Processes</a></span></li><li><span><a href=\"#Introduction\" data-toc-modified-id=\"Introduction-3\"><span class=\"toc-item-num\">3&nbsp;&nbsp;</span>Introduction</a></span><ul class=\"toc-item\"><li><span><a href=\"#Example-1:-Web-Server\" data-toc-modified-id=\"Example-1:-Web-Server-3.1\"><span class=\"toc-item-num\">3.1&nbsp;&nbsp;</span>Example 1: Web Server</a></span></li><li><span><a href=\"#Example-2:-Flood-Events\" data-toc-modified-id=\"Example-2:-Flood-Events-3.2\"><span class=\"toc-item-num\">3.2&nbsp;&nbsp;</span>Example 2: Flood Events</a></span></li><li><span><a href=\"#Example-3:-School-Traffic\" data-toc-modified-id=\"Example-3:-School-Traffic-3.3\"><span class=\"toc-item-num\">3.3&nbsp;&nbsp;</span>Example 3: School Traffic</a></span></li><li><span><a href=\"#Example-4:-Frequent-Events\" data-toc-modified-id=\"Example-4:-Frequent-Events-3.4\"><span class=\"toc-item-num\">3.4&nbsp;&nbsp;</span>Example 4: Frequent Events</a></span></li></ul></li><li><span><a href=\"#Q-Q-Plot\" data-toc-modified-id=\"Q-Q-Plot-4\"><span class=\"toc-item-num\">4&nbsp;&nbsp;</span>Q-Q Plot</a></span></li><li><span><a href=\"#Kolmogorov-Smirnov-Test\" data-toc-modified-id=\"Kolmogorov-Smirnov-Test-5\"><span class=\"toc-item-num\">5&nbsp;&nbsp;</span>Kolmogorov-Smirnov Test</a></span></li><li><span><a href=\"#The-Poisson-Distribution\" data-toc-modified-id=\"The-Poisson-Distribution-6\"><span class=\"toc-item-num\">6&nbsp;&nbsp;</span>The Poisson Distribution</a></span><ul class=\"toc-item\"><li><span><a href=\"#Simulating-the-Poisson-Distribution\" data-toc-modified-id=\"Simulating-the-Poisson-Distribution-6.1\"><span class=\"toc-item-num\">6.1&nbsp;&nbsp;</span>Simulating the Poisson Distribution</a></span></li><li><span><a href=\"#Test-Runs\" data-toc-modified-id=\"Test-Runs-6.2\"><span class=\"toc-item-num\">6.2&nbsp;&nbsp;</span>Test Runs</a></span></li><li><span><a href=\"#Visualisation-the-Results-of-the-Simulation\" data-toc-modified-id=\"Visualisation-the-Results-of-the-Simulation-6.3\"><span class=\"toc-item-num\">6.3&nbsp;&nbsp;</span>Visualisation the Results of the Simulation</a></span></li></ul></li><li><span><a href=\"#Impact-of-Unit-of-Measurements\" data-toc-modified-id=\"Impact-of-Unit-of-Measurements-7\"><span class=\"toc-item-num\">7&nbsp;&nbsp;</span>Impact of Unit of Measurements</a></span><ul class=\"toc-item\"><li><span><a href=\"#Measuring-Meteor-showers-in-minutes\" data-toc-modified-id=\"Measuring-Meteor-showers-in-minutes-7.1\"><span class=\"toc-item-num\">7.1&nbsp;&nbsp;</span>Measuring Meteor showers in minutes</a></span></li><li><span><a href=\"#Measuring-Meteor-showers-in-hours\" data-toc-modified-id=\"Measuring-Meteor-showers-in-hours-7.2\"><span class=\"toc-item-num\">7.2&nbsp;&nbsp;</span>Measuring Meteor showers in hours</a></span></li></ul></li><li><span><a href=\"#Applications-to-the-initial-problems\" data-toc-modified-id=\"Applications-to-the-initial-problems-8\"><span class=\"toc-item-num\">8&nbsp;&nbsp;</span>Applications to the initial problems</a></span><ul class=\"toc-item\"><li><span><a href=\"#Web-Server\" data-toc-modified-id=\"Web-Server-8.1\"><span class=\"toc-item-num\">8.1&nbsp;&nbsp;</span>Web Server</a></span></li><li><span><a href=\"#Flood-Events\" data-toc-modified-id=\"Flood-Events-8.2\"><span class=\"toc-item-num\">8.2&nbsp;&nbsp;</span>Flood Events</a></span></li><li><span><a href=\"#School-Car-Traffic\" data-toc-modified-id=\"School-Car-Traffic-8.3\"><span class=\"toc-item-num\">8.3&nbsp;&nbsp;</span>School Car Traffic</a></span></li></ul></li><li><span><a href=\"#References\" data-toc-modified-id=\"References-9\"><span class=\"toc-item-num\">9&nbsp;&nbsp;</span>References</a></span></li></ul></div>"
   ]
  },
  {
   "cell_type": "markdown",
   "metadata": {},
   "source": [
    "# Preliminaries"
   ]
  },
  {
   "cell_type": "code",
   "execution_count": 1,
   "metadata": {
    "ExecuteTime": {
     "end_time": "2020-07-06T22:35:46.128294Z",
     "start_time": "2020-07-06T22:35:44.530566Z"
    }
   },
   "outputs": [],
   "source": [
    "import pandas as pd\n",
    "\n",
    "import scipy as sp\n",
    "import scipy.stats as stats\n",
    "\n",
    "import statsmodels.api as sm \n",
    "\n",
    "import numpy as np\n",
    "\n",
    "import matplotlib as mpl\n",
    "import matplotlib.pyplot as plt\n",
    "\n",
    "import math\n",
    "import random \n",
    "import statistics "
   ]
  },
  {
   "cell_type": "markdown",
   "metadata": {},
   "source": [
    "# Visualising Poisson Point Processes"
   ]
  },
  {
   "cell_type": "markdown",
   "metadata": {},
   "source": [
    "The `poissonEvents(λ,N,T)` method visualises the a random poisson process and returns a list of the event times. Two of the parameters `λ`, `N` and `T` must be set. \n",
    "\n",
    "The parameter `plot=False` can be used to surpress the plotting. In this case the method just returns the list of event times."
   ]
  },
  {
   "cell_type": "code",
   "execution_count": 2,
   "metadata": {
    "ExecuteTime": {
     "end_time": "2020-07-06T22:35:46.133153Z",
     "start_time": "2020-07-06T22:35:46.130643Z"
    }
   },
   "outputs": [],
   "source": [
    "# random.seed(1)\n",
    "# poissonSimulation(2.0, T=40, K=10, N=5000)"
   ]
  },
  {
   "cell_type": "markdown",
   "metadata": {},
   "source": [
    "<div class=\"alert alert-block alert-info\">\n",
    "<b>Hint:</b> \n",
    "The code depends on random numbers generated by the system. Hence the values generated and accordingly the graph will look differently everytime you run the method. If reproducibility is of any importance, set an arbitrary seed value immediately before calling the method.</div>"
   ]
  },
  {
   "cell_type": "markdown",
   "metadata": {},
   "source": [
    "<div class=\"alert alert-block alert-info\">\n",
    "<b>Hint:</b> \n",
    "You can skip this code. It just uses some Python trickery to generate the required plot.</div>"
   ]
  },
  {
   "cell_type": "code",
   "execution_count": 3,
   "metadata": {
    "ExecuteTime": {
     "end_time": "2020-07-06T22:35:46.153226Z",
     "start_time": "2020-07-06T22:35:46.136003Z"
    }
   },
   "outputs": [],
   "source": [
    "def poissonEvents(λ=None, N=None, T=None, \n",
    "                  plot=True, events=None, figsize=None):\n",
    "\n",
    "    if events!=None:\n",
    "        N = len(events)\n",
    "        \n",
    "    if N!=None and T==None and λ!=None:\n",
    "        T = int(N/λ)\n",
    "    elif N==None and T!=None and λ!=None:\n",
    "        N = int(λ*T)\n",
    "    elif N!=None and T!=None and λ==None:\n",
    "        λ = N/T\n",
    "    \n",
    "   \n",
    "    if events==None:\n",
    "        u = [ random.uniform(0, 1) for i in range(N) ]\n",
    "        P = list(np.cumsum(list(map(\n",
    "                lambda x: -math.log(1-x)/λ, u))))\n",
    "    else:\n",
    "        P = events\n",
    "        \n",
    "    if plot:\n",
    "  \n",
    "        if figsize!=None:\n",
    "            width, height = figsize\n",
    "        else:\n",
    "            width, height = 10, 6\n",
    "            \n",
    "        fig, ax=plt.subplots(1,1)\n",
    "        fig.set_figwidth(width)\n",
    "        fig.set_figheight(height)\n",
    "        \n",
    "        def X(l):\n",
    "            \n",
    "            xmax = max(int(N/λ),math.ceil(max(l)))\n",
    "            \n",
    "            def double(l):\n",
    "                return [] if l==[] \\\n",
    "                        else [l[0], l[0]]+double(l[1:])\n",
    "    \n",
    "            return [0]+double(l)+[xmax]\n",
    "        \n",
    "        def Y(l):\n",
    "    \n",
    "            def steps(l, n):\n",
    "                return [] if l==[] \\\n",
    "                        else [n, n]+steps(l[1:], n+1)\n",
    "    \n",
    "            return [0, 0]+steps(l, 1)\n",
    "    \n",
    "        x = X(P)\n",
    "        y = Y(P)\n",
    "\n",
    "        ax.set_title(f\"Poisson Process λ={λ:5.3f} n={N:d}\")\n",
    "        ax.set_xlim(min(x), max(x))\n",
    "        ax.set_ylim(min(y), max(y))\n",
    "        ax.yaxis.set_major_locator(\n",
    "            mpl.ticker.MaxNLocator(integer=True))\n",
    "        ax.plot(x, y, lw=3)\n",
    "        ax.plot(x, list(map(lambda x:λ*x, x)))\n",
    "        ax.grid(True)\n",
    "        \n",
    "    return P"
   ]
  },
  {
   "cell_type": "markdown",
   "metadata": {},
   "source": [
    "# Introduction"
   ]
  },
  {
   "cell_type": "markdown",
   "metadata": {},
   "source": [
    "A Poisson Process is a model for a series of discrete event where the average time between events is known, but the exact timing of events is random. "
   ]
  },
  {
   "cell_type": "markdown",
   "metadata": {},
   "source": [
    "## Example 1: Web Server"
   ]
  },
  {
   "cell_type": "markdown",
   "metadata": {},
   "source": [
    "For example, suppose we own a website which our service provider tells us goes down on average once per 60 days, but one failure doesn’t affect the probability of the next. All we know is the average time between failures. This is a Poisson process that looks like:"
   ]
  },
  {
   "cell_type": "code",
   "execution_count": 4,
   "metadata": {
    "ExecuteTime": {
     "end_time": "2020-07-06T22:35:47.295813Z",
     "start_time": "2020-07-06T22:35:47.292541Z"
    }
   },
   "outputs": [],
   "source": [
    "random.seed(41)\n",
    "failure=poissonEvents(λ=1/60, N=10, plot=False)"
   ]
  },
  {
   "cell_type": "markdown",
   "metadata": {},
   "source": [
    "The server breaks down on days:"
   ]
  },
  {
   "cell_type": "code",
   "execution_count": 5,
   "metadata": {
    "ExecuteTime": {
     "end_time": "2020-07-06T22:35:47.641841Z",
     "start_time": "2020-07-06T22:35:47.636545Z"
    }
   },
   "outputs": [
    {
     "data": {
      "text/plain": [
       "[28.781005903690197,\n",
       " 44.51895843092672,\n",
       " 55.41291312348965,\n",
       " 202.5012961804081,\n",
       " 254.25762531280895,\n",
       " 324.55428530760094,\n",
       " 372.8740702157703,\n",
       " 401.90017621449977,\n",
       " 480.82220020908005,\n",
       " 532.3641004498589]"
      ]
     },
     "execution_count": 5,
     "metadata": {},
     "output_type": "execute_result"
    }
   ],
   "source": [
    "failure"
   ]
  },
  {
   "cell_type": "markdown",
   "metadata": {},
   "source": [
    "We normalise this to int:"
   ]
  },
  {
   "cell_type": "code",
   "execution_count": 6,
   "metadata": {
    "ExecuteTime": {
     "end_time": "2020-07-06T22:35:47.988689Z",
     "start_time": "2020-07-06T22:35:47.983892Z"
    }
   },
   "outputs": [
    {
     "data": {
      "text/plain": [
       "[28, 44, 55, 202, 254, 324, 372, 401, 480, 532]"
      ]
     },
     "execution_count": 6,
     "metadata": {},
     "output_type": "execute_result"
    }
   ],
   "source": [
    "list(map(int, failure))"
   ]
  },
  {
   "cell_type": "markdown",
   "metadata": {},
   "source": [
    "The time between crashes (in days) is:"
   ]
  },
  {
   "cell_type": "code",
   "execution_count": 7,
   "metadata": {
    "ExecuteTime": {
     "end_time": "2020-07-06T22:35:48.329211Z",
     "start_time": "2020-07-06T22:35:48.324560Z"
    }
   },
   "outputs": [
    {
     "data": {
      "text/plain": [
       "array([ 15.73795253,  10.89395469, 147.08838306,  51.75632913,\n",
       "        70.29665999,  48.31978491,  29.026106  ,  78.92202399,\n",
       "        51.54190024])"
      ]
     },
     "execution_count": 7,
     "metadata": {},
     "output_type": "execute_result"
    }
   ],
   "source": [
    "np.diff(failure)"
   ]
  },
  {
   "cell_type": "code",
   "execution_count": 8,
   "metadata": {
    "ExecuteTime": {
     "end_time": "2020-07-06T22:35:48.336290Z",
     "start_time": "2020-07-06T22:35:48.331852Z"
    }
   },
   "outputs": [
    {
     "data": {
      "text/plain": [
       "[15, 10, 147, 51, 70, 48, 29, 78, 51]"
      ]
     },
     "execution_count": 8,
     "metadata": {},
     "output_type": "execute_result"
    }
   ],
   "source": [
    "list(map(int, np.diff(failure)))"
   ]
  },
  {
   "cell_type": "markdown",
   "metadata": {},
   "source": [
    "The average time (in days) between failures is:"
   ]
  },
  {
   "cell_type": "code",
   "execution_count": 9,
   "metadata": {
    "ExecuteTime": {
     "end_time": "2020-07-06T22:35:48.670037Z",
     "start_time": "2020-07-06T22:35:48.665726Z"
    }
   },
   "outputs": [
    {
     "data": {
      "text/plain": [
       "55"
      ]
     },
     "execution_count": 9,
     "metadata": {},
     "output_type": "execute_result"
    }
   ],
   "source": [
    "int(np.mean(np.diff(failure)))"
   ]
  },
  {
   "cell_type": "code",
   "execution_count": 10,
   "metadata": {
    "ExecuteTime": {
     "end_time": "2020-07-06T22:35:48.953835Z",
     "start_time": "2020-07-06T22:35:48.672966Z"
    }
   },
   "outputs": [
    {
     "data": {
      "image/png": "[encoded data removed]",
      "text/plain": [
       "<Figure size 720x432 with 1 Axes>"
      ]
     },
     "metadata": {
      "needs_background": "light"
     },
     "output_type": "display_data"
    }
   ],
   "source": [
    "_ = poissonEvents(events=failure, λ=1/60)"
   ]
  },
  {
   "cell_type": "markdown",
   "metadata": {},
   "source": [
    "## Example 2: Flood Events"
   ]
  },
  {
   "cell_type": "markdown",
   "metadata": {},
   "source": [
    "When a flood event is statistically expected once every generation, it can become a \"hundred year\" event, and then suddenly it starts raining badly and it can happen three times in very short sequence..."
   ]
  },
  {
   "cell_type": "code",
   "execution_count": 11,
   "metadata": {
    "ExecuteTime": {
     "end_time": "2020-07-06T22:35:49.590049Z",
     "start_time": "2020-07-06T22:35:49.350334Z"
    }
   },
   "outputs": [
    {
     "data": {
      "text/plain": [
       "[78.10862137857657, 151.93860874856318, 153.3939427349944, 155.61122592224365]"
      ]
     },
     "execution_count": 11,
     "metadata": {},
     "output_type": "execute_result"
    },
    {
     "data": {
      "image/png": "[encoded data removed]",
      "text/plain": [
       "<Figure size 720x432 with 1 Axes>"
      ]
     },
     "metadata": {
      "needs_background": "light"
     },
     "output_type": "display_data"
    }
   ],
   "source": [
    "random.seed(2)\n",
    "floods=poissonEvents(N=4, T=100)\n",
    "floods"
   ]
  },
  {
   "cell_type": "markdown",
   "metadata": {},
   "source": [
    "## Example 3: School Traffic"
   ]
  },
  {
   "cell_type": "markdown",
   "metadata": {},
   "source": [
    "10 minutes to 9a.m. the traffic in front of the school building increases to 5 cars per minute..."
   ]
  },
  {
   "cell_type": "code",
   "execution_count": 12,
   "metadata": {
    "ExecuteTime": {
     "end_time": "2020-07-06T22:35:50.272774Z",
     "start_time": "2020-07-06T22:35:50.025817Z"
    }
   },
   "outputs": [
    {
     "data": {
      "image/png": "[encoded data removed]",
      "text/plain": [
       "<Figure size 720x432 with 1 Axes>"
      ]
     },
     "metadata": {
      "needs_background": "light"
     },
     "output_type": "display_data"
    }
   ],
   "source": [
    "random.seed(41)\n",
    "pp=poissonEvents(λ=5, T=10)"
   ]
  },
  {
   "cell_type": "markdown",
   "metadata": {},
   "source": [
    "## Example 4: Frequent Events"
   ]
  },
  {
   "cell_type": "markdown",
   "metadata": {},
   "source": [
    "For large values of N it becomes apparent that the events are evenly distributed with `λ` events per unit of time."
   ]
  },
  {
   "cell_type": "code",
   "execution_count": 13,
   "metadata": {
    "ExecuteTime": {
     "end_time": "2020-07-06T22:35:50.990505Z",
     "start_time": "2020-07-06T22:35:50.711975Z"
    }
   },
   "outputs": [
    {
     "data": {
      "image/png": "[encoded data removed]",
      "text/plain": [
       "<Figure size 720x432 with 1 Axes>"
      ]
     },
     "metadata": {
      "needs_background": "light"
     },
     "output_type": "display_data"
    }
   ],
   "source": [
    "random.seed(3)\n",
    "pp=poissonEvents(λ=2, N=1000)"
   ]
  },
  {
   "cell_type": "markdown",
   "metadata": {},
   "source": [
    "# Q-Q Plot"
   ]
  },
  {
   "cell_type": "markdown",
   "metadata": {},
   "source": [
    "The Q-Q-Plot is graphical test to check if the quantiles of a given sample follow the same distribution as \n",
    "a given reference distribution. We compare the event times against the uniform distribution:"
   ]
  },
  {
   "cell_type": "code",
   "execution_count": 14,
   "metadata": {
    "ExecuteTime": {
     "end_time": "2020-07-06T22:35:51.429200Z",
     "start_time": "2020-07-06T22:35:51.416869Z"
    }
   },
   "outputs": [],
   "source": [
    "N=5000\n",
    "λ = 2.0\n",
    "\n",
    "random.seed(2)\n",
    "\n",
    "u = [ random.uniform(0, 1) for i in range(N) ]\n",
    "P = list(np.cumsum(list(map(lambda x: -math.log(x)/λ, u))))\n",
    "\n",
    "dp=pd.DataFrame()\n",
    "dp['Data']=pd.Series(P).values"
   ]
  },
  {
   "cell_type": "code",
   "execution_count": 15,
   "metadata": {
    "ExecuteTime": {
     "end_time": "2020-07-06T22:35:51.634380Z",
     "start_time": "2020-07-06T22:35:51.432011Z"
    }
   },
   "outputs": [
    {
     "data": {
      "image/png": "[encoded data removed]",
      "text/plain": [
       "<Figure size 432x288 with 1 Axes>"
      ]
     },
     "metadata": {
      "needs_background": "light"
     },
     "output_type": "display_data"
    }
   ],
   "source": [
    "fig, ax=plt.subplots(1,1)\n",
    "ax.set_xlim(0, 1)\n",
    "ax.set_ylim(0, 1)\n",
    "#fig.set_figwidth(10)\n",
    "#fig.set_figheight(10)\n",
    "sm.qqplot(dp, dist=stats.uniform, fit=True, line='45', ax=ax) \n",
    "plt.show()"
   ]
  },
  {
   "cell_type": "markdown",
   "metadata": {},
   "source": [
    "This demonstrates clearly that the events are evenly distributed."
   ]
  },
  {
   "cell_type": "markdown",
   "metadata": {},
   "source": [
    "# Kolmogorov-Smirnov Test"
   ]
  },
  {
   "cell_type": "markdown",
   "metadata": {},
   "source": [
    "The Kolmogorov-Smirnov Test can be used to check if a given sample is of a given reference distribution \n",
    "[NIST](https://www.itl.nist.gov/div898/handbook/eda/section3/eda35g.htm)\n",
    "[Wikipedia](https://en.wikipedia.org/wiki/Kolmogorov–Smirnov_test)"
   ]
  },
  {
   "cell_type": "code",
   "execution_count": 16,
   "metadata": {
    "ExecuteTime": {
     "end_time": "2020-07-06T22:35:52.516640Z",
     "start_time": "2020-07-06T22:35:52.505343Z"
    }
   },
   "outputs": [],
   "source": [
    "N=1000\n",
    "λ = 2.0\n",
    "\n",
    "random.seed(2)\n",
    "\n",
    "u = [ random.uniform(0, 1) for i in range(N) ]\n",
    "P = list(np.cumsum(list(map(lambda x: -math.log(1-x)/λ, u))))\n",
    "\n",
    "du=pd.DataFrame()\n",
    "du['Data']=pd.Series(sorted(u)).values\n",
    "\n",
    "dp=pd.DataFrame()\n",
    "dp['Data']=pd.Series(P).values"
   ]
  },
  {
   "cell_type": "markdown",
   "metadata": {},
   "source": [
    "The Kolmogorov-Smirnov-Test for goodness of fit \n",
    "[scipy.stats.kstest](https://docs.scipy.org/doc/scipy-0.14.0/reference/generated/scipy.stats.kstest.html)\n",
    "compares an observed random variable against a reference distribution:"
   ]
  },
  {
   "cell_type": "markdown",
   "metadata": {},
   "source": [
    "The experimental data `du` fit the uniform distribution:"
   ]
  },
  {
   "cell_type": "code",
   "execution_count": 17,
   "metadata": {
    "ExecuteTime": {
     "end_time": "2020-07-06T22:35:53.226971Z",
     "start_time": "2020-07-06T22:35:53.221426Z"
    }
   },
   "outputs": [
    {
     "data": {
      "text/plain": [
       "KstestResult(statistic=0.02491111175080929, pvalue=0.5641819462003694)"
      ]
     },
     "execution_count": 17,
     "metadata": {},
     "output_type": "execute_result"
    }
   ],
   "source": [
    "stats.kstest(du['Data'], 'uniform')"
   ]
  },
  {
   "cell_type": "markdown",
   "metadata": {},
   "source": [
    "However the event times `dp` do not fit the uniform distribution:"
   ]
  },
  {
   "cell_type": "code",
   "execution_count": 18,
   "metadata": {
    "ExecuteTime": {
     "end_time": "2020-07-06T22:35:53.604572Z",
     "start_time": "2020-07-06T22:35:53.598511Z"
    }
   },
   "outputs": [
    {
     "data": {
      "text/plain": [
       "KstestResult(statistic=1.0, pvalue=0.0)"
      ]
     },
     "execution_count": 18,
     "metadata": {},
     "output_type": "execute_result"
    }
   ],
   "source": [
    "stats.kstest(dp['Data'], 'uniform')"
   ]
  },
  {
   "cell_type": "markdown",
   "metadata": {},
   "source": [
    "The two-sample Kolmogoroc-Smirnov test \n",
    "[scipy,stats.ks_2samp](https://docs.scipy.org/doc/scipy-0.14.0/reference/generated/scipy.stats.ks_2samp.html)\n",
    "indicates clearly that the two samples are of different distributions:"
   ]
  },
  {
   "cell_type": "code",
   "execution_count": 19,
   "metadata": {
    "ExecuteTime": {
     "end_time": "2020-07-06T22:35:53.968891Z",
     "start_time": "2020-07-06T22:35:53.962739Z"
    }
   },
   "outputs": [
    {
     "data": {
      "text/plain": [
       "Ks_2sampResult(statistic=1.0, pvalue=0.0)"
      ]
     },
     "execution_count": 19,
     "metadata": {},
     "output_type": "execute_result"
    }
   ],
   "source": [
    "stats.ks_2samp(du['Data'], dp['Data'])"
   ]
  },
  {
   "cell_type": "markdown",
   "metadata": {},
   "source": [
    "# The Poisson Distribution"
   ]
  },
  {
   "cell_type": "markdown",
   "metadata": {},
   "source": [
    "The Poisson Distribution is used to describe the probability of a number of events in a time period.\n",
    "The Poisson Distribution probability mass function (PMF) gives the probability of observing k events in a \n",
    "time period given the length of the period and the average number of events per unit of time.\n",
    "\n",
    "We will now simulate the event times of our Poison Point Process and compute the PMF."
   ]
  },
  {
   "cell_type": "markdown",
   "metadata": {},
   "source": [
    "## Simulating the Poisson Distribution"
   ]
  },
  {
   "cell_type": "markdown",
   "metadata": {},
   "source": [
    "For every single simulation run we extract the statistic we are interested in. When we run the simulation of a Poisson Point Process, the statistics is a vector that gives us the number of time units in which there where 0, 1, 2, etc. events in one time unit."
   ]
  },
  {
   "cell_type": "code",
   "execution_count": 20,
   "metadata": {
    "ExecuteTime": {
     "end_time": "2020-07-06T22:35:55.394940Z",
     "start_time": "2020-07-06T22:35:55.389102Z"
    }
   },
   "outputs": [],
   "source": [
    "def stat(events, n):\n",
    "    stats=np.zeros(n, dtype=int)\n",
    "    unit=0\n",
    "    count=0\n",
    "    for t in events:\n",
    "        while math.floor(t)>unit:\n",
    "            stats[count if count<len(stats) else -1]+=1\n",
    "            count=0\n",
    "            unit+=1\n",
    "        if math.floor(t)==unit:\n",
    "            count+=1\n",
    "    if count>0:\n",
    "        stats[count if count<len(stats) else -1]+=1\n",
    "    return stats     "
   ]
  },
  {
   "cell_type": "markdown",
   "metadata": {},
   "source": [
    "Example:"
   ]
  },
  {
   "cell_type": "code",
   "execution_count": 21,
   "metadata": {
    "ExecuteTime": {
     "end_time": "2020-07-06T22:35:55.740473Z",
     "start_time": "2020-07-06T22:35:55.735968Z"
    }
   },
   "outputs": [
    {
     "data": {
      "text/plain": [
       "array([1, 2, 1, 1, 0])"
      ]
     },
     "execution_count": 21,
     "metadata": {},
     "output_type": "execute_result"
    }
   ],
   "source": [
    "s=stat( [0.3, 0.7, 0.9, 1.2, 1.5, 2.1, 4.3], 5)\n",
    "s"
   ]
  },
  {
   "cell_type": "markdown",
   "metadata": {},
   "source": [
    "- `s[0]=1`  means there was 1 time unit with 0 events (this was unit 3). \n",
    "- `s[1]=2` means there were 2 time units with 1 event (this were units 2 and 4). \n",
    "- `s[2]=1` means there was 1 time unit with 2 events (this was unit 1)\n",
    "- `s[3]=1` means there was 1 time unit with 3 events (this was unit 0)\n",
    "- `s[4]=0` means there was no time unit with 4 or more events."
   ]
  },
  {
   "cell_type": "markdown",
   "metadata": {},
   "source": [
    "The key step is then to run a number of experiments, to record the statistics of \n",
    "each of the single simulation runs and to compute the cummulative statistics across all the experiments."
   ]
  },
  {
   "cell_type": "markdown",
   "metadata": {},
   "source": [
    "## Test Runs"
   ]
  },
  {
   "cell_type": "markdown",
   "metadata": {},
   "source": [
    "When you write a simulation from scratch yourself, it is good practice first to record for each simulation run\n",
    "the events and the statistics in a dataframe and to check the actual calculations."
   ]
  },
  {
   "cell_type": "code",
   "execution_count": 22,
   "metadata": {
    "ExecuteTime": {
     "end_time": "2020-07-06T22:35:57.130196Z",
     "start_time": "2020-07-06T22:35:57.109482Z"
    }
   },
   "outputs": [
    {
     "name": "stdout",
     "output_type": "stream",
     "text": [
      "[7, 19, 11, 12, 3, 1, 1, 0, 0, 0]\n",
      "100\n",
      "100\n"
     ]
    }
   ],
   "source": [
    "import pandas as pd \n",
    "\n",
    "random.seed(1)\n",
    "experiments=5\n",
    "total=0\n",
    "cum=np.zeros(10, dtype=int)\n",
    "# create a dataframe to store the events\n",
    "de=pd.DataFrame()\n",
    "# create a dataframe to store the statistics\n",
    "ds=pd.DataFrame()\n",
    "for i in range(experiments):\n",
    "    events=poissonEvents(λ=2, T=10, plot=False)\n",
    "    de[f\"Exp{i:d}\"]=pd.Series(events).values\n",
    "    s=stat(events, 10)\n",
    "    ds[f\"Exp{i:d}\"]=pd.Series(s).values\n",
    "    cum+=s\n",
    "    total+=len(events)\n",
    "ds['Sum'] = ds.iloc[:,0:experiments].sum(axis=1)  \n",
    "print(list(cum))\n",
    "print(total)\n",
    "t=0\n",
    "for i in range(len(cum)):\n",
    "    t+=i*cum[i]\n",
    "print(t)"
   ]
  },
  {
   "cell_type": "code",
   "execution_count": 23,
   "metadata": {
    "ExecuteTime": {
     "end_time": "2020-07-06T22:35:57.146234Z",
     "start_time": "2020-07-06T22:35:57.132625Z"
    }
   },
   "outputs": [
    {
     "data": {
      "text/html": [
       "<div>\n",
       "<style scoped>\n",
       "    .dataframe tbody tr th:only-of-type {\n",
       "        vertical-align: middle;\n",
       "    }\n",
       "\n",
       "    .dataframe tbody tr th {\n",
       "        vertical-align: top;\n",
       "    }\n",
       "\n",
       "    .dataframe thead th {\n",
       "        text-align: right;\n",
       "    }\n",
       "</style>\n",
       "<table border=\"1\" class=\"dataframe\">\n",
       "  <thead>\n",
       "    <tr style=\"text-align: right;\">\n",
       "      <th></th>\n",
       "      <th>Exp0</th>\n",
       "      <th>Exp1</th>\n",
       "      <th>Exp2</th>\n",
       "      <th>Exp3</th>\n",
       "      <th>Exp4</th>\n",
       "    </tr>\n",
       "  </thead>\n",
       "  <tbody>\n",
       "    <tr>\n",
       "      <th>0</th>\n",
       "      <td>0.072146</td>\n",
       "      <td>0.012888</td>\n",
       "      <td>2.449329</td>\n",
       "      <td>0.094980</td>\n",
       "      <td>0.735977</td>\n",
       "    </tr>\n",
       "    <tr>\n",
       "      <th>1</th>\n",
       "      <td>1.012224</td>\n",
       "      <td>0.402690</td>\n",
       "      <td>3.432194</td>\n",
       "      <td>0.492901</td>\n",
       "      <td>1.123825</td>\n",
       "    </tr>\n",
       "    <tr>\n",
       "      <th>2</th>\n",
       "      <td>1.733708</td>\n",
       "      <td>1.802355</td>\n",
       "      <td>3.496617</td>\n",
       "      <td>1.099981</td>\n",
       "      <td>2.107918</td>\n",
       "    </tr>\n",
       "    <tr>\n",
       "      <th>3</th>\n",
       "      <td>1.880940</td>\n",
       "      <td>2.042345</td>\n",
       "      <td>3.698871</td>\n",
       "      <td>1.661156</td>\n",
       "      <td>2.240015</td>\n",
       "    </tr>\n",
       "    <tr>\n",
       "      <th>4</th>\n",
       "      <td>2.222969</td>\n",
       "      <td>2.164400</td>\n",
       "      <td>4.338012</td>\n",
       "      <td>1.895920</td>\n",
       "      <td>2.600554</td>\n",
       "    </tr>\n",
       "    <tr>\n",
       "      <th>5</th>\n",
       "      <td>2.521425</td>\n",
       "      <td>2.438592</td>\n",
       "      <td>4.959008</td>\n",
       "      <td>2.184903</td>\n",
       "      <td>4.123723</td>\n",
       "    </tr>\n",
       "    <tr>\n",
       "      <th>6</th>\n",
       "      <td>3.048617</td>\n",
       "      <td>2.453327</td>\n",
       "      <td>6.336898</td>\n",
       "      <td>2.539975</td>\n",
       "      <td>4.554855</td>\n",
       "    </tr>\n",
       "    <tr>\n",
       "      <th>7</th>\n",
       "      <td>3.825911</td>\n",
       "      <td>2.578643</td>\n",
       "      <td>6.611081</td>\n",
       "      <td>3.293512</td>\n",
       "      <td>4.862145</td>\n",
       "    </tr>\n",
       "    <tr>\n",
       "      <th>8</th>\n",
       "      <td>3.875191</td>\n",
       "      <td>2.866670</td>\n",
       "      <td>7.497165</td>\n",
       "      <td>3.661475</td>\n",
       "      <td>5.019007</td>\n",
       "    </tr>\n",
       "    <tr>\n",
       "      <th>9</th>\n",
       "      <td>3.889570</td>\n",
       "      <td>3.209073</td>\n",
       "      <td>8.051959</td>\n",
       "      <td>3.911298</td>\n",
       "      <td>5.416040</td>\n",
       "    </tr>\n",
       "    <tr>\n",
       "      <th>10</th>\n",
       "      <td>4.792799</td>\n",
       "      <td>3.341763</td>\n",
       "      <td>8.232708</td>\n",
       "      <td>4.247670</td>\n",
       "      <td>6.990671</td>\n",
       "    </tr>\n",
       "    <tr>\n",
       "      <th>11</th>\n",
       "      <td>5.076291</td>\n",
       "      <td>3.473008</td>\n",
       "      <td>8.675566</td>\n",
       "      <td>4.262680</td>\n",
       "      <td>6.993534</td>\n",
       "    </tr>\n",
       "    <tr>\n",
       "      <th>12</th>\n",
       "      <td>5.794622</td>\n",
       "      <td>3.596458</td>\n",
       "      <td>9.746135</td>\n",
       "      <td>4.284911</td>\n",
       "      <td>7.758975</td>\n",
       "    </tr>\n",
       "    <tr>\n",
       "      <th>13</th>\n",
       "      <td>5.795676</td>\n",
       "      <td>3.904184</td>\n",
       "      <td>10.682177</td>\n",
       "      <td>4.892566</td>\n",
       "      <td>8.617726</td>\n",
       "    </tr>\n",
       "    <tr>\n",
       "      <th>14</th>\n",
       "      <td>6.090419</td>\n",
       "      <td>4.075275</td>\n",
       "      <td>11.034063</td>\n",
       "      <td>6.935389</td>\n",
       "      <td>9.704292</td>\n",
       "    </tr>\n",
       "    <tr>\n",
       "      <th>15</th>\n",
       "      <td>6.729659</td>\n",
       "      <td>4.086137</td>\n",
       "      <td>11.478647</td>\n",
       "      <td>7.385086</td>\n",
       "      <td>10.378798</td>\n",
       "    </tr>\n",
       "    <tr>\n",
       "      <th>16</th>\n",
       "      <td>6.859539</td>\n",
       "      <td>4.994916</td>\n",
       "      <td>11.496215</td>\n",
       "      <td>7.635193</td>\n",
       "      <td>11.206905</td>\n",
       "    </tr>\n",
       "    <tr>\n",
       "      <th>17</th>\n",
       "      <td>8.312217</td>\n",
       "      <td>5.401393</td>\n",
       "      <td>11.635239</td>\n",
       "      <td>7.728569</td>\n",
       "      <td>11.572515</td>\n",
       "    </tr>\n",
       "    <tr>\n",
       "      <th>18</th>\n",
       "      <td>9.470698</td>\n",
       "      <td>5.915416</td>\n",
       "      <td>12.433510</td>\n",
       "      <td>8.077386</td>\n",
       "      <td>11.984551</td>\n",
       "    </tr>\n",
       "    <tr>\n",
       "      <th>19</th>\n",
       "      <td>9.486232</td>\n",
       "      <td>6.018255</td>\n",
       "      <td>12.700996</td>\n",
       "      <td>10.088211</td>\n",
       "      <td>12.262193</td>\n",
       "    </tr>\n",
       "  </tbody>\n",
       "</table>\n",
       "</div>"
      ],
      "text/plain": [
       "        Exp0      Exp1       Exp2       Exp3       Exp4\n",
       "0   0.072146  0.012888   2.449329   0.094980   0.735977\n",
       "1   1.012224  0.402690   3.432194   0.492901   1.123825\n",
       "2   1.733708  1.802355   3.496617   1.099981   2.107918\n",
       "3   1.880940  2.042345   3.698871   1.661156   2.240015\n",
       "4   2.222969  2.164400   4.338012   1.895920   2.600554\n",
       "5   2.521425  2.438592   4.959008   2.184903   4.123723\n",
       "6   3.048617  2.453327   6.336898   2.539975   4.554855\n",
       "7   3.825911  2.578643   6.611081   3.293512   4.862145\n",
       "8   3.875191  2.866670   7.497165   3.661475   5.019007\n",
       "9   3.889570  3.209073   8.051959   3.911298   5.416040\n",
       "10  4.792799  3.341763   8.232708   4.247670   6.990671\n",
       "11  5.076291  3.473008   8.675566   4.262680   6.993534\n",
       "12  5.794622  3.596458   9.746135   4.284911   7.758975\n",
       "13  5.795676  3.904184  10.682177   4.892566   8.617726\n",
       "14  6.090419  4.075275  11.034063   6.935389   9.704292\n",
       "15  6.729659  4.086137  11.478647   7.385086  10.378798\n",
       "16  6.859539  4.994916  11.496215   7.635193  11.206905\n",
       "17  8.312217  5.401393  11.635239   7.728569  11.572515\n",
       "18  9.470698  5.915416  12.433510   8.077386  11.984551\n",
       "19  9.486232  6.018255  12.700996  10.088211  12.262193"
      ]
     },
     "execution_count": 23,
     "metadata": {},
     "output_type": "execute_result"
    }
   ],
   "source": [
    "de"
   ]
  },
  {
   "cell_type": "code",
   "execution_count": 24,
   "metadata": {
    "ExecuteTime": {
     "end_time": "2020-07-06T22:35:57.159111Z",
     "start_time": "2020-07-06T22:35:57.149079Z"
    }
   },
   "outputs": [
    {
     "data": {
      "text/html": [
       "<div>\n",
       "<style scoped>\n",
       "    .dataframe tbody tr th:only-of-type {\n",
       "        vertical-align: middle;\n",
       "    }\n",
       "\n",
       "    .dataframe tbody tr th {\n",
       "        vertical-align: top;\n",
       "    }\n",
       "\n",
       "    .dataframe thead th {\n",
       "        text-align: right;\n",
       "    }\n",
       "</style>\n",
       "<table border=\"1\" class=\"dataframe\">\n",
       "  <thead>\n",
       "    <tr style=\"text-align: right;\">\n",
       "      <th></th>\n",
       "      <th>Exp0</th>\n",
       "      <th>Exp1</th>\n",
       "      <th>Exp2</th>\n",
       "      <th>Exp3</th>\n",
       "      <th>Exp4</th>\n",
       "      <th>Sum</th>\n",
       "    </tr>\n",
       "  </thead>\n",
       "  <tbody>\n",
       "    <tr>\n",
       "      <th>0</th>\n",
       "      <td>1</td>\n",
       "      <td>0</td>\n",
       "      <td>3</td>\n",
       "      <td>2</td>\n",
       "      <td>1</td>\n",
       "      <td>7</td>\n",
       "    </tr>\n",
       "    <tr>\n",
       "      <th>1</th>\n",
       "      <td>3</td>\n",
       "      <td>2</td>\n",
       "      <td>4</td>\n",
       "      <td>3</td>\n",
       "      <td>7</td>\n",
       "      <td>19</td>\n",
       "    </tr>\n",
       "    <tr>\n",
       "      <th>2</th>\n",
       "      <td>2</td>\n",
       "      <td>2</td>\n",
       "      <td>3</td>\n",
       "      <td>2</td>\n",
       "      <td>2</td>\n",
       "      <td>11</td>\n",
       "    </tr>\n",
       "    <tr>\n",
       "      <th>3</th>\n",
       "      <td>3</td>\n",
       "      <td>1</td>\n",
       "      <td>2</td>\n",
       "      <td>3</td>\n",
       "      <td>3</td>\n",
       "      <td>12</td>\n",
       "    </tr>\n",
       "    <tr>\n",
       "      <th>4</th>\n",
       "      <td>1</td>\n",
       "      <td>0</td>\n",
       "      <td>1</td>\n",
       "      <td>1</td>\n",
       "      <td>0</td>\n",
       "      <td>3</td>\n",
       "    </tr>\n",
       "    <tr>\n",
       "      <th>5</th>\n",
       "      <td>0</td>\n",
       "      <td>1</td>\n",
       "      <td>0</td>\n",
       "      <td>0</td>\n",
       "      <td>0</td>\n",
       "      <td>1</td>\n",
       "    </tr>\n",
       "    <tr>\n",
       "      <th>6</th>\n",
       "      <td>0</td>\n",
       "      <td>1</td>\n",
       "      <td>0</td>\n",
       "      <td>0</td>\n",
       "      <td>0</td>\n",
       "      <td>1</td>\n",
       "    </tr>\n",
       "    <tr>\n",
       "      <th>7</th>\n",
       "      <td>0</td>\n",
       "      <td>0</td>\n",
       "      <td>0</td>\n",
       "      <td>0</td>\n",
       "      <td>0</td>\n",
       "      <td>0</td>\n",
       "    </tr>\n",
       "    <tr>\n",
       "      <th>8</th>\n",
       "      <td>0</td>\n",
       "      <td>0</td>\n",
       "      <td>0</td>\n",
       "      <td>0</td>\n",
       "      <td>0</td>\n",
       "      <td>0</td>\n",
       "    </tr>\n",
       "    <tr>\n",
       "      <th>9</th>\n",
       "      <td>0</td>\n",
       "      <td>0</td>\n",
       "      <td>0</td>\n",
       "      <td>0</td>\n",
       "      <td>0</td>\n",
       "      <td>0</td>\n",
       "    </tr>\n",
       "  </tbody>\n",
       "</table>\n",
       "</div>"
      ],
      "text/plain": [
       "   Exp0  Exp1  Exp2  Exp3  Exp4  Sum\n",
       "0     1     0     3     2     1    7\n",
       "1     3     2     4     3     7   19\n",
       "2     2     2     3     2     2   11\n",
       "3     3     1     2     3     3   12\n",
       "4     1     0     1     1     0    3\n",
       "5     0     1     0     0     0    1\n",
       "6     0     1     0     0     0    1\n",
       "7     0     0     0     0     0    0\n",
       "8     0     0     0     0     0    0\n",
       "9     0     0     0     0     0    0"
      ]
     },
     "execution_count": 24,
     "metadata": {},
     "output_type": "execute_result"
    }
   ],
   "source": [
    "ds"
   ]
  },
  {
   "cell_type": "markdown",
   "metadata": {},
   "source": [
    "Once we are satisfied with the outcome, we can remove all the dataframe handling only keeping the cumulative statistics, which would allow us to increase the number of experiments."
   ]
  },
  {
   "cell_type": "code",
   "execution_count": 25,
   "metadata": {
    "ExecuteTime": {
     "end_time": "2020-07-06T22:35:57.684329Z",
     "start_time": "2020-07-06T22:35:57.679188Z"
    }
   },
   "outputs": [],
   "source": [
    "def poissonSimulation(λ, T=10, K=10, N=1000):\n",
    "    cum=np.zeros(K, dtype=int)\n",
    "    for i in range(N):\n",
    "        events=poissonEvents(λ, T=T, plot=False)\n",
    "        s=stat(events, K)\n",
    "        cum+=s\n",
    "    return list(cum/sum(cum))"
   ]
  },
  {
   "cell_type": "markdown",
   "metadata": {},
   "source": [
    "Again as cross check, we run the same small experiment again using the same seed value:"
   ]
  },
  {
   "cell_type": "code",
   "execution_count": 26,
   "metadata": {
    "ExecuteTime": {
     "end_time": "2020-07-06T22:35:58.660923Z",
     "start_time": "2020-07-06T22:35:58.041811Z"
    }
   },
   "outputs": [
    {
     "data": {
      "text/plain": [
       "[0.3678202260477124,\n",
       " 0.3754569730890888,\n",
       " 0.18164126011253115,\n",
       " 0.05772395376565533,\n",
       " 0.014002345220381738,\n",
       " 0.0027393750677453367,\n",
       " 0.0005518165604091325,\n",
       " 5.4196269325896946e-05,\n",
       " 9.853867150163082e-06,\n",
       " 0.0]"
      ]
     },
     "execution_count": 26,
     "metadata": {},
     "output_type": "execute_result"
    }
   ],
   "source": [
    "random.seed(1)\n",
    "poissonSimulation(1.0, T=40, K=10, N=5000)"
   ]
  },
  {
   "cell_type": "code",
   "execution_count": 27,
   "metadata": {
    "ExecuteTime": {
     "end_time": "2020-07-06T22:35:59.559582Z",
     "start_time": "2020-07-06T22:35:58.663182Z"
    }
   },
   "outputs": [
    {
     "data": {
      "text/plain": [
       "[0.13649923326117935,\n",
       " 0.27820538738800926,\n",
       " 0.27092260129088247,\n",
       " 0.17673453085938848,\n",
       " 0.08747725670218484,\n",
       " 0.0342345185323978,\n",
       " 0.011750087521633869,\n",
       " 0.0031951559857401374,\n",
       " 0.000749481033692131,\n",
       " 0.00023174742489164574]"
      ]
     },
     "execution_count": 27,
     "metadata": {},
     "output_type": "execute_result"
    }
   ],
   "source": [
    "random.seed(1)\n",
    "poissonSimulation(2.0, T=40, K=10, N=5000)"
   ]
  },
  {
   "cell_type": "markdown",
   "metadata": {},
   "source": [
    "Now we have everything together to do a few more simulation runs for the Poisson Distribution, which we can compare with the [table](https://castle.eiu.edu/~aalvarado2/levine-smume6_topic_POIS.pdf):"
   ]
  },
  {
   "cell_type": "code",
   "execution_count": 28,
   "metadata": {
    "ExecuteTime": {
     "end_time": "2020-07-06T22:36:00.233095Z",
     "start_time": "2020-07-06T22:35:59.562507Z"
    }
   },
   "outputs": [
    {
     "name": "stdout",
     "output_type": "stream",
     "text": [
      "λ=1.000: sum=1.00 0.3682 0.3830 0.1768 0.0552 0.0135 0.0029 0.0002 0.0001 0.0000 0.0000\n",
      "λ=2.000: sum=1.00 0.1291 0.2775 0.2795 0.1781 0.0845 0.0357 0.0121 0.0030 0.0005 0.0001\n",
      "λ=3.000: sum=1.00 0.0484 0.1643 0.2295 0.2238 0.1620 0.0945 0.0458 0.0195 0.0088 0.0034\n",
      "λ=4.000: sum=1.00 0.0186 0.0854 0.1542 0.1956 0.1939 0.1519 0.0985 0.0566 0.0281 0.0173\n",
      "λ=5.000: sum=1.00 0.0057 0.0431 0.0923 0.1411 0.1795 0.1768 0.1402 0.1015 0.0590 0.0608\n"
     ]
    }
   ],
   "source": [
    "for λ in range(1, 6):\n",
    "    s=poissonSimulation(λ, T=20, K=10, N=1000)\n",
    "    print(f\"λ={λ:5.3f}: sum={sum(s):3.2f}\", end='')\n",
    "    for i in range(10):\n",
    "        print(f\"{s[i]:7.4f}\", end='')\n",
    "    print()"
   ]
  },
  {
   "cell_type": "code",
   "execution_count": 29,
   "metadata": {
    "ExecuteTime": {
     "end_time": "2020-07-06T22:36:00.554295Z",
     "start_time": "2020-07-06T22:36:00.236258Z"
    }
   },
   "outputs": [
    {
     "name": "stdout",
     "output_type": "stream",
     "text": [
      "λ=1.000: sum=1.00 0.3744 0.3791 0.1729 0.0561 0.0147 0.0021 0.0006 0.0000 0.0000 0.0000\n",
      "λ=0.500: sum=1.00 0.6069 0.3121 0.0706 0.0094 0.0008 0.0002 0.0000 0.0000 0.0000 0.0000\n",
      "λ=0.333: sum=1.00 0.7183 0.2454 0.0329 0.0034 0.0001 0.0000 0.0000 0.0000 0.0000 0.0000\n",
      "λ=0.250: sum=1.00 0.7806 0.1978 0.0200 0.0016 0.0001 0.0000 0.0000 0.0000 0.0000 0.0000\n",
      "λ=0.200: sum=1.00 0.8165 0.1722 0.0107 0.0005 0.0000 0.0000 0.0000 0.0000 0.0000 0.0000\n"
     ]
    }
   ],
   "source": [
    "for λ in range(1, 6):\n",
    "    s=poissonSimulation(1/λ, T=20, K=10, N=1000)\n",
    "    print(f\"λ={1/λ:5.3f}: sum={sum(s):3.2f}\", end='')\n",
    "    for i in range(10):\n",
    "        print(f\"{s[i]:7.4f}\", end='')\n",
    "    print()"
   ]
  },
  {
   "cell_type": "markdown",
   "metadata": {},
   "source": [
    "## Visualisation the Results of the Simulation"
   ]
  },
  {
   "cell_type": "markdown",
   "metadata": {},
   "source": [
    "We contrast the sample PMF with the PMF of the Poisson Distribution.\n",
    "Let $T$ be the length of a time period and $ \\lambda $ the average number of events per unit of time, then\n",
    "P($k$ events in time period $T$) = $ e^{-\\lambda T} \\frac{{\\lambda T}^k}{k!} $\n",
    "\n",
    "Why? Lets start with some simulation:"
   ]
  },
  {
   "cell_type": "code",
   "execution_count": 30,
   "metadata": {
    "ExecuteTime": {
     "end_time": "2020-07-06T22:47:28.903345Z",
     "start_time": "2020-07-06T22:47:28.891696Z"
    }
   },
   "outputs": [],
   "source": [
    "def PMF(λ, K=10, T=20, N=10000, width=8, height=6):\n",
    "    s=poissonSimulation(λ, T=T, K=K, N=N)\n",
    "    fig, ax=plt.subplots(1,1)\n",
    "    fig.set_figwidth(width)\n",
    "    fig.set_figheight(height)\n",
    "    x=np.arange(len(s))\n",
    "    y=np.array(s)\n",
    "    ax.set_xlim(-0.5, len(s)-0.5)\n",
    "    ax.set_xlabel('k')\n",
    "    ax.xaxis.set_major_locator(mpl.ticker.MaxNLocator(integer=True))\n",
    "    ymax=1 if λ<1 else 0.5 # 1.2*max(s)\n",
    "    ax.set_ylim(0, ymax)\n",
    "    plt.text(0.03*len(s),0.9*ymax,f'λ={λ:2.3f}', color='red', fontsize=18)\n",
    "    for i in range(len(s)):\n",
    "        ax.bar(x=i, bottom=0, height=s[i], width=0.5, color='blue')\n",
    "    poisson=stats.poisson(λ)\n",
    "    p=[ poisson.pmf(i) for i in range(len(s)) ]\n",
    "    plt.plot(x, p, color='red', lw=2, marker='o')\n",
    "    ax.grid(True)\n",
    "    return p"
   ]
  },
  {
   "cell_type": "code",
   "execution_count": 31,
   "metadata": {
    "ExecuteTime": {
     "end_time": "2020-07-06T22:47:40.646379Z",
     "start_time": "2020-07-06T22:47:40.428623Z"
    }
   },
   "outputs": [
    {
     "data": {
      "image/png": "[encoded data removed]",
      "text/plain": [
       "<Figure size 288x288 with 1 Axes>"
      ]
     },
     "metadata": {
      "needs_background": "light"
     },
     "output_type": "display_data"
    }
   ],
   "source": [
    "_ = PMF(λ=1, K=10, N=100, width=4, height=4)"
   ]
  },
  {
   "cell_type": "code",
   "execution_count": 32,
   "metadata": {
    "ExecuteTime": {
     "end_time": "2020-07-06T22:48:05.795744Z",
     "start_time": "2020-07-06T22:47:42.420923Z"
    }
   },
   "outputs": [
    {
     "data": {
      "image/png": "[encoded data removed]",
      "text/plain": [
       "<Figure size 576x288 with 1 Axes>"
      ]
     },
     "metadata": {
      "needs_background": "light"
     },
     "output_type": "display_data"
    },
    {
     "data": {
      "image/png": "[encoded data removed]",
      "text/plain": [
       "<Figure size 576x288 with 1 Axes>"
      ]
     },
     "metadata": {
      "needs_background": "light"
     },
     "output_type": "display_data"
    },
    {
     "data": {
      "image/png": "[encoded data removed]",
      "text/plain": [
       "<Figure size 576x288 with 1 Axes>"
      ]
     },
     "metadata": {
      "needs_background": "light"
     },
     "output_type": "display_data"
    },
    {
     "data": {
      "image/png": "[encoded data removed]",
      "text/plain": [
       "<Figure size 576x288 with 1 Axes>"
      ]
     },
     "metadata": {
      "needs_background": "light"
     },
     "output_type": "display_data"
    },
    {
     "data": {
      "image/png": "[encoded data removed]",
      "text/plain": [
       "<Figure size 576x288 with 1 Axes>"
      ]
     },
     "metadata": {
      "needs_background": "light"
     },
     "output_type": "display_data"
    },
    {
     "data": {
      "image/png": "[encoded data removed]",
      "text/plain": [
       "<Figure size 576x288 with 1 Axes>"
      ]
     },
     "metadata": {
      "needs_background": "light"
     },
     "output_type": "display_data"
    },
    {
     "data": {
      "image/png": "[encoded data removed]",
      "text/plain": [
       "<Figure size 576x288 with 1 Axes>"
      ]
     },
     "metadata": {
      "needs_background": "light"
     },
     "output_type": "display_data"
    },
    {
     "data": {
      "image/png": "[encoded data removed]",
      "text/plain": [
       "<Figure size 576x288 with 1 Axes>"
      ]
     },
     "metadata": {
      "needs_background": "light"
     },
     "output_type": "display_data"
    },
    {
     "data": {
      "image/png": "[encoded data removed]",
      "text/plain": [
       "<Figure size 576x288 with 1 Axes>"
      ]
     },
     "metadata": {
      "needs_background": "light"
     },
     "output_type": "display_data"
    },
    {
     "data": {
      "image/png": "[encoded data removed]",
      "text/plain": [
       "<Figure size 576x288 with 1 Axes>"
      ]
     },
     "metadata": {
      "needs_background": "light"
     },
     "output_type": "display_data"
    }
   ],
   "source": [
    "for i in range(1,11):\n",
    "    PMF(λ=i, K=20, height=4, width=8)"
   ]
  },
  {
   "cell_type": "code",
   "execution_count": 33,
   "metadata": {
    "ExecuteTime": {
     "end_time": "2020-07-06T22:42:37.466476Z",
     "start_time": "2020-07-06T22:42:34.403376Z"
    }
   },
   "outputs": [
    {
     "data": {
      "image/png": "[encoded data removed]",
      "text/plain": [
       "<Figure size 144x288 with 1 Axes>"
      ]
     },
     "metadata": {
      "needs_background": "light"
     },
     "output_type": "display_data"
    },
    {
     "data": {
      "image/png": "[encoded data removed]",
      "text/plain": [
       "<Figure size 144x288 with 1 Axes>"
      ]
     },
     "metadata": {
      "needs_background": "light"
     },
     "output_type": "display_data"
    },
    {
     "data": {
      "image/png": "[encoded data removed]",
      "text/plain": [
       "<Figure size 144x288 with 1 Axes>"
      ]
     },
     "metadata": {
      "needs_background": "light"
     },
     "output_type": "display_data"
    },
    {
     "data": {
      "image/png": "[encoded data removed]",
      "text/plain": [
       "<Figure size 144x288 with 1 Axes>"
      ]
     },
     "metadata": {
      "needs_background": "light"
     },
     "output_type": "display_data"
    }
   ],
   "source": [
    "for i in range(2,6):\n",
    "     PMF(λ=1/i, K=5, height=4, width=2)"
   ]
  },
  {
   "cell_type": "markdown",
   "metadata": {},
   "source": [
    "# Impact of Unit of Measurements"
   ]
  },
  {
   "cell_type": "markdown",
   "metadata": {},
   "source": [
    "## Measuring Meteor showers in minutes"
   ]
  },
  {
   "cell_type": "code",
   "execution_count": 34,
   "metadata": {
    "ExecuteTime": {
     "end_time": "2020-07-06T22:48:49.547805Z",
     "start_time": "2020-07-06T22:48:48.956205Z"
    }
   },
   "outputs": [
    {
     "data": {
      "text/plain": [
       "[0.9200444146293233,\n",
       " 0.07667036788577693,\n",
       " 0.003194598661907373,\n",
       " 8.873885171964917e-05,\n",
       " 1.8487260774926916e-06]"
      ]
     },
     "execution_count": 34,
     "metadata": {},
     "output_type": "execute_result"
    },
    {
     "data": {
      "image/png": "[encoded data removed]",
      "text/plain": [
       "<Figure size 144x288 with 1 Axes>"
      ]
     },
     "metadata": {
      "needs_background": "light"
     },
     "output_type": "display_data"
    }
   ],
   "source": [
    "PMF(λ=1/12, K=5, height=4, width=2)"
   ]
  },
  {
   "cell_type": "markdown",
   "metadata": {},
   "source": [
    "## Measuring Meteor showers in hours"
   ]
  },
  {
   "cell_type": "code",
   "execution_count": 35,
   "metadata": {
    "ExecuteTime": {
     "end_time": "2020-07-06T22:49:23.366313Z",
     "start_time": "2020-07-06T22:49:21.286306Z"
    }
   },
   "outputs": [
    {
     "data": {
      "text/plain": [
       "[0.006737946999085467,\n",
       " 0.03368973499542734,\n",
       " 0.08422433748856832,\n",
       " 0.1403738958142805,\n",
       " 0.17546736976785063,\n",
       " 0.17546736976785068,\n",
       " 0.1462228081398754,\n",
       " 0.10444486295705395,\n",
       " 0.06527803934815865,\n",
       " 0.036265577415643714,\n",
       " 0.018132788707821854,\n",
       " 0.008242176685373562,\n",
       " 0.0034342402855723226,\n",
       " 0.0013208616482970467,\n",
       " 0.0004717363029632305,\n",
       " 0.00015724543432107664,\n",
       " 4.91391982253364e-05,\n",
       " 1.445270536039306e-05,\n",
       " 4.01464037788697e-06,\n",
       " 1.0564843099702562e-06]"
      ]
     },
     "execution_count": 35,
     "metadata": {},
     "output_type": "execute_result"
    },
    {
     "data": {
      "image/png": "[encoded data removed]",
      "text/plain": [
       "<Figure size 576x288 with 1 Axes>"
      ]
     },
     "metadata": {
      "needs_background": "light"
     },
     "output_type": "display_data"
    }
   ],
   "source": [
    "PMF(λ=5, K=20, height=4, width=8)"
   ]
  },
  {
   "cell_type": "markdown",
   "metadata": {},
   "source": [
    "# Applications to the initial problems"
   ]
  },
  {
   "cell_type": "markdown",
   "metadata": {},
   "source": [
    "## Web Server"
   ]
  },
  {
   "cell_type": "markdown",
   "metadata": {},
   "source": [
    "Previously we had seen how the failure rate of the webserver with $\\lambda=1/60$ could look like.\n",
    "Now lets have a look how that looks like statistically:"
   ]
  },
  {
   "cell_type": "code",
   "execution_count": 36,
   "metadata": {
    "ExecuteTime": {
     "end_time": "2020-07-06T22:36:30.407114Z",
     "start_time": "2020-07-06T22:36:29.781324Z"
    }
   },
   "outputs": [
    {
     "data": {
      "text/plain": [
       "[0.9835512462985745,\n",
       " 0.016317773806010485,\n",
       " 0.00013097989541504046,\n",
       " 0.0,\n",
       " 0.0,\n",
       " 0.0]"
      ]
     },
     "execution_count": 36,
     "metadata": {},
     "output_type": "execute_result"
    }
   ],
   "source": [
    "poissonSimulation(λ=1/60, T=600, K=6, N=1000)"
   ]
  },
  {
   "cell_type": "markdown",
   "metadata": {},
   "source": [
    "In pracical terms: on 98.3% of the days nothing will happen, i.e. the webserver is not crashing. \n",
    "However on 1.6% of the days (or about 6 times during a year) the server will crash once."
   ]
  },
  {
   "cell_type": "code",
   "execution_count": 37,
   "metadata": {
    "ExecuteTime": {
     "end_time": "2020-07-06T22:36:30.698240Z",
     "start_time": "2020-07-06T22:36:30.409912Z"
    }
   },
   "outputs": [
    {
     "data": {
      "text/plain": [
       "[0.9834714538216175,\n",
       " 0.016391190897026963,\n",
       " 0.0001365932574752246,\n",
       " 7.588514304179157e-07,\n",
       " 3.161880960074652e-09,\n",
       " 1.0539603200248841e-11]"
      ]
     },
     "execution_count": 37,
     "metadata": {},
     "output_type": "execute_result"
    },
    {
     "data": {
      "image/png": "[encoded data removed]",
      "text/plain": [
       "<Figure size 288x432 with 1 Axes>"
      ]
     },
     "metadata": {
      "needs_background": "light"
     },
     "output_type": "display_data"
    }
   ],
   "source": [
    "PMF(λ=1/60, K=6, T=600, N=100, width=4, height=6)"
   ]
  },
  {
   "cell_type": "markdown",
   "metadata": {},
   "source": [
    "## Flood Events"
   ]
  },
  {
   "cell_type": "markdown",
   "metadata": {},
   "source": [
    "Initially we had seen how flood events could work out for $\\lambda=0.04$."
   ]
  },
  {
   "cell_type": "code",
   "execution_count": 38,
   "metadata": {
    "ExecuteTime": {
     "end_time": "2020-07-06T22:36:30.942970Z",
     "start_time": "2020-07-06T22:36:30.701169Z"
    }
   },
   "outputs": [
    {
     "data": {
      "text/plain": [
       "[0.960937616419712,\n",
       " 0.03840174052126227,\n",
       " 0.0006457413358898068,\n",
       " 1.4901723135918616e-05,\n",
       " 0.0,\n",
       " 0.0]"
      ]
     },
     "execution_count": 38,
     "metadata": {},
     "output_type": "execute_result"
    }
   ],
   "source": [
    "poissonSimulation(λ=0.04, T=200, K=6, N=1000)"
   ]
  },
  {
   "cell_type": "code",
   "execution_count": 39,
   "metadata": {
    "ExecuteTime": {
     "end_time": "2020-07-06T22:36:31.381065Z",
     "start_time": "2020-07-06T22:36:30.946052Z"
    }
   },
   "outputs": [
    {
     "data": {
      "text/plain": [
       "[0.9607894391523232,\n",
       " 0.03843157756609293,\n",
       " 0.0007686315513218588,\n",
       " 1.0248420684291472e-05,\n",
       " 1.0248420684291449e-07,\n",
       " 8.198736547433178e-10]"
      ]
     },
     "execution_count": 39,
     "metadata": {},
     "output_type": "execute_result"
    },
    {
     "data": {
      "image/png": "[encoded data removed]",
      "text/plain": [
       "<Figure size 288x432 with 1 Axes>"
      ]
     },
     "metadata": {
      "needs_background": "light"
     },
     "output_type": "display_data"
    }
   ],
   "source": [
    "PMF(λ=0.04, K=6, T=200, N=1000, width=4, height=6)"
   ]
  },
  {
   "cell_type": "markdown",
   "metadata": {},
   "source": [
    "## School Car Traffic"
   ]
  },
  {
   "cell_type": "code",
   "execution_count": 40,
   "metadata": {
    "ExecuteTime": {
     "end_time": "2020-07-06T22:36:31.508047Z",
     "start_time": "2020-07-06T22:36:31.383314Z"
    }
   },
   "outputs": [
    {
     "data": {
      "text/plain": [
       "[0.008267604295353037,\n",
       " 0.05321676328043334,\n",
       " 0.09930628147866578,\n",
       " 0.14824669770977858,\n",
       " 0.1766606481041528,\n",
       " 0.16658747505464222,\n",
       " 0.1339922075453768,\n",
       " 0.09949634134752447,\n",
       " 0.057303050460895184,\n",
       " 0.03173999809940131,\n",
       " 0.012543951344673572,\n",
       " 0.00817257436092369,\n",
       " 0.0032310177705977385,\n",
       " 0.000760239475434762,\n",
       " 0.000380119737717381,\n",
       " 0.0,\n",
       " 9.502993442934525e-05,\n",
       " 0.0,\n",
       " 0.0,\n",
       " 0.0]"
      ]
     },
     "execution_count": 40,
     "metadata": {},
     "output_type": "execute_result"
    }
   ],
   "source": [
    "poissonSimulation(λ=5, T=10, K=20, N=1000)"
   ]
  },
  {
   "cell_type": "code",
   "execution_count": 41,
   "metadata": {
    "ExecuteTime": {
     "end_time": "2020-07-06T22:36:31.910418Z",
     "start_time": "2020-07-06T22:36:31.511096Z"
    }
   },
   "outputs": [
    {
     "data": {
      "text/plain": [
       "[0.006737946999085467,\n",
       " 0.03368973499542734,\n",
       " 0.08422433748856832,\n",
       " 0.1403738958142805,\n",
       " 0.17546736976785063,\n",
       " 0.17546736976785068,\n",
       " 0.1462228081398754,\n",
       " 0.10444486295705395,\n",
       " 0.06527803934815865,\n",
       " 0.036265577415643714,\n",
       " 0.018132788707821854,\n",
       " 0.008242176685373562,\n",
       " 0.0034342402855723226,\n",
       " 0.0013208616482970467,\n",
       " 0.0004717363029632305,\n",
       " 0.00015724543432107664,\n",
       " 4.91391982253364e-05,\n",
       " 1.445270536039306e-05,\n",
       " 4.01464037788697e-06,\n",
       " 1.0564843099702562e-06]"
      ]
     },
     "execution_count": 41,
     "metadata": {},
     "output_type": "execute_result"
    },
    {
     "data": {
      "image/png": "[encoded data removed]",
      "text/plain": [
       "<Figure size 576x432 with 1 Axes>"
      ]
     },
     "metadata": {
      "needs_background": "light"
     },
     "output_type": "display_data"
    }
   ],
   "source": [
    "PMF(λ=5, K=20, T=10, N=1000, width=8, height=6)"
   ]
  },
  {
   "cell_type": "markdown",
   "metadata": {},
   "source": [
    "# References"
   ]
  },
  {
   "cell_type": "markdown",
   "metadata": {},
   "source": [
    "- Poisson Distribution \n",
    "  [NIST](https://www.itl.nist.gov/div898/handbook/eda/section3/eda366j.htm) \n",
    "  [Mathworld](http://mathworld.wolfram.com/PoissonDistribution.html) \n",
    "  [Wikipedia](https://en.wikipedia.org/wiki/Poisson_distribution) \n",
    "  [scipy.stats.poisson](https://docs.scipy.org/doc/scipy/reference/generated/scipy.stats.poisson.html)\n",
    "  [Table](https://castle.eiu.edu/~aalvarado2/levine-smume6_topic_POIS.pdf)\n",
    "- Poisson Point Process [Wikipedia](https://en.wikipedia.org/wiki/Poisson_point_process)\n",
    "- Python [home](https://python.org) [doc](https://docs.python.org/3/)\n",
    "- Pandas  [home](https://pandas.pydata.org) [doc](https://pandas.pydata.org/docs/reference/index.html)\n",
    "- Matplotlib [home](https://matplotlib.org) [doc](https://matplotlib.org/api/index.html) [pyplot](https://matplotlib.org/api/_as_gen/matplotlib.pyplot.html#module-matplotlib.pyplot)\n",
    "- SciPy [home](https://www.scipy.org) [doc](https://docs.scipy.org/doc/scipy/reference/) [scipy.stats](https://docs.scipy.org/doc/scipy/reference/tutorial/stats.html)\n",
    "- Standard Libraries [random](https://docs.python.org/3/library/random.html)\n",
    "  [statistics](https://docs.python.org/3/library/statistics.html)"
   ]
  },
  {
   "cell_type": "code",
   "execution_count": null,
   "metadata": {},
   "outputs": [],
   "source": []
  }
 ],
 "metadata": {
  "kernelspec": {
   "display_name": "Python 3",
   "language": "python",
   "name": "python3"
  },
  "language_info": {
   "codemirror_mode": {
    "name": "ipython",
    "version": 3
   },
   "file_extension": ".py",
   "mimetype": "text/x-python",
   "name": "python",
   "nbconvert_exporter": "python",
   "pygments_lexer": "ipython3",
   "version": "3.7.6"
  },
  "latex_envs": {
   "LaTeX_envs_menu_present": true,
   "autoclose": false,
   "autocomplete": true,
   "bibliofile": "biblio.bib",
   "cite_by": "apalike",
   "current_citInitial": 1,
   "eqLabelWithNumbers": true,
   "eqNumInitial": 1,
   "hotkeys": {
    "equation": "Ctrl-E",
    "itemize": "Ctrl-I"
   },
   "labels_anchors": false,
   "latex_user_defs": false,
   "report_style_numbering": false,
   "user_envs_cfg": false
  },
  "toc": {
   "base_numbering": 1,
   "nav_menu": {},
   "number_sections": true,
   "sideBar": true,
   "skip_h1_title": false,
   "title_cell": "Table of Contents",
   "title_sidebar": "Contents",
   "toc_cell": true,
   "toc_position": {},
   "toc_section_display": true,
   "toc_window_display": false
  },
  "varInspector": {
   "cols": {
    "lenName": 16,
    "lenType": 16,
    "lenVar": 40
   },
   "kernels_config": {
    "python": {
     "delete_cmd_postfix": "",
     "delete_cmd_prefix": "del ",
     "library": "var_list.py",
     "varRefreshCmd": "print(var_dic_list())"
    },
    "r": {
     "delete_cmd_postfix": ") ",
     "delete_cmd_prefix": "rm(",
     "library": "var_list.r",
     "varRefreshCmd": "cat(var_dic_list()) "
    }
   },
   "types_to_exclude": [
    "module",
    "function",
    "builtin_function_or_method",
    "instance",
    "_Feature"
   ],
   "window_display": false
  }
 },
 "nbformat": 4,
 "nbformat_minor": 4
}
