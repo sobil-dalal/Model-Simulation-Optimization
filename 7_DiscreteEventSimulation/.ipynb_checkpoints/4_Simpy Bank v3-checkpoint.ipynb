{
 "cells": [
  {
   "cell_type": "markdown",
   "metadata": {
    "toc": true
   },
   "source": [
    "<h1>Table of Contents<span class=\"tocSkip\"></span></h1>\n",
    "<div class=\"toc\"><ul class=\"toc-item\"><li><span><a href=\"#Load-Libraries\" data-toc-modified-id=\"Load-Libraries-1\"><span class=\"toc-item-num\">1&nbsp;&nbsp;</span>Load Libraries</a></span></li><li><span><a href=\"#Set-Parameters\" data-toc-modified-id=\"Set-Parameters-2\"><span class=\"toc-item-num\">2&nbsp;&nbsp;</span>Set Parameters</a></span></li><li><span><a href=\"#Prepare-Random-Data\" data-toc-modified-id=\"Prepare-Random-Data-3\"><span class=\"toc-item-num\">3&nbsp;&nbsp;</span>Prepare Random Data</a></span></li><li><span><a href=\"#Prepare-DataFrame-to-Record-Simulation-Results\" data-toc-modified-id=\"Prepare-DataFrame-to-Record-Simulation-Results-4\"><span class=\"toc-item-num\">4&nbsp;&nbsp;</span>Prepare DataFrame to Record Simulation Results</a></span></li><li><span><a href=\"#Run-Simulation\" data-toc-modified-id=\"Run-Simulation-5\"><span class=\"toc-item-num\">5&nbsp;&nbsp;</span>Run Simulation</a></span></li><li><span><a href=\"#Fill-In-Derived-Data\" data-toc-modified-id=\"Fill-In-Derived-Data-6\"><span class=\"toc-item-num\">6&nbsp;&nbsp;</span>Fill-In Derived Data</a></span></li><li><span><a href=\"#Analyse-Simulation-Results\" data-toc-modified-id=\"Analyse-Simulation-Results-7\"><span class=\"toc-item-num\">7&nbsp;&nbsp;</span>Analyse Simulation Results</a></span></li><li><span><a href=\"#References\" data-toc-modified-id=\"References-8\"><span class=\"toc-item-num\">8&nbsp;&nbsp;</span>References</a></span></li></ul></div>"
   ]
  },
  {
   "cell_type": "markdown",
   "metadata": {},
   "source": [
    "# Load Libraries"
   ]
  },
  {
   "cell_type": "code",
   "execution_count": 1,
   "metadata": {
    "ExecuteTime": {
     "end_time": "2020-07-09T09:41:36.801599Z",
     "start_time": "2020-07-09T09:41:35.632227Z"
    }
   },
   "outputs": [],
   "source": [
    "import pandas as pd\n",
    "import matplotlib as mpl\n",
    "import matplotlib.pyplot as plt\n",
    "import scipy.stats as ss\n",
    "import math\n",
    "import numpy as np\n",
    "import random\n",
    "\n",
    "import simpy"
   ]
  },
  {
   "cell_type": "markdown",
   "metadata": {},
   "source": [
    "# Set Parameters"
   ]
  },
  {
   "cell_type": "code",
   "execution_count": 2,
   "metadata": {
    "ExecuteTime": {
     "end_time": "2020-07-09T09:41:36.807102Z",
     "start_time": "2020-07-09T09:41:36.804113Z"
    }
   },
   "outputs": [],
   "source": [
    "INTERVAL_CUSTOMERS=5 # average time between events\n",
    "PROCESSING_TIME=3  # average processing time in the bank\n",
    "CUSTOMERS=40 # number of customers "
   ]
  },
  {
   "cell_type": "markdown",
   "metadata": {},
   "source": [
    "# Prepare Random Data"
   ]
  },
  {
   "cell_type": "code",
   "execution_count": 3,
   "metadata": {
    "ExecuteTime": {
     "end_time": "2020-07-09T09:41:36.813167Z",
     "start_time": "2020-07-09T09:41:36.810380Z"
    }
   },
   "outputs": [],
   "source": [
    "random.seed(42)"
   ]
  },
  {
   "cell_type": "code",
   "execution_count": 4,
   "metadata": {
    "ExecuteTime": {
     "end_time": "2020-07-09T09:41:36.822802Z",
     "start_time": "2020-07-09T09:41:36.815794Z"
    }
   },
   "outputs": [],
   "source": [
    "# Create a DataFrame with input parameters\n",
    "cdata = pd.DataFrame()\n",
    "cdata['arr'] = [ random.expovariate(1.0/INTERVAL_CUSTOMERS) for i in range(CUSTOMERS) ]\n",
    "cdata['proc'] = [ random.expovariate(1.0/PROCESSING_TIME) for i in range(CUSTOMERS) ]"
   ]
  },
  {
   "cell_type": "code",
   "execution_count": 5,
   "metadata": {
    "ExecuteTime": {
     "end_time": "2020-07-09T09:41:36.836247Z",
     "start_time": "2020-07-09T09:41:36.825122Z"
    }
   },
   "outputs": [
    {
     "data": {
      "text/html": [
       "<div>\n",
       "<style scoped>\n",
       "    .dataframe tbody tr th:only-of-type {\n",
       "        vertical-align: middle;\n",
       "    }\n",
       "\n",
       "    .dataframe tbody tr th {\n",
       "        vertical-align: top;\n",
       "    }\n",
       "\n",
       "    .dataframe thead th {\n",
       "        text-align: right;\n",
       "    }\n",
       "</style>\n",
       "<table border=\"1\" class=\"dataframe\">\n",
       "  <thead>\n",
       "    <tr style=\"text-align: right;\">\n",
       "      <th></th>\n",
       "      <th>arr</th>\n",
       "      <th>proc</th>\n",
       "    </tr>\n",
       "  </thead>\n",
       "  <tbody>\n",
       "    <tr>\n",
       "      <th>0</th>\n",
       "      <td>5.100301</td>\n",
       "      <td>3.657989</td>\n",
       "    </tr>\n",
       "    <tr>\n",
       "      <th>1</th>\n",
       "      <td>0.126644</td>\n",
       "      <td>0.140723</td>\n",
       "    </tr>\n",
       "    <tr>\n",
       "      <th>2</th>\n",
       "      <td>1.608120</td>\n",
       "      <td>0.775917</td>\n",
       "    </tr>\n",
       "    <tr>\n",
       "      <th>3</th>\n",
       "      <td>1.262931</td>\n",
       "      <td>1.024886</td>\n",
       "    </tr>\n",
       "    <tr>\n",
       "      <th>4</th>\n",
       "      <td>6.667963</td>\n",
       "      <td>0.249467</td>\n",
       "    </tr>\n",
       "  </tbody>\n",
       "</table>\n",
       "</div>"
      ],
      "text/plain": [
       "        arr      proc\n",
       "0  5.100301  3.657989\n",
       "1  0.126644  0.140723\n",
       "2  1.608120  0.775917\n",
       "3  1.262931  1.024886\n",
       "4  6.667963  0.249467"
      ]
     },
     "execution_count": 5,
     "metadata": {},
     "output_type": "execute_result"
    }
   ],
   "source": [
    "cdata.head()"
   ]
  },
  {
   "cell_type": "code",
   "execution_count": 6,
   "metadata": {
    "ExecuteTime": {
     "end_time": "2020-07-09T09:41:36.856201Z",
     "start_time": "2020-07-09T09:41:36.838194Z"
    }
   },
   "outputs": [
    {
     "data": {
      "text/html": [
       "<div>\n",
       "<style scoped>\n",
       "    .dataframe tbody tr th:only-of-type {\n",
       "        vertical-align: middle;\n",
       "    }\n",
       "\n",
       "    .dataframe tbody tr th {\n",
       "        vertical-align: top;\n",
       "    }\n",
       "\n",
       "    .dataframe thead th {\n",
       "        text-align: right;\n",
       "    }\n",
       "</style>\n",
       "<table border=\"1\" class=\"dataframe\">\n",
       "  <thead>\n",
       "    <tr style=\"text-align: right;\">\n",
       "      <th></th>\n",
       "      <th>arr</th>\n",
       "      <th>proc</th>\n",
       "    </tr>\n",
       "  </thead>\n",
       "  <tbody>\n",
       "    <tr>\n",
       "      <th>count</th>\n",
       "      <td>40.000000</td>\n",
       "      <td>40.000000</td>\n",
       "    </tr>\n",
       "    <tr>\n",
       "      <th>mean</th>\n",
       "      <td>4.624493</td>\n",
       "      <td>2.601835</td>\n",
       "    </tr>\n",
       "    <tr>\n",
       "      <th>std</th>\n",
       "      <td>4.217703</td>\n",
       "      <td>2.862498</td>\n",
       "    </tr>\n",
       "    <tr>\n",
       "      <th>min</th>\n",
       "      <td>0.032600</td>\n",
       "      <td>0.097880</td>\n",
       "    </tr>\n",
       "    <tr>\n",
       "      <th>25%</th>\n",
       "      <td>1.242245</td>\n",
       "      <td>0.791338</td>\n",
       "    </tr>\n",
       "    <tr>\n",
       "      <th>50%</th>\n",
       "      <td>3.975955</td>\n",
       "      <td>1.374283</td>\n",
       "    </tr>\n",
       "    <tr>\n",
       "      <th>75%</th>\n",
       "      <td>6.573267</td>\n",
       "      <td>3.262806</td>\n",
       "    </tr>\n",
       "    <tr>\n",
       "      <th>max</th>\n",
       "      <td>18.081076</td>\n",
       "      <td>13.675819</td>\n",
       "    </tr>\n",
       "  </tbody>\n",
       "</table>\n",
       "</div>"
      ],
      "text/plain": [
       "             arr       proc\n",
       "count  40.000000  40.000000\n",
       "mean    4.624493   2.601835\n",
       "std     4.217703   2.862498\n",
       "min     0.032600   0.097880\n",
       "25%     1.242245   0.791338\n",
       "50%     3.975955   1.374283\n",
       "75%     6.573267   3.262806\n",
       "max    18.081076  13.675819"
      ]
     },
     "execution_count": 6,
     "metadata": {},
     "output_type": "execute_result"
    }
   ],
   "source": [
    "cdata.describe()"
   ]
  },
  {
   "cell_type": "code",
   "execution_count": 7,
   "metadata": {
    "ExecuteTime": {
     "end_time": "2020-07-09T09:41:36.869000Z",
     "start_time": "2020-07-09T09:41:36.858393Z"
    }
   },
   "outputs": [],
   "source": [
    "def poissonPlot(data, title=None):\n",
    "    μ = data.mean()\n",
    "    n = data.count()\n",
    "    max = math.ceil(data.max()/10)*10\n",
    "    \n",
    "    fig = plt.figure()\n",
    "    fig.set_figwidth(10)\n",
    "    fig.set_figheight(5)\n",
    "    \n",
    "    ax = fig.gca()\n",
    "    ax.set_xlim(0, max)\n",
    "    \n",
    "    if title!=None:\n",
    "        ax.set_title(title+\" (n={:,})\".format(n))\n",
    "        \n",
    "    data.hist(ax=ax, bins=max+1, density=True)\n",
    "\n",
    "    x = [ i/10 for i in range(1, 10*max)]\n",
    "    y = [ 1/μ*math.exp(-x/μ) for x in x]\n",
    "    plt.plot(x, y, lw=3, color='red')\n",
    "    print(y[0])\n",
    "    ax.axvline(x=μ, color='red')\n",
    "    plt.text(μ+0.2,0.9*y[0],'μ='+'%2.2f' % μ, color='red', fontsize=14)\n",
    "    plt.grid(True)"
   ]
  },
  {
   "cell_type": "code",
   "execution_count": 8,
   "metadata": {
    "ExecuteTime": {
     "end_time": "2020-07-09T09:41:37.283653Z",
     "start_time": "2020-07-09T09:41:36.873207Z"
    }
   },
   "outputs": [
    {
     "name": "stdout",
     "output_type": "stream",
     "text": [
      "0.21161413117902642\n"
     ]
    },
    {
     "data": {
      "image/png": "[encoded data removed]",
      "text/plain": [
       "<Figure size 720x360 with 1 Axes>"
      ]
     },
     "metadata": {
      "needs_background": "light"
     },
     "output_type": "display_data"
    }
   ],
   "source": [
    "poissonPlot(cdata['arr'], title=\"Distribution of Times between Arrivals\")"
   ]
  },
  {
   "cell_type": "code",
   "execution_count": 9,
   "metadata": {
    "ExecuteTime": {
     "end_time": "2020-07-09T09:41:37.630702Z",
     "start_time": "2020-07-09T09:41:37.286920Z"
    }
   },
   "outputs": [
    {
     "name": "stdout",
     "output_type": "stream",
     "text": [
      "0.36985241283552334\n"
     ]
    },
    {
     "data": {
      "image/png": "[encoded data removed]",
      "text/plain": [
       "<Figure size 720x360 with 1 Axes>"
      ]
     },
     "metadata": {
      "needs_background": "light"
     },
     "output_type": "display_data"
    }
   ],
   "source": [
    "poissonPlot(cdata['proc'], title=\"Distribution of Required Processing Time\")"
   ]
  },
  {
   "cell_type": "markdown",
   "metadata": {},
   "source": [
    "# Prepare DataFrame to Record Simulation Results"
   ]
  },
  {
   "cell_type": "code",
   "execution_count": 10,
   "metadata": {
    "ExecuteTime": {
     "end_time": "2020-07-09T09:41:37.644394Z",
     "start_time": "2020-07-09T09:41:37.633278Z"
    }
   },
   "outputs": [],
   "source": [
    "# Prepare a DataFrame to record observations\n",
    "sdata = pd.DataFrame()\n",
    "sdata['arrived at'] = [None]*CUSTOMERS\n",
    "sdata['ql at arrival'] = [None]*CUSTOMERS\n",
    "sdata['ql at proc start'] = [None]*CUSTOMERS\n",
    "sdata['proc started at'] = [None]*CUSTOMERS\n",
    "sdata['proc finished at'] = [None]*CUSTOMERS "
   ]
  },
  {
   "cell_type": "code",
   "execution_count": 11,
   "metadata": {
    "ExecuteTime": {
     "end_time": "2020-07-09T09:41:37.662280Z",
     "start_time": "2020-07-09T09:41:37.647174Z"
    },
    "scrolled": true
   },
   "outputs": [
    {
     "data": {
      "text/html": [
       "<div>\n",
       "<style scoped>\n",
       "    .dataframe tbody tr th:only-of-type {\n",
       "        vertical-align: middle;\n",
       "    }\n",
       "\n",
       "    .dataframe tbody tr th {\n",
       "        vertical-align: top;\n",
       "    }\n",
       "\n",
       "    .dataframe thead th {\n",
       "        text-align: right;\n",
       "    }\n",
       "</style>\n",
       "<table border=\"1\" class=\"dataframe\">\n",
       "  <thead>\n",
       "    <tr style=\"text-align: right;\">\n",
       "      <th></th>\n",
       "      <th>arrived at</th>\n",
       "      <th>ql at arrival</th>\n",
       "      <th>ql at proc start</th>\n",
       "      <th>proc started at</th>\n",
       "      <th>proc finished at</th>\n",
       "    </tr>\n",
       "  </thead>\n",
       "  <tbody>\n",
       "    <tr>\n",
       "      <th>0</th>\n",
       "      <td>None</td>\n",
       "      <td>None</td>\n",
       "      <td>None</td>\n",
       "      <td>None</td>\n",
       "      <td>None</td>\n",
       "    </tr>\n",
       "    <tr>\n",
       "      <th>1</th>\n",
       "      <td>None</td>\n",
       "      <td>None</td>\n",
       "      <td>None</td>\n",
       "      <td>None</td>\n",
       "      <td>None</td>\n",
       "    </tr>\n",
       "    <tr>\n",
       "      <th>2</th>\n",
       "      <td>None</td>\n",
       "      <td>None</td>\n",
       "      <td>None</td>\n",
       "      <td>None</td>\n",
       "      <td>None</td>\n",
       "    </tr>\n",
       "    <tr>\n",
       "      <th>3</th>\n",
       "      <td>None</td>\n",
       "      <td>None</td>\n",
       "      <td>None</td>\n",
       "      <td>None</td>\n",
       "      <td>None</td>\n",
       "    </tr>\n",
       "    <tr>\n",
       "      <th>4</th>\n",
       "      <td>None</td>\n",
       "      <td>None</td>\n",
       "      <td>None</td>\n",
       "      <td>None</td>\n",
       "      <td>None</td>\n",
       "    </tr>\n",
       "  </tbody>\n",
       "</table>\n",
       "</div>"
      ],
      "text/plain": [
       "  arrived at ql at arrival ql at proc start proc started at proc finished at\n",
       "0       None          None             None            None             None\n",
       "1       None          None             None            None             None\n",
       "2       None          None             None            None             None\n",
       "3       None          None             None            None             None\n",
       "4       None          None             None            None             None"
      ]
     },
     "execution_count": 11,
     "metadata": {},
     "output_type": "execute_result"
    }
   ],
   "source": [
    "sdata.head()"
   ]
  },
  {
   "cell_type": "markdown",
   "metadata": {},
   "source": [
    "# Run Simulation"
   ]
  },
  {
   "cell_type": "markdown",
   "metadata": {},
   "source": [
    "Doc [simpy](https://simpy.readthedocs.io/en/latest/)"
   ]
  },
  {
   "cell_type": "code",
   "execution_count": 12,
   "metadata": {
    "ExecuteTime": {
     "end_time": "2020-07-09T09:41:37.670968Z",
     "start_time": "2020-07-09T09:41:37.665225Z"
    }
   },
   "outputs": [],
   "source": [
    "def source(env, n, counter):\n",
    "    for i in range(n):\n",
    "        t = cdata.at[i, 'arr']\n",
    "        # wait until the next customer arrives...\n",
    "        yield env.timeout(t)\n",
    "        c = customer(env, i, counter)\n",
    "        env.process(c)\n",
    "        "
   ]
  },
  {
   "cell_type": "code",
   "execution_count": 13,
   "metadata": {
    "ExecuteTime": {
     "end_time": "2020-07-09T09:41:37.683101Z",
     "start_time": "2020-07-09T09:41:37.674334Z"
    }
   },
   "outputs": [],
   "source": [
    "def customer(env, i, counter):\n",
    "    sdata.at[i, 'arrived at'] = env.now\n",
    "    req = counter.request()\n",
    "    sdata.at[i, 'ql at arrival'] = len(counter.queue)\n",
    "\n",
    "    # Wait for the counter \n",
    "    yield req \n",
    "    \n",
    "    # print(f\"serving customer {i:d} at {env.now:6.2f}\")\n",
    "    sdata.at[i, 'proc started at'] = env.now\n",
    "    sdata.at[i, 'ql at proc start'] = len(counter.queue)\n",
    "    \n",
    "    yield env.timeout(cdata.at[i, 'proc'])\n",
    "    \n",
    "    sdata.at[i, 'proc finished at'] = env.now\n",
    "    \n",
    "    counter.release(req)\n"
   ]
  },
  {
   "cell_type": "code",
   "execution_count": 14,
   "metadata": {
    "ExecuteTime": {
     "end_time": "2020-07-09T09:41:37.689745Z",
     "start_time": "2020-07-09T09:41:37.686232Z"
    }
   },
   "outputs": [],
   "source": [
    "env = simpy.Environment()"
   ]
  },
  {
   "cell_type": "code",
   "execution_count": 15,
   "metadata": {
    "ExecuteTime": {
     "end_time": "2020-07-09T09:41:37.696286Z",
     "start_time": "2020-07-09T09:41:37.692579Z"
    }
   },
   "outputs": [],
   "source": [
    "counter = simpy.Resource(env, capacity=1)"
   ]
  },
  {
   "cell_type": "code",
   "execution_count": 16,
   "metadata": {
    "ExecuteTime": {
     "end_time": "2020-07-09T09:41:37.705199Z",
     "start_time": "2020-07-09T09:41:37.699107Z"
    }
   },
   "outputs": [
    {
     "data": {
      "text/plain": [
       "<Process(source) object at 0x7fe4cfc819a0>"
      ]
     },
     "execution_count": 16,
     "metadata": {},
     "output_type": "execute_result"
    }
   ],
   "source": [
    "env.process(source(env, CUSTOMERS, counter))"
   ]
  },
  {
   "cell_type": "code",
   "execution_count": 17,
   "metadata": {
    "ExecuteTime": {
     "end_time": "2020-07-09T09:41:37.720707Z",
     "start_time": "2020-07-09T09:41:37.707862Z"
    },
    "scrolled": false
   },
   "outputs": [],
   "source": [
    "env.run()"
   ]
  },
  {
   "cell_type": "markdown",
   "metadata": {},
   "source": [
    "# Fill-In Derived Data"
   ]
  },
  {
   "cell_type": "code",
   "execution_count": 18,
   "metadata": {
    "ExecuteTime": {
     "end_time": "2020-07-09T09:41:37.735770Z",
     "start_time": "2020-07-09T09:41:37.723782Z"
    }
   },
   "outputs": [],
   "source": [
    "sdata['wait time']=sdata['proc started at']-sdata['arrived at'] \n",
    "sdata['proc time']=sdata['proc finished at']-sdata['proc started at']\n",
    "sdata['idle time']=sdata['proc started at']-sdata['proc finished at'].shift(1)\n",
    "sdata.at[0, 'idle time']=sdata.at[0, 'proc started at']"
   ]
  },
  {
   "cell_type": "code",
   "execution_count": 19,
   "metadata": {
    "ExecuteTime": {
     "end_time": "2020-07-09T09:41:37.758082Z",
     "start_time": "2020-07-09T09:41:37.742559Z"
    }
   },
   "outputs": [
    {
     "data": {
      "text/html": [
       "<div>\n",
       "<style scoped>\n",
       "    .dataframe tbody tr th:only-of-type {\n",
       "        vertical-align: middle;\n",
       "    }\n",
       "\n",
       "    .dataframe tbody tr th {\n",
       "        vertical-align: top;\n",
       "    }\n",
       "\n",
       "    .dataframe thead th {\n",
       "        text-align: right;\n",
       "    }\n",
       "</style>\n",
       "<table border=\"1\" class=\"dataframe\">\n",
       "  <thead>\n",
       "    <tr style=\"text-align: right;\">\n",
       "      <th></th>\n",
       "      <th>arrived at</th>\n",
       "      <th>ql at arrival</th>\n",
       "      <th>ql at proc start</th>\n",
       "      <th>proc started at</th>\n",
       "      <th>proc finished at</th>\n",
       "      <th>wait time</th>\n",
       "      <th>proc time</th>\n",
       "      <th>idle time</th>\n",
       "    </tr>\n",
       "  </thead>\n",
       "  <tbody>\n",
       "    <tr>\n",
       "      <th>0</th>\n",
       "      <td>5.1003</td>\n",
       "      <td>0</td>\n",
       "      <td>0</td>\n",
       "      <td>5.1003</td>\n",
       "      <td>8.75829</td>\n",
       "      <td>0</td>\n",
       "      <td>3.65799</td>\n",
       "      <td>5.1003</td>\n",
       "    </tr>\n",
       "    <tr>\n",
       "      <th>1</th>\n",
       "      <td>5.22695</td>\n",
       "      <td>1</td>\n",
       "      <td>2</td>\n",
       "      <td>8.75829</td>\n",
       "      <td>8.89901</td>\n",
       "      <td>3.53134</td>\n",
       "      <td>0.140723</td>\n",
       "      <td>0</td>\n",
       "    </tr>\n",
       "    <tr>\n",
       "      <th>2</th>\n",
       "      <td>6.83507</td>\n",
       "      <td>2</td>\n",
       "      <td>1</td>\n",
       "      <td>8.89901</td>\n",
       "      <td>9.67493</td>\n",
       "      <td>2.06395</td>\n",
       "      <td>0.775917</td>\n",
       "      <td>0</td>\n",
       "    </tr>\n",
       "    <tr>\n",
       "      <th>3</th>\n",
       "      <td>8.098</td>\n",
       "      <td>3</td>\n",
       "      <td>0</td>\n",
       "      <td>9.67493</td>\n",
       "      <td>10.6998</td>\n",
       "      <td>1.57693</td>\n",
       "      <td>1.02489</td>\n",
       "      <td>0</td>\n",
       "    </tr>\n",
       "    <tr>\n",
       "      <th>4</th>\n",
       "      <td>14.766</td>\n",
       "      <td>0</td>\n",
       "      <td>0</td>\n",
       "      <td>14.766</td>\n",
       "      <td>15.0154</td>\n",
       "      <td>0</td>\n",
       "      <td>0.249467</td>\n",
       "      <td>4.06614</td>\n",
       "    </tr>\n",
       "    <tr>\n",
       "      <th>5</th>\n",
       "      <td>20.4118</td>\n",
       "      <td>0</td>\n",
       "      <td>0</td>\n",
       "      <td>20.4118</td>\n",
       "      <td>21.2068</td>\n",
       "      <td>0</td>\n",
       "      <td>0.794988</td>\n",
       "      <td>5.3964</td>\n",
       "    </tr>\n",
       "    <tr>\n",
       "      <th>6</th>\n",
       "      <td>31.5483</td>\n",
       "      <td>0</td>\n",
       "      <td>0</td>\n",
       "      <td>31.5483</td>\n",
       "      <td>31.8677</td>\n",
       "      <td>0</td>\n",
       "      <td>0.319422</td>\n",
       "      <td>10.3415</td>\n",
       "    </tr>\n",
       "    <tr>\n",
       "      <th>7</th>\n",
       "      <td>32.003</td>\n",
       "      <td>0</td>\n",
       "      <td>0</td>\n",
       "      <td>32.003</td>\n",
       "      <td>32.9801</td>\n",
       "      <td>0</td>\n",
       "      <td>0.977081</td>\n",
       "      <td>0.135341</td>\n",
       "    </tr>\n",
       "    <tr>\n",
       "      <th>8</th>\n",
       "      <td>34.7433</td>\n",
       "      <td>0</td>\n",
       "      <td>0</td>\n",
       "      <td>34.7433</td>\n",
       "      <td>37.7725</td>\n",
       "      <td>0</td>\n",
       "      <td>3.0292</td>\n",
       "      <td>1.76315</td>\n",
       "    </tr>\n",
       "    <tr>\n",
       "      <th>9</th>\n",
       "      <td>34.8945</td>\n",
       "      <td>1</td>\n",
       "      <td>1</td>\n",
       "      <td>37.7725</td>\n",
       "      <td>39.1341</td>\n",
       "      <td>2.87795</td>\n",
       "      <td>1.3616</td>\n",
       "      <td>0</td>\n",
       "    </tr>\n",
       "  </tbody>\n",
       "</table>\n",
       "</div>"
      ],
      "text/plain": [
       "  arrived at ql at arrival ql at proc start proc started at proc finished at  \\\n",
       "0     5.1003             0                0          5.1003          8.75829   \n",
       "1    5.22695             1                2         8.75829          8.89901   \n",
       "2    6.83507             2                1         8.89901          9.67493   \n",
       "3      8.098             3                0         9.67493          10.6998   \n",
       "4     14.766             0                0          14.766          15.0154   \n",
       "5    20.4118             0                0         20.4118          21.2068   \n",
       "6    31.5483             0                0         31.5483          31.8677   \n",
       "7     32.003             0                0          32.003          32.9801   \n",
       "8    34.7433             0                0         34.7433          37.7725   \n",
       "9    34.8945             1                1         37.7725          39.1341   \n",
       "\n",
       "  wait time proc time idle time  \n",
       "0         0   3.65799    5.1003  \n",
       "1   3.53134  0.140723         0  \n",
       "2   2.06395  0.775917         0  \n",
       "3   1.57693   1.02489         0  \n",
       "4         0  0.249467   4.06614  \n",
       "5         0  0.794988    5.3964  \n",
       "6         0  0.319422   10.3415  \n",
       "7         0  0.977081  0.135341  \n",
       "8         0    3.0292   1.76315  \n",
       "9   2.87795    1.3616         0  "
      ]
     },
     "execution_count": 19,
     "metadata": {},
     "output_type": "execute_result"
    }
   ],
   "source": [
    "sdata.head(10)"
   ]
  },
  {
   "cell_type": "markdown",
   "metadata": {},
   "source": [
    "# Analyse Simulation Results"
   ]
  },
  {
   "cell_type": "code",
   "execution_count": 20,
   "metadata": {
    "ExecuteTime": {
     "end_time": "2020-07-09T09:41:37.768145Z",
     "start_time": "2020-07-09T09:41:37.762699Z"
    }
   },
   "outputs": [
    {
     "name": "stdout",
     "output_type": "stream",
     "text": [
      "Customers waited in average   2.10min.\n",
      "The minimum waiting time was  0.00min.\n",
      "the maximum waiting time was 10.27min.\n"
     ]
    }
   ],
   "source": [
    "w = sdata['wait time']\n",
    "print(f\"Customers waited in average  {w.mean():5.2f}min.\")\n",
    "print(f\"The minimum waiting time was {w.min():5.2f}min.\")\n",
    "print(f\"the maximum waiting time was {w.max():5.2f}min.\")"
   ]
  },
  {
   "cell_type": "code",
   "execution_count": 21,
   "metadata": {
    "ExecuteTime": {
     "end_time": "2020-07-09T09:41:37.787176Z",
     "start_time": "2020-07-09T09:41:37.770682Z"
    }
   },
   "outputs": [
    {
     "name": "stdout",
     "output_type": "stream",
     "text": [
      "The maximum queue length was: 3.\n",
      "Average queue length was 0.52.\n"
     ]
    }
   ],
   "source": [
    "qt = 0\n",
    "lastT = 0\n",
    "Tenq = 0\n",
    "Tdeq = 0\n",
    "i, j = 0, 0\n",
    "while i<len(sdata) and j<len(sdata):\n",
    "    Tenq = sdata.at[i, 'arrived at']\n",
    "    Tdeq = sdata.at[j, 'proc started at']\n",
    "    if Tenq < Tdeq:\n",
    "        ql = sdata.at[i, 'ql at arrival']\n",
    "        qt += ql * (Tenq-lastT)\n",
    "        lastT = Tenq\n",
    "        i += 1\n",
    "    elif Tdeq < Tenq:\n",
    "        ql = sdata.at[i, 'ql at proc start']\n",
    "        qt += (ql+1) * (Tdeq-lastT)\n",
    "        lastT = Tdeq\n",
    "        j += 1\n",
    "    else:\n",
    "        ql = sdata.at[i, 'ql at arrival']\n",
    "        qt += ql * (Tdeq-lastT)\n",
    "        lastT = Tdeq\n",
    "        i += 1\n",
    "        j += 1\n",
    "        \n",
    "while i<len(sdata):\n",
    "    Tenq = sdata.at[i, 'arrived at']    \n",
    "    ql = sdata.at[i, 'ql at arrival']\n",
    "    qt += ql * (Tenq-lastT)\n",
    "    lastT = Tenq\n",
    "    i += 1\n",
    "    \n",
    "while j<len(sdata):\n",
    "    Tdeq = sdata.at[j, 'proc started at']        \n",
    "    ql = sdata.at[i, 'ql at proc start']\n",
    "    qt += (ql+1) * (Tdeq-lastT)\n",
    "    lastT = Tdeq\n",
    "    j += 1\n",
    "    \n",
    "maxql = sdata['ql at arrival'].max()\n",
    "\n",
    "print(f\"The maximum queue length was: {maxql:d}.\")\n",
    "print(f\"Average queue length was {qt / lastT:4.2f}.\")"
   ]
  },
  {
   "cell_type": "code",
   "execution_count": 22,
   "metadata": {
    "ExecuteTime": {
     "end_time": "2020-07-09T09:41:37.795161Z",
     "start_time": "2020-07-09T09:41:37.790002Z"
    }
   },
   "outputs": [
    {
     "name": "stdout",
     "output_type": "stream",
     "text": [
      "Server utilisation was 56.0% over a total time of  3.1 hours\n"
     ]
    }
   ],
   "source": [
    "proc_time=sdata['proc time'].sum()\n",
    "idle_time=sdata['idle time'].sum()\n",
    "total_time=proc_time+idle_time\n",
    "print(f\"Server utilisation was {100*proc_time/total_time:4.1f}% \"\n",
    "      f\"over a total time of {total_time/60:4.1f} hours\")"
   ]
  },
  {
   "cell_type": "markdown",
   "metadata": {},
   "source": [
    "# References"
   ]
  },
  {
   "cell_type": "markdown",
   "metadata": {},
   "source": [
    "- [python math library]( https://docs.python.org/3/library/math.html)\n",
    "- [matplotlib](https://matplotlib.org/api/_as_gen/matplotlib.pyplot.plot.html)\n",
    "- [pandas](https://pandas.pydata.org/pandas-docs/stable/)\n",
    "- [scipy.stats](https://docs.scipy.org/doc/scipy/reference/stats.html)\n",
    "- [simpy](https://simpy.readthedocs.io/en/latest/contents.html) \n",
    "    [.pdf](https://readthedocs.org/projects/simpy/downloads/pdf/latest/)\n",
    "    [The In-Depth Manual (2.2)](https://pythonhosted.org/SimPy/Manuals/Manual.html)"
   ]
  }
 ],
 "metadata": {
  "kernelspec": {
   "display_name": "Python 3",
   "language": "python",
   "name": "python3"
  },
  "language_info": {
   "codemirror_mode": {
    "name": "ipython",
    "version": 3
   },
   "file_extension": ".py",
   "mimetype": "text/x-python",
   "name": "python",
   "nbconvert_exporter": "python",
   "pygments_lexer": "ipython3",
   "version": "3.8.1"
  },
  "latex_envs": {
   "LaTeX_envs_menu_present": true,
   "autoclose": false,
   "autocomplete": true,
   "bibliofile": "biblio.bib",
   "cite_by": "apalike",
   "current_citInitial": 1,
   "eqLabelWithNumbers": true,
   "eqNumInitial": 1,
   "hotkeys": {
    "equation": "Ctrl-E",
    "itemize": "Ctrl-I"
   },
   "labels_anchors": false,
   "latex_user_defs": false,
   "report_style_numbering": false,
   "user_envs_cfg": false
  },
  "toc": {
   "base_numbering": 1,
   "nav_menu": {},
   "number_sections": true,
   "sideBar": true,
   "skip_h1_title": false,
   "title_cell": "Table of Contents",
   "title_sidebar": "Contents",
   "toc_cell": true,
   "toc_position": {},
   "toc_section_display": true,
   "toc_window_display": false
  },
  "varInspector": {
   "cols": {
    "lenName": 16,
    "lenType": 16,
    "lenVar": 40
   },
   "kernels_config": {
    "python": {
     "delete_cmd_postfix": "",
     "delete_cmd_prefix": "del ",
     "library": "var_list.py",
     "varRefreshCmd": "print(var_dic_list())"
    },
    "r": {
     "delete_cmd_postfix": ") ",
     "delete_cmd_prefix": "rm(",
     "library": "var_list.r",
     "varRefreshCmd": "cat(var_dic_list()) "
    }
   },
   "types_to_exclude": [
    "module",
    "function",
    "builtin_function_or_method",
    "instance",
    "_Feature"
   ],
   "window_display": false
  }
 },
 "nbformat": 4,
 "nbformat_minor": 2
}
