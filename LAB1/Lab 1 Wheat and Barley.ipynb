{
 "cells": [
  {
   "cell_type": "markdown",
   "metadata": {
    "toc": true
   },
   "source": [
    "<h1>Table of Contents<span class=\"tocSkip\"></span></h1>\n",
    "<div class=\"toc\"><ul class=\"toc-item\"><li><span><a href=\"#Import-of-standard-libraries\" data-toc-modified-id=\"Import-of-standard-libraries-1\"><span class=\"toc-item-num\">1&nbsp;&nbsp;</span>Import of standard libraries</a></span></li><li><span><a href=\"#The-Linear-Programming-Problem\" data-toc-modified-id=\"The-Linear-Programming-Problem-2\"><span class=\"toc-item-num\">2&nbsp;&nbsp;</span>The Linear Programming Problem</a></span></li><li><span><a href=\"#Graphical-Illustration\" data-toc-modified-id=\"Graphical-Illustration-3\"><span class=\"toc-item-num\">3&nbsp;&nbsp;</span>Graphical Illustration</a></span><ul class=\"toc-item\"><li><span><a href=\"#Utilities\" data-toc-modified-id=\"Utilities-3.1\"><span class=\"toc-item-num\">3.1&nbsp;&nbsp;</span>Utilities</a></span></li><li><span><a href=\"#Global-Visualistion\" data-toc-modified-id=\"Global-Visualistion-3.2\"><span class=\"toc-item-num\">3.2&nbsp;&nbsp;</span>Global Visualistion</a></span></li><li><span><a href=\"#Visualisation-around-Optimal-Solution\" data-toc-modified-id=\"Visualisation-around-Optimal-Solution-3.3\"><span class=\"toc-item-num\">3.3&nbsp;&nbsp;</span>Visualisation around Optimal Solution</a></span></li></ul></li></ul></div>"
   ]
  },
  {
   "cell_type": "markdown",
   "metadata": {},
   "source": [
    "# Import of standard libraries"
   ]
  },
  {
   "cell_type": "code",
   "execution_count": 1,
   "metadata": {
    "ExecuteTime": {
     "end_time": "2020-05-28T09:32:16.917088Z",
     "start_time": "2020-05-28T09:32:16.373029Z"
    },
    "scrolled": true
   },
   "outputs": [],
   "source": [
    "# Import required library\n",
    "import matplotlib.pyplot as plt\n",
    "import scipy.optimize as opt"
   ]
  },
  {
   "cell_type": "markdown",
   "metadata": {},
   "source": [
    "# The Linear Programming Problem"
   ]
  },
  {
   "cell_type": "markdown",
   "metadata": {},
   "source": [
    "A decision has to be made on the usage of farm land for wheat and barley.\n",
    "\n",
    "Variables:\n",
    "\n",
    "- $x_0$: area of wheat (ha)\n",
    "- $x_1$: area of barley (ha)\n",
    "\n",
    "Condition based on farm size:\n",
    "\n",
    "$x_0 + x_1 \\le f$"
   ]
  },
  {
   "cell_type": "code",
   "execution_count": 2,
   "metadata": {
    "ExecuteTime": {
     "end_time": "2020-05-28T09:32:16.923462Z",
     "start_time": "2020-05-28T09:32:16.919937Z"
    }
   },
   "outputs": [],
   "source": [
    "farm_size=40 # ha"
   ]
  },
  {
   "cell_type": "markdown",
   "metadata": {},
   "source": [
    "Production costs:\n",
    "\n",
    "- Wheat: $c_w$ (€/ha)\n",
    "- Barley: $c_b$ (€/ha)\n",
    "\n",
    "Condition based on available reserves:\n",
    "\n",
    "$c_{w}x_0 + c_{b}x_1 \\le R$"
   ]
  },
  {
   "cell_type": "code",
   "execution_count": 3,
   "metadata": {
    "ExecuteTime": {
     "end_time": "2020-05-28T09:32:16.929650Z",
     "start_time": "2020-05-28T09:32:16.926797Z"
    }
   },
   "outputs": [],
   "source": [
    "cost_wheat=1360 # €/ha    1350\n",
    "cost_barley=1150 # €/ha   1150\n",
    "reserves=50000 # €"
   ]
  },
  {
   "cell_type": "markdown",
   "metadata": {},
   "source": [
    "Optimize margin (without labour cost)"
   ]
  },
  {
   "cell_type": "code",
   "execution_count": 4,
   "metadata": {
    "ExecuteTime": {
     "end_time": "2020-05-28T09:32:17.101495Z",
     "start_time": "2020-05-28T09:32:17.095866Z"
    }
   },
   "outputs": [],
   "source": [
    "price_wheat=170 # €/t\n",
    "yield_wheat=10 # t/ha\n",
    "price_wheat_straw=243 # €/ha\n",
    "income_wheat=price_wheat*yield_wheat+price_wheat_straw # €/ha\n",
    "\n",
    "price_barley=160 # €/t\n",
    "yield_barley=9 # t/ha\n",
    "price_barley_straw=300 # €/ha\n",
    "income_barley=price_barley*yield_barley+price_barley_straw # €/ha"
   ]
  },
  {
   "cell_type": "code",
   "execution_count": 5,
   "metadata": {
    "ExecuteTime": {
     "end_time": "2020-05-28T09:32:17.110159Z",
     "start_time": "2020-05-28T09:32:17.105151Z"
    }
   },
   "outputs": [],
   "source": [
    "# Input parameters and bounds\n",
    "A = [[1,1], [cost_wheat, cost_barley]]\n",
    "b = [farm_size,reserves]\n",
    "c = [-income_wheat, -income_barley]\n",
    "limits=((0, farm_size),(0, farm_size))"
   ]
  },
  {
   "cell_type": "code",
   "execution_count": 6,
   "metadata": {
    "ExecuteTime": {
     "end_time": "2020-05-28T09:32:17.123403Z",
     "start_time": "2020-05-28T09:32:17.113979Z"
    }
   },
   "outputs": [],
   "source": [
    "# Run the model\n",
    "res = opt.linprog(c, A, b, bounds=limits,method='simplex')"
   ]
  },
  {
   "cell_type": "code",
   "execution_count": 7,
   "metadata": {
    "ExecuteTime": {
     "end_time": "2020-05-28T09:32:17.131719Z",
     "start_time": "2020-05-28T09:32:17.125820Z"
    },
    "scrolled": false
   },
   "outputs": [
    {
     "data": {
      "text/plain": [
       "     con: array([], dtype=float64)\n",
       "     fun: -73466.66666666667\n",
       " message: 'Optimization terminated successfully.'\n",
       "     nit: 5\n",
       "   slack: array([0., 0.])\n",
       "  status: 0\n",
       " success: True\n",
       "       x: array([19.04761905, 20.95238095])"
      ]
     },
     "execution_count": 7,
     "metadata": {},
     "output_type": "execute_result"
    }
   ],
   "source": [
    "# Get results\n",
    "res"
   ]
  },
  {
   "cell_type": "code",
   "execution_count": 8,
   "metadata": {
    "ExecuteTime": {
     "end_time": "2020-05-28T09:32:17.138799Z",
     "start_time": "2020-05-28T09:32:17.133898Z"
    }
   },
   "outputs": [
    {
     "data": {
      "text/plain": [
       "(19.047619047619055, 20.952380952380945)"
      ]
     },
     "execution_count": 8,
     "metadata": {},
     "output_type": "execute_result"
    }
   ],
   "source": [
    "# Access each variable x1 and x2\n",
    "x0 = res.x[0]\n",
    "x1 = res.x[1]\n",
    "(x0, x1)"
   ]
  },
  {
   "cell_type": "code",
   "execution_count": 9,
   "metadata": {
    "ExecuteTime": {
     "end_time": "2020-05-28T09:32:17.145730Z",
     "start_time": "2020-05-28T09:32:17.141083Z"
    }
   },
   "outputs": [
    {
     "data": {
      "text/plain": [
       "-73466"
      ]
     },
     "execution_count": 9,
     "metadata": {},
     "output_type": "execute_result"
    }
   ],
   "source": [
    "opt_val = int(res.fun)\n",
    "opt_val"
   ]
  },
  {
   "cell_type": "markdown",
   "metadata": {},
   "source": [
    "# Graphical Illustration"
   ]
  },
  {
   "cell_type": "markdown",
   "metadata": {},
   "source": [
    "## Utilities"
   ]
  },
  {
   "cell_type": "markdown",
   "metadata": {},
   "source": [
    "$a_{i,0}x+a_{i,1}y \\le b_{i}$  implies $y \\le \\frac{b_{i}-a_{i,0}x}{a_{i,1}}$"
   ]
  },
  {
   "cell_type": "code",
   "execution_count": null,
   "metadata": {},
   "outputs": [],
   "source": [
    "def line(A,b,i,x):\n",
    "    return (b[i]-A[i][0]*x)/A[i][1]"
   ]
  },
  {
   "cell_type": "markdown",
   "metadata": {},
   "source": [
    "$c_{0}x+c_{1}y = g$ implies  $y = \\frac{g - c_{0}x}{c_{1}}$"
   ]
  },
  {
   "cell_type": "code",
   "execution_count": null,
   "metadata": {},
   "outputs": [],
   "source": [
    "def grad(c,g,x):\n",
    "    return (g-c[0]*x)/c[1]"
   ]
  },
  {
   "cell_type": "code",
   "execution_count": 10,
   "metadata": {
    "ExecuteTime": {
     "end_time": "2020-05-28T09:32:17.327552Z",
     "start_time": "2020-05-28T09:32:17.301191Z"
    }
   },
   "outputs": [],
   "source": [
    "def MIN(a, b):\n",
    "    return b if a==None else a if b==None else min(a,b)\n",
    "\n",
    "def MAX(a, b):\n",
    "    return b if a==None else a if b==None else max(a,b)\n",
    "    \n",
    "def plot_linopt(A, b, c, bounds, res, \n",
    "                borders=None, dx=5, dy=5,\n",
    "                title=None, labels=None, \n",
    "                solution=None, legend=None, output=False):\n",
    " \n",
    "    ax=plt.axes()\n",
    "    ax.grid(True)\n",
    "    \n",
    "    if borders==None:\n",
    "        borders=[(res.x[0]-dx, res.x[0]+dx),\n",
    "                 (res.x[1]-dy, res.x[1]+dy)]\n",
    "    \n",
    "    # set drawing region (xmin, xmax) (ymin, ymax)\n",
    "    xmin = borders[0][0]\n",
    "    xmax = borders[0][1]\n",
    "    ymin = borders[1][0]\n",
    "    ymax = borders[1][1]\n",
    "    \n",
    "    ax.set_xlim((xmin,xmax))\n",
    "    ax.set_ylim((ymin,ymax))\n",
    "    if labels!=None:\n",
    "        plt.xlabel(labels[0])\n",
    "        plt.ylabel(labels[1])\n",
    "\n",
    "    if legend==None:\n",
    "        legend=[]\n",
    "        for i in range(0, len(A)):\n",
    "            legend+=['Constraint '+str(i)]\n",
    "    \n",
    "    if solution==None:\n",
    "        solution='Solution'\n",
    "        \n",
    "\n",
    "    \n",
    "    # compute visual bounds (drawing limits if there is no bound)\n",
    "    xleft = MAX(bounds[0][0], borders[0][0])\n",
    "    xright = MIN(bounds[0][1], borders[0][1])\n",
    "    ybottom = MAX(bounds[1][0], borders[1][0]) \n",
    "    ytop = MIN(bounds[1][1], borders[1][1])\n",
    "    \n",
    "    # plot constraints\n",
    "    x=[xmin,xmax]\n",
    "    lines=[]\n",
    "    for i in range(0, len(A)):\n",
    "        y = [line(A,b,i,xmin), line(A,b,i,xmax)]\n",
    "        l=plt.plot(x,y,label=legend[i])\n",
    "        plt.fill_between(x, y, ymin if A[i][1]>0 else ymax, alpha=0.3)\n",
    "        lines=lines+[l[0]]\n",
    "    \n",
    "    # plot bounding box\n",
    "    rangex=[xleft, xright, xright, xleft, xleft]\n",
    "    rangey=[ybottom, ybottom, ytop, ytop, ybottom]\n",
    "    l=plt.plot(rangex, rangey,label='Bounds')\n",
    "    plt.fill_between(rangex, rangey, alpha=0.3)\n",
    "    lines+=[l[0]]\n",
    "\n",
    "    # plot optimal cost function\n",
    "    x=[xmin,xmax]\n",
    "    lopt=plt.plot(x, [grad(c,res.fun,xmin),grad(c,res.fun,xmax)], \n",
    "                  color='red', label=solution)    \n",
    "\n",
    "    # plot optimal solution\n",
    "    plt.plot(res.x[0],res.x[1],'ro')\n",
    "\n",
    "    if legend!=None:\n",
    "        plt.legend(handles=lines+[lopt[0]])\n",
    "        \n",
    "    if title!=None: \n",
    "        plt.suptitle(title)\n",
    "    \n",
    "    if output:\n",
    "        print(solution, '=', res.fun)\n",
    "        for i in range(0, len(c)):\n",
    "            print(labels[i],'=',res.x[i])"
   ]
  },
  {
   "cell_type": "markdown",
   "metadata": {},
   "source": [
    "## Global Visualistion"
   ]
  },
  {
   "cell_type": "code",
   "execution_count": 11,
   "metadata": {
    "ExecuteTime": {
     "end_time": "2020-05-28T09:32:17.660608Z",
     "start_time": "2020-05-28T09:32:17.330239Z"
    }
   },
   "outputs": [
    {
     "data": {
      "image/png": "[encoded data removed]",
      "text/plain": [
       "<Figure size 432x288 with 1 Axes>"
      ]
     },
     "metadata": {
      "needs_background": "light"
     },
     "output_type": "display_data"
    }
   ],
   "source": [
    "# Drawing \n",
    "# fig=plt.figure(figsize=(4,4), dpi=300)\n",
    "plot_linopt(A, b, c, limits, res, \n",
    "            borders=[(-2, 42), (-2,42)], \n",
    "            title='Wheat and Barley',\n",
    "            labels=['Wheat', 'Barley'], \n",
    "            legend=['Farm Size Constraint', \n",
    "                    'Financial Constraint'])"
   ]
  },
  {
   "cell_type": "markdown",
   "metadata": {},
   "source": [
    "## Visualisation around Optimal Solution"
   ]
  },
  {
   "cell_type": "code",
   "execution_count": 17,
   "metadata": {
    "ExecuteTime": {
     "end_time": "2020-05-28T09:34:05.792594Z",
     "start_time": "2020-05-28T09:34:05.488033Z"
    }
   },
   "outputs": [
    {
     "data": {
      "image/png": "[encoded data removed]",
      "text/plain": [
       "<Figure size 432x288 with 1 Axes>"
      ]
     },
     "metadata": {
      "needs_background": "light"
     },
     "output_type": "display_data"
    }
   ],
   "source": [
    "# Drawing \n",
    "# fig=plt.figure(figsize=(4,4), dpi=300)\n",
    "plot_linopt(A, b, c, limits, res,\n",
    "            borders=[(18, 22), (18,22)], \n",
    "            title='Wheat and Barley',\n",
    "            labels=['Wheat', 'Barley'], \n",
    "            legend=['Farm Size Constraint', \n",
    "                    'Financial Constraint'])"
   ]
  }
 ],
 "metadata": {
  "kernelspec": {
   "display_name": "Python 3",
   "language": "python",
   "name": "python3"
  },
  "language_info": {
   "codemirror_mode": {
    "name": "ipython",
    "version": 3
   },
   "file_extension": ".py",
   "mimetype": "text/x-python",
   "name": "python",
   "nbconvert_exporter": "python",
   "pygments_lexer": "ipython3",
   "version": "3.8.1"
  },
  "latex_envs": {
   "LaTeX_envs_menu_present": true,
   "autoclose": false,
   "autocomplete": true,
   "bibliofile": "biblio.bib",
   "cite_by": "apalike",
   "current_citInitial": 1,
   "eqLabelWithNumbers": true,
   "eqNumInitial": 1,
   "hotkeys": {
    "equation": "Ctrl-E",
    "itemize": "Ctrl-I"
   },
   "labels_anchors": false,
   "latex_user_defs": false,
   "report_style_numbering": false,
   "user_envs_cfg": false
  },
  "toc": {
   "base_numbering": 1,
   "nav_menu": {},
   "number_sections": true,
   "sideBar": true,
   "skip_h1_title": false,
   "title_cell": "Table of Contents",
   "title_sidebar": "Contents",
   "toc_cell": true,
   "toc_position": {},
   "toc_section_display": true,
   "toc_window_display": false
  },
  "varInspector": {
   "cols": {
    "lenName": 16,
    "lenType": 16,
    "lenVar": 40
   },
   "kernels_config": {
    "python": {
     "delete_cmd_postfix": "",
     "delete_cmd_prefix": "del ",
     "library": "var_list.py",
     "varRefreshCmd": "print(var_dic_list())"
    },
    "r": {
     "delete_cmd_postfix": ") ",
     "delete_cmd_prefix": "rm(",
     "library": "var_list.r",
     "varRefreshCmd": "cat(var_dic_list()) "
    }
   },
   "types_to_exclude": [
    "module",
    "function",
    "builtin_function_or_method",
    "instance",
    "_Feature"
   ],
   "window_display": false
  }
 },
 "nbformat": 4,
 "nbformat_minor": 2
}