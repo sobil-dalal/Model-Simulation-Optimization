{
 "cells": [
  {
   "cell_type": "markdown",
   "metadata": {
    "toc": true
   },
   "source": [
    "<h1>Table of Contents<span class=\"tocSkip\"></span></h1>\n",
    "<div class=\"toc\"><ul class=\"toc-item\"><li><span><a href=\"#Empirical-Input-Modelling\" data-toc-modified-id=\"Empirical-Input-Modelling-1\"><span class=\"toc-item-num\">1&nbsp;&nbsp;</span>Empirical Input Modelling</a></span><ul class=\"toc-item\"><li><span><a href=\"#Non-Parametric-Modelling\" data-toc-modified-id=\"Non-Parametric-Modelling-1.1\"><span class=\"toc-item-num\">1.1&nbsp;&nbsp;</span>Non-Parametric Modelling</a></span></li><li><span><a href=\"#Empirical-Modelling\" data-toc-modified-id=\"Empirical-Modelling-1.2\"><span class=\"toc-item-num\">1.2&nbsp;&nbsp;</span>Empirical Modelling</a></span></li><li><span><a href=\"#Empirical-Modelling-of-Grouped-Data\" data-toc-modified-id=\"Empirical-Modelling-of-Grouped-Data-1.3\"><span class=\"toc-item-num\">1.3&nbsp;&nbsp;</span>Empirical Modelling of Grouped Data</a></span></li></ul></li><li><span><a href=\"#Fitting-of-a-Theoretical-Distribution-for-Service-Time\" data-toc-modified-id=\"Fitting-of-a-Theoretical-Distribution-for-Service-Time-2\"><span class=\"toc-item-num\">2&nbsp;&nbsp;</span>Fitting of a Theoretical Distribution for Service Time</a></span><ul class=\"toc-item\"><li><span><a href=\"#Check-Independence-of-Data\" data-toc-modified-id=\"Check-Independence-of-Data-2.1\"><span class=\"toc-item-num\">2.1&nbsp;&nbsp;</span>Check Independence of Data</a></span></li><li><span><a href=\"#Select-Suitable-Distribution-Function\" data-toc-modified-id=\"Select-Suitable-Distribution-Function-2.2\"><span class=\"toc-item-num\">2.2&nbsp;&nbsp;</span>Select Suitable Distribution Function</a></span></li><li><span><a href=\"#Parameter-Estimation\" data-toc-modified-id=\"Parameter-Estimation-2.3\"><span class=\"toc-item-num\">2.3&nbsp;&nbsp;</span>Parameter Estimation</a></span><ul class=\"toc-item\"><li><span><a href=\"#Plotting-Routine-(same-as-before)\" data-toc-modified-id=\"Plotting-Routine-(same-as-before)-2.3.1\"><span class=\"toc-item-num\">2.3.1&nbsp;&nbsp;</span>Plotting Routine (same as before)</a></span></li><li><span><a href=\"#Plot\" data-toc-modified-id=\"Plot-2.3.2\"><span class=\"toc-item-num\">2.3.2&nbsp;&nbsp;</span>Plot</a></span></li></ul></li><li><span><a href=\"#Goodness-of-Fit-Test-(χ²)\" data-toc-modified-id=\"Goodness-of-Fit-Test-(χ²)-2.4\"><span class=\"toc-item-num\">2.4&nbsp;&nbsp;</span>Goodness-of-Fit-Test (χ²)</a></span></li></ul></li><li><span><a href=\"#Fitting-of-a-Theoretical-Distribution-for-Inter-Arrival-Time\" data-toc-modified-id=\"Fitting-of-a-Theoretical-Distribution-for-Inter-Arrival-Time-3\"><span class=\"toc-item-num\">3&nbsp;&nbsp;</span>Fitting of a Theoretical Distribution for Inter Arrival Time</a></span><ul class=\"toc-item\"><li><span><a href=\"#Check-Independence-of-Data\" data-toc-modified-id=\"Check-Independence-of-Data-3.1\"><span class=\"toc-item-num\">3.1&nbsp;&nbsp;</span>Check Independence of Data</a></span></li><li><span><a href=\"#Select-Suitable-Distribution-Function\" data-toc-modified-id=\"Select-Suitable-Distribution-Function-3.2\"><span class=\"toc-item-num\">3.2&nbsp;&nbsp;</span>Select Suitable Distribution Function</a></span></li><li><span><a href=\"#Parameter-Estimation\" data-toc-modified-id=\"Parameter-Estimation-3.3\"><span class=\"toc-item-num\">3.3&nbsp;&nbsp;</span>Parameter Estimation</a></span><ul class=\"toc-item\"><li><span><a href=\"#Plotting-Routine-(same-as-before)\" data-toc-modified-id=\"Plotting-Routine-(same-as-before)-3.3.1\"><span class=\"toc-item-num\">3.3.1&nbsp;&nbsp;</span>Plotting Routine (same as before)</a></span></li><li><span><a href=\"#Plot\" data-toc-modified-id=\"Plot-3.3.2\"><span class=\"toc-item-num\">3.3.2&nbsp;&nbsp;</span>Plot</a></span></li></ul></li><li><span><a href=\"#Goodness-of-Fit-Test\" data-toc-modified-id=\"Goodness-of-Fit-Test-3.4\"><span class=\"toc-item-num\">3.4&nbsp;&nbsp;</span>Goodness-of-Fit-Test</a></span></li></ul></li></ul></div>"
   ]
  },
  {
   "cell_type": "code",
   "execution_count": 1,
   "metadata": {
    "ExecuteTime": {
     "end_time": "2020-07-13T21:53:02.934154Z",
     "start_time": "2020-07-13T21:52:54.278820Z"
    }
   },
   "outputs": [],
   "source": [
    "import matplotlib as mpl\n",
    "import matplotlib.pyplot as plt\n",
    "import scipy.stats as stats\n",
    "import numpy as np\n",
    "import pandas as pd\n",
    "import random\n",
    "import math"
   ]
  },
  {
   "cell_type": "code",
   "execution_count": 2,
   "metadata": {
    "ExecuteTime": {
     "end_time": "2020-07-13T21:53:02.944353Z",
     "start_time": "2020-07-13T21:53:02.936954Z"
    }
   },
   "outputs": [],
   "source": [
    "dt=pd.read_csv('ATM.csv')"
   ]
  },
  {
   "cell_type": "code",
   "execution_count": 3,
   "metadata": {
    "ExecuteTime": {
     "end_time": "2020-07-13T21:53:02.972239Z",
     "start_time": "2020-07-13T21:53:02.947722Z"
    }
   },
   "outputs": [
    {
     "data": {
      "text/html": [
       "<div>\n",
       "<style scoped>\n",
       "    .dataframe tbody tr th:only-of-type {\n",
       "        vertical-align: middle;\n",
       "    }\n",
       "\n",
       "    .dataframe tbody tr th {\n",
       "        vertical-align: top;\n",
       "    }\n",
       "\n",
       "    .dataframe thead th {\n",
       "        text-align: right;\n",
       "    }\n",
       "</style>\n",
       "<table border=\"1\" class=\"dataframe\">\n",
       "  <thead>\n",
       "    <tr style=\"text-align: right;\">\n",
       "      <th></th>\n",
       "      <th>IAT</th>\n",
       "      <th>ST</th>\n",
       "    </tr>\n",
       "  </thead>\n",
       "  <tbody>\n",
       "    <tr>\n",
       "      <th>0</th>\n",
       "      <td>121</td>\n",
       "      <td>56</td>\n",
       "    </tr>\n",
       "    <tr>\n",
       "      <th>1</th>\n",
       "      <td>13</td>\n",
       "      <td>51</td>\n",
       "    </tr>\n",
       "    <tr>\n",
       "      <th>2</th>\n",
       "      <td>87</td>\n",
       "      <td>73</td>\n",
       "    </tr>\n",
       "    <tr>\n",
       "      <th>3</th>\n",
       "      <td>36</td>\n",
       "      <td>65</td>\n",
       "    </tr>\n",
       "    <tr>\n",
       "      <th>4</th>\n",
       "      <td>7</td>\n",
       "      <td>84</td>\n",
       "    </tr>\n",
       "    <tr>\n",
       "      <th>5</th>\n",
       "      <td>236</td>\n",
       "      <td>58</td>\n",
       "    </tr>\n",
       "    <tr>\n",
       "      <th>6</th>\n",
       "      <td>8</td>\n",
       "      <td>62</td>\n",
       "    </tr>\n",
       "    <tr>\n",
       "      <th>7</th>\n",
       "      <td>33</td>\n",
       "      <td>69</td>\n",
       "    </tr>\n",
       "    <tr>\n",
       "      <th>8</th>\n",
       "      <td>152</td>\n",
       "      <td>44</td>\n",
       "    </tr>\n",
       "    <tr>\n",
       "      <th>9</th>\n",
       "      <td>67</td>\n",
       "      <td>66</td>\n",
       "    </tr>\n",
       "  </tbody>\n",
       "</table>\n",
       "</div>"
      ],
      "text/plain": [
       "   IAT  ST\n",
       "0  121  56\n",
       "1   13  51\n",
       "2   87  73\n",
       "3   36  65\n",
       "4    7  84\n",
       "5  236  58\n",
       "6    8  62\n",
       "7   33  69\n",
       "8  152  44\n",
       "9   67  66"
      ]
     },
     "execution_count": 3,
     "metadata": {},
     "output_type": "execute_result"
    }
   ],
   "source": [
    "dt"
   ]
  },
  {
   "cell_type": "code",
   "execution_count": 4,
   "metadata": {
    "ExecuteTime": {
     "end_time": "2020-07-13T21:53:02.979279Z",
     "start_time": "2020-07-13T21:53:02.976014Z"
    }
   },
   "outputs": [],
   "source": [
    "random.seed(0)"
   ]
  },
  {
   "cell_type": "markdown",
   "metadata": {},
   "source": [
    "# Empirical Input Modelling"
   ]
  },
  {
   "cell_type": "markdown",
   "metadata": {},
   "source": [
    "## Non-Parametric Modelling"
   ]
  },
  {
   "cell_type": "markdown",
   "metadata": {},
   "source": [
    "Picks with constant probability one of the empirical values obtained"
   ]
  },
  {
   "cell_type": "code",
   "execution_count": 5,
   "metadata": {
    "ExecuteTime": {
     "end_time": "2020-07-13T21:53:02.985316Z",
     "start_time": "2020-07-13T21:53:02.981745Z"
    }
   },
   "outputs": [],
   "source": [
    "def st():\n",
    "    u=random.random()*len(dt)\n",
    "    return dt['ST'][math.floor(u)]"
   ]
  },
  {
   "cell_type": "code",
   "execution_count": 6,
   "metadata": {
    "ExecuteTime": {
     "end_time": "2020-07-13T21:53:05.115364Z",
     "start_time": "2020-07-13T21:53:02.987680Z"
    }
   },
   "outputs": [],
   "source": [
    "data=pd.DataFrame([st() for i in range(100000)])"
   ]
  },
  {
   "cell_type": "code",
   "execution_count": 7,
   "metadata": {
    "ExecuteTime": {
     "end_time": "2020-07-13T21:53:05.562255Z",
     "start_time": "2020-07-13T21:53:05.117458Z"
    }
   },
   "outputs": [
    {
     "data": {
      "image/png": "[encoded data removed]",
      "text/plain": [
       "<Figure size 432x288 with 1 Axes>"
      ]
     },
     "metadata": {
      "needs_background": "light"
     },
     "output_type": "display_data"
    }
   ],
   "source": [
    "data.hist(bins=40, density=True)\n",
    "plt.grid(True)"
   ]
  },
  {
   "cell_type": "markdown",
   "metadata": {},
   "source": [
    "## Empirical Modelling"
   ]
  },
  {
   "cell_type": "code",
   "execution_count": 8,
   "metadata": {
    "ExecuteTime": {
     "end_time": "2020-07-13T21:53:05.608630Z",
     "start_time": "2020-07-13T21:53:05.567452Z"
    }
   },
   "outputs": [
    {
     "data": {
      "text/html": [
       "<div>\n",
       "<style scoped>\n",
       "    .dataframe tbody tr th:only-of-type {\n",
       "        vertical-align: middle;\n",
       "    }\n",
       "\n",
       "    .dataframe tbody tr th {\n",
       "        vertical-align: top;\n",
       "    }\n",
       "\n",
       "    .dataframe thead th {\n",
       "        text-align: right;\n",
       "    }\n",
       "</style>\n",
       "<table border=\"1\" class=\"dataframe\">\n",
       "  <thead>\n",
       "    <tr style=\"text-align: right;\">\n",
       "      <th></th>\n",
       "      <th>IAT</th>\n",
       "      <th>ST</th>\n",
       "      <th>U</th>\n",
       "      <th>DST</th>\n",
       "      <th>DU/DST</th>\n",
       "    </tr>\n",
       "  </thead>\n",
       "  <tbody>\n",
       "    <tr>\n",
       "      <th>0</th>\n",
       "      <td>152</td>\n",
       "      <td>44</td>\n",
       "      <td>0.000000</td>\n",
       "      <td>0.0</td>\n",
       "      <td>0.000000</td>\n",
       "    </tr>\n",
       "    <tr>\n",
       "      <th>1</th>\n",
       "      <td>13</td>\n",
       "      <td>51</td>\n",
       "      <td>0.111111</td>\n",
       "      <td>7.0</td>\n",
       "      <td>0.015873</td>\n",
       "    </tr>\n",
       "    <tr>\n",
       "      <th>2</th>\n",
       "      <td>121</td>\n",
       "      <td>56</td>\n",
       "      <td>0.222222</td>\n",
       "      <td>5.0</td>\n",
       "      <td>0.022222</td>\n",
       "    </tr>\n",
       "    <tr>\n",
       "      <th>3</th>\n",
       "      <td>236</td>\n",
       "      <td>58</td>\n",
       "      <td>0.333333</td>\n",
       "      <td>2.0</td>\n",
       "      <td>0.055556</td>\n",
       "    </tr>\n",
       "    <tr>\n",
       "      <th>4</th>\n",
       "      <td>8</td>\n",
       "      <td>62</td>\n",
       "      <td>0.444444</td>\n",
       "      <td>4.0</td>\n",
       "      <td>0.027778</td>\n",
       "    </tr>\n",
       "    <tr>\n",
       "      <th>5</th>\n",
       "      <td>36</td>\n",
       "      <td>65</td>\n",
       "      <td>0.555556</td>\n",
       "      <td>3.0</td>\n",
       "      <td>0.037037</td>\n",
       "    </tr>\n",
       "    <tr>\n",
       "      <th>6</th>\n",
       "      <td>67</td>\n",
       "      <td>66</td>\n",
       "      <td>0.666667</td>\n",
       "      <td>1.0</td>\n",
       "      <td>0.111111</td>\n",
       "    </tr>\n",
       "    <tr>\n",
       "      <th>7</th>\n",
       "      <td>33</td>\n",
       "      <td>69</td>\n",
       "      <td>0.777778</td>\n",
       "      <td>3.0</td>\n",
       "      <td>0.037037</td>\n",
       "    </tr>\n",
       "    <tr>\n",
       "      <th>8</th>\n",
       "      <td>87</td>\n",
       "      <td>73</td>\n",
       "      <td>0.888889</td>\n",
       "      <td>4.0</td>\n",
       "      <td>0.027778</td>\n",
       "    </tr>\n",
       "    <tr>\n",
       "      <th>9</th>\n",
       "      <td>7</td>\n",
       "      <td>84</td>\n",
       "      <td>1.000000</td>\n",
       "      <td>11.0</td>\n",
       "      <td>0.010101</td>\n",
       "    </tr>\n",
       "  </tbody>\n",
       "</table>\n",
       "</div>"
      ],
      "text/plain": [
       "   IAT  ST         U   DST    DU/DST\n",
       "0  152  44  0.000000   0.0  0.000000\n",
       "1   13  51  0.111111   7.0  0.015873\n",
       "2  121  56  0.222222   5.0  0.022222\n",
       "3  236  58  0.333333   2.0  0.055556\n",
       "4    8  62  0.444444   4.0  0.027778\n",
       "5   36  65  0.555556   3.0  0.037037\n",
       "6   67  66  0.666667   1.0  0.111111\n",
       "7   33  69  0.777778   3.0  0.037037\n",
       "8   87  73  0.888889   4.0  0.027778\n",
       "9    7  84  1.000000  11.0  0.010101"
      ]
     },
     "execution_count": 8,
     "metadata": {},
     "output_type": "execute_result"
    }
   ],
   "source": [
    "dts=pd.DataFrame(dt.sort_values(by=['ST']))\n",
    "dts['U']=np.arange(len(dts))/(len(dts)-1)\n",
    "dts=dts.set_index(np.arange(len(dts)))\n",
    "dts['DST']=dts['ST']-dts['ST'].shift(1)\n",
    "dts.loc[0, 'DST']=0\n",
    "dts['DU/DST']=1/(len(dts)-1)/dts['DST']\n",
    "dts.loc[0, 'DU/DST']=0\n",
    "dts"
   ]
  },
  {
   "cell_type": "markdown",
   "metadata": {},
   "source": [
    "Plot corresponds to Fig.3.1. Choi/Kang p.47"
   ]
  },
  {
   "cell_type": "code",
   "execution_count": 9,
   "metadata": {
    "ExecuteTime": {
     "end_time": "2020-07-13T21:53:05.881183Z",
     "start_time": "2020-07-13T21:53:05.612182Z"
    },
    "scrolled": true
   },
   "outputs": [
    {
     "data": {
      "image/png": "[encoded data removed]",
      "text/plain": [
       "<Figure size 432x288 with 1 Axes>"
      ]
     },
     "metadata": {
      "needs_background": "light"
     },
     "output_type": "display_data"
    }
   ],
   "source": [
    "ax=dts.plot(x='ST',y='U', marker='o', ylim=(0,1))\n",
    "ax=dts.plot(x='ST',y='DU/DST', marker='o', ax=ax)\n",
    "ax.hlines(y=0.369881,xmin=0, xmax=59.316, colors='red')\n",
    "ax.vlines(x=59.316, ymin=0, ymax=0.369881, colors='red')\n",
    "plt.grid(True)"
   ]
  },
  {
   "cell_type": "code",
   "execution_count": 10,
   "metadata": {
    "ExecuteTime": {
     "end_time": "2020-07-13T21:53:05.888535Z",
     "start_time": "2020-07-13T21:53:05.883700Z"
    }
   },
   "outputs": [],
   "source": [
    "def est():\n",
    "    u=random.random()\n",
    "    s=u*(len(dt)-1)\n",
    "    i=math.floor(s)+1\n",
    "    x0=dts['ST'][i-1]\n",
    "    x1=dts['ST'][i]\n",
    "    return x0+(s-i+1)*(x1-x0)"
   ]
  },
  {
   "cell_type": "code",
   "execution_count": 11,
   "metadata": {
    "ExecuteTime": {
     "end_time": "2020-07-13T21:53:11.780834Z",
     "start_time": "2020-07-13T21:53:05.891160Z"
    }
   },
   "outputs": [],
   "source": [
    "edata=pd.DataFrame([est() for i in range(100000)])"
   ]
  },
  {
   "cell_type": "code",
   "execution_count": 12,
   "metadata": {
    "ExecuteTime": {
     "end_time": "2020-07-13T21:53:12.280916Z",
     "start_time": "2020-07-13T21:53:11.783151Z"
    }
   },
   "outputs": [
    {
     "data": {
      "image/png": "[encoded data removed]",
      "text/plain": [
       "<Figure size 432x288 with 1 Axes>"
      ]
     },
     "metadata": {
      "needs_background": "light"
     },
     "output_type": "display_data"
    }
   ],
   "source": [
    "edata.hist(bins=100, density=True)\n",
    "plt.grid(True)"
   ]
  },
  {
   "cell_type": "markdown",
   "metadata": {},
   "source": [
    "## Empirical Modelling of Grouped Data"
   ]
  },
  {
   "cell_type": "code",
   "execution_count": 13,
   "metadata": {
    "ExecuteTime": {
     "end_time": "2020-07-13T21:53:12.286923Z",
     "start_time": "2020-07-13T21:53:12.283569Z"
    }
   },
   "outputs": [],
   "source": [
    "bins=[40,50,60,70,80,90]"
   ]
  },
  {
   "cell_type": "code",
   "execution_count": 14,
   "metadata": {
    "ExecuteTime": {
     "end_time": "2020-07-13T21:53:12.524818Z",
     "start_time": "2020-07-13T21:53:12.289687Z"
    }
   },
   "outputs": [
    {
     "data": {
      "image/png": "[encoded data removed]",
      "text/plain": [
       "<Figure size 432x288 with 1 Axes>"
      ]
     },
     "metadata": {
      "needs_background": "light"
     },
     "output_type": "display_data"
    }
   ],
   "source": [
    "dt.hist('ST', bins=bins)\n",
    "plt.grid(True)"
   ]
  },
  {
   "cell_type": "code",
   "execution_count": 15,
   "metadata": {
    "ExecuteTime": {
     "end_time": "2020-07-13T21:53:12.534455Z",
     "start_time": "2020-07-13T21:53:12.527209Z"
    }
   },
   "outputs": [
    {
     "data": {
      "text/plain": [
       "[0, 0.1, 0.4, 0.8, 0.9, 1.0]"
      ]
     },
     "execution_count": 15,
     "metadata": {},
     "output_type": "execute_result"
    }
   ],
   "source": [
    "hist, _ = np.histogram(dt['ST'], bins=bins)\n",
    "G = [0] + (np.cumsum(hist)/np.sum(hist)).tolist()\n",
    "G"
   ]
  },
  {
   "cell_type": "code",
   "execution_count": 16,
   "metadata": {
    "ExecuteTime": {
     "end_time": "2020-07-13T21:53:12.542826Z",
     "start_time": "2020-07-13T21:53:12.537316Z"
    }
   },
   "outputs": [],
   "source": [
    "def gst():\n",
    "    u=random.random()\n",
    "    for i in range(len(G)-1):\n",
    "        if G[i]<=u and u<G[i+1]:\n",
    "            return bins[i]+(u-G[i])*(bins[i+1]-bins[i])/(G[i+1]-G[i])\n",
    "    else:\n",
    "        return bins[-1]"
   ]
  },
  {
   "cell_type": "code",
   "execution_count": 17,
   "metadata": {
    "ExecuteTime": {
     "end_time": "2020-07-13T21:53:12.729131Z",
     "start_time": "2020-07-13T21:53:12.545923Z"
    }
   },
   "outputs": [],
   "source": [
    "gdata=pd.DataFrame([gst() for i in range(100000)])"
   ]
  },
  {
   "cell_type": "code",
   "execution_count": 18,
   "metadata": {
    "ExecuteTime": {
     "end_time": "2020-07-13T21:53:13.054658Z",
     "start_time": "2020-07-13T21:53:12.731245Z"
    }
   },
   "outputs": [
    {
     "data": {
      "image/png": "[encoded data removed]",
      "text/plain": [
       "<Figure size 432x288 with 1 Axes>"
      ]
     },
     "metadata": {
      "needs_background": "light"
     },
     "output_type": "display_data"
    }
   ],
   "source": [
    "gdata.hist(bins=50, density=True)\n",
    "plt.grid(True)"
   ]
  },
  {
   "cell_type": "markdown",
   "metadata": {},
   "source": [
    "# Fitting of a Theoretical Distribution for Service Time"
   ]
  },
  {
   "cell_type": "markdown",
   "metadata": {},
   "source": [
    "## Check Independence of Data"
   ]
  },
  {
   "cell_type": "code",
   "execution_count": 19,
   "metadata": {
    "ExecuteTime": {
     "end_time": "2020-07-13T21:53:13.068511Z",
     "start_time": "2020-07-13T21:53:13.057158Z"
    }
   },
   "outputs": [
    {
     "data": {
      "text/html": [
       "<div>\n",
       "<style scoped>\n",
       "    .dataframe tbody tr th:only-of-type {\n",
       "        vertical-align: middle;\n",
       "    }\n",
       "\n",
       "    .dataframe tbody tr th {\n",
       "        vertical-align: top;\n",
       "    }\n",
       "\n",
       "    .dataframe thead th {\n",
       "        text-align: right;\n",
       "    }\n",
       "</style>\n",
       "<table border=\"1\" class=\"dataframe\">\n",
       "  <thead>\n",
       "    <tr style=\"text-align: right;\">\n",
       "      <th></th>\n",
       "      <th>IAT</th>\n",
       "      <th>ST</th>\n",
       "      <th>STS</th>\n",
       "    </tr>\n",
       "  </thead>\n",
       "  <tbody>\n",
       "    <tr>\n",
       "      <th>0</th>\n",
       "      <td>121</td>\n",
       "      <td>56</td>\n",
       "      <td>51.0</td>\n",
       "    </tr>\n",
       "    <tr>\n",
       "      <th>1</th>\n",
       "      <td>13</td>\n",
       "      <td>51</td>\n",
       "      <td>73.0</td>\n",
       "    </tr>\n",
       "    <tr>\n",
       "      <th>2</th>\n",
       "      <td>87</td>\n",
       "      <td>73</td>\n",
       "      <td>65.0</td>\n",
       "    </tr>\n",
       "    <tr>\n",
       "      <th>3</th>\n",
       "      <td>36</td>\n",
       "      <td>65</td>\n",
       "      <td>84.0</td>\n",
       "    </tr>\n",
       "    <tr>\n",
       "      <th>4</th>\n",
       "      <td>7</td>\n",
       "      <td>84</td>\n",
       "      <td>58.0</td>\n",
       "    </tr>\n",
       "    <tr>\n",
       "      <th>5</th>\n",
       "      <td>236</td>\n",
       "      <td>58</td>\n",
       "      <td>62.0</td>\n",
       "    </tr>\n",
       "    <tr>\n",
       "      <th>6</th>\n",
       "      <td>8</td>\n",
       "      <td>62</td>\n",
       "      <td>69.0</td>\n",
       "    </tr>\n",
       "    <tr>\n",
       "      <th>7</th>\n",
       "      <td>33</td>\n",
       "      <td>69</td>\n",
       "      <td>44.0</td>\n",
       "    </tr>\n",
       "    <tr>\n",
       "      <th>8</th>\n",
       "      <td>152</td>\n",
       "      <td>44</td>\n",
       "      <td>66.0</td>\n",
       "    </tr>\n",
       "    <tr>\n",
       "      <th>9</th>\n",
       "      <td>67</td>\n",
       "      <td>66</td>\n",
       "      <td>NaN</td>\n",
       "    </tr>\n",
       "  </tbody>\n",
       "</table>\n",
       "</div>"
      ],
      "text/plain": [
       "   IAT  ST   STS\n",
       "0  121  56  51.0\n",
       "1   13  51  73.0\n",
       "2   87  73  65.0\n",
       "3   36  65  84.0\n",
       "4    7  84  58.0\n",
       "5  236  58  62.0\n",
       "6    8  62  69.0\n",
       "7   33  69  44.0\n",
       "8  152  44  66.0\n",
       "9   67  66   NaN"
      ]
     },
     "execution_count": 19,
     "metadata": {},
     "output_type": "execute_result"
    }
   ],
   "source": [
    "dt['STS']=dt['ST'].shift(-1)\n",
    "dt"
   ]
  },
  {
   "cell_type": "markdown",
   "metadata": {},
   "source": [
    "If it looks scattered randomly, it is probably independent."
   ]
  },
  {
   "cell_type": "code",
   "execution_count": 20,
   "metadata": {
    "ExecuteTime": {
     "end_time": "2020-07-13T21:53:13.307245Z",
     "start_time": "2020-07-13T21:53:13.071238Z"
    }
   },
   "outputs": [
    {
     "data": {
      "image/png": "[encoded data removed]",
      "text/plain": [
       "<Figure size 432x288 with 1 Axes>"
      ]
     },
     "metadata": {
      "needs_background": "light"
     },
     "output_type": "display_data"
    }
   ],
   "source": [
    "plt.plot(dt['ST'], dt['STS'], 'bo')\n",
    "plt.grid(True)"
   ]
  },
  {
   "cell_type": "markdown",
   "metadata": {},
   "source": [
    "## Select Suitable Distribution Function"
   ]
  },
  {
   "cell_type": "markdown",
   "metadata": {},
   "source": [
    "For service time, a normal distribution is a reasonable approach."
   ]
  },
  {
   "cell_type": "markdown",
   "metadata": {},
   "source": [
    "## Parameter Estimation"
   ]
  },
  {
   "cell_type": "code",
   "execution_count": 21,
   "metadata": {
    "ExecuteTime": {
     "end_time": "2020-07-13T21:53:13.315074Z",
     "start_time": "2020-07-13T21:53:13.309585Z"
    }
   },
   "outputs": [],
   "source": [
    "μ=dts['ST'].mean()\n",
    "σ=dts['ST'].std()"
   ]
  },
  {
   "cell_type": "markdown",
   "metadata": {
    "heading_collapsed": true
   },
   "source": [
    "### Plotting Routine (same as before)"
   ]
  },
  {
   "cell_type": "code",
   "execution_count": 22,
   "metadata": {
    "ExecuteTime": {
     "end_time": "2020-07-13T21:53:13.337690Z",
     "start_time": "2020-07-13T21:53:13.318108Z"
    },
    "hidden": true
   },
   "outputs": [],
   "source": [
    "def plot(data, hist=None, pdf=None, bins=None, \n",
    "         μ=None, σ=None,\n",
    "         xmin=None, xmax=None, ymax=None, \n",
    "         title=None, fig=None, ax=None, xlabel=None, ylabel=None):\n",
    "    \n",
    "    if fig==None:\n",
    "        fig = plt.figure()\n",
    "        fig.set_figwidth(10)\n",
    "        fig.set_figheight(5)\n",
    "    \n",
    "    if ax==None:\n",
    "        ax = fig.gca()\n",
    "        \n",
    "     \n",
    "    # set the range on the x-axis\n",
    "    if hist!=None:\n",
    "        # ignore data\n",
    "        xmin=-0.5\n",
    "        xmax=len(hist)+0.5\n",
    "        bins=len(hist)\n",
    "        if ymax==None:\n",
    "            ymax=1.1*max(hist)/sum(hist)\n",
    "        if μ==None:\n",
    "            μ = hist_mean(hist)\n",
    "    else: \n",
    "        if xmin==None:\n",
    "            xmin = math.floor(np.min(data)*10)/10\n",
    "        if xmax==None:\n",
    "            xmax = math.ceil(np.max(data)*11)/10\n",
    "        if bins==None:\n",
    "            bins=int(4*math.log(len(data)))\n",
    "        if μ==None:\n",
    "            μ = np.mean(data)\n",
    "        if σ==None:\n",
    "            σ = np.std(data)  \n",
    "        \n",
    "    ax.set_xlim(xmin, xmax)\n",
    "    \n",
    "    if ymax!=None:\n",
    "        ax.set_ylim(0, ymax)\n",
    "    \n",
    "    if title!=None:\n",
    "        plt.title(title)\n",
    "        \n",
    "    if hist!=None:  \n",
    "        # ignore data\n",
    "        for x in range(len(hist)):\n",
    "            ax.axvline(x=x, ymin=0, ymax=(hist[x]/sum(hist))/ymax, lw=10)\n",
    "    else:\n",
    "        plt.hist(data, bins=bins, density=True)\n",
    "    \n",
    "    # calculate parameter for text positioning\n",
    "    dx=(xmax-xmin)*0.02\n",
    "    ymin, ymax=plt.ylim()\n",
    "    ypos=ymin+0.9*(ymax-ymin)\n",
    "     \n",
    "    # plot the probability density function if one is given\n",
    "    if pdf!=None:\n",
    "        X = [ i/1000 for i in range(int(xmin*1000), int(xmax*1000)) ]\n",
    "        Y = [ pdf(x) for x in X]\n",
    "        plt.plot(X, Y, lw=2, color='red')\n",
    " \n",
    "    ax.axvline(x=μ, color='red', linestyle='dashed', lw=2)\n",
    "    plt.text(μ+dx, ypos, f\"μ={μ:3.2f}\", color='red', fontsize=14)\n",
    "    \n",
    "    if xlabel!=None:\n",
    "        ax.set_xlabel(xlabel)\n",
    "    if ylabel!=None:\n",
    "        ax.set_ylabel(ylabel)\n",
    "        \n",
    "    plt.grid(True)"
   ]
  },
  {
   "cell_type": "markdown",
   "metadata": {},
   "source": [
    "### Plot"
   ]
  },
  {
   "cell_type": "code",
   "execution_count": 23,
   "metadata": {
    "ExecuteTime": {
     "end_time": "2020-07-13T21:53:22.490762Z",
     "start_time": "2020-07-13T21:53:13.348107Z"
    }
   },
   "outputs": [
    {
     "data": {
      "image/png": "[encoded data removed]",
      "text/plain": [
       "<Figure size 720x360 with 1 Axes>"
      ]
     },
     "metadata": {
      "needs_background": "light"
     },
     "output_type": "display_data"
    }
   ],
   "source": [
    "norm=stats.norm(loc=μ, scale=σ)\n",
    "plot(dts['ST'], pdf=norm.pdf, xmin=40, xmax=85, bins=5)"
   ]
  },
  {
   "cell_type": "markdown",
   "metadata": {
    "ExecuteTime": {
     "end_time": "2020-03-23T02:59:31.597447Z",
     "start_time": "2020-03-23T02:59:31.594311Z"
    }
   },
   "source": [
    "## Goodness-of-Fit-Test (χ²)"
   ]
  },
  {
   "cell_type": "code",
   "execution_count": 24,
   "metadata": {
    "ExecuteTime": {
     "end_time": "2020-07-13T21:53:22.542721Z",
     "start_time": "2020-07-13T21:53:22.497770Z"
    }
   },
   "outputs": [
    {
     "name": "stderr",
     "output_type": "stream",
     "text": [
      "/Library/Frameworks/Python.framework/Versions/3.8/lib/python3.8/site-packages/scipy/stats/stats.py:1603: UserWarning: kurtosistest only valid for n>=20 ... continuing anyway, n=10\n",
      "  warnings.warn(\"kurtosistest only valid for n>=20 ... continuing \"\n"
     ]
    },
    {
     "data": {
      "text/plain": [
       "NormaltestResult(statistic=0.2963571058151083, pvalue=0.862277139105733)"
      ]
     },
     "execution_count": 24,
     "metadata": {},
     "output_type": "execute_result"
    }
   ],
   "source": [
    "stats.normaltest(dt['ST'])"
   ]
  },
  {
   "cell_type": "code",
   "execution_count": 25,
   "metadata": {
    "ExecuteTime": {
     "end_time": "2020-07-13T21:53:22.551658Z",
     "start_time": "2020-07-13T21:53:22.545436Z"
    }
   },
   "outputs": [
    {
     "data": {
      "text/plain": [
       "ShapiroResult(statistic=0.9927406311035156, pvalue=0.9990953803062439)"
      ]
     },
     "execution_count": 25,
     "metadata": {},
     "output_type": "execute_result"
    }
   ],
   "source": [
    "stats.shapiro(dt['ST'])"
   ]
  },
  {
   "cell_type": "code",
   "execution_count": 26,
   "metadata": {
    "ExecuteTime": {
     "end_time": "2020-07-13T21:53:22.562082Z",
     "start_time": "2020-07-13T21:53:22.554361Z"
    }
   },
   "outputs": [
    {
     "data": {
      "text/plain": [
       "KstestResult(statistic=0.09326582892260815, pvalue=0.9999145891042519)"
      ]
     },
     "execution_count": 26,
     "metadata": {},
     "output_type": "execute_result"
    }
   ],
   "source": [
    "stats.kstest(dt['ST'], norm.cdf)"
   ]
  },
  {
   "cell_type": "code",
   "execution_count": 27,
   "metadata": {
    "ExecuteTime": {
     "end_time": "2020-07-13T21:53:22.615193Z",
     "start_time": "2020-07-13T21:53:22.564488Z"
    }
   },
   "outputs": [],
   "source": [
    "tdata=pd.DataFrame(norm.rvs(1000000))"
   ]
  },
  {
   "cell_type": "code",
   "execution_count": 28,
   "metadata": {
    "ExecuteTime": {
     "end_time": "2020-07-13T21:53:22.989219Z",
     "start_time": "2020-07-13T21:53:22.618192Z"
    },
    "scrolled": true
   },
   "outputs": [
    {
     "data": {
      "image/png": "[encoded data removed]",
      "text/plain": [
       "<Figure size 432x288 with 1 Axes>"
      ]
     },
     "metadata": {
      "needs_background": "light"
     },
     "output_type": "display_data"
    }
   ],
   "source": [
    "tdata.hist(bins=50, density=True)\n",
    "plt.grid(True)"
   ]
  },
  {
   "cell_type": "markdown",
   "metadata": {},
   "source": [
    "# Fitting of a Theoretical Distribution for Inter Arrival Time"
   ]
  },
  {
   "cell_type": "markdown",
   "metadata": {},
   "source": [
    "## Check Independence of Data"
   ]
  },
  {
   "cell_type": "code",
   "execution_count": 29,
   "metadata": {
    "ExecuteTime": {
     "end_time": "2020-07-13T21:53:23.004065Z",
     "start_time": "2020-07-13T21:53:22.991533Z"
    }
   },
   "outputs": [
    {
     "data": {
      "text/html": [
       "<div>\n",
       "<style scoped>\n",
       "    .dataframe tbody tr th:only-of-type {\n",
       "        vertical-align: middle;\n",
       "    }\n",
       "\n",
       "    .dataframe tbody tr th {\n",
       "        vertical-align: top;\n",
       "    }\n",
       "\n",
       "    .dataframe thead th {\n",
       "        text-align: right;\n",
       "    }\n",
       "</style>\n",
       "<table border=\"1\" class=\"dataframe\">\n",
       "  <thead>\n",
       "    <tr style=\"text-align: right;\">\n",
       "      <th></th>\n",
       "      <th>IAT</th>\n",
       "      <th>ST</th>\n",
       "      <th>STS</th>\n",
       "      <th>IATS</th>\n",
       "    </tr>\n",
       "  </thead>\n",
       "  <tbody>\n",
       "    <tr>\n",
       "      <th>0</th>\n",
       "      <td>121</td>\n",
       "      <td>56</td>\n",
       "      <td>51.0</td>\n",
       "      <td>13.0</td>\n",
       "    </tr>\n",
       "    <tr>\n",
       "      <th>1</th>\n",
       "      <td>13</td>\n",
       "      <td>51</td>\n",
       "      <td>73.0</td>\n",
       "      <td>87.0</td>\n",
       "    </tr>\n",
       "    <tr>\n",
       "      <th>2</th>\n",
       "      <td>87</td>\n",
       "      <td>73</td>\n",
       "      <td>65.0</td>\n",
       "      <td>36.0</td>\n",
       "    </tr>\n",
       "    <tr>\n",
       "      <th>3</th>\n",
       "      <td>36</td>\n",
       "      <td>65</td>\n",
       "      <td>84.0</td>\n",
       "      <td>7.0</td>\n",
       "    </tr>\n",
       "    <tr>\n",
       "      <th>4</th>\n",
       "      <td>7</td>\n",
       "      <td>84</td>\n",
       "      <td>58.0</td>\n",
       "      <td>236.0</td>\n",
       "    </tr>\n",
       "    <tr>\n",
       "      <th>5</th>\n",
       "      <td>236</td>\n",
       "      <td>58</td>\n",
       "      <td>62.0</td>\n",
       "      <td>8.0</td>\n",
       "    </tr>\n",
       "    <tr>\n",
       "      <th>6</th>\n",
       "      <td>8</td>\n",
       "      <td>62</td>\n",
       "      <td>69.0</td>\n",
       "      <td>33.0</td>\n",
       "    </tr>\n",
       "    <tr>\n",
       "      <th>7</th>\n",
       "      <td>33</td>\n",
       "      <td>69</td>\n",
       "      <td>44.0</td>\n",
       "      <td>152.0</td>\n",
       "    </tr>\n",
       "    <tr>\n",
       "      <th>8</th>\n",
       "      <td>152</td>\n",
       "      <td>44</td>\n",
       "      <td>66.0</td>\n",
       "      <td>67.0</td>\n",
       "    </tr>\n",
       "    <tr>\n",
       "      <th>9</th>\n",
       "      <td>67</td>\n",
       "      <td>66</td>\n",
       "      <td>NaN</td>\n",
       "      <td>NaN</td>\n",
       "    </tr>\n",
       "  </tbody>\n",
       "</table>\n",
       "</div>"
      ],
      "text/plain": [
       "   IAT  ST   STS   IATS\n",
       "0  121  56  51.0   13.0\n",
       "1   13  51  73.0   87.0\n",
       "2   87  73  65.0   36.0\n",
       "3   36  65  84.0    7.0\n",
       "4    7  84  58.0  236.0\n",
       "5  236  58  62.0    8.0\n",
       "6    8  62  69.0   33.0\n",
       "7   33  69  44.0  152.0\n",
       "8  152  44  66.0   67.0\n",
       "9   67  66   NaN    NaN"
      ]
     },
     "execution_count": 29,
     "metadata": {},
     "output_type": "execute_result"
    }
   ],
   "source": [
    "dt['IATS']=dt['IAT'].shift(-1)\n",
    "dt"
   ]
  },
  {
   "cell_type": "markdown",
   "metadata": {},
   "source": [
    "If it looks scattered randomly, it is probably independent."
   ]
  },
  {
   "cell_type": "code",
   "execution_count": 30,
   "metadata": {
    "ExecuteTime": {
     "end_time": "2020-07-13T21:53:23.189219Z",
     "start_time": "2020-07-13T21:53:23.006589Z"
    }
   },
   "outputs": [
    {
     "data": {
      "image/png": "[encoded data removed]",
      "text/plain": [
       "<Figure size 432x288 with 1 Axes>"
      ]
     },
     "metadata": {
      "needs_background": "light"
     },
     "output_type": "display_data"
    }
   ],
   "source": [
    "plt.plot(dt['IAT'], dt['IATS'], 'bo')\n",
    "plt.grid(True)"
   ]
  },
  {
   "cell_type": "markdown",
   "metadata": {},
   "source": [
    "## Select Suitable Distribution Function"
   ]
  },
  {
   "cell_type": "markdown",
   "metadata": {},
   "source": [
    "For inter-arrival time an exponential distribution is a reasonable approach."
   ]
  },
  {
   "cell_type": "markdown",
   "metadata": {},
   "source": [
    "## Parameter Estimation"
   ]
  },
  {
   "cell_type": "code",
   "execution_count": 31,
   "metadata": {
    "ExecuteTime": {
     "end_time": "2020-07-13T21:53:23.196937Z",
     "start_time": "2020-07-13T21:53:23.192331Z"
    }
   },
   "outputs": [],
   "source": [
    "μ=dts['IAT'].mean()"
   ]
  },
  {
   "cell_type": "markdown",
   "metadata": {
    "heading_collapsed": true
   },
   "source": [
    "### Plotting Routine (same as before)"
   ]
  },
  {
   "cell_type": "code",
   "execution_count": 32,
   "metadata": {
    "ExecuteTime": {
     "end_time": "2020-07-13T21:53:23.220154Z",
     "start_time": "2020-07-13T21:53:23.199501Z"
    },
    "hidden": true
   },
   "outputs": [],
   "source": [
    "def plot(data, hist=None, pdf=None, bins=None, \n",
    "         μ=None, σ=None,\n",
    "         xmin=None, xmax=None, ymax=None, \n",
    "         title=None, fig=None, ax=None, xlabel=None, ylabel=None):\n",
    "    \n",
    "    if fig==None:\n",
    "        fig = plt.figure()\n",
    "        fig.set_figwidth(10)\n",
    "        fig.set_figheight(5)\n",
    "    \n",
    "    if ax==None:\n",
    "        ax = fig.gca()\n",
    "        \n",
    "     \n",
    "    # set the range on the x-axis\n",
    "    if hist!=None:\n",
    "        # ignore data\n",
    "        xmin=-0.5\n",
    "        xmax=len(hist)+0.5\n",
    "        bins=len(hist)\n",
    "        if ymax==None:\n",
    "            ymax=1.1*max(hist)/sum(hist)\n",
    "        if μ==None:\n",
    "            μ = hist_mean(hist)\n",
    "    else: \n",
    "        if xmin==None:\n",
    "            xmin = math.floor(np.min(data)*10)/10\n",
    "        if xmax==None:\n",
    "            xmax = math.ceil(np.max(data)*11)/10\n",
    "        if bins==None:\n",
    "            bins=int(4*math.log(len(data)))\n",
    "        if μ==None:\n",
    "            μ = np.mean(data)\n",
    "        if σ==None:\n",
    "            σ = np.std(data)  \n",
    "        \n",
    "    ax.set_xlim(xmin, xmax)\n",
    "    \n",
    "    if ymax!=None:\n",
    "        ax.set_ylim(0, ymax)\n",
    "    \n",
    "    if title!=None:\n",
    "        plt.title(title)\n",
    "        \n",
    "    if hist!=None:  \n",
    "        # ignore data\n",
    "        for x in range(len(hist)):\n",
    "            ax.axvline(x=x, ymin=0, ymax=(hist[x]/sum(hist))/ymax, lw=10)\n",
    "    else:\n",
    "        plt.hist(data, bins=bins, density=True)\n",
    "    \n",
    "    # calculate parameter for text positioning\n",
    "    dx=(xmax-xmin)*0.02\n",
    "    ymin, ymax=plt.ylim()\n",
    "    ypos=ymin+0.9*(ymax-ymin)\n",
    "     \n",
    "    # plot the probability density function if one is given\n",
    "    if pdf!=None:\n",
    "        X = [ i/1000 for i in range(int(xmin*1000), int(xmax*1000)) ]\n",
    "        Y = [ pdf(x) for x in X]\n",
    "        plt.plot(X, Y, lw=2, color='red')\n",
    " \n",
    "    ax.axvline(x=μ, color='red', linestyle='dashed', lw=2)\n",
    "    plt.text(μ+dx, ypos, f\"μ={μ:3.2f}\", color='red', fontsize=14)\n",
    "    \n",
    "    if xlabel!=None:\n",
    "        ax.set_xlabel(xlabel)\n",
    "    if ylabel!=None:\n",
    "        ax.set_ylabel(ylabel)\n",
    "        \n",
    "    plt.grid(True)"
   ]
  },
  {
   "cell_type": "markdown",
   "metadata": {},
   "source": [
    "### Plot"
   ]
  },
  {
   "cell_type": "code",
   "execution_count": null,
   "metadata": {
    "ExecuteTime": {
     "start_time": "2020-07-13T21:53:01.638Z"
    }
   },
   "outputs": [],
   "source": [
    "exp=stats.expon(scale=μ)\n",
    "plot(dts['IAT'], pdf=exp.pdf, xmin=0, xmax=250, bins=[0,50,100,150,200,250])"
   ]
  },
  {
   "cell_type": "markdown",
   "metadata": {
    "ExecuteTime": {
     "end_time": "2020-03-23T02:59:31.597447Z",
     "start_time": "2020-03-23T02:59:31.594311Z"
    }
   },
   "source": [
    "## Goodness-of-Fit-Test"
   ]
  },
  {
   "cell_type": "code",
   "execution_count": null,
   "metadata": {
    "ExecuteTime": {
     "start_time": "2020-07-13T21:53:01.941Z"
    }
   },
   "outputs": [],
   "source": [
    "stats.kstest(dt['IAT'], exp.cdf)"
   ]
  },
  {
   "cell_type": "code",
   "execution_count": null,
   "metadata": {
    "ExecuteTime": {
     "start_time": "2020-07-13T21:53:01.943Z"
    }
   },
   "outputs": [],
   "source": [
    "tdata=pd.DataFrame(exp.rvs(1000000))"
   ]
  },
  {
   "cell_type": "code",
   "execution_count": null,
   "metadata": {
    "ExecuteTime": {
     "start_time": "2020-07-13T21:53:01.946Z"
    },
    "scrolled": true
   },
   "outputs": [],
   "source": [
    "tdata.hist(bins=50, density=True)\n",
    "plt.grid(True)"
   ]
  },
  {
   "cell_type": "code",
   "execution_count": null,
   "metadata": {},
   "outputs": [],
   "source": []
  }
 ],
 "metadata": {
  "kernelspec": {
   "display_name": "Python 3",
   "language": "python",
   "name": "python3"
  },
  "language_info": {
   "codemirror_mode": {
    "name": "ipython",
    "version": 3
   },
   "file_extension": ".py",
   "mimetype": "text/x-python",
   "name": "python",
   "nbconvert_exporter": "python",
   "pygments_lexer": "ipython3",
   "version": "3.8.1"
  },
  "latex_envs": {
   "LaTeX_envs_menu_present": true,
   "autoclose": false,
   "autocomplete": true,
   "bibliofile": "biblio.bib",
   "cite_by": "apalike",
   "current_citInitial": 1,
   "eqLabelWithNumbers": true,
   "eqNumInitial": 1,
   "hotkeys": {
    "equation": "Ctrl-E",
    "itemize": "Ctrl-I"
   },
   "labels_anchors": false,
   "latex_user_defs": false,
   "report_style_numbering": false,
   "user_envs_cfg": false
  },
  "toc": {
   "base_numbering": 1,
   "nav_menu": {},
   "number_sections": true,
   "sideBar": true,
   "skip_h1_title": false,
   "title_cell": "Table of Contents",
   "title_sidebar": "Contents",
   "toc_cell": true,
   "toc_position": {},
   "toc_section_display": true,
   "toc_window_display": false
  },
  "varInspector": {
   "cols": {
    "lenName": 16,
    "lenType": 16,
    "lenVar": 40
   },
   "kernels_config": {
    "python": {
     "delete_cmd_postfix": "",
     "delete_cmd_prefix": "del ",
     "library": "var_list.py",
     "varRefreshCmd": "print(var_dic_list())"
    },
    "r": {
     "delete_cmd_postfix": ") ",
     "delete_cmd_prefix": "rm(",
     "library": "var_list.r",
     "varRefreshCmd": "cat(var_dic_list()) "
    }
   },
   "types_to_exclude": [
    "module",
    "function",
    "builtin_function_or_method",
    "instance",
    "_Feature"
   ],
   "window_display": false
  }
 },
 "nbformat": 4,
 "nbformat_minor": 2
}
