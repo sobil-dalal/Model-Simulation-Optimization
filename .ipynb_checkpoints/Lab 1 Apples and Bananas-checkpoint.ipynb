{
 "cells": [
  {
   "cell_type": "markdown",
   "metadata": {
    "toc": true
   },
   "source": [
    "<h1>Table of Contents<span class=\"tocSkip\"></span></h1>\n",
    "<div class=\"toc\"><ul class=\"toc-item\"><li><span><a href=\"#Plotting-Routine\" data-toc-modified-id=\"Plotting-Routine-1\"><span class=\"toc-item-num\">1&nbsp;&nbsp;</span>Plotting Routine</a></span></li><li><span><a href=\"#Apples-and-Bananas\" data-toc-modified-id=\"Apples-and-Bananas-2\"><span class=\"toc-item-num\">2&nbsp;&nbsp;</span>Apples and Bananas</a></span><ul class=\"toc-item\"><li><span><a href=\"#The-Puzzle\" data-toc-modified-id=\"The-Puzzle-2.1\"><span class=\"toc-item-num\">2.1&nbsp;&nbsp;</span>The Puzzle</a></span></li><li><span><a href=\"#Variation-1\" data-toc-modified-id=\"Variation-1-2.2\"><span class=\"toc-item-num\">2.2&nbsp;&nbsp;</span>Variation 1</a></span></li><li><span><a href=\"#Variation-2\" data-toc-modified-id=\"Variation-2-2.3\"><span class=\"toc-item-num\">2.3&nbsp;&nbsp;</span>Variation 2</a></span></li></ul></li></ul></div>"
   ]
  },
  {
   "cell_type": "code",
   "execution_count": 1,
   "metadata": {
    "ExecuteTime": {
     "end_time": "2020-05-28T09:16:46.469680Z",
     "start_time": "2020-05-28T09:16:42.417884Z"
    },
    "scrolled": true
   },
   "outputs": [],
   "source": [
    "# Import required library\n",
    "import matplotlib.pyplot as plt\n",
    "import scipy.optimize as opt"
   ]
  },
  {
   "cell_type": "markdown",
   "metadata": {
    "heading_collapsed": true
   },
   "source": [
    "# Plotting Routine"
   ]
  },
  {
   "cell_type": "code",
   "execution_count": 2,
   "metadata": {
    "ExecuteTime": {
     "end_time": "2020-05-28T09:16:46.500411Z",
     "start_time": "2020-05-28T09:16:46.472545Z"
    },
    "hidden": true
   },
   "outputs": [],
   "source": [
    "def line(A,b,i,x):\n",
    "    return (b[i]-A[i][0]*x)/A[i][1]\n",
    "\n",
    "def grad(c,g,x):\n",
    "    return (g-c[0]*x)/c[1]\n",
    "\n",
    "def MIN(a, b):\n",
    "    return b if a==None else a if b==None else min(a,b)\n",
    "\n",
    "def MAX(a, b):\n",
    "    return b if a==None else a if b==None else max(a,b)\n",
    "    \n",
    "def plot_linopt(A, b, c, bounds, res, \n",
    "                borders=None, dx=5, dy=5,\n",
    "                title=None, labels=None, \n",
    "                solution=None, legend=None, output=False):\n",
    " \n",
    "    ax=plt.axes()\n",
    "    ax.grid(True)\n",
    "    \n",
    "    if borders==None:\n",
    "        borders=[(res.x[0]-dx, res.x[0]+dx),\n",
    "                 (res.x[1]-dy, res.x[1]+dy)]\n",
    "    \n",
    "    # set drawing region (xmin, xmax) (ymin, ymax)\n",
    "    xmin = borders[0][0]\n",
    "    xmax = borders[0][1]\n",
    "    ymin = borders[1][0]\n",
    "    ymax = borders[1][1]\n",
    "    \n",
    "    ax.set_xlim((xmin,xmax))\n",
    "    ax.set_ylim((ymin,ymax))\n",
    "    if labels!=None:\n",
    "        plt.xlabel(labels[0])\n",
    "        plt.ylabel(labels[1])\n",
    "\n",
    "    if legend==None:\n",
    "        legend=[]\n",
    "        for i in range(0, len(A)):\n",
    "            legend+=['Constraint '+str(i)]\n",
    "    \n",
    "    if solution==None:\n",
    "        solution='Solution'\n",
    "        \n",
    "\n",
    "    \n",
    "    # compute visual bounds (drawing limits if there is no bound)\n",
    "    xleft = MAX(bounds[0][0], borders[0][0])\n",
    "    xright = MIN(bounds[0][1], borders[0][1])\n",
    "    ybottom = MAX(bounds[1][0], borders[1][0]) \n",
    "    ytop = MIN(bounds[1][1], borders[1][1])\n",
    "    \n",
    "    # plot constraints\n",
    "    x=[xmin,xmax]\n",
    "    lines=[]\n",
    "    for i in range(0, len(A)):\n",
    "        y = [line(A,b,i,xmin), line(A,b,i,xmax)]\n",
    "        l=plt.plot(x,y,label=legend[i])\n",
    "        plt.fill_between(x, y, ymin if A[i][1]>0 else ymax, alpha=0.3)\n",
    "        lines=lines+[l[0]]\n",
    "    \n",
    "    # plot bounding box\n",
    "    rangex=[xleft, xright, xright, xleft, xleft]\n",
    "    rangey=[ybottom, ybottom, ytop, ytop, ybottom]\n",
    "    l=plt.plot(rangex, rangey,label='Bounds')\n",
    "    plt.fill_between(rangex, rangey, alpha=0.3)\n",
    "    lines+=[l[0]]\n",
    "\n",
    "    # plot optimal cost function\n",
    "    x=[xmin,xmax]\n",
    "    lopt=plt.plot(x, [grad(c,res.fun,xmin),grad(c,res.fun,xmax)], \n",
    "                  color='red', label=solution)    \n",
    "\n",
    "    # plot optimal solution\n",
    "    plt.plot(res.x[0],res.x[1],'ro')\n",
    "\n",
    "    if legend!=None:\n",
    "        plt.legend(handles=lines+[lopt[0]])\n",
    "        \n",
    "    if title!=None: \n",
    "        plt.suptitle(title)\n",
    "    \n",
    "    if output:\n",
    "        print(solution, '=', res.fun)\n",
    "        for i in range(0, len(c)):\n",
    "            print(labels[i],'=',res.x[i])"
   ]
  },
  {
   "cell_type": "markdown",
   "metadata": {},
   "source": [
    "#  Apples and Bananas"
   ]
  },
  {
   "cell_type": "markdown",
   "metadata": {},
   "source": [
    "## The Puzzle"
   ]
  },
  {
   "cell_type": "code",
   "execution_count": 3,
   "metadata": {
    "ExecuteTime": {
     "end_time": "2020-05-28T09:16:46.508757Z",
     "start_time": "2020-05-28T09:16:46.504498Z"
    }
   },
   "outputs": [],
   "source": [
    "# Input parameters and bounds\n",
    "A = [[-2,1], [0.5, -1]]\n",
    "b = [0,0]\n",
    "c = [-1, -1]\n",
    "bounds=[(0, 9),(0, 4)]  # no more than 9 apples and 4 bananas"
   ]
  },
  {
   "cell_type": "code",
   "execution_count": 4,
   "metadata": {
    "ExecuteTime": {
     "end_time": "2020-05-28T09:16:46.522505Z",
     "start_time": "2020-05-28T09:16:46.512492Z"
    }
   },
   "outputs": [],
   "source": [
    "# Run the model\n",
    "res = opt.linprog(c, A, b, bounds=bounds, method='simplex')"
   ]
  },
  {
   "cell_type": "code",
   "execution_count": 5,
   "metadata": {
    "ExecuteTime": {
     "end_time": "2020-05-28T09:17:55.438687Z",
     "start_time": "2020-05-28T09:17:55.435469Z"
    }
   },
   "outputs": [],
   "source": [
    "[apples, bananas]=res.x"
   ]
  },
  {
   "cell_type": "code",
   "execution_count": 6,
   "metadata": {
    "ExecuteTime": {
     "end_time": "2020-05-28T09:18:06.848270Z",
     "start_time": "2020-05-28T09:18:06.842799Z"
    }
   },
   "outputs": [
    {
     "data": {
      "text/plain": [
       "8.0"
      ]
     },
     "execution_count": 6,
     "metadata": {},
     "output_type": "execute_result"
    }
   ],
   "source": [
    "apples"
   ]
  },
  {
   "cell_type": "code",
   "execution_count": 7,
   "metadata": {
    "ExecuteTime": {
     "end_time": "2020-05-28T09:18:20.742341Z",
     "start_time": "2020-05-28T09:18:20.736558Z"
    }
   },
   "outputs": [
    {
     "data": {
      "text/plain": [
       "4.0"
      ]
     },
     "execution_count": 7,
     "metadata": {},
     "output_type": "execute_result"
    }
   ],
   "source": [
    "bananas"
   ]
  },
  {
   "cell_type": "code",
   "execution_count": 8,
   "metadata": {
    "ExecuteTime": {
     "end_time": "2020-05-28T09:18:38.136880Z",
     "start_time": "2020-05-28T09:18:38.131565Z"
    }
   },
   "outputs": [
    {
     "data": {
      "text/plain": [
       "-12.0"
      ]
     },
     "execution_count": 8,
     "metadata": {},
     "output_type": "execute_result"
    }
   ],
   "source": [
    "res.fun"
   ]
  },
  {
   "cell_type": "code",
   "execution_count": 9,
   "metadata": {
    "ExecuteTime": {
     "end_time": "2020-05-28T09:16:46.942736Z",
     "start_time": "2020-05-28T09:16:46.524592Z"
    }
   },
   "outputs": [
    {
     "data": {
      "image/png": "[encoded data removed]",
      "text/plain": [
       "<Figure size 432x288 with 1 Axes>"
      ]
     },
     "metadata": {
      "needs_background": "light"
     },
     "output_type": "display_data"
    }
   ],
   "source": [
    "# Drawing \n",
    "# fig=plt.figure(figsize=(4,4), dpi=300)\n",
    "plot_linopt(A, b, c, bounds, res, \n",
    "            borders=[(-2, 10), (-2,10)], \n",
    "            title='Apples and Bananas',\n",
    "            labels=['Apples', 'Bananas'], \n",
    "            legend=['Upper Bound Bananas', \n",
    "                    'Lower Bound Bananas'])"
   ]
  },
  {
   "cell_type": "markdown",
   "metadata": {},
   "source": [
    "## Variation 1"
   ]
  },
  {
   "cell_type": "markdown",
   "metadata": {},
   "source": [
    "Drop Positivity Condition "
   ]
  },
  {
   "cell_type": "code",
   "execution_count": 10,
   "metadata": {
    "ExecuteTime": {
     "end_time": "2020-05-28T09:16:46.948844Z",
     "start_time": "2020-05-28T09:16:46.945453Z"
    }
   },
   "outputs": [],
   "source": [
    "bounds=[(None, 9),(None, 4)]  # no more than 9 apples and 4 bananas"
   ]
  },
  {
   "cell_type": "code",
   "execution_count": 11,
   "metadata": {
    "ExecuteTime": {
     "end_time": "2020-05-28T09:16:46.959985Z",
     "start_time": "2020-05-28T09:16:46.951649Z"
    }
   },
   "outputs": [],
   "source": [
    "res=opt.linprog(c, A, b, bounds=bounds, method='simplex')"
   ]
  },
  {
   "cell_type": "code",
   "execution_count": 12,
   "metadata": {
    "ExecuteTime": {
     "end_time": "2020-05-28T09:16:47.262412Z",
     "start_time": "2020-05-28T09:16:46.965029Z"
    }
   },
   "outputs": [
    {
     "data": {
      "image/png": "[encoded data removed]",
      "text/plain": [
       "<Figure size 432x288 with 1 Axes>"
      ]
     },
     "metadata": {
      "needs_background": "light"
     },
     "output_type": "display_data"
    }
   ],
   "source": [
    "# fig=plt.figure(figsize=(4,4), dpi=300)\n",
    "plot_linopt(A, b, c, bounds, res, \n",
    "            borders=[(-2, 10), (-2,10)], \n",
    "            title='Apples and Bananas',\n",
    "            labels=['Apples', 'Bananas'], \n",
    "            legend=['Upper Bound Bananas', \n",
    "                    'Lower Bound Bananas'])"
   ]
  },
  {
   "cell_type": "markdown",
   "metadata": {},
   "source": [
    "## Variation 2"
   ]
  },
  {
   "cell_type": "markdown",
   "metadata": {},
   "source": [
    "Automatic setting of drawing region around solution"
   ]
  },
  {
   "cell_type": "code",
   "execution_count": 13,
   "metadata": {
    "ExecuteTime": {
     "end_time": "2020-05-28T09:16:47.270228Z",
     "start_time": "2020-05-28T09:16:47.266670Z"
    }
   },
   "outputs": [],
   "source": [
    "bounds=[(0, 9),(0, 4)]  # no more than 9 apples and 4 bananas"
   ]
  },
  {
   "cell_type": "code",
   "execution_count": 14,
   "metadata": {
    "ExecuteTime": {
     "end_time": "2020-05-28T09:16:47.283516Z",
     "start_time": "2020-05-28T09:16:47.272740Z"
    }
   },
   "outputs": [],
   "source": [
    "res=opt.linprog(c, A, b, bounds=bounds, method='simplex')"
   ]
  },
  {
   "cell_type": "code",
   "execution_count": 15,
   "metadata": {
    "ExecuteTime": {
     "end_time": "2020-05-28T09:16:47.565671Z",
     "start_time": "2020-05-28T09:16:47.286120Z"
    }
   },
   "outputs": [
    {
     "data": {
      "image/png": "[encoded data removed]",
      "text/plain": [
       "<Figure size 432x288 with 1 Axes>"
      ]
     },
     "metadata": {
      "needs_background": "light"
     },
     "output_type": "display_data"
    }
   ],
   "source": [
    "# fig=plt.figure(figsize=(4,4), dpi=300)\n",
    "plot_linopt(A, b, c, bounds, res, \n",
    "            title='Apples and Bananas',\n",
    "            labels=['Apples', 'Bananas'], \n",
    "            legend=['Upper Bound Bananas', \n",
    "                    'Lower Bound Bananas'])"
   ]
  },
  {
   "cell_type": "code",
   "execution_count": null,
   "metadata": {},
   "outputs": [],
   "source": [
    "# Refe"
   ]
  }
 ],
 "metadata": {
  "kernelspec": {
   "display_name": "Python 3",
   "language": "python",
   "name": "python3"
  },
  "language_info": {
   "codemirror_mode": {
    "name": "ipython",
    "version": 3
   },
   "file_extension": ".py",
   "mimetype": "text/x-python",
   "name": "python",
   "nbconvert_exporter": "python",
   "pygments_lexer": "ipython3",
   "version": "3.8.1"
  },
  "latex_envs": {
   "LaTeX_envs_menu_present": true,
   "autoclose": false,
   "autocomplete": true,
   "bibliofile": "biblio.bib",
   "cite_by": "apalike",
   "current_citInitial": 1,
   "eqLabelWithNumbers": true,
   "eqNumInitial": 1,
   "hotkeys": {
    "equation": "Ctrl-E",
    "itemize": "Ctrl-I"
   },
   "labels_anchors": false,
   "latex_user_defs": false,
   "report_style_numbering": false,
   "user_envs_cfg": false
  },
  "toc": {
   "base_numbering": 1,
   "nav_menu": {},
   "number_sections": true,
   "sideBar": true,
   "skip_h1_title": false,
   "title_cell": "Table of Contents",
   "title_sidebar": "Contents",
   "toc_cell": true,
   "toc_position": {},
   "toc_section_display": true,
   "toc_window_display": false
  },
  "varInspector": {
   "cols": {
    "lenName": 16,
    "lenType": 16,
    "lenVar": 40
   },
   "kernels_config": {
    "python": {
     "delete_cmd_postfix": "",
     "delete_cmd_prefix": "del ",
     "library": "var_list.py",
     "varRefreshCmd": "print(var_dic_list())"
    },
    "r": {
     "delete_cmd_postfix": ") ",
     "delete_cmd_prefix": "rm(",
     "library": "var_list.r",
     "varRefreshCmd": "cat(var_dic_list()) "
    }
   },
   "types_to_exclude": [
    "module",
    "function",
    "builtin_function_or_method",
    "instance",
    "_Feature"
   ],
   "window_display": false
  }
 },
 "nbformat": 4,
 "nbformat_minor": 2
}
