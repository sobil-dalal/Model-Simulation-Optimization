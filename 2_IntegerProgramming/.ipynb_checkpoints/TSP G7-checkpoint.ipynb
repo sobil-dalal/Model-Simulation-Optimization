{
 "cells": [
  {
   "cell_type": "markdown",
   "metadata": {
    "toc": true
   },
   "source": [
    "<h1>Table of Contents<span class=\"tocSkip\"></span></h1>\n",
    "<div class=\"toc\"><ul class=\"toc-item\"></ul></div>"
   ]
  },
  {
   "cell_type": "code",
   "execution_count": 1,
   "metadata": {
    "ExecuteTime": {
     "end_time": "2020-06-02T03:21:00.257009Z",
     "start_time": "2020-06-02T03:20:59.662089Z"
    }
   },
   "outputs": [],
   "source": [
    "import pandas as pd\n",
    "import pulp"
   ]
  },
  {
   "cell_type": "code",
   "execution_count": 2,
   "metadata": {
    "ExecuteTime": {
     "end_time": "2020-06-02T03:21:00.267150Z",
     "start_time": "2020-06-02T03:21:00.259473Z"
    }
   },
   "outputs": [],
   "source": [
    "g7=pd.read_csv('G7 Distances.csv')"
   ]
  },
  {
   "cell_type": "code",
   "execution_count": 3,
   "metadata": {
    "ExecuteTime": {
     "end_time": "2020-06-02T03:21:00.292167Z",
     "start_time": "2020-06-02T03:21:00.270249Z"
    }
   },
   "outputs": [
    {
     "data": {
      "text/html": [
       "<div>\n",
       "<style scoped>\n",
       "    .dataframe tbody tr th:only-of-type {\n",
       "        vertical-align: middle;\n",
       "    }\n",
       "\n",
       "    .dataframe tbody tr th {\n",
       "        vertical-align: top;\n",
       "    }\n",
       "\n",
       "    .dataframe thead th {\n",
       "        text-align: right;\n",
       "    }\n",
       "</style>\n",
       "<table border=\"1\" class=\"dataframe\">\n",
       "  <thead>\n",
       "    <tr style=\"text-align: right;\">\n",
       "      <th></th>\n",
       "      <th>Capital</th>\n",
       "      <th>Country</th>\n",
       "      <th>latitude</th>\n",
       "      <th>longitude</th>\n",
       "      <th>Ottawa</th>\n",
       "      <th>Paris</th>\n",
       "      <th>Berlin</th>\n",
       "      <th>Rom</th>\n",
       "      <th>Tokyo</th>\n",
       "      <th>London</th>\n",
       "      <th>Washington</th>\n",
       "    </tr>\n",
       "  </thead>\n",
       "  <tbody>\n",
       "    <tr>\n",
       "      <th>0</th>\n",
       "      <td>Ottawa</td>\n",
       "      <td>Canada</td>\n",
       "      <td>45.421106</td>\n",
       "      <td>-75.690308</td>\n",
       "      <td>0</td>\n",
       "      <td>5648</td>\n",
       "      <td>6127</td>\n",
       "      <td>6728</td>\n",
       "      <td>10319</td>\n",
       "      <td>5360</td>\n",
       "      <td>734</td>\n",
       "    </tr>\n",
       "    <tr>\n",
       "      <th>1</th>\n",
       "      <td>Paris</td>\n",
       "      <td>France</td>\n",
       "      <td>48.856697</td>\n",
       "      <td>2.351462</td>\n",
       "      <td>5648</td>\n",
       "      <td>0</td>\n",
       "      <td>876</td>\n",
       "      <td>1105</td>\n",
       "      <td>9715</td>\n",
       "      <td>343</td>\n",
       "      <td>6165</td>\n",
       "    </tr>\n",
       "    <tr>\n",
       "      <th>2</th>\n",
       "      <td>Berlin</td>\n",
       "      <td>Germany</td>\n",
       "      <td>52.517037</td>\n",
       "      <td>13.388860</td>\n",
       "      <td>6127</td>\n",
       "      <td>876</td>\n",
       "      <td>0</td>\n",
       "      <td>1183</td>\n",
       "      <td>8920</td>\n",
       "      <td>930</td>\n",
       "      <td>6710</td>\n",
       "    </tr>\n",
       "    <tr>\n",
       "      <th>3</th>\n",
       "      <td>Rom</td>\n",
       "      <td>Italy</td>\n",
       "      <td>41.893320</td>\n",
       "      <td>12.482932</td>\n",
       "      <td>6728</td>\n",
       "      <td>1105</td>\n",
       "      <td>1183</td>\n",
       "      <td>0</td>\n",
       "      <td>9859</td>\n",
       "      <td>1433</td>\n",
       "      <td>7217</td>\n",
       "    </tr>\n",
       "    <tr>\n",
       "      <th>4</th>\n",
       "      <td>Tokyo</td>\n",
       "      <td>Japan</td>\n",
       "      <td>35.682839</td>\n",
       "      <td>139.759455</td>\n",
       "      <td>10319</td>\n",
       "      <td>9715</td>\n",
       "      <td>8920</td>\n",
       "      <td>9859</td>\n",
       "      <td>0</td>\n",
       "      <td>9561</td>\n",
       "      <td>10902</td>\n",
       "    </tr>\n",
       "    <tr>\n",
       "      <th>5</th>\n",
       "      <td>London</td>\n",
       "      <td>UK</td>\n",
       "      <td>51.507322</td>\n",
       "      <td>-0.127647</td>\n",
       "      <td>5360</td>\n",
       "      <td>343</td>\n",
       "      <td>930</td>\n",
       "      <td>1433</td>\n",
       "      <td>9561</td>\n",
       "      <td>0</td>\n",
       "      <td>5898</td>\n",
       "    </tr>\n",
       "    <tr>\n",
       "      <th>6</th>\n",
       "      <td>Washington</td>\n",
       "      <td>USA</td>\n",
       "      <td>38.894985</td>\n",
       "      <td>-77.036571</td>\n",
       "      <td>734</td>\n",
       "      <td>6165</td>\n",
       "      <td>6710</td>\n",
       "      <td>7217</td>\n",
       "      <td>10902</td>\n",
       "      <td>5898</td>\n",
       "      <td>0</td>\n",
       "    </tr>\n",
       "  </tbody>\n",
       "</table>\n",
       "</div>"
      ],
      "text/plain": [
       "      Capital  Country   latitude   longitude  Ottawa  Paris  Berlin   Rom  \\\n",
       "0      Ottawa   Canada  45.421106  -75.690308       0   5648    6127  6728   \n",
       "1       Paris   France  48.856697    2.351462    5648      0     876  1105   \n",
       "2      Berlin  Germany  52.517037   13.388860    6127    876       0  1183   \n",
       "3         Rom    Italy  41.893320   12.482932    6728   1105    1183     0   \n",
       "4       Tokyo    Japan  35.682839  139.759455   10319   9715    8920  9859   \n",
       "5      London       UK  51.507322   -0.127647    5360    343     930  1433   \n",
       "6  Washington      USA  38.894985  -77.036571     734   6165    6710  7217   \n",
       "\n",
       "   Tokyo  London  Washington  \n",
       "0  10319    5360         734  \n",
       "1   9715     343        6165  \n",
       "2   8920     930        6710  \n",
       "3   9859    1433        7217  \n",
       "4      0    9561       10902  \n",
       "5   9561       0        5898  \n",
       "6  10902    5898           0  "
      ]
     },
     "execution_count": 3,
     "metadata": {},
     "output_type": "execute_result"
    }
   ],
   "source": [
    "g7.head(7)"
   ]
  },
  {
   "cell_type": "code",
   "execution_count": 4,
   "metadata": {
    "ExecuteTime": {
     "end_time": "2020-06-02T03:21:00.298132Z",
     "start_time": "2020-06-02T03:21:00.295021Z"
    }
   },
   "outputs": [],
   "source": [
    "n = len(g7)\n",
    "capitals = list(g7['Capital'])"
   ]
  },
  {
   "cell_type": "code",
   "execution_count": 5,
   "metadata": {
    "ExecuteTime": {
     "end_time": "2020-06-02T03:21:00.304815Z",
     "start_time": "2020-06-02T03:21:00.300428Z"
    }
   },
   "outputs": [
    {
     "data": {
      "text/plain": [
       "['Ottawa', 'Paris', 'Berlin', 'Rom', 'Tokyo', 'London', 'Washington']"
      ]
     },
     "execution_count": 5,
     "metadata": {},
     "output_type": "execute_result"
    }
   ],
   "source": [
    "capitals"
   ]
  },
  {
   "cell_type": "code",
   "execution_count": 6,
   "metadata": {
    "ExecuteTime": {
     "end_time": "2020-06-02T03:21:00.310539Z",
     "start_time": "2020-06-02T03:21:00.307061Z"
    }
   },
   "outputs": [],
   "source": [
    "def distance(i, j):\n",
    "    return g7.loc[i][capitals[j]]"
   ]
  },
  {
   "cell_type": "code",
   "execution_count": 7,
   "metadata": {
    "ExecuteTime": {
     "end_time": "2020-06-02T03:21:00.318911Z",
     "start_time": "2020-06-02T03:21:00.312950Z"
    }
   },
   "outputs": [
    {
     "data": {
      "text/plain": [
       "5648"
      ]
     },
     "execution_count": 7,
     "metadata": {},
     "output_type": "execute_result"
    }
   ],
   "source": [
    "distance(0, 1)"
   ]
  },
  {
   "cell_type": "markdown",
   "metadata": {},
   "source": [
    "Define a set of variables"
   ]
  },
  {
   "cell_type": "code",
   "execution_count": 8,
   "metadata": {
    "ExecuteTime": {
     "end_time": "2020-06-02T03:21:00.328810Z",
     "start_time": "2020-06-02T03:21:00.323940Z"
    }
   },
   "outputs": [],
   "source": [
    "x = pulp.LpVariable.dicts(\"x\", ( range(0,n), range(0,n) ),\n",
    "                          lowBound=0, upBound=1, \n",
    "                          cat=pulp.LpInteger)"
   ]
  },
  {
   "cell_type": "markdown",
   "metadata": {},
   "source": [
    "Define the problem"
   ]
  },
  {
   "cell_type": "code",
   "execution_count": 9,
   "metadata": {
    "ExecuteTime": {
     "end_time": "2020-06-02T03:21:00.335183Z",
     "start_time": "2020-06-02T03:21:00.332134Z"
    }
   },
   "outputs": [],
   "source": [
    "prob = pulp.LpProblem(\"TSPG7\",pulp.LpMinimize)"
   ]
  },
  {
   "cell_type": "markdown",
   "metadata": {},
   "source": [
    "Define the objective function"
   ]
  },
  {
   "cell_type": "code",
   "execution_count": 10,
   "metadata": {
    "ExecuteTime": {
     "end_time": "2020-06-02T03:21:00.364205Z",
     "start_time": "2020-06-02T03:21:00.337627Z"
    }
   },
   "outputs": [],
   "source": [
    "prob += pulp.lpSum([ distance(i,j)*x[i][j] \n",
    "                        for i in range(0,n)\n",
    "                            for j in range(0,n) \n",
    "                                if i!=j\n",
    "                   ])"
   ]
  },
  {
   "cell_type": "markdown",
   "metadata": {},
   "source": [
    "Define the Constraints"
   ]
  },
  {
   "cell_type": "markdown",
   "metadata": {},
   "source": [
    "Every town was entered only once:"
   ]
  },
  {
   "cell_type": "code",
   "execution_count": 11,
   "metadata": {
    "ExecuteTime": {
     "end_time": "2020-06-02T03:21:00.373545Z",
     "start_time": "2020-06-02T03:21:00.367307Z"
    }
   },
   "outputs": [],
   "source": [
    "for j in range(0,n):\n",
    "    prob += pulp.lpSum([ x[i][j] \n",
    "                            for i in range(0,n) \n",
    "                                if i!=j\n",
    "                       ]) ==1"
   ]
  },
  {
   "cell_type": "markdown",
   "metadata": {},
   "source": [
    "Every town was left only once:"
   ]
  },
  {
   "cell_type": "code",
   "execution_count": 12,
   "metadata": {
    "ExecuteTime": {
     "end_time": "2020-06-02T03:21:00.383356Z",
     "start_time": "2020-06-02T03:21:00.376740Z"
    }
   },
   "outputs": [],
   "source": [
    "for i in range(0,n):\n",
    "    prob += pulp.lpSum([ x[i][j] \n",
    "                            for j in range(0,n) \n",
    "                                if i!=j\n",
    "                       ]) ==1"
   ]
  },
  {
   "cell_type": "markdown",
   "metadata": {},
   "source": [
    "There are no sub-cycles of length k < n/2"
   ]
  },
  {
   "cell_type": "code",
   "execution_count": 13,
   "metadata": {
    "ExecuteTime": {
     "end_time": "2020-06-02T03:21:00.394204Z",
     "start_time": "2020-06-02T03:21:00.386543Z"
    }
   },
   "outputs": [],
   "source": [
    "def cycles(k, n):\n",
    "    if k==1:\n",
    "        return [ [i] for i in range(0,n) ]\n",
    "    else:\n",
    "        sc=cycles(k-1, n)\n",
    "        all=[]\n",
    "        for c in sc:\n",
    "            for i in range(0,n):\n",
    "                if c.count(i)==0:\n",
    "                    all.append(c+[i])\n",
    "        return all"
   ]
  },
  {
   "cell_type": "code",
   "execution_count": 14,
   "metadata": {
    "ExecuteTime": {
     "end_time": "2020-06-02T03:21:00.410947Z",
     "start_time": "2020-06-02T03:21:00.398775Z"
    }
   },
   "outputs": [],
   "source": [
    "for k in range(2,n//2+1):\n",
    "    cycs=cycles(k,n)\n",
    "    for c in cycs:\n",
    "        c.append(c[0])\n",
    "        prob+=pulp.lpSum([ x[c[i]][c[i+1]] for i in range(0,k)]) <= k-1"
   ]
  },
  {
   "cell_type": "code",
   "execution_count": 16,
   "metadata": {
    "ExecuteTime": {
     "end_time": "2020-06-02T03:21:00.578152Z",
     "start_time": "2020-06-02T03:21:00.427071Z"
    }
   },
   "outputs": [
    {
     "data": {
      "text/plain": [
       "1"
      ]
     },
     "execution_count": 16,
     "metadata": {},
     "output_type": "execute_result"
    }
   ],
   "source": [
    "prob.solve()"
   ]
  },
  {
   "cell_type": "code",
   "execution_count": 17,
   "metadata": {
    "ExecuteTime": {
     "end_time": "2020-06-02T03:21:00.588606Z",
     "start_time": "2020-06-02T03:21:00.580451Z"
    }
   },
   "outputs": [
    {
     "data": {
      "text/plain": [
       "['Berlin', 'Tokyo', 'Ottawa', 'Washington', 'London', 'Paris', 'Rom', 'Berlin']"
      ]
     },
     "execution_count": 17,
     "metadata": {},
     "output_type": "execute_result"
    }
   ],
   "source": [
    "start = capitals.index('Berlin')\n",
    "trip = [ capitals[start] ]\n",
    "i = start\n",
    "while len(trip)<n:\n",
    "    for j in range(0, n):\n",
    "        if pulp.value(x[i][j])==1:\n",
    "            trip.append(capitals[j])\n",
    "            i=j\n",
    "            break\n",
    "trip.append(capitals[start])\n",
    "trip"
   ]
  },
  {
   "cell_type": "code",
   "execution_count": 18,
   "metadata": {
    "ExecuteTime": {
     "end_time": "2020-06-02T03:21:00.594957Z",
     "start_time": "2020-06-02T03:21:00.590656Z"
    }
   },
   "outputs": [
    {
     "data": {
      "text/plain": [
       "28502.0"
      ]
     },
     "execution_count": 18,
     "metadata": {},
     "output_type": "execute_result"
    }
   ],
   "source": [
    "pulp.value(prob.objective)"
   ]
  },
  {
   "cell_type": "code",
   "execution_count": null,
   "metadata": {},
   "outputs": [],
   "source": []
  }
 ],
 "metadata": {
  "kernelspec": {
   "display_name": "Python 3",
   "language": "python",
   "name": "python3"
  },
  "language_info": {
   "codemirror_mode": {
    "name": "ipython",
    "version": 3
   },
   "file_extension": ".py",
   "mimetype": "text/x-python",
   "name": "python",
   "nbconvert_exporter": "python",
   "pygments_lexer": "ipython3",
   "version": "3.7.6"
  },
  "latex_envs": {
   "LaTeX_envs_menu_present": true,
   "autoclose": false,
   "autocomplete": true,
   "bibliofile": "biblio.bib",
   "cite_by": "apalike",
   "current_citInitial": 1,
   "eqLabelWithNumbers": true,
   "eqNumInitial": 1,
   "hotkeys": {
    "equation": "Ctrl-E",
    "itemize": "Ctrl-I"
   },
   "labels_anchors": false,
   "latex_user_defs": false,
   "report_style_numbering": false,
   "user_envs_cfg": false
  },
  "toc": {
   "base_numbering": 1,
   "nav_menu": {},
   "number_sections": true,
   "sideBar": true,
   "skip_h1_title": false,
   "title_cell": "Table of Contents",
   "title_sidebar": "Contents",
   "toc_cell": true,
   "toc_position": {},
   "toc_section_display": true,
   "toc_window_display": false
  },
  "varInspector": {
   "cols": {
    "lenName": 16,
    "lenType": 16,
    "lenVar": 40
   },
   "kernels_config": {
    "python": {
     "delete_cmd_postfix": "",
     "delete_cmd_prefix": "del ",
     "library": "var_list.py",
     "varRefreshCmd": "print(var_dic_list())"
    },
    "r": {
     "delete_cmd_postfix": ") ",
     "delete_cmd_prefix": "rm(",
     "library": "var_list.r",
     "varRefreshCmd": "cat(var_dic_list()) "
    }
   },
   "types_to_exclude": [
    "module",
    "function",
    "builtin_function_or_method",
    "instance",
    "_Feature"
   ],
   "window_display": false
  }
 },
 "nbformat": 4,
 "nbformat_minor": 2
}
