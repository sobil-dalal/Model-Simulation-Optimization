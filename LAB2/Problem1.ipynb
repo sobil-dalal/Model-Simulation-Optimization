{
 "cells": [
  {
   "cell_type": "markdown",
   "metadata": {
    "toc": true
   },
   "source": [
    "<h1>Table of Contents<span class=\"tocSkip\"></span></h1>\n",
    "<div class=\"toc\"><ul class=\"toc-item\"><li><span><a href=\"#Problem\" data-toc-modified-id=\"Problem-1\"><span class=\"toc-item-num\">1&nbsp;&nbsp;</span>Problem</a></span></li><li><span><a href=\"#Define-the-variables\" data-toc-modified-id=\"Define-the-variables-2\"><span class=\"toc-item-num\">2&nbsp;&nbsp;</span>Define the variables</a></span></li><li><span><a href=\"#Define-the-problem\" data-toc-modified-id=\"Define-the-problem-3\"><span class=\"toc-item-num\">3&nbsp;&nbsp;</span>Define the problem</a></span></li><li><span><a href=\"#Define-objective-function\" data-toc-modified-id=\"Define-objective-function-4\"><span class=\"toc-item-num\">4&nbsp;&nbsp;</span>Define objective function</a></span></li><li><span><a href=\"#Add-the-constraints\" data-toc-modified-id=\"Add-the-constraints-5\"><span class=\"toc-item-num\">5&nbsp;&nbsp;</span>Add the constraints</a></span></li><li><span><a href=\"#Extra-constraints\" data-toc-modified-id=\"Extra-constraints-6\"><span class=\"toc-item-num\">6&nbsp;&nbsp;</span>Extra constraints</a></span></li><li><span><a href=\"#Solve-the-problem\" data-toc-modified-id=\"Solve-the-problem-7\"><span class=\"toc-item-num\">7&nbsp;&nbsp;</span>Solve the problem</a></span></li></ul></div>"
   ]
  },
  {
   "cell_type": "markdown",
   "metadata": {
    "pycharm": {
     "name": "#%% md\n"
    }
   },
   "source": [
    "# Problem\n",
    "A couple are planning a hiking trip together. The husband carries a knapsack able to hold 20 kg of equipment, while the wife carries another knapsack able to hold 17 kg. There are several items that they would like to take on the trip, each with a weight and an estimated “benefit” (given by a number):\n",
    "<img src=\"./Problem1.jpg\" style=\"width: 400px;\">\n",
    "Solve the problem using Pulp!"
   ]
  },
  {
   "cell_type": "markdown",
   "metadata": {
    "collapsed": true
   },
   "source": [
    "# Define the variables"
   ]
  },
  {
   "cell_type": "code",
   "execution_count": 1,
   "metadata": {},
   "outputs": [],
   "source": [
    "import pulp"
   ]
  },
  {
   "cell_type": "code",
   "execution_count": 2,
   "metadata": {},
   "outputs": [],
   "source": [
    "ks = ['1','2']\n",
    "goods = ['stove', 'lamp', 'axe', 'binoculars', 'rope']\n",
    "x = pulp.LpVariable.dict(\"x\", (ks, goods), lowBound=0, upBound=1, cat=pulp.LpInteger)"
   ]
  },
  {
   "cell_type": "code",
   "execution_count": 3,
   "metadata": {
    "pycharm": {
     "name": "#%%\n"
    }
   },
   "outputs": [
    {
     "data": {
      "text/plain": [
       "{('1', 'stove'): x_1_stove,\n",
       " ('1', 'lamp'): x_1_lamp,\n",
       " ('1', 'axe'): x_1_axe,\n",
       " ('1', 'binoculars'): x_1_binoculars,\n",
       " ('1', 'rope'): x_1_rope,\n",
       " ('2', 'stove'): x_2_stove,\n",
       " ('2', 'lamp'): x_2_lamp,\n",
       " ('2', 'axe'): x_2_axe,\n",
       " ('2', 'binoculars'): x_2_binoculars,\n",
       " ('2', 'rope'): x_2_rope}"
      ]
     },
     "execution_count": 3,
     "metadata": {},
     "output_type": "execute_result"
    }
   ],
   "source": [
    "x"
   ]
  },
  {
   "cell_type": "code",
   "execution_count": 4,
   "metadata": {
    "pycharm": {
     "name": "#%%\n"
    }
   },
   "outputs": [
    {
     "data": {
      "text/plain": [
       "x_1_stove"
      ]
     },
     "execution_count": 4,
     "metadata": {},
     "output_type": "execute_result"
    }
   ],
   "source": [
    "x[('1','stove')]"
   ]
  },
  {
   "cell_type": "markdown",
   "metadata": {},
   "source": [
    "# Define the problem"
   ]
  },
  {
   "cell_type": "code",
   "execution_count": 5,
   "metadata": {},
   "outputs": [],
   "source": [
    "prob = pulp.LpProblem(\"Problem1\", sense=pulp.LpMaximize)\n"
   ]
  },
  {
   "cell_type": "markdown",
   "metadata": {},
   "source": [
    "# Define objective function"
   ]
  },
  {
   "cell_type": "code",
   "execution_count": 6,
   "metadata": {},
   "outputs": [
    {
     "data": {
      "text/plain": [
       "Problem1:\n",
       "MAXIMIZE\n",
       "6*x_1_axe + 3*x_1_binoculars + 9*x_1_lamp + 14*x_1_rope + 10*x_1_stove + 6*x_2_axe + 3*x_2_binoculars + 9*x_2_lamp + 14*x_2_rope + 10*x_2_stove + 0\n",
       "VARIABLES\n",
       "0 <= x_1_axe <= 1 Integer\n",
       "0 <= x_1_binoculars <= 1 Integer\n",
       "0 <= x_1_lamp <= 1 Integer\n",
       "0 <= x_1_rope <= 1 Integer\n",
       "0 <= x_1_stove <= 1 Integer\n",
       "0 <= x_2_axe <= 1 Integer\n",
       "0 <= x_2_binoculars <= 1 Integer\n",
       "0 <= x_2_lamp <= 1 Integer\n",
       "0 <= x_2_rope <= 1 Integer\n",
       "0 <= x_2_stove <= 1 Integer"
      ]
     },
     "execution_count": 6,
     "metadata": {},
     "output_type": "execute_result"
    }
   ],
   "source": [
    "prob += pulp.lpSum([10*x[(k,'stove')] + 9*x[(k,'lamp')] + 6*x[(k,'axe')] + 3*x[(k, 'binoculars')] + 14*x[(k, 'rope')]\n",
    "                    for k in ks])\n",
    "prob"
   ]
  },
  {
   "cell_type": "markdown",
   "metadata": {},
   "source": [
    "# Add the constraints"
   ]
  },
  {
   "cell_type": "code",
   "execution_count": 7,
   "metadata": {
    "pycharm": {
     "name": "#%%\n"
    }
   },
   "outputs": [
    {
     "data": {
      "text/plain": [
       "Problem1:\n",
       "MAXIMIZE\n",
       "6*x_1_axe + 3*x_1_binoculars + 9*x_1_lamp + 14*x_1_rope + 10*x_1_stove + 6*x_2_axe + 3*x_2_binoculars + 9*x_2_lamp + 14*x_2_rope + 10*x_2_stove + 0\n",
       "SUBJECT TO\n",
       "_C1: 13 x_1_axe + 4 x_1_binoculars + 6 x_1_lamp + 9 x_1_rope + 7 x_1_stove\n",
       " <= 20\n",
       "\n",
       "_C2: 13 x_2_axe + 4 x_2_binoculars + 6 x_2_lamp + 9 x_2_rope + 7 x_2_stove\n",
       " <= 17\n",
       "\n",
       "VARIABLES\n",
       "0 <= x_1_axe <= 1 Integer\n",
       "0 <= x_1_binoculars <= 1 Integer\n",
       "0 <= x_1_lamp <= 1 Integer\n",
       "0 <= x_1_rope <= 1 Integer\n",
       "0 <= x_1_stove <= 1 Integer\n",
       "0 <= x_2_axe <= 1 Integer\n",
       "0 <= x_2_binoculars <= 1 Integer\n",
       "0 <= x_2_lamp <= 1 Integer\n",
       "0 <= x_2_rope <= 1 Integer\n",
       "0 <= x_2_stove <= 1 Integer"
      ]
     },
     "execution_count": 7,
     "metadata": {},
     "output_type": "execute_result"
    }
   ],
   "source": [
    "for k in ks:\n",
    "    rule = 20\n",
    "    if(k == '2'):\n",
    "        rule = 17\n",
    "    prob += 7*x[(k,'stove')] + 6*x[(k,'lamp')] + 13*x[(k,'axe')] + 4*x[(k, 'binoculars')] + 9*x[(k, 'rope')] <= rule\n",
    "prob"
   ]
  },
  {
   "cell_type": "markdown",
   "metadata": {
    "pycharm": {
     "name": "#%% md\n"
    }
   },
   "source": [
    "# Extra constraints\n",
    "add some extra constraints to ensure that:\n",
    "* if the husband carries the stove then he also carries the lamp\n",
    "* the wife carries the axe if and only if the husband carries the rope\n",
    "* it is impossible to pack both the lamp and the rope, whichever knapsacks are used\n",
    "* if the husband carries both the stove and the lamp then the wife carries the binoculars\n",
    "* if the stove and lamp are both packed then so are the binoculars, whichever knapsacks are used"
   ]
  },
  {
   "cell_type": "code",
   "execution_count": null,
   "metadata": {
    "pycharm": {
     "name": "#%%\n"
    }
   },
   "outputs": [],
   "source": [
    "prob +="
   ]
  },
  {
   "cell_type": "markdown",
   "metadata": {},
   "source": [
    "# Solve the problem"
   ]
  },
  {
   "cell_type": "code",
   "execution_count": 8,
   "metadata": {
    "pycharm": {
     "name": "#%%"
    }
   },
   "outputs": [
    {
     "data": {
      "text/plain": [
       "1"
      ]
     },
     "execution_count": 8,
     "metadata": {},
     "output_type": "execute_result"
    }
   ],
   "source": [
    "prob.solve()\n"
   ]
  },
  {
   "cell_type": "code",
   "execution_count": 10,
   "metadata": {
    "pycharm": {
     "name": "#%%\n"
    }
   },
   "outputs": [
    {
     "name": "stdout",
     "output_type": "stream",
     "text": [
      "stove is in knapsack 1\n",
      "stove is in knapsack 2\n",
      "binoculars is in knapsack 1\n",
      "rope is in knapsack 1\n",
      "rope is in knapsack 2\n"
     ]
    }
   ],
   "source": [
    "for g in goods:\n",
    "    for k in ks:\n",
    "        if(pulp.value(x[k,g]) == 1):\n",
    "            print(f\"{g} is in knapsack {k}\")\n"
   ]
  }
 ],
 "metadata": {
  "kernelspec": {
   "display_name": "Python 3",
   "language": "python",
   "name": "python3"
  },
  "language_info": {
   "codemirror_mode": {
    "name": "ipython",
    "version": 3
   },
   "file_extension": ".py",
   "mimetype": "text/x-python",
   "name": "python",
   "nbconvert_exporter": "python",
   "pygments_lexer": "ipython3",
   "version": "3.8.1"
  },
  "toc": {
   "base_numbering": 1,
   "nav_menu": {},
   "number_sections": true,
   "sideBar": true,
   "skip_h1_title": false,
   "title_cell": "Table of Contents",
   "title_sidebar": "Contents",
   "toc_cell": true,
   "toc_position": {
    "height": "calc(100% - 180px)",
    "left": "10px",
    "top": "150px",
    "width": "288px"
   },
   "toc_section_display": true,
   "toc_window_display": true
  }
 },
 "nbformat": 4,
 "nbformat_minor": 1
}