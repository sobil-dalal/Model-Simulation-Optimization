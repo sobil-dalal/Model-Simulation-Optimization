{
 "cells": [
  {
   "cell_type": "markdown",
   "metadata": {
    "toc": true
   },
   "source": [
    "<h1>Table of Contents<span class=\"tocSkip\"></span></h1>\n",
    "<div class=\"toc\"><ul class=\"toc-item\"><li><span><a href=\"#Problem\" data-toc-modified-id=\"Problem-1\"><span class=\"toc-item-num\">1&nbsp;&nbsp;</span>Problem</a></span></li><li><span><a href=\"#Define-the-variables\" data-toc-modified-id=\"Define-the-variables-2\"><span class=\"toc-item-num\">2&nbsp;&nbsp;</span>Define the variables</a></span></li><li><span><a href=\"#Define-the-problem\" data-toc-modified-id=\"Define-the-problem-3\"><span class=\"toc-item-num\">3&nbsp;&nbsp;</span>Define the problem</a></span></li><li><span><a href=\"#Define-objective-function\" data-toc-modified-id=\"Define-objective-function-4\"><span class=\"toc-item-num\">4&nbsp;&nbsp;</span>Define objective function</a></span></li><li><span><a href=\"#Add-the-constraints\" data-toc-modified-id=\"Add-the-constraints-5\"><span class=\"toc-item-num\">5&nbsp;&nbsp;</span>Add the constraints</a></span></li><li><span><a href=\"#Solve-the-problem\" data-toc-modified-id=\"Solve-the-problem-6\"><span class=\"toc-item-num\">6&nbsp;&nbsp;</span>Solve the problem</a></span></li></ul></div>"
   ]
  },
  {
   "cell_type": "markdown",
   "metadata": {
    "pycharm": {
     "name": "#%% md\n"
    }
   },
   "source": [
    "# Problem\n",
    "A couple are planning a hiking trip together. The husband carries a knapsack able to hold 20 kg of equipment, while the wife carries another knapsack able to hold 17 kg. There are several items that they would like to take on the trip, each with a weight and an estimated “benefit” (given by a number):\n",
    "<img src=\"./Problem1.jpg\" style=\"width: 400px;\">\n",
    "Solve the problem using Pulp!"
   ]
  },
  {
   "cell_type": "markdown",
   "metadata": {
    "collapsed": true
   },
   "source": [
    "# Define the variables"
   ]
  },
  {
   "cell_type": "code",
   "execution_count": 11,
   "metadata": {},
   "outputs": [],
   "source": [
    "import pulp"
   ]
  },
  {
   "cell_type": "code",
   "execution_count": 4,
   "metadata": {},
   "outputs": [],
   "source": [
    "ks = ['1','2']\n",
    "goods = ['stove', 'lamp', 'axe', 'binoculars', 'rope']\n",
    "x = pulp.LpVariable.dicts(\"x\", (ks, goods), lowBound=0, upBound=1, cat=pulp.LpInteger)"
   ]
  },
  {
   "cell_type": "code",
   "execution_count": 7,
   "metadata": {
    "pycharm": {
     "name": "#%%\n"
    }
   },
   "outputs": [
    {
     "data": {
      "text/plain": [
       "{'stove': x_1_stove,\n",
       " 'lamp': x_1_lamp,\n",
       " 'axe': x_1_axe,\n",
       " 'binoculars': x_1_binoculars,\n",
       " 'rope': x_1_rope}"
      ]
     },
     "execution_count": 7,
     "metadata": {},
     "output_type": "execute_result"
    }
   ],
   "source": [
    "x[\"1\"]"
   ]
  },
  {
   "cell_type": "markdown",
   "metadata": {},
   "source": [
    "# Define the problem"
   ]
  },
  {
   "cell_type": "code",
   "execution_count": 12,
   "metadata": {},
   "outputs": [],
   "source": [
    "prop = pulp.LpProblem(\"Problem1\", sense=pulp.LpMaximize)\n"
   ]
  },
  {
   "cell_type": "markdown",
   "metadata": {},
   "source": [
    "# Define objective function"
   ]
  },
  {
   "cell_type": "code",
   "execution_count": 14,
   "metadata": {},
   "outputs": [
    {
     "ename": "SyntaxError",
     "evalue": "invalid syntax (<ipython-input-14-aaa6dd41fc31>, line 1)",
     "output_type": "error",
     "traceback": [
      "\u001b[0;36m  File \u001b[0;32m\"<ipython-input-14-aaa6dd41fc31>\"\u001b[0;36m, line \u001b[0;32m1\u001b[0m\n\u001b[0;31m    prop+ = pulp.lpSum([10*x[(k,'stove')] + 9*x[(k,'lamp')] + 6*x[(k,'axe')] + 3*x[(k, 'binoculars')] + 14*x[(k, 'rope')]\u001b[0m\n\u001b[0m          ^\u001b[0m\n\u001b[0;31mSyntaxError\u001b[0m\u001b[0;31m:\u001b[0m invalid syntax\n"
     ]
    }
   ],
   "source": [
    "prop+ = pulp.lpSum([10*x[(k,'stove')] + 9*x[(k,'lamp')] + 6*x[(k,'axe')] + 3*x[(k, 'binoculars')] + 14*x[(k, 'rope')] \n",
    "                    for k in ks])"
   ]
  },
  {
   "cell_type": "markdown",
   "metadata": {},
   "source": [
    "# Add the constraints"
   ]
  },
  {
   "cell_type": "code",
   "execution_count": null,
   "metadata": {
    "pycharm": {
     "name": "#%%\n"
    }
   },
   "outputs": [],
   "source": []
  },
  {
   "cell_type": "markdown",
   "metadata": {},
   "source": [
    "# Solve the problem"
   ]
  },
  {
   "cell_type": "code",
   "execution_count": null,
   "metadata": {
    "pycharm": {
     "name": "#%%"
    }
   },
   "outputs": [],
   "source": []
  }
 ],
 "metadata": {
  "kernelspec": {
   "display_name": "Python 3",
   "language": "python",
   "name": "python3"
  },
  "language_info": {
   "codemirror_mode": {
    "name": "ipython",
    "version": 3
   },
   "file_extension": ".py",
   "mimetype": "text/x-python",
   "name": "python",
   "nbconvert_exporter": "python",
   "pygments_lexer": "ipython3",
   "version": "3.8.1"
  },
  "toc": {
   "base_numbering": 1,
   "nav_menu": {},
   "number_sections": true,
   "sideBar": true,
   "skip_h1_title": false,
   "title_cell": "Table of Contents",
   "title_sidebar": "Contents",
   "toc_cell": true,
   "toc_position": {
    "height": "calc(100% - 180px)",
    "left": "10px",
    "top": "150px",
    "width": "288px"
   },
   "toc_section_display": true,
   "toc_window_display": true
  }
 },
 "nbformat": 4,
 "nbformat_minor": 1
}
