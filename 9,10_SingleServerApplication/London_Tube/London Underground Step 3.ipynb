{
 "cells": [
  {
   "cell_type": "markdown",
   "metadata": {
    "toc": true
   },
   "source": [
    "<h1>Table of Contents<span class=\"tocSkip\"></span></h1>\n",
    "<div class=\"toc\"><ul class=\"toc-item\"><li><span><a href=\"#Load-Libraries\" data-toc-modified-id=\"Load-Libraries-1\"><span class=\"toc-item-num\">1&nbsp;&nbsp;</span>Load Libraries</a></span></li><li><span><a href=\"#Prepare-Data\" data-toc-modified-id=\"Prepare-Data-2\"><span class=\"toc-item-num\">2&nbsp;&nbsp;</span>Prepare Data</a></span><ul class=\"toc-item\"><li><span><a href=\"#Adjust-Units-of-Measurements\" data-toc-modified-id=\"Adjust-Units-of-Measurements-2.1\"><span class=\"toc-item-num\">2.1&nbsp;&nbsp;</span>Adjust Units of Measurements</a></span></li><li><span><a href=\"#Consolidate-Information-about-Lines\" data-toc-modified-id=\"Consolidate-Information-about-Lines-2.2\"><span class=\"toc-item-num\">2.2&nbsp;&nbsp;</span>Consolidate Information about Lines</a></span></li><li><span><a href=\"#Convert-Runtime-into-Expected-Drive-Time-and-Dwell-Time\" data-toc-modified-id=\"Convert-Runtime-into-Expected-Drive-Time-and-Dwell-Time-2.3\"><span class=\"toc-item-num\">2.3&nbsp;&nbsp;</span>Convert Runtime into Expected Drive Time and Dwell Time</a></span></li></ul></li><li><span><a href=\"#Exploratory-Data-Analysis\" data-toc-modified-id=\"Exploratory-Data-Analysis-3\"><span class=\"toc-item-num\">3&nbsp;&nbsp;</span>Exploratory Data Analysis</a></span><ul class=\"toc-item\"><li><span><a href=\"#Distance-Between-Stations-(m)\" data-toc-modified-id=\"Distance-Between-Stations-(m)-3.1\"><span class=\"toc-item-num\">3.1&nbsp;&nbsp;</span>Distance Between Stations (m)</a></span></li><li><span><a href=\"#Drive-Time-between-Stations-(s)\" data-toc-modified-id=\"Drive-Time-between-Stations-(s)-3.2\"><span class=\"toc-item-num\">3.2&nbsp;&nbsp;</span>Drive Time between Stations (s)</a></span></li><li><span><a href=\"#Dwell-Times-(s)\" data-toc-modified-id=\"Dwell-Times-(s)-3.3\"><span class=\"toc-item-num\">3.3&nbsp;&nbsp;</span>Dwell Times (s)</a></span></li></ul></li><li><span><a href=\"#Modelling\" data-toc-modified-id=\"Modelling-4\"><span class=\"toc-item-num\">4&nbsp;&nbsp;</span>Modelling</a></span><ul class=\"toc-item\"><li><span><a href=\"#The-Infrastructure-(Stations,-Depots-etc)\" data-toc-modified-id=\"The-Infrastructure-(Stations,-Depots-etc)-4.1\"><span class=\"toc-item-num\">4.1&nbsp;&nbsp;</span>The Infrastructure (Stations, Depots etc)</a></span><ul class=\"toc-item\"><li><span><a href=\"#Depots\" data-toc-modified-id=\"Depots-4.1.1\"><span class=\"toc-item-num\">4.1.1&nbsp;&nbsp;</span>Depots</a></span></li><li><span><a href=\"#Stations\" data-toc-modified-id=\"Stations-4.1.2\"><span class=\"toc-item-num\">4.1.2&nbsp;&nbsp;</span>Stations</a></span></li><li><span><a href=\"#Cross-Overs\" data-toc-modified-id=\"Cross-Overs-4.1.3\"><span class=\"toc-item-num\">4.1.3&nbsp;&nbsp;</span>Cross-Overs</a></span></li></ul></li><li><span><a href=\"#The-Network\" data-toc-modified-id=\"The-Network-4.2\"><span class=\"toc-item-num\">4.2&nbsp;&nbsp;</span>The Network</a></span></li><li><span><a href=\"#Trains\" data-toc-modified-id=\"Trains-4.3\"><span class=\"toc-item-num\">4.3&nbsp;&nbsp;</span>Trains</a></span></li></ul></li><li><span><a href=\"#Utilities\" data-toc-modified-id=\"Utilities-5\"><span class=\"toc-item-num\">5&nbsp;&nbsp;</span>Utilities</a></span><ul class=\"toc-item\"><li><span><a href=\"#Global-Parameters\" data-toc-modified-id=\"Global-Parameters-5.1\"><span class=\"toc-item-num\">5.1&nbsp;&nbsp;</span>Global Parameters</a></span></li><li><span><a href=\"#Time-Parsing-and-Formating\" data-toc-modified-id=\"Time-Parsing-and-Formating-5.2\"><span class=\"toc-item-num\">5.2&nbsp;&nbsp;</span>Time Parsing and Formating</a></span></li></ul></li><li><span><a href=\"#System-Verification\" data-toc-modified-id=\"System-Verification-6\"><span class=\"toc-item-num\">6&nbsp;&nbsp;</span>System Verification</a></span></li><li><span><a href=\"#References\" data-toc-modified-id=\"References-7\"><span class=\"toc-item-num\">7&nbsp;&nbsp;</span>References</a></span></li></ul></div>"
   ]
  },
  {
   "cell_type": "markdown",
   "metadata": {},
   "source": [
    "# Load Libraries"
   ]
  },
  {
   "cell_type": "code",
   "execution_count": 1,
   "metadata": {
    "ExecuteTime": {
     "end_time": "2020-07-23T04:48:57.965931Z",
     "start_time": "2020-07-23T04:48:56.154896Z"
    }
   },
   "outputs": [],
   "source": [
    "import pandas as pd\n",
    "import matplotlib as mpl\n",
    "import matplotlib.pyplot as plt\n",
    "import scipy.stats as stats\n",
    "import math\n",
    "import numpy as np\n",
    "\n",
    "import simpy"
   ]
  },
  {
   "cell_type": "markdown",
   "metadata": {},
   "source": [
    "# Prepare Data"
   ]
  },
  {
   "cell_type": "code",
   "execution_count": 2,
   "metadata": {
    "ExecuteTime": {
     "end_time": "2020-07-23T04:48:57.976101Z",
     "start_time": "2020-07-23T04:48:57.968219Z"
    }
   },
   "outputs": [],
   "source": [
    "dt=pd.read_csv('LondonTube.csv')"
   ]
  },
  {
   "cell_type": "code",
   "execution_count": 3,
   "metadata": {
    "ExecuteTime": {
     "end_time": "2020-07-23T04:48:57.995049Z",
     "start_time": "2020-07-23T04:48:57.978745Z"
    }
   },
   "outputs": [
    {
     "data": {
      "text/html": [
       "<div>\n",
       "<style scoped>\n",
       "    .dataframe tbody tr th:only-of-type {\n",
       "        vertical-align: middle;\n",
       "    }\n",
       "\n",
       "    .dataframe tbody tr th {\n",
       "        vertical-align: top;\n",
       "    }\n",
       "\n",
       "    .dataframe thead th {\n",
       "        text-align: right;\n",
       "    }\n",
       "</style>\n",
       "<table border=\"1\" class=\"dataframe\">\n",
       "  <thead>\n",
       "    <tr style=\"text-align: right;\">\n",
       "      <th></th>\n",
       "      <th>Line</th>\n",
       "      <th>Direction</th>\n",
       "      <th>From</th>\n",
       "      <th>To</th>\n",
       "      <th>Distance</th>\n",
       "      <th>Running Time</th>\n",
       "      <th>Peak Running Time</th>\n",
       "      <th>Off-Peak Running Time</th>\n",
       "    </tr>\n",
       "  </thead>\n",
       "  <tbody>\n",
       "    <tr>\n",
       "      <th>0</th>\n",
       "      <td>Bakerloo</td>\n",
       "      <td>Southbound</td>\n",
       "      <td>HARROW &amp; WEALDSTONE</td>\n",
       "      <td>KENTON</td>\n",
       "      <td>1.74</td>\n",
       "      <td>2.23</td>\n",
       "      <td>2.50</td>\n",
       "      <td>2.50</td>\n",
       "    </tr>\n",
       "    <tr>\n",
       "      <th>1</th>\n",
       "      <td>Bakerloo</td>\n",
       "      <td>Southbound</td>\n",
       "      <td>KENTON</td>\n",
       "      <td>SOUTH KENTON</td>\n",
       "      <td>1.40</td>\n",
       "      <td>1.88</td>\n",
       "      <td>2.00</td>\n",
       "      <td>2.00</td>\n",
       "    </tr>\n",
       "    <tr>\n",
       "      <th>2</th>\n",
       "      <td>Bakerloo</td>\n",
       "      <td>Southbound</td>\n",
       "      <td>SOUTH KENTON</td>\n",
       "      <td>NORTH WEMBLEY</td>\n",
       "      <td>0.90</td>\n",
       "      <td>1.50</td>\n",
       "      <td>1.50</td>\n",
       "      <td>1.50</td>\n",
       "    </tr>\n",
       "    <tr>\n",
       "      <th>3</th>\n",
       "      <td>Bakerloo</td>\n",
       "      <td>Southbound</td>\n",
       "      <td>NORTH WEMBLEY</td>\n",
       "      <td>WEMBLEY CENTRAL</td>\n",
       "      <td>1.27</td>\n",
       "      <td>1.92</td>\n",
       "      <td>2.06</td>\n",
       "      <td>2.06</td>\n",
       "    </tr>\n",
       "    <tr>\n",
       "      <th>4</th>\n",
       "      <td>Bakerloo</td>\n",
       "      <td>Southbound</td>\n",
       "      <td>WEMBLEY CENTRAL</td>\n",
       "      <td>STONEBRIDGE PARK</td>\n",
       "      <td>1.71</td>\n",
       "      <td>2.23</td>\n",
       "      <td>3.13</td>\n",
       "      <td>3.13</td>\n",
       "    </tr>\n",
       "  </tbody>\n",
       "</table>\n",
       "</div>"
      ],
      "text/plain": [
       "       Line   Direction                 From                To  Distance  \\\n",
       "0  Bakerloo  Southbound  HARROW & WEALDSTONE            KENTON      1.74   \n",
       "1  Bakerloo  Southbound               KENTON      SOUTH KENTON      1.40   \n",
       "2  Bakerloo  Southbound         SOUTH KENTON     NORTH WEMBLEY      0.90   \n",
       "3  Bakerloo  Southbound        NORTH WEMBLEY   WEMBLEY CENTRAL      1.27   \n",
       "4  Bakerloo  Southbound      WEMBLEY CENTRAL  STONEBRIDGE PARK      1.71   \n",
       "\n",
       "   Running Time  Peak Running Time  Off-Peak Running Time  \n",
       "0          2.23               2.50                   2.50  \n",
       "1          1.88               2.00                   2.00  \n",
       "2          1.50               1.50                   1.50  \n",
       "3          1.92               2.06                   2.06  \n",
       "4          2.23               3.13                   3.13  "
      ]
     },
     "execution_count": 3,
     "metadata": {},
     "output_type": "execute_result"
    }
   ],
   "source": [
    "dt.head()"
   ]
  },
  {
   "cell_type": "markdown",
   "metadata": {},
   "source": [
    "## Adjust Units of Measurements"
   ]
  },
  {
   "cell_type": "markdown",
   "metadata": {},
   "source": [
    "Convert distances to meters"
   ]
  },
  {
   "cell_type": "code",
   "execution_count": 4,
   "metadata": {
    "ExecuteTime": {
     "end_time": "2020-07-23T04:48:58.001653Z",
     "start_time": "2020-07-23T04:48:57.997224Z"
    }
   },
   "outputs": [],
   "source": [
    "dt['Distance']=dt['Distance'].apply(lambda x: int(x*1000))"
   ]
  },
  {
   "cell_type": "markdown",
   "metadata": {},
   "source": [
    "Convert running times into seconds"
   ]
  },
  {
   "cell_type": "code",
   "execution_count": 5,
   "metadata": {
    "ExecuteTime": {
     "end_time": "2020-07-23T04:48:58.227079Z",
     "start_time": "2020-07-23T04:48:58.217416Z"
    }
   },
   "outputs": [],
   "source": [
    "dt['Running Time']=dt['Running Time'].apply(lambda x: int(x*60))\n",
    "dt['Peak Running Time']=dt['Peak Running Time'].apply(lambda x: int(x*60))\n",
    "dt['Off-Peak Running Time']=dt['Off-Peak Running Time'].apply(lambda x: int(x*60))"
   ]
  },
  {
   "cell_type": "code",
   "execution_count": 6,
   "metadata": {
    "ExecuteTime": {
     "end_time": "2020-07-23T04:48:58.241557Z",
     "start_time": "2020-07-23T04:48:58.229539Z"
    }
   },
   "outputs": [
    {
     "data": {
      "text/html": [
       "<div>\n",
       "<style scoped>\n",
       "    .dataframe tbody tr th:only-of-type {\n",
       "        vertical-align: middle;\n",
       "    }\n",
       "\n",
       "    .dataframe tbody tr th {\n",
       "        vertical-align: top;\n",
       "    }\n",
       "\n",
       "    .dataframe thead th {\n",
       "        text-align: right;\n",
       "    }\n",
       "</style>\n",
       "<table border=\"1\" class=\"dataframe\">\n",
       "  <thead>\n",
       "    <tr style=\"text-align: right;\">\n",
       "      <th></th>\n",
       "      <th>Line</th>\n",
       "      <th>Direction</th>\n",
       "      <th>From</th>\n",
       "      <th>To</th>\n",
       "      <th>Distance</th>\n",
       "      <th>Running Time</th>\n",
       "      <th>Peak Running Time</th>\n",
       "      <th>Off-Peak Running Time</th>\n",
       "    </tr>\n",
       "  </thead>\n",
       "  <tbody>\n",
       "    <tr>\n",
       "      <th>0</th>\n",
       "      <td>Bakerloo</td>\n",
       "      <td>Southbound</td>\n",
       "      <td>HARROW &amp; WEALDSTONE</td>\n",
       "      <td>KENTON</td>\n",
       "      <td>1740</td>\n",
       "      <td>133</td>\n",
       "      <td>150</td>\n",
       "      <td>150</td>\n",
       "    </tr>\n",
       "    <tr>\n",
       "      <th>1</th>\n",
       "      <td>Bakerloo</td>\n",
       "      <td>Southbound</td>\n",
       "      <td>KENTON</td>\n",
       "      <td>SOUTH KENTON</td>\n",
       "      <td>1400</td>\n",
       "      <td>112</td>\n",
       "      <td>120</td>\n",
       "      <td>120</td>\n",
       "    </tr>\n",
       "    <tr>\n",
       "      <th>2</th>\n",
       "      <td>Bakerloo</td>\n",
       "      <td>Southbound</td>\n",
       "      <td>SOUTH KENTON</td>\n",
       "      <td>NORTH WEMBLEY</td>\n",
       "      <td>900</td>\n",
       "      <td>90</td>\n",
       "      <td>90</td>\n",
       "      <td>90</td>\n",
       "    </tr>\n",
       "    <tr>\n",
       "      <th>3</th>\n",
       "      <td>Bakerloo</td>\n",
       "      <td>Southbound</td>\n",
       "      <td>NORTH WEMBLEY</td>\n",
       "      <td>WEMBLEY CENTRAL</td>\n",
       "      <td>1270</td>\n",
       "      <td>115</td>\n",
       "      <td>123</td>\n",
       "      <td>123</td>\n",
       "    </tr>\n",
       "    <tr>\n",
       "      <th>4</th>\n",
       "      <td>Bakerloo</td>\n",
       "      <td>Southbound</td>\n",
       "      <td>WEMBLEY CENTRAL</td>\n",
       "      <td>STONEBRIDGE PARK</td>\n",
       "      <td>1710</td>\n",
       "      <td>133</td>\n",
       "      <td>187</td>\n",
       "      <td>187</td>\n",
       "    </tr>\n",
       "  </tbody>\n",
       "</table>\n",
       "</div>"
      ],
      "text/plain": [
       "       Line   Direction                 From                To  Distance  \\\n",
       "0  Bakerloo  Southbound  HARROW & WEALDSTONE            KENTON      1740   \n",
       "1  Bakerloo  Southbound               KENTON      SOUTH KENTON      1400   \n",
       "2  Bakerloo  Southbound         SOUTH KENTON     NORTH WEMBLEY       900   \n",
       "3  Bakerloo  Southbound        NORTH WEMBLEY   WEMBLEY CENTRAL      1270   \n",
       "4  Bakerloo  Southbound      WEMBLEY CENTRAL  STONEBRIDGE PARK      1710   \n",
       "\n",
       "   Running Time  Peak Running Time  Off-Peak Running Time  \n",
       "0           133                150                    150  \n",
       "1           112                120                    120  \n",
       "2            90                 90                     90  \n",
       "3           115                123                    123  \n",
       "4           133                187                    187  "
      ]
     },
     "execution_count": 6,
     "metadata": {},
     "output_type": "execute_result"
    }
   ],
   "source": [
    "dt.head()"
   ]
  },
  {
   "cell_type": "markdown",
   "metadata": {},
   "source": [
    "## Consolidate Information about Lines"
   ]
  },
  {
   "cell_type": "markdown",
   "metadata": {},
   "source": [
    "Note: A short looping branch line of the Central Line has been deleted from the original data set."
   ]
  },
  {
   "cell_type": "code",
   "execution_count": 7,
   "metadata": {
    "ExecuteTime": {
     "end_time": "2020-07-23T04:48:59.384087Z",
     "start_time": "2020-07-23T04:48:59.377552Z"
    }
   },
   "outputs": [
    {
     "data": {
      "text/plain": [
       "['Bakerloo',\n",
       " 'Central',\n",
       " 'Victoria',\n",
       " 'Waterloo & City',\n",
       " 'Jubilee',\n",
       " 'Northern',\n",
       " 'Piccadilly',\n",
       " 'Metropolitan',\n",
       " 'H & C',\n",
       " 'Circle',\n",
       " 'District',\n",
       " 'East London']"
      ]
     },
     "execution_count": 7,
     "metadata": {},
     "output_type": "execute_result"
    }
   ],
   "source": [
    "list(dt['Line'].unique())"
   ]
  },
  {
   "cell_type": "code",
   "execution_count": 8,
   "metadata": {
    "ExecuteTime": {
     "end_time": "2020-07-23T04:48:59.394635Z",
     "start_time": "2020-07-23T04:48:59.389678Z"
    }
   },
   "outputs": [
    {
     "data": {
      "text/plain": [
       "['Southbound', 'Northbound', 'Eastbound', 'Westbound', 'Inner', 'Outer']"
      ]
     },
     "execution_count": 8,
     "metadata": {},
     "output_type": "execute_result"
    }
   ],
   "source": [
    "list(dt.Direction.unique())"
   ]
  },
  {
   "cell_type": "markdown",
   "metadata": {},
   "source": [
    "Note: Each line has its specific rolling stock with drive parameters depending on the track geometry, electrical power supply, and the year of construction. For simplicity we assume fixed parameters across the network.  "
   ]
  },
  {
   "cell_type": "code",
   "execution_count": 9,
   "metadata": {
    "ExecuteTime": {
     "end_time": "2020-07-23T04:48:59.853532Z",
     "start_time": "2020-07-23T04:48:59.792718Z"
    }
   },
   "outputs": [
    {
     "data": {
      "text/html": [
       "<div>\n",
       "<style scoped>\n",
       "    .dataframe tbody tr th:only-of-type {\n",
       "        vertical-align: middle;\n",
       "    }\n",
       "\n",
       "    .dataframe tbody tr th {\n",
       "        vertical-align: top;\n",
       "    }\n",
       "\n",
       "    .dataframe thead th {\n",
       "        text-align: right;\n",
       "    }\n",
       "</style>\n",
       "<table border=\"1\" class=\"dataframe\">\n",
       "  <thead>\n",
       "    <tr style=\"text-align: right;\">\n",
       "      <th></th>\n",
       "      <th>Direction 1</th>\n",
       "      <th>Direction 2</th>\n",
       "      <th>Stations</th>\n",
       "      <th>Total Dist</th>\n",
       "      <th>Min Dist</th>\n",
       "      <th>Avg Dist</th>\n",
       "      <th>Max Dist</th>\n",
       "      <th>max a</th>\n",
       "      <th>max v</th>\n",
       "    </tr>\n",
       "    <tr>\n",
       "      <th>Line</th>\n",
       "      <th></th>\n",
       "      <th></th>\n",
       "      <th></th>\n",
       "      <th></th>\n",
       "      <th></th>\n",
       "      <th></th>\n",
       "      <th></th>\n",
       "      <th></th>\n",
       "      <th></th>\n",
       "    </tr>\n",
       "  </thead>\n",
       "  <tbody>\n",
       "    <tr>\n",
       "      <th>Bakerloo</th>\n",
       "      <td>Northbound</td>\n",
       "      <td>Southbound</td>\n",
       "      <td>24</td>\n",
       "      <td>23230</td>\n",
       "      <td>370</td>\n",
       "      <td>967</td>\n",
       "      <td>1740</td>\n",
       "      <td>0.7</td>\n",
       "      <td>25</td>\n",
       "    </tr>\n",
       "    <tr>\n",
       "      <th>Central</th>\n",
       "      <td>Eastbound</td>\n",
       "      <td>Westbound</td>\n",
       "      <td>45</td>\n",
       "      <td>67520</td>\n",
       "      <td>400</td>\n",
       "      <td>1500</td>\n",
       "      <td>3340</td>\n",
       "      <td>0.7</td>\n",
       "      <td>25</td>\n",
       "    </tr>\n",
       "    <tr>\n",
       "      <th>Victoria</th>\n",
       "      <td>Northbound</td>\n",
       "      <td>Southbound</td>\n",
       "      <td>15</td>\n",
       "      <td>21250</td>\n",
       "      <td>740</td>\n",
       "      <td>1416</td>\n",
       "      <td>3150</td>\n",
       "      <td>0.7</td>\n",
       "      <td>25</td>\n",
       "    </tr>\n",
       "    <tr>\n",
       "      <th>Waterloo &amp; City</th>\n",
       "      <td>Eastbound</td>\n",
       "      <td>Westbound</td>\n",
       "      <td>1</td>\n",
       "      <td>2370</td>\n",
       "      <td>2370</td>\n",
       "      <td>2370</td>\n",
       "      <td>2370</td>\n",
       "      <td>0.7</td>\n",
       "      <td>25</td>\n",
       "    </tr>\n",
       "    <tr>\n",
       "      <th>Jubilee</th>\n",
       "      <td>Eastbound</td>\n",
       "      <td>Westbound</td>\n",
       "      <td>26</td>\n",
       "      <td>36950</td>\n",
       "      <td>440</td>\n",
       "      <td>1421</td>\n",
       "      <td>2850</td>\n",
       "      <td>0.7</td>\n",
       "      <td>25</td>\n",
       "    </tr>\n",
       "    <tr>\n",
       "      <th>Northern</th>\n",
       "      <td>Northbound</td>\n",
       "      <td>Southbound</td>\n",
       "      <td>51</td>\n",
       "      <td>57700</td>\n",
       "      <td>270</td>\n",
       "      <td>1131</td>\n",
       "      <td>2460</td>\n",
       "      <td>0.7</td>\n",
       "      <td>25</td>\n",
       "    </tr>\n",
       "    <tr>\n",
       "      <th>Piccadilly</th>\n",
       "      <td>Eastbound</td>\n",
       "      <td>Westbound</td>\n",
       "      <td>49</td>\n",
       "      <td>66874</td>\n",
       "      <td>250</td>\n",
       "      <td>1350</td>\n",
       "      <td>4420</td>\n",
       "      <td>0.7</td>\n",
       "      <td>25</td>\n",
       "    </tr>\n",
       "    <tr>\n",
       "      <th>Metropolitan</th>\n",
       "      <td>Eastbound</td>\n",
       "      <td>Westbound</td>\n",
       "      <td>35</td>\n",
       "      <td>87689</td>\n",
       "      <td>510</td>\n",
       "      <td>2505</td>\n",
       "      <td>11630</td>\n",
       "      <td>0.7</td>\n",
       "      <td>25</td>\n",
       "    </tr>\n",
       "    <tr>\n",
       "      <th>H &amp; C</th>\n",
       "      <td>Eastbound</td>\n",
       "      <td>Westbound</td>\n",
       "      <td>27</td>\n",
       "      <td>25410</td>\n",
       "      <td>510</td>\n",
       "      <td>941</td>\n",
       "      <td>2290</td>\n",
       "      <td>0.7</td>\n",
       "      <td>25</td>\n",
       "    </tr>\n",
       "    <tr>\n",
       "      <th>Circle</th>\n",
       "      <td>Inner</td>\n",
       "      <td>Outer</td>\n",
       "      <td>27</td>\n",
       "      <td>20760</td>\n",
       "      <td>310</td>\n",
       "      <td>768</td>\n",
       "      <td>1850</td>\n",
       "      <td>0.7</td>\n",
       "      <td>25</td>\n",
       "    </tr>\n",
       "    <tr>\n",
       "      <th>District</th>\n",
       "      <td>Eastbound</td>\n",
       "      <td>Westbound</td>\n",
       "      <td>56</td>\n",
       "      <td>58460</td>\n",
       "      <td>310</td>\n",
       "      <td>1043</td>\n",
       "      <td>2370</td>\n",
       "      <td>0.7</td>\n",
       "      <td>25</td>\n",
       "    </tr>\n",
       "    <tr>\n",
       "      <th>East London</th>\n",
       "      <td>Northbound</td>\n",
       "      <td>Southbound</td>\n",
       "      <td>7</td>\n",
       "      <td>5890</td>\n",
       "      <td>320</td>\n",
       "      <td>841</td>\n",
       "      <td>2040</td>\n",
       "      <td>0.7</td>\n",
       "      <td>25</td>\n",
       "    </tr>\n",
       "  </tbody>\n",
       "</table>\n",
       "</div>"
      ],
      "text/plain": [
       "                Direction 1 Direction 2 Stations Total Dist Min Dist Avg Dist  \\\n",
       "Line                                                                            \n",
       "Bakerloo         Northbound  Southbound       24      23230      370      967   \n",
       "Central           Eastbound   Westbound       45      67520      400     1500   \n",
       "Victoria         Northbound  Southbound       15      21250      740     1416   \n",
       "Waterloo & City   Eastbound   Westbound        1       2370     2370     2370   \n",
       "Jubilee           Eastbound   Westbound       26      36950      440     1421   \n",
       "Northern         Northbound  Southbound       51      57700      270     1131   \n",
       "Piccadilly        Eastbound   Westbound       49      66874      250     1350   \n",
       "Metropolitan      Eastbound   Westbound       35      87689      510     2505   \n",
       "H & C             Eastbound   Westbound       27      25410      510      941   \n",
       "Circle                Inner       Outer       27      20760      310      768   \n",
       "District          Eastbound   Westbound       56      58460      310     1043   \n",
       "East London      Northbound  Southbound        7       5890      320      841   \n",
       "\n",
       "                Max Dist  max a  max v  \n",
       "Line                                    \n",
       "Bakerloo            1740    0.7     25  \n",
       "Central             3340    0.7     25  \n",
       "Victoria            3150    0.7     25  \n",
       "Waterloo & City     2370    0.7     25  \n",
       "Jubilee             2850    0.7     25  \n",
       "Northern            2460    0.7     25  \n",
       "Piccadilly          4420    0.7     25  \n",
       "Metropolitan       11630    0.7     25  \n",
       "H & C               2290    0.7     25  \n",
       "Circle              1850    0.7     25  \n",
       "District            2370    0.7     25  \n",
       "East London         2040    0.7     25  "
      ]
     },
     "execution_count": 9,
     "metadata": {},
     "output_type": "execute_result"
    }
   ],
   "source": [
    "lines=dt['Line'].unique()\n",
    "dl=pd.DataFrame(lines, columns=['Line'])\n",
    "dl=dl.set_index('Line')\n",
    "\n",
    "dl['Direction 1']=None\n",
    "dl['Direction 2']=None\n",
    "dl['Stations']=None\n",
    "dl['Total Dist']=None\n",
    "dl['Min Dist']=None\n",
    "dl['Avg Dist']=None\n",
    "dl['Max Dist']=None\n",
    "\n",
    "dl['max a']=0.7\n",
    "dl['max v']=25\n",
    "\n",
    "for l in lines:\n",
    "    \n",
    "    dirs = dt[dt['Line']==l]['Direction'].unique()\n",
    "    dirs = sorted(list(dirs))\n",
    "    dl.at[l, 'Direction 1']=dirs[0]\n",
    "    dl.at[l, 'Direction 2']=dirs[1]\n",
    "    \n",
    "    dist = dt[dt['Line']==l]['Distance']\n",
    "    dl.at[l, 'Stations']=int(dist.count()/2)\n",
    "    dl.at[l, 'Total Dist']=int(dist.sum()/2)\n",
    "    dl.at[l, 'Min Dist']=int(dist.min())\n",
    "    dl.at[l, 'Avg Dist']=int(dist.mean())\n",
    "    dl.at[l, 'Max Dist']=int(dist.max())\n",
    "\n",
    "dl"
   ]
  },
  {
   "cell_type": "markdown",
   "metadata": {},
   "source": [
    "## Convert Runtime into Expected Drive Time and Dwell Time"
   ]
  },
  {
   "cell_type": "markdown",
   "metadata": {},
   "source": [
    "Physics Calculation: time to travel a given distance based on acceleration and max velocity"
   ]
  },
  {
   "cell_type": "code",
   "execution_count": 10,
   "metadata": {
    "ExecuteTime": {
     "end_time": "2020-07-23T04:49:00.966003Z",
     "start_time": "2020-07-23T04:49:00.961141Z"
    }
   },
   "outputs": [],
   "source": [
    "def timeTo(a, maxV, d):\n",
    "    # a       constant acceleration, m/s²\n",
    "    # maxV    maximumum velocity, m/s\n",
    "    # d       distance, km\n",
    "    # return  time in seconds required to travel\n",
    "    # \n",
    "    ta = maxV/a         # time to accelerate to maxV\n",
    "    da = a*ta**2        # distance traveled during acceleration from 0 to maxV and back to 0\n",
    "    if (d < da):        # train never reaches full speed?\n",
    "        return np.sqrt(4.0*d/a)     # time needed to accelerate to half-way point then decelerate to destination\n",
    "    else:\n",
    "        return 2*ta + (d-da)/maxV   # time to accelerate to maxV plus travel at maxV plus decelerate to destination"
   ]
  },
  {
   "cell_type": "code",
   "execution_count": 11,
   "metadata": {
    "ExecuteTime": {
     "end_time": "2020-07-23T04:49:01.028333Z",
     "start_time": "2020-07-23T04:49:00.968973Z"
    }
   },
   "outputs": [],
   "source": [
    "dt['Drive Time'] = None\n",
    "for i in range(len(dt)):\n",
    "    dist = dt.at[i, 'Distance']\n",
    "    l = dt.at[i, 'Line']\n",
    "    a = dl.at[l, 'max a']\n",
    "    v = dl.at[l, 'max v']\n",
    "    dt.at[i, 'Drive Time']=int(timeTo(a, v, dist))"
   ]
  },
  {
   "cell_type": "code",
   "execution_count": 12,
   "metadata": {
    "ExecuteTime": {
     "end_time": "2020-07-23T04:49:01.038000Z",
     "start_time": "2020-07-23T04:49:01.031384Z"
    }
   },
   "outputs": [],
   "source": [
    "dt['Dwell Time']=dt['Running Time']-dt['Drive Time']"
   ]
  },
  {
   "cell_type": "code",
   "execution_count": 13,
   "metadata": {
    "ExecuteTime": {
     "end_time": "2020-07-23T04:49:01.044494Z",
     "start_time": "2020-07-23T04:49:01.040628Z"
    }
   },
   "outputs": [],
   "source": [
    "dt['Peak Dwell Time']=dt['Peak Running Time']-dt['Drive Time']"
   ]
  },
  {
   "cell_type": "code",
   "execution_count": 14,
   "metadata": {
    "ExecuteTime": {
     "end_time": "2020-07-23T04:49:01.050606Z",
     "start_time": "2020-07-23T04:49:01.046659Z"
    }
   },
   "outputs": [],
   "source": [
    "dt['Off-Peak Dwell Time']=dt['Off-Peak Running Time']-dt['Drive Time']"
   ]
  },
  {
   "cell_type": "code",
   "execution_count": 15,
   "metadata": {
    "ExecuteTime": {
     "end_time": "2020-07-23T04:49:01.058129Z",
     "start_time": "2020-07-23T04:49:01.052888Z"
    }
   },
   "outputs": [],
   "source": [
    "dt=dt.drop(columns=['Running Time', 'Peak Running Time', 'Off-Peak Running Time'])"
   ]
  },
  {
   "cell_type": "code",
   "execution_count": 16,
   "metadata": {
    "ExecuteTime": {
     "end_time": "2020-07-23T04:49:01.073117Z",
     "start_time": "2020-07-23T04:49:01.060100Z"
    }
   },
   "outputs": [
    {
     "data": {
      "text/html": [
       "<div>\n",
       "<style scoped>\n",
       "    .dataframe tbody tr th:only-of-type {\n",
       "        vertical-align: middle;\n",
       "    }\n",
       "\n",
       "    .dataframe tbody tr th {\n",
       "        vertical-align: top;\n",
       "    }\n",
       "\n",
       "    .dataframe thead th {\n",
       "        text-align: right;\n",
       "    }\n",
       "</style>\n",
       "<table border=\"1\" class=\"dataframe\">\n",
       "  <thead>\n",
       "    <tr style=\"text-align: right;\">\n",
       "      <th></th>\n",
       "      <th>Line</th>\n",
       "      <th>Direction</th>\n",
       "      <th>From</th>\n",
       "      <th>To</th>\n",
       "      <th>Distance</th>\n",
       "      <th>Drive Time</th>\n",
       "      <th>Dwell Time</th>\n",
       "      <th>Peak Dwell Time</th>\n",
       "      <th>Off-Peak Dwell Time</th>\n",
       "    </tr>\n",
       "  </thead>\n",
       "  <tbody>\n",
       "    <tr>\n",
       "      <th>0</th>\n",
       "      <td>Bakerloo</td>\n",
       "      <td>Southbound</td>\n",
       "      <td>HARROW &amp; WEALDSTONE</td>\n",
       "      <td>KENTON</td>\n",
       "      <td>1740</td>\n",
       "      <td>105</td>\n",
       "      <td>28</td>\n",
       "      <td>45</td>\n",
       "      <td>45</td>\n",
       "    </tr>\n",
       "    <tr>\n",
       "      <th>1</th>\n",
       "      <td>Bakerloo</td>\n",
       "      <td>Southbound</td>\n",
       "      <td>KENTON</td>\n",
       "      <td>SOUTH KENTON</td>\n",
       "      <td>1400</td>\n",
       "      <td>91</td>\n",
       "      <td>21</td>\n",
       "      <td>29</td>\n",
       "      <td>29</td>\n",
       "    </tr>\n",
       "    <tr>\n",
       "      <th>2</th>\n",
       "      <td>Bakerloo</td>\n",
       "      <td>Southbound</td>\n",
       "      <td>SOUTH KENTON</td>\n",
       "      <td>NORTH WEMBLEY</td>\n",
       "      <td>900</td>\n",
       "      <td>71</td>\n",
       "      <td>19</td>\n",
       "      <td>19</td>\n",
       "      <td>19</td>\n",
       "    </tr>\n",
       "    <tr>\n",
       "      <th>3</th>\n",
       "      <td>Bakerloo</td>\n",
       "      <td>Southbound</td>\n",
       "      <td>NORTH WEMBLEY</td>\n",
       "      <td>WEMBLEY CENTRAL</td>\n",
       "      <td>1270</td>\n",
       "      <td>86</td>\n",
       "      <td>29</td>\n",
       "      <td>37</td>\n",
       "      <td>37</td>\n",
       "    </tr>\n",
       "    <tr>\n",
       "      <th>4</th>\n",
       "      <td>Bakerloo</td>\n",
       "      <td>Southbound</td>\n",
       "      <td>WEMBLEY CENTRAL</td>\n",
       "      <td>STONEBRIDGE PARK</td>\n",
       "      <td>1710</td>\n",
       "      <td>104</td>\n",
       "      <td>29</td>\n",
       "      <td>83</td>\n",
       "      <td>83</td>\n",
       "    </tr>\n",
       "  </tbody>\n",
       "</table>\n",
       "</div>"
      ],
      "text/plain": [
       "       Line   Direction                 From                To  Distance  \\\n",
       "0  Bakerloo  Southbound  HARROW & WEALDSTONE            KENTON      1740   \n",
       "1  Bakerloo  Southbound               KENTON      SOUTH KENTON      1400   \n",
       "2  Bakerloo  Southbound         SOUTH KENTON     NORTH WEMBLEY       900   \n",
       "3  Bakerloo  Southbound        NORTH WEMBLEY   WEMBLEY CENTRAL      1270   \n",
       "4  Bakerloo  Southbound      WEMBLEY CENTRAL  STONEBRIDGE PARK      1710   \n",
       "\n",
       "  Drive Time Dwell Time Peak Dwell Time Off-Peak Dwell Time  \n",
       "0        105         28              45                  45  \n",
       "1         91         21              29                  29  \n",
       "2         71         19              19                  19  \n",
       "3         86         29              37                  37  \n",
       "4        104         29              83                  83  "
      ]
     },
     "execution_count": 16,
     "metadata": {},
     "output_type": "execute_result"
    }
   ],
   "source": [
    "dt.head()"
   ]
  },
  {
   "cell_type": "markdown",
   "metadata": {},
   "source": [
    "# Exploratory Data Analysis"
   ]
  },
  {
   "cell_type": "markdown",
   "metadata": {},
   "source": [
    "## Distance Between Stations (m)"
   ]
  },
  {
   "cell_type": "code",
   "execution_count": 17,
   "metadata": {
    "ExecuteTime": {
     "end_time": "2020-07-23T04:49:02.140955Z",
     "start_time": "2020-07-23T04:49:02.136113Z"
    }
   },
   "outputs": [
    {
     "data": {
      "text/plain": [
       "250"
      ]
     },
     "execution_count": 17,
     "metadata": {},
     "output_type": "execute_result"
    }
   ],
   "source": [
    "dt['Distance'].min()"
   ]
  },
  {
   "cell_type": "code",
   "execution_count": 18,
   "metadata": {
    "ExecuteTime": {
     "end_time": "2020-07-23T04:49:02.148201Z",
     "start_time": "2020-07-23T04:49:02.143572Z"
    }
   },
   "outputs": [
    {
     "data": {
      "text/plain": [
       "11630"
      ]
     },
     "execution_count": 18,
     "metadata": {},
     "output_type": "execute_result"
    }
   ],
   "source": [
    "dt['Distance'].max()"
   ]
  },
  {
   "cell_type": "code",
   "execution_count": 19,
   "metadata": {
    "ExecuteTime": {
     "end_time": "2020-07-23T04:49:02.155443Z",
     "start_time": "2020-07-23T04:49:02.151017Z"
    }
   },
   "outputs": [
    {
     "data": {
      "text/plain": [
       "1304.2723521320495"
      ]
     },
     "execution_count": 19,
     "metadata": {},
     "output_type": "execute_result"
    }
   ],
   "source": [
    "dt['Distance'].mean()"
   ]
  },
  {
   "cell_type": "code",
   "execution_count": 20,
   "metadata": {
    "ExecuteTime": {
     "end_time": "2020-07-23T04:49:02.524508Z",
     "start_time": "2020-07-23T04:49:02.157697Z"
    }
   },
   "outputs": [
    {
     "data": {
      "text/plain": [
       "<matplotlib.axes._subplots.AxesSubplot at 0x7fca5f0221c0>"
      ]
     },
     "execution_count": 20,
     "metadata": {},
     "output_type": "execute_result"
    },
    {
     "data": {
      "image/png": "[encoded data removed]",
      "text/plain": [
       "<Figure size 432x288 with 1 Axes>"
      ]
     },
     "metadata": {
      "needs_background": "light"
     },
     "output_type": "display_data"
    }
   ],
   "source": [
    "dt['Distance'].hist(bins=np.linspace(0, 12000, 49))"
   ]
  },
  {
   "cell_type": "markdown",
   "metadata": {},
   "source": [
    "## Drive Time between Stations (s)"
   ]
  },
  {
   "cell_type": "code",
   "execution_count": 21,
   "metadata": {
    "ExecuteTime": {
     "end_time": "2020-07-23T04:49:02.564098Z",
     "start_time": "2020-07-23T04:49:02.559499Z"
    }
   },
   "outputs": [
    {
     "data": {
      "text/plain": [
       "37"
      ]
     },
     "execution_count": 21,
     "metadata": {},
     "output_type": "execute_result"
    }
   ],
   "source": [
    "dt['Drive Time'].min()"
   ]
  },
  {
   "cell_type": "code",
   "execution_count": 22,
   "metadata": {
    "ExecuteTime": {
     "end_time": "2020-07-23T04:49:02.571095Z",
     "start_time": "2020-07-23T04:49:02.566598Z"
    }
   },
   "outputs": [
    {
     "data": {
      "text/plain": [
       "500"
      ]
     },
     "execution_count": 22,
     "metadata": {},
     "output_type": "execute_result"
    }
   ],
   "source": [
    "dt['Drive Time'].max()"
   ]
  },
  {
   "cell_type": "code",
   "execution_count": 23,
   "metadata": {
    "ExecuteTime": {
     "end_time": "2020-07-23T04:49:02.882492Z",
     "start_time": "2020-07-23T04:49:02.573883Z"
    }
   },
   "outputs": [
    {
     "data": {
      "text/plain": [
       "<matplotlib.axes._subplots.AxesSubplot at 0x7fca5f407880>"
      ]
     },
     "execution_count": 23,
     "metadata": {},
     "output_type": "execute_result"
    },
    {
     "data": {
      "image/png": "[encoded data removed]",
      "text/plain": [
       "<Figure size 432x288 with 1 Axes>"
      ]
     },
     "metadata": {
      "needs_background": "light"
     },
     "output_type": "display_data"
    }
   ],
   "source": [
    "dt['Drive Time'].hist(bins=np.linspace(0, 500, 51))"
   ]
  },
  {
   "cell_type": "markdown",
   "metadata": {},
   "source": [
    "## Dwell Times (s)"
   ]
  },
  {
   "cell_type": "code",
   "execution_count": 24,
   "metadata": {
    "ExecuteTime": {
     "end_time": "2020-07-23T04:49:02.980565Z",
     "start_time": "2020-07-23T04:49:02.975408Z"
    }
   },
   "outputs": [
    {
     "data": {
      "text/plain": [
       "10"
      ]
     },
     "execution_count": 24,
     "metadata": {},
     "output_type": "execute_result"
    }
   ],
   "source": [
    "dt['Peak Dwell Time'].min()"
   ]
  },
  {
   "cell_type": "code",
   "execution_count": 25,
   "metadata": {
    "ExecuteTime": {
     "end_time": "2020-07-23T04:49:02.988555Z",
     "start_time": "2020-07-23T04:49:02.983435Z"
    }
   },
   "outputs": [
    {
     "data": {
      "text/plain": [
       "257"
      ]
     },
     "execution_count": 25,
     "metadata": {},
     "output_type": "execute_result"
    }
   ],
   "source": [
    "dt['Peak Dwell Time'].max()"
   ]
  },
  {
   "cell_type": "code",
   "execution_count": 26,
   "metadata": {
    "ExecuteTime": {
     "end_time": "2020-07-23T04:49:02.996711Z",
     "start_time": "2020-07-23T04:49:02.991625Z"
    }
   },
   "outputs": [
    {
     "data": {
      "text/plain": [
       "58.60797799174691"
      ]
     },
     "execution_count": 26,
     "metadata": {},
     "output_type": "execute_result"
    }
   ],
   "source": [
    "dt['Peak Dwell Time'].mean()"
   ]
  },
  {
   "cell_type": "code",
   "execution_count": 27,
   "metadata": {
    "ExecuteTime": {
     "end_time": "2020-07-23T04:49:03.004398Z",
     "start_time": "2020-07-23T04:49:02.999617Z"
    }
   },
   "outputs": [
    {
     "data": {
      "text/plain": [
       "36.792570099150346"
      ]
     },
     "execution_count": 27,
     "metadata": {},
     "output_type": "execute_result"
    }
   ],
   "source": [
    "dt['Peak Dwell Time'].std()"
   ]
  },
  {
   "cell_type": "code",
   "execution_count": 28,
   "metadata": {
    "ExecuteTime": {
     "end_time": "2020-07-23T04:49:03.339634Z",
     "start_time": "2020-07-23T04:49:03.006691Z"
    },
    "scrolled": true
   },
   "outputs": [
    {
     "data": {
      "text/plain": [
       "<matplotlib.axes._subplots.AxesSubplot at 0x7fca5f548f10>"
      ]
     },
     "execution_count": 28,
     "metadata": {},
     "output_type": "execute_result"
    },
    {
     "data": {
      "image/png": "[encoded data removed]",
      "text/plain": [
       "<Figure size 432x288 with 1 Axes>"
      ]
     },
     "metadata": {
      "needs_background": "light"
     },
     "output_type": "display_data"
    }
   ],
   "source": [
    "dt['Peak Dwell Time'].hist(bins=np.linspace(0, 300, 61))"
   ]
  },
  {
   "cell_type": "code",
   "execution_count": 29,
   "metadata": {
    "ExecuteTime": {
     "end_time": "2020-07-23T04:49:03.346516Z",
     "start_time": "2020-07-23T04:49:03.341776Z"
    }
   },
   "outputs": [
    {
     "data": {
      "text/plain": [
       "10"
      ]
     },
     "execution_count": 29,
     "metadata": {},
     "output_type": "execute_result"
    }
   ],
   "source": [
    "dt['Off-Peak Dwell Time'].min()"
   ]
  },
  {
   "cell_type": "code",
   "execution_count": 30,
   "metadata": {
    "ExecuteTime": {
     "end_time": "2020-07-23T04:49:03.354129Z",
     "start_time": "2020-07-23T04:49:03.349914Z"
    }
   },
   "outputs": [
    {
     "data": {
      "text/plain": [
       "227"
      ]
     },
     "execution_count": 30,
     "metadata": {},
     "output_type": "execute_result"
    }
   ],
   "source": [
    "dt['Off-Peak Dwell Time'].max()"
   ]
  },
  {
   "cell_type": "code",
   "execution_count": 31,
   "metadata": {
    "ExecuteTime": {
     "end_time": "2020-07-23T04:49:03.640613Z",
     "start_time": "2020-07-23T04:49:03.356503Z"
    }
   },
   "outputs": [
    {
     "data": {
      "text/plain": [
       "<matplotlib.axes._subplots.AxesSubplot at 0x7fca5f6c6760>"
      ]
     },
     "execution_count": 31,
     "metadata": {},
     "output_type": "execute_result"
    },
    {
     "data": {
      "image/png": "[encoded data removed]",
      "text/plain": [
       "<Figure size 432x288 with 1 Axes>"
      ]
     },
     "metadata": {
      "needs_background": "light"
     },
     "output_type": "display_data"
    }
   ],
   "source": [
    "dt['Off-Peak Dwell Time'].hist(bins=np.linspace(0, 300, 31))"
   ]
  },
  {
   "cell_type": "markdown",
   "metadata": {},
   "source": [
    "# Modelling"
   ]
  },
  {
   "cell_type": "markdown",
   "metadata": {},
   "source": [
    "Components of the system will be described by Python classes. The parameters are passed as data frames.\n",
    "\n",
    "We assume that the global variable `env` is initialised before any component of the system is actually generated."
   ]
  },
  {
   "cell_type": "markdown",
   "metadata": {},
   "source": [
    "## The Infrastructure (Stations, Depots etc)"
   ]
  },
  {
   "cell_type": "markdown",
   "metadata": {},
   "source": [
    "The class NetworkNode is used as the common base class for all infrastructure classes. Each NetworkNode (like a station) has a name and belongs to a track, i.e. a line and a direction."
   ]
  },
  {
   "cell_type": "code",
   "execution_count": 32,
   "metadata": {
    "ExecuteTime": {
     "end_time": "2020-07-23T04:49:04.650236Z",
     "start_time": "2020-07-23T04:49:04.640290Z"
    }
   },
   "outputs": [],
   "source": [
    "class NetworkNode:\n",
    "    \n",
    "    def __init__(self, location, line_name):\n",
    "        self.location=location\n",
    "        self.line_name=line_name\n",
    "        self.tracing=False\n",
    "\n",
    "    def setLine(self, line):\n",
    "        self.line=line\n",
    "        \n",
    "    def getLine(self):\n",
    "        return self.line\n",
    "    \n",
    "    def isTracing(self):\n",
    "        return self.tracing\n",
    "    \n",
    "    def traceOn(self):\n",
    "        self.tracing=True\n",
    "            \n",
    "    def traceOff(self):\n",
    "        self.tracing=False\n",
    "        \n",
    "    def trace_prefix(self, train):\n",
    "        global max_line_name_length\n",
    "        global max_direction_length\n",
    "        return f\"{now():s} \" \\\n",
    "               f\"{self.line_name:{max_line_name_length}s} \" \\\n",
    "               f\"[Train {train.getNo():2d} \" \\\n",
    "               f\"{train.getDirection():{max_direction_length}s}]\"\n",
    "    \n",
    "    def arr(self, train):\n",
    "        if self.isTracing() or self.line.isTracing() or train.isTracing():\n",
    "            print(f\"{self.trace_prefix(train):s} arr {self.loc():s}\")        \n",
    "\n",
    "    def dep(self, train, dest):\n",
    "        if self.isTracing() or self.line.isTracing() or train.isTracing():\n",
    "            print(f\"{self.trace_prefix(train):s} dep {self.loc():s} for {dest.loc():s}\")\n",
    "        \n",
    "    def getTrack(self):\n",
    "        pass\n",
    "        \n",
    "    def loc(self):\n",
    "        pass\n",
    "    \n",
    "    def track(self):\n",
    "        pass"
   ]
  },
  {
   "cell_type": "markdown",
   "metadata": {},
   "source": [
    "### Depots"
   ]
  },
  {
   "cell_type": "markdown",
   "metadata": {},
   "source": [
    "A train depot serves a line and feeds trains into a particular direction."
   ]
  },
  {
   "cell_type": "code",
   "execution_count": 33,
   "metadata": {
    "ExecuteTime": {
     "end_time": "2020-07-23T04:49:05.468602Z",
     "start_time": "2020-07-23T04:49:05.461089Z"
    }
   },
   "outputs": [],
   "source": [
    "class Depot(NetworkNode):\n",
    "    def __init__(self, location, line, direction):\n",
    "        super().__init__(location, line)\n",
    "        self.location=location\n",
    "        self.line=line\n",
    "        self.direction=direction\n",
    "        \n",
    "    def initialise(self, capacity):\n",
    "        self.trains=simpy.Container(env, capacity, init=capacity)\n",
    "        \n",
    "    def driveTime(self):\n",
    "        return 20\n",
    "    \n",
    "    def dwellTime(self):\n",
    "        return 10\n",
    "    \n",
    "    def dep(self, train, dest):\n",
    "        train.setDirection(self.direction)\n",
    "        super().dep(train, dest)\n",
    "        \n",
    "    def getTrack(self):\n",
    "        return None\n",
    "    \n",
    "    def loc(self):\n",
    "        return self.location+\" (DEPOT)\"\n",
    "    \n",
    "    def track(self):\n",
    "        return self.location+\" (DEPOT)\""
   ]
  },
  {
   "cell_type": "markdown",
   "metadata": {},
   "source": [
    "### Stations"
   ]
  },
  {
   "cell_type": "markdown",
   "metadata": {},
   "source": [
    "Every Station has a common name describing the location and belongs to a line. We found it practical \n",
    "to have a station object for each of the directions of a line going through the station. Normally we have therefore two stations in a location. When two lines are crossing at an interchange, we will have actually 4 station objects sharing the same common name: two (for each direction) for each of the lines.  As such a \"station\" in our terminology is more like a platform or a track in a real life station."
   ]
  },
  {
   "cell_type": "code",
   "execution_count": 45,
   "metadata": {
    "ExecuteTime": {
     "end_time": "2020-07-23T04:50:25.762220Z",
     "start_time": "2020-07-23T04:50:25.750873Z"
    }
   },
   "outputs": [],
   "source": [
    "class Station(NetworkNode):\n",
    "    def __init__(self, location, line_name, direction):\n",
    "        super().__init__(location, line_name)\n",
    "        self.location=location\n",
    "        self.line_name=line_name\n",
    "        self.direction=direction\n",
    "        self.tracing=False\n",
    "        self.tracks=simpy.Resource(env, capacity=1)\n",
    "        \n",
    "        dd=dt[dt['Line']==self.line_name]\n",
    "        dd=dd[dd['Direction']==self.direction]\n",
    "        dd=dd[dd['From']==location]\n",
    "\n",
    "        # dd=pd.DataFrame(dt[dt['Line']==self.line_name] \\\n",
    "        #                  [dt['Direction']==self.direction] \\\n",
    "        #                 [dt['From']==location], copy=True)\n",
    "        \n",
    "        if len(dd)==0:\n",
    "            # last node in a direction, has to be adjust for CrossOver or Depot\n",
    "            self.drive_time=0\n",
    "            self.off_peak_dwell_time=0\n",
    "            self.peak_dwell_time=0\n",
    "        else:\n",
    "            self.drive_time=dd.iloc[0].at['Drive Time']\n",
    "            self.off_peak_dwell_time=dd.iloc[0].at['Off-Peak Dwell Time']\n",
    "            self.peak_dwell_time=dd.iloc[0].at['Peak Dwell Time']\n",
    "\n",
    "    def driveTime(self):\n",
    "        return self.drive_time\n",
    "    \n",
    "    def dwellTime(self):\n",
    "        return self.peak_dwell_time if isPeakTime() else self.off_peak_dwell_time\n",
    "  \n",
    "    def getTrack(self):\n",
    "        return self.tracks\n",
    "    \n",
    "    def loc(self):\n",
    "        return self.location\n",
    "    \n",
    "    def track(self):\n",
    "        return self.location+\" (\"+self.direction+\")\""
   ]
  },
  {
   "cell_type": "markdown",
   "metadata": {},
   "source": [
    "### Cross-Overs"
   ]
  },
  {
   "cell_type": "markdown",
   "metadata": {},
   "source": [
    "A cross over node is attached to the last station at the end of a line and allows trains to switch direction. \n",
    "A cross over node shares the location name and the line with the station it is attached to, however is serves actually both directions. A cross over node may have a limited capacity holding trains.\n",
    "\n",
    "The drive time (in and out of the cross over node) is assumed as a fixed constant, as is the dwell time in the cross over node. These parameters could in the future also be stored in the line table."
   ]
  },
  {
   "cell_type": "code",
   "execution_count": 55,
   "metadata": {
    "ExecuteTime": {
     "end_time": "2020-07-23T04:58:06.196383Z",
     "start_time": "2020-07-23T04:58:06.186896Z"
    }
   },
   "outputs": [],
   "source": [
    "class CrossOver(NetworkNode):\n",
    "    def __init__(self, location, line_name, direction_in, direction_out, capacity=2):\n",
    "        super().__init__(location, line_name)\n",
    "        self.location=location\n",
    "        self.line_name=line_name\n",
    "        self.direction_in=direction_in\n",
    "        self.direction_out=direction_out\n",
    "        self.tracks=simpy.Resource(env, capacity=2)\n",
    "\n",
    "    def driveTime(self):\n",
    "        return 20\n",
    "    \n",
    "    def dwellTime(self):\n",
    "        return 300\n",
    "    \n",
    "    def dep(self, train, dest):\n",
    "        train.setDirection(self.direction_out)\n",
    "        super().dep(train, dest)\n",
    " \n",
    "    def getTrack(self):\n",
    "        return self.tracks\n",
    "    \n",
    "    def loc(self):\n",
    "        return self.location+\" (X)\"\n",
    "    \n",
    "    def track(self):\n",
    "        return self.location+\" (\"+self.direction_in+\" X \"+self.direction_out+\")\""
   ]
  },
  {
   "cell_type": "markdown",
   "metadata": {},
   "source": [
    "## The Network"
   ]
  },
  {
   "cell_type": "markdown",
   "metadata": {},
   "source": [
    "A track describes a direction of a line. The parameters describing a track are:\n",
    "- The start and stop times of the line (for example 6:00 to 23:00),\n",
    "- The time between trains (for example every 5 minutes), but this may vary during the day.\n",
    "\n",
    "The parameters for a line will later be taken from the line table. For the time being we use a simple procedure running the simulation of a single track."
   ]
  },
  {
   "cell_type": "code",
   "execution_count": 36,
   "metadata": {
    "ExecuteTime": {
     "end_time": "2020-07-23T04:49:07.930274Z",
     "start_time": "2020-07-23T04:49:07.911917Z"
    }
   },
   "outputs": [],
   "source": [
    "class Track(object):\n",
    "    def __init__(self, network, line_name, direction, depot, stations):\n",
    "        self.network=network\n",
    "        self.line_name=line_name\n",
    "        self.direction=direction\n",
    "        \n",
    "        # create a slice of data for the line\n",
    "        dd = dt[dt['Line']==line_name]\n",
    "        dd = dd[dd['Direction']==direction]\n",
    "        self.data = dd.reset_index(drop=True)\n",
    "        \n",
    "        self.depot=depot\n",
    "        self.stations=[depot]+stations+[depot]\n",
    "        self.tracing=False\n",
    "        self.tracingTrains=False\n",
    "        self.tracingTrainNo=None\n",
    "        for s in self.stations:\n",
    "            s.setLine(self)\n",
    "    \n",
    "    def isTracing(self):\n",
    "        return self.network.isTracing() or self.tracing\n",
    "    \n",
    "    def traceOn(self, loc=None, train=None):\n",
    "        if loc==None and train==None:\n",
    "            self.tracing=True\n",
    "        else:\n",
    "            for s in self.stations:\n",
    "                if s.loc()==loc:\n",
    "                    s.traceOn()\n",
    "            if train!=None:\n",
    "                # print(f\"traceOn {self.line_name:s} train {str(train):s}\")\n",
    "                self.tracingTrains=True\n",
    "                self.tracingTrainNo=train\n",
    "                \n",
    "            \n",
    "    def traceOff(self, loc=None, train=None):\n",
    "        if loc==None and train==None:\n",
    "            self.tracing=False\n",
    "        else:\n",
    "            for s in self.stations:\n",
    "                if s.loc()==loc:\n",
    "                    s.traceOff()\n",
    "            if train!=None:\n",
    "                self.tracingTrains=False\n",
    "                self.tracingTrainNo=train \n",
    "\n",
    "    def getNetwork(self):\n",
    "        return self.network\n",
    "    \n",
    "    def getLineName(self):\n",
    "        return self.line_name\n",
    "    \n",
    "    def getStations(self):\n",
    "        return self.stations\n",
    "    \n",
    "    def setTiming(self, start, stop, timing):\n",
    "        self.start=start*3600\n",
    "        self.stop=stop*3600\n",
    "        self.timing=timing\n",
    "        \n",
    "    def process(self):\n",
    "        yield env.timeout(self.start-env.now) # the line starts operating at 6am\n",
    "        for i in range(int((self.stop-self.start)/self.timing)):\n",
    "            t=Train(i, self.data, self)\n",
    "            if self.tracingTrains and self.tracingTrainNo==i:\n",
    "                t.traceOn()\n",
    "            env.process(t.process())\n",
    "            yield env.timeout(self.timing)     \n",
    "        \n",
    "    def to_string(self):\n",
    "        names=[ s.track() for s in self.stations ]\n",
    "        return self.line+\"-\"+\",\".join(names)"
   ]
  },
  {
   "cell_type": "code",
   "execution_count": 37,
   "metadata": {
    "ExecuteTime": {
     "end_time": "2020-07-23T04:49:07.938615Z",
     "start_time": "2020-07-23T04:49:07.933286Z"
    }
   },
   "outputs": [],
   "source": [
    "def allStations(line, direction):\n",
    "    dl=dt[dt['Line']==line]\n",
    "    ds=dl[dl['Direction']==direction]\n",
    "    stations=ds['From'].to_list()\n",
    "    stations+=[ds['To'].to_list()[-1]]\n",
    "    return [ Station(s, line, direction) for s in stations ]"
   ]
  },
  {
   "cell_type": "code",
   "execution_count": 38,
   "metadata": {
    "ExecuteTime": {
     "end_time": "2020-07-23T04:49:07.955105Z",
     "start_time": "2020-07-23T04:49:07.941771Z"
    }
   },
   "outputs": [],
   "source": [
    "def allTracks(network):\n",
    "    names=dt['Line'].unique()\n",
    "    lines=[]\n",
    "    for line in names:\n",
    "        directions=dt[dt['Line']==line]['Direction'].unique()\n",
    "        stations=[ allStations(line, d) for d in directions]\n",
    "        for i in range(len(directions)):\n",
    "            if stations[i]==None or directions[i]==None:\n",
    "                continue\n",
    "            if stations[i][0].track()==stations[i][-1].track():\n",
    "                # print(line, directions[i], \"is cyclic\")\n",
    "                depot=Depot(stations[i][0].loc(), line, directions[i])\n",
    "                l=Track(network, line, directions[i], depot, stations[i])\n",
    "                lines+=[l]\n",
    "            else:\n",
    "                found_reverse=False\n",
    "                for j in range(i+1, len(directions)):\n",
    "                    if stations[j]==None or directions[j]==None:\n",
    "                        continue\n",
    "                    if stations[i][-1].loc()==stations[j][0].loc() and \\\n",
    "                       stations[i][0].loc()==stations[j][-1].loc():\n",
    "                        depot=Depot(stations[i][0].loc(), line, directions[i])\n",
    "                        x=CrossOver(stations[i][-1].loc(), \n",
    "                                    line,\n",
    "                                    directions[i], \n",
    "                                    directions[j])\n",
    "                        l=Track(network, line, directions[i], depot, stations[i]+[x]+stations[j])\n",
    "                        lines+=[l]\n",
    "                        stations[j]=None\n",
    "                        directions[j]=None\n",
    "                        found_reverse=True\n",
    "                        break\n",
    "                if found_reverse==False:\n",
    "                    print(\"Ignoring\", line, directions[i])\n",
    "    return lines"
   ]
  },
  {
   "cell_type": "code",
   "execution_count": 39,
   "metadata": {
    "ExecuteTime": {
     "end_time": "2020-07-23T04:49:07.970718Z",
     "start_time": "2020-07-23T04:49:07.957674Z"
    }
   },
   "outputs": [],
   "source": [
    "class Network(object):\n",
    "    def __init__(self, start, stop, timing):\n",
    "        self.tracks=allTracks(self)\n",
    "        self.start=start\n",
    "        self.stop=stop\n",
    "        self.timing=timing\n",
    "        self.tracing=False\n",
    "        \n",
    "    def isTracing(self):\n",
    "        return self.tracing\n",
    "    \n",
    "    def traceOn(self, line=None, loc=None, train=None):\n",
    "        if line==None and loc==None and train==None:\n",
    "            self.tracing=True\n",
    "        elif line==None:\n",
    "            for t in self.tracks:\n",
    "                t.traceOn(loc=loc, train=train)\n",
    "        else:\n",
    "            for t in self.tracks:\n",
    "                if t.getLineName()==line:\n",
    "                    t.traceOn(loc=loc, train=train)\n",
    "            \n",
    "    def traceOff(self, line=None, loc=None, train=None):\n",
    "        if line==None and loc==None and train==None:\n",
    "            self.tracing=False\n",
    "        elif line==None:\n",
    "            for t in self.tracks:\n",
    "                t.traceOn(loc=loc, train=train)\n",
    "        else:\n",
    "            for t in self.tracks:\n",
    "                if t.getLineName()==line:\n",
    "                    t.traceOff(loc=loc, train=train)\n",
    "          \n",
    "    def getLines(self, line=None):\n",
    "        tracks=[]\n",
    "        for t in self.tracks:\n",
    "            if line==None or t.getLine()==line:\n",
    "                tracks+=[t]\n",
    "        return tracks\n",
    "        \n",
    "    def process(self):\n",
    "        for t in self.tracks:\n",
    "            # print(\"Initialising:\", t.description())\n",
    "            t.setTiming(self.start, self.stop, self.timing)\n",
    "            yield env.timeout(self.start-env.now) # the line starts operating at 6am\n",
    "            env.process(t.process())\n",
    "        # print(\"Initialising finished\")\n",
    "            "
   ]
  },
  {
   "cell_type": "markdown",
   "metadata": {},
   "source": [
    "## Trains"
   ]
  },
  {
   "cell_type": "code",
   "execution_count": 57,
   "metadata": {
    "ExecuteTime": {
     "end_time": "2020-07-23T05:03:01.812593Z",
     "start_time": "2020-07-23T05:03:01.799472Z"
    }
   },
   "outputs": [],
   "source": [
    "class Train(object):  \n",
    "    def __init__(self, i, data, track):\n",
    "        self.no=i\n",
    "        self.data = data\n",
    "        self.track = track\n",
    "        self.name = f\"{track.line_name:s}-{track.direction:s} [Train {i:2d}]\"\n",
    "\n",
    "        \n",
    "        self.direction = None\n",
    "        self.tracing = False\n",
    "\n",
    "    def setDirection(self, direction):\n",
    "        self.direction=direction\n",
    "\n",
    "    def getDirection(self):\n",
    "        return self.direction\n",
    "    \n",
    "    def getNo(self):\n",
    "        return self.no\n",
    "    \n",
    "    def isTracing(self):\n",
    "        return self.tracing\n",
    "    \n",
    "    def traceOn(self):\n",
    "        print(f\"Tracing train: {self.track.line_name:s} [Train {self.no:2d}]\")\n",
    "        self.tracing=True\n",
    "            \n",
    "    def traceOff(self):\n",
    "        self.tracing=False\n",
    "        \n",
    "    def process(self):\n",
    "\n",
    "        stations = self.track.getStations()\n",
    "        \n",
    "        here=stations[0]\n",
    "        here_req=None\n",
    "        \n",
    "        for dest in stations[1:]:\n",
    "            \n",
    "            drivetime=here.driveTime()\n",
    "            dwelltime=here.dwellTime()\n",
    "            \n",
    "            yield env.timeout(dwelltime)\n",
    "            \n",
    "            if dest.getTrack() is not None:\n",
    "                dest_req=dest.getTrack().request()\n",
    "                yield dest_req\n",
    "            # if the train doesn't get immediate access, it continues waiting \n",
    "            # in the current station ('here').\n",
    "            # if the train got access the train departs from 'here'for 'dest'\n",
    "            \n",
    "            here.dep(self, dest)\n",
    "            \n",
    "            # Once the train has completely left the station, the train\n",
    "            # will release the track of station ('here'). \n",
    "            # We assume that the train has left the station after 10 secs  \n",
    "            delaytime=min(drivetime, 10)\n",
    "            yield env.timeout(delaytime)\n",
    "            if here_req!=None:\n",
    "                here.getTrack().release(here_req)\n",
    "\n",
    "            # the train proceeds to drive to the next station ('dest')\n",
    "            yield env.timeout(drivetime-delaytime)\n",
    "            \n",
    "            dest.arr(self)\n",
    "            here = dest\n",
    "            here_req=dest_req\n"
   ]
  },
  {
   "cell_type": "markdown",
   "metadata": {},
   "source": [
    "# Utilities"
   ]
  },
  {
   "cell_type": "markdown",
   "metadata": {},
   "source": [
    "## Global Parameters"
   ]
  },
  {
   "cell_type": "code",
   "execution_count": 41,
   "metadata": {
    "ExecuteTime": {
     "end_time": "2020-07-23T04:49:09.148746Z",
     "start_time": "2020-07-23T04:49:09.143936Z"
    }
   },
   "outputs": [],
   "source": [
    "max_line_name_length = max([len(line) for line in dt['Line'].unique()])\n",
    "max_direction_length = max([len(line) for line in dt['Direction'].unique()])"
   ]
  },
  {
   "cell_type": "code",
   "execution_count": 42,
   "metadata": {
    "ExecuteTime": {
     "end_time": "2020-07-23T04:49:09.156345Z",
     "start_time": "2020-07-23T04:49:09.151323Z"
    }
   },
   "outputs": [],
   "source": [
    "def isPeakTime():\n",
    "    now=env.now\n",
    "    return (3600*7<=now and now<=3600*10) or \\\n",
    "           (3600*16<=now and now<=3600*19)"
   ]
  },
  {
   "cell_type": "markdown",
   "metadata": {},
   "source": [
    "## Time Parsing and Formating "
   ]
  },
  {
   "cell_type": "markdown",
   "metadata": {},
   "source": [
    "Format time in seconds as hh:mm:ss"
   ]
  },
  {
   "cell_type": "code",
   "execution_count": 43,
   "metadata": {
    "ExecuteTime": {
     "end_time": "2020-07-23T04:49:09.965434Z",
     "start_time": "2020-07-23T04:49:09.961751Z"
    }
   },
   "outputs": [],
   "source": [
    "def daytime(t):\n",
    "    t=int(t)\n",
    "    return f\"{t//3600:02d}:{(t%3600)//60:02d}:{t%60:02d}\"\n",
    "def now():\n",
    "    return daytime(env.now)"
   ]
  },
  {
   "cell_type": "markdown",
   "metadata": {},
   "source": [
    "# System Verification"
   ]
  },
  {
   "cell_type": "markdown",
   "metadata": {},
   "source": [
    "As a first step we verify that the trains are running in parallel."
   ]
  },
  {
   "cell_type": "code",
   "execution_count": 58,
   "metadata": {
    "ExecuteTime": {
     "end_time": "2020-07-23T05:03:09.343461Z",
     "start_time": "2020-07-23T05:03:06.813327Z"
    },
    "scrolled": false
   },
   "outputs": [
    {
     "name": "stdout",
     "output_type": "stream",
     "text": [
      "Tracing train: Bakerloo [Train  0]\n",
      "06:00:10 Bakerloo        [Train  0 Southbound] dep HARROW & WEALDSTONE (DEPOT) for HARROW & WEALDSTONE\n",
      "06:00:30 Bakerloo        [Train  0 Southbound] arr HARROW & WEALDSTONE\n",
      "06:01:15 Bakerloo        [Train  0 Southbound] dep HARROW & WEALDSTONE for KENTON\n",
      "06:03:00 Bakerloo        [Train  0 Southbound] arr KENTON\n",
      "06:03:29 Bakerloo        [Train  0 Southbound] dep KENTON for SOUTH KENTON\n",
      "06:05:00 Bakerloo        [Train  0 Southbound] arr SOUTH KENTON\n",
      "06:05:19 Bakerloo        [Train  0 Southbound] dep SOUTH KENTON for NORTH WEMBLEY\n",
      "06:06:30 Bakerloo        [Train  0 Southbound] arr NORTH WEMBLEY\n",
      "06:07:07 Bakerloo        [Train  0 Southbound] dep NORTH WEMBLEY for WEMBLEY CENTRAL\n",
      "06:08:33 Bakerloo        [Train  0 Southbound] arr WEMBLEY CENTRAL\n",
      "06:09:56 Bakerloo        [Train  0 Southbound] dep WEMBLEY CENTRAL for STONEBRIDGE PARK\n",
      "06:11:40 Bakerloo        [Train  0 Southbound] arr STONEBRIDGE PARK\n",
      "06:12:28 Bakerloo        [Train  0 Southbound] dep STONEBRIDGE PARK for HARLESDEN\n",
      "06:14:04 Bakerloo        [Train  0 Southbound] arr HARLESDEN\n",
      "06:15:00 Bakerloo        [Train  0 Southbound] dep HARLESDEN for WILLESDEN JUNCTION\n",
      "06:16:17 Bakerloo        [Train  0 Southbound] arr WILLESDEN JUNCTION\n",
      "06:17:12 Bakerloo        [Train  0 Southbound] dep WILLESDEN JUNCTION for KENSAL GREEN\n",
      "06:18:47 Bakerloo        [Train  0 Southbound] arr KENSAL GREEN\n",
      "06:22:02 Bakerloo        [Train  0 Southbound] dep KENSAL GREEN for QUEENS PARK\n",
      "06:23:30 Bakerloo        [Train  0 Southbound] arr QUEENS PARK\n",
      "06:23:53 Bakerloo        [Train  0 Southbound] dep QUEENS PARK for KILBURN PARK\n",
      "06:25:00 Bakerloo        [Train  0 Southbound] arr KILBURN PARK\n",
      "06:25:50 Bakerloo        [Train  0 Southbound] dep KILBURN PARK for MAIDA VALE\n",
      "06:27:00 Bakerloo        [Train  0 Southbound] arr MAIDA VALE\n",
      "06:27:23 Bakerloo        [Train  0 Southbound] dep MAIDA VALE for WARWICK AVENUE\n",
      "06:28:30 Bakerloo        [Train  0 Southbound] arr WARWICK AVENUE\n",
      "06:29:20 Bakerloo        [Train  0 Southbound] dep WARWICK AVENUE for PADDINGTON\n",
      "06:30:30 Bakerloo        [Train  0 Southbound] arr PADDINGTON\n",
      "06:30:56 Bakerloo        [Train  0 Southbound] dep PADDINGTON for EDGWARE ROAD\n",
      "06:32:00 Bakerloo        [Train  0 Southbound] arr EDGWARE ROAD\n",
      "06:32:40 Bakerloo        [Train  0 Southbound] dep EDGWARE ROAD for MARYLEBONE\n",
      "06:33:30 Bakerloo        [Train  0 Southbound] arr MARYLEBONE\n",
      "06:34:07 Bakerloo        [Train  0 Southbound] dep MARYLEBONE for BAKER STREET\n",
      "06:35:00 Bakerloo        [Train  0 Southbound] arr BAKER STREET\n",
      "06:35:50 Bakerloo        [Train  0 Southbound] dep BAKER STREET for REGENTS PARK\n",
      "06:37:00 Bakerloo        [Train  0 Southbound] arr REGENTS PARK\n",
      "06:37:50 Bakerloo        [Train  0 Southbound] dep REGENTS PARK for OXFORD CIRCUS\n",
      "06:39:00 Bakerloo        [Train  0 Southbound] arr OXFORD CIRCUS\n",
      "06:40:14 Bakerloo        [Train  0 Southbound] dep OXFORD CIRCUS for PICCADILLY CIRCUS\n",
      "06:41:28 Bakerloo        [Train  0 Southbound] arr PICCADILLY CIRCUS\n",
      "06:42:02 Bakerloo        [Train  0 Southbound] dep PICCADILLY CIRCUS for CHARING CROSS\n",
      "06:42:58 Bakerloo        [Train  0 Southbound] arr CHARING CROSS\n",
      "06:43:43 Bakerloo        [Train  0 Southbound] dep CHARING CROSS for EMBANKMENT\n",
      "06:44:28 Bakerloo        [Train  0 Southbound] arr EMBANKMENT\n",
      "06:44:55 Bakerloo        [Train  0 Southbound] dep EMBANKMENT for WATERLOO\n",
      "06:45:58 Bakerloo        [Train  0 Southbound] arr WATERLOO\n",
      "06:46:58 Bakerloo        [Train  0 Southbound] dep WATERLOO for LAMBETH NORTH\n",
      "06:47:58 Bakerloo        [Train  0 Southbound] arr LAMBETH NORTH\n",
      "06:49:20 Bakerloo        [Train  0 Southbound] dep LAMBETH NORTH for ELEPHANT & CASTLE\n",
      "06:50:28 Bakerloo        [Train  0 Southbound] arr ELEPHANT & CASTLE\n",
      "06:50:28 Bakerloo        [Train  0 Southbound] dep ELEPHANT & CASTLE for ELEPHANT & CASTLE (X)\n",
      "06:50:28 Bakerloo        [Train  0 Southbound] arr ELEPHANT & CASTLE (X)\n",
      "06:55:28 Bakerloo        [Train  0 Northbound] dep ELEPHANT & CASTLE (X) for ELEPHANT & CASTLE\n",
      "06:55:48 Bakerloo        [Train  0 Northbound] arr ELEPHANT & CASTLE\n",
      "06:56:40 Bakerloo        [Train  0 Northbound] dep ELEPHANT & CASTLE for LAMBETH NORTH\n",
      "06:57:48 Bakerloo        [Train  0 Northbound] arr LAMBETH NORTH\n",
      "06:58:51 Bakerloo        [Train  0 Northbound] dep LAMBETH NORTH for WATERLOO\n",
      "06:59:51 Bakerloo        [Train  0 Northbound] arr WATERLOO\n",
      "07:00:18 Bakerloo        [Train  0 Northbound] dep WATERLOO for EMBANKMENT\n",
      "07:01:21 Bakerloo        [Train  0 Northbound] arr EMBANKMENT\n",
      "07:01:36 Bakerloo        [Train  0 Northbound] dep EMBANKMENT for CHARING CROSS\n",
      "07:02:21 Bakerloo        [Train  0 Northbound] arr CHARING CROSS\n",
      "07:03:25 Bakerloo        [Train  0 Northbound] dep CHARING CROSS for PICCADILLY CIRCUS\n",
      "07:04:21 Bakerloo        [Train  0 Northbound] arr PICCADILLY CIRCUS\n",
      "07:05:18 Bakerloo        [Train  0 Northbound] dep PICCADILLY CIRCUS for OXFORD CIRCUS\n",
      "07:06:32 Bakerloo        [Train  0 Northbound] arr OXFORD CIRCUS\n",
      "07:07:22 Bakerloo        [Train  0 Northbound] dep OXFORD CIRCUS for REGENTS PARK\n",
      "07:08:32 Bakerloo        [Train  0 Northbound] arr REGENTS PARK\n",
      "07:09:22 Bakerloo        [Train  0 Northbound] dep REGENTS PARK for BAKER STREET\n",
      "07:10:32 Bakerloo        [Train  0 Northbound] arr BAKER STREET\n",
      "07:11:09 Bakerloo        [Train  0 Northbound] dep BAKER STREET for MARYLEBONE\n",
      "07:12:02 Bakerloo        [Train  0 Northbound] arr MARYLEBONE\n",
      "07:12:12 Bakerloo        [Train  0 Northbound] dep MARYLEBONE for EDGWARE ROAD\n",
      "07:13:02 Bakerloo        [Train  0 Northbound] arr EDGWARE ROAD\n",
      "07:13:58 Bakerloo        [Train  0 Northbound] dep EDGWARE ROAD for PADDINGTON\n",
      "07:15:02 Bakerloo        [Train  0 Northbound] arr PADDINGTON\n",
      "07:15:52 Bakerloo        [Train  0 Northbound] dep PADDINGTON for WARWICK AVENUE\n",
      "07:17:02 Bakerloo        [Train  0 Northbound] arr WARWICK AVENUE\n",
      "07:17:25 Bakerloo        [Train  0 Northbound] dep WARWICK AVENUE for MAIDA VALE\n",
      "07:18:32 Bakerloo        [Train  0 Northbound] arr MAIDA VALE\n",
      "07:18:52 Bakerloo        [Train  0 Northbound] dep MAIDA VALE for KILBURN PARK\n",
      "07:20:02 Bakerloo        [Train  0 Northbound] arr KILBURN PARK\n",
      "07:21:48 Bakerloo        [Train  0 Northbound] dep KILBURN PARK for QUEENS PARK\n",
      "07:22:55 Bakerloo        [Train  0 Northbound] arr QUEENS PARK\n",
      "07:24:10 Bakerloo        [Train  0 Northbound] dep QUEENS PARK for KENSAL GREEN\n",
      "07:25:38 Bakerloo        [Train  0 Northbound] arr KENSAL GREEN\n",
      "07:27:12 Bakerloo        [Train  0 Northbound] dep KENSAL GREEN for WILLESDEN JUNCTION\n",
      "07:28:47 Bakerloo        [Train  0 Northbound] arr WILLESDEN JUNCTION\n",
      "07:29:30 Bakerloo        [Train  0 Northbound] dep WILLESDEN JUNCTION for HARLESDEN\n",
      "07:30:47 Bakerloo        [Train  0 Northbound] arr HARLESDEN\n",
      "07:31:42 Bakerloo        [Train  0 Northbound] dep HARLESDEN for STONEBRIDGE PARK\n",
      "07:33:18 Bakerloo        [Train  0 Northbound] arr STONEBRIDGE PARK\n",
      "07:34:44 Bakerloo        [Train  0 Northbound] dep STONEBRIDGE PARK for WEMBLEY CENTRAL\n",
      "07:36:28 Bakerloo        [Train  0 Northbound] arr WEMBLEY CENTRAL\n",
      "07:37:02 Bakerloo        [Train  0 Northbound] dep WEMBLEY CENTRAL for NORTH WEMBLEY\n",
      "07:38:28 Bakerloo        [Train  0 Northbound] arr NORTH WEMBLEY\n",
      "07:38:47 Bakerloo        [Train  0 Northbound] dep NORTH WEMBLEY for SOUTH KENTON\n",
      "07:39:58 Bakerloo        [Train  0 Northbound] arr SOUTH KENTON\n",
      "07:40:27 Bakerloo        [Train  0 Northbound] dep SOUTH KENTON for KENTON\n",
      "07:41:58 Bakerloo        [Train  0 Northbound] arr KENTON\n",
      "07:43:13 Bakerloo        [Train  0 Northbound] dep KENTON for HARROW & WEALDSTONE\n",
      "07:44:58 Bakerloo        [Train  0 Northbound] arr HARROW & WEALDSTONE\n",
      "07:44:58 Bakerloo        [Train  0 Northbound] dep HARROW & WEALDSTONE for HARROW & WEALDSTONE (DEPOT)\n",
      "07:44:58 Bakerloo        [Train  0 Northbound] arr HARROW & WEALDSTONE (DEPOT)\n"
     ]
    }
   ],
   "source": [
    "env = simpy.Environment()\n",
    "network=Network(6, 7, 300)\n",
    "# network.traceOn(line='Bakerloo')\n",
    "# network.traceOn(line='Bakerloo', loc='KENTON')\n",
    "network.traceOn(line='Bakerloo', train=0)\n",
    "# network.traceOn(loc='KINGS CROSS ST PANCRAS')\n",
    "env.process(network.process())\n",
    "env.run()"
   ]
  },
  {
   "cell_type": "markdown",
   "metadata": {},
   "source": [
    "# References"
   ]
  },
  {
   "cell_type": "markdown",
   "metadata": {},
   "source": [
    "[SimPy](https://simpy.readthedocs.io/en/latest/contents.html)"
   ]
  }
 ],
 "metadata": {
  "kernelspec": {
   "display_name": "Python 3",
   "language": "python",
   "name": "python3"
  },
  "language_info": {
   "codemirror_mode": {
    "name": "ipython",
    "version": 3
   },
   "file_extension": ".py",
   "mimetype": "text/x-python",
   "name": "python",
   "nbconvert_exporter": "python",
   "pygments_lexer": "ipython3",
   "version": "3.8.1"
  },
  "latex_envs": {
   "LaTeX_envs_menu_present": true,
   "autoclose": false,
   "autocomplete": true,
   "bibliofile": "biblio.bib",
   "cite_by": "apalike",
   "current_citInitial": 1,
   "eqLabelWithNumbers": true,
   "eqNumInitial": 1,
   "hotkeys": {
    "equation": "Ctrl-E",
    "itemize": "Ctrl-I"
   },
   "labels_anchors": false,
   "latex_user_defs": false,
   "report_style_numbering": false,
   "user_envs_cfg": false
  },
  "toc": {
   "base_numbering": 1,
   "nav_menu": {},
   "number_sections": true,
   "sideBar": true,
   "skip_h1_title": false,
   "title_cell": "Table of Contents",
   "title_sidebar": "Contents",
   "toc_cell": true,
   "toc_position": {},
   "toc_section_display": true,
   "toc_window_display": false
  },
  "varInspector": {
   "cols": {
    "lenName": 16,
    "lenType": 16,
    "lenVar": 40
   },
   "kernels_config": {
    "python": {
     "delete_cmd_postfix": "",
     "delete_cmd_prefix": "del ",
     "library": "var_list.py",
     "varRefreshCmd": "print(var_dic_list())"
    },
    "r": {
     "delete_cmd_postfix": ") ",
     "delete_cmd_prefix": "rm(",
     "library": "var_list.r",
     "varRefreshCmd": "cat(var_dic_list()) "
    }
   },
   "types_to_exclude": [
    "module",
    "function",
    "builtin_function_or_method",
    "instance",
    "_Feature"
   ],
   "window_display": false
  }
 },
 "nbformat": 4,
 "nbformat_minor": 4
}
