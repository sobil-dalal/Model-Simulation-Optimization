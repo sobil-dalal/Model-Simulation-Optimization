{
 "cells": [
  {
   "cell_type": "markdown",
   "metadata": {
    "toc": true
   },
   "source": [
    "<h1>Table of Contents<span class=\"tocSkip\"></span></h1>\n",
    "<div class=\"toc\"><ul class=\"toc-item\"><li><span><a href=\"#Load-Libraries\" data-toc-modified-id=\"Load-Libraries-1\"><span class=\"toc-item-num\">1&nbsp;&nbsp;</span>Load Libraries</a></span></li><li><span><a href=\"#Prepare-Data\" data-toc-modified-id=\"Prepare-Data-2\"><span class=\"toc-item-num\">2&nbsp;&nbsp;</span>Prepare Data</a></span><ul class=\"toc-item\"><li><span><a href=\"#Adjust-Units-of-Measurements\" data-toc-modified-id=\"Adjust-Units-of-Measurements-2.1\"><span class=\"toc-item-num\">2.1&nbsp;&nbsp;</span>Adjust Units of Measurements</a></span></li><li><span><a href=\"#Consolidate-Information-about-Lines\" data-toc-modified-id=\"Consolidate-Information-about-Lines-2.2\"><span class=\"toc-item-num\">2.2&nbsp;&nbsp;</span>Consolidate Information about Lines</a></span></li><li><span><a href=\"#Convert-Runtime-into-Expected-Drive-Time-and-Dwell-Time\" data-toc-modified-id=\"Convert-Runtime-into-Expected-Drive-Time-and-Dwell-Time-2.3\"><span class=\"toc-item-num\">2.3&nbsp;&nbsp;</span>Convert Runtime into Expected Drive Time and Dwell Time</a></span></li></ul></li><li><span><a href=\"#Exploratory-Data-Analysis\" data-toc-modified-id=\"Exploratory-Data-Analysis-3\"><span class=\"toc-item-num\">3&nbsp;&nbsp;</span>Exploratory Data Analysis</a></span><ul class=\"toc-item\"><li><span><a href=\"#Distance-Between-Stations-(m)\" data-toc-modified-id=\"Distance-Between-Stations-(m)-3.1\"><span class=\"toc-item-num\">3.1&nbsp;&nbsp;</span>Distance Between Stations (m)</a></span></li><li><span><a href=\"#Drive-Time-between-Stations-(s)\" data-toc-modified-id=\"Drive-Time-between-Stations-(s)-3.2\"><span class=\"toc-item-num\">3.2&nbsp;&nbsp;</span>Drive Time between Stations (s)</a></span></li><li><span><a href=\"#Dwell-Times-(s)\" data-toc-modified-id=\"Dwell-Times-(s)-3.3\"><span class=\"toc-item-num\">3.3&nbsp;&nbsp;</span>Dwell Times (s)</a></span></li></ul></li><li><span><a href=\"#Modelling\" data-toc-modified-id=\"Modelling-4\"><span class=\"toc-item-num\">4&nbsp;&nbsp;</span>Modelling</a></span><ul class=\"toc-item\"><li><span><a href=\"#Trains\" data-toc-modified-id=\"Trains-4.1\"><span class=\"toc-item-num\">4.1&nbsp;&nbsp;</span>Trains</a></span></li><li><span><a href=\"#Tracks\" data-toc-modified-id=\"Tracks-4.2\"><span class=\"toc-item-num\">4.2&nbsp;&nbsp;</span>Tracks</a></span></li></ul></li><li><span><a href=\"#Utilities\" data-toc-modified-id=\"Utilities-5\"><span class=\"toc-item-num\">5&nbsp;&nbsp;</span>Utilities</a></span></li><li><span><a href=\"#System-Verification\" data-toc-modified-id=\"System-Verification-6\"><span class=\"toc-item-num\">6&nbsp;&nbsp;</span>System Verification</a></span></li><li><span><a href=\"#References\" data-toc-modified-id=\"References-7\"><span class=\"toc-item-num\">7&nbsp;&nbsp;</span>References</a></span></li></ul></div>"
   ]
  },
  {
   "cell_type": "markdown",
   "metadata": {},
   "source": [
    "# Load Libraries"
   ]
  },
  {
   "cell_type": "code",
   "execution_count": 1,
   "metadata": {
    "ExecuteTime": {
     "end_time": "2020-07-23T01:02:31.283228Z",
     "start_time": "2020-07-23T01:02:30.194849Z"
    }
   },
   "outputs": [],
   "source": [
    "import pandas as pd\n",
    "import matplotlib as mpl\n",
    "import matplotlib.pyplot as plt\n",
    "import scipy.stats as stats\n",
    "import math\n",
    "import numpy as np\n",
    "\n",
    "import simpy"
   ]
  },
  {
   "cell_type": "markdown",
   "metadata": {},
   "source": [
    "# Prepare Data"
   ]
  },
  {
   "cell_type": "code",
   "execution_count": 2,
   "metadata": {
    "ExecuteTime": {
     "end_time": "2020-07-23T01:02:31.292930Z",
     "start_time": "2020-07-23T01:02:31.285666Z"
    }
   },
   "outputs": [],
   "source": [
    "dt=pd.read_csv('LondonTube.csv')"
   ]
  },
  {
   "cell_type": "code",
   "execution_count": 3,
   "metadata": {
    "ExecuteTime": {
     "end_time": "2020-07-23T01:02:31.311802Z",
     "start_time": "2020-07-23T01:02:31.295825Z"
    }
   },
   "outputs": [
    {
     "data": {
      "text/html": [
       "<div>\n",
       "<style scoped>\n",
       "    .dataframe tbody tr th:only-of-type {\n",
       "        vertical-align: middle;\n",
       "    }\n",
       "\n",
       "    .dataframe tbody tr th {\n",
       "        vertical-align: top;\n",
       "    }\n",
       "\n",
       "    .dataframe thead th {\n",
       "        text-align: right;\n",
       "    }\n",
       "</style>\n",
       "<table border=\"1\" class=\"dataframe\">\n",
       "  <thead>\n",
       "    <tr style=\"text-align: right;\">\n",
       "      <th></th>\n",
       "      <th>Line</th>\n",
       "      <th>Direction</th>\n",
       "      <th>From</th>\n",
       "      <th>To</th>\n",
       "      <th>Distance</th>\n",
       "      <th>Running Time</th>\n",
       "      <th>Peak Running Time</th>\n",
       "      <th>Off-Peak Running Time</th>\n",
       "    </tr>\n",
       "  </thead>\n",
       "  <tbody>\n",
       "    <tr>\n",
       "      <th>0</th>\n",
       "      <td>Bakerloo</td>\n",
       "      <td>Southbound</td>\n",
       "      <td>HARROW &amp; WEALDSTONE</td>\n",
       "      <td>KENTON</td>\n",
       "      <td>1.74</td>\n",
       "      <td>2.23</td>\n",
       "      <td>2.50</td>\n",
       "      <td>2.50</td>\n",
       "    </tr>\n",
       "    <tr>\n",
       "      <th>1</th>\n",
       "      <td>Bakerloo</td>\n",
       "      <td>Southbound</td>\n",
       "      <td>KENTON</td>\n",
       "      <td>SOUTH KENTON</td>\n",
       "      <td>1.40</td>\n",
       "      <td>1.88</td>\n",
       "      <td>2.00</td>\n",
       "      <td>2.00</td>\n",
       "    </tr>\n",
       "    <tr>\n",
       "      <th>2</th>\n",
       "      <td>Bakerloo</td>\n",
       "      <td>Southbound</td>\n",
       "      <td>SOUTH KENTON</td>\n",
       "      <td>NORTH WEMBLEY</td>\n",
       "      <td>0.90</td>\n",
       "      <td>1.50</td>\n",
       "      <td>1.50</td>\n",
       "      <td>1.50</td>\n",
       "    </tr>\n",
       "    <tr>\n",
       "      <th>3</th>\n",
       "      <td>Bakerloo</td>\n",
       "      <td>Southbound</td>\n",
       "      <td>NORTH WEMBLEY</td>\n",
       "      <td>WEMBLEY CENTRAL</td>\n",
       "      <td>1.27</td>\n",
       "      <td>1.92</td>\n",
       "      <td>2.06</td>\n",
       "      <td>2.06</td>\n",
       "    </tr>\n",
       "    <tr>\n",
       "      <th>4</th>\n",
       "      <td>Bakerloo</td>\n",
       "      <td>Southbound</td>\n",
       "      <td>WEMBLEY CENTRAL</td>\n",
       "      <td>STONEBRIDGE PARK</td>\n",
       "      <td>1.71</td>\n",
       "      <td>2.23</td>\n",
       "      <td>3.13</td>\n",
       "      <td>3.13</td>\n",
       "    </tr>\n",
       "  </tbody>\n",
       "</table>\n",
       "</div>"
      ],
      "text/plain": [
       "       Line   Direction                 From                To  Distance  \\\n",
       "0  Bakerloo  Southbound  HARROW & WEALDSTONE            KENTON      1.74   \n",
       "1  Bakerloo  Southbound               KENTON      SOUTH KENTON      1.40   \n",
       "2  Bakerloo  Southbound         SOUTH KENTON     NORTH WEMBLEY      0.90   \n",
       "3  Bakerloo  Southbound        NORTH WEMBLEY   WEMBLEY CENTRAL      1.27   \n",
       "4  Bakerloo  Southbound      WEMBLEY CENTRAL  STONEBRIDGE PARK      1.71   \n",
       "\n",
       "   Running Time  Peak Running Time  Off-Peak Running Time  \n",
       "0          2.23               2.50                   2.50  \n",
       "1          1.88               2.00                   2.00  \n",
       "2          1.50               1.50                   1.50  \n",
       "3          1.92               2.06                   2.06  \n",
       "4          2.23               3.13                   3.13  "
      ]
     },
     "execution_count": 3,
     "metadata": {},
     "output_type": "execute_result"
    }
   ],
   "source": [
    "dt.head()"
   ]
  },
  {
   "cell_type": "markdown",
   "metadata": {},
   "source": [
    "## Adjust Units of Measurements"
   ]
  },
  {
   "cell_type": "markdown",
   "metadata": {},
   "source": [
    "Convert distances to meters"
   ]
  },
  {
   "cell_type": "code",
   "execution_count": 6,
   "metadata": {
    "ExecuteTime": {
     "end_time": "2020-07-23T01:02:31.332889Z",
     "start_time": "2020-07-23T01:02:31.327924Z"
    }
   },
   "outputs": [],
   "source": [
    "dt['Distance']=dt['Distance'].apply(lambda x: int(x*1000))"
   ]
  },
  {
   "cell_type": "markdown",
   "metadata": {},
   "source": [
    "Convert running times into seconds"
   ]
  },
  {
   "cell_type": "code",
   "execution_count": 7,
   "metadata": {
    "ExecuteTime": {
     "end_time": "2020-07-23T01:02:31.342667Z",
     "start_time": "2020-07-23T01:02:31.334947Z"
    }
   },
   "outputs": [],
   "source": [
    "dt['Running Time']=dt['Running Time'].apply(lambda x: int(x*60))\n",
    "dt['Peak Running Time']=dt['Peak Running Time'].apply(lambda x: int(x*60))\n",
    "dt['Off-Peak Running Time']=dt['Off-Peak Running Time'].apply(lambda x: int(x*60))"
   ]
  },
  {
   "cell_type": "code",
   "execution_count": 8,
   "metadata": {
    "ExecuteTime": {
     "end_time": "2020-07-23T01:02:31.358331Z",
     "start_time": "2020-07-23T01:02:31.346614Z"
    }
   },
   "outputs": [
    {
     "data": {
      "text/html": [
       "<div>\n",
       "<style scoped>\n",
       "    .dataframe tbody tr th:only-of-type {\n",
       "        vertical-align: middle;\n",
       "    }\n",
       "\n",
       "    .dataframe tbody tr th {\n",
       "        vertical-align: top;\n",
       "    }\n",
       "\n",
       "    .dataframe thead th {\n",
       "        text-align: right;\n",
       "    }\n",
       "</style>\n",
       "<table border=\"1\" class=\"dataframe\">\n",
       "  <thead>\n",
       "    <tr style=\"text-align: right;\">\n",
       "      <th></th>\n",
       "      <th>Line</th>\n",
       "      <th>Direction</th>\n",
       "      <th>From</th>\n",
       "      <th>To</th>\n",
       "      <th>Distance</th>\n",
       "      <th>Running Time</th>\n",
       "      <th>Peak Running Time</th>\n",
       "      <th>Off-Peak Running Time</th>\n",
       "    </tr>\n",
       "  </thead>\n",
       "  <tbody>\n",
       "    <tr>\n",
       "      <th>0</th>\n",
       "      <td>Bakerloo</td>\n",
       "      <td>Southbound</td>\n",
       "      <td>HARROW &amp; WEALDSTONE</td>\n",
       "      <td>KENTON</td>\n",
       "      <td>1740</td>\n",
       "      <td>133</td>\n",
       "      <td>150</td>\n",
       "      <td>150</td>\n",
       "    </tr>\n",
       "    <tr>\n",
       "      <th>1</th>\n",
       "      <td>Bakerloo</td>\n",
       "      <td>Southbound</td>\n",
       "      <td>KENTON</td>\n",
       "      <td>SOUTH KENTON</td>\n",
       "      <td>1400</td>\n",
       "      <td>112</td>\n",
       "      <td>120</td>\n",
       "      <td>120</td>\n",
       "    </tr>\n",
       "    <tr>\n",
       "      <th>2</th>\n",
       "      <td>Bakerloo</td>\n",
       "      <td>Southbound</td>\n",
       "      <td>SOUTH KENTON</td>\n",
       "      <td>NORTH WEMBLEY</td>\n",
       "      <td>900</td>\n",
       "      <td>90</td>\n",
       "      <td>90</td>\n",
       "      <td>90</td>\n",
       "    </tr>\n",
       "    <tr>\n",
       "      <th>3</th>\n",
       "      <td>Bakerloo</td>\n",
       "      <td>Southbound</td>\n",
       "      <td>NORTH WEMBLEY</td>\n",
       "      <td>WEMBLEY CENTRAL</td>\n",
       "      <td>1270</td>\n",
       "      <td>115</td>\n",
       "      <td>123</td>\n",
       "      <td>123</td>\n",
       "    </tr>\n",
       "    <tr>\n",
       "      <th>4</th>\n",
       "      <td>Bakerloo</td>\n",
       "      <td>Southbound</td>\n",
       "      <td>WEMBLEY CENTRAL</td>\n",
       "      <td>STONEBRIDGE PARK</td>\n",
       "      <td>1710</td>\n",
       "      <td>133</td>\n",
       "      <td>187</td>\n",
       "      <td>187</td>\n",
       "    </tr>\n",
       "  </tbody>\n",
       "</table>\n",
       "</div>"
      ],
      "text/plain": [
       "       Line   Direction                 From                To  Distance  \\\n",
       "0  Bakerloo  Southbound  HARROW & WEALDSTONE            KENTON      1740   \n",
       "1  Bakerloo  Southbound               KENTON      SOUTH KENTON      1400   \n",
       "2  Bakerloo  Southbound         SOUTH KENTON     NORTH WEMBLEY       900   \n",
       "3  Bakerloo  Southbound        NORTH WEMBLEY   WEMBLEY CENTRAL      1270   \n",
       "4  Bakerloo  Southbound      WEMBLEY CENTRAL  STONEBRIDGE PARK      1710   \n",
       "\n",
       "   Running Time  Peak Running Time  Off-Peak Running Time  \n",
       "0           133                150                    150  \n",
       "1           112                120                    120  \n",
       "2            90                 90                     90  \n",
       "3           115                123                    123  \n",
       "4           133                187                    187  "
      ]
     },
     "execution_count": 8,
     "metadata": {},
     "output_type": "execute_result"
    }
   ],
   "source": [
    "dt.head()"
   ]
  },
  {
   "cell_type": "markdown",
   "metadata": {},
   "source": [
    "## Consolidate Information about Lines"
   ]
  },
  {
   "cell_type": "markdown",
   "metadata": {},
   "source": [
    "Note: A short looping branch line of the Central Line has been deleted from the original data set."
   ]
  },
  {
   "cell_type": "code",
   "execution_count": 4,
   "metadata": {
    "ExecuteTime": {
     "end_time": "2020-07-23T01:02:31.319107Z",
     "start_time": "2020-07-23T01:02:31.314285Z"
    }
   },
   "outputs": [
    {
     "data": {
      "text/plain": [
       "['Bakerloo',\n",
       " 'Central',\n",
       " 'Victoria',\n",
       " 'Waterloo & City',\n",
       " 'Jubilee',\n",
       " 'Northern',\n",
       " 'Piccadilly',\n",
       " 'Metropolitan',\n",
       " 'H & C',\n",
       " 'Circle',\n",
       " 'District',\n",
       " 'East London']"
      ]
     },
     "execution_count": 4,
     "metadata": {},
     "output_type": "execute_result"
    }
   ],
   "source": [
    "list(dt['Line'].unique())"
   ]
  },
  {
   "cell_type": "code",
   "execution_count": 5,
   "metadata": {
    "ExecuteTime": {
     "end_time": "2020-07-23T01:02:31.325791Z",
     "start_time": "2020-07-23T01:02:31.321046Z"
    }
   },
   "outputs": [
    {
     "data": {
      "text/plain": [
       "['Southbound', 'Northbound', 'Eastbound', 'Westbound', 'Inner', 'Outer']"
      ]
     },
     "execution_count": 5,
     "metadata": {},
     "output_type": "execute_result"
    }
   ],
   "source": [
    "list(dt.Direction.unique())"
   ]
  },
  {
   "cell_type": "markdown",
   "metadata": {},
   "source": [
    "Note: Each line has its specific rolling stock with drive parameters depending on the track geometry, electrical power supply, and the year of construction. For simplicity we assume fixed parameters across the network.  "
   ]
  },
  {
   "cell_type": "code",
   "execution_count": 38,
   "metadata": {
    "ExecuteTime": {
     "end_time": "2020-07-23T01:07:59.080606Z",
     "start_time": "2020-07-23T01:07:59.014577Z"
    }
   },
   "outputs": [
    {
     "data": {
      "text/html": [
       "<div>\n",
       "<style scoped>\n",
       "    .dataframe tbody tr th:only-of-type {\n",
       "        vertical-align: middle;\n",
       "    }\n",
       "\n",
       "    .dataframe tbody tr th {\n",
       "        vertical-align: top;\n",
       "    }\n",
       "\n",
       "    .dataframe thead th {\n",
       "        text-align: right;\n",
       "    }\n",
       "</style>\n",
       "<table border=\"1\" class=\"dataframe\">\n",
       "  <thead>\n",
       "    <tr style=\"text-align: right;\">\n",
       "      <th></th>\n",
       "      <th>Direction 1</th>\n",
       "      <th>Direction 2</th>\n",
       "      <th>Stations</th>\n",
       "      <th>Total Dist</th>\n",
       "      <th>Min Dist</th>\n",
       "      <th>Avg Dist</th>\n",
       "      <th>Max Dist</th>\n",
       "      <th>max a</th>\n",
       "      <th>max v</th>\n",
       "    </tr>\n",
       "    <tr>\n",
       "      <th>Line</th>\n",
       "      <th></th>\n",
       "      <th></th>\n",
       "      <th></th>\n",
       "      <th></th>\n",
       "      <th></th>\n",
       "      <th></th>\n",
       "      <th></th>\n",
       "      <th></th>\n",
       "      <th></th>\n",
       "    </tr>\n",
       "  </thead>\n",
       "  <tbody>\n",
       "    <tr>\n",
       "      <th>Bakerloo</th>\n",
       "      <td>Northbound</td>\n",
       "      <td>Southbound</td>\n",
       "      <td>24</td>\n",
       "      <td>23230</td>\n",
       "      <td>370</td>\n",
       "      <td>967</td>\n",
       "      <td>1740</td>\n",
       "      <td>0.7</td>\n",
       "      <td>25</td>\n",
       "    </tr>\n",
       "    <tr>\n",
       "      <th>Central</th>\n",
       "      <td>Eastbound</td>\n",
       "      <td>Westbound</td>\n",
       "      <td>45</td>\n",
       "      <td>67520</td>\n",
       "      <td>400</td>\n",
       "      <td>1500</td>\n",
       "      <td>3340</td>\n",
       "      <td>0.7</td>\n",
       "      <td>25</td>\n",
       "    </tr>\n",
       "    <tr>\n",
       "      <th>Victoria</th>\n",
       "      <td>Northbound</td>\n",
       "      <td>Southbound</td>\n",
       "      <td>15</td>\n",
       "      <td>21250</td>\n",
       "      <td>740</td>\n",
       "      <td>1416</td>\n",
       "      <td>3150</td>\n",
       "      <td>0.7</td>\n",
       "      <td>25</td>\n",
       "    </tr>\n",
       "    <tr>\n",
       "      <th>Waterloo &amp; City</th>\n",
       "      <td>Eastbound</td>\n",
       "      <td>Westbound</td>\n",
       "      <td>1</td>\n",
       "      <td>2370</td>\n",
       "      <td>2370</td>\n",
       "      <td>2370</td>\n",
       "      <td>2370</td>\n",
       "      <td>0.7</td>\n",
       "      <td>25</td>\n",
       "    </tr>\n",
       "    <tr>\n",
       "      <th>Jubilee</th>\n",
       "      <td>Eastbound</td>\n",
       "      <td>Westbound</td>\n",
       "      <td>26</td>\n",
       "      <td>36950</td>\n",
       "      <td>440</td>\n",
       "      <td>1421</td>\n",
       "      <td>2850</td>\n",
       "      <td>0.7</td>\n",
       "      <td>25</td>\n",
       "    </tr>\n",
       "    <tr>\n",
       "      <th>Northern</th>\n",
       "      <td>Northbound</td>\n",
       "      <td>Southbound</td>\n",
       "      <td>51</td>\n",
       "      <td>57700</td>\n",
       "      <td>270</td>\n",
       "      <td>1131</td>\n",
       "      <td>2460</td>\n",
       "      <td>0.7</td>\n",
       "      <td>25</td>\n",
       "    </tr>\n",
       "    <tr>\n",
       "      <th>Piccadilly</th>\n",
       "      <td>Eastbound</td>\n",
       "      <td>Westbound</td>\n",
       "      <td>49</td>\n",
       "      <td>66874</td>\n",
       "      <td>250</td>\n",
       "      <td>1350</td>\n",
       "      <td>4420</td>\n",
       "      <td>0.7</td>\n",
       "      <td>25</td>\n",
       "    </tr>\n",
       "    <tr>\n",
       "      <th>Metropolitan</th>\n",
       "      <td>Eastbound</td>\n",
       "      <td>Westbound</td>\n",
       "      <td>35</td>\n",
       "      <td>87689</td>\n",
       "      <td>510</td>\n",
       "      <td>2505</td>\n",
       "      <td>11630</td>\n",
       "      <td>0.7</td>\n",
       "      <td>25</td>\n",
       "    </tr>\n",
       "    <tr>\n",
       "      <th>H &amp; C</th>\n",
       "      <td>Eastbound</td>\n",
       "      <td>Westbound</td>\n",
       "      <td>27</td>\n",
       "      <td>25410</td>\n",
       "      <td>510</td>\n",
       "      <td>941</td>\n",
       "      <td>2290</td>\n",
       "      <td>0.7</td>\n",
       "      <td>25</td>\n",
       "    </tr>\n",
       "    <tr>\n",
       "      <th>Circle</th>\n",
       "      <td>Inner</td>\n",
       "      <td>Outer</td>\n",
       "      <td>27</td>\n",
       "      <td>20760</td>\n",
       "      <td>310</td>\n",
       "      <td>768</td>\n",
       "      <td>1850</td>\n",
       "      <td>0.7</td>\n",
       "      <td>25</td>\n",
       "    </tr>\n",
       "    <tr>\n",
       "      <th>District</th>\n",
       "      <td>Eastbound</td>\n",
       "      <td>Westbound</td>\n",
       "      <td>56</td>\n",
       "      <td>58460</td>\n",
       "      <td>310</td>\n",
       "      <td>1043</td>\n",
       "      <td>2370</td>\n",
       "      <td>0.7</td>\n",
       "      <td>25</td>\n",
       "    </tr>\n",
       "    <tr>\n",
       "      <th>East London</th>\n",
       "      <td>Northbound</td>\n",
       "      <td>Southbound</td>\n",
       "      <td>7</td>\n",
       "      <td>5890</td>\n",
       "      <td>320</td>\n",
       "      <td>841</td>\n",
       "      <td>2040</td>\n",
       "      <td>0.7</td>\n",
       "      <td>25</td>\n",
       "    </tr>\n",
       "  </tbody>\n",
       "</table>\n",
       "</div>"
      ],
      "text/plain": [
       "                Direction 1 Direction 2 Stations Total Dist Min Dist Avg Dist  \\\n",
       "Line                                                                            \n",
       "Bakerloo         Northbound  Southbound       24      23230      370      967   \n",
       "Central           Eastbound   Westbound       45      67520      400     1500   \n",
       "Victoria         Northbound  Southbound       15      21250      740     1416   \n",
       "Waterloo & City   Eastbound   Westbound        1       2370     2370     2370   \n",
       "Jubilee           Eastbound   Westbound       26      36950      440     1421   \n",
       "Northern         Northbound  Southbound       51      57700      270     1131   \n",
       "Piccadilly        Eastbound   Westbound       49      66874      250     1350   \n",
       "Metropolitan      Eastbound   Westbound       35      87689      510     2505   \n",
       "H & C             Eastbound   Westbound       27      25410      510      941   \n",
       "Circle                Inner       Outer       27      20760      310      768   \n",
       "District          Eastbound   Westbound       56      58460      310     1043   \n",
       "East London      Northbound  Southbound        7       5890      320      841   \n",
       "\n",
       "                Max Dist  max a  max v  \n",
       "Line                                    \n",
       "Bakerloo            1740    0.7     25  \n",
       "Central             3340    0.7     25  \n",
       "Victoria            3150    0.7     25  \n",
       "Waterloo & City     2370    0.7     25  \n",
       "Jubilee             2850    0.7     25  \n",
       "Northern            2460    0.7     25  \n",
       "Piccadilly          4420    0.7     25  \n",
       "Metropolitan       11630    0.7     25  \n",
       "H & C               2290    0.7     25  \n",
       "Circle              1850    0.7     25  \n",
       "District            2370    0.7     25  \n",
       "East London         2040    0.7     25  "
      ]
     },
     "execution_count": 38,
     "metadata": {},
     "output_type": "execute_result"
    }
   ],
   "source": [
    "lines=dt['Line'].unique()\n",
    "dl=pd.DataFrame(lines, columns=['Line'])\n",
    "dl=dl.set_index('Line')\n",
    "\n",
    "dl['Direction 1']=None\n",
    "dl['Direction 2']=None\n",
    "dl['Stations']=None\n",
    "dl['Total Dist']=None\n",
    "dl['Min Dist']=None\n",
    "dl['Avg Dist']=None\n",
    "dl['Max Dist']=None\n",
    "\n",
    "dl['max a']=0.7\n",
    "dl['max v']=25\n",
    "\n",
    "for l in lines:\n",
    "    \n",
    "    dirs = dt[dt['Line']==l]['Direction'].unique()\n",
    "    dirs = sorted(list(dirs))\n",
    "    dl.at[l, 'Direction 1']=dirs[0]\n",
    "    dl.at[l, 'Direction 2']=dirs[1]\n",
    "    \n",
    "    dist = dt[dt['Line']==l]['Distance']\n",
    "    dl.at[l, 'Stations']=int(dist.count()/2)\n",
    "    dl.at[l, 'Total Dist']=int(dist.sum()/2)\n",
    "    dl.at[l, 'Min Dist']=int(dist.min())\n",
    "    dl.at[l, 'Avg Dist']=int(dist.mean())\n",
    "    dl.at[l, 'Max Dist']=int(dist.max())\n",
    "\n",
    "dl"
   ]
  },
  {
   "cell_type": "markdown",
   "metadata": {},
   "source": [
    "## Convert Runtime into Expected Drive Time and Dwell Time"
   ]
  },
  {
   "cell_type": "markdown",
   "metadata": {},
   "source": [
    "Physics Calculation: time to travel a given distance based on acceleration and max velocity"
   ]
  },
  {
   "cell_type": "code",
   "execution_count": 10,
   "metadata": {
    "ExecuteTime": {
     "end_time": "2020-07-23T01:02:31.539390Z",
     "start_time": "2020-07-23T01:02:31.534662Z"
    }
   },
   "outputs": [],
   "source": [
    "def timeTo(a, maxV, d):\n",
    "    # a       constant acceleration, m/s²\n",
    "    # maxV    maximumum velocity, m/s\n",
    "    # d       distance, km\n",
    "    # return  time in seconds required to travel\n",
    "    # \n",
    "    ta = maxV/a         # time to accelerate to maxV\n",
    "    da = a*ta**2        # distance traveled during acceleration from 0 to maxV and back to 0\n",
    "    if (d < da):        # train never reaches full speed?\n",
    "        return np.sqrt(4.0*d/a)     # time needed to accelerate to half-way point then decelerate to destination\n",
    "    else:\n",
    "        return 2*ta + (d-da)/maxV   # time to accelerate to maxV plus travel at maxV plus decelerate to destination"
   ]
  },
  {
   "cell_type": "code",
   "execution_count": 11,
   "metadata": {
    "ExecuteTime": {
     "end_time": "2020-07-23T01:02:31.602969Z",
     "start_time": "2020-07-23T01:02:31.542264Z"
    }
   },
   "outputs": [],
   "source": [
    "dt['Drive Time'] = None\n",
    "for i in range(len(dt)):\n",
    "    dist = dt.at[i, 'Distance']\n",
    "    l = dt.at[i, 'Line']\n",
    "    a = dl.at[l, 'max a']\n",
    "    v = dl.at[l, 'max v']\n",
    "    dt.at[i, 'Drive Time']=int(timeTo(a, v, dist))"
   ]
  },
  {
   "cell_type": "code",
   "execution_count": 13,
   "metadata": {
    "ExecuteTime": {
     "end_time": "2020-07-23T01:02:31.625998Z",
     "start_time": "2020-07-23T01:02:31.620418Z"
    }
   },
   "outputs": [],
   "source": [
    "dt['Dwell Time']=dt['Running Time']-dt['Drive Time']"
   ]
  },
  {
   "cell_type": "code",
   "execution_count": 14,
   "metadata": {
    "ExecuteTime": {
     "end_time": "2020-07-23T01:02:31.632001Z",
     "start_time": "2020-07-23T01:02:31.628061Z"
    }
   },
   "outputs": [],
   "source": [
    "dt['Peak Dwell Time']=dt['Peak Running Time']-dt['Drive Time']"
   ]
  },
  {
   "cell_type": "code",
   "execution_count": 15,
   "metadata": {
    "ExecuteTime": {
     "end_time": "2020-07-23T01:02:31.638159Z",
     "start_time": "2020-07-23T01:02:31.634037Z"
    }
   },
   "outputs": [],
   "source": [
    "dt['Off-Peak Dwell Time']=dt['Off-Peak Running Time']-dt['Drive Time']"
   ]
  },
  {
   "cell_type": "code",
   "execution_count": 39,
   "metadata": {
    "ExecuteTime": {
     "end_time": "2020-07-23T01:20:06.703574Z",
     "start_time": "2020-07-23T01:20:06.698848Z"
    }
   },
   "outputs": [],
   "source": [
    "dt=dt.drop(columns=['Running Time', 'Peak Running Time', 'Off-Peak Running Time'])"
   ]
  },
  {
   "cell_type": "code",
   "execution_count": 40,
   "metadata": {
    "ExecuteTime": {
     "end_time": "2020-07-23T01:20:08.042737Z",
     "start_time": "2020-07-23T01:20:08.029592Z"
    }
   },
   "outputs": [
    {
     "data": {
      "text/html": [
       "<div>\n",
       "<style scoped>\n",
       "    .dataframe tbody tr th:only-of-type {\n",
       "        vertical-align: middle;\n",
       "    }\n",
       "\n",
       "    .dataframe tbody tr th {\n",
       "        vertical-align: top;\n",
       "    }\n",
       "\n",
       "    .dataframe thead th {\n",
       "        text-align: right;\n",
       "    }\n",
       "</style>\n",
       "<table border=\"1\" class=\"dataframe\">\n",
       "  <thead>\n",
       "    <tr style=\"text-align: right;\">\n",
       "      <th></th>\n",
       "      <th>Line</th>\n",
       "      <th>Direction</th>\n",
       "      <th>From</th>\n",
       "      <th>To</th>\n",
       "      <th>Distance</th>\n",
       "      <th>Drive Time</th>\n",
       "      <th>Dwell Time</th>\n",
       "      <th>Peak Dwell Time</th>\n",
       "      <th>Off-Peak Dwell Time</th>\n",
       "    </tr>\n",
       "  </thead>\n",
       "  <tbody>\n",
       "    <tr>\n",
       "      <th>0</th>\n",
       "      <td>Bakerloo</td>\n",
       "      <td>Southbound</td>\n",
       "      <td>HARROW &amp; WEALDSTONE</td>\n",
       "      <td>KENTON</td>\n",
       "      <td>1740</td>\n",
       "      <td>105</td>\n",
       "      <td>28</td>\n",
       "      <td>45</td>\n",
       "      <td>45</td>\n",
       "    </tr>\n",
       "    <tr>\n",
       "      <th>1</th>\n",
       "      <td>Bakerloo</td>\n",
       "      <td>Southbound</td>\n",
       "      <td>KENTON</td>\n",
       "      <td>SOUTH KENTON</td>\n",
       "      <td>1400</td>\n",
       "      <td>91</td>\n",
       "      <td>21</td>\n",
       "      <td>29</td>\n",
       "      <td>29</td>\n",
       "    </tr>\n",
       "    <tr>\n",
       "      <th>2</th>\n",
       "      <td>Bakerloo</td>\n",
       "      <td>Southbound</td>\n",
       "      <td>SOUTH KENTON</td>\n",
       "      <td>NORTH WEMBLEY</td>\n",
       "      <td>900</td>\n",
       "      <td>71</td>\n",
       "      <td>19</td>\n",
       "      <td>19</td>\n",
       "      <td>19</td>\n",
       "    </tr>\n",
       "    <tr>\n",
       "      <th>3</th>\n",
       "      <td>Bakerloo</td>\n",
       "      <td>Southbound</td>\n",
       "      <td>NORTH WEMBLEY</td>\n",
       "      <td>WEMBLEY CENTRAL</td>\n",
       "      <td>1270</td>\n",
       "      <td>86</td>\n",
       "      <td>29</td>\n",
       "      <td>37</td>\n",
       "      <td>37</td>\n",
       "    </tr>\n",
       "    <tr>\n",
       "      <th>4</th>\n",
       "      <td>Bakerloo</td>\n",
       "      <td>Southbound</td>\n",
       "      <td>WEMBLEY CENTRAL</td>\n",
       "      <td>STONEBRIDGE PARK</td>\n",
       "      <td>1710</td>\n",
       "      <td>104</td>\n",
       "      <td>29</td>\n",
       "      <td>83</td>\n",
       "      <td>83</td>\n",
       "    </tr>\n",
       "  </tbody>\n",
       "</table>\n",
       "</div>"
      ],
      "text/plain": [
       "       Line   Direction                 From                To  Distance  \\\n",
       "0  Bakerloo  Southbound  HARROW & WEALDSTONE            KENTON      1740   \n",
       "1  Bakerloo  Southbound               KENTON      SOUTH KENTON      1400   \n",
       "2  Bakerloo  Southbound         SOUTH KENTON     NORTH WEMBLEY       900   \n",
       "3  Bakerloo  Southbound        NORTH WEMBLEY   WEMBLEY CENTRAL      1270   \n",
       "4  Bakerloo  Southbound      WEMBLEY CENTRAL  STONEBRIDGE PARK      1710   \n",
       "\n",
       "   Drive Time Dwell Time  Peak Dwell Time  Off-Peak Dwell Time  \n",
       "0         105         28               45                   45  \n",
       "1          91         21               29                   29  \n",
       "2          71         19               19                   19  \n",
       "3          86         29               37                   37  \n",
       "4         104         29               83                   83  "
      ]
     },
     "execution_count": 40,
     "metadata": {},
     "output_type": "execute_result"
    }
   ],
   "source": [
    "dt.head()"
   ]
  },
  {
   "cell_type": "markdown",
   "metadata": {},
   "source": [
    "# Exploratory Data Analysis"
   ]
  },
  {
   "cell_type": "markdown",
   "metadata": {},
   "source": [
    "## Distance Between Stations (m)"
   ]
  },
  {
   "cell_type": "code",
   "execution_count": 42,
   "metadata": {
    "ExecuteTime": {
     "end_time": "2020-07-23T01:27:41.111023Z",
     "start_time": "2020-07-23T01:27:41.105388Z"
    }
   },
   "outputs": [
    {
     "data": {
      "text/plain": [
       "250"
      ]
     },
     "execution_count": 42,
     "metadata": {},
     "output_type": "execute_result"
    }
   ],
   "source": [
    "dt['Distance'].min()"
   ]
  },
  {
   "cell_type": "code",
   "execution_count": 43,
   "metadata": {
    "ExecuteTime": {
     "end_time": "2020-07-23T01:27:54.281987Z",
     "start_time": "2020-07-23T01:27:54.276528Z"
    }
   },
   "outputs": [
    {
     "data": {
      "text/plain": [
       "11630"
      ]
     },
     "execution_count": 43,
     "metadata": {},
     "output_type": "execute_result"
    }
   ],
   "source": [
    "dt['Distance'].max()"
   ]
  },
  {
   "cell_type": "code",
   "execution_count": 46,
   "metadata": {
    "ExecuteTime": {
     "end_time": "2020-07-23T01:30:01.599438Z",
     "start_time": "2020-07-23T01:30:01.593564Z"
    }
   },
   "outputs": [
    {
     "data": {
      "text/plain": [
       "1304.2723521320495"
      ]
     },
     "execution_count": 46,
     "metadata": {},
     "output_type": "execute_result"
    }
   ],
   "source": [
    "dt['Distance'].mean()"
   ]
  },
  {
   "cell_type": "code",
   "execution_count": 45,
   "metadata": {
    "ExecuteTime": {
     "end_time": "2020-07-23T01:29:06.544935Z",
     "start_time": "2020-07-23T01:29:06.216300Z"
    }
   },
   "outputs": [
    {
     "data": {
      "text/plain": [
       "<matplotlib.axes._subplots.AxesSubplot at 0x7fb1485919d0>"
      ]
     },
     "execution_count": 45,
     "metadata": {},
     "output_type": "execute_result"
    },
    {
     "data": {
      "image/png": "[encoded data removed]",
      "text/plain": [
       "<Figure size 432x288 with 1 Axes>"
      ]
     },
     "metadata": {
      "needs_background": "light"
     },
     "output_type": "display_data"
    }
   ],
   "source": [
    "dt['Distance'].hist(bins=np.linspace(0, 12000, 49))"
   ]
  },
  {
   "cell_type": "markdown",
   "metadata": {},
   "source": [
    "## Drive Time between Stations (s)"
   ]
  },
  {
   "cell_type": "code",
   "execution_count": 48,
   "metadata": {
    "ExecuteTime": {
     "end_time": "2020-07-23T01:32:47.536879Z",
     "start_time": "2020-07-23T01:32:47.531432Z"
    }
   },
   "outputs": [
    {
     "data": {
      "text/plain": [
       "37"
      ]
     },
     "execution_count": 48,
     "metadata": {},
     "output_type": "execute_result"
    }
   ],
   "source": [
    "dt['Drive Time'].min()"
   ]
  },
  {
   "cell_type": "code",
   "execution_count": 49,
   "metadata": {
    "ExecuteTime": {
     "end_time": "2020-07-23T01:33:47.124577Z",
     "start_time": "2020-07-23T01:33:47.119358Z"
    }
   },
   "outputs": [
    {
     "data": {
      "text/plain": [
       "500"
      ]
     },
     "execution_count": 49,
     "metadata": {},
     "output_type": "execute_result"
    }
   ],
   "source": [
    "dt['Drive Time'].max()"
   ]
  },
  {
   "cell_type": "code",
   "execution_count": 50,
   "metadata": {
    "ExecuteTime": {
     "end_time": "2020-07-23T01:34:25.872592Z",
     "start_time": "2020-07-23T01:34:25.537340Z"
    }
   },
   "outputs": [
    {
     "data": {
      "text/plain": [
       "<matplotlib.axes._subplots.AxesSubplot at 0x7fb148600280>"
      ]
     },
     "execution_count": 50,
     "metadata": {},
     "output_type": "execute_result"
    },
    {
     "data": {
      "image/png": "[encoded data removed]",
      "text/plain": [
       "<Figure size 432x288 with 1 Axes>"
      ]
     },
     "metadata": {
      "needs_background": "light"
     },
     "output_type": "display_data"
    }
   ],
   "source": [
    "dt['Drive Time'].hist(bins=np.linspace(0, 500, 51))"
   ]
  },
  {
   "cell_type": "markdown",
   "metadata": {},
   "source": [
    "## Dwell Times (s)"
   ]
  },
  {
   "cell_type": "code",
   "execution_count": 22,
   "metadata": {
    "ExecuteTime": {
     "end_time": "2020-07-23T01:02:31.704552Z",
     "start_time": "2020-07-23T01:02:31.699926Z"
    }
   },
   "outputs": [
    {
     "data": {
      "text/plain": [
       "10"
      ]
     },
     "execution_count": 22,
     "metadata": {},
     "output_type": "execute_result"
    }
   ],
   "source": [
    "dt['Peak Dwell Time'].min()"
   ]
  },
  {
   "cell_type": "code",
   "execution_count": 23,
   "metadata": {
    "ExecuteTime": {
     "end_time": "2020-07-23T01:02:31.710933Z",
     "start_time": "2020-07-23T01:02:31.706520Z"
    }
   },
   "outputs": [
    {
     "data": {
      "text/plain": [
       "257"
      ]
     },
     "execution_count": 23,
     "metadata": {},
     "output_type": "execute_result"
    }
   ],
   "source": [
    "dt['Peak Dwell Time'].max()"
   ]
  },
  {
   "cell_type": "code",
   "execution_count": 24,
   "metadata": {
    "ExecuteTime": {
     "end_time": "2020-07-23T01:02:31.717654Z",
     "start_time": "2020-07-23T01:02:31.712872Z"
    }
   },
   "outputs": [
    {
     "data": {
      "text/plain": [
       "58.60797799174691"
      ]
     },
     "execution_count": 24,
     "metadata": {},
     "output_type": "execute_result"
    }
   ],
   "source": [
    "dt['Peak Dwell Time'].mean()"
   ]
  },
  {
   "cell_type": "code",
   "execution_count": 25,
   "metadata": {
    "ExecuteTime": {
     "end_time": "2020-07-23T01:02:31.724172Z",
     "start_time": "2020-07-23T01:02:31.719602Z"
    }
   },
   "outputs": [
    {
     "data": {
      "text/plain": [
       "36.792570099150346"
      ]
     },
     "execution_count": 25,
     "metadata": {},
     "output_type": "execute_result"
    }
   ],
   "source": [
    "dt['Peak Dwell Time'].std()"
   ]
  },
  {
   "cell_type": "code",
   "execution_count": 26,
   "metadata": {
    "ExecuteTime": {
     "end_time": "2020-07-23T01:02:32.096215Z",
     "start_time": "2020-07-23T01:02:31.726093Z"
    }
   },
   "outputs": [
    {
     "data": {
      "text/plain": [
       "<matplotlib.axes._subplots.AxesSubplot at 0x7fb14821e310>"
      ]
     },
     "execution_count": 26,
     "metadata": {},
     "output_type": "execute_result"
    },
    {
     "data": {
      "image/png": "[encoded data removed]",
      "text/plain": [
       "<Figure size 432x288 with 1 Axes>"
      ]
     },
     "metadata": {
      "needs_background": "light"
     },
     "output_type": "display_data"
    }
   ],
   "source": [
    "dt['Peak Dwell Time'].hist(bins=np.linspace(0, 300, 61))"
   ]
  },
  {
   "cell_type": "code",
   "execution_count": 27,
   "metadata": {
    "ExecuteTime": {
     "end_time": "2020-07-23T01:02:32.102663Z",
     "start_time": "2020-07-23T01:02:32.098314Z"
    }
   },
   "outputs": [
    {
     "data": {
      "text/plain": [
       "10"
      ]
     },
     "execution_count": 27,
     "metadata": {},
     "output_type": "execute_result"
    }
   ],
   "source": [
    "dt['Off-Peak Dwell Time'].min()"
   ]
  },
  {
   "cell_type": "code",
   "execution_count": 28,
   "metadata": {
    "ExecuteTime": {
     "end_time": "2020-07-23T01:02:32.109893Z",
     "start_time": "2020-07-23T01:02:32.104947Z"
    }
   },
   "outputs": [
    {
     "data": {
      "text/plain": [
       "227"
      ]
     },
     "execution_count": 28,
     "metadata": {},
     "output_type": "execute_result"
    }
   ],
   "source": [
    "dt['Off-Peak Dwell Time'].max()"
   ]
  },
  {
   "cell_type": "code",
   "execution_count": 29,
   "metadata": {
    "ExecuteTime": {
     "end_time": "2020-07-23T01:02:32.390269Z",
     "start_time": "2020-07-23T01:02:32.112410Z"
    }
   },
   "outputs": [
    {
     "data": {
      "text/plain": [
       "<matplotlib.axes._subplots.AxesSubplot at 0x7fb1482d1dc0>"
      ]
     },
     "execution_count": 29,
     "metadata": {},
     "output_type": "execute_result"
    },
    {
     "data": {
      "image/png": "[encoded data removed]",
      "text/plain": [
       "<Figure size 432x288 with 1 Axes>"
      ]
     },
     "metadata": {
      "needs_background": "light"
     },
     "output_type": "display_data"
    }
   ],
   "source": [
    "dt['Off-Peak Dwell Time'].hist(bins=np.linspace(0, 300, 31))"
   ]
  },
  {
   "cell_type": "markdown",
   "metadata": {},
   "source": [
    "# Modelling"
   ]
  },
  {
   "cell_type": "markdown",
   "metadata": {},
   "source": [
    "Components of the system will be described by Python classes. The parameters are passed as data frames."
   ]
  },
  {
   "cell_type": "markdown",
   "metadata": {},
   "source": [
    "## Trains"
   ]
  },
  {
   "cell_type": "code",
   "execution_count": 32,
   "metadata": {
    "ExecuteTime": {
     "end_time": "2020-07-23T01:02:32.436151Z",
     "start_time": "2020-07-23T01:02:32.429653Z"
    }
   },
   "outputs": [],
   "source": [
    "class Train(object):  \n",
    "    def __init__(self, i, data, line, direction):\n",
    "        self.data = data\n",
    "        self.name = f\"{line:s}-{direction:s} [Train {i:2d}]\"\n",
    "    \n",
    "    def process(self):\n",
    "\n",
    "        for i in range(len(self.data)):\n",
    "            \n",
    "            here = self.data.at[i, 'From']\n",
    "            dest = self.data.at[i, 'To']\n",
    "                       \n",
    "            dwelltime = self.data.at[i, 'Off-Peak Dwell Time']\n",
    "            yield env.timeout(dwelltime)\n",
    "            print(f\"{now():s} {self.name:s} dep {here:s} for {dest:s}\")\n",
    "            \n",
    "            drivetime = self.data.at[i, 'Drive Time']\n",
    "            yield env.timeout(drivetime)\n",
    "            print(f\"{now():s} {self.name:s} arr {dest:s}\")\n"
   ]
  },
  {
   "cell_type": "markdown",
   "metadata": {},
   "source": [
    "## Tracks"
   ]
  },
  {
   "cell_type": "markdown",
   "metadata": {},
   "source": [
    "A track describes a direction of a line. The parameters describing a track are:\n",
    "- The start and stop times of the line (for example 6:00 to 23:00),\n",
    "- The time between trains (for example every 5 minutes), but this may vary during the day.\n",
    "\n",
    "The parameters for a line will later be taken from the line table. For the time being we use a simple procedure running the simulation of a single track."
   ]
  },
  {
   "cell_type": "code",
   "execution_count": 51,
   "metadata": {
    "ExecuteTime": {
     "end_time": "2020-07-23T01:41:26.143161Z",
     "start_time": "2020-07-23T01:41:26.136473Z"
    }
   },
   "outputs": [],
   "source": [
    "def track(env, line, direction, start, stop, timing):\n",
    "\n",
    "    # create a slice of data for the line\n",
    "    data = dt[dt['Line']==line][dt['Direction']==direction].reset_index(drop=True)\n",
    "    \n",
    "    yield env.timeout(start-env.now) # the line starts operating at 6am\n",
    "    \n",
    "    for i in range(int((stop-start)/timing)):  \n",
    "        \n",
    "        t = Train(i, data, line, direction)\n",
    "        env.process(t.process())\n",
    "        yield env.timeout(timing)"
   ]
  },
  {
   "cell_type": "markdown",
   "metadata": {},
   "source": [
    "# Utilities"
   ]
  },
  {
   "cell_type": "markdown",
   "metadata": {},
   "source": [
    "Format time in seconds as hh:mm:ss"
   ]
  },
  {
   "cell_type": "code",
   "execution_count": 34,
   "metadata": {
    "ExecuteTime": {
     "end_time": "2020-07-23T01:02:32.450414Z",
     "start_time": "2020-07-23T01:02:32.446538Z"
    }
   },
   "outputs": [],
   "source": [
    "def daytime(t):\n",
    "    t=int(t)\n",
    "    return f\"{t//3600:02d}:{(t%3600)//60:02d}:{t%60:02d}\"\n",
    "def now():\n",
    "    return daytime(env.now)"
   ]
  },
  {
   "cell_type": "markdown",
   "metadata": {},
   "source": [
    "# System Verification"
   ]
  },
  {
   "cell_type": "markdown",
   "metadata": {},
   "source": [
    "As a first step we verify that the trains are running in parallel."
   ]
  },
  {
   "cell_type": "code",
   "execution_count": 52,
   "metadata": {
    "ExecuteTime": {
     "end_time": "2020-07-23T01:49:54.245564Z",
     "start_time": "2020-07-23T01:49:54.136308Z"
    },
    "scrolled": true
   },
   "outputs": [
    {
     "name": "stdout",
     "output_type": "stream",
     "text": [
      "06:00:33 Central-Eastbound [Train  0] dep WEST RUISLIP for RUISLIP GARDENS\n",
      "06:02:30 Central-Eastbound [Train  0] arr RUISLIP GARDENS\n",
      "06:02:50 Central-Eastbound [Train  0] dep RUISLIP GARDENS for SOUTH RUISLIP\n",
      "06:04:00 Central-Eastbound [Train  0] arr SOUTH RUISLIP\n",
      "06:04:24 Central-Eastbound [Train  0] dep SOUTH RUISLIP for NORTHOLT\n",
      "06:05:33 Central-Eastbound [Train  1] dep WEST RUISLIP for RUISLIP GARDENS\n",
      "06:06:30 Central-Eastbound [Train  0] arr NORTHOLT\n",
      "06:06:44 Central-Eastbound [Train  0] dep NORTHOLT for GREENFORD\n",
      "06:07:30 Central-Eastbound [Train  1] arr RUISLIP GARDENS\n",
      "06:07:50 Central-Eastbound [Train  1] dep RUISLIP GARDENS for SOUTH RUISLIP\n",
      "06:08:30 Central-Eastbound [Train  0] arr GREENFORD\n",
      "06:09:00 Central-Eastbound [Train  1] arr SOUTH RUISLIP\n",
      "06:09:02 Central-Eastbound [Train  0] dep GREENFORD for PERIVALE\n",
      "06:09:24 Central-Eastbound [Train  1] dep SOUTH RUISLIP for NORTHOLT\n",
      "06:10:33 Central-Eastbound [Train  2] dep WEST RUISLIP for RUISLIP GARDENS\n",
      "06:10:45 Central-Eastbound [Train  0] arr PERIVALE\n",
      "06:11:01 Central-Eastbound [Train  0] dep PERIVALE for HANGER LANE\n",
      "06:11:30 Central-Eastbound [Train  1] arr NORTHOLT\n",
      "06:11:44 Central-Eastbound [Train  1] dep NORTHOLT for GREENFORD\n",
      "06:12:30 Central-Eastbound [Train  2] arr RUISLIP GARDENS\n",
      "06:12:50 Central-Eastbound [Train  2] dep RUISLIP GARDENS for SOUTH RUISLIP\n",
      "06:13:00 Central-Eastbound [Train  0] arr HANGER LANE\n",
      "06:13:30 Central-Eastbound [Train  1] arr GREENFORD\n",
      "06:14:00 Central-Eastbound [Train  2] arr SOUTH RUISLIP\n",
      "06:14:02 Central-Eastbound [Train  1] dep GREENFORD for PERIVALE\n",
      "06:14:13 Central-Eastbound [Train  0] dep HANGER LANE for NORTH ACTON\n",
      "06:14:24 Central-Eastbound [Train  2] dep SOUTH RUISLIP for NORTHOLT\n",
      "06:15:33 Central-Eastbound [Train  3] dep WEST RUISLIP for RUISLIP GARDENS\n",
      "06:15:45 Central-Eastbound [Train  1] arr PERIVALE\n",
      "06:16:01 Central-Eastbound [Train  1] dep PERIVALE for HANGER LANE\n",
      "06:16:28 Central-Eastbound [Train  0] arr NORTH ACTON\n",
      "06:16:30 Central-Eastbound [Train  2] arr NORTHOLT\n",
      "06:16:44 Central-Eastbound [Train  2] dep NORTHOLT for GREENFORD\n",
      "06:17:07 Central-Eastbound [Train  0] dep EALING BROADWAY for WEST ACTON\n",
      "06:17:30 Central-Eastbound [Train  3] arr RUISLIP GARDENS\n",
      "06:17:50 Central-Eastbound [Train  3] dep RUISLIP GARDENS for SOUTH RUISLIP\n",
      "06:18:00 Central-Eastbound [Train  1] arr HANGER LANE\n",
      "06:18:30 Central-Eastbound [Train  2] arr GREENFORD\n",
      "06:18:43 Central-Eastbound [Train  0] arr WEST ACTON\n",
      "06:19:00 Central-Eastbound [Train  3] arr SOUTH RUISLIP\n",
      "06:19:02 Central-Eastbound [Train  2] dep GREENFORD for PERIVALE\n",
      "06:19:13 Central-Eastbound [Train  1] dep HANGER LANE for NORTH ACTON\n",
      "06:19:24 Central-Eastbound [Train  3] dep SOUTH RUISLIP for NORTHOLT\n",
      "06:20:12 Central-Eastbound [Train  0] dep WEST ACTON for NORTH ACTON\n",
      "06:20:33 Central-Eastbound [Train  4] dep WEST RUISLIP for RUISLIP GARDENS\n",
      "06:20:45 Central-Eastbound [Train  2] arr PERIVALE\n",
      "06:21:01 Central-Eastbound [Train  2] dep PERIVALE for HANGER LANE\n",
      "06:21:28 Central-Eastbound [Train  1] arr NORTH ACTON\n",
      "06:21:30 Central-Eastbound [Train  3] arr NORTHOLT\n",
      "06:21:44 Central-Eastbound [Train  3] dep NORTHOLT for GREENFORD\n",
      "06:21:58 Central-Eastbound [Train  0] arr NORTH ACTON\n",
      "06:22:07 Central-Eastbound [Train  1] dep EALING BROADWAY for WEST ACTON\n",
      "06:22:23 Central-Eastbound [Train  0] dep NORTH ACTON for EAST ACTON\n",
      "06:22:30 Central-Eastbound [Train  4] arr RUISLIP GARDENS\n",
      "06:22:50 Central-Eastbound [Train  4] dep RUISLIP GARDENS for SOUTH RUISLIP\n",
      "06:23:00 Central-Eastbound [Train  2] arr HANGER LANE\n",
      "06:23:30 Central-Eastbound [Train  3] arr GREENFORD\n",
      "06:23:43 Central-Eastbound [Train  1] arr WEST ACTON\n",
      "06:23:43 Central-Eastbound [Train  0] arr EAST ACTON\n",
      "06:24:00 Central-Eastbound [Train  4] arr SOUTH RUISLIP\n",
      "06:24:02 Central-Eastbound [Train  3] dep GREENFORD for PERIVALE\n",
      "06:24:13 Central-Eastbound [Train  2] dep HANGER LANE for NORTH ACTON\n",
      "06:24:24 Central-Eastbound [Train  4] dep SOUTH RUISLIP for NORTHOLT\n",
      "06:25:12 Central-Eastbound [Train  1] dep WEST ACTON for NORTH ACTON\n",
      "06:25:27 Central-Eastbound [Train  0] dep EAST ACTON for WHITE CITY\n",
      "06:25:33 Central-Eastbound [Train  5] dep WEST RUISLIP for RUISLIP GARDENS\n",
      "06:25:45 Central-Eastbound [Train  3] arr PERIVALE\n",
      "06:26:01 Central-Eastbound [Train  3] dep PERIVALE for HANGER LANE\n",
      "06:26:28 Central-Eastbound [Train  2] arr NORTH ACTON\n",
      "06:26:30 Central-Eastbound [Train  4] arr NORTHOLT\n",
      "06:26:44 Central-Eastbound [Train  4] dep NORTHOLT for GREENFORD\n",
      "06:26:58 Central-Eastbound [Train  1] arr NORTH ACTON\n",
      "06:27:07 Central-Eastbound [Train  2] dep EALING BROADWAY for WEST ACTON\n",
      "06:27:23 Central-Eastbound [Train  1] dep NORTH ACTON for EAST ACTON\n",
      "06:27:25 Central-Eastbound [Train  0] arr WHITE CITY\n",
      "06:27:30 Central-Eastbound [Train  5] arr RUISLIP GARDENS\n",
      "06:27:50 Central-Eastbound [Train  5] dep RUISLIP GARDENS for SOUTH RUISLIP\n",
      "06:28:00 Central-Eastbound [Train  3] arr HANGER LANE\n",
      "06:28:30 Central-Eastbound [Train  4] arr GREENFORD\n",
      "06:28:43 Central-Eastbound [Train  2] arr WEST ACTON\n",
      "06:28:43 Central-Eastbound [Train  1] arr EAST ACTON\n",
      "06:28:48 Central-Eastbound [Train  0] dep WHITE CITY for SHEPHERDS BUSH\n",
      "06:29:00 Central-Eastbound [Train  5] arr SOUTH RUISLIP\n",
      "06:29:02 Central-Eastbound [Train  4] dep GREENFORD for PERIVALE\n",
      "06:29:13 Central-Eastbound [Train  3] dep HANGER LANE for NORTH ACTON\n",
      "06:29:24 Central-Eastbound [Train  5] dep SOUTH RUISLIP for NORTHOLT\n",
      "06:30:10 Central-Eastbound [Train  0] arr SHEPHERDS BUSH\n",
      "06:30:12 Central-Eastbound [Train  2] dep WEST ACTON for NORTH ACTON\n",
      "06:30:27 Central-Eastbound [Train  1] dep EAST ACTON for WHITE CITY\n",
      "06:30:33 Central-Eastbound [Train  6] dep WEST RUISLIP for RUISLIP GARDENS\n",
      "06:30:45 Central-Eastbound [Train  4] arr PERIVALE\n",
      "06:30:45 Central-Eastbound [Train  0] dep SHEPHERDS BUSH for HOLLAND PARK\n",
      "06:31:01 Central-Eastbound [Train  4] dep PERIVALE for HANGER LANE\n",
      "06:31:28 Central-Eastbound [Train  3] arr NORTH ACTON\n",
      "06:31:30 Central-Eastbound [Train  5] arr NORTHOLT\n",
      "06:31:44 Central-Eastbound [Train  5] dep NORTHOLT for GREENFORD\n",
      "06:31:55 Central-Eastbound [Train  0] arr HOLLAND PARK\n",
      "06:31:58 Central-Eastbound [Train  2] arr NORTH ACTON\n",
      "06:32:07 Central-Eastbound [Train  3] dep EALING BROADWAY for WEST ACTON\n",
      "06:32:23 Central-Eastbound [Train  2] dep NORTH ACTON for EAST ACTON\n",
      "06:32:25 Central-Eastbound [Train  1] arr WHITE CITY\n",
      "06:32:26 Central-Eastbound [Train  0] dep HOLLAND PARK for NOTTING HILL GATE\n",
      "06:32:30 Central-Eastbound [Train  6] arr RUISLIP GARDENS\n",
      "06:32:50 Central-Eastbound [Train  6] dep RUISLIP GARDENS for SOUTH RUISLIP\n",
      "06:33:00 Central-Eastbound [Train  4] arr HANGER LANE\n",
      "06:33:25 Central-Eastbound [Train  0] arr NOTTING HILL GATE\n",
      "06:33:30 Central-Eastbound [Train  5] arr GREENFORD\n",
      "06:33:43 Central-Eastbound [Train  3] arr WEST ACTON\n",
      "06:33:43 Central-Eastbound [Train  2] arr EAST ACTON\n",
      "06:33:48 Central-Eastbound [Train  1] dep WHITE CITY for SHEPHERDS BUSH\n",
      "06:33:53 Central-Eastbound [Train  0] dep NOTTING HILL GATE for QUEENSWAY\n",
      "06:34:00 Central-Eastbound [Train  6] arr SOUTH RUISLIP\n",
      "06:34:02 Central-Eastbound [Train  5] dep GREENFORD for PERIVALE\n",
      "06:34:13 Central-Eastbound [Train  4] dep HANGER LANE for NORTH ACTON\n",
      "06:34:24 Central-Eastbound [Train  6] dep SOUTH RUISLIP for NORTHOLT\n",
      "06:34:55 Central-Eastbound [Train  0] arr QUEENSWAY\n",
      "06:35:10 Central-Eastbound [Train  1] arr SHEPHERDS BUSH\n",
      "06:35:12 Central-Eastbound [Train  3] dep WEST ACTON for NORTH ACTON\n",
      "06:35:14 Central-Eastbound [Train  0] dep QUEENSWAY for LANCASTER GATE\n",
      "06:35:27 Central-Eastbound [Train  2] dep EAST ACTON for WHITE CITY\n",
      "06:35:33 Central-Eastbound [Train  7] dep WEST RUISLIP for RUISLIP GARDENS\n",
      "06:35:45 Central-Eastbound [Train  5] arr PERIVALE\n",
      "06:35:45 Central-Eastbound [Train  1] dep SHEPHERDS BUSH for HOLLAND PARK\n",
      "06:36:01 Central-Eastbound [Train  5] dep PERIVALE for HANGER LANE\n",
      "06:36:25 Central-Eastbound [Train  0] arr LANCASTER GATE\n",
      "06:36:28 Central-Eastbound [Train  4] arr NORTH ACTON\n",
      "06:36:30 Central-Eastbound [Train  6] arr NORTHOLT\n",
      "06:36:44 Central-Eastbound [Train  6] dep NORTHOLT for GREENFORD\n",
      "06:36:55 Central-Eastbound [Train  1] arr HOLLAND PARK\n",
      "06:36:58 Central-Eastbound [Train  3] arr NORTH ACTON\n",
      "06:37:07 Central-Eastbound [Train  4] dep EALING BROADWAY for WEST ACTON\n",
      "06:37:23 Central-Eastbound [Train  3] dep NORTH ACTON for EAST ACTON\n",
      "06:37:25 Central-Eastbound [Train  2] arr WHITE CITY\n",
      "06:37:26 Central-Eastbound [Train  1] dep HOLLAND PARK for NOTTING HILL GATE\n",
      "06:37:30 Central-Eastbound [Train  7] arr RUISLIP GARDENS\n",
      "06:37:32 Central-Eastbound [Train  0] dep LANCASTER GATE for MARBLE ARCH\n",
      "06:37:50 Central-Eastbound [Train  7] dep RUISLIP GARDENS for SOUTH RUISLIP\n",
      "06:38:00 Central-Eastbound [Train  5] arr HANGER LANE\n",
      "06:38:25 Central-Eastbound [Train  1] arr NOTTING HILL GATE\n",
      "06:38:30 Central-Eastbound [Train  6] arr GREENFORD\n",
      "06:38:43 Central-Eastbound [Train  4] arr WEST ACTON\n",
      "06:38:43 Central-Eastbound [Train  3] arr EAST ACTON\n",
      "06:38:48 Central-Eastbound [Train  2] dep WHITE CITY for SHEPHERDS BUSH\n",
      "06:38:53 Central-Eastbound [Train  1] dep NOTTING HILL GATE for QUEENSWAY\n",
      "06:38:55 Central-Eastbound [Train  0] arr MARBLE ARCH\n",
      "06:39:00 Central-Eastbound [Train  7] arr SOUTH RUISLIP\n",
      "06:39:02 Central-Eastbound [Train  6] dep GREENFORD for PERIVALE\n",
      "06:39:13 Central-Eastbound [Train  5] dep HANGER LANE for NORTH ACTON\n",
      "06:39:14 Central-Eastbound [Train  0] dep MARBLE ARCH for BOND STREET\n",
      "06:39:24 Central-Eastbound [Train  7] dep SOUTH RUISLIP for NORTHOLT\n",
      "06:39:55 Central-Eastbound [Train  1] arr QUEENSWAY\n",
      "06:40:10 Central-Eastbound [Train  2] arr SHEPHERDS BUSH\n",
      "06:40:10 Central-Eastbound [Train  0] arr BOND STREET\n",
      "06:40:12 Central-Eastbound [Train  4] dep WEST ACTON for NORTH ACTON\n",
      "06:40:14 Central-Eastbound [Train  1] dep QUEENSWAY for LANCASTER GATE\n",
      "06:40:27 Central-Eastbound [Train  3] dep EAST ACTON for WHITE CITY\n",
      "06:40:33 Central-Eastbound [Train  8] dep WEST RUISLIP for RUISLIP GARDENS\n",
      "06:40:39 Central-Eastbound [Train  0] dep BOND STREET for OXFORD CIRCUS\n",
      "06:40:45 Central-Eastbound [Train  6] arr PERIVALE\n",
      "06:40:45 Central-Eastbound [Train  2] dep SHEPHERDS BUSH for HOLLAND PARK\n",
      "06:41:01 Central-Eastbound [Train  6] dep PERIVALE for HANGER LANE\n",
      "06:41:25 Central-Eastbound [Train  1] arr LANCASTER GATE\n",
      "06:41:28 Central-Eastbound [Train  5] arr NORTH ACTON\n",
      "06:41:30 Central-Eastbound [Train  7] arr NORTHOLT\n",
      "06:41:40 Central-Eastbound [Train  0] arr OXFORD CIRCUS\n",
      "06:41:44 Central-Eastbound [Train  7] dep NORTHOLT for GREENFORD\n",
      "06:41:55 Central-Eastbound [Train  2] arr HOLLAND PARK\n",
      "06:41:58 Central-Eastbound [Train  4] arr NORTH ACTON\n",
      "06:42:07 Central-Eastbound [Train  5] dep EALING BROADWAY for WEST ACTON\n",
      "06:42:13 Central-Eastbound [Train  0] dep OXFORD CIRCUS for TOTTENHAM COURT ROAD\n",
      "06:42:23 Central-Eastbound [Train  4] dep NORTH ACTON for EAST ACTON\n",
      "06:42:25 Central-Eastbound [Train  3] arr WHITE CITY\n",
      "06:42:26 Central-Eastbound [Train  2] dep HOLLAND PARK for NOTTING HILL GATE\n",
      "06:42:30 Central-Eastbound [Train  8] arr RUISLIP GARDENS\n",
      "06:42:32 Central-Eastbound [Train  1] dep LANCASTER GATE for MARBLE ARCH\n",
      "06:42:50 Central-Eastbound [Train  8] dep RUISLIP GARDENS for SOUTH RUISLIP\n",
      "06:43:00 Central-Eastbound [Train  6] arr HANGER LANE\n",
      "06:43:10 Central-Eastbound [Train  0] arr TOTTENHAM COURT ROAD\n",
      "06:43:25 Central-Eastbound [Train  2] arr NOTTING HILL GATE\n",
      "06:43:30 Central-Eastbound [Train  7] arr GREENFORD\n",
      "06:43:43 Central-Eastbound [Train  5] arr WEST ACTON\n",
      "06:43:43 Central-Eastbound [Train  4] arr EAST ACTON\n",
      "06:43:48 Central-Eastbound [Train  3] dep WHITE CITY for SHEPHERDS BUSH\n",
      "06:43:53 Central-Eastbound [Train  2] dep NOTTING HILL GATE for QUEENSWAY\n",
      "06:43:55 Central-Eastbound [Train  1] arr MARBLE ARCH\n",
      "06:44:00 Central-Eastbound [Train  8] arr SOUTH RUISLIP\n",
      "06:44:00 Central-Eastbound [Train  0] dep TOTTENHAM COURT ROAD for HOLBORN\n",
      "06:44:02 Central-Eastbound [Train  7] dep GREENFORD for PERIVALE\n",
      "06:44:13 Central-Eastbound [Train  6] dep HANGER LANE for NORTH ACTON\n",
      "06:44:14 Central-Eastbound [Train  1] dep MARBLE ARCH for BOND STREET\n",
      "06:44:24 Central-Eastbound [Train  8] dep SOUTH RUISLIP for NORTHOLT\n",
      "06:44:55 Central-Eastbound [Train  2] arr QUEENSWAY\n",
      "06:45:10 Central-Eastbound [Train  3] arr SHEPHERDS BUSH\n",
      "06:45:10 Central-Eastbound [Train  0] arr HOLBORN\n",
      "06:45:10 Central-Eastbound [Train  1] arr BOND STREET\n",
      "06:45:12 Central-Eastbound [Train  5] dep WEST ACTON for NORTH ACTON\n",
      "06:45:14 Central-Eastbound [Train  2] dep QUEENSWAY for LANCASTER GATE\n",
      "06:45:23 Central-Eastbound [Train  0] dep HOLBORN for CHANCERY LANE\n",
      "06:45:27 Central-Eastbound [Train  4] dep EAST ACTON for WHITE CITY\n",
      "06:45:33 Central-Eastbound [Train  9] dep WEST RUISLIP for RUISLIP GARDENS\n",
      "06:45:39 Central-Eastbound [Train  1] dep BOND STREET for OXFORD CIRCUS\n",
      "06:45:45 Central-Eastbound [Train  7] arr PERIVALE\n",
      "06:45:45 Central-Eastbound [Train  3] dep SHEPHERDS BUSH for HOLLAND PARK\n",
      "06:46:01 Central-Eastbound [Train  7] dep PERIVALE for HANGER LANE\n",
      "06:46:10 Central-Eastbound [Train  0] arr CHANCERY LANE\n",
      "06:46:25 Central-Eastbound [Train  2] arr LANCASTER GATE\n",
      "06:46:28 Central-Eastbound [Train  6] arr NORTH ACTON\n",
      "06:46:30 Central-Eastbound [Train  8] arr NORTHOLT\n",
      "06:46:40 Central-Eastbound [Train  1] arr OXFORD CIRCUS\n",
      "06:46:44 Central-Eastbound [Train  8] dep NORTHOLT for GREENFORD\n",
      "06:46:54 Central-Eastbound [Train  0] dep CHANCERY LANE for ST PAULS\n",
      "06:46:55 Central-Eastbound [Train  3] arr HOLLAND PARK\n",
      "06:46:58 Central-Eastbound [Train  5] arr NORTH ACTON\n",
      "06:47:07 Central-Eastbound [Train  6] dep EALING BROADWAY for WEST ACTON\n",
      "06:47:13 Central-Eastbound [Train  1] dep OXFORD CIRCUS for TOTTENHAM COURT ROAD\n",
      "06:47:23 Central-Eastbound [Train  5] dep NORTH ACTON for EAST ACTON\n",
      "06:47:25 Central-Eastbound [Train  4] arr WHITE CITY\n",
      "06:47:26 Central-Eastbound [Train  3] dep HOLLAND PARK for NOTTING HILL GATE\n",
      "06:47:30 Central-Eastbound [Train  9] arr RUISLIP GARDENS\n",
      "06:47:32 Central-Eastbound [Train  2] dep LANCASTER GATE for MARBLE ARCH\n",
      "06:47:50 Central-Eastbound [Train  9] dep RUISLIP GARDENS for SOUTH RUISLIP\n",
      "06:48:00 Central-Eastbound [Train  7] arr HANGER LANE\n",
      "06:48:10 Central-Eastbound [Train  0] arr ST PAULS\n",
      "06:48:10 Central-Eastbound [Train  1] arr TOTTENHAM COURT ROAD\n",
      "06:48:25 Central-Eastbound [Train  3] arr NOTTING HILL GATE\n",
      "06:48:30 Central-Eastbound [Train  8] arr GREENFORD\n",
      "06:48:43 Central-Eastbound [Train  6] arr WEST ACTON\n",
      "06:48:43 Central-Eastbound [Train  5] arr EAST ACTON\n",
      "06:48:48 Central-Eastbound [Train  4] dep WHITE CITY for SHEPHERDS BUSH\n",
      "06:48:53 Central-Eastbound [Train  3] dep NOTTING HILL GATE for QUEENSWAY\n",
      "06:48:55 Central-Eastbound [Train  2] arr MARBLE ARCH\n",
      "06:49:00 Central-Eastbound [Train  9] arr SOUTH RUISLIP\n",
      "06:49:00 Central-Eastbound [Train  1] dep TOTTENHAM COURT ROAD for HOLBORN\n",
      "06:49:02 Central-Eastbound [Train  8] dep GREENFORD for PERIVALE\n",
      "06:49:05 Central-Eastbound [Train  0] dep ST PAULS for BANK\n",
      "06:49:13 Central-Eastbound [Train  7] dep HANGER LANE for NORTH ACTON\n",
      "06:49:14 Central-Eastbound [Train  2] dep MARBLE ARCH for BOND STREET\n",
      "06:49:24 Central-Eastbound [Train  9] dep SOUTH RUISLIP for NORTHOLT\n",
      "06:49:55 Central-Eastbound [Train  3] arr QUEENSWAY\n",
      "06:50:10 Central-Eastbound [Train  4] arr SHEPHERDS BUSH\n",
      "06:50:10 Central-Eastbound [Train  1] arr HOLBORN\n",
      "06:50:10 Central-Eastbound [Train  0] arr BANK\n",
      "06:50:10 Central-Eastbound [Train  2] arr BOND STREET\n",
      "06:50:12 Central-Eastbound [Train  6] dep WEST ACTON for NORTH ACTON\n",
      "06:50:14 Central-Eastbound [Train  3] dep QUEENSWAY for LANCASTER GATE\n",
      "06:50:23 Central-Eastbound [Train  1] dep HOLBORN for CHANCERY LANE\n",
      "06:50:27 Central-Eastbound [Train  5] dep EAST ACTON for WHITE CITY\n",
      "06:50:33 Central-Eastbound [Train 10] dep WEST RUISLIP for RUISLIP GARDENS\n",
      "06:50:39 Central-Eastbound [Train  2] dep BOND STREET for OXFORD CIRCUS\n",
      "06:50:45 Central-Eastbound [Train  8] arr PERIVALE\n",
      "06:50:45 Central-Eastbound [Train  4] dep SHEPHERDS BUSH for HOLLAND PARK\n",
      "06:51:01 Central-Eastbound [Train  8] dep PERIVALE for HANGER LANE\n",
      "06:51:10 Central-Eastbound [Train  1] arr CHANCERY LANE\n",
      "06:51:20 Central-Eastbound [Train  0] dep BANK for LIVERPOOL STREET\n",
      "06:51:25 Central-Eastbound [Train  3] arr LANCASTER GATE\n",
      "06:51:28 Central-Eastbound [Train  7] arr NORTH ACTON\n",
      "06:51:30 Central-Eastbound [Train  9] arr NORTHOLT\n",
      "06:51:40 Central-Eastbound [Train  2] arr OXFORD CIRCUS\n",
      "06:51:44 Central-Eastbound [Train  9] dep NORTHOLT for GREENFORD\n",
      "06:51:54 Central-Eastbound [Train  1] dep CHANCERY LANE for ST PAULS\n",
      "06:51:55 Central-Eastbound [Train  4] arr HOLLAND PARK\n",
      "06:51:58 Central-Eastbound [Train  6] arr NORTH ACTON\n",
      "06:52:07 Central-Eastbound [Train  7] dep EALING BROADWAY for WEST ACTON\n",
      "06:52:13 Central-Eastbound [Train  2] dep OXFORD CIRCUS for TOTTENHAM COURT ROAD\n",
      "06:52:23 Central-Eastbound [Train  6] dep NORTH ACTON for EAST ACTON\n",
      "06:52:25 Central-Eastbound [Train  5] arr WHITE CITY\n",
      "06:52:25 Central-Eastbound [Train  0] arr LIVERPOOL STREET\n",
      "06:52:26 Central-Eastbound [Train  4] dep HOLLAND PARK for NOTTING HILL GATE\n",
      "06:52:30 Central-Eastbound [Train 10] arr RUISLIP GARDENS\n",
      "06:52:32 Central-Eastbound [Train  3] dep LANCASTER GATE for MARBLE ARCH\n",
      "06:52:50 Central-Eastbound [Train 10] dep RUISLIP GARDENS for SOUTH RUISLIP\n",
      "06:53:00 Central-Eastbound [Train  8] arr HANGER LANE\n",
      "06:53:04 Central-Eastbound [Train  0] dep LIVERPOOL STREET for BETHNAL GREEN\n",
      "06:53:10 Central-Eastbound [Train  1] arr ST PAULS\n",
      "06:53:10 Central-Eastbound [Train  2] arr TOTTENHAM COURT ROAD\n",
      "06:53:25 Central-Eastbound [Train  4] arr NOTTING HILL GATE\n",
      "06:53:30 Central-Eastbound [Train  9] arr GREENFORD\n",
      "06:53:43 Central-Eastbound [Train  7] arr WEST ACTON\n",
      "06:53:43 Central-Eastbound [Train  6] arr EAST ACTON\n",
      "06:53:48 Central-Eastbound [Train  5] dep WHITE CITY for SHEPHERDS BUSH\n",
      "06:53:53 Central-Eastbound [Train  4] dep NOTTING HILL GATE for QUEENSWAY\n",
      "06:53:55 Central-Eastbound [Train  3] arr MARBLE ARCH\n",
      "06:54:00 Central-Eastbound [Train 10] arr SOUTH RUISLIP\n",
      "06:54:00 Central-Eastbound [Train  2] dep TOTTENHAM COURT ROAD for HOLBORN\n",
      "06:54:02 Central-Eastbound [Train  9] dep GREENFORD for PERIVALE\n",
      "06:54:05 Central-Eastbound [Train  1] dep ST PAULS for BANK\n",
      "06:54:13 Central-Eastbound [Train  8] dep HANGER LANE for NORTH ACTON\n",
      "06:54:14 Central-Eastbound [Train  3] dep MARBLE ARCH for BOND STREET\n",
      "06:54:24 Central-Eastbound [Train 10] dep SOUTH RUISLIP for NORTHOLT\n",
      "06:54:55 Central-Eastbound [Train  4] arr QUEENSWAY\n",
      "06:55:10 Central-Eastbound [Train  0] arr BETHNAL GREEN\n",
      "06:55:10 Central-Eastbound [Train  5] arr SHEPHERDS BUSH\n",
      "06:55:10 Central-Eastbound [Train  2] arr HOLBORN\n",
      "06:55:10 Central-Eastbound [Train  1] arr BANK\n",
      "06:55:10 Central-Eastbound [Train  3] arr BOND STREET\n",
      "06:55:12 Central-Eastbound [Train  7] dep WEST ACTON for NORTH ACTON\n",
      "06:55:14 Central-Eastbound [Train  4] dep QUEENSWAY for LANCASTER GATE\n",
      "06:55:23 Central-Eastbound [Train  2] dep HOLBORN for CHANCERY LANE\n",
      "06:55:27 Central-Eastbound [Train  6] dep EAST ACTON for WHITE CITY\n",
      "06:55:33 Central-Eastbound [Train 11] dep WEST RUISLIP for RUISLIP GARDENS\n",
      "06:55:39 Central-Eastbound [Train  3] dep BOND STREET for OXFORD CIRCUS\n",
      "06:55:44 Central-Eastbound [Train  0] dep BETHNAL GREEN for MILE END\n",
      "06:55:45 Central-Eastbound [Train  9] arr PERIVALE\n",
      "06:55:45 Central-Eastbound [Train  5] dep SHEPHERDS BUSH for HOLLAND PARK\n",
      "06:56:01 Central-Eastbound [Train  9] dep PERIVALE for HANGER LANE\n",
      "06:56:10 Central-Eastbound [Train  2] arr CHANCERY LANE\n",
      "06:56:20 Central-Eastbound [Train  1] dep BANK for LIVERPOOL STREET\n",
      "06:56:25 Central-Eastbound [Train  4] arr LANCASTER GATE\n",
      "06:56:28 Central-Eastbound [Train  8] arr NORTH ACTON\n",
      "06:56:30 Central-Eastbound [Train 10] arr NORTHOLT\n",
      "06:56:40 Central-Eastbound [Train  3] arr OXFORD CIRCUS\n",
      "06:56:44 Central-Eastbound [Train 10] dep NORTHOLT for GREENFORD\n",
      "06:56:54 Central-Eastbound [Train  2] dep CHANCERY LANE for ST PAULS\n",
      "06:56:55 Central-Eastbound [Train  5] arr HOLLAND PARK\n",
      "06:56:58 Central-Eastbound [Train  7] arr NORTH ACTON\n",
      "06:57:07 Central-Eastbound [Train  8] dep EALING BROADWAY for WEST ACTON\n",
      "06:57:13 Central-Eastbound [Train  3] dep OXFORD CIRCUS for TOTTENHAM COURT ROAD\n",
      "06:57:23 Central-Eastbound [Train  7] dep NORTH ACTON for EAST ACTON\n",
      "06:57:25 Central-Eastbound [Train  6] arr WHITE CITY\n",
      "06:57:25 Central-Eastbound [Train  0] arr MILE END\n",
      "06:57:25 Central-Eastbound [Train  1] arr LIVERPOOL STREET\n",
      "06:57:26 Central-Eastbound [Train  5] dep HOLLAND PARK for NOTTING HILL GATE\n",
      "06:57:30 Central-Eastbound [Train 11] arr RUISLIP GARDENS\n",
      "06:57:32 Central-Eastbound [Train  4] dep LANCASTER GATE for MARBLE ARCH\n",
      "06:57:50 Central-Eastbound [Train 11] dep RUISLIP GARDENS for SOUTH RUISLIP\n",
      "06:58:00 Central-Eastbound [Train  9] arr HANGER LANE\n",
      "06:58:04 Central-Eastbound [Train  1] dep LIVERPOOL STREET for BETHNAL GREEN\n",
      "06:58:10 Central-Eastbound [Train  2] arr ST PAULS\n",
      "06:58:10 Central-Eastbound [Train  3] arr TOTTENHAM COURT ROAD\n",
      "06:58:12 Central-Eastbound [Train  0] dep MILE END for STRATFORD\n",
      "06:58:25 Central-Eastbound [Train  5] arr NOTTING HILL GATE\n",
      "06:58:30 Central-Eastbound [Train 10] arr GREENFORD\n",
      "06:58:43 Central-Eastbound [Train  8] arr WEST ACTON\n",
      "06:58:43 Central-Eastbound [Train  7] arr EAST ACTON\n",
      "06:58:48 Central-Eastbound [Train  6] dep WHITE CITY for SHEPHERDS BUSH\n",
      "06:58:53 Central-Eastbound [Train  5] dep NOTTING HILL GATE for QUEENSWAY\n",
      "06:58:55 Central-Eastbound [Train  4] arr MARBLE ARCH\n",
      "06:59:00 Central-Eastbound [Train 11] arr SOUTH RUISLIP\n",
      "06:59:00 Central-Eastbound [Train  3] dep TOTTENHAM COURT ROAD for HOLBORN\n",
      "06:59:02 Central-Eastbound [Train 10] dep GREENFORD for PERIVALE\n",
      "06:59:05 Central-Eastbound [Train  2] dep ST PAULS for BANK\n",
      "06:59:13 Central-Eastbound [Train  9] dep HANGER LANE for NORTH ACTON\n",
      "06:59:14 Central-Eastbound [Train  4] dep MARBLE ARCH for BOND STREET\n",
      "06:59:24 Central-Eastbound [Train 11] dep SOUTH RUISLIP for NORTHOLT\n",
      "06:59:55 Central-Eastbound [Train  5] arr QUEENSWAY\n",
      "07:00:10 Central-Eastbound [Train  1] arr BETHNAL GREEN\n",
      "07:00:10 Central-Eastbound [Train  6] arr SHEPHERDS BUSH\n",
      "07:00:10 Central-Eastbound [Train  3] arr HOLBORN\n",
      "07:00:10 Central-Eastbound [Train  2] arr BANK\n",
      "07:00:10 Central-Eastbound [Train  4] arr BOND STREET\n",
      "07:00:12 Central-Eastbound [Train  8] dep WEST ACTON for NORTH ACTON\n",
      "07:00:14 Central-Eastbound [Train  5] dep QUEENSWAY for LANCASTER GATE\n",
      "07:00:23 Central-Eastbound [Train  3] dep HOLBORN for CHANCERY LANE\n",
      "07:00:27 Central-Eastbound [Train  7] dep EAST ACTON for WHITE CITY\n",
      "07:00:39 Central-Eastbound [Train  4] dep BOND STREET for OXFORD CIRCUS\n",
      "07:00:40 Central-Eastbound [Train  0] arr STRATFORD\n",
      "07:00:44 Central-Eastbound [Train  1] dep BETHNAL GREEN for MILE END\n",
      "07:00:45 Central-Eastbound [Train 10] arr PERIVALE\n",
      "07:00:45 Central-Eastbound [Train  6] dep SHEPHERDS BUSH for HOLLAND PARK\n",
      "07:01:01 Central-Eastbound [Train 10] dep PERIVALE for HANGER LANE\n",
      "07:01:10 Central-Eastbound [Train  3] arr CHANCERY LANE\n",
      "07:01:20 Central-Eastbound [Train  2] dep BANK for LIVERPOOL STREET\n",
      "07:01:25 Central-Eastbound [Train  5] arr LANCASTER GATE\n",
      "07:01:26 Central-Eastbound [Train  0] dep STRATFORD for LEYTON\n",
      "07:01:28 Central-Eastbound [Train  9] arr NORTH ACTON\n",
      "07:01:30 Central-Eastbound [Train 11] arr NORTHOLT\n",
      "07:01:40 Central-Eastbound [Train  4] arr OXFORD CIRCUS\n",
      "07:01:44 Central-Eastbound [Train 11] dep NORTHOLT for GREENFORD\n",
      "07:01:54 Central-Eastbound [Train  3] dep CHANCERY LANE for ST PAULS\n",
      "07:01:55 Central-Eastbound [Train  6] arr HOLLAND PARK\n",
      "07:01:58 Central-Eastbound [Train  8] arr NORTH ACTON\n",
      "07:02:07 Central-Eastbound [Train  9] dep EALING BROADWAY for WEST ACTON\n",
      "07:02:13 Central-Eastbound [Train  4] dep OXFORD CIRCUS for TOTTENHAM COURT ROAD\n",
      "07:02:23 Central-Eastbound [Train  8] dep NORTH ACTON for EAST ACTON\n",
      "07:02:25 Central-Eastbound [Train  7] arr WHITE CITY\n",
      "07:02:25 Central-Eastbound [Train  1] arr MILE END\n",
      "07:02:25 Central-Eastbound [Train  2] arr LIVERPOOL STREET\n",
      "07:02:26 Central-Eastbound [Train  6] dep HOLLAND PARK for NOTTING HILL GATE\n",
      "07:02:32 Central-Eastbound [Train  5] dep LANCASTER GATE for MARBLE ARCH\n",
      "07:03:00 Central-Eastbound [Train 10] arr HANGER LANE\n",
      "07:03:04 Central-Eastbound [Train  2] dep LIVERPOOL STREET for BETHNAL GREEN\n",
      "07:03:10 Central-Eastbound [Train  3] arr ST PAULS\n",
      "07:03:10 Central-Eastbound [Train  4] arr TOTTENHAM COURT ROAD\n",
      "07:03:12 Central-Eastbound [Train  1] dep MILE END for STRATFORD\n",
      "07:03:25 Central-Eastbound [Train  0] arr LEYTON\n",
      "07:03:25 Central-Eastbound [Train  6] arr NOTTING HILL GATE\n",
      "07:03:30 Central-Eastbound [Train 11] arr GREENFORD\n",
      "07:03:43 Central-Eastbound [Train  9] arr WEST ACTON\n",
      "07:03:43 Central-Eastbound [Train  8] arr EAST ACTON\n",
      "07:03:48 Central-Eastbound [Train  7] dep WHITE CITY for SHEPHERDS BUSH\n",
      "07:03:53 Central-Eastbound [Train  6] dep NOTTING HILL GATE for QUEENSWAY\n",
      "07:03:55 Central-Eastbound [Train  5] arr MARBLE ARCH\n",
      "07:04:00 Central-Eastbound [Train  4] dep TOTTENHAM COURT ROAD for HOLBORN\n",
      "07:04:02 Central-Eastbound [Train 11] dep GREENFORD for PERIVALE\n",
      "07:04:05 Central-Eastbound [Train  3] dep ST PAULS for BANK\n",
      "07:04:13 Central-Eastbound [Train 10] dep HANGER LANE for NORTH ACTON\n",
      "07:04:14 Central-Eastbound [Train  5] dep MARBLE ARCH for BOND STREET\n",
      "07:04:30 Central-Eastbound [Train  0] dep LEYTON for LEYTONSTONE\n",
      "07:04:55 Central-Eastbound [Train  6] arr QUEENSWAY\n",
      "07:05:10 Central-Eastbound [Train  2] arr BETHNAL GREEN\n",
      "07:05:10 Central-Eastbound [Train  7] arr SHEPHERDS BUSH\n",
      "07:05:10 Central-Eastbound [Train  4] arr HOLBORN\n",
      "07:05:10 Central-Eastbound [Train  3] arr BANK\n",
      "07:05:10 Central-Eastbound [Train  5] arr BOND STREET\n",
      "07:05:12 Central-Eastbound [Train  9] dep WEST ACTON for NORTH ACTON\n",
      "07:05:14 Central-Eastbound [Train  6] dep QUEENSWAY for LANCASTER GATE\n",
      "07:05:23 Central-Eastbound [Train  4] dep HOLBORN for CHANCERY LANE\n",
      "07:05:27 Central-Eastbound [Train  8] dep EAST ACTON for WHITE CITY\n",
      "07:05:39 Central-Eastbound [Train  5] dep BOND STREET for OXFORD CIRCUS\n",
      "07:05:40 Central-Eastbound [Train  1] arr STRATFORD\n",
      "07:05:44 Central-Eastbound [Train  2] dep BETHNAL GREEN for MILE END\n",
      "07:05:45 Central-Eastbound [Train 11] arr PERIVALE\n",
      "07:05:45 Central-Eastbound [Train  7] dep SHEPHERDS BUSH for HOLLAND PARK\n",
      "07:06:01 Central-Eastbound [Train 11] dep PERIVALE for HANGER LANE\n",
      "07:06:10 Central-Eastbound [Train  0] arr LEYTONSTONE\n",
      "07:06:10 Central-Eastbound [Train  4] arr CHANCERY LANE\n",
      "07:06:20 Central-Eastbound [Train  3] dep BANK for LIVERPOOL STREET\n",
      "07:06:25 Central-Eastbound [Train  6] arr LANCASTER GATE\n",
      "07:06:26 Central-Eastbound [Train  1] dep STRATFORD for LEYTON\n",
      "07:06:28 Central-Eastbound [Train 10] arr NORTH ACTON\n",
      "07:06:40 Central-Eastbound [Train  5] arr OXFORD CIRCUS\n",
      "07:06:41 Central-Eastbound [Train  0] dep LEYTONSTONE for WANSTEAD\n",
      "07:06:54 Central-Eastbound [Train  4] dep CHANCERY LANE for ST PAULS\n",
      "07:06:55 Central-Eastbound [Train  7] arr HOLLAND PARK\n",
      "07:06:58 Central-Eastbound [Train  9] arr NORTH ACTON\n",
      "07:07:07 Central-Eastbound [Train 10] dep EALING BROADWAY for WEST ACTON\n",
      "07:07:13 Central-Eastbound [Train  5] dep OXFORD CIRCUS for TOTTENHAM COURT ROAD\n",
      "07:07:23 Central-Eastbound [Train  9] dep NORTH ACTON for EAST ACTON\n",
      "07:07:25 Central-Eastbound [Train  8] arr WHITE CITY\n",
      "07:07:25 Central-Eastbound [Train  2] arr MILE END\n",
      "07:07:25 Central-Eastbound [Train  3] arr LIVERPOOL STREET\n",
      "07:07:26 Central-Eastbound [Train  7] dep HOLLAND PARK for NOTTING HILL GATE\n",
      "07:07:32 Central-Eastbound [Train  6] dep LANCASTER GATE for MARBLE ARCH\n",
      "07:08:00 Central-Eastbound [Train 11] arr HANGER LANE\n",
      "07:08:04 Central-Eastbound [Train  3] dep LIVERPOOL STREET for BETHNAL GREEN\n",
      "07:08:10 Central-Eastbound [Train  4] arr ST PAULS\n",
      "07:08:10 Central-Eastbound [Train  5] arr TOTTENHAM COURT ROAD\n",
      "07:08:12 Central-Eastbound [Train  2] dep MILE END for STRATFORD\n",
      "07:08:25 Central-Eastbound [Train  1] arr LEYTON\n",
      "07:08:25 Central-Eastbound [Train  0] arr WANSTEAD\n",
      "07:08:25 Central-Eastbound [Train  7] arr NOTTING HILL GATE\n",
      "07:08:43 Central-Eastbound [Train 10] arr WEST ACTON\n",
      "07:08:43 Central-Eastbound [Train  9] arr EAST ACTON\n",
      "07:08:48 Central-Eastbound [Train  8] dep WHITE CITY for SHEPHERDS BUSH\n",
      "07:08:53 Central-Eastbound [Train  7] dep NOTTING HILL GATE for QUEENSWAY\n",
      "07:08:55 Central-Eastbound [Train  6] arr MARBLE ARCH\n",
      "07:09:00 Central-Eastbound [Train  5] dep TOTTENHAM COURT ROAD for HOLBORN\n",
      "07:09:01 Central-Eastbound [Train  0] dep WANSTEAD for REDBRIDGE\n",
      "07:09:05 Central-Eastbound [Train  4] dep ST PAULS for BANK\n",
      "07:09:13 Central-Eastbound [Train 11] dep HANGER LANE for NORTH ACTON\n",
      "07:09:14 Central-Eastbound [Train  6] dep MARBLE ARCH for BOND STREET\n",
      "07:09:30 Central-Eastbound [Train  1] dep LEYTON for LEYTONSTONE\n",
      "07:09:55 Central-Eastbound [Train  7] arr QUEENSWAY\n",
      "07:10:10 Central-Eastbound [Train  3] arr BETHNAL GREEN\n",
      "07:10:10 Central-Eastbound [Train  8] arr SHEPHERDS BUSH\n",
      "07:10:10 Central-Eastbound [Train  5] arr HOLBORN\n",
      "07:10:10 Central-Eastbound [Train  4] arr BANK\n",
      "07:10:10 Central-Eastbound [Train  6] arr BOND STREET\n",
      "07:10:12 Central-Eastbound [Train 10] dep WEST ACTON for NORTH ACTON\n",
      "07:10:14 Central-Eastbound [Train  7] dep QUEENSWAY for LANCASTER GATE\n",
      "07:10:23 Central-Eastbound [Train  5] dep HOLBORN for CHANCERY LANE\n",
      "07:10:25 Central-Eastbound [Train  0] arr REDBRIDGE\n",
      "07:10:27 Central-Eastbound [Train  9] dep EAST ACTON for WHITE CITY\n",
      "07:10:39 Central-Eastbound [Train  6] dep BOND STREET for OXFORD CIRCUS\n",
      "07:10:40 Central-Eastbound [Train  2] arr STRATFORD\n",
      "07:10:44 Central-Eastbound [Train  3] dep BETHNAL GREEN for MILE END\n",
      "07:10:44 Central-Eastbound [Train  0] dep REDBRIDGE for GANTS HILL\n",
      "07:10:45 Central-Eastbound [Train  8] dep SHEPHERDS BUSH for HOLLAND PARK\n",
      "07:11:10 Central-Eastbound [Train  1] arr LEYTONSTONE\n",
      "07:11:10 Central-Eastbound [Train  5] arr CHANCERY LANE\n",
      "07:11:20 Central-Eastbound [Train  4] dep BANK for LIVERPOOL STREET\n",
      "07:11:25 Central-Eastbound [Train  7] arr LANCASTER GATE\n",
      "07:11:26 Central-Eastbound [Train  2] dep STRATFORD for LEYTON\n",
      "07:11:28 Central-Eastbound [Train 11] arr NORTH ACTON\n",
      "07:11:40 Central-Eastbound [Train  6] arr OXFORD CIRCUS\n",
      "07:11:41 Central-Eastbound [Train  1] dep LEYTONSTONE for WANSTEAD\n",
      "07:11:54 Central-Eastbound [Train  5] dep CHANCERY LANE for ST PAULS\n",
      "07:11:55 Central-Eastbound [Train  8] arr HOLLAND PARK\n",
      "07:11:58 Central-Eastbound [Train 10] arr NORTH ACTON\n",
      "07:12:07 Central-Eastbound [Train 11] dep EALING BROADWAY for WEST ACTON\n",
      "07:12:10 Central-Eastbound [Train  0] arr GANTS HILL\n",
      "07:12:13 Central-Eastbound [Train  6] dep OXFORD CIRCUS for TOTTENHAM COURT ROAD\n",
      "07:12:23 Central-Eastbound [Train 10] dep NORTH ACTON for EAST ACTON\n",
      "07:12:25 Central-Eastbound [Train  9] arr WHITE CITY\n",
      "07:12:25 Central-Eastbound [Train  3] arr MILE END\n",
      "07:12:25 Central-Eastbound [Train  4] arr LIVERPOOL STREET\n",
      "07:12:26 Central-Eastbound [Train  8] dep HOLLAND PARK for NOTTING HILL GATE\n",
      "07:12:32 Central-Eastbound [Train  7] dep LANCASTER GATE for MARBLE ARCH\n",
      "07:12:58 Central-Eastbound [Train  0] dep GANTS HILL for NEWBURY PARK\n",
      "07:13:04 Central-Eastbound [Train  4] dep LIVERPOOL STREET for BETHNAL GREEN\n",
      "07:13:10 Central-Eastbound [Train  5] arr ST PAULS\n",
      "07:13:10 Central-Eastbound [Train  6] arr TOTTENHAM COURT ROAD\n",
      "07:13:12 Central-Eastbound [Train  3] dep MILE END for STRATFORD\n",
      "07:13:25 Central-Eastbound [Train  2] arr LEYTON\n",
      "07:13:25 Central-Eastbound [Train  1] arr WANSTEAD\n",
      "07:13:25 Central-Eastbound [Train  8] arr NOTTING HILL GATE\n",
      "07:13:43 Central-Eastbound [Train 11] arr WEST ACTON\n",
      "07:13:43 Central-Eastbound [Train 10] arr EAST ACTON\n",
      "07:13:48 Central-Eastbound [Train  9] dep WHITE CITY for SHEPHERDS BUSH\n",
      "07:13:53 Central-Eastbound [Train  8] dep NOTTING HILL GATE for QUEENSWAY\n",
      "07:13:55 Central-Eastbound [Train  7] arr MARBLE ARCH\n",
      "07:14:00 Central-Eastbound [Train  6] dep TOTTENHAM COURT ROAD for HOLBORN\n",
      "07:14:01 Central-Eastbound [Train  1] dep WANSTEAD for REDBRIDGE\n",
      "07:14:05 Central-Eastbound [Train  5] dep ST PAULS for BANK\n",
      "07:14:14 Central-Eastbound [Train  7] dep MARBLE ARCH for BOND STREET\n",
      "07:14:30 Central-Eastbound [Train  2] dep LEYTON for LEYTONSTONE\n",
      "07:14:55 Central-Eastbound [Train  8] arr QUEENSWAY\n",
      "07:15:08 Central-Eastbound [Train  0] arr NEWBURY PARK\n",
      "07:15:10 Central-Eastbound [Train  4] arr BETHNAL GREEN\n",
      "07:15:10 Central-Eastbound [Train  9] arr SHEPHERDS BUSH\n",
      "07:15:10 Central-Eastbound [Train  6] arr HOLBORN\n",
      "07:15:10 Central-Eastbound [Train  5] arr BANK\n",
      "07:15:10 Central-Eastbound [Train  7] arr BOND STREET\n",
      "07:15:12 Central-Eastbound [Train 11] dep WEST ACTON for NORTH ACTON\n",
      "07:15:14 Central-Eastbound [Train  8] dep QUEENSWAY for LANCASTER GATE\n",
      "07:15:23 Central-Eastbound [Train  6] dep HOLBORN for CHANCERY LANE\n",
      "07:15:25 Central-Eastbound [Train  1] arr REDBRIDGE\n",
      "07:15:27 Central-Eastbound [Train 10] dep EAST ACTON for WHITE CITY\n",
      "07:15:33 Central-Eastbound [Train  0] dep NEWBURY PARK for BARKINGSIDE\n",
      "07:15:39 Central-Eastbound [Train  7] dep BOND STREET for OXFORD CIRCUS\n",
      "07:15:40 Central-Eastbound [Train  3] arr STRATFORD\n",
      "07:15:44 Central-Eastbound [Train  4] dep BETHNAL GREEN for MILE END\n",
      "07:15:44 Central-Eastbound [Train  1] dep REDBRIDGE for GANTS HILL\n",
      "07:15:45 Central-Eastbound [Train  9] dep SHEPHERDS BUSH for HOLLAND PARK\n",
      "07:16:10 Central-Eastbound [Train  2] arr LEYTONSTONE\n",
      "07:16:10 Central-Eastbound [Train  6] arr CHANCERY LANE\n",
      "07:16:20 Central-Eastbound [Train  5] dep BANK for LIVERPOOL STREET\n",
      "07:16:25 Central-Eastbound [Train  8] arr LANCASTER GATE\n",
      "07:16:26 Central-Eastbound [Train  3] dep STRATFORD for LEYTON\n",
      "07:16:40 Central-Eastbound [Train  7] arr OXFORD CIRCUS\n",
      "07:16:41 Central-Eastbound [Train  2] dep LEYTONSTONE for WANSTEAD\n",
      "07:16:53 Central-Eastbound [Train  0] arr BARKINGSIDE\n",
      "07:16:54 Central-Eastbound [Train  6] dep CHANCERY LANE for ST PAULS\n",
      "07:16:55 Central-Eastbound [Train  9] arr HOLLAND PARK\n",
      "07:16:58 Central-Eastbound [Train 11] arr NORTH ACTON\n",
      "07:17:10 Central-Eastbound [Train  1] arr GANTS HILL\n",
      "07:17:13 Central-Eastbound [Train  7] dep OXFORD CIRCUS for TOTTENHAM COURT ROAD\n",
      "07:17:16 Central-Eastbound [Train  0] dep BARKINGSIDE for FAIRLOP\n",
      "07:17:23 Central-Eastbound [Train 11] dep NORTH ACTON for EAST ACTON\n",
      "07:17:25 Central-Eastbound [Train 10] arr WHITE CITY\n",
      "07:17:25 Central-Eastbound [Train  4] arr MILE END\n",
      "07:17:25 Central-Eastbound [Train  5] arr LIVERPOOL STREET\n",
      "07:17:26 Central-Eastbound [Train  9] dep HOLLAND PARK for NOTTING HILL GATE\n",
      "07:17:32 Central-Eastbound [Train  8] dep LANCASTER GATE for MARBLE ARCH\n",
      "07:17:58 Central-Eastbound [Train  1] dep GANTS HILL for NEWBURY PARK\n",
      "07:18:04 Central-Eastbound [Train  5] dep LIVERPOOL STREET for BETHNAL GREEN\n",
      "07:18:10 Central-Eastbound [Train  6] arr ST PAULS\n",
      "07:18:10 Central-Eastbound [Train  7] arr TOTTENHAM COURT ROAD\n",
      "07:18:12 Central-Eastbound [Train  4] dep MILE END for STRATFORD\n",
      "07:18:25 Central-Eastbound [Train  3] arr LEYTON\n",
      "07:18:25 Central-Eastbound [Train  2] arr WANSTEAD\n",
      "07:18:25 Central-Eastbound [Train  9] arr NOTTING HILL GATE\n",
      "07:18:40 Central-Eastbound [Train  0] arr FAIRLOP\n",
      "07:18:43 Central-Eastbound [Train 11] arr EAST ACTON\n",
      "07:18:48 Central-Eastbound [Train 10] dep WHITE CITY for SHEPHERDS BUSH\n",
      "07:18:53 Central-Eastbound [Train  9] dep NOTTING HILL GATE for QUEENSWAY\n",
      "07:18:55 Central-Eastbound [Train  8] arr MARBLE ARCH\n",
      "07:19:00 Central-Eastbound [Train  7] dep TOTTENHAM COURT ROAD for HOLBORN\n",
      "07:19:01 Central-Eastbound [Train  2] dep WANSTEAD for REDBRIDGE\n",
      "07:19:05 Central-Eastbound [Train  6] dep ST PAULS for BANK\n",
      "07:19:14 Central-Eastbound [Train  8] dep MARBLE ARCH for BOND STREET\n",
      "07:19:30 Central-Eastbound [Train  3] dep LEYTON for LEYTONSTONE\n",
      "07:19:55 Central-Eastbound [Train  9] arr QUEENSWAY\n",
      "07:20:08 Central-Eastbound [Train  1] arr NEWBURY PARK\n",
      "07:20:10 Central-Eastbound [Train  5] arr BETHNAL GREEN\n",
      "07:20:10 Central-Eastbound [Train 10] arr SHEPHERDS BUSH\n",
      "07:20:10 Central-Eastbound [Train  7] arr HOLBORN\n",
      "07:20:10 Central-Eastbound [Train  6] arr BANK\n",
      "07:20:10 Central-Eastbound [Train  8] arr BOND STREET\n",
      "07:20:14 Central-Eastbound [Train  9] dep QUEENSWAY for LANCASTER GATE\n",
      "07:20:23 Central-Eastbound [Train  7] dep HOLBORN for CHANCERY LANE\n",
      "07:20:25 Central-Eastbound [Train  2] arr REDBRIDGE\n",
      "07:20:27 Central-Eastbound [Train 11] dep EAST ACTON for WHITE CITY\n",
      "07:20:33 Central-Eastbound [Train  1] dep NEWBURY PARK for BARKINGSIDE\n",
      "07:20:39 Central-Eastbound [Train  8] dep BOND STREET for OXFORD CIRCUS\n",
      "07:20:40 Central-Eastbound [Train  4] arr STRATFORD\n",
      "07:20:44 Central-Eastbound [Train  5] dep BETHNAL GREEN for MILE END\n",
      "07:20:44 Central-Eastbound [Train  2] dep REDBRIDGE for GANTS HILL\n",
      "07:20:45 Central-Eastbound [Train 10] dep SHEPHERDS BUSH for HOLLAND PARK\n",
      "07:21:10 Central-Eastbound [Train  3] arr LEYTONSTONE\n",
      "07:21:10 Central-Eastbound [Train  7] arr CHANCERY LANE\n",
      "07:21:20 Central-Eastbound [Train  6] dep BANK for LIVERPOOL STREET\n",
      "07:21:25 Central-Eastbound [Train  9] arr LANCASTER GATE\n",
      "07:21:26 Central-Eastbound [Train  4] dep STRATFORD for LEYTON\n",
      "07:21:40 Central-Eastbound [Train  8] arr OXFORD CIRCUS\n",
      "07:21:41 Central-Eastbound [Train  3] dep LEYTONSTONE for WANSTEAD\n",
      "07:21:42 Central-Eastbound [Train  0] dep FAIRLOP for HAINAULT\n",
      "07:21:53 Central-Eastbound [Train  1] arr BARKINGSIDE\n",
      "07:21:54 Central-Eastbound [Train  7] dep CHANCERY LANE for ST PAULS\n",
      "07:21:55 Central-Eastbound [Train 10] arr HOLLAND PARK\n",
      "07:22:10 Central-Eastbound [Train  2] arr GANTS HILL\n",
      "07:22:13 Central-Eastbound [Train  8] dep OXFORD CIRCUS for TOTTENHAM COURT ROAD\n",
      "07:22:16 Central-Eastbound [Train  1] dep BARKINGSIDE for FAIRLOP\n",
      "07:22:25 Central-Eastbound [Train 11] arr WHITE CITY\n",
      "07:22:25 Central-Eastbound [Train  5] arr MILE END\n",
      "07:22:25 Central-Eastbound [Train  6] arr LIVERPOOL STREET\n",
      "07:22:26 Central-Eastbound [Train 10] dep HOLLAND PARK for NOTTING HILL GATE\n",
      "07:22:32 Central-Eastbound [Train  9] dep LANCASTER GATE for MARBLE ARCH\n",
      "07:22:47 Central-Eastbound [Train  0] arr HAINAULT\n",
      "07:22:58 Central-Eastbound [Train  2] dep GANTS HILL for NEWBURY PARK\n",
      "07:23:04 Central-Eastbound [Train  6] dep LIVERPOOL STREET for BETHNAL GREEN\n",
      "07:23:10 Central-Eastbound [Train  7] arr ST PAULS\n",
      "07:23:10 Central-Eastbound [Train  8] arr TOTTENHAM COURT ROAD\n",
      "07:23:12 Central-Eastbound [Train  5] dep MILE END for STRATFORD\n",
      "07:23:24 Central-Eastbound [Train  0] dep LEYTONSTONE for SNARESBROOK\n",
      "07:23:25 Central-Eastbound [Train  4] arr LEYTON\n",
      "07:23:25 Central-Eastbound [Train  3] arr WANSTEAD\n",
      "07:23:25 Central-Eastbound [Train 10] arr NOTTING HILL GATE\n",
      "07:23:40 Central-Eastbound [Train  1] arr FAIRLOP\n",
      "07:23:48 Central-Eastbound [Train 11] dep WHITE CITY for SHEPHERDS BUSH\n",
      "07:23:53 Central-Eastbound [Train 10] dep NOTTING HILL GATE for QUEENSWAY\n",
      "07:23:55 Central-Eastbound [Train  9] arr MARBLE ARCH\n",
      "07:24:00 Central-Eastbound [Train  8] dep TOTTENHAM COURT ROAD for HOLBORN\n",
      "07:24:01 Central-Eastbound [Train  3] dep WANSTEAD for REDBRIDGE\n",
      "07:24:05 Central-Eastbound [Train  7] dep ST PAULS for BANK\n",
      "07:24:14 Central-Eastbound [Train  9] dep MARBLE ARCH for BOND STREET\n",
      "07:24:30 Central-Eastbound [Train  4] dep LEYTON for LEYTONSTONE\n",
      "07:24:55 Central-Eastbound [Train 10] arr QUEENSWAY\n",
      "07:25:02 Central-Eastbound [Train  0] arr SNARESBROOK\n",
      "07:25:08 Central-Eastbound [Train  2] arr NEWBURY PARK\n",
      "07:25:10 Central-Eastbound [Train  6] arr BETHNAL GREEN\n",
      "07:25:10 Central-Eastbound [Train 11] arr SHEPHERDS BUSH\n",
      "07:25:10 Central-Eastbound [Train  8] arr HOLBORN\n",
      "07:25:10 Central-Eastbound [Train  7] arr BANK\n",
      "07:25:10 Central-Eastbound [Train  9] arr BOND STREET\n",
      "07:25:14 Central-Eastbound [Train 10] dep QUEENSWAY for LANCASTER GATE\n",
      "07:25:20 Central-Eastbound [Train  0] dep SNARESBROOK for SOUTH WOODFORD\n",
      "07:25:23 Central-Eastbound [Train  8] dep HOLBORN for CHANCERY LANE\n",
      "07:25:25 Central-Eastbound [Train  3] arr REDBRIDGE\n",
      "07:25:33 Central-Eastbound [Train  2] dep NEWBURY PARK for BARKINGSIDE\n",
      "07:25:39 Central-Eastbound [Train  9] dep BOND STREET for OXFORD CIRCUS\n",
      "07:25:40 Central-Eastbound [Train  5] arr STRATFORD\n",
      "07:25:44 Central-Eastbound [Train  6] dep BETHNAL GREEN for MILE END\n",
      "07:25:44 Central-Eastbound [Train  3] dep REDBRIDGE for GANTS HILL\n",
      "07:25:45 Central-Eastbound [Train 11] dep SHEPHERDS BUSH for HOLLAND PARK\n",
      "07:26:10 Central-Eastbound [Train  4] arr LEYTONSTONE\n",
      "07:26:10 Central-Eastbound [Train  8] arr CHANCERY LANE\n",
      "07:26:20 Central-Eastbound [Train  7] dep BANK for LIVERPOOL STREET\n",
      "07:26:25 Central-Eastbound [Train 10] arr LANCASTER GATE\n",
      "07:26:26 Central-Eastbound [Train  5] dep STRATFORD for LEYTON\n",
      "07:26:40 Central-Eastbound [Train  9] arr OXFORD CIRCUS\n",
      "07:26:41 Central-Eastbound [Train  4] dep LEYTONSTONE for WANSTEAD\n",
      "07:26:42 Central-Eastbound [Train  1] dep FAIRLOP for HAINAULT\n",
      "07:26:47 Central-Eastbound [Train  0] arr SOUTH WOODFORD\n",
      "07:26:53 Central-Eastbound [Train  2] arr BARKINGSIDE\n",
      "07:26:54 Central-Eastbound [Train  8] dep CHANCERY LANE for ST PAULS\n",
      "07:26:55 Central-Eastbound [Train 11] arr HOLLAND PARK\n",
      "07:27:10 Central-Eastbound [Train  3] arr GANTS HILL\n",
      "07:27:13 Central-Eastbound [Train  9] dep OXFORD CIRCUS for TOTTENHAM COURT ROAD\n",
      "07:27:15 Central-Eastbound [Train  0] dep SOUTH WOODFORD for WOODFORD\n",
      "07:27:16 Central-Eastbound [Train  2] dep BARKINGSIDE for FAIRLOP\n",
      "07:27:25 Central-Eastbound [Train  6] arr MILE END\n",
      "07:27:25 Central-Eastbound [Train  7] arr LIVERPOOL STREET\n",
      "07:27:26 Central-Eastbound [Train 11] dep HOLLAND PARK for NOTTING HILL GATE\n",
      "07:27:32 Central-Eastbound [Train 10] dep LANCASTER GATE for MARBLE ARCH\n",
      "07:27:47 Central-Eastbound [Train  1] arr HAINAULT\n",
      "07:27:58 Central-Eastbound [Train  3] dep GANTS HILL for NEWBURY PARK\n",
      "07:28:04 Central-Eastbound [Train  7] dep LIVERPOOL STREET for BETHNAL GREEN\n",
      "07:28:10 Central-Eastbound [Train  8] arr ST PAULS\n",
      "07:28:10 Central-Eastbound [Train  9] arr TOTTENHAM COURT ROAD\n",
      "07:28:12 Central-Eastbound [Train  6] dep MILE END for STRATFORD\n",
      "07:28:24 Central-Eastbound [Train  1] dep LEYTONSTONE for SNARESBROOK\n",
      "07:28:25 Central-Eastbound [Train  5] arr LEYTON\n",
      "07:28:25 Central-Eastbound [Train  4] arr WANSTEAD\n",
      "07:28:25 Central-Eastbound [Train 11] arr NOTTING HILL GATE\n",
      "07:28:40 Central-Eastbound [Train  2] arr FAIRLOP\n",
      "07:28:53 Central-Eastbound [Train 11] dep NOTTING HILL GATE for QUEENSWAY\n",
      "07:28:55 Central-Eastbound [Train 10] arr MARBLE ARCH\n",
      "07:29:00 Central-Eastbound [Train  9] dep TOTTENHAM COURT ROAD for HOLBORN\n",
      "07:29:01 Central-Eastbound [Train  4] dep WANSTEAD for REDBRIDGE\n",
      "07:29:02 Central-Eastbound [Train  0] arr WOODFORD\n",
      "07:29:05 Central-Eastbound [Train  8] dep ST PAULS for BANK\n",
      "07:29:14 Central-Eastbound [Train 10] dep MARBLE ARCH for BOND STREET\n",
      "07:29:24 Central-Eastbound [Train  0] dep WOODFORD for BUCKHURST HILL\n",
      "07:29:30 Central-Eastbound [Train  5] dep LEYTON for LEYTONSTONE\n",
      "07:29:55 Central-Eastbound [Train 11] arr QUEENSWAY\n",
      "07:30:02 Central-Eastbound [Train  1] arr SNARESBROOK\n",
      "07:30:08 Central-Eastbound [Train  3] arr NEWBURY PARK\n",
      "07:30:10 Central-Eastbound [Train  7] arr BETHNAL GREEN\n",
      "07:30:10 Central-Eastbound [Train  9] arr HOLBORN\n",
      "07:30:10 Central-Eastbound [Train  8] arr BANK\n",
      "07:30:10 Central-Eastbound [Train 10] arr BOND STREET\n",
      "07:30:14 Central-Eastbound [Train 11] dep QUEENSWAY for LANCASTER GATE\n",
      "07:30:20 Central-Eastbound [Train  1] dep SNARESBROOK for SOUTH WOODFORD\n",
      "07:30:23 Central-Eastbound [Train  9] dep HOLBORN for CHANCERY LANE\n",
      "07:30:25 Central-Eastbound [Train  4] arr REDBRIDGE\n",
      "07:30:33 Central-Eastbound [Train  3] dep NEWBURY PARK for BARKINGSIDE\n",
      "07:30:39 Central-Eastbound [Train 10] dep BOND STREET for OXFORD CIRCUS\n",
      "07:30:40 Central-Eastbound [Train  6] arr STRATFORD\n",
      "07:30:44 Central-Eastbound [Train  7] dep BETHNAL GREEN for MILE END\n",
      "07:30:44 Central-Eastbound [Train  4] dep REDBRIDGE for GANTS HILL\n",
      "07:31:10 Central-Eastbound [Train  5] arr LEYTONSTONE\n",
      "07:31:10 Central-Eastbound [Train  9] arr CHANCERY LANE\n",
      "07:31:20 Central-Eastbound [Train  8] dep BANK for LIVERPOOL STREET\n",
      "07:31:25 Central-Eastbound [Train 11] arr LANCASTER GATE\n",
      "07:31:26 Central-Eastbound [Train  6] dep STRATFORD for LEYTON\n",
      "07:31:32 Central-Eastbound [Train  0] arr BUCKHURST HILL\n",
      "07:31:40 Central-Eastbound [Train 10] arr OXFORD CIRCUS\n",
      "07:31:41 Central-Eastbound [Train  5] dep LEYTONSTONE for WANSTEAD\n",
      "07:31:42 Central-Eastbound [Train  2] dep FAIRLOP for HAINAULT\n",
      "07:31:47 Central-Eastbound [Train  1] arr SOUTH WOODFORD\n",
      "07:31:53 Central-Eastbound [Train  3] arr BARKINGSIDE\n",
      "07:31:54 Central-Eastbound [Train  9] dep CHANCERY LANE for ST PAULS\n",
      "07:32:10 Central-Eastbound [Train  4] arr GANTS HILL\n",
      "07:32:13 Central-Eastbound [Train 10] dep OXFORD CIRCUS for TOTTENHAM COURT ROAD\n",
      "07:32:15 Central-Eastbound [Train  0] dep BUCKHURST HILL for LOUGHTON\n",
      "07:32:15 Central-Eastbound [Train  1] dep SOUTH WOODFORD for WOODFORD\n",
      "07:32:16 Central-Eastbound [Train  3] dep BARKINGSIDE for FAIRLOP\n",
      "07:32:25 Central-Eastbound [Train  7] arr MILE END\n",
      "07:32:25 Central-Eastbound [Train  8] arr LIVERPOOL STREET\n",
      "07:32:32 Central-Eastbound [Train 11] dep LANCASTER GATE for MARBLE ARCH\n",
      "07:32:47 Central-Eastbound [Train  2] arr HAINAULT\n",
      "07:32:58 Central-Eastbound [Train  4] dep GANTS HILL for NEWBURY PARK\n",
      "07:33:04 Central-Eastbound [Train  8] dep LIVERPOOL STREET for BETHNAL GREEN\n",
      "07:33:10 Central-Eastbound [Train  9] arr ST PAULS\n",
      "07:33:10 Central-Eastbound [Train 10] arr TOTTENHAM COURT ROAD\n",
      "07:33:12 Central-Eastbound [Train  7] dep MILE END for STRATFORD\n",
      "07:33:24 Central-Eastbound [Train  2] dep LEYTONSTONE for SNARESBROOK\n",
      "07:33:25 Central-Eastbound [Train  6] arr LEYTON\n",
      "07:33:25 Central-Eastbound [Train  5] arr WANSTEAD\n",
      "07:33:40 Central-Eastbound [Train  3] arr FAIRLOP\n",
      "07:33:55 Central-Eastbound [Train 11] arr MARBLE ARCH\n",
      "07:34:00 Central-Eastbound [Train 10] dep TOTTENHAM COURT ROAD for HOLBORN\n",
      "07:34:01 Central-Eastbound [Train  5] dep WANSTEAD for REDBRIDGE\n",
      "07:34:02 Central-Eastbound [Train  1] arr WOODFORD\n",
      "07:34:03 Central-Eastbound [Train  0] arr LOUGHTON\n",
      "07:34:05 Central-Eastbound [Train  9] dep ST PAULS for BANK\n",
      "07:34:14 Central-Eastbound [Train 11] dep MARBLE ARCH for BOND STREET\n",
      "07:34:22 Central-Eastbound [Train  0] dep LOUGHTON for DEBDEN\n",
      "07:34:24 Central-Eastbound [Train  1] dep WOODFORD for BUCKHURST HILL\n",
      "07:34:30 Central-Eastbound [Train  6] dep LEYTON for LEYTONSTONE\n",
      "07:35:02 Central-Eastbound [Train  2] arr SNARESBROOK\n",
      "07:35:08 Central-Eastbound [Train  4] arr NEWBURY PARK\n",
      "07:35:10 Central-Eastbound [Train  8] arr BETHNAL GREEN\n",
      "07:35:10 Central-Eastbound [Train 10] arr HOLBORN\n",
      "07:35:10 Central-Eastbound [Train  9] arr BANK\n",
      "07:35:10 Central-Eastbound [Train 11] arr BOND STREET\n",
      "07:35:20 Central-Eastbound [Train  2] dep SNARESBROOK for SOUTH WOODFORD\n",
      "07:35:23 Central-Eastbound [Train 10] dep HOLBORN for CHANCERY LANE\n",
      "07:35:25 Central-Eastbound [Train  5] arr REDBRIDGE\n",
      "07:35:33 Central-Eastbound [Train  4] dep NEWBURY PARK for BARKINGSIDE\n",
      "07:35:39 Central-Eastbound [Train 11] dep BOND STREET for OXFORD CIRCUS\n",
      "07:35:40 Central-Eastbound [Train  7] arr STRATFORD\n",
      "07:35:44 Central-Eastbound [Train  8] dep BETHNAL GREEN for MILE END\n",
      "07:35:44 Central-Eastbound [Train  5] dep REDBRIDGE for GANTS HILL\n",
      "07:36:10 Central-Eastbound [Train  6] arr LEYTONSTONE\n",
      "07:36:10 Central-Eastbound [Train 10] arr CHANCERY LANE\n",
      "07:36:18 Central-Eastbound [Train  0] arr DEBDEN\n",
      "07:36:20 Central-Eastbound [Train  9] dep BANK for LIVERPOOL STREET\n",
      "07:36:26 Central-Eastbound [Train  7] dep STRATFORD for LEYTON\n",
      "07:36:32 Central-Eastbound [Train  1] arr BUCKHURST HILL\n",
      "07:36:40 Central-Eastbound [Train 11] arr OXFORD CIRCUS\n",
      "07:36:41 Central-Eastbound [Train  6] dep LEYTONSTONE for WANSTEAD\n",
      "07:36:41 Central-Eastbound [Train  0] dep DEBDEN for THEYDON BOIS\n",
      "07:36:42 Central-Eastbound [Train  3] dep FAIRLOP for HAINAULT\n",
      "07:36:47 Central-Eastbound [Train  2] arr SOUTH WOODFORD\n",
      "07:36:53 Central-Eastbound [Train  4] arr BARKINGSIDE\n",
      "07:36:54 Central-Eastbound [Train 10] dep CHANCERY LANE for ST PAULS\n",
      "07:37:10 Central-Eastbound [Train  5] arr GANTS HILL\n",
      "07:37:13 Central-Eastbound [Train 11] dep OXFORD CIRCUS for TOTTENHAM COURT ROAD\n",
      "07:37:15 Central-Eastbound [Train  1] dep BUCKHURST HILL for LOUGHTON\n",
      "07:37:15 Central-Eastbound [Train  2] dep SOUTH WOODFORD for WOODFORD\n",
      "07:37:16 Central-Eastbound [Train  4] dep BARKINGSIDE for FAIRLOP\n",
      "07:37:25 Central-Eastbound [Train  8] arr MILE END\n",
      "07:37:25 Central-Eastbound [Train  9] arr LIVERPOOL STREET\n",
      "07:37:47 Central-Eastbound [Train  3] arr HAINAULT\n",
      "07:37:58 Central-Eastbound [Train  5] dep GANTS HILL for NEWBURY PARK\n",
      "07:38:04 Central-Eastbound [Train  9] dep LIVERPOOL STREET for BETHNAL GREEN\n",
      "07:38:10 Central-Eastbound [Train 10] arr ST PAULS\n",
      "07:38:10 Central-Eastbound [Train 11] arr TOTTENHAM COURT ROAD\n",
      "07:38:12 Central-Eastbound [Train  8] dep MILE END for STRATFORD\n",
      "07:38:24 Central-Eastbound [Train  3] dep LEYTONSTONE for SNARESBROOK\n",
      "07:38:25 Central-Eastbound [Train  7] arr LEYTON\n",
      "07:38:25 Central-Eastbound [Train  6] arr WANSTEAD\n",
      "07:38:40 Central-Eastbound [Train  4] arr FAIRLOP\n",
      "07:39:00 Central-Eastbound [Train 11] dep TOTTENHAM COURT ROAD for HOLBORN\n",
      "07:39:01 Central-Eastbound [Train  6] dep WANSTEAD for REDBRIDGE\n",
      "07:39:02 Central-Eastbound [Train  2] arr WOODFORD\n",
      "07:39:03 Central-Eastbound [Train  1] arr LOUGHTON\n",
      "07:39:05 Central-Eastbound [Train 10] dep ST PAULS for BANK\n",
      "07:39:22 Central-Eastbound [Train  1] dep LOUGHTON for DEBDEN\n",
      "07:39:24 Central-Eastbound [Train  2] dep WOODFORD for BUCKHURST HILL\n",
      "07:39:30 Central-Eastbound [Train  0] arr THEYDON BOIS\n",
      "07:39:30 Central-Eastbound [Train  7] dep LEYTON for LEYTONSTONE\n",
      "07:39:58 Central-Eastbound [Train  0] dep THEYDON BOIS for EPPING\n",
      "07:40:02 Central-Eastbound [Train  3] arr SNARESBROOK\n",
      "07:40:08 Central-Eastbound [Train  5] arr NEWBURY PARK\n",
      "07:40:10 Central-Eastbound [Train  9] arr BETHNAL GREEN\n",
      "07:40:10 Central-Eastbound [Train 11] arr HOLBORN\n",
      "07:40:10 Central-Eastbound [Train 10] arr BANK\n",
      "07:40:20 Central-Eastbound [Train  3] dep SNARESBROOK for SOUTH WOODFORD\n",
      "07:40:23 Central-Eastbound [Train 11] dep HOLBORN for CHANCERY LANE\n",
      "07:40:25 Central-Eastbound [Train  6] arr REDBRIDGE\n",
      "07:40:33 Central-Eastbound [Train  5] dep NEWBURY PARK for BARKINGSIDE\n",
      "07:40:40 Central-Eastbound [Train  8] arr STRATFORD\n",
      "07:40:44 Central-Eastbound [Train  9] dep BETHNAL GREEN for MILE END\n",
      "07:40:44 Central-Eastbound [Train  6] dep REDBRIDGE for GANTS HILL\n",
      "07:41:10 Central-Eastbound [Train  7] arr LEYTONSTONE\n",
      "07:41:10 Central-Eastbound [Train 11] arr CHANCERY LANE\n",
      "07:41:18 Central-Eastbound [Train  1] arr DEBDEN\n",
      "07:41:20 Central-Eastbound [Train 10] dep BANK for LIVERPOOL STREET\n",
      "07:41:26 Central-Eastbound [Train  8] dep STRATFORD for LEYTON\n",
      "07:41:32 Central-Eastbound [Train  2] arr BUCKHURST HILL\n",
      "07:41:41 Central-Eastbound [Train  7] dep LEYTONSTONE for WANSTEAD\n",
      "07:41:41 Central-Eastbound [Train  1] dep DEBDEN for THEYDON BOIS\n",
      "07:41:42 Central-Eastbound [Train  4] dep FAIRLOP for HAINAULT\n",
      "07:41:47 Central-Eastbound [Train  3] arr SOUTH WOODFORD\n",
      "07:41:53 Central-Eastbound [Train  5] arr BARKINGSIDE\n",
      "07:41:54 Central-Eastbound [Train 11] dep CHANCERY LANE for ST PAULS\n",
      "07:42:10 Central-Eastbound [Train  6] arr GANTS HILL\n",
      "07:42:15 Central-Eastbound [Train  0] arr EPPING\n",
      "07:42:15 Central-Eastbound [Train  2] dep BUCKHURST HILL for LOUGHTON\n",
      "07:42:15 Central-Eastbound [Train  3] dep SOUTH WOODFORD for WOODFORD\n",
      "07:42:16 Central-Eastbound [Train  5] dep BARKINGSIDE for FAIRLOP\n",
      "07:42:25 Central-Eastbound [Train  9] arr MILE END\n",
      "07:42:25 Central-Eastbound [Train 10] arr LIVERPOOL STREET\n",
      "07:42:47 Central-Eastbound [Train  4] arr HAINAULT\n",
      "07:42:58 Central-Eastbound [Train  6] dep GANTS HILL for NEWBURY PARK\n",
      "07:43:04 Central-Eastbound [Train 10] dep LIVERPOOL STREET for BETHNAL GREEN\n",
      "07:43:10 Central-Eastbound [Train 11] arr ST PAULS\n",
      "07:43:12 Central-Eastbound [Train  9] dep MILE END for STRATFORD\n",
      "07:43:24 Central-Eastbound [Train  4] dep LEYTONSTONE for SNARESBROOK\n",
      "07:43:25 Central-Eastbound [Train  8] arr LEYTON\n",
      "07:43:25 Central-Eastbound [Train  7] arr WANSTEAD\n",
      "07:43:40 Central-Eastbound [Train  5] arr FAIRLOP\n",
      "07:44:01 Central-Eastbound [Train  7] dep WANSTEAD for REDBRIDGE\n",
      "07:44:02 Central-Eastbound [Train  3] arr WOODFORD\n",
      "07:44:03 Central-Eastbound [Train  2] arr LOUGHTON\n",
      "07:44:05 Central-Eastbound [Train 11] dep ST PAULS for BANK\n",
      "07:44:22 Central-Eastbound [Train  2] dep LOUGHTON for DEBDEN\n",
      "07:44:24 Central-Eastbound [Train  3] dep WOODFORD for BUCKHURST HILL\n",
      "07:44:30 Central-Eastbound [Train  1] arr THEYDON BOIS\n",
      "07:44:30 Central-Eastbound [Train  8] dep LEYTON for LEYTONSTONE\n",
      "07:44:58 Central-Eastbound [Train  1] dep THEYDON BOIS for EPPING\n",
      "07:45:02 Central-Eastbound [Train  4] arr SNARESBROOK\n",
      "07:45:08 Central-Eastbound [Train  6] arr NEWBURY PARK\n",
      "07:45:10 Central-Eastbound [Train 10] arr BETHNAL GREEN\n",
      "07:45:10 Central-Eastbound [Train 11] arr BANK\n",
      "07:45:20 Central-Eastbound [Train  4] dep SNARESBROOK for SOUTH WOODFORD\n",
      "07:45:25 Central-Eastbound [Train  7] arr REDBRIDGE\n",
      "07:45:33 Central-Eastbound [Train  6] dep NEWBURY PARK for BARKINGSIDE\n",
      "07:45:40 Central-Eastbound [Train  9] arr STRATFORD\n",
      "07:45:44 Central-Eastbound [Train 10] dep BETHNAL GREEN for MILE END\n",
      "07:45:44 Central-Eastbound [Train  7] dep REDBRIDGE for GANTS HILL\n",
      "07:46:10 Central-Eastbound [Train  8] arr LEYTONSTONE\n",
      "07:46:18 Central-Eastbound [Train  2] arr DEBDEN\n",
      "07:46:20 Central-Eastbound [Train 11] dep BANK for LIVERPOOL STREET\n",
      "07:46:26 Central-Eastbound [Train  9] dep STRATFORD for LEYTON\n",
      "07:46:32 Central-Eastbound [Train  3] arr BUCKHURST HILL\n",
      "07:46:41 Central-Eastbound [Train  8] dep LEYTONSTONE for WANSTEAD\n",
      "07:46:41 Central-Eastbound [Train  2] dep DEBDEN for THEYDON BOIS\n",
      "07:46:42 Central-Eastbound [Train  5] dep FAIRLOP for HAINAULT\n",
      "07:46:47 Central-Eastbound [Train  4] arr SOUTH WOODFORD\n",
      "07:46:53 Central-Eastbound [Train  6] arr BARKINGSIDE\n",
      "07:47:10 Central-Eastbound [Train  7] arr GANTS HILL\n",
      "07:47:15 Central-Eastbound [Train  1] arr EPPING\n",
      "07:47:15 Central-Eastbound [Train  3] dep BUCKHURST HILL for LOUGHTON\n",
      "07:47:15 Central-Eastbound [Train  4] dep SOUTH WOODFORD for WOODFORD\n",
      "07:47:16 Central-Eastbound [Train  6] dep BARKINGSIDE for FAIRLOP\n",
      "07:47:25 Central-Eastbound [Train 10] arr MILE END\n",
      "07:47:25 Central-Eastbound [Train 11] arr LIVERPOOL STREET\n",
      "07:47:47 Central-Eastbound [Train  5] arr HAINAULT\n",
      "07:47:58 Central-Eastbound [Train  7] dep GANTS HILL for NEWBURY PARK\n",
      "07:48:04 Central-Eastbound [Train 11] dep LIVERPOOL STREET for BETHNAL GREEN\n",
      "07:48:12 Central-Eastbound [Train 10] dep MILE END for STRATFORD\n",
      "07:48:24 Central-Eastbound [Train  5] dep LEYTONSTONE for SNARESBROOK\n",
      "07:48:25 Central-Eastbound [Train  9] arr LEYTON\n",
      "07:48:25 Central-Eastbound [Train  8] arr WANSTEAD\n",
      "07:48:40 Central-Eastbound [Train  6] arr FAIRLOP\n",
      "07:49:01 Central-Eastbound [Train  8] dep WANSTEAD for REDBRIDGE\n",
      "07:49:02 Central-Eastbound [Train  4] arr WOODFORD\n",
      "07:49:03 Central-Eastbound [Train  3] arr LOUGHTON\n",
      "07:49:22 Central-Eastbound [Train  3] dep LOUGHTON for DEBDEN\n",
      "07:49:24 Central-Eastbound [Train  4] dep WOODFORD for BUCKHURST HILL\n",
      "07:49:30 Central-Eastbound [Train  2] arr THEYDON BOIS\n",
      "07:49:30 Central-Eastbound [Train  9] dep LEYTON for LEYTONSTONE\n",
      "07:49:58 Central-Eastbound [Train  2] dep THEYDON BOIS for EPPING\n",
      "07:50:02 Central-Eastbound [Train  5] arr SNARESBROOK\n",
      "07:50:08 Central-Eastbound [Train  7] arr NEWBURY PARK\n",
      "07:50:10 Central-Eastbound [Train 11] arr BETHNAL GREEN\n",
      "07:50:20 Central-Eastbound [Train  5] dep SNARESBROOK for SOUTH WOODFORD\n",
      "07:50:25 Central-Eastbound [Train  8] arr REDBRIDGE\n",
      "07:50:33 Central-Eastbound [Train  7] dep NEWBURY PARK for BARKINGSIDE\n",
      "07:50:40 Central-Eastbound [Train 10] arr STRATFORD\n",
      "07:50:44 Central-Eastbound [Train 11] dep BETHNAL GREEN for MILE END\n",
      "07:50:44 Central-Eastbound [Train  8] dep REDBRIDGE for GANTS HILL\n",
      "07:51:10 Central-Eastbound [Train  9] arr LEYTONSTONE\n",
      "07:51:18 Central-Eastbound [Train  3] arr DEBDEN\n",
      "07:51:26 Central-Eastbound [Train 10] dep STRATFORD for LEYTON\n",
      "07:51:32 Central-Eastbound [Train  4] arr BUCKHURST HILL\n",
      "07:51:41 Central-Eastbound [Train  9] dep LEYTONSTONE for WANSTEAD\n",
      "07:51:41 Central-Eastbound [Train  3] dep DEBDEN for THEYDON BOIS\n",
      "07:51:42 Central-Eastbound [Train  6] dep FAIRLOP for HAINAULT\n",
      "07:51:47 Central-Eastbound [Train  5] arr SOUTH WOODFORD\n",
      "07:51:53 Central-Eastbound [Train  7] arr BARKINGSIDE\n",
      "07:52:10 Central-Eastbound [Train  8] arr GANTS HILL\n",
      "07:52:15 Central-Eastbound [Train  2] arr EPPING\n",
      "07:52:15 Central-Eastbound [Train  4] dep BUCKHURST HILL for LOUGHTON\n",
      "07:52:15 Central-Eastbound [Train  5] dep SOUTH WOODFORD for WOODFORD\n",
      "07:52:16 Central-Eastbound [Train  7] dep BARKINGSIDE for FAIRLOP\n",
      "07:52:25 Central-Eastbound [Train 11] arr MILE END\n",
      "07:52:47 Central-Eastbound [Train  6] arr HAINAULT\n",
      "07:52:58 Central-Eastbound [Train  8] dep GANTS HILL for NEWBURY PARK\n",
      "07:53:12 Central-Eastbound [Train 11] dep MILE END for STRATFORD\n",
      "07:53:24 Central-Eastbound [Train  6] dep LEYTONSTONE for SNARESBROOK\n",
      "07:53:25 Central-Eastbound [Train 10] arr LEYTON\n",
      "07:53:25 Central-Eastbound [Train  9] arr WANSTEAD\n",
      "07:53:40 Central-Eastbound [Train  7] arr FAIRLOP\n",
      "07:54:01 Central-Eastbound [Train  9] dep WANSTEAD for REDBRIDGE\n",
      "07:54:02 Central-Eastbound [Train  5] arr WOODFORD\n",
      "07:54:03 Central-Eastbound [Train  4] arr LOUGHTON\n",
      "07:54:22 Central-Eastbound [Train  4] dep LOUGHTON for DEBDEN\n",
      "07:54:24 Central-Eastbound [Train  5] dep WOODFORD for BUCKHURST HILL\n",
      "07:54:30 Central-Eastbound [Train  3] arr THEYDON BOIS\n",
      "07:54:30 Central-Eastbound [Train 10] dep LEYTON for LEYTONSTONE\n",
      "07:54:58 Central-Eastbound [Train  3] dep THEYDON BOIS for EPPING\n",
      "07:55:02 Central-Eastbound [Train  6] arr SNARESBROOK\n",
      "07:55:08 Central-Eastbound [Train  8] arr NEWBURY PARK\n",
      "07:55:20 Central-Eastbound [Train  6] dep SNARESBROOK for SOUTH WOODFORD\n",
      "07:55:25 Central-Eastbound [Train  9] arr REDBRIDGE\n",
      "07:55:33 Central-Eastbound [Train  8] dep NEWBURY PARK for BARKINGSIDE\n",
      "07:55:40 Central-Eastbound [Train 11] arr STRATFORD\n",
      "07:55:44 Central-Eastbound [Train  9] dep REDBRIDGE for GANTS HILL\n",
      "07:56:10 Central-Eastbound [Train 10] arr LEYTONSTONE\n",
      "07:56:18 Central-Eastbound [Train  4] arr DEBDEN\n",
      "07:56:26 Central-Eastbound [Train 11] dep STRATFORD for LEYTON\n",
      "07:56:32 Central-Eastbound [Train  5] arr BUCKHURST HILL\n",
      "07:56:41 Central-Eastbound [Train 10] dep LEYTONSTONE for WANSTEAD\n",
      "07:56:41 Central-Eastbound [Train  4] dep DEBDEN for THEYDON BOIS\n",
      "07:56:42 Central-Eastbound [Train  7] dep FAIRLOP for HAINAULT\n",
      "07:56:47 Central-Eastbound [Train  6] arr SOUTH WOODFORD\n",
      "07:56:53 Central-Eastbound [Train  8] arr BARKINGSIDE\n",
      "07:57:10 Central-Eastbound [Train  9] arr GANTS HILL\n",
      "07:57:15 Central-Eastbound [Train  3] arr EPPING\n",
      "07:57:15 Central-Eastbound [Train  5] dep BUCKHURST HILL for LOUGHTON\n",
      "07:57:15 Central-Eastbound [Train  6] dep SOUTH WOODFORD for WOODFORD\n",
      "07:57:16 Central-Eastbound [Train  8] dep BARKINGSIDE for FAIRLOP\n",
      "07:57:47 Central-Eastbound [Train  7] arr HAINAULT\n",
      "07:57:58 Central-Eastbound [Train  9] dep GANTS HILL for NEWBURY PARK\n",
      "07:58:24 Central-Eastbound [Train  7] dep LEYTONSTONE for SNARESBROOK\n",
      "07:58:25 Central-Eastbound [Train 11] arr LEYTON\n",
      "07:58:25 Central-Eastbound [Train 10] arr WANSTEAD\n",
      "07:58:40 Central-Eastbound [Train  8] arr FAIRLOP\n",
      "07:59:01 Central-Eastbound [Train 10] dep WANSTEAD for REDBRIDGE\n",
      "07:59:02 Central-Eastbound [Train  6] arr WOODFORD\n",
      "07:59:03 Central-Eastbound [Train  5] arr LOUGHTON\n",
      "07:59:22 Central-Eastbound [Train  5] dep LOUGHTON for DEBDEN\n",
      "07:59:24 Central-Eastbound [Train  6] dep WOODFORD for BUCKHURST HILL\n",
      "07:59:30 Central-Eastbound [Train  4] arr THEYDON BOIS\n",
      "07:59:30 Central-Eastbound [Train 11] dep LEYTON for LEYTONSTONE\n",
      "07:59:58 Central-Eastbound [Train  4] dep THEYDON BOIS for EPPING\n",
      "08:00:02 Central-Eastbound [Train  7] arr SNARESBROOK\n",
      "08:00:08 Central-Eastbound [Train  9] arr NEWBURY PARK\n",
      "08:00:20 Central-Eastbound [Train  7] dep SNARESBROOK for SOUTH WOODFORD\n",
      "08:00:25 Central-Eastbound [Train 10] arr REDBRIDGE\n",
      "08:00:33 Central-Eastbound [Train  9] dep NEWBURY PARK for BARKINGSIDE\n",
      "08:00:44 Central-Eastbound [Train 10] dep REDBRIDGE for GANTS HILL\n",
      "08:01:10 Central-Eastbound [Train 11] arr LEYTONSTONE\n",
      "08:01:18 Central-Eastbound [Train  5] arr DEBDEN\n",
      "08:01:32 Central-Eastbound [Train  6] arr BUCKHURST HILL\n",
      "08:01:41 Central-Eastbound [Train 11] dep LEYTONSTONE for WANSTEAD\n",
      "08:01:41 Central-Eastbound [Train  5] dep DEBDEN for THEYDON BOIS\n",
      "08:01:42 Central-Eastbound [Train  8] dep FAIRLOP for HAINAULT\n",
      "08:01:47 Central-Eastbound [Train  7] arr SOUTH WOODFORD\n",
      "08:01:53 Central-Eastbound [Train  9] arr BARKINGSIDE\n",
      "08:02:10 Central-Eastbound [Train 10] arr GANTS HILL\n",
      "08:02:15 Central-Eastbound [Train  4] arr EPPING\n",
      "08:02:15 Central-Eastbound [Train  6] dep BUCKHURST HILL for LOUGHTON\n",
      "08:02:15 Central-Eastbound [Train  7] dep SOUTH WOODFORD for WOODFORD\n",
      "08:02:16 Central-Eastbound [Train  9] dep BARKINGSIDE for FAIRLOP\n",
      "08:02:47 Central-Eastbound [Train  8] arr HAINAULT\n",
      "08:02:58 Central-Eastbound [Train 10] dep GANTS HILL for NEWBURY PARK\n",
      "08:03:24 Central-Eastbound [Train  8] dep LEYTONSTONE for SNARESBROOK\n",
      "08:03:25 Central-Eastbound [Train 11] arr WANSTEAD\n",
      "08:03:40 Central-Eastbound [Train  9] arr FAIRLOP\n",
      "08:04:01 Central-Eastbound [Train 11] dep WANSTEAD for REDBRIDGE\n",
      "08:04:02 Central-Eastbound [Train  7] arr WOODFORD\n",
      "08:04:03 Central-Eastbound [Train  6] arr LOUGHTON\n",
      "08:04:22 Central-Eastbound [Train  6] dep LOUGHTON for DEBDEN\n",
      "08:04:24 Central-Eastbound [Train  7] dep WOODFORD for BUCKHURST HILL\n",
      "08:04:30 Central-Eastbound [Train  5] arr THEYDON BOIS\n",
      "08:04:58 Central-Eastbound [Train  5] dep THEYDON BOIS for EPPING\n",
      "08:05:02 Central-Eastbound [Train  8] arr SNARESBROOK\n",
      "08:05:08 Central-Eastbound [Train 10] arr NEWBURY PARK\n",
      "08:05:20 Central-Eastbound [Train  8] dep SNARESBROOK for SOUTH WOODFORD\n",
      "08:05:25 Central-Eastbound [Train 11] arr REDBRIDGE\n",
      "08:05:33 Central-Eastbound [Train 10] dep NEWBURY PARK for BARKINGSIDE\n",
      "08:05:44 Central-Eastbound [Train 11] dep REDBRIDGE for GANTS HILL\n",
      "08:06:18 Central-Eastbound [Train  6] arr DEBDEN\n",
      "08:06:32 Central-Eastbound [Train  7] arr BUCKHURST HILL\n",
      "08:06:41 Central-Eastbound [Train  6] dep DEBDEN for THEYDON BOIS\n",
      "08:06:42 Central-Eastbound [Train  9] dep FAIRLOP for HAINAULT\n",
      "08:06:47 Central-Eastbound [Train  8] arr SOUTH WOODFORD\n",
      "08:06:53 Central-Eastbound [Train 10] arr BARKINGSIDE\n",
      "08:07:10 Central-Eastbound [Train 11] arr GANTS HILL\n",
      "08:07:15 Central-Eastbound [Train  5] arr EPPING\n",
      "08:07:15 Central-Eastbound [Train  7] dep BUCKHURST HILL for LOUGHTON\n",
      "08:07:15 Central-Eastbound [Train  8] dep SOUTH WOODFORD for WOODFORD\n",
      "08:07:16 Central-Eastbound [Train 10] dep BARKINGSIDE for FAIRLOP\n",
      "08:07:47 Central-Eastbound [Train  9] arr HAINAULT\n",
      "08:07:58 Central-Eastbound [Train 11] dep GANTS HILL for NEWBURY PARK\n",
      "08:08:24 Central-Eastbound [Train  9] dep LEYTONSTONE for SNARESBROOK\n",
      "08:08:40 Central-Eastbound [Train 10] arr FAIRLOP\n",
      "08:09:02 Central-Eastbound [Train  8] arr WOODFORD\n",
      "08:09:03 Central-Eastbound [Train  7] arr LOUGHTON\n",
      "08:09:22 Central-Eastbound [Train  7] dep LOUGHTON for DEBDEN\n",
      "08:09:24 Central-Eastbound [Train  8] dep WOODFORD for BUCKHURST HILL\n",
      "08:09:30 Central-Eastbound [Train  6] arr THEYDON BOIS\n",
      "08:09:58 Central-Eastbound [Train  6] dep THEYDON BOIS for EPPING\n",
      "08:10:02 Central-Eastbound [Train  9] arr SNARESBROOK\n",
      "08:10:08 Central-Eastbound [Train 11] arr NEWBURY PARK\n",
      "08:10:20 Central-Eastbound [Train  9] dep SNARESBROOK for SOUTH WOODFORD\n",
      "08:10:33 Central-Eastbound [Train 11] dep NEWBURY PARK for BARKINGSIDE\n",
      "08:11:18 Central-Eastbound [Train  7] arr DEBDEN\n",
      "08:11:32 Central-Eastbound [Train  8] arr BUCKHURST HILL\n",
      "08:11:41 Central-Eastbound [Train  7] dep DEBDEN for THEYDON BOIS\n",
      "08:11:42 Central-Eastbound [Train 10] dep FAIRLOP for HAINAULT\n",
      "08:11:47 Central-Eastbound [Train  9] arr SOUTH WOODFORD\n",
      "08:11:53 Central-Eastbound [Train 11] arr BARKINGSIDE\n",
      "08:12:15 Central-Eastbound [Train  6] arr EPPING\n",
      "08:12:15 Central-Eastbound [Train  8] dep BUCKHURST HILL for LOUGHTON\n",
      "08:12:15 Central-Eastbound [Train  9] dep SOUTH WOODFORD for WOODFORD\n",
      "08:12:16 Central-Eastbound [Train 11] dep BARKINGSIDE for FAIRLOP\n",
      "08:12:47 Central-Eastbound [Train 10] arr HAINAULT\n",
      "08:13:24 Central-Eastbound [Train 10] dep LEYTONSTONE for SNARESBROOK\n",
      "08:13:40 Central-Eastbound [Train 11] arr FAIRLOP\n",
      "08:14:02 Central-Eastbound [Train  9] arr WOODFORD\n",
      "08:14:03 Central-Eastbound [Train  8] arr LOUGHTON\n",
      "08:14:22 Central-Eastbound [Train  8] dep LOUGHTON for DEBDEN\n",
      "08:14:24 Central-Eastbound [Train  9] dep WOODFORD for BUCKHURST HILL\n",
      "08:14:30 Central-Eastbound [Train  7] arr THEYDON BOIS\n",
      "08:14:58 Central-Eastbound [Train  7] dep THEYDON BOIS for EPPING\n",
      "08:15:02 Central-Eastbound [Train 10] arr SNARESBROOK\n",
      "08:15:20 Central-Eastbound [Train 10] dep SNARESBROOK for SOUTH WOODFORD\n",
      "08:16:18 Central-Eastbound [Train  8] arr DEBDEN\n",
      "08:16:32 Central-Eastbound [Train  9] arr BUCKHURST HILL\n",
      "08:16:41 Central-Eastbound [Train  8] dep DEBDEN for THEYDON BOIS\n",
      "08:16:42 Central-Eastbound [Train 11] dep FAIRLOP for HAINAULT\n",
      "08:16:47 Central-Eastbound [Train 10] arr SOUTH WOODFORD\n",
      "08:17:15 Central-Eastbound [Train  7] arr EPPING\n",
      "08:17:15 Central-Eastbound [Train  9] dep BUCKHURST HILL for LOUGHTON\n",
      "08:17:15 Central-Eastbound [Train 10] dep SOUTH WOODFORD for WOODFORD\n",
      "08:17:47 Central-Eastbound [Train 11] arr HAINAULT\n",
      "08:18:24 Central-Eastbound [Train 11] dep LEYTONSTONE for SNARESBROOK\n",
      "08:19:02 Central-Eastbound [Train 10] arr WOODFORD\n",
      "08:19:03 Central-Eastbound [Train  9] arr LOUGHTON\n",
      "08:19:22 Central-Eastbound [Train  9] dep LOUGHTON for DEBDEN\n",
      "08:19:24 Central-Eastbound [Train 10] dep WOODFORD for BUCKHURST HILL\n",
      "08:19:30 Central-Eastbound [Train  8] arr THEYDON BOIS\n",
      "08:19:58 Central-Eastbound [Train  8] dep THEYDON BOIS for EPPING\n",
      "08:20:02 Central-Eastbound [Train 11] arr SNARESBROOK\n",
      "08:20:20 Central-Eastbound [Train 11] dep SNARESBROOK for SOUTH WOODFORD\n",
      "08:21:18 Central-Eastbound [Train  9] arr DEBDEN\n",
      "08:21:32 Central-Eastbound [Train 10] arr BUCKHURST HILL\n",
      "08:21:41 Central-Eastbound [Train  9] dep DEBDEN for THEYDON BOIS\n",
      "08:21:47 Central-Eastbound [Train 11] arr SOUTH WOODFORD\n",
      "08:22:15 Central-Eastbound [Train  8] arr EPPING\n",
      "08:22:15 Central-Eastbound [Train 10] dep BUCKHURST HILL for LOUGHTON\n",
      "08:22:15 Central-Eastbound [Train 11] dep SOUTH WOODFORD for WOODFORD\n",
      "08:24:02 Central-Eastbound [Train 11] arr WOODFORD\n",
      "08:24:03 Central-Eastbound [Train 10] arr LOUGHTON\n",
      "08:24:22 Central-Eastbound [Train 10] dep LOUGHTON for DEBDEN\n",
      "08:24:24 Central-Eastbound [Train 11] dep WOODFORD for BUCKHURST HILL\n",
      "08:24:30 Central-Eastbound [Train  9] arr THEYDON BOIS\n",
      "08:24:58 Central-Eastbound [Train  9] dep THEYDON BOIS for EPPING\n",
      "08:26:18 Central-Eastbound [Train 10] arr DEBDEN\n",
      "08:26:32 Central-Eastbound [Train 11] arr BUCKHURST HILL\n",
      "08:26:41 Central-Eastbound [Train 10] dep DEBDEN for THEYDON BOIS\n",
      "08:27:15 Central-Eastbound [Train  9] arr EPPING\n",
      "08:27:15 Central-Eastbound [Train 11] dep BUCKHURST HILL for LOUGHTON\n",
      "08:29:03 Central-Eastbound [Train 11] arr LOUGHTON\n",
      "08:29:22 Central-Eastbound [Train 11] dep LOUGHTON for DEBDEN\n",
      "08:29:30 Central-Eastbound [Train 10] arr THEYDON BOIS\n",
      "08:29:58 Central-Eastbound [Train 10] dep THEYDON BOIS for EPPING\n",
      "08:31:18 Central-Eastbound [Train 11] arr DEBDEN\n",
      "08:31:41 Central-Eastbound [Train 11] dep DEBDEN for THEYDON BOIS\n",
      "08:32:15 Central-Eastbound [Train 10] arr EPPING\n",
      "08:34:30 Central-Eastbound [Train 11] arr THEYDON BOIS\n",
      "08:34:58 Central-Eastbound [Train 11] dep THEYDON BOIS for EPPING\n",
      "08:37:15 Central-Eastbound [Train 11] arr EPPING\n"
     ]
    }
   ],
   "source": [
    "env = simpy.Environment()\n",
    "env.process(track(line='Central', direction='Eastbound', start=6*3600, stop=7*3600, timing=300))\n",
    "env.run()"
   ]
  },
  {
   "cell_type": "markdown",
   "metadata": {},
   "source": [
    "# References"
   ]
  },
  {
   "cell_type": "markdown",
   "metadata": {},
   "source": [
    "[SimPy](https://simpy.readthedocs.io/en/latest/contents.html)"
   ]
  }
 ],
 "metadata": {
  "kernelspec": {
   "display_name": "Python 3",
   "language": "python",
   "name": "python3"
  },
  "language_info": {
   "codemirror_mode": {
    "name": "ipython",
    "version": 3
   },
   "file_extension": ".py",
   "mimetype": "text/x-python",
   "name": "python",
   "nbconvert_exporter": "python",
   "pygments_lexer": "ipython3",
   "version": "3.8.1"
  },
  "latex_envs": {
   "LaTeX_envs_menu_present": true,
   "autoclose": false,
   "autocomplete": true,
   "bibliofile": "biblio.bib",
   "cite_by": "apalike",
   "current_citInitial": 1,
   "eqLabelWithNumbers": true,
   "eqNumInitial": 1,
   "hotkeys": {
    "equation": "Ctrl-E",
    "itemize": "Ctrl-I"
   },
   "labels_anchors": false,
   "latex_user_defs": false,
   "report_style_numbering": false,
   "user_envs_cfg": false
  },
  "toc": {
   "base_numbering": 1,
   "nav_menu": {},
   "number_sections": true,
   "sideBar": true,
   "skip_h1_title": false,
   "title_cell": "Table of Contents",
   "title_sidebar": "Contents",
   "toc_cell": true,
   "toc_position": {},
   "toc_section_display": true,
   "toc_window_display": false
  },
  "varInspector": {
   "cols": {
    "lenName": 16,
    "lenType": 16,
    "lenVar": 40
   },
   "kernels_config": {
    "python": {
     "delete_cmd_postfix": "",
     "delete_cmd_prefix": "del ",
     "library": "var_list.py",
     "varRefreshCmd": "print(var_dic_list())"
    },
    "r": {
     "delete_cmd_postfix": ") ",
     "delete_cmd_prefix": "rm(",
     "library": "var_list.r",
     "varRefreshCmd": "cat(var_dic_list()) "
    }
   },
   "types_to_exclude": [
    "module",
    "function",
    "builtin_function_or_method",
    "instance",
    "_Feature"
   ],
   "window_display": false
  }
 },
 "nbformat": 4,
 "nbformat_minor": 4
}
