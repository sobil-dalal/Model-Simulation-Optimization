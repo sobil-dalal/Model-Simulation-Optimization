{
 "cells": [
  {
   "cell_type": "markdown",
   "metadata": {
    "toc": true
   },
   "source": [
    "<h1>Table of Contents<span class=\"tocSkip\"></span></h1>\n",
    "<div class=\"toc\"><ul class=\"toc-item\"><li><span><a href=\"#Load-Libraries\" data-toc-modified-id=\"Load-Libraries-1\"><span class=\"toc-item-num\">1&nbsp;&nbsp;</span>Load Libraries</a></span></li><li><span><a href=\"#Prepare-Data\" data-toc-modified-id=\"Prepare-Data-2\"><span class=\"toc-item-num\">2&nbsp;&nbsp;</span>Prepare Data</a></span><ul class=\"toc-item\"><li><span><a href=\"#Adjust-Units-of-Measurements\" data-toc-modified-id=\"Adjust-Units-of-Measurements-2.1\"><span class=\"toc-item-num\">2.1&nbsp;&nbsp;</span>Adjust Units of Measurements</a></span></li><li><span><a href=\"#Consolidate-Information-about-Lines\" data-toc-modified-id=\"Consolidate-Information-about-Lines-2.2\"><span class=\"toc-item-num\">2.2&nbsp;&nbsp;</span>Consolidate Information about Lines</a></span></li><li><span><a href=\"#Convert-Runtime-into-Expected-Drive-Time-and-Dwell-Time\" data-toc-modified-id=\"Convert-Runtime-into-Expected-Drive-Time-and-Dwell-Time-2.3\"><span class=\"toc-item-num\">2.3&nbsp;&nbsp;</span>Convert Runtime into Expected Drive Time and Dwell Time</a></span></li></ul></li><li><span><a href=\"#Exploratory-Data-Analysis\" data-toc-modified-id=\"Exploratory-Data-Analysis-3\"><span class=\"toc-item-num\">3&nbsp;&nbsp;</span>Exploratory Data Analysis</a></span><ul class=\"toc-item\"><li><span><a href=\"#Distance-Between-Stations-(m)\" data-toc-modified-id=\"Distance-Between-Stations-(m)-3.1\"><span class=\"toc-item-num\">3.1&nbsp;&nbsp;</span>Distance Between Stations (m)</a></span></li><li><span><a href=\"#Drive-Time-between-Stations-(s)\" data-toc-modified-id=\"Drive-Time-between-Stations-(s)-3.2\"><span class=\"toc-item-num\">3.2&nbsp;&nbsp;</span>Drive Time between Stations (s)</a></span></li><li><span><a href=\"#Dwell-Times-(s)\" data-toc-modified-id=\"Dwell-Times-(s)-3.3\"><span class=\"toc-item-num\">3.3&nbsp;&nbsp;</span>Dwell Times (s)</a></span></li></ul></li><li><span><a href=\"#Modelling\" data-toc-modified-id=\"Modelling-4\"><span class=\"toc-item-num\">4&nbsp;&nbsp;</span>Modelling</a></span><ul class=\"toc-item\"><li><span><a href=\"#The-Infrastructure-(Stations,-Depots-etc)\" data-toc-modified-id=\"The-Infrastructure-(Stations,-Depots-etc)-4.1\"><span class=\"toc-item-num\">4.1&nbsp;&nbsp;</span>The Infrastructure (Stations, Depots etc)</a></span><ul class=\"toc-item\"><li><span><a href=\"#Depots\" data-toc-modified-id=\"Depots-4.1.1\"><span class=\"toc-item-num\">4.1.1&nbsp;&nbsp;</span>Depots</a></span></li><li><span><a href=\"#Stations\" data-toc-modified-id=\"Stations-4.1.2\"><span class=\"toc-item-num\">4.1.2&nbsp;&nbsp;</span>Stations</a></span></li><li><span><a href=\"#Cross-Overs\" data-toc-modified-id=\"Cross-Overs-4.1.3\"><span class=\"toc-item-num\">4.1.3&nbsp;&nbsp;</span>Cross-Overs</a></span></li></ul></li><li><span><a href=\"#The-Network\" data-toc-modified-id=\"The-Network-4.2\"><span class=\"toc-item-num\">4.2&nbsp;&nbsp;</span>The Network</a></span></li><li><span><a href=\"#Trains\" data-toc-modified-id=\"Trains-4.3\"><span class=\"toc-item-num\">4.3&nbsp;&nbsp;</span>Trains</a></span></li><li><span><a href=\"#Incidents\" data-toc-modified-id=\"Incidents-4.4\"><span class=\"toc-item-num\">4.4&nbsp;&nbsp;</span>Incidents</a></span></li></ul></li><li><span><a href=\"#Utilities\" data-toc-modified-id=\"Utilities-5\"><span class=\"toc-item-num\">5&nbsp;&nbsp;</span>Utilities</a></span><ul class=\"toc-item\"><li><span><a href=\"#Global-Parameters\" data-toc-modified-id=\"Global-Parameters-5.1\"><span class=\"toc-item-num\">5.1&nbsp;&nbsp;</span>Global Parameters</a></span></li><li><span><a href=\"#Time-Parsing-and-Formating\" data-toc-modified-id=\"Time-Parsing-and-Formating-5.2\"><span class=\"toc-item-num\">5.2&nbsp;&nbsp;</span>Time Parsing and Formating</a></span></li></ul></li><li><span><a href=\"#Setting-System-Parameters\" data-toc-modified-id=\"Setting-System-Parameters-6\"><span class=\"toc-item-num\">6&nbsp;&nbsp;</span>Setting System Parameters</a></span></li><li><span><a href=\"#System-Verification\" data-toc-modified-id=\"System-Verification-7\"><span class=\"toc-item-num\">7&nbsp;&nbsp;</span>System Verification</a></span><ul class=\"toc-item\"><li><span><a href=\"#Normal-Operations\" data-toc-modified-id=\"Normal-Operations-7.1\"><span class=\"toc-item-num\">7.1&nbsp;&nbsp;</span>Normal Operations</a></span></li><li><span><a href=\"#Incidents\" data-toc-modified-id=\"Incidents-7.2\"><span class=\"toc-item-num\">7.2&nbsp;&nbsp;</span>Incidents</a></span></li></ul></li><li><span><a href=\"#Validate-System\" data-toc-modified-id=\"Validate-System-8\"><span class=\"toc-item-num\">8&nbsp;&nbsp;</span>Validate System</a></span><ul class=\"toc-item\"><li><span><a href=\"#Metropolitan-Line\" data-toc-modified-id=\"Metropolitan-Line-8.1\"><span class=\"toc-item-num\">8.1&nbsp;&nbsp;</span>Metropolitan Line</a></span></li><li><span><a href=\"#Piccadilly\" data-toc-modified-id=\"Piccadilly-8.2\"><span class=\"toc-item-num\">8.2&nbsp;&nbsp;</span>Piccadilly</a></span></li></ul></li><li><span><a href=\"#References\" data-toc-modified-id=\"References-9\"><span class=\"toc-item-num\">9&nbsp;&nbsp;</span>References</a></span></li></ul></div>"
   ]
  },
  {
   "cell_type": "markdown",
   "metadata": {},
   "source": [
    "# Load Libraries"
   ]
  },
  {
   "cell_type": "code",
   "execution_count": 1,
   "metadata": {
    "ExecuteTime": {
     "end_time": "2020-07-27T20:54:48.484289Z",
     "start_time": "2020-07-27T20:54:47.371726Z"
    }
   },
   "outputs": [],
   "source": [
    "import pandas as pd\n",
    "import matplotlib as mpl\n",
    "import matplotlib.pyplot as plt\n",
    "import scipy.stats as stats\n",
    "import math\n",
    "import numpy as np\n",
    "\n",
    "import simpy"
   ]
  },
  {
   "cell_type": "markdown",
   "metadata": {},
   "source": [
    "# Prepare Data"
   ]
  },
  {
   "cell_type": "code",
   "execution_count": 2,
   "metadata": {
    "ExecuteTime": {
     "end_time": "2020-07-27T20:54:48.494520Z",
     "start_time": "2020-07-27T20:54:48.486690Z"
    }
   },
   "outputs": [],
   "source": [
    "dt=pd.read_csv('LondonTube.csv')"
   ]
  },
  {
   "cell_type": "code",
   "execution_count": 3,
   "metadata": {
    "ExecuteTime": {
     "end_time": "2020-07-27T20:54:48.513494Z",
     "start_time": "2020-07-27T20:54:48.497099Z"
    }
   },
   "outputs": [
    {
     "data": {
      "text/html": [
       "<div>\n",
       "<style scoped>\n",
       "    .dataframe tbody tr th:only-of-type {\n",
       "        vertical-align: middle;\n",
       "    }\n",
       "\n",
       "    .dataframe tbody tr th {\n",
       "        vertical-align: top;\n",
       "    }\n",
       "\n",
       "    .dataframe thead th {\n",
       "        text-align: right;\n",
       "    }\n",
       "</style>\n",
       "<table border=\"1\" class=\"dataframe\">\n",
       "  <thead>\n",
       "    <tr style=\"text-align: right;\">\n",
       "      <th></th>\n",
       "      <th>Line</th>\n",
       "      <th>Direction</th>\n",
       "      <th>From</th>\n",
       "      <th>To</th>\n",
       "      <th>Distance</th>\n",
       "      <th>Running Time</th>\n",
       "      <th>Peak Running Time</th>\n",
       "      <th>Off-Peak Running Time</th>\n",
       "    </tr>\n",
       "  </thead>\n",
       "  <tbody>\n",
       "    <tr>\n",
       "      <th>0</th>\n",
       "      <td>Bakerloo</td>\n",
       "      <td>Southbound</td>\n",
       "      <td>HARROW &amp; WEALDSTONE</td>\n",
       "      <td>KENTON</td>\n",
       "      <td>1.74</td>\n",
       "      <td>2.23</td>\n",
       "      <td>2.50</td>\n",
       "      <td>2.50</td>\n",
       "    </tr>\n",
       "    <tr>\n",
       "      <th>1</th>\n",
       "      <td>Bakerloo</td>\n",
       "      <td>Southbound</td>\n",
       "      <td>KENTON</td>\n",
       "      <td>SOUTH KENTON</td>\n",
       "      <td>1.40</td>\n",
       "      <td>1.88</td>\n",
       "      <td>2.00</td>\n",
       "      <td>2.00</td>\n",
       "    </tr>\n",
       "    <tr>\n",
       "      <th>2</th>\n",
       "      <td>Bakerloo</td>\n",
       "      <td>Southbound</td>\n",
       "      <td>SOUTH KENTON</td>\n",
       "      <td>NORTH WEMBLEY</td>\n",
       "      <td>0.90</td>\n",
       "      <td>1.50</td>\n",
       "      <td>1.50</td>\n",
       "      <td>1.50</td>\n",
       "    </tr>\n",
       "    <tr>\n",
       "      <th>3</th>\n",
       "      <td>Bakerloo</td>\n",
       "      <td>Southbound</td>\n",
       "      <td>NORTH WEMBLEY</td>\n",
       "      <td>WEMBLEY CENTRAL</td>\n",
       "      <td>1.27</td>\n",
       "      <td>1.92</td>\n",
       "      <td>2.06</td>\n",
       "      <td>2.06</td>\n",
       "    </tr>\n",
       "    <tr>\n",
       "      <th>4</th>\n",
       "      <td>Bakerloo</td>\n",
       "      <td>Southbound</td>\n",
       "      <td>WEMBLEY CENTRAL</td>\n",
       "      <td>STONEBRIDGE PARK</td>\n",
       "      <td>1.71</td>\n",
       "      <td>2.23</td>\n",
       "      <td>3.13</td>\n",
       "      <td>3.13</td>\n",
       "    </tr>\n",
       "  </tbody>\n",
       "</table>\n",
       "</div>"
      ],
      "text/plain": [
       "       Line   Direction                 From                To  Distance  \\\n",
       "0  Bakerloo  Southbound  HARROW & WEALDSTONE            KENTON      1.74   \n",
       "1  Bakerloo  Southbound               KENTON      SOUTH KENTON      1.40   \n",
       "2  Bakerloo  Southbound         SOUTH KENTON     NORTH WEMBLEY      0.90   \n",
       "3  Bakerloo  Southbound        NORTH WEMBLEY   WEMBLEY CENTRAL      1.27   \n",
       "4  Bakerloo  Southbound      WEMBLEY CENTRAL  STONEBRIDGE PARK      1.71   \n",
       "\n",
       "   Running Time  Peak Running Time  Off-Peak Running Time  \n",
       "0          2.23               2.50                   2.50  \n",
       "1          1.88               2.00                   2.00  \n",
       "2          1.50               1.50                   1.50  \n",
       "3          1.92               2.06                   2.06  \n",
       "4          2.23               3.13                   3.13  "
      ]
     },
     "execution_count": 3,
     "metadata": {},
     "output_type": "execute_result"
    }
   ],
   "source": [
    "dt.head()"
   ]
  },
  {
   "cell_type": "markdown",
   "metadata": {},
   "source": [
    "## Adjust Units of Measurements"
   ]
  },
  {
   "cell_type": "markdown",
   "metadata": {},
   "source": [
    "Convert distances to meters"
   ]
  },
  {
   "cell_type": "code",
   "execution_count": 4,
   "metadata": {
    "ExecuteTime": {
     "end_time": "2020-07-27T20:54:49.646649Z",
     "start_time": "2020-07-27T20:54:49.641582Z"
    }
   },
   "outputs": [],
   "source": [
    "dt['Distance']=dt['Distance'].apply(lambda x: int(x*1000))"
   ]
  },
  {
   "cell_type": "markdown",
   "metadata": {},
   "source": [
    "Convert running times into seconds"
   ]
  },
  {
   "cell_type": "code",
   "execution_count": 5,
   "metadata": {
    "ExecuteTime": {
     "end_time": "2020-07-27T20:54:50.244559Z",
     "start_time": "2020-07-27T20:54:50.235654Z"
    }
   },
   "outputs": [],
   "source": [
    "dt['Running Time']=dt['Running Time'].apply(lambda x: int(x*60))\n",
    "dt['Peak Running Time']=dt['Peak Running Time'].apply(lambda x: int(x*60))\n",
    "dt['Off-Peak Running Time']=dt['Off-Peak Running Time'].apply(lambda x: int(x*60))"
   ]
  },
  {
   "cell_type": "code",
   "execution_count": 6,
   "metadata": {
    "ExecuteTime": {
     "end_time": "2020-07-27T20:54:50.259931Z",
     "start_time": "2020-07-27T20:54:50.247297Z"
    }
   },
   "outputs": [
    {
     "data": {
      "text/html": [
       "<div>\n",
       "<style scoped>\n",
       "    .dataframe tbody tr th:only-of-type {\n",
       "        vertical-align: middle;\n",
       "    }\n",
       "\n",
       "    .dataframe tbody tr th {\n",
       "        vertical-align: top;\n",
       "    }\n",
       "\n",
       "    .dataframe thead th {\n",
       "        text-align: right;\n",
       "    }\n",
       "</style>\n",
       "<table border=\"1\" class=\"dataframe\">\n",
       "  <thead>\n",
       "    <tr style=\"text-align: right;\">\n",
       "      <th></th>\n",
       "      <th>Line</th>\n",
       "      <th>Direction</th>\n",
       "      <th>From</th>\n",
       "      <th>To</th>\n",
       "      <th>Distance</th>\n",
       "      <th>Running Time</th>\n",
       "      <th>Peak Running Time</th>\n",
       "      <th>Off-Peak Running Time</th>\n",
       "    </tr>\n",
       "  </thead>\n",
       "  <tbody>\n",
       "    <tr>\n",
       "      <th>0</th>\n",
       "      <td>Bakerloo</td>\n",
       "      <td>Southbound</td>\n",
       "      <td>HARROW &amp; WEALDSTONE</td>\n",
       "      <td>KENTON</td>\n",
       "      <td>1740</td>\n",
       "      <td>133</td>\n",
       "      <td>150</td>\n",
       "      <td>150</td>\n",
       "    </tr>\n",
       "    <tr>\n",
       "      <th>1</th>\n",
       "      <td>Bakerloo</td>\n",
       "      <td>Southbound</td>\n",
       "      <td>KENTON</td>\n",
       "      <td>SOUTH KENTON</td>\n",
       "      <td>1400</td>\n",
       "      <td>112</td>\n",
       "      <td>120</td>\n",
       "      <td>120</td>\n",
       "    </tr>\n",
       "    <tr>\n",
       "      <th>2</th>\n",
       "      <td>Bakerloo</td>\n",
       "      <td>Southbound</td>\n",
       "      <td>SOUTH KENTON</td>\n",
       "      <td>NORTH WEMBLEY</td>\n",
       "      <td>900</td>\n",
       "      <td>90</td>\n",
       "      <td>90</td>\n",
       "      <td>90</td>\n",
       "    </tr>\n",
       "    <tr>\n",
       "      <th>3</th>\n",
       "      <td>Bakerloo</td>\n",
       "      <td>Southbound</td>\n",
       "      <td>NORTH WEMBLEY</td>\n",
       "      <td>WEMBLEY CENTRAL</td>\n",
       "      <td>1270</td>\n",
       "      <td>115</td>\n",
       "      <td>123</td>\n",
       "      <td>123</td>\n",
       "    </tr>\n",
       "    <tr>\n",
       "      <th>4</th>\n",
       "      <td>Bakerloo</td>\n",
       "      <td>Southbound</td>\n",
       "      <td>WEMBLEY CENTRAL</td>\n",
       "      <td>STONEBRIDGE PARK</td>\n",
       "      <td>1710</td>\n",
       "      <td>133</td>\n",
       "      <td>187</td>\n",
       "      <td>187</td>\n",
       "    </tr>\n",
       "  </tbody>\n",
       "</table>\n",
       "</div>"
      ],
      "text/plain": [
       "       Line   Direction                 From                To  Distance  \\\n",
       "0  Bakerloo  Southbound  HARROW & WEALDSTONE            KENTON      1740   \n",
       "1  Bakerloo  Southbound               KENTON      SOUTH KENTON      1400   \n",
       "2  Bakerloo  Southbound         SOUTH KENTON     NORTH WEMBLEY       900   \n",
       "3  Bakerloo  Southbound        NORTH WEMBLEY   WEMBLEY CENTRAL      1270   \n",
       "4  Bakerloo  Southbound      WEMBLEY CENTRAL  STONEBRIDGE PARK      1710   \n",
       "\n",
       "   Running Time  Peak Running Time  Off-Peak Running Time  \n",
       "0           133                150                    150  \n",
       "1           112                120                    120  \n",
       "2            90                 90                     90  \n",
       "3           115                123                    123  \n",
       "4           133                187                    187  "
      ]
     },
     "execution_count": 6,
     "metadata": {},
     "output_type": "execute_result"
    }
   ],
   "source": [
    "dt.head()"
   ]
  },
  {
   "cell_type": "markdown",
   "metadata": {},
   "source": [
    "## Consolidate Information about Lines"
   ]
  },
  {
   "cell_type": "markdown",
   "metadata": {},
   "source": [
    "Note: A short looping branch line of the Central Line has been deleted from the original data set."
   ]
  },
  {
   "cell_type": "code",
   "execution_count": 7,
   "metadata": {
    "ExecuteTime": {
     "end_time": "2020-07-27T20:54:51.900363Z",
     "start_time": "2020-07-27T20:54:51.895142Z"
    }
   },
   "outputs": [
    {
     "data": {
      "text/plain": [
       "['Bakerloo',\n",
       " 'Central',\n",
       " 'Victoria',\n",
       " 'Waterloo & City',\n",
       " 'Jubilee',\n",
       " 'Northern',\n",
       " 'Piccadilly',\n",
       " 'Metropolitan',\n",
       " 'H & C',\n",
       " 'Circle',\n",
       " 'District',\n",
       " 'East London']"
      ]
     },
     "execution_count": 7,
     "metadata": {},
     "output_type": "execute_result"
    }
   ],
   "source": [
    "list(dt['Line'].unique())"
   ]
  },
  {
   "cell_type": "code",
   "execution_count": 8,
   "metadata": {
    "ExecuteTime": {
     "end_time": "2020-07-27T20:54:51.908453Z",
     "start_time": "2020-07-27T20:54:51.903202Z"
    }
   },
   "outputs": [
    {
     "data": {
      "text/plain": [
       "['Southbound', 'Northbound', 'Eastbound', 'Westbound', 'Inner', 'Outer']"
      ]
     },
     "execution_count": 8,
     "metadata": {},
     "output_type": "execute_result"
    }
   ],
   "source": [
    "list(dt.Direction.unique())"
   ]
  },
  {
   "cell_type": "markdown",
   "metadata": {},
   "source": [
    "Note: Each line has its specific rolling stock with drive parameters depending on the track geometry, electrical power supply, and the year of construction. For simplicity we assume fixed parameters across the network.  "
   ]
  },
  {
   "cell_type": "code",
   "execution_count": 9,
   "metadata": {
    "ExecuteTime": {
     "end_time": "2020-07-27T20:54:52.523863Z",
     "start_time": "2020-07-27T20:54:52.514668Z"
    }
   },
   "outputs": [
    {
     "data": {
      "text/html": [
       "<div>\n",
       "<style scoped>\n",
       "    .dataframe tbody tr th:only-of-type {\n",
       "        vertical-align: middle;\n",
       "    }\n",
       "\n",
       "    .dataframe tbody tr th {\n",
       "        vertical-align: top;\n",
       "    }\n",
       "\n",
       "    .dataframe thead th {\n",
       "        text-align: right;\n",
       "    }\n",
       "</style>\n",
       "<table border=\"1\" class=\"dataframe\">\n",
       "  <thead>\n",
       "    <tr style=\"text-align: right;\">\n",
       "      <th></th>\n",
       "    </tr>\n",
       "    <tr>\n",
       "      <th>Line</th>\n",
       "    </tr>\n",
       "  </thead>\n",
       "  <tbody>\n",
       "    <tr>\n",
       "      <th>Bakerloo</th>\n",
       "    </tr>\n",
       "    <tr>\n",
       "      <th>Central</th>\n",
       "    </tr>\n",
       "    <tr>\n",
       "      <th>Victoria</th>\n",
       "    </tr>\n",
       "    <tr>\n",
       "      <th>Waterloo &amp; City</th>\n",
       "    </tr>\n",
       "    <tr>\n",
       "      <th>Jubilee</th>\n",
       "    </tr>\n",
       "    <tr>\n",
       "      <th>Northern</th>\n",
       "    </tr>\n",
       "    <tr>\n",
       "      <th>Piccadilly</th>\n",
       "    </tr>\n",
       "    <tr>\n",
       "      <th>Metropolitan</th>\n",
       "    </tr>\n",
       "    <tr>\n",
       "      <th>H &amp; C</th>\n",
       "    </tr>\n",
       "    <tr>\n",
       "      <th>Circle</th>\n",
       "    </tr>\n",
       "    <tr>\n",
       "      <th>District</th>\n",
       "    </tr>\n",
       "    <tr>\n",
       "      <th>East London</th>\n",
       "    </tr>\n",
       "  </tbody>\n",
       "</table>\n",
       "</div>"
      ],
      "text/plain": [
       "Empty DataFrame\n",
       "Columns: []\n",
       "Index: [Bakerloo, Central, Victoria, Waterloo & City, Jubilee, Northern, Piccadilly, Metropolitan, H & C, Circle, District, East London]"
      ]
     },
     "execution_count": 9,
     "metadata": {},
     "output_type": "execute_result"
    }
   ],
   "source": [
    "lines=dt['Line'].unique()\n",
    "dl=pd.DataFrame(lines, columns=['Line'])\n",
    "dl=dl.set_index('Line')\n",
    "\n",
    "dl"
   ]
  },
  {
   "cell_type": "code",
   "execution_count": 10,
   "metadata": {
    "ExecuteTime": {
     "end_time": "2020-07-27T20:54:52.554629Z",
     "start_time": "2020-07-27T20:54:52.526333Z"
    }
   },
   "outputs": [
    {
     "data": {
      "text/html": [
       "<div>\n",
       "<style scoped>\n",
       "    .dataframe tbody tr th:only-of-type {\n",
       "        vertical-align: middle;\n",
       "    }\n",
       "\n",
       "    .dataframe tbody tr th {\n",
       "        vertical-align: top;\n",
       "    }\n",
       "\n",
       "    .dataframe thead th {\n",
       "        text-align: right;\n",
       "    }\n",
       "</style>\n",
       "<table border=\"1\" class=\"dataframe\">\n",
       "  <thead>\n",
       "    <tr style=\"text-align: right;\">\n",
       "      <th></th>\n",
       "      <th>Direction 1</th>\n",
       "      <th>Direction 2</th>\n",
       "    </tr>\n",
       "    <tr>\n",
       "      <th>Line</th>\n",
       "      <th></th>\n",
       "      <th></th>\n",
       "    </tr>\n",
       "  </thead>\n",
       "  <tbody>\n",
       "    <tr>\n",
       "      <th>Bakerloo</th>\n",
       "      <td>Northbound</td>\n",
       "      <td>Southbound</td>\n",
       "    </tr>\n",
       "    <tr>\n",
       "      <th>Central</th>\n",
       "      <td>Eastbound</td>\n",
       "      <td>Westbound</td>\n",
       "    </tr>\n",
       "    <tr>\n",
       "      <th>Victoria</th>\n",
       "      <td>Northbound</td>\n",
       "      <td>Southbound</td>\n",
       "    </tr>\n",
       "    <tr>\n",
       "      <th>Waterloo &amp; City</th>\n",
       "      <td>Eastbound</td>\n",
       "      <td>Westbound</td>\n",
       "    </tr>\n",
       "    <tr>\n",
       "      <th>Jubilee</th>\n",
       "      <td>Eastbound</td>\n",
       "      <td>Westbound</td>\n",
       "    </tr>\n",
       "    <tr>\n",
       "      <th>Northern</th>\n",
       "      <td>Northbound</td>\n",
       "      <td>Southbound</td>\n",
       "    </tr>\n",
       "    <tr>\n",
       "      <th>Piccadilly</th>\n",
       "      <td>Eastbound</td>\n",
       "      <td>Westbound</td>\n",
       "    </tr>\n",
       "    <tr>\n",
       "      <th>Metropolitan</th>\n",
       "      <td>Eastbound</td>\n",
       "      <td>Westbound</td>\n",
       "    </tr>\n",
       "    <tr>\n",
       "      <th>H &amp; C</th>\n",
       "      <td>Eastbound</td>\n",
       "      <td>Westbound</td>\n",
       "    </tr>\n",
       "    <tr>\n",
       "      <th>Circle</th>\n",
       "      <td>Inner</td>\n",
       "      <td>Outer</td>\n",
       "    </tr>\n",
       "    <tr>\n",
       "      <th>District</th>\n",
       "      <td>Eastbound</td>\n",
       "      <td>Westbound</td>\n",
       "    </tr>\n",
       "    <tr>\n",
       "      <th>East London</th>\n",
       "      <td>Northbound</td>\n",
       "      <td>Southbound</td>\n",
       "    </tr>\n",
       "  </tbody>\n",
       "</table>\n",
       "</div>"
      ],
      "text/plain": [
       "                Direction 1 Direction 2\n",
       "Line                                   \n",
       "Bakerloo         Northbound  Southbound\n",
       "Central           Eastbound   Westbound\n",
       "Victoria         Northbound  Southbound\n",
       "Waterloo & City   Eastbound   Westbound\n",
       "Jubilee           Eastbound   Westbound\n",
       "Northern         Northbound  Southbound\n",
       "Piccadilly        Eastbound   Westbound\n",
       "Metropolitan      Eastbound   Westbound\n",
       "H & C             Eastbound   Westbound\n",
       "Circle                Inner       Outer\n",
       "District          Eastbound   Westbound\n",
       "East London      Northbound  Southbound"
      ]
     },
     "execution_count": 10,
     "metadata": {},
     "output_type": "execute_result"
    }
   ],
   "source": [
    "dl['Direction 1']=None\n",
    "dl['Direction 2']=None\n",
    "for l in lines:\n",
    "    \n",
    "    dirs = dt[dt['Line']==l]['Direction'].unique()\n",
    "    dirs = sorted(list(dirs))\n",
    "    if len(dirs)!=2:\n",
    "        print(\"Problem with line: \", l, dirs)\n",
    "    dl.at[l, 'Direction 1']=dirs[0]\n",
    "    dl.at[l, 'Direction 2']=dirs[1]\n",
    "    \n",
    "dl"
   ]
  },
  {
   "cell_type": "code",
   "execution_count": 11,
   "metadata": {
    "ExecuteTime": {
     "end_time": "2020-07-27T20:54:52.614056Z",
     "start_time": "2020-07-27T20:54:52.557303Z"
    },
    "scrolled": false
   },
   "outputs": [
    {
     "data": {
      "text/html": [
       "<div>\n",
       "<style scoped>\n",
       "    .dataframe tbody tr th:only-of-type {\n",
       "        vertical-align: middle;\n",
       "    }\n",
       "\n",
       "    .dataframe tbody tr th {\n",
       "        vertical-align: top;\n",
       "    }\n",
       "\n",
       "    .dataframe thead th {\n",
       "        text-align: right;\n",
       "    }\n",
       "</style>\n",
       "<table border=\"1\" class=\"dataframe\">\n",
       "  <thead>\n",
       "    <tr style=\"text-align: right;\">\n",
       "      <th></th>\n",
       "      <th>Direction 1</th>\n",
       "      <th>Direction 2</th>\n",
       "      <th>Stations</th>\n",
       "      <th>Total Dist</th>\n",
       "      <th>Min Dist</th>\n",
       "      <th>Avg Dist</th>\n",
       "      <th>Max Dist</th>\n",
       "      <th>Total Running Time</th>\n",
       "      <th>Max Running Time</th>\n",
       "    </tr>\n",
       "    <tr>\n",
       "      <th>Line</th>\n",
       "      <th></th>\n",
       "      <th></th>\n",
       "      <th></th>\n",
       "      <th></th>\n",
       "      <th></th>\n",
       "      <th></th>\n",
       "      <th></th>\n",
       "      <th></th>\n",
       "      <th></th>\n",
       "    </tr>\n",
       "  </thead>\n",
       "  <tbody>\n",
       "    <tr>\n",
       "      <th>Bakerloo</th>\n",
       "      <td>Northbound</td>\n",
       "      <td>Southbound</td>\n",
       "      <td>24</td>\n",
       "      <td>23230</td>\n",
       "      <td>370</td>\n",
       "      <td>967</td>\n",
       "      <td>1740</td>\n",
       "      <td>2521</td>\n",
       "      <td>169.0</td>\n",
       "    </tr>\n",
       "    <tr>\n",
       "      <th>Central</th>\n",
       "      <td>Eastbound</td>\n",
       "      <td>Westbound</td>\n",
       "      <td>45</td>\n",
       "      <td>67520</td>\n",
       "      <td>400</td>\n",
       "      <td>1500</td>\n",
       "      <td>3340</td>\n",
       "      <td>5279</td>\n",
       "      <td>192.0</td>\n",
       "    </tr>\n",
       "    <tr>\n",
       "      <th>Victoria</th>\n",
       "      <td>Northbound</td>\n",
       "      <td>Southbound</td>\n",
       "      <td>15</td>\n",
       "      <td>21250</td>\n",
       "      <td>740</td>\n",
       "      <td>1416</td>\n",
       "      <td>3150</td>\n",
       "      <td>1865</td>\n",
       "      <td>255.0</td>\n",
       "    </tr>\n",
       "    <tr>\n",
       "      <th>Waterloo &amp; City</th>\n",
       "      <td>Eastbound</td>\n",
       "      <td>Westbound</td>\n",
       "      <td>1</td>\n",
       "      <td>2370</td>\n",
       "      <td>2370</td>\n",
       "      <td>2370</td>\n",
       "      <td>2370</td>\n",
       "      <td>272</td>\n",
       "      <td>292.0</td>\n",
       "    </tr>\n",
       "    <tr>\n",
       "      <th>Jubilee</th>\n",
       "      <td>Eastbound</td>\n",
       "      <td>Westbound</td>\n",
       "      <td>26</td>\n",
       "      <td>36950</td>\n",
       "      <td>440</td>\n",
       "      <td>1421</td>\n",
       "      <td>2850</td>\n",
       "      <td>3058</td>\n",
       "      <td>208.0</td>\n",
       "    </tr>\n",
       "    <tr>\n",
       "      <th>Northern</th>\n",
       "      <td>Northbound</td>\n",
       "      <td>Southbound</td>\n",
       "      <td>51</td>\n",
       "      <td>57700</td>\n",
       "      <td>270</td>\n",
       "      <td>1131</td>\n",
       "      <td>2460</td>\n",
       "      <td>6100</td>\n",
       "      <td>277.0</td>\n",
       "    </tr>\n",
       "    <tr>\n",
       "      <th>Piccadilly</th>\n",
       "      <td>Eastbound</td>\n",
       "      <td>Westbound</td>\n",
       "      <td>49</td>\n",
       "      <td>66874</td>\n",
       "      <td>250</td>\n",
       "      <td>1350</td>\n",
       "      <td>4420</td>\n",
       "      <td>5961</td>\n",
       "      <td>339.0</td>\n",
       "    </tr>\n",
       "    <tr>\n",
       "      <th>Metropolitan</th>\n",
       "      <td>Eastbound</td>\n",
       "      <td>Westbound</td>\n",
       "      <td>35</td>\n",
       "      <td>87689</td>\n",
       "      <td>510</td>\n",
       "      <td>2505</td>\n",
       "      <td>11630</td>\n",
       "      <td>6962</td>\n",
       "      <td>661.0</td>\n",
       "    </tr>\n",
       "    <tr>\n",
       "      <th>H &amp; C</th>\n",
       "      <td>Eastbound</td>\n",
       "      <td>Westbound</td>\n",
       "      <td>27</td>\n",
       "      <td>25410</td>\n",
       "      <td>510</td>\n",
       "      <td>941</td>\n",
       "      <td>2290</td>\n",
       "      <td>2929</td>\n",
       "      <td>226.0</td>\n",
       "    </tr>\n",
       "    <tr>\n",
       "      <th>Circle</th>\n",
       "      <td>Inner</td>\n",
       "      <td>Outer</td>\n",
       "      <td>27</td>\n",
       "      <td>20760</td>\n",
       "      <td>310</td>\n",
       "      <td>768</td>\n",
       "      <td>1850</td>\n",
       "      <td>2548</td>\n",
       "      <td>187.0</td>\n",
       "    </tr>\n",
       "    <tr>\n",
       "      <th>District</th>\n",
       "      <td>Eastbound</td>\n",
       "      <td>Westbound</td>\n",
       "      <td>56</td>\n",
       "      <td>58460</td>\n",
       "      <td>310</td>\n",
       "      <td>1043</td>\n",
       "      <td>2370</td>\n",
       "      <td>6225</td>\n",
       "      <td>226.0</td>\n",
       "    </tr>\n",
       "    <tr>\n",
       "      <th>East London</th>\n",
       "      <td>Northbound</td>\n",
       "      <td>Southbound</td>\n",
       "      <td>7</td>\n",
       "      <td>5890</td>\n",
       "      <td>320</td>\n",
       "      <td>841</td>\n",
       "      <td>2040</td>\n",
       "      <td>716</td>\n",
       "      <td>232.0</td>\n",
       "    </tr>\n",
       "  </tbody>\n",
       "</table>\n",
       "</div>"
      ],
      "text/plain": [
       "                Direction 1 Direction 2 Stations Total Dist Min Dist Avg Dist  \\\n",
       "Line                                                                            \n",
       "Bakerloo         Northbound  Southbound       24      23230      370      967   \n",
       "Central           Eastbound   Westbound       45      67520      400     1500   \n",
       "Victoria         Northbound  Southbound       15      21250      740     1416   \n",
       "Waterloo & City   Eastbound   Westbound        1       2370     2370     2370   \n",
       "Jubilee           Eastbound   Westbound       26      36950      440     1421   \n",
       "Northern         Northbound  Southbound       51      57700      270     1131   \n",
       "Piccadilly        Eastbound   Westbound       49      66874      250     1350   \n",
       "Metropolitan      Eastbound   Westbound       35      87689      510     2505   \n",
       "H & C             Eastbound   Westbound       27      25410      510      941   \n",
       "Circle                Inner       Outer       27      20760      310      768   \n",
       "District          Eastbound   Westbound       56      58460      310     1043   \n",
       "East London      Northbound  Southbound        7       5890      320      841   \n",
       "\n",
       "                Max Dist Total Running Time  Max Running Time  \n",
       "Line                                                           \n",
       "Bakerloo            1740               2521             169.0  \n",
       "Central             3340               5279             192.0  \n",
       "Victoria            3150               1865             255.0  \n",
       "Waterloo & City     2370                272             292.0  \n",
       "Jubilee             2850               3058             208.0  \n",
       "Northern            2460               6100             277.0  \n",
       "Piccadilly          4420               5961             339.0  \n",
       "Metropolitan       11630               6962             661.0  \n",
       "H & C               2290               2929             226.0  \n",
       "Circle              1850               2548             187.0  \n",
       "District            2370               6225             226.0  \n",
       "East London         2040                716             232.0  "
      ]
     },
     "execution_count": 11,
     "metadata": {},
     "output_type": "execute_result"
    }
   ],
   "source": [
    "dl['Stations']=None\n",
    "dl['Total Dist']=None\n",
    "dl['Min Dist']=None\n",
    "dl['Avg Dist']=None\n",
    "dl['Max Dist']=None\n",
    "\n",
    "dl['Total Running Time']=None\n",
    "\n",
    "for l in lines:\n",
    "    \n",
    "    dist = dt[dt['Line']==l]['Distance']\n",
    "    dl.at[l, 'Stations']=int(dist.count()/2)\n",
    "    dl.at[l, 'Total Dist']=int(dist.sum()/2)\n",
    "    dl.at[l, 'Min Dist']=int(dist.min())\n",
    "    dl.at[l, 'Avg Dist']=int(dist.mean())\n",
    "    dl.at[l, 'Max Dist']=int(dist.max())\n",
    "    \n",
    "    time = dt[dt['Line']==l]['Running Time']\n",
    "    dl.at[l, 'Total Running Time']=int(time.sum()/2)\n",
    "    dl.at[l, 'Max Running Time']=int(time.max())\n",
    "\n",
    "dl"
   ]
  },
  {
   "cell_type": "markdown",
   "metadata": {},
   "source": [
    "Latere we will add a few columns for line specific parameters."
   ]
  },
  {
   "cell_type": "code",
   "execution_count": 12,
   "metadata": {
    "ExecuteTime": {
     "end_time": "2020-07-27T20:54:53.599728Z",
     "start_time": "2020-07-27T20:54:53.575408Z"
    },
    "scrolled": false
   },
   "outputs": [
    {
     "data": {
      "text/html": [
       "<div>\n",
       "<style scoped>\n",
       "    .dataframe tbody tr th:only-of-type {\n",
       "        vertical-align: middle;\n",
       "    }\n",
       "\n",
       "    .dataframe tbody tr th {\n",
       "        vertical-align: top;\n",
       "    }\n",
       "\n",
       "    .dataframe thead th {\n",
       "        text-align: right;\n",
       "    }\n",
       "</style>\n",
       "<table border=\"1\" class=\"dataframe\">\n",
       "  <thead>\n",
       "    <tr style=\"text-align: right;\">\n",
       "      <th></th>\n",
       "      <th>Direction 1</th>\n",
       "      <th>Direction 2</th>\n",
       "      <th>Stations</th>\n",
       "      <th>Total Dist</th>\n",
       "      <th>Min Dist</th>\n",
       "      <th>Avg Dist</th>\n",
       "      <th>Max Dist</th>\n",
       "      <th>Total Running Time</th>\n",
       "      <th>Max Running Time</th>\n",
       "      <th>max a</th>\n",
       "      <th>max v</th>\n",
       "    </tr>\n",
       "    <tr>\n",
       "      <th>Line</th>\n",
       "      <th></th>\n",
       "      <th></th>\n",
       "      <th></th>\n",
       "      <th></th>\n",
       "      <th></th>\n",
       "      <th></th>\n",
       "      <th></th>\n",
       "      <th></th>\n",
       "      <th></th>\n",
       "      <th></th>\n",
       "      <th></th>\n",
       "    </tr>\n",
       "  </thead>\n",
       "  <tbody>\n",
       "    <tr>\n",
       "      <th>Bakerloo</th>\n",
       "      <td>Northbound</td>\n",
       "      <td>Southbound</td>\n",
       "      <td>24</td>\n",
       "      <td>23230</td>\n",
       "      <td>370</td>\n",
       "      <td>967</td>\n",
       "      <td>1740</td>\n",
       "      <td>2521</td>\n",
       "      <td>169.0</td>\n",
       "      <td>0.7</td>\n",
       "      <td>25</td>\n",
       "    </tr>\n",
       "    <tr>\n",
       "      <th>Central</th>\n",
       "      <td>Eastbound</td>\n",
       "      <td>Westbound</td>\n",
       "      <td>45</td>\n",
       "      <td>67520</td>\n",
       "      <td>400</td>\n",
       "      <td>1500</td>\n",
       "      <td>3340</td>\n",
       "      <td>5279</td>\n",
       "      <td>192.0</td>\n",
       "      <td>0.7</td>\n",
       "      <td>25</td>\n",
       "    </tr>\n",
       "    <tr>\n",
       "      <th>Victoria</th>\n",
       "      <td>Northbound</td>\n",
       "      <td>Southbound</td>\n",
       "      <td>15</td>\n",
       "      <td>21250</td>\n",
       "      <td>740</td>\n",
       "      <td>1416</td>\n",
       "      <td>3150</td>\n",
       "      <td>1865</td>\n",
       "      <td>255.0</td>\n",
       "      <td>0.7</td>\n",
       "      <td>25</td>\n",
       "    </tr>\n",
       "    <tr>\n",
       "      <th>Waterloo &amp; City</th>\n",
       "      <td>Eastbound</td>\n",
       "      <td>Westbound</td>\n",
       "      <td>1</td>\n",
       "      <td>2370</td>\n",
       "      <td>2370</td>\n",
       "      <td>2370</td>\n",
       "      <td>2370</td>\n",
       "      <td>272</td>\n",
       "      <td>292.0</td>\n",
       "      <td>0.7</td>\n",
       "      <td>25</td>\n",
       "    </tr>\n",
       "    <tr>\n",
       "      <th>Jubilee</th>\n",
       "      <td>Eastbound</td>\n",
       "      <td>Westbound</td>\n",
       "      <td>26</td>\n",
       "      <td>36950</td>\n",
       "      <td>440</td>\n",
       "      <td>1421</td>\n",
       "      <td>2850</td>\n",
       "      <td>3058</td>\n",
       "      <td>208.0</td>\n",
       "      <td>0.7</td>\n",
       "      <td>25</td>\n",
       "    </tr>\n",
       "    <tr>\n",
       "      <th>Northern</th>\n",
       "      <td>Northbound</td>\n",
       "      <td>Southbound</td>\n",
       "      <td>51</td>\n",
       "      <td>57700</td>\n",
       "      <td>270</td>\n",
       "      <td>1131</td>\n",
       "      <td>2460</td>\n",
       "      <td>6100</td>\n",
       "      <td>277.0</td>\n",
       "      <td>0.7</td>\n",
       "      <td>25</td>\n",
       "    </tr>\n",
       "    <tr>\n",
       "      <th>Piccadilly</th>\n",
       "      <td>Eastbound</td>\n",
       "      <td>Westbound</td>\n",
       "      <td>49</td>\n",
       "      <td>66874</td>\n",
       "      <td>250</td>\n",
       "      <td>1350</td>\n",
       "      <td>4420</td>\n",
       "      <td>5961</td>\n",
       "      <td>339.0</td>\n",
       "      <td>0.7</td>\n",
       "      <td>25</td>\n",
       "    </tr>\n",
       "    <tr>\n",
       "      <th>Metropolitan</th>\n",
       "      <td>Eastbound</td>\n",
       "      <td>Westbound</td>\n",
       "      <td>35</td>\n",
       "      <td>87689</td>\n",
       "      <td>510</td>\n",
       "      <td>2505</td>\n",
       "      <td>11630</td>\n",
       "      <td>6962</td>\n",
       "      <td>661.0</td>\n",
       "      <td>0.8</td>\n",
       "      <td>40</td>\n",
       "    </tr>\n",
       "    <tr>\n",
       "      <th>H &amp; C</th>\n",
       "      <td>Eastbound</td>\n",
       "      <td>Westbound</td>\n",
       "      <td>27</td>\n",
       "      <td>25410</td>\n",
       "      <td>510</td>\n",
       "      <td>941</td>\n",
       "      <td>2290</td>\n",
       "      <td>2929</td>\n",
       "      <td>226.0</td>\n",
       "      <td>0.7</td>\n",
       "      <td>25</td>\n",
       "    </tr>\n",
       "    <tr>\n",
       "      <th>Circle</th>\n",
       "      <td>Inner</td>\n",
       "      <td>Outer</td>\n",
       "      <td>27</td>\n",
       "      <td>20760</td>\n",
       "      <td>310</td>\n",
       "      <td>768</td>\n",
       "      <td>1850</td>\n",
       "      <td>2548</td>\n",
       "      <td>187.0</td>\n",
       "      <td>0.7</td>\n",
       "      <td>25</td>\n",
       "    </tr>\n",
       "    <tr>\n",
       "      <th>District</th>\n",
       "      <td>Eastbound</td>\n",
       "      <td>Westbound</td>\n",
       "      <td>56</td>\n",
       "      <td>58460</td>\n",
       "      <td>310</td>\n",
       "      <td>1043</td>\n",
       "      <td>2370</td>\n",
       "      <td>6225</td>\n",
       "      <td>226.0</td>\n",
       "      <td>0.7</td>\n",
       "      <td>25</td>\n",
       "    </tr>\n",
       "    <tr>\n",
       "      <th>East London</th>\n",
       "      <td>Northbound</td>\n",
       "      <td>Southbound</td>\n",
       "      <td>7</td>\n",
       "      <td>5890</td>\n",
       "      <td>320</td>\n",
       "      <td>841</td>\n",
       "      <td>2040</td>\n",
       "      <td>716</td>\n",
       "      <td>232.0</td>\n",
       "      <td>0.7</td>\n",
       "      <td>25</td>\n",
       "    </tr>\n",
       "  </tbody>\n",
       "</table>\n",
       "</div>"
      ],
      "text/plain": [
       "                Direction 1 Direction 2 Stations Total Dist Min Dist Avg Dist  \\\n",
       "Line                                                                            \n",
       "Bakerloo         Northbound  Southbound       24      23230      370      967   \n",
       "Central           Eastbound   Westbound       45      67520      400     1500   \n",
       "Victoria         Northbound  Southbound       15      21250      740     1416   \n",
       "Waterloo & City   Eastbound   Westbound        1       2370     2370     2370   \n",
       "Jubilee           Eastbound   Westbound       26      36950      440     1421   \n",
       "Northern         Northbound  Southbound       51      57700      270     1131   \n",
       "Piccadilly        Eastbound   Westbound       49      66874      250     1350   \n",
       "Metropolitan      Eastbound   Westbound       35      87689      510     2505   \n",
       "H & C             Eastbound   Westbound       27      25410      510      941   \n",
       "Circle                Inner       Outer       27      20760      310      768   \n",
       "District          Eastbound   Westbound       56      58460      310     1043   \n",
       "East London      Northbound  Southbound        7       5890      320      841   \n",
       "\n",
       "                Max Dist Total Running Time  Max Running Time  max a  max v  \n",
       "Line                                                                         \n",
       "Bakerloo            1740               2521             169.0    0.7     25  \n",
       "Central             3340               5279             192.0    0.7     25  \n",
       "Victoria            3150               1865             255.0    0.7     25  \n",
       "Waterloo & City     2370                272             292.0    0.7     25  \n",
       "Jubilee             2850               3058             208.0    0.7     25  \n",
       "Northern            2460               6100             277.0    0.7     25  \n",
       "Piccadilly          4420               5961             339.0    0.7     25  \n",
       "Metropolitan       11630               6962             661.0    0.8     40  \n",
       "H & C               2290               2929             226.0    0.7     25  \n",
       "Circle              1850               2548             187.0    0.7     25  \n",
       "District            2370               6225             226.0    0.7     25  \n",
       "East London         2040                716             232.0    0.7     25  "
      ]
     },
     "execution_count": 12,
     "metadata": {},
     "output_type": "execute_result"
    }
   ],
   "source": [
    "dl['max a']=0.7\n",
    "dl['max v']=25\n",
    "\n",
    "dl.at['Metropolitan', 'max a'] = 0.8\n",
    "dl.at['Metropolitan', 'max v'] = 40\n",
    "dl"
   ]
  },
  {
   "cell_type": "markdown",
   "metadata": {},
   "source": [
    "## Convert Runtime into Expected Drive Time and Dwell Time"
   ]
  },
  {
   "cell_type": "markdown",
   "metadata": {},
   "source": [
    "Physics Calculation: time to travel a given distance based on acceleration and max velocity"
   ]
  },
  {
   "cell_type": "code",
   "execution_count": 13,
   "metadata": {
    "ExecuteTime": {
     "end_time": "2020-07-27T20:54:55.214148Z",
     "start_time": "2020-07-27T20:54:55.209414Z"
    }
   },
   "outputs": [],
   "source": [
    "def timeTo(a, maxV, d):\n",
    "    # a       constant acceleration, m/s²\n",
    "    # maxV    maximumum velocity, m/s\n",
    "    # d       distance, km\n",
    "    # return  time in seconds required to travel\n",
    "    # \n",
    "    ta = maxV/a         # time to accelerate to maxV\n",
    "    da = a*ta**2        # distance traveled during acceleration from 0 to maxV and back to 0\n",
    "    if (d < da):        # train never reaches full speed?\n",
    "        return np.sqrt(4.0*d/a)     # time needed to accelerate to half-way point then decelerate to destination\n",
    "    else:\n",
    "        return 2*ta + (d-da)/maxV   # time to accelerate to maxV plus travel at maxV plus decelerate to destination"
   ]
  },
  {
   "cell_type": "code",
   "execution_count": 14,
   "metadata": {
    "ExecuteTime": {
     "end_time": "2020-07-27T20:54:55.279148Z",
     "start_time": "2020-07-27T20:54:55.217000Z"
    }
   },
   "outputs": [],
   "source": [
    "dt['Drive Time'] = None\n",
    "for i in range(len(dt)):\n",
    "    dist = dt.at[i, 'Distance']\n",
    "    l = dt.at[i, 'Line']\n",
    "    a = dl.at[l, 'max a']\n",
    "    v = dl.at[l, 'max v']\n",
    "    dt.at[i, 'Drive Time']=int(timeTo(a, v, dist))"
   ]
  },
  {
   "cell_type": "code",
   "execution_count": 15,
   "metadata": {
    "ExecuteTime": {
     "end_time": "2020-07-27T20:54:55.287671Z",
     "start_time": "2020-07-27T20:54:55.281828Z"
    }
   },
   "outputs": [],
   "source": [
    "dt['Dwell Time']=dt['Running Time']-dt['Drive Time']"
   ]
  },
  {
   "cell_type": "code",
   "execution_count": 16,
   "metadata": {
    "ExecuteTime": {
     "end_time": "2020-07-27T20:54:55.294378Z",
     "start_time": "2020-07-27T20:54:55.290204Z"
    }
   },
   "outputs": [],
   "source": [
    "dt['Peak Dwell Time']=dt['Peak Running Time']-dt['Drive Time']"
   ]
  },
  {
   "cell_type": "code",
   "execution_count": 17,
   "metadata": {
    "ExecuteTime": {
     "end_time": "2020-07-27T20:54:55.300829Z",
     "start_time": "2020-07-27T20:54:55.296713Z"
    }
   },
   "outputs": [],
   "source": [
    "dt['Off-Peak Dwell Time']=dt['Off-Peak Running Time']-dt['Drive Time']"
   ]
  },
  {
   "cell_type": "code",
   "execution_count": 18,
   "metadata": {
    "ExecuteTime": {
     "end_time": "2020-07-27T20:54:55.308165Z",
     "start_time": "2020-07-27T20:54:55.302849Z"
    }
   },
   "outputs": [],
   "source": [
    "dt=dt.drop(columns=['Running Time', 'Peak Running Time', 'Off-Peak Running Time'])"
   ]
  },
  {
   "cell_type": "code",
   "execution_count": 19,
   "metadata": {
    "ExecuteTime": {
     "end_time": "2020-07-27T20:54:55.324073Z",
     "start_time": "2020-07-27T20:54:55.311371Z"
    }
   },
   "outputs": [
    {
     "data": {
      "text/html": [
       "<div>\n",
       "<style scoped>\n",
       "    .dataframe tbody tr th:only-of-type {\n",
       "        vertical-align: middle;\n",
       "    }\n",
       "\n",
       "    .dataframe tbody tr th {\n",
       "        vertical-align: top;\n",
       "    }\n",
       "\n",
       "    .dataframe thead th {\n",
       "        text-align: right;\n",
       "    }\n",
       "</style>\n",
       "<table border=\"1\" class=\"dataframe\">\n",
       "  <thead>\n",
       "    <tr style=\"text-align: right;\">\n",
       "      <th></th>\n",
       "      <th>Line</th>\n",
       "      <th>Direction</th>\n",
       "      <th>From</th>\n",
       "      <th>To</th>\n",
       "      <th>Distance</th>\n",
       "      <th>Drive Time</th>\n",
       "      <th>Dwell Time</th>\n",
       "      <th>Peak Dwell Time</th>\n",
       "      <th>Off-Peak Dwell Time</th>\n",
       "    </tr>\n",
       "  </thead>\n",
       "  <tbody>\n",
       "    <tr>\n",
       "      <th>0</th>\n",
       "      <td>Bakerloo</td>\n",
       "      <td>Southbound</td>\n",
       "      <td>HARROW &amp; WEALDSTONE</td>\n",
       "      <td>KENTON</td>\n",
       "      <td>1740</td>\n",
       "      <td>105</td>\n",
       "      <td>28</td>\n",
       "      <td>45</td>\n",
       "      <td>45</td>\n",
       "    </tr>\n",
       "    <tr>\n",
       "      <th>1</th>\n",
       "      <td>Bakerloo</td>\n",
       "      <td>Southbound</td>\n",
       "      <td>KENTON</td>\n",
       "      <td>SOUTH KENTON</td>\n",
       "      <td>1400</td>\n",
       "      <td>91</td>\n",
       "      <td>21</td>\n",
       "      <td>29</td>\n",
       "      <td>29</td>\n",
       "    </tr>\n",
       "    <tr>\n",
       "      <th>2</th>\n",
       "      <td>Bakerloo</td>\n",
       "      <td>Southbound</td>\n",
       "      <td>SOUTH KENTON</td>\n",
       "      <td>NORTH WEMBLEY</td>\n",
       "      <td>900</td>\n",
       "      <td>71</td>\n",
       "      <td>19</td>\n",
       "      <td>19</td>\n",
       "      <td>19</td>\n",
       "    </tr>\n",
       "    <tr>\n",
       "      <th>3</th>\n",
       "      <td>Bakerloo</td>\n",
       "      <td>Southbound</td>\n",
       "      <td>NORTH WEMBLEY</td>\n",
       "      <td>WEMBLEY CENTRAL</td>\n",
       "      <td>1270</td>\n",
       "      <td>86</td>\n",
       "      <td>29</td>\n",
       "      <td>37</td>\n",
       "      <td>37</td>\n",
       "    </tr>\n",
       "    <tr>\n",
       "      <th>4</th>\n",
       "      <td>Bakerloo</td>\n",
       "      <td>Southbound</td>\n",
       "      <td>WEMBLEY CENTRAL</td>\n",
       "      <td>STONEBRIDGE PARK</td>\n",
       "      <td>1710</td>\n",
       "      <td>104</td>\n",
       "      <td>29</td>\n",
       "      <td>83</td>\n",
       "      <td>83</td>\n",
       "    </tr>\n",
       "  </tbody>\n",
       "</table>\n",
       "</div>"
      ],
      "text/plain": [
       "       Line   Direction                 From                To  Distance  \\\n",
       "0  Bakerloo  Southbound  HARROW & WEALDSTONE            KENTON      1740   \n",
       "1  Bakerloo  Southbound               KENTON      SOUTH KENTON      1400   \n",
       "2  Bakerloo  Southbound         SOUTH KENTON     NORTH WEMBLEY       900   \n",
       "3  Bakerloo  Southbound        NORTH WEMBLEY   WEMBLEY CENTRAL      1270   \n",
       "4  Bakerloo  Southbound      WEMBLEY CENTRAL  STONEBRIDGE PARK      1710   \n",
       "\n",
       "  Drive Time Dwell Time Peak Dwell Time Off-Peak Dwell Time  \n",
       "0        105         28              45                  45  \n",
       "1         91         21              29                  29  \n",
       "2         71         19              19                  19  \n",
       "3         86         29              37                  37  \n",
       "4        104         29              83                  83  "
      ]
     },
     "execution_count": 19,
     "metadata": {},
     "output_type": "execute_result"
    }
   ],
   "source": [
    "dt.head()"
   ]
  },
  {
   "cell_type": "markdown",
   "metadata": {},
   "source": [
    "# Exploratory Data Analysis"
   ]
  },
  {
   "cell_type": "markdown",
   "metadata": {},
   "source": [
    "## Distance Between Stations (m)"
   ]
  },
  {
   "cell_type": "code",
   "execution_count": 20,
   "metadata": {
    "ExecuteTime": {
     "end_time": "2020-07-27T20:54:56.847651Z",
     "start_time": "2020-07-27T20:54:56.842156Z"
    }
   },
   "outputs": [
    {
     "data": {
      "text/plain": [
       "250"
      ]
     },
     "execution_count": 20,
     "metadata": {},
     "output_type": "execute_result"
    }
   ],
   "source": [
    "dt['Distance'].min()"
   ]
  },
  {
   "cell_type": "code",
   "execution_count": 21,
   "metadata": {
    "ExecuteTime": {
     "end_time": "2020-07-27T20:54:56.855440Z",
     "start_time": "2020-07-27T20:54:56.850549Z"
    }
   },
   "outputs": [
    {
     "data": {
      "text/plain": [
       "11630"
      ]
     },
     "execution_count": 21,
     "metadata": {},
     "output_type": "execute_result"
    }
   ],
   "source": [
    "dt['Distance'].max()"
   ]
  },
  {
   "cell_type": "code",
   "execution_count": 22,
   "metadata": {
    "ExecuteTime": {
     "end_time": "2020-07-27T20:54:56.863317Z",
     "start_time": "2020-07-27T20:54:56.858533Z"
    }
   },
   "outputs": [
    {
     "data": {
      "text/plain": [
       "1304.2723521320495"
      ]
     },
     "execution_count": 22,
     "metadata": {},
     "output_type": "execute_result"
    }
   ],
   "source": [
    "dt['Distance'].mean()"
   ]
  },
  {
   "cell_type": "code",
   "execution_count": 23,
   "metadata": {
    "ExecuteTime": {
     "end_time": "2020-07-27T20:54:57.224424Z",
     "start_time": "2020-07-27T20:54:56.865477Z"
    }
   },
   "outputs": [
    {
     "data": {
      "text/plain": [
       "<matplotlib.axes._subplots.AxesSubplot at 0x1a209d1b50>"
      ]
     },
     "execution_count": 23,
     "metadata": {},
     "output_type": "execute_result"
    },
    {
     "data": {
      "image/png": "[encoded data removed]",
      "text/plain": [
       "<Figure size 432x288 with 1 Axes>"
      ]
     },
     "metadata": {
      "needs_background": "light"
     },
     "output_type": "display_data"
    }
   ],
   "source": [
    "dt['Distance'].hist(bins=np.linspace(0, 12000, 49))"
   ]
  },
  {
   "cell_type": "markdown",
   "metadata": {},
   "source": [
    "## Drive Time between Stations (s)"
   ]
  },
  {
   "cell_type": "code",
   "execution_count": 24,
   "metadata": {
    "ExecuteTime": {
     "end_time": "2020-07-27T20:54:57.435769Z",
     "start_time": "2020-07-27T20:54:57.430059Z"
    }
   },
   "outputs": [
    {
     "data": {
      "text/plain": [
       "37"
      ]
     },
     "execution_count": 24,
     "metadata": {},
     "output_type": "execute_result"
    }
   ],
   "source": [
    "dt['Drive Time'].min()"
   ]
  },
  {
   "cell_type": "code",
   "execution_count": 25,
   "metadata": {
    "ExecuteTime": {
     "end_time": "2020-07-27T20:54:57.443378Z",
     "start_time": "2020-07-27T20:54:57.438481Z"
    }
   },
   "outputs": [
    {
     "data": {
      "text/plain": [
       "340"
      ]
     },
     "execution_count": 25,
     "metadata": {},
     "output_type": "execute_result"
    }
   ],
   "source": [
    "dt['Drive Time'].max()"
   ]
  },
  {
   "cell_type": "code",
   "execution_count": 26,
   "metadata": {
    "ExecuteTime": {
     "end_time": "2020-07-27T20:54:57.760156Z",
     "start_time": "2020-07-27T20:54:57.446219Z"
    }
   },
   "outputs": [
    {
     "data": {
      "text/plain": [
       "<matplotlib.axes._subplots.AxesSubplot at 0x1a212e5190>"
      ]
     },
     "execution_count": 26,
     "metadata": {},
     "output_type": "execute_result"
    },
    {
     "data": {
      "image/png": "[encoded data removed]",
      "text/plain": [
       "<Figure size 432x288 with 1 Axes>"
      ]
     },
     "metadata": {
      "needs_background": "light"
     },
     "output_type": "display_data"
    }
   ],
   "source": [
    "dt['Drive Time'].hist(bins=np.linspace(0, 500, 51))"
   ]
  },
  {
   "cell_type": "markdown",
   "metadata": {},
   "source": [
    "## Dwell Times (s)"
   ]
  },
  {
   "cell_type": "code",
   "execution_count": 27,
   "metadata": {
    "ExecuteTime": {
     "end_time": "2020-07-27T20:54:58.027061Z",
     "start_time": "2020-07-27T20:54:58.022268Z"
    }
   },
   "outputs": [
    {
     "data": {
      "text/plain": [
       "10"
      ]
     },
     "execution_count": 27,
     "metadata": {},
     "output_type": "execute_result"
    }
   ],
   "source": [
    "dt['Peak Dwell Time'].min()"
   ]
  },
  {
   "cell_type": "code",
   "execution_count": 28,
   "metadata": {
    "ExecuteTime": {
     "end_time": "2020-07-27T20:54:58.035098Z",
     "start_time": "2020-07-27T20:54:58.030172Z"
    }
   },
   "outputs": [
    {
     "data": {
      "text/plain": [
       "350"
      ]
     },
     "execution_count": 28,
     "metadata": {},
     "output_type": "execute_result"
    }
   ],
   "source": [
    "dt['Peak Dwell Time'].max()"
   ]
  },
  {
   "cell_type": "code",
   "execution_count": 29,
   "metadata": {
    "ExecuteTime": {
     "end_time": "2020-07-27T20:54:58.043684Z",
     "start_time": "2020-07-27T20:54:58.038141Z"
    }
   },
   "outputs": [
    {
     "data": {
      "text/plain": [
       "61.06189821182944"
      ]
     },
     "execution_count": 29,
     "metadata": {},
     "output_type": "execute_result"
    }
   ],
   "source": [
    "dt['Peak Dwell Time'].mean()"
   ]
  },
  {
   "cell_type": "code",
   "execution_count": 30,
   "metadata": {
    "ExecuteTime": {
     "end_time": "2020-07-27T20:54:58.052147Z",
     "start_time": "2020-07-27T20:54:58.046656Z"
    }
   },
   "outputs": [
    {
     "data": {
      "text/plain": [
       "43.48164196678141"
      ]
     },
     "execution_count": 30,
     "metadata": {},
     "output_type": "execute_result"
    }
   ],
   "source": [
    "dt['Peak Dwell Time'].std()"
   ]
  },
  {
   "cell_type": "code",
   "execution_count": 31,
   "metadata": {
    "ExecuteTime": {
     "end_time": "2020-07-27T20:54:58.382958Z",
     "start_time": "2020-07-27T20:54:58.054392Z"
    },
    "scrolled": true
   },
   "outputs": [
    {
     "data": {
      "text/plain": [
       "<matplotlib.axes._subplots.AxesSubplot at 0x1a214795d0>"
      ]
     },
     "execution_count": 31,
     "metadata": {},
     "output_type": "execute_result"
    },
    {
     "data": {
      "image/png": "[encoded data removed]",
      "text/plain": [
       "<Figure size 432x288 with 1 Axes>"
      ]
     },
     "metadata": {
      "needs_background": "light"
     },
     "output_type": "display_data"
    }
   ],
   "source": [
    "dt['Peak Dwell Time'].hist(bins=np.linspace(0, 300, 61))"
   ]
  },
  {
   "cell_type": "code",
   "execution_count": 32,
   "metadata": {
    "ExecuteTime": {
     "end_time": "2020-07-27T20:54:58.389560Z",
     "start_time": "2020-07-27T20:54:58.385008Z"
    }
   },
   "outputs": [
    {
     "data": {
      "text/plain": [
       "10"
      ]
     },
     "execution_count": 32,
     "metadata": {},
     "output_type": "execute_result"
    }
   ],
   "source": [
    "dt['Off-Peak Dwell Time'].min()"
   ]
  },
  {
   "cell_type": "code",
   "execution_count": 33,
   "metadata": {
    "ExecuteTime": {
     "end_time": "2020-07-27T20:54:58.397498Z",
     "start_time": "2020-07-27T20:54:58.392994Z"
    }
   },
   "outputs": [
    {
     "data": {
      "text/plain": [
       "350"
      ]
     },
     "execution_count": 33,
     "metadata": {},
     "output_type": "execute_result"
    }
   ],
   "source": [
    "dt['Off-Peak Dwell Time'].max()"
   ]
  },
  {
   "cell_type": "code",
   "execution_count": 34,
   "metadata": {
    "ExecuteTime": {
     "end_time": "2020-07-27T20:54:58.681864Z",
     "start_time": "2020-07-27T20:54:58.399782Z"
    }
   },
   "outputs": [
    {
     "data": {
      "text/plain": [
       "<matplotlib.axes._subplots.AxesSubplot at 0x1a215be950>"
      ]
     },
     "execution_count": 34,
     "metadata": {},
     "output_type": "execute_result"
    },
    {
     "data": {
      "image/png": "[encoded data removed]",
      "text/plain": [
       "<Figure size 432x288 with 1 Axes>"
      ]
     },
     "metadata": {
      "needs_background": "light"
     },
     "output_type": "display_data"
    }
   ],
   "source": [
    "dt['Off-Peak Dwell Time'].hist(bins=np.linspace(0, 300, 31))"
   ]
  },
  {
   "cell_type": "markdown",
   "metadata": {},
   "source": [
    "# Modelling"
   ]
  },
  {
   "cell_type": "markdown",
   "metadata": {},
   "source": [
    "Components of the system will be described by Python classes. The parameters are passed as data frames.\n",
    "\n",
    "We assume that the global variable `env` is initialised before any component of the system is actually generated."
   ]
  },
  {
   "cell_type": "markdown",
   "metadata": {},
   "source": [
    "## The Infrastructure (Stations, Depots etc)"
   ]
  },
  {
   "cell_type": "markdown",
   "metadata": {},
   "source": [
    "The class NetworkNode is used as the common base class for all infrastructure classes. Each NetworkNode (like a station) has a name and belongs to a track, i.e. a line and a direction."
   ]
  },
  {
   "cell_type": "code",
   "execution_count": 35,
   "metadata": {
    "ExecuteTime": {
     "end_time": "2020-07-27T20:55:00.463551Z",
     "start_time": "2020-07-27T20:55:00.448099Z"
    }
   },
   "outputs": [],
   "source": [
    "class NetworkNode:\n",
    "    \n",
    "    def __init__(self, location, line):\n",
    "        self.location=location\n",
    "        self.line=line\n",
    "        self.tracing=False\n",
    "        self.incidents=[]\n",
    "\n",
    "    # is only used in connection with tracing\n",
    "    def setTrack(self, track):\n",
    "        self.track=track\n",
    "        \n",
    "    def isTracing(self):\n",
    "        return self.tracing and self.track.isTracing()\n",
    "    \n",
    "    def trace(self):\n",
    "        self.tracing=True\n",
    "        \n",
    "    def trace_prefix(self, train):\n",
    "        global max_line_name_length\n",
    "        global max_direction_length\n",
    "        return f\"{now():s} \" \\\n",
    "               f\"{self.line:{max_line_name_length}s} \" \\\n",
    "               f\"[Train {train.getNo():2d} \" \\\n",
    "               f\"{train.getDirection():{max_direction_length}s}]\"\n",
    "    \n",
    "    def arr(self, train):\n",
    "        if self.isTracing() and train.isTracing():\n",
    "            print(f\"{self.trace_prefix(train):s} arr {self.loc():s}\")        \n",
    "\n",
    "    def dep(self, train, dest):\n",
    "        if self.isTracing() and train.isTracing():\n",
    "            print(f\"{self.trace_prefix(train):s} dep {self.loc():s} for {dest.loc():s}\")\n",
    "        \n",
    "    def loc(self):\n",
    "        return self.location\n",
    "    \n",
    "    def __str__(self):\n",
    "        return self.location\n",
    "    \n",
    "\n",
    "    def getResource(self):\n",
    "        pass\n",
    "    \n",
    "    # NEW: Incident Handling\n",
    "    # trace output for incident\n",
    "    def inc(self, train):\n",
    "        if self.isTracing() or train.isTracing():\n",
    "            delay=self.incidentDelay()\n",
    "            message=f\"expected delay {daytime(delay):s}\" if delay>0 else \"incident cleared\"\n",
    "            print(f\"{self.trace_prefix(train):s} inc {self.loc():s} {message:s}\")        \n",
    "            \n",
    "    # registers an incident\n",
    "    def registerIncident(self, incident):\n",
    "        self.incidents+=[incident]\n",
    "        \n",
    "    # checks if there is currently an incident in progress\n",
    "    # if yes, it returns True otherwise False\n",
    "    def isIncident(self):\n",
    "        for inc in self.incidents:\n",
    "            if inc.active():\n",
    "                return True\n",
    "        return False\n",
    "        \n",
    "    # if there is currently an incident in progress it returns\n",
    "    # the time the incident will probably continue, otherwise it returns 0\n",
    "    def incidentDelay(self):\n",
    "        stopTime=0\n",
    "        for incident in self.incidents:\n",
    "            if incident.active():\n",
    "                stopTime=max(stopTime, incident.stopTime())\n",
    "        return 0 if stopTime==0 else stopTime-env.now"
   ]
  },
  {
   "cell_type": "markdown",
   "metadata": {},
   "source": [
    "### Depots"
   ]
  },
  {
   "cell_type": "markdown",
   "metadata": {},
   "source": [
    "A train depot serves a line and feeds trains into a particular direction."
   ]
  },
  {
   "cell_type": "code",
   "execution_count": 36,
   "metadata": {
    "ExecuteTime": {
     "end_time": "2020-07-27T20:55:01.629095Z",
     "start_time": "2020-07-27T20:55:01.622258Z"
    }
   },
   "outputs": [],
   "source": [
    "class Depot(NetworkNode):\n",
    "    def __init__(self, location, line, direction):\n",
    "        super().__init__(location+\" (DEPOT)\", line)\n",
    "        self.direction=direction\n",
    "        \n",
    "    def driveTime(self):\n",
    "        return 20\n",
    "    \n",
    "    def dwellTime(self):\n",
    "        return 10\n",
    "    \n",
    "    def dep(self, train, dest):\n",
    "        train.setDirection(self.direction)\n",
    "        super().dep(train, dest)\n",
    "        \n",
    "    def getResource(self):\n",
    "        return None"
   ]
  },
  {
   "cell_type": "markdown",
   "metadata": {},
   "source": [
    "### Stations"
   ]
  },
  {
   "cell_type": "markdown",
   "metadata": {},
   "source": [
    "A Station object describes a track in a physical station. Hence we use a station object for each of the directions of a line going through the station. \n",
    "\n",
    "Normally we have therefore two stations in a location. When two lines are crossing at an interchange, we will have actually 4 station objects sharing the same common name: two (for each direction) for each of the lines.  As such a \"station\" in our terminology is more like a platform or a track in a real life station.\n",
    "\n",
    "The common name of the physical station can be accessed as `loc()`. "
   ]
  },
  {
   "cell_type": "code",
   "execution_count": 37,
   "metadata": {
    "ExecuteTime": {
     "end_time": "2020-07-27T20:55:02.852872Z",
     "start_time": "2020-07-27T20:55:02.842770Z"
    }
   },
   "outputs": [],
   "source": [
    "class Station(NetworkNode):\n",
    "    def __init__(self, location, line, direction):\n",
    "        super().__init__(location, line)\n",
    "        self.location=location\n",
    "        self.line=line\n",
    "        self.direction=direction\n",
    "        self.resource=simpy.Resource(env, capacity=1)\n",
    "        \n",
    "        dd=dt[dt['Line']==self.line]\n",
    "        dd=dd[dd['Direction']==self.direction]\n",
    "        dd=dd[dd['From']==location]\n",
    "        \n",
    "        if len(dd)==0:\n",
    "            # last node in a direction, the last passengers leave the train\n",
    "            # and the train moves into the Cross-Over or the Depot\n",
    "            self.drive_time=20\n",
    "            self.off_peak_dwell_time=60\n",
    "            self.peak_dwell_time=60\n",
    "        else:\n",
    "            self.drive_time=dd.iloc[0].at['Drive Time']\n",
    "            self.off_peak_dwell_time=dd.iloc[0].at['Off-Peak Dwell Time']\n",
    "            self.peak_dwell_time=dd.iloc[0].at['Peak Dwell Time']\n",
    "\n",
    "    def driveTime(self):\n",
    "        return self.drive_time\n",
    "    \n",
    "    def dwellTime(self):\n",
    "        return self.peak_dwell_time if isPeakTime() else self.off_peak_dwell_time\n",
    "    \n",
    "    def __str__(self):\n",
    "        return self.location + \" (\" + self.direction[0] + \")\"\n",
    "\n",
    "    def getResource(self):\n",
    "        return self.resource"
   ]
  },
  {
   "cell_type": "markdown",
   "metadata": {},
   "source": [
    "### Cross-Overs"
   ]
  },
  {
   "cell_type": "markdown",
   "metadata": {},
   "source": [
    "A cross over node is attached to the last station at the end of a line and allows trains to switch direction. \n",
    "A cross over node shares the location name and the line with the station it is attached to, however is serves actually both directions. A cross over node may have a limited capacity holding trains.\n",
    "\n",
    "The drive time (in and out of the cross over node) is assumed as a fixed constant, as is the dwell time in the cross over node. These parameters could in the future also be stored in the line table."
   ]
  },
  {
   "cell_type": "code",
   "execution_count": 38,
   "metadata": {
    "ExecuteTime": {
     "end_time": "2020-07-27T20:55:04.091137Z",
     "start_time": "2020-07-27T20:55:04.084860Z"
    }
   },
   "outputs": [],
   "source": [
    "class CrossOver(NetworkNode):\n",
    "    def __init__(self, location, line, direction, capacity=2):\n",
    "        super().__init__(location+\" (X)\", line)\n",
    "        self.direction=direction\n",
    "        self.resource=simpy.Resource(env, capacity=2)\n",
    "        \n",
    "    def driveTime(self):\n",
    "        return 20\n",
    "    \n",
    "    def dwellTime(self):\n",
    "        return 300\n",
    "    \n",
    "    def dep(self, train, dest):\n",
    "        train.setDirection(self.direction)\n",
    "        super().dep(train, dest)\n",
    "        \n",
    "    def getResource(self):\n",
    "        return self.resource"
   ]
  },
  {
   "cell_type": "markdown",
   "metadata": {},
   "source": [
    "## The Network"
   ]
  },
  {
   "cell_type": "markdown",
   "metadata": {},
   "source": [
    "A track describes a direction of a line. The parameters describing a track are:\n",
    "- The start and stop times of the line (for example 6:00 to 23:00),\n",
    "- The time between trains (for example every 5 minutes), but this may vary during the day.\n",
    "\n",
    "The parameters for a line will later be taken from the line table. For the time being we use a simple procedure running the simulation of a single track."
   ]
  },
  {
   "cell_type": "code",
   "execution_count": 39,
   "metadata": {
    "ExecuteTime": {
     "end_time": "2020-07-27T20:55:05.332102Z",
     "start_time": "2020-07-27T20:55:05.313026Z"
    }
   },
   "outputs": [],
   "source": [
    "class Track(object):\n",
    "    def __init__(self, network, line, direction, depot, stations):\n",
    "        self.network=network\n",
    "        self.line=line\n",
    "        self.direction=direction\n",
    "\n",
    "        # extract line specific parameters\n",
    "        self.start = dl.at[line, 'start']\n",
    "        self.stop  = dl.at[line, 'stop']\n",
    "        self.freq  = dl.at[line, 'freq']\n",
    "        \n",
    "        self.track=[depot]+stations+[depot]\n",
    "        for s in self.track:\n",
    "            s.setTrack(self)\n",
    "            \n",
    "        self.tracing=False\n",
    "        self.tracingTrains=False\n",
    "        self.tracingTrainNos=[]\n",
    "    \n",
    "    def isTracing(self):\n",
    "        return self.tracing and self.network.isTracing()\n",
    "\n",
    "    def isTracingTrains(self):\n",
    "        return self.tracingTrains and self.network.isTracing()\n",
    "    \n",
    "    def trace(self, loc=None, train=None):\n",
    "        self.tracing=True\n",
    "        if loc is None:\n",
    "            for s in self.track:\n",
    "                s.trace()\n",
    "            if train is not None:\n",
    "                self.tracingTrains=True\n",
    "                self.tracingTrainNos.append(train)\n",
    "        else:\n",
    "            for s in self.track:\n",
    "                if s.loc()==loc:\n",
    "                    s.trace()\n",
    "            if train is not None:\n",
    "                self.tracingTrains=True\n",
    "                self.tracingTrainNos.append(train)\n",
    "\n",
    "    def getNetwork(self):\n",
    "        return self.network\n",
    "    \n",
    "    def getLine(self):\n",
    "        return self.line\n",
    "    \n",
    "    def getName(self):\n",
    "        if self.direction is None:\n",
    "            return self.line\n",
    "        else:\n",
    "            return self.line + \" (\"+self.direction+\")\"\n",
    "    \n",
    "    def getStations(self):\n",
    "        return self.track\n",
    "    \n",
    "    def process(self):\n",
    "        yield env.timeout(self.start-env.now) # the line starts operating at 6am\n",
    "        for i in range(int((self.stop-self.start)/self.freq)):\n",
    "            t=Train(i, self)\n",
    "            if self.tracingTrains and i in self.tracingTrainNos:\n",
    "                t.trace()\n",
    "            env.process(t.process())\n",
    "            yield env.timeout(self.freq)     \n",
    "            \n",
    "    def __str__(self):\n",
    "        direction = \"\" if self.direction is None else \" (\"+self.direction+\")\"\n",
    "        stations = \" - \".join([ str(s) for s in self.track ])\n",
    "        return self.line + direction + \": \" + stations"
   ]
  },
  {
   "cell_type": "code",
   "execution_count": 40,
   "metadata": {
    "ExecuteTime": {
     "end_time": "2020-07-27T20:55:05.340336Z",
     "start_time": "2020-07-27T20:55:05.335272Z"
    }
   },
   "outputs": [],
   "source": [
    "def allStations(line, direction):\n",
    "    dl=dt[dt['Line']==line]\n",
    "    ds=dl[dl['Direction']==direction]\n",
    "    stations=ds['From'].to_list()\n",
    "    stations+=[ds['To'].to_list()[-1]]\n",
    "    return [ Station(s, line, direction) for s in stations ]"
   ]
  },
  {
   "cell_type": "code",
   "execution_count": 41,
   "metadata": {
    "ExecuteTime": {
     "end_time": "2020-07-27T20:55:05.356017Z",
     "start_time": "2020-07-27T20:55:05.343621Z"
    }
   },
   "outputs": [],
   "source": [
    "def allTracks(network):\n",
    "    lines=[]\n",
    "    for line in dt['Line'].unique():\n",
    "        directions=dt[dt['Line']==line]['Direction'].unique()\n",
    "        stations=[ allStations(line, d) for d in directions]\n",
    "        \n",
    "        if stations[0][0].loc()==stations[0][-1].loc() and \\\n",
    "                stations[1][0].loc()==stations[1][-1].loc():\n",
    "            # create inner circular tracks\n",
    "            depot = Depot(stations[0][0].loc(), line, directions[0])\n",
    "            l = Track(network, line, directions[0], depot, stations[0])\n",
    "            lines += [l]\n",
    "            \n",
    "            # create outer circular tracks\n",
    "            depot = Depot(stations[1][0].loc(), line, directions[1])\n",
    "            l = Track(network, line, directions[1], depot, stations[1])\n",
    "            lines += [l]\n",
    "        \n",
    "        elif stations[0][-1].loc()==stations[1][0].loc() and \\\n",
    "                stations[0][0].loc()==stations[1][-1].loc():\n",
    "            # create linear track combining both directions with cross-over node\n",
    "            depot = Depot(stations[0][0].loc(), line, directions[0])\n",
    "            x = CrossOver(stations[0][-1].loc(), line, directions[1])\n",
    "            l = Track(network, line, None, depot, stations[0]+[x]+stations[1])\n",
    "            lines+=[l]\n",
    "\n",
    "    return lines"
   ]
  },
  {
   "cell_type": "code",
   "execution_count": 42,
   "metadata": {
    "ExecuteTime": {
     "end_time": "2020-07-27T20:55:05.371630Z",
     "start_time": "2020-07-27T20:55:05.358856Z"
    }
   },
   "outputs": [],
   "source": [
    "class Network(object):\n",
    "    def __init__(self):\n",
    "        self.tracks=allTracks(self)\n",
    "        \n",
    "        self.tracing=False\n",
    "        self.tracingStart=None\n",
    "        self.tracingStop=None\n",
    "        \n",
    "    def getTracks(self):\n",
    "        return self.tracks\n",
    "    \n",
    "    def isTracing(self):\n",
    "        return self.tracing and \\\n",
    "                (self.tracingStart is None or self.tracingStart<=env.now) and \\\n",
    "                (self.tracingStop is None or env.now <= self.tracingStop)\n",
    "    \n",
    "    def trace(self, line=None, loc=None, train=None, start=None, stop=None):\n",
    "        self.tracing = True\n",
    "        self.tracingStart = parseTime(start)\n",
    "        self.tracingStop = parseTime(stop)\n",
    "        if line is None:\n",
    "            for t in self.tracks:\n",
    "                t.trace(loc=loc, train=train)\n",
    "        else:\n",
    "            for t in self.tracks:\n",
    "                if t.getLine()==line:\n",
    "                    t.trace(loc=loc, train=train)\n",
    "    \n",
    "    def registerIncident(self, start, stop, line=None, direction=None, loc=None):\n",
    "        incident = Incident(start, stop)\n",
    "        for t in self.tracks:\n",
    "            if line is None or t.getLine()==line:\n",
    "                for s in t.getStations():\n",
    "                    if direction is None or s.getDirection()==direction:\n",
    "                        if loc is None or s.loc()==loc:\n",
    "                            s.registerIncident(incident)\n",
    "    \n",
    "    def process(self):\n",
    "        for t in self.tracks:\n",
    "            # the process method has to be a generator, therefore we are\n",
    "            # adding a meaningless timeout\n",
    "            yield env.timeout(0)\n",
    "            env.process(t.process())\n",
    "            "
   ]
  },
  {
   "cell_type": "markdown",
   "metadata": {},
   "source": [
    "## Trains"
   ]
  },
  {
   "cell_type": "code",
   "execution_count": 43,
   "metadata": {
    "ExecuteTime": {
     "end_time": "2020-07-27T20:55:05.962718Z",
     "start_time": "2020-07-27T20:55:05.949022Z"
    }
   },
   "outputs": [],
   "source": [
    "class Train(object):  \n",
    "    def __init__(self, i, track):\n",
    "        self.no=i\n",
    "        self.track = track\n",
    "\n",
    "        self.direction = None\n",
    "        self.tracing = False\n",
    "\n",
    "    def setDirection(self, direction):\n",
    "        self.direction=direction\n",
    "\n",
    "    def getDirection(self):\n",
    "        return self.direction\n",
    "    \n",
    "    def getNo(self):\n",
    "        return self.no\n",
    "    \n",
    "    def isTracing(self):\n",
    "        return self.track.isTracing() and \\\n",
    "                (not self.track.isTracingTrains() or self.tracing)\n",
    "    \n",
    "    def trace(self):\n",
    "        self.tracing=True\n",
    "            \n",
    "    def traceOff(self):\n",
    "        self.tracing=False\n",
    "        \n",
    "    def process(self):\n",
    "\n",
    "        stations = self.track.getStations()\n",
    "        \n",
    "        here = stations[0]\n",
    "        here_req = None\n",
    "        \n",
    "        for dest in stations[1:]:\n",
    "            \n",
    "  \n",
    "            drivetime=here.driveTime()\n",
    "            dwelltime=here.dwellTime()\n",
    "            \n",
    "            yield env.timeout(dwelltime)\n",
    "\n",
    "            if here.isIncident():\n",
    "                here.inc(self)\n",
    "                yield env.timeout(here.incidentDelay())\n",
    "                here.inc(self)\n",
    "                \n",
    "            if dest.getResource() is not None:\n",
    "                dest_req = dest.getResource().request()\n",
    "                yield dest_req\n",
    "            else:\n",
    "                dest_req = None\n",
    "            \n",
    "            # if the train doesn't get immediate access, it continues waiting \n",
    "            # in the current station ('here').\n",
    "            # if the train got access the train departs from 'here'for 'dest'\n",
    "            \n",
    "            here.dep(self, dest)\n",
    "            \n",
    "            # Once the train has completely left the station, the train\n",
    "            # will release the track of station ('here'). \n",
    "            # We assume that the train has left the station after 10 secs  \n",
    "            delaytime=min(drivetime, 10)\n",
    "            yield env.timeout(delaytime)\n",
    "            if here_req is not None:\n",
    "                here.getResource().release(here_req)\n",
    "\n",
    "            # the train proceeds to drive to the next station ('dest')\n",
    "            yield env.timeout(drivetime-delaytime)\n",
    "            \n",
    "            dest.arr(self)\n",
    "            here = dest\n",
    "            here_req=dest_req\n"
   ]
  },
  {
   "cell_type": "markdown",
   "metadata": {},
   "source": [
    "## Incidents"
   ]
  },
  {
   "cell_type": "code",
   "execution_count": 44,
   "metadata": {
    "ExecuteTime": {
     "end_time": "2020-07-27T20:55:06.598277Z",
     "start_time": "2020-07-27T20:55:06.593044Z"
    }
   },
   "outputs": [],
   "source": [
    "class Incident:\n",
    "    \n",
    "    def __init__(self, start, stop):\n",
    "        self.start = parseTime(start)\n",
    "        self.stop = parseTime(stop)\n",
    "        \n",
    "    def active(self):\n",
    "        return self.start <= env.now and env.now <= self.stop\n",
    "    \n",
    "    def startTime(self):\n",
    "        return self.start\n",
    "    \n",
    "    def stopTime(self):\n",
    "        return self.stop"
   ]
  },
  {
   "cell_type": "markdown",
   "metadata": {},
   "source": [
    "# Utilities"
   ]
  },
  {
   "cell_type": "markdown",
   "metadata": {},
   "source": [
    "## Global Parameters"
   ]
  },
  {
   "cell_type": "code",
   "execution_count": 45,
   "metadata": {
    "ExecuteTime": {
     "end_time": "2020-07-27T20:55:07.837144Z",
     "start_time": "2020-07-27T20:55:07.832098Z"
    }
   },
   "outputs": [],
   "source": [
    "max_line_name_length = max([len(line) for line in dt['Line'].unique()])\n",
    "max_direction_length = max([len(line) for line in dt['Direction'].unique()])"
   ]
  },
  {
   "cell_type": "code",
   "execution_count": 46,
   "metadata": {
    "ExecuteTime": {
     "end_time": "2020-07-27T20:55:07.843566Z",
     "start_time": "2020-07-27T20:55:07.839907Z"
    }
   },
   "outputs": [],
   "source": [
    "def isPeakTime():\n",
    "    now=env.now\n",
    "    return (3600*7<=now and now<=3600*10) or \\\n",
    "           (3600*16<=now and now<=3600*19)"
   ]
  },
  {
   "cell_type": "markdown",
   "metadata": {},
   "source": [
    "## Time Parsing and Formating "
   ]
  },
  {
   "cell_type": "markdown",
   "metadata": {},
   "source": [
    "Format time in seconds as hh:mm:ss"
   ]
  },
  {
   "cell_type": "code",
   "execution_count": 47,
   "metadata": {
    "ExecuteTime": {
     "end_time": "2020-07-27T20:55:09.100615Z",
     "start_time": "2020-07-27T20:55:09.093939Z"
    }
   },
   "outputs": [],
   "source": [
    "def daytime(t):\n",
    "    t=int(t)\n",
    "    return f\"{t//3600:02d}:{(t%3600)//60:02d}:{t%60:02d}\"\n",
    "def now():\n",
    "    return daytime(env.now)\n",
    "\n",
    "def parseTime(s):\n",
    "    if s is None:\n",
    "        return None\n",
    "    if isinstance(s, str):\n",
    "        parts=s.split(':')\n",
    "        if len(parts)>=2:\n",
    "            hours=int(parts[0])\n",
    "            minutes=int(parts[1])\n",
    "            seconds=0 if len(parts)==2 else int(parts[2])\n",
    "            return 3600*hours+60*minutes+seconds\n",
    "    print(\"WARNING Parsing Error:\", s)\n",
    "    # any wrong formats will be passed through and may cause \n",
    "    # an error at a later stage\n",
    "    return s"
   ]
  },
  {
   "cell_type": "markdown",
   "metadata": {},
   "source": [
    "# Setting System Parameters"
   ]
  },
  {
   "cell_type": "markdown",
   "metadata": {},
   "source": [
    "For the time being we use the same parameters for all lines. With a bit of research this should be modified to reflect the actual situation."
   ]
  },
  {
   "cell_type": "code",
   "execution_count": 48,
   "metadata": {
    "ExecuteTime": {
     "end_time": "2020-07-27T20:55:10.371703Z",
     "start_time": "2020-07-27T20:55:10.347762Z"
    },
    "scrolled": false
   },
   "outputs": [
    {
     "data": {
      "text/html": [
       "<div>\n",
       "<style scoped>\n",
       "    .dataframe tbody tr th:only-of-type {\n",
       "        vertical-align: middle;\n",
       "    }\n",
       "\n",
       "    .dataframe tbody tr th {\n",
       "        vertical-align: top;\n",
       "    }\n",
       "\n",
       "    .dataframe thead th {\n",
       "        text-align: right;\n",
       "    }\n",
       "</style>\n",
       "<table border=\"1\" class=\"dataframe\">\n",
       "  <thead>\n",
       "    <tr style=\"text-align: right;\">\n",
       "      <th></th>\n",
       "      <th>Direction 1</th>\n",
       "      <th>Direction 2</th>\n",
       "      <th>Stations</th>\n",
       "      <th>Total Dist</th>\n",
       "      <th>Min Dist</th>\n",
       "      <th>Avg Dist</th>\n",
       "      <th>Max Dist</th>\n",
       "      <th>Total Running Time</th>\n",
       "      <th>Max Running Time</th>\n",
       "      <th>max a</th>\n",
       "      <th>max v</th>\n",
       "      <th>start</th>\n",
       "      <th>stop</th>\n",
       "      <th>freq</th>\n",
       "    </tr>\n",
       "    <tr>\n",
       "      <th>Line</th>\n",
       "      <th></th>\n",
       "      <th></th>\n",
       "      <th></th>\n",
       "      <th></th>\n",
       "      <th></th>\n",
       "      <th></th>\n",
       "      <th></th>\n",
       "      <th></th>\n",
       "      <th></th>\n",
       "      <th></th>\n",
       "      <th></th>\n",
       "      <th></th>\n",
       "      <th></th>\n",
       "      <th></th>\n",
       "    </tr>\n",
       "  </thead>\n",
       "  <tbody>\n",
       "    <tr>\n",
       "      <th>Bakerloo</th>\n",
       "      <td>Northbound</td>\n",
       "      <td>Southbound</td>\n",
       "      <td>24</td>\n",
       "      <td>23230</td>\n",
       "      <td>370</td>\n",
       "      <td>967</td>\n",
       "      <td>1740</td>\n",
       "      <td>2521</td>\n",
       "      <td>169.0</td>\n",
       "      <td>0.7</td>\n",
       "      <td>25</td>\n",
       "      <td>21600</td>\n",
       "      <td>82800</td>\n",
       "      <td>300</td>\n",
       "    </tr>\n",
       "    <tr>\n",
       "      <th>Central</th>\n",
       "      <td>Eastbound</td>\n",
       "      <td>Westbound</td>\n",
       "      <td>45</td>\n",
       "      <td>67520</td>\n",
       "      <td>400</td>\n",
       "      <td>1500</td>\n",
       "      <td>3340</td>\n",
       "      <td>5279</td>\n",
       "      <td>192.0</td>\n",
       "      <td>0.7</td>\n",
       "      <td>25</td>\n",
       "      <td>21600</td>\n",
       "      <td>82800</td>\n",
       "      <td>300</td>\n",
       "    </tr>\n",
       "    <tr>\n",
       "      <th>Victoria</th>\n",
       "      <td>Northbound</td>\n",
       "      <td>Southbound</td>\n",
       "      <td>15</td>\n",
       "      <td>21250</td>\n",
       "      <td>740</td>\n",
       "      <td>1416</td>\n",
       "      <td>3150</td>\n",
       "      <td>1865</td>\n",
       "      <td>255.0</td>\n",
       "      <td>0.7</td>\n",
       "      <td>25</td>\n",
       "      <td>21600</td>\n",
       "      <td>82800</td>\n",
       "      <td>300</td>\n",
       "    </tr>\n",
       "    <tr>\n",
       "      <th>Waterloo &amp; City</th>\n",
       "      <td>Eastbound</td>\n",
       "      <td>Westbound</td>\n",
       "      <td>1</td>\n",
       "      <td>2370</td>\n",
       "      <td>2370</td>\n",
       "      <td>2370</td>\n",
       "      <td>2370</td>\n",
       "      <td>272</td>\n",
       "      <td>292.0</td>\n",
       "      <td>0.7</td>\n",
       "      <td>25</td>\n",
       "      <td>21600</td>\n",
       "      <td>82800</td>\n",
       "      <td>300</td>\n",
       "    </tr>\n",
       "    <tr>\n",
       "      <th>Jubilee</th>\n",
       "      <td>Eastbound</td>\n",
       "      <td>Westbound</td>\n",
       "      <td>26</td>\n",
       "      <td>36950</td>\n",
       "      <td>440</td>\n",
       "      <td>1421</td>\n",
       "      <td>2850</td>\n",
       "      <td>3058</td>\n",
       "      <td>208.0</td>\n",
       "      <td>0.7</td>\n",
       "      <td>25</td>\n",
       "      <td>21600</td>\n",
       "      <td>82800</td>\n",
       "      <td>300</td>\n",
       "    </tr>\n",
       "    <tr>\n",
       "      <th>Northern</th>\n",
       "      <td>Northbound</td>\n",
       "      <td>Southbound</td>\n",
       "      <td>51</td>\n",
       "      <td>57700</td>\n",
       "      <td>270</td>\n",
       "      <td>1131</td>\n",
       "      <td>2460</td>\n",
       "      <td>6100</td>\n",
       "      <td>277.0</td>\n",
       "      <td>0.7</td>\n",
       "      <td>25</td>\n",
       "      <td>21600</td>\n",
       "      <td>82800</td>\n",
       "      <td>300</td>\n",
       "    </tr>\n",
       "    <tr>\n",
       "      <th>Piccadilly</th>\n",
       "      <td>Eastbound</td>\n",
       "      <td>Westbound</td>\n",
       "      <td>49</td>\n",
       "      <td>66874</td>\n",
       "      <td>250</td>\n",
       "      <td>1350</td>\n",
       "      <td>4420</td>\n",
       "      <td>5961</td>\n",
       "      <td>339.0</td>\n",
       "      <td>0.7</td>\n",
       "      <td>25</td>\n",
       "      <td>21600</td>\n",
       "      <td>82800</td>\n",
       "      <td>600</td>\n",
       "    </tr>\n",
       "    <tr>\n",
       "      <th>Metropolitan</th>\n",
       "      <td>Eastbound</td>\n",
       "      <td>Westbound</td>\n",
       "      <td>35</td>\n",
       "      <td>87689</td>\n",
       "      <td>510</td>\n",
       "      <td>2505</td>\n",
       "      <td>11630</td>\n",
       "      <td>6962</td>\n",
       "      <td>661.0</td>\n",
       "      <td>0.8</td>\n",
       "      <td>40</td>\n",
       "      <td>21600</td>\n",
       "      <td>82800</td>\n",
       "      <td>1200</td>\n",
       "    </tr>\n",
       "    <tr>\n",
       "      <th>H &amp; C</th>\n",
       "      <td>Eastbound</td>\n",
       "      <td>Westbound</td>\n",
       "      <td>27</td>\n",
       "      <td>25410</td>\n",
       "      <td>510</td>\n",
       "      <td>941</td>\n",
       "      <td>2290</td>\n",
       "      <td>2929</td>\n",
       "      <td>226.0</td>\n",
       "      <td>0.7</td>\n",
       "      <td>25</td>\n",
       "      <td>21600</td>\n",
       "      <td>82800</td>\n",
       "      <td>300</td>\n",
       "    </tr>\n",
       "    <tr>\n",
       "      <th>Circle</th>\n",
       "      <td>Inner</td>\n",
       "      <td>Outer</td>\n",
       "      <td>27</td>\n",
       "      <td>20760</td>\n",
       "      <td>310</td>\n",
       "      <td>768</td>\n",
       "      <td>1850</td>\n",
       "      <td>2548</td>\n",
       "      <td>187.0</td>\n",
       "      <td>0.7</td>\n",
       "      <td>25</td>\n",
       "      <td>21600</td>\n",
       "      <td>82800</td>\n",
       "      <td>300</td>\n",
       "    </tr>\n",
       "    <tr>\n",
       "      <th>District</th>\n",
       "      <td>Eastbound</td>\n",
       "      <td>Westbound</td>\n",
       "      <td>56</td>\n",
       "      <td>58460</td>\n",
       "      <td>310</td>\n",
       "      <td>1043</td>\n",
       "      <td>2370</td>\n",
       "      <td>6225</td>\n",
       "      <td>226.0</td>\n",
       "      <td>0.7</td>\n",
       "      <td>25</td>\n",
       "      <td>21600</td>\n",
       "      <td>82800</td>\n",
       "      <td>300</td>\n",
       "    </tr>\n",
       "    <tr>\n",
       "      <th>East London</th>\n",
       "      <td>Northbound</td>\n",
       "      <td>Southbound</td>\n",
       "      <td>7</td>\n",
       "      <td>5890</td>\n",
       "      <td>320</td>\n",
       "      <td>841</td>\n",
       "      <td>2040</td>\n",
       "      <td>716</td>\n",
       "      <td>232.0</td>\n",
       "      <td>0.7</td>\n",
       "      <td>25</td>\n",
       "      <td>21600</td>\n",
       "      <td>82800</td>\n",
       "      <td>300</td>\n",
       "    </tr>\n",
       "  </tbody>\n",
       "</table>\n",
       "</div>"
      ],
      "text/plain": [
       "                Direction 1 Direction 2 Stations Total Dist Min Dist Avg Dist  \\\n",
       "Line                                                                            \n",
       "Bakerloo         Northbound  Southbound       24      23230      370      967   \n",
       "Central           Eastbound   Westbound       45      67520      400     1500   \n",
       "Victoria         Northbound  Southbound       15      21250      740     1416   \n",
       "Waterloo & City   Eastbound   Westbound        1       2370     2370     2370   \n",
       "Jubilee           Eastbound   Westbound       26      36950      440     1421   \n",
       "Northern         Northbound  Southbound       51      57700      270     1131   \n",
       "Piccadilly        Eastbound   Westbound       49      66874      250     1350   \n",
       "Metropolitan      Eastbound   Westbound       35      87689      510     2505   \n",
       "H & C             Eastbound   Westbound       27      25410      510      941   \n",
       "Circle                Inner       Outer       27      20760      310      768   \n",
       "District          Eastbound   Westbound       56      58460      310     1043   \n",
       "East London      Northbound  Southbound        7       5890      320      841   \n",
       "\n",
       "                Max Dist Total Running Time  Max Running Time  max a  max v  \\\n",
       "Line                                                                          \n",
       "Bakerloo            1740               2521             169.0    0.7     25   \n",
       "Central             3340               5279             192.0    0.7     25   \n",
       "Victoria            3150               1865             255.0    0.7     25   \n",
       "Waterloo & City     2370                272             292.0    0.7     25   \n",
       "Jubilee             2850               3058             208.0    0.7     25   \n",
       "Northern            2460               6100             277.0    0.7     25   \n",
       "Piccadilly          4420               5961             339.0    0.7     25   \n",
       "Metropolitan       11630               6962             661.0    0.8     40   \n",
       "H & C               2290               2929             226.0    0.7     25   \n",
       "Circle              1850               2548             187.0    0.7     25   \n",
       "District            2370               6225             226.0    0.7     25   \n",
       "East London         2040                716             232.0    0.7     25   \n",
       "\n",
       "                 start   stop  freq  \n",
       "Line                                 \n",
       "Bakerloo         21600  82800   300  \n",
       "Central          21600  82800   300  \n",
       "Victoria         21600  82800   300  \n",
       "Waterloo & City  21600  82800   300  \n",
       "Jubilee          21600  82800   300  \n",
       "Northern         21600  82800   300  \n",
       "Piccadilly       21600  82800   600  \n",
       "Metropolitan     21600  82800  1200  \n",
       "H & C            21600  82800   300  \n",
       "Circle           21600  82800   300  \n",
       "District         21600  82800   300  \n",
       "East London      21600  82800   300  "
      ]
     },
     "execution_count": 48,
     "metadata": {},
     "output_type": "execute_result"
    }
   ],
   "source": [
    "dl['start'] = parseTime(\"06:00:00\")\n",
    "dl['stop']  = parseTime(\"23:00:00\")\n",
    "dl['freq']  = parseTime(\"00:05:00\")\n",
    "\n",
    "dl.at['Metropolitan', 'freq'] = parseTime(\"00:20:00\")\n",
    "dl.at['Piccadilly', 'freq'] = parseTime(\"00:10:00\")\n",
    "\n",
    "dl"
   ]
  },
  {
   "cell_type": "markdown",
   "metadata": {},
   "source": [
    "# System Verification"
   ]
  },
  {
   "cell_type": "markdown",
   "metadata": {},
   "source": [
    "## Normal Operations"
   ]
  },
  {
   "cell_type": "markdown",
   "metadata": {},
   "source": [
    "Verify complete trace over a short time period"
   ]
  },
  {
   "cell_type": "code",
   "execution_count": 49,
   "metadata": {
    "ExecuteTime": {
     "end_time": "2020-07-27T20:55:21.410611Z",
     "start_time": "2020-07-27T20:55:12.548940Z"
    },
    "scrolled": false
   },
   "outputs": [
    {
     "name": "stdout",
     "output_type": "stream",
     "text": [
      "06:00:10 Metropolitan    [Train  0 Westbound ] dep ALDGATE (DEPOT) for ALDGATE\n",
      "06:00:30 Metropolitan    [Train  0 Westbound ] arr ALDGATE\n",
      "06:01:57 Metropolitan    [Train  0 Westbound ] dep ALDGATE for LIVERPOOL STREET\n",
      "06:02:52 Metropolitan    [Train  0 Westbound ] arr LIVERPOOL STREET\n",
      "06:03:32 Metropolitan    [Train  0 Westbound ] dep LIVERPOOL STREET for MOORGATE\n",
      "06:04:22 Metropolitan    [Train  0 Westbound ] arr MOORGATE\n",
      "06:04:56 Metropolitan    [Train  0 Westbound ] dep MOORGATE for BARBICAN\n",
      "06:05:52 Metropolitan    [Train  0 Westbound ] arr BARBICAN\n",
      "06:06:32 Metropolitan    [Train  0 Westbound ] dep BARBICAN for FARRINGDON\n",
      "06:07:22 Metropolitan    [Train  0 Westbound ] arr FARRINGDON\n",
      "06:09:16 Metropolitan    [Train  0 Westbound ] dep FARRINGDON for KINGS CROSS ST PANCRAS\n",
      "06:10:52 Metropolitan    [Train  0 Westbound ] arr KINGS CROSS ST PANCRAS\n",
      "06:11:47 Metropolitan    [Train  0 Westbound ] dep KINGS CROSS ST PANCRAS for EUSTON SQUARE\n",
      "06:12:52 Metropolitan    [Train  0 Westbound ] arr EUSTON SQUARE\n",
      "06:13:27 Metropolitan    [Train  0 Westbound ] dep EUSTON SQUARE for GREAT PORTLAND STREET\n",
      "06:14:22 Metropolitan    [Train  0 Westbound ] arr GREAT PORTLAND STREET\n",
      "06:17:04 Metropolitan    [Train  0 Westbound ] dep GREAT PORTLAND STREET for BAKER STREET (MET)\n",
      "06:18:11 Metropolitan    [Train  0 Westbound ] arr BAKER STREET (MET)\n",
      "06:21:27 Metropolitan    [Train  0 Westbound ] dep BAKER STREET (MET) for FINCHLEY ROAD\n",
      "06:23:41 Metropolitan    [Train  0 Westbound ] arr FINCHLEY ROAD\n",
      "06:26:50 Metropolitan    [Train  0 Westbound ] dep FINCHLEY ROAD for WEMBLEY PARK\n",
      "06:30:41 Metropolitan    [Train  0 Westbound ] arr WEMBLEY PARK\n",
      "06:31:46 Metropolitan    [Train  0 Westbound ] dep WEMBLEY PARK for PRESTON ROAD\n",
      "06:33:11 Metropolitan    [Train  0 Westbound ] arr PRESTON ROAD\n",
      "06:34:11 Metropolitan    [Train  0 Westbound ] dep PRESTON ROAD for NORTHWICK PARK\n",
      "06:35:41 Metropolitan    [Train  0 Westbound ] arr NORTHWICK PARK\n",
      "06:37:22 Metropolitan    [Train  0 Westbound ] dep NORTHWICK PARK for FINCHLEY ROAD\n",
      "06:38:42 Metropolitan    [Train  0 Westbound ] arr FINCHLEY ROAD\n",
      "06:41:51 Metropolitan    [Train  0 Westbound ] dep FINCHLEY ROAD for HARROW-ON-THE-HILL\n",
      "06:45:42 Metropolitan    [Train  0 Westbound ] arr HARROW-ON-THE-HILL\n",
      "06:46:23 Metropolitan    [Train  0 Westbound ] dep HARROW-ON-THE-HILL for WEST HARROW\n",
      "06:47:42 Metropolitan    [Train  0 Westbound ] arr WEST HARROW\n",
      "06:48:49 Metropolitan    [Train  0 Westbound ] dep WEST HARROW for RAYNERS LANE\n",
      "06:50:12 Metropolitan    [Train  0 Westbound ] arr RAYNERS LANE\n",
      "06:51:10 Metropolitan    [Train  0 Westbound ] dep RAYNERS LANE for EASTCOTE\n",
      "06:52:42 Metropolitan    [Train  0 Westbound ] arr EASTCOTE\n",
      "06:53:27 Metropolitan    [Train  0 Westbound ] dep EASTCOTE for RUISLIP MANOR\n",
      "06:54:42 Metropolitan    [Train  0 Westbound ] arr RUISLIP MANOR\n",
      "06:55:12 Metropolitan    [Train  0 Westbound ] dep RUISLIP MANOR for RUISLIP\n",
      "06:56:12 Metropolitan    [Train  0 Westbound ] arr RUISLIP\n",
      "06:57:06 Metropolitan    [Train  0 Westbound ] dep RUISLIP for ICKENHAM\n",
      "06:58:42 Metropolitan    [Train  0 Westbound ] arr ICKENHAM\n",
      "06:59:29 Metropolitan    [Train  0 Westbound ] dep ICKENHAM for HILLINGDON\n",
      "07:00:42 Metropolitan    [Train  0 Westbound ] arr HILLINGDON\n",
      "07:03:03 Metropolitan    [Train  0 Westbound ] dep HILLINGDON for HARROW-ON-THE-HILL\n",
      "07:04:43 Metropolitan    [Train  0 Westbound ] arr HARROW-ON-THE-HILL\n",
      "07:05:24 Metropolitan    [Train  0 Westbound ] dep HARROW-ON-THE-HILL for NORTH HARROW\n",
      "07:06:43 Metropolitan    [Train  0 Westbound ] arr NORTH HARROW\n",
      "07:07:47 Metropolitan    [Train  0 Westbound ] dep NORTH HARROW for PINNER\n",
      "07:09:13 Metropolitan    [Train  0 Westbound ] arr PINNER\n",
      "07:10:01 Metropolitan    [Train  0 Westbound ] dep PINNER for NORTHWOOD HILLS\n",
      "07:11:43 Metropolitan    [Train  0 Westbound ] arr NORTHWOOD HILLS\n",
      "07:12:44 Metropolitan    [Train  0 Westbound ] dep NORTHWOOD HILLS for NORTHWOOD\n",
      "07:14:13 Metropolitan    [Train  0 Westbound ] arr NORTHWOOD\n",
      "07:15:28 Metropolitan    [Train  0 Westbound ] dep NORTHWOOD for HARROW-ON-THE-HILL\n",
      "07:17:13 Metropolitan    [Train  0 Westbound ] arr HARROW-ON-THE-HILL\n",
      "07:17:54 Metropolitan    [Train  0 Westbound ] dep HARROW-ON-THE-HILL for MOOR PARK\n",
      "07:19:13 Metropolitan    [Train  0 Westbound ] arr MOOR PARK\n",
      "07:21:40 Metropolitan    [Train  0 Westbound ] dep MOOR PARK for CROXLEY\n",
      "07:23:43 Metropolitan    [Train  0 Westbound ] arr CROXLEY\n",
      "07:25:42 Metropolitan    [Train  0 Westbound ] dep CROXLEY for MOOR PARK\n",
      "07:27:19 Metropolitan    [Train  0 Westbound ] arr MOOR PARK\n",
      "07:29:46 Metropolitan    [Train  0 Westbound ] dep MOOR PARK for RICKMANSWORTH\n",
      "07:31:49 Metropolitan    [Train  0 Westbound ] arr RICKMANSWORTH\n",
      "07:33:35 Metropolitan    [Train  0 Westbound ] dep RICKMANSWORTH for CHORLEYWOOD\n",
      "07:35:49 Metropolitan    [Train  0 Westbound ] arr CHORLEYWOOD\n",
      "07:38:14 Metropolitan    [Train  0 Westbound ] dep CHORLEYWOOD for CHALFONT & LATIMER\n",
      "07:40:29 Metropolitan    [Train  0 Westbound ] arr CHALFONT & LATIMER\n",
      "07:45:43 Metropolitan    [Train  0 Westbound ] dep CHALFONT & LATIMER for CHALFONT & LATIMER\n",
      "07:49:07 Metropolitan    [Train  0 Westbound ] arr CHALFONT & LATIMER\n",
      "07:54:21 Metropolitan    [Train  0 Westbound ] dep CHALFONT & LATIMER for AMERSHAM\n",
      "07:57:45 Metropolitan    [Train  0 Westbound ] arr AMERSHAM\n",
      "07:58:45 Metropolitan    [Train  0 Westbound ] dep AMERSHAM for AMERSHAM (X)\n",
      "07:59:05 Metropolitan    [Train  0 Westbound ] arr AMERSHAM (X)\n",
      "08:04:05 Metropolitan    [Train  0 Eastbound ] dep AMERSHAM (X) for AMERSHAM\n",
      "08:04:25 Metropolitan    [Train  0 Eastbound ] arr AMERSHAM\n",
      "08:06:14 Metropolitan    [Train  0 Eastbound ] dep AMERSHAM for CHESHAM\n",
      "08:08:25 Metropolitan    [Train  0 Eastbound ] arr CHESHAM\n",
      "08:14:01 Metropolitan    [Train  0 Eastbound ] dep CHESHAM for CHALFONT & LATIMER\n",
      "08:17:25 Metropolitan    [Train  0 Eastbound ] arr CHALFONT & LATIMER\n",
      "08:19:10 Metropolitan    [Train  0 Eastbound ] dep CHALFONT & LATIMER for CHORLEYWOOD\n",
      "08:21:25 Metropolitan    [Train  0 Eastbound ] arr CHORLEYWOOD\n",
      "08:23:41 Metropolitan    [Train  0 Eastbound ] dep CHORLEYWOOD for RICKMANSWORTH\n",
      "08:25:55 Metropolitan    [Train  0 Eastbound ] arr RICKMANSWORTH\n",
      "08:28:08 Metropolitan    [Train  0 Eastbound ] dep RICKMANSWORTH for WATFORD\n",
      "08:30:25 Metropolitan    [Train  0 Eastbound ] arr WATFORD\n",
      "08:31:48 Metropolitan    [Train  0 Eastbound ] dep WATFORD for CROXLEY\n",
      "08:33:25 Metropolitan    [Train  0 Eastbound ] arr CROXLEY\n",
      "08:35:22 Metropolitan    [Train  0 Eastbound ] dep CROXLEY for MOOR PARK\n",
      "08:37:25 Metropolitan    [Train  0 Eastbound ] arr MOOR PARK\n",
      "08:38:40 Metropolitan    [Train  0 Eastbound ] dep MOOR PARK for NORTHWOOD\n",
      "08:40:25 Metropolitan    [Train  0 Eastbound ] arr NORTHWOOD\n",
      "08:41:26 Metropolitan    [Train  0 Eastbound ] dep NORTHWOOD for NORTHWOOD HILLS\n",
      "08:42:55 Metropolitan    [Train  0 Eastbound ] arr NORTHWOOD HILLS\n",
      "08:43:43 Metropolitan    [Train  0 Eastbound ] dep NORTHWOOD HILLS for PINNER\n",
      "08:45:25 Metropolitan    [Train  0 Eastbound ] arr PINNER\n",
      "08:46:50 Metropolitan    [Train  0 Eastbound ] dep PINNER for NORTH HARROW\n",
      "08:48:16 Metropolitan    [Train  0 Eastbound ] arr NORTH HARROW\n",
      "08:51:10 Metropolitan    [Train  0 Eastbound ] dep NORTH HARROW for MOOR PARK\n",
      "08:52:50 Metropolitan    [Train  0 Eastbound ] arr MOOR PARK\n",
      "08:54:05 Metropolitan    [Train  0 Eastbound ] dep MOOR PARK for UXBRIDGE\n",
      "08:55:50 Metropolitan    [Train  0 Eastbound ] arr UXBRIDGE\n",
      "08:57:10 Metropolitan    [Train  0 Eastbound ] dep UXBRIDGE for HILLINGDON\n",
      "08:58:50 Metropolitan    [Train  0 Eastbound ] arr HILLINGDON\n",
      "08:59:37 Metropolitan    [Train  0 Eastbound ] dep HILLINGDON for ICKENHAM\n",
      "09:00:50 Metropolitan    [Train  0 Eastbound ] arr ICKENHAM\n",
      "09:01:44 Metropolitan    [Train  0 Eastbound ] dep ICKENHAM for RUISLIP\n",
      "09:03:20 Metropolitan    [Train  0 Eastbound ] arr RUISLIP\n",
      "09:03:50 Metropolitan    [Train  0 Eastbound ] dep RUISLIP for RUISLIP MANOR\n",
      "09:04:50 Metropolitan    [Train  0 Eastbound ] arr RUISLIP MANOR\n",
      "09:05:35 Metropolitan    [Train  0 Eastbound ] dep RUISLIP MANOR for EASTCOTE\n",
      "09:06:50 Metropolitan    [Train  0 Eastbound ] arr EASTCOTE\n",
      "09:08:18 Metropolitan    [Train  0 Eastbound ] dep EASTCOTE for RAYNERS LANE\n",
      "09:09:50 Metropolitan    [Train  0 Eastbound ] arr RAYNERS LANE\n",
      "09:10:27 Metropolitan    [Train  0 Eastbound ] dep RAYNERS LANE for WEST HARROW\n",
      "09:11:50 Metropolitan    [Train  0 Eastbound ] arr WEST HARROW\n",
      "09:14:22 Metropolitan    [Train  0 Eastbound ] dep WEST HARROW for HARROW-ON-THE-HILL\n",
      "09:15:41 Metropolitan    [Train  0 Eastbound ] arr HARROW-ON-THE-HILL\n",
      "09:21:31 Metropolitan    [Train  0 Eastbound ] dep HARROW-ON-THE-HILL for HARROW-ON-THE-HILL\n",
      "09:27:11 Metropolitan    [Train  0 Eastbound ] arr HARROW-ON-THE-HILL\n",
      "09:33:01 Metropolitan    [Train  0 Eastbound ] dep HARROW-ON-THE-HILL for NORTHWICK PARK\n"
     ]
    },
    {
     "name": "stdout",
     "output_type": "stream",
     "text": [
      "09:38:41 Metropolitan    [Train  0 Eastbound ] arr NORTHWICK PARK\n",
      "09:39:32 Metropolitan    [Train  0 Eastbound ] dep NORTHWICK PARK for PRESTON ROAD\n",
      "09:41:02 Metropolitan    [Train  0 Eastbound ] arr PRESTON ROAD\n",
      "09:42:10 Metropolitan    [Train  0 Eastbound ] dep PRESTON ROAD for WEMBLEY PARK\n",
      "09:43:35 Metropolitan    [Train  0 Eastbound ] arr WEMBLEY PARK\n",
      "09:47:03 Metropolitan    [Train  0 Eastbound ] dep WEMBLEY PARK for FINCHLEY ROAD\n",
      "09:50:54 Metropolitan    [Train  0 Eastbound ] arr FINCHLEY ROAD\n",
      "09:55:46 Metropolitan    [Train  0 Eastbound ] dep FINCHLEY ROAD for BAKER STREET (METROPOLITAN)\n",
      "09:58:00 Metropolitan    [Train  0 Eastbound ] arr BAKER STREET (METROPOLITAN)\n",
      "09:58:53 Metropolitan    [Train  0 Eastbound ] dep BAKER STREET (METROPOLITAN) for GREAT PORTLAND STREET\n",
      "10:00:00 Metropolitan    [Train  0 Eastbound ] arr GREAT PORTLAND STREET\n",
      "10:00:35 Metropolitan    [Train  0 Eastbound ] dep GREAT PORTLAND STREET for EUSTON SQUARE\n",
      "10:01:30 Metropolitan    [Train  0 Eastbound ] arr EUSTON SQUARE\n",
      "10:02:25 Metropolitan    [Train  0 Eastbound ] dep EUSTON SQUARE for KINGS CROSS ST PANCRAS\n",
      "10:03:30 Metropolitan    [Train  0 Eastbound ] arr KINGS CROSS ST PANCRAS\n",
      "10:05:24 Metropolitan    [Train  0 Eastbound ] dep KINGS CROSS ST PANCRAS for FARRINGDON\n",
      "10:07:00 Metropolitan    [Train  0 Eastbound ] arr FARRINGDON\n",
      "10:07:40 Metropolitan    [Train  0 Eastbound ] dep FARRINGDON for BARBICAN\n",
      "10:08:30 Metropolitan    [Train  0 Eastbound ] arr BARBICAN\n",
      "10:09:04 Metropolitan    [Train  0 Eastbound ] dep BARBICAN for MOORGATE\n",
      "10:10:00 Metropolitan    [Train  0 Eastbound ] arr MOORGATE\n",
      "10:10:41 Metropolitan    [Train  0 Eastbound ] dep MOORGATE for LIVERPOOL STREET\n",
      "10:11:31 Metropolitan    [Train  0 Eastbound ] arr LIVERPOOL STREET\n",
      "10:12:48 Metropolitan    [Train  0 Eastbound ] dep LIVERPOOL STREET for ALDGATE\n",
      "10:13:43 Metropolitan    [Train  0 Eastbound ] arr ALDGATE\n",
      "10:14:43 Metropolitan    [Train  0 Eastbound ] dep ALDGATE for ALDGATE (DEPOT)\n",
      "10:15:03 Metropolitan    [Train  0 Eastbound ] arr ALDGATE (DEPOT)\n"
     ]
    }
   ],
   "source": [
    "env = simpy.Environment()\n",
    "network = Network()\n",
    "# network.trace(line='Bakerloo')\n",
    "# network.trace(train=0)\n",
    "# network.trace(loc='KINGS CROSS ST PANCRAS')\n",
    "# network.trace(start=\"06:00\", stop=\"06:10\")\n",
    "# network.trace(line='Circle')\n",
    "# network.trace(line='Circle', start=\"06:00\", stop=\"06:30\")\n",
    "# network.trace(line='Bakerloo', loc='KENTON')\n",
    "network.trace(line='Metropolitan', train=0)\n",
    "# network.trace(line='Bakerloo', start=\"06:00\", stop=\"07:30\")\n",
    "#\n",
    "env.process(network.process())\n",
    "env.run()"
   ]
  },
  {
   "cell_type": "markdown",
   "metadata": {},
   "source": [
    "## Incidents"
   ]
  },
  {
   "cell_type": "markdown",
   "metadata": {},
   "source": [
    "Verify complete trace over a period of time around the incident. In particular check that the trains followings after come to a stop and resume operations after the incident was cleared."
   ]
  },
  {
   "cell_type": "code",
   "execution_count": 50,
   "metadata": {
    "ExecuteTime": {
     "end_time": "2020-07-27T20:55:21.415961Z",
     "start_time": "2020-07-27T20:55:21.413322Z"
    },
    "scrolled": false
   },
   "outputs": [],
   "source": [
    "# env = simpy.Environment()\n",
    "# network=Network()\n",
    "# network.trace(line='Bakerloo', start=\"06:00\", stop=\"07:00\")\n",
    "# network.registerIncident(start=\"06:05\", stop=\"06:35\", \n",
    "#                         line='Bakerloo', loc=\"NORTH WEMBLEY\")\n",
    "# env.process(network.process())\n",
    "# env.run()"
   ]
  },
  {
   "cell_type": "markdown",
   "metadata": {},
   "source": [
    "# Validate System"
   ]
  },
  {
   "cell_type": "markdown",
   "metadata": {},
   "source": [
    "## Metropolitan Line"
   ]
  },
  {
   "cell_type": "markdown",
   "metadata": {},
   "source": [
    "Some Timetabling Information:\n",
    "* [Metropolitan](https://tfl.gov.uk/tube/timetable/metropolitan?FromId=940GZZLUALD&fromText=Aldgate+Underground+Station&toText=Amersham+Underground+Station&ToId=940GZZLUAMS):  DEP Aldgate 06:46 ARR Amersham 07:54\n",
    "\n",
    "The traveling time is (currently) 68 min while the traveling time within our system is 131 min."
   ]
  },
  {
   "cell_type": "code",
   "execution_count": 51,
   "metadata": {
    "ExecuteTime": {
     "end_time": "2020-07-27T20:55:30.989564Z",
     "start_time": "2020-07-27T20:55:21.419234Z"
    },
    "scrolled": false
   },
   "outputs": [
    {
     "name": "stdout",
     "output_type": "stream",
     "text": [
      "06:00:30 Metropolitan    [Train  0 Westbound ] arr ALDGATE\n",
      "06:01:57 Metropolitan    [Train  0 Westbound ] dep ALDGATE for LIVERPOOL STREET\n",
      "07:57:45 Metropolitan    [Train  0 Westbound ] arr AMERSHAM\n",
      "07:58:45 Metropolitan    [Train  0 Westbound ] dep AMERSHAM for AMERSHAM (X)\n",
      "08:04:25 Metropolitan    [Train  0 Eastbound ] arr AMERSHAM\n",
      "08:06:14 Metropolitan    [Train  0 Eastbound ] dep AMERSHAM for CHESHAM\n",
      "10:13:43 Metropolitan    [Train  0 Eastbound ] arr ALDGATE\n",
      "10:14:43 Metropolitan    [Train  0 Eastbound ] dep ALDGATE for ALDGATE (DEPOT)\n"
     ]
    }
   ],
   "source": [
    "env = simpy.Environment()\n",
    "network = Network()\n",
    "network.trace(line='Metropolitan', train=0, loc='ALDGATE')\n",
    "network.trace(line='Metropolitan', train=0, loc='AMERSHAM')\n",
    "env.process(network.process())\n",
    "env.run()"
   ]
  },
  {
   "cell_type": "code",
   "execution_count": 52,
   "metadata": {
    "ExecuteTime": {
     "end_time": "2020-07-27T20:55:30.998916Z",
     "start_time": "2020-07-27T20:55:30.992577Z"
    }
   },
   "outputs": [
    {
     "data": {
      "text/plain": [
       "3659.0"
      ]
     },
     "execution_count": 52,
     "metadata": {},
     "output_type": "execute_result"
    }
   ],
   "source": [
    "dt[dt['Line']=='Metropolitan']['Off-Peak Dwell Time'].sum()/2"
   ]
  },
  {
   "cell_type": "code",
   "execution_count": 53,
   "metadata": {
    "ExecuteTime": {
     "end_time": "2020-07-27T20:55:31.007113Z",
     "start_time": "2020-07-27T20:55:31.000943Z"
    }
   },
   "outputs": [
    {
     "data": {
      "text/plain": [
       "350"
      ]
     },
     "execution_count": 53,
     "metadata": {},
     "output_type": "execute_result"
    }
   ],
   "source": [
    "dt[dt['Line']=='Metropolitan']['Off-Peak Dwell Time'].max()"
   ]
  },
  {
   "cell_type": "code",
   "execution_count": 54,
   "metadata": {
    "ExecuteTime": {
     "end_time": "2020-07-27T20:55:31.015205Z",
     "start_time": "2020-07-27T20:55:31.009254Z"
    }
   },
   "outputs": [
    {
     "data": {
      "text/plain": [
       "30"
      ]
     },
     "execution_count": 54,
     "metadata": {},
     "output_type": "execute_result"
    }
   ],
   "source": [
    "dt[dt['Line']=='Metropolitan']['Off-Peak Dwell Time'].min()"
   ]
  },
  {
   "cell_type": "code",
   "execution_count": 55,
   "metadata": {
    "ExecuteTime": {
     "end_time": "2020-07-27T20:55:31.022547Z",
     "start_time": "2020-07-27T20:55:31.017339Z"
    }
   },
   "outputs": [
    {
     "data": {
      "text/plain": [
       "61.06189821182944"
      ]
     },
     "execution_count": 55,
     "metadata": {},
     "output_type": "execute_result"
    }
   ],
   "source": [
    "dt['Peak Dwell Time'].mean()"
   ]
  },
  {
   "cell_type": "code",
   "execution_count": 56,
   "metadata": {
    "ExecuteTime": {
     "end_time": "2020-07-27T20:55:31.031598Z",
     "start_time": "2020-07-27T20:55:31.026959Z"
    }
   },
   "outputs": [
    {
     "data": {
      "text/plain": [
       "58.36863823933975"
      ]
     },
     "execution_count": 56,
     "metadata": {},
     "output_type": "execute_result"
    }
   ],
   "source": [
    "dt['Off-Peak Dwell Time'].mean()"
   ]
  },
  {
   "cell_type": "code",
   "execution_count": 57,
   "metadata": {
    "ExecuteTime": {
     "end_time": "2020-07-27T20:55:31.041742Z",
     "start_time": "2020-07-27T20:55:31.034871Z"
    }
   },
   "outputs": [
    {
     "data": {
      "text/plain": [
       "108.65714285714286"
      ]
     },
     "execution_count": 57,
     "metadata": {},
     "output_type": "execute_result"
    }
   ],
   "source": [
    "dt[dt['Line']=='Metropolitan']['Peak Dwell Time'].mean()"
   ]
  },
  {
   "cell_type": "code",
   "execution_count": 58,
   "metadata": {
    "ExecuteTime": {
     "end_time": "2020-07-27T20:55:31.050477Z",
     "start_time": "2020-07-27T20:55:31.043912Z"
    }
   },
   "outputs": [
    {
     "data": {
      "text/plain": [
       "104.54285714285714"
      ]
     },
     "execution_count": 58,
     "metadata": {},
     "output_type": "execute_result"
    }
   ],
   "source": [
    "dt[dt['Line']=='Metropolitan']['Off-Peak Dwell Time'].mean()"
   ]
  },
  {
   "cell_type": "code",
   "execution_count": 59,
   "metadata": {
    "ExecuteTime": {
     "end_time": "2020-07-27T20:55:31.056199Z",
     "start_time": "2020-07-27T20:55:31.052857Z"
    }
   },
   "outputs": [],
   "source": [
    "def reduceDwellTime(t):\n",
    "    return 30 if t>60 else int(0.5*t)"
   ]
  },
  {
   "cell_type": "code",
   "execution_count": 60,
   "metadata": {
    "ExecuteTime": {
     "end_time": "2020-07-27T20:55:31.072798Z",
     "start_time": "2020-07-27T20:55:31.058462Z"
    }
   },
   "outputs": [],
   "source": [
    "for i in range(len(dt)):\n",
    "    if dt.at[i, 'Line']=='Metropolitan':\n",
    "        dt.at[i, 'Off-Peak Dwell Time']=reduceDwellTime(dt.at[i, 'Off-Peak Dwell Time'])\n",
    "        dt.at[i, 'Peak Dwell Time']=reduceDwellTime(dt.at[i, 'Peak Dwell Time'])"
   ]
  },
  {
   "cell_type": "code",
   "execution_count": 61,
   "metadata": {
    "ExecuteTime": {
     "end_time": "2020-07-27T20:55:31.081929Z",
     "start_time": "2020-07-27T20:55:31.074947Z"
    }
   },
   "outputs": [
    {
     "data": {
      "text/plain": [
       "27.228571428571428"
      ]
     },
     "execution_count": 61,
     "metadata": {},
     "output_type": "execute_result"
    }
   ],
   "source": [
    "dt[dt['Line']=='Metropolitan']['Peak Dwell Time'].mean()"
   ]
  },
  {
   "cell_type": "code",
   "execution_count": 62,
   "metadata": {
    "ExecuteTime": {
     "end_time": "2020-07-27T20:55:40.412337Z",
     "start_time": "2020-07-27T20:55:31.084132Z"
    }
   },
   "outputs": [
    {
     "name": "stdout",
     "output_type": "stream",
     "text": [
      "06:00:30 Metropolitan    [Train  0 Westbound ] arr ALDGATE\n",
      "06:01:00 Metropolitan    [Train  0 Westbound ] dep ALDGATE for LIVERPOOL STREET\n",
      "07:15:24 Metropolitan    [Train  0 Westbound ] arr AMERSHAM\n",
      "07:16:24 Metropolitan    [Train  0 Westbound ] dep AMERSHAM for AMERSHAM (X)\n",
      "07:22:04 Metropolitan    [Train  0 Eastbound ] arr AMERSHAM\n",
      "07:22:34 Metropolitan    [Train  0 Eastbound ] dep AMERSHAM for CHESHAM\n",
      "08:43:15 Metropolitan    [Train  0 Eastbound ] arr ALDGATE\n",
      "08:44:15 Metropolitan    [Train  0 Eastbound ] dep ALDGATE for ALDGATE (DEPOT)\n"
     ]
    }
   ],
   "source": [
    "env = simpy.Environment()\n",
    "network = Network()\n",
    "network.trace(line='Metropolitan', train=0, loc='ALDGATE')\n",
    "network.trace(line='Metropolitan', train=0, loc='AMERSHAM')\n",
    "env.process(network.process())\n",
    "env.run()"
   ]
  },
  {
   "cell_type": "markdown",
   "metadata": {},
   "source": [
    "## Piccadilly"
   ]
  },
  {
   "cell_type": "markdown",
   "metadata": {},
   "source": [
    "From Heathrow Terminal 2&3 to Cockfosters without changing the line takes currently according to TfL 83 minutes. Which is about the same in our system."
   ]
  },
  {
   "cell_type": "code",
   "execution_count": 63,
   "metadata": {
    "ExecuteTime": {
     "end_time": "2020-07-27T20:55:49.905097Z",
     "start_time": "2020-07-27T20:55:40.414512Z"
    },
    "scrolled": false
   },
   "outputs": [
    {
     "name": "stdout",
     "output_type": "stream",
     "text": [
      "06:37:22 Piccadilly      [Train  0 Eastbound ] arr HEATHROW 123\n",
      "06:39:25 Piccadilly      [Train  0 Eastbound ] dep HEATHROW 123 for HATTON CROSS\n",
      "08:04:04 Piccadilly      [Train  0 Eastbound ] arr COCKFOSTERS\n",
      "08:05:04 Piccadilly      [Train  0 Eastbound ] dep COCKFOSTERS for COCKFOSTERS (X)\n",
      "08:10:44 Piccadilly      [Train  0 Westbound ] arr COCKFOSTERS\n",
      "08:11:54 Piccadilly      [Train  0 Westbound ] dep COCKFOSTERS for OAKWOOD\n"
     ]
    }
   ],
   "source": [
    "env = simpy.Environment()\n",
    "network = Network()\n",
    "network.trace(line='Piccadilly', train=0, loc='HEATHROW 123')\n",
    "network.trace(line='Piccadilly', train=0, loc='COCKFOSTERS')\n",
    "env.process(network.process())\n",
    "env.run()"
   ]
  },
  {
   "cell_type": "markdown",
   "metadata": {},
   "source": [
    "# References"
   ]
  },
  {
   "cell_type": "markdown",
   "metadata": {},
   "source": [
    "[SimPy](https://simpy.readthedocs.io/en/latest/contents.html)"
   ]
  }
 ],
 "metadata": {
  "kernelspec": {
   "display_name": "Python 3",
   "language": "python",
   "name": "python3"
  },
  "language_info": {
   "codemirror_mode": {
    "name": "ipython",
    "version": 3
   },
   "file_extension": ".py",
   "mimetype": "text/x-python",
   "name": "python",
   "nbconvert_exporter": "python",
   "pygments_lexer": "ipython3",
   "version": "3.7.6"
  },
  "latex_envs": {
   "LaTeX_envs_menu_present": true,
   "autoclose": false,
   "autocomplete": true,
   "bibliofile": "biblio.bib",
   "cite_by": "apalike",
   "current_citInitial": 1,
   "eqLabelWithNumbers": true,
   "eqNumInitial": 1,
   "hotkeys": {
    "equation": "Ctrl-E",
    "itemize": "Ctrl-I"
   },
   "labels_anchors": false,
   "latex_user_defs": false,
   "report_style_numbering": false,
   "user_envs_cfg": false
  },
  "toc": {
   "base_numbering": 1,
   "nav_menu": {},
   "number_sections": true,
   "sideBar": true,
   "skip_h1_title": false,
   "title_cell": "Table of Contents",
   "title_sidebar": "Contents",
   "toc_cell": true,
   "toc_position": {
    "height": "calc(100% - 180px)",
    "left": "10px",
    "top": "150px",
    "width": "288px"
   },
   "toc_section_display": true,
   "toc_window_display": true
  },
  "varInspector": {
   "cols": {
    "lenName": 16,
    "lenType": 16,
    "lenVar": 40
   },
   "kernels_config": {
    "python": {
     "delete_cmd_postfix": "",
     "delete_cmd_prefix": "del ",
     "library": "var_list.py",
     "varRefreshCmd": "print(var_dic_list())"
    },
    "r": {
     "delete_cmd_postfix": ") ",
     "delete_cmd_prefix": "rm(",
     "library": "var_list.r",
     "varRefreshCmd": "cat(var_dic_list()) "
    }
   },
   "types_to_exclude": [
    "module",
    "function",
    "builtin_function_or_method",
    "instance",
    "_Feature"
   ],
   "window_display": false
  }
 },
 "nbformat": 4,
 "nbformat_minor": 4
}
