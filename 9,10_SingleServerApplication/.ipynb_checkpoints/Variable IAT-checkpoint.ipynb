{
 "cells": [
  {
   "cell_type": "markdown",
   "metadata": {
    "toc": true
   },
   "source": [
    "<h1>Table of Contents<span class=\"tocSkip\"></span></h1>\n",
    "<div class=\"toc\"><ul class=\"toc-item\"><li><span><a href=\"#Import-Libraries\" data-toc-modified-id=\"Import-Libraries-1\"><span class=\"toc-item-num\">1&nbsp;&nbsp;</span>Import Libraries</a></span></li><li><span><a href=\"#Plotting-Routine\" data-toc-modified-id=\"Plotting-Routine-2\"><span class=\"toc-item-num\">2&nbsp;&nbsp;</span>Plotting Routine</a></span></li><li><span><a href=\"#Load-Empirical-Data\" data-toc-modified-id=\"Load-Empirical-Data-3\"><span class=\"toc-item-num\">3&nbsp;&nbsp;</span>Load Empirical Data</a></span></li><li><span><a href=\"#Generate-Random-Call-Data\" data-toc-modified-id=\"Generate-Random-Call-Data-4\"><span class=\"toc-item-num\">4&nbsp;&nbsp;</span>Generate Random Call Data</a></span></li><li><span><a href=\"#References\" data-toc-modified-id=\"References-5\"><span class=\"toc-item-num\">5&nbsp;&nbsp;</span>References</a></span></li></ul></div>"
   ]
  },
  {
   "cell_type": "markdown",
   "metadata": {},
   "source": [
    "# Import Libraries"
   ]
  },
  {
   "cell_type": "code",
   "execution_count": 1,
   "metadata": {
    "ExecuteTime": {
     "end_time": "2020-07-20T21:31:55.274544Z",
     "start_time": "2020-07-20T21:31:54.329231Z"
    }
   },
   "outputs": [],
   "source": [
    "import pandas as pd\n",
    "import matplotlib as mpl\n",
    "import matplotlib.pyplot as plt\n",
    "import scipy.stats as stats\n",
    "import math\n",
    "import numpy as np\n",
    "import random"
   ]
  },
  {
   "cell_type": "markdown",
   "metadata": {},
   "source": [
    "# Plotting Routine"
   ]
  },
  {
   "cell_type": "code",
   "execution_count": 2,
   "metadata": {
    "ExecuteTime": {
     "end_time": "2020-07-20T21:31:55.287882Z",
     "start_time": "2020-07-20T21:31:55.277588Z"
    }
   },
   "outputs": [],
   "source": [
    "def plotOverTime(data=None, f=None, \n",
    "                 title=None, xlabel=None, ylabel=None):\n",
    "    fig = plt.figure()\n",
    "    fig.set_figwidth(12)\n",
    "    fig.set_figheight(5)\n",
    "    ax = fig.gca()\n",
    "    if xlabel is not None:\n",
    "        ax.set_xlabel(xlabel)\n",
    "    if ylabel is not None:\n",
    "        ax.set_ylabel(ylabel)\n",
    "    ax.set_xlim(0, 24)\n",
    "    plt.xticks(ticks=range(24))\n",
    "    if title is not None:\n",
    "        ax.set_title(title)\n",
    "    if data is not None:\n",
    "        plt.hist(data, bins=np.linspace(0,24,25))\n",
    "    if f is not None:\n",
    "        X=np.linspace(0, 24, 1000)\n",
    "        Y=[f(x) for x in X]\n",
    "        plt.plot(X, Y, 'r-')"
   ]
  },
  {
   "cell_type": "markdown",
   "metadata": {},
   "source": [
    "# Load Empirical Data"
   ]
  },
  {
   "cell_type": "markdown",
   "metadata": {},
   "source": [
    "The file `Calls.csv` contains the number of calls per hour recorded over a typical day."
   ]
  },
  {
   "cell_type": "code",
   "execution_count": 3,
   "metadata": {
    "ExecuteTime": {
     "end_time": "2020-07-20T21:31:55.306572Z",
     "start_time": "2020-07-20T21:31:55.291246Z"
    }
   },
   "outputs": [
    {
     "data": {
      "text/html": [
       "<div>\n",
       "<style scoped>\n",
       "    .dataframe tbody tr th:only-of-type {\n",
       "        vertical-align: middle;\n",
       "    }\n",
       "\n",
       "    .dataframe tbody tr th {\n",
       "        vertical-align: top;\n",
       "    }\n",
       "\n",
       "    .dataframe thead th {\n",
       "        text-align: right;\n",
       "    }\n",
       "</style>\n",
       "<table border=\"1\" class=\"dataframe\">\n",
       "  <thead>\n",
       "    <tr style=\"text-align: right;\">\n",
       "      <th></th>\n",
       "      <th>Hour</th>\n",
       "      <th>Calls</th>\n",
       "    </tr>\n",
       "  </thead>\n",
       "  <tbody>\n",
       "    <tr>\n",
       "      <th>0</th>\n",
       "      <td>0</td>\n",
       "      <td>60</td>\n",
       "    </tr>\n",
       "    <tr>\n",
       "      <th>1</th>\n",
       "      <td>1</td>\n",
       "      <td>30</td>\n",
       "    </tr>\n",
       "    <tr>\n",
       "      <th>2</th>\n",
       "      <td>2</td>\n",
       "      <td>18</td>\n",
       "    </tr>\n",
       "    <tr>\n",
       "      <th>3</th>\n",
       "      <td>3</td>\n",
       "      <td>12</td>\n",
       "    </tr>\n",
       "    <tr>\n",
       "      <th>4</th>\n",
       "      <td>4</td>\n",
       "      <td>12</td>\n",
       "    </tr>\n",
       "    <tr>\n",
       "      <th>5</th>\n",
       "      <td>5</td>\n",
       "      <td>30</td>\n",
       "    </tr>\n",
       "    <tr>\n",
       "      <th>6</th>\n",
       "      <td>6</td>\n",
       "      <td>60</td>\n",
       "    </tr>\n",
       "    <tr>\n",
       "      <th>7</th>\n",
       "      <td>7</td>\n",
       "      <td>120</td>\n",
       "    </tr>\n",
       "    <tr>\n",
       "      <th>8</th>\n",
       "      <td>8</td>\n",
       "      <td>420</td>\n",
       "    </tr>\n",
       "    <tr>\n",
       "      <th>9</th>\n",
       "      <td>9</td>\n",
       "      <td>600</td>\n",
       "    </tr>\n",
       "    <tr>\n",
       "      <th>10</th>\n",
       "      <td>10</td>\n",
       "      <td>240</td>\n",
       "    </tr>\n",
       "    <tr>\n",
       "      <th>11</th>\n",
       "      <td>11</td>\n",
       "      <td>120</td>\n",
       "    </tr>\n",
       "    <tr>\n",
       "      <th>12</th>\n",
       "      <td>12</td>\n",
       "      <td>240</td>\n",
       "    </tr>\n",
       "    <tr>\n",
       "      <th>13</th>\n",
       "      <td>13</td>\n",
       "      <td>240</td>\n",
       "    </tr>\n",
       "    <tr>\n",
       "      <th>14</th>\n",
       "      <td>14</td>\n",
       "      <td>180</td>\n",
       "    </tr>\n",
       "    <tr>\n",
       "      <th>15</th>\n",
       "      <td>15</td>\n",
       "      <td>120</td>\n",
       "    </tr>\n",
       "    <tr>\n",
       "      <th>16</th>\n",
       "      <td>16</td>\n",
       "      <td>120</td>\n",
       "    </tr>\n",
       "    <tr>\n",
       "      <th>17</th>\n",
       "      <td>17</td>\n",
       "      <td>480</td>\n",
       "    </tr>\n",
       "    <tr>\n",
       "      <th>18</th>\n",
       "      <td>18</td>\n",
       "      <td>900</td>\n",
       "    </tr>\n",
       "    <tr>\n",
       "      <th>19</th>\n",
       "      <td>19</td>\n",
       "      <td>360</td>\n",
       "    </tr>\n",
       "    <tr>\n",
       "      <th>20</th>\n",
       "      <td>20</td>\n",
       "      <td>240</td>\n",
       "    </tr>\n",
       "    <tr>\n",
       "      <th>21</th>\n",
       "      <td>21</td>\n",
       "      <td>120</td>\n",
       "    </tr>\n",
       "    <tr>\n",
       "      <th>22</th>\n",
       "      <td>22</td>\n",
       "      <td>120</td>\n",
       "    </tr>\n",
       "    <tr>\n",
       "      <th>23</th>\n",
       "      <td>23</td>\n",
       "      <td>90</td>\n",
       "    </tr>\n",
       "  </tbody>\n",
       "</table>\n",
       "</div>"
      ],
      "text/plain": [
       "    Hour  Calls\n",
       "0      0     60\n",
       "1      1     30\n",
       "2      2     18\n",
       "3      3     12\n",
       "4      4     12\n",
       "5      5     30\n",
       "6      6     60\n",
       "7      7    120\n",
       "8      8    420\n",
       "9      9    600\n",
       "10    10    240\n",
       "11    11    120\n",
       "12    12    240\n",
       "13    13    240\n",
       "14    14    180\n",
       "15    15    120\n",
       "16    16    120\n",
       "17    17    480\n",
       "18    18    900\n",
       "19    19    360\n",
       "20    20    240\n",
       "21    21    120\n",
       "22    22    120\n",
       "23    23     90"
      ]
     },
     "execution_count": 3,
     "metadata": {},
     "output_type": "execute_result"
    }
   ],
   "source": [
    "callData = pd.read_csv('Calls.csv')\n",
    "callData"
   ]
  },
  {
   "cell_type": "code",
   "execution_count": 4,
   "metadata": {
    "ExecuteTime": {
     "end_time": "2020-07-20T21:31:55.312545Z",
     "start_time": "2020-07-20T21:31:55.309093Z"
    }
   },
   "outputs": [],
   "source": [
    "def arrivals(x):\n",
    "    x = x%24\n",
    "    return callData.at[int(math.floor(x)),'Calls']"
   ]
  },
  {
   "cell_type": "code",
   "execution_count": 5,
   "metadata": {
    "ExecuteTime": {
     "end_time": "2020-07-20T21:31:55.649434Z",
     "start_time": "2020-07-20T21:31:55.314657Z"
    }
   },
   "outputs": [
    {
     "data": {
      "image/png": "[encoded data removed]",
      "text/plain": [
       "<Figure size 864x360 with 1 Axes>"
      ]
     },
     "metadata": {
      "needs_background": "light"
     },
     "output_type": "display_data"
    }
   ],
   "source": [
    "plotOverTime(f=arrivals, \n",
    "             xlabel='Time [h]', ylabel='Calls / h', \n",
    "             title=\"Average number of calls per hour\")"
   ]
  },
  {
   "cell_type": "markdown",
   "metadata": {},
   "source": [
    "# Generate Random Call Data"
   ]
  },
  {
   "cell_type": "markdown",
   "metadata": {},
   "source": [
    "`callData` generates 24h of call data, the interarrival time of which varies over time according to the function f that returns the average number of calls per hour. The call length is normally distribution with the mean `length` and coefficient of variation `cv`."
   ]
  },
  {
   "cell_type": "code",
   "execution_count": 6,
   "metadata": {
    "ExecuteTime": {
     "end_time": "2020-07-20T21:32:00.489406Z",
     "start_time": "2020-07-20T21:31:55.651651Z"
    }
   },
   "outputs": [],
   "source": [
    "def calls(f, length, cv, days=1):\n",
    "    call, time, iat, lgt = [], [], [], []\n",
    "    no = 0\n",
    "    t = 0\n",
    "    while t<24*days:\n",
    "        dt = stats.expon(scale = 1/f(t)).rvs()\n",
    "        cl = stats.norm.rvs(loc=length/3600, scale=length/3600*cv)\n",
    "        t += dt\n",
    "        no += 1\n",
    "        if t<24*days:\n",
    "            call.append(no)\n",
    "            time.append(t%24)\n",
    "            iat.append(dt)\n",
    "            lgt.append(cl)\n",
    "\n",
    "    return call, time, iat, lgt\n",
    "\n",
    "\n",
    "random.seed(0)\n",
    "call, time, iat, lgt = calls(arrivals, 90, 0.1)\n",
    "Calls=pd.DataFrame(index=call)\n",
    "Calls['time']=time\n",
    "Calls['iat']=iat\n",
    "Calls['lgt']=lgt"
   ]
  },
  {
   "cell_type": "code",
   "execution_count": 7,
   "metadata": {
    "ExecuteTime": {
     "end_time": "2020-07-20T21:32:00.495605Z",
     "start_time": "2020-07-20T21:32:00.491484Z"
    }
   },
   "outputs": [
    {
     "data": {
      "text/plain": [
       "4970"
      ]
     },
     "execution_count": 7,
     "metadata": {},
     "output_type": "execute_result"
    }
   ],
   "source": [
    "len(Calls)"
   ]
  },
  {
   "cell_type": "code",
   "execution_count": 8,
   "metadata": {
    "ExecuteTime": {
     "end_time": "2020-07-20T21:32:00.513157Z",
     "start_time": "2020-07-20T21:32:00.500233Z"
    }
   },
   "outputs": [
    {
     "data": {
      "text/html": [
       "<div>\n",
       "<style scoped>\n",
       "    .dataframe tbody tr th:only-of-type {\n",
       "        vertical-align: middle;\n",
       "    }\n",
       "\n",
       "    .dataframe tbody tr th {\n",
       "        vertical-align: top;\n",
       "    }\n",
       "\n",
       "    .dataframe thead th {\n",
       "        text-align: right;\n",
       "    }\n",
       "</style>\n",
       "<table border=\"1\" class=\"dataframe\">\n",
       "  <thead>\n",
       "    <tr style=\"text-align: right;\">\n",
       "      <th></th>\n",
       "      <th>time</th>\n",
       "      <th>iat</th>\n",
       "      <th>lgt</th>\n",
       "    </tr>\n",
       "  </thead>\n",
       "  <tbody>\n",
       "    <tr>\n",
       "      <th>1</th>\n",
       "      <td>0.051105</td>\n",
       "      <td>0.051105</td>\n",
       "      <td>0.022416</td>\n",
       "    </tr>\n",
       "    <tr>\n",
       "      <th>2</th>\n",
       "      <td>0.054505</td>\n",
       "      <td>0.003400</td>\n",
       "      <td>0.029066</td>\n",
       "    </tr>\n",
       "    <tr>\n",
       "      <th>3</th>\n",
       "      <td>0.066835</td>\n",
       "      <td>0.012330</td>\n",
       "      <td>0.026260</td>\n",
       "    </tr>\n",
       "    <tr>\n",
       "      <th>4</th>\n",
       "      <td>0.079744</td>\n",
       "      <td>0.012909</td>\n",
       "      <td>0.029178</td>\n",
       "    </tr>\n",
       "    <tr>\n",
       "      <th>5</th>\n",
       "      <td>0.088737</td>\n",
       "      <td>0.008993</td>\n",
       "      <td>0.026715</td>\n",
       "    </tr>\n",
       "    <tr>\n",
       "      <th>...</th>\n",
       "      <td>...</td>\n",
       "      <td>...</td>\n",
       "      <td>...</td>\n",
       "    </tr>\n",
       "    <tr>\n",
       "      <th>4966</th>\n",
       "      <td>23.934787</td>\n",
       "      <td>0.002741</td>\n",
       "      <td>0.028397</td>\n",
       "    </tr>\n",
       "    <tr>\n",
       "      <th>4967</th>\n",
       "      <td>23.958114</td>\n",
       "      <td>0.023327</td>\n",
       "      <td>0.018482</td>\n",
       "    </tr>\n",
       "    <tr>\n",
       "      <th>4968</th>\n",
       "      <td>23.973299</td>\n",
       "      <td>0.015185</td>\n",
       "      <td>0.018478</td>\n",
       "    </tr>\n",
       "    <tr>\n",
       "      <th>4969</th>\n",
       "      <td>23.984644</td>\n",
       "      <td>0.011345</td>\n",
       "      <td>0.023441</td>\n",
       "    </tr>\n",
       "    <tr>\n",
       "      <th>4970</th>\n",
       "      <td>23.992377</td>\n",
       "      <td>0.007733</td>\n",
       "      <td>0.021692</td>\n",
       "    </tr>\n",
       "  </tbody>\n",
       "</table>\n",
       "<p>4970 rows × 3 columns</p>\n",
       "</div>"
      ],
      "text/plain": [
       "           time       iat       lgt\n",
       "1      0.051105  0.051105  0.022416\n",
       "2      0.054505  0.003400  0.029066\n",
       "3      0.066835  0.012330  0.026260\n",
       "4      0.079744  0.012909  0.029178\n",
       "5      0.088737  0.008993  0.026715\n",
       "...         ...       ...       ...\n",
       "4966  23.934787  0.002741  0.028397\n",
       "4967  23.958114  0.023327  0.018482\n",
       "4968  23.973299  0.015185  0.018478\n",
       "4969  23.984644  0.011345  0.023441\n",
       "4970  23.992377  0.007733  0.021692\n",
       "\n",
       "[4970 rows x 3 columns]"
      ]
     },
     "execution_count": 8,
     "metadata": {},
     "output_type": "execute_result"
    }
   ],
   "source": [
    "Calls"
   ]
  },
  {
   "cell_type": "code",
   "execution_count": 9,
   "metadata": {
    "ExecuteTime": {
     "end_time": "2020-07-20T21:32:01.290059Z",
     "start_time": "2020-07-20T21:32:00.516715Z"
    }
   },
   "outputs": [
    {
     "data": {
      "image/png": "[encoded data removed]",
      "text/plain": [
       "<Figure size 864x360 with 1 Axes>"
      ]
     },
     "metadata": {
      "needs_background": "light"
     },
     "output_type": "display_data"
    }
   ],
   "source": [
    "plotOverTime(data=Calls['time'],\n",
    "             xlabel='Time [h]', ylabel='Calls / h', \n",
    "             title=f\"Average number of calls per hour\")"
   ]
  },
  {
   "cell_type": "code",
   "execution_count": 10,
   "metadata": {
    "ExecuteTime": {
     "end_time": "2020-07-20T21:32:01.814379Z",
     "start_time": "2020-07-20T21:32:01.304920Z"
    }
   },
   "outputs": [
    {
     "data": {
      "image/png": "[encoded data removed]",
      "text/plain": [
       "<Figure size 864x360 with 1 Axes>"
      ]
     },
     "metadata": {
      "needs_background": "light"
     },
     "output_type": "display_data"
    }
   ],
   "source": [
    "plotOverTime(data=Calls['time'], f=arrivals, \n",
    "             xlabel='Time [h]', ylabel='Calls / h', \n",
    "             title=f\"Average number of calls per hour\")"
   ]
  },
  {
   "cell_type": "markdown",
   "metadata": {},
   "source": [
    "# References"
   ]
  },
  {
   "cell_type": "markdown",
   "metadata": {
    "ExecuteTime": {
     "end_time": "2020-03-28T05:16:06.756896Z",
     "start_time": "2020-03-28T05:16:06.751603Z"
    }
   },
   "source": [
    "[scipy.stats](https://docs.scipy.org/doc/scipy/reference/stats.html)"
   ]
  }
 ],
 "metadata": {
  "kernelspec": {
   "display_name": "Python 3",
   "language": "python",
   "name": "python3"
  },
  "language_info": {
   "codemirror_mode": {
    "name": "ipython",
    "version": 3
   },
   "file_extension": ".py",
   "mimetype": "text/x-python",
   "name": "python",
   "nbconvert_exporter": "python",
   "pygments_lexer": "ipython3",
   "version": "3.8.1"
  },
  "latex_envs": {
   "LaTeX_envs_menu_present": true,
   "autoclose": false,
   "autocomplete": true,
   "bibliofile": "biblio.bib",
   "cite_by": "apalike",
   "current_citInitial": 1,
   "eqLabelWithNumbers": true,
   "eqNumInitial": 1,
   "hotkeys": {
    "equation": "Ctrl-E",
    "itemize": "Ctrl-I"
   },
   "labels_anchors": false,
   "latex_user_defs": false,
   "report_style_numbering": false,
   "user_envs_cfg": false
  },
  "toc": {
   "base_numbering": 1,
   "nav_menu": {},
   "number_sections": true,
   "sideBar": true,
   "skip_h1_title": false,
   "title_cell": "Table of Contents",
   "title_sidebar": "Contents",
   "toc_cell": true,
   "toc_position": {},
   "toc_section_display": true,
   "toc_window_display": false
  },
  "varInspector": {
   "cols": {
    "lenName": 16,
    "lenType": 16,
    "lenVar": 40
   },
   "kernels_config": {
    "python": {
     "delete_cmd_postfix": "",
     "delete_cmd_prefix": "del ",
     "library": "var_list.py",
     "varRefreshCmd": "print(var_dic_list())"
    },
    "r": {
     "delete_cmd_postfix": ") ",
     "delete_cmd_prefix": "rm(",
     "library": "var_list.r",
     "varRefreshCmd": "cat(var_dic_list()) "
    }
   },
   "types_to_exclude": [
    "module",
    "function",
    "builtin_function_or_method",
    "instance",
    "_Feature"
   ],
   "window_display": false
  }
 },
 "nbformat": 4,
 "nbformat_minor": 2
}
