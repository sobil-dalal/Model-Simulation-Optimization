{
 "cells": [
  {
   "cell_type": "markdown",
   "metadata": {
    "toc": true
   },
   "source": [
    "<h1>Table of Contents<span class=\"tocSkip\"></span></h1>\n",
    "<div class=\"toc\"><ul class=\"toc-item\"><li><span><a href=\"#Load-Libraries-and-Plotting-Routines\" data-toc-modified-id=\"Load-Libraries-and-Plotting-Routines-1\"><span class=\"toc-item-num\">1&nbsp;&nbsp;</span>Load Libraries and Plotting Routines</a></span></li><li><span><a href=\"#Prepare-Data\" data-toc-modified-id=\"Prepare-Data-2\"><span class=\"toc-item-num\">2&nbsp;&nbsp;</span>Prepare Data</a></span><ul class=\"toc-item\"><li><span><a href=\"#Adjust-Units-of-Measurements\" data-toc-modified-id=\"Adjust-Units-of-Measurements-2.1\"><span class=\"toc-item-num\">2.1&nbsp;&nbsp;</span>Adjust Units of Measurements</a></span></li><li><span><a href=\"#Consolidate-Information-about-Lines\" data-toc-modified-id=\"Consolidate-Information-about-Lines-2.2\"><span class=\"toc-item-num\">2.2&nbsp;&nbsp;</span>Consolidate Information about Lines</a></span></li><li><span><a href=\"#Convert-Runtime-into-Expected-Drive-Time-and-Dwell-Time\" data-toc-modified-id=\"Convert-Runtime-into-Expected-Drive-Time-and-Dwell-Time-2.3\"><span class=\"toc-item-num\">2.3&nbsp;&nbsp;</span>Convert Runtime into Expected Drive Time and Dwell Time</a></span></li><li><span><a href=\"#Applying-Corrections\" data-toc-modified-id=\"Applying-Corrections-2.4\"><span class=\"toc-item-num\">2.4&nbsp;&nbsp;</span>Applying Corrections</a></span></li></ul></li><li><span><a href=\"#Exploratory-Data-Analysis\" data-toc-modified-id=\"Exploratory-Data-Analysis-3\"><span class=\"toc-item-num\">3&nbsp;&nbsp;</span>Exploratory Data Analysis</a></span><ul class=\"toc-item\"><li><span><a href=\"#Distance-Between-Stations-(m)\" data-toc-modified-id=\"Distance-Between-Stations-(m)-3.1\"><span class=\"toc-item-num\">3.1&nbsp;&nbsp;</span>Distance Between Stations (m)</a></span></li><li><span><a href=\"#Drive-Time-between-Stations-(s)\" data-toc-modified-id=\"Drive-Time-between-Stations-(s)-3.2\"><span class=\"toc-item-num\">3.2&nbsp;&nbsp;</span>Drive Time between Stations (s)</a></span></li><li><span><a href=\"#Dwell-Times-(s)\" data-toc-modified-id=\"Dwell-Times-(s)-3.3\"><span class=\"toc-item-num\">3.3&nbsp;&nbsp;</span>Dwell Times (s)</a></span></li></ul></li><li><span><a href=\"#Modelling\" data-toc-modified-id=\"Modelling-4\"><span class=\"toc-item-num\">4&nbsp;&nbsp;</span>Modelling</a></span><ul class=\"toc-item\"><li><span><a href=\"#The-Infrastructure-(Stations,-Depots-etc)\" data-toc-modified-id=\"The-Infrastructure-(Stations,-Depots-etc)-4.1\"><span class=\"toc-item-num\">4.1&nbsp;&nbsp;</span>The Infrastructure (Stations, Depots etc)</a></span><ul class=\"toc-item\"><li><span><a href=\"#Depots\" data-toc-modified-id=\"Depots-4.1.1\"><span class=\"toc-item-num\">4.1.1&nbsp;&nbsp;</span>Depots</a></span></li><li><span><a href=\"#Stations\" data-toc-modified-id=\"Stations-4.1.2\"><span class=\"toc-item-num\">4.1.2&nbsp;&nbsp;</span>Stations</a></span></li><li><span><a href=\"#Cross-Overs\" data-toc-modified-id=\"Cross-Overs-4.1.3\"><span class=\"toc-item-num\">4.1.3&nbsp;&nbsp;</span>Cross-Overs</a></span></li></ul></li><li><span><a href=\"#The-Network\" data-toc-modified-id=\"The-Network-4.2\"><span class=\"toc-item-num\">4.2&nbsp;&nbsp;</span>The Network</a></span></li><li><span><a href=\"#Trains\" data-toc-modified-id=\"Trains-4.3\"><span class=\"toc-item-num\">4.3&nbsp;&nbsp;</span>Trains</a></span></li><li><span><a href=\"#Incidents\" data-toc-modified-id=\"Incidents-4.4\"><span class=\"toc-item-num\">4.4&nbsp;&nbsp;</span>Incidents</a></span></li></ul></li><li><span><a href=\"#Utilities\" data-toc-modified-id=\"Utilities-5\"><span class=\"toc-item-num\">5&nbsp;&nbsp;</span>Utilities</a></span><ul class=\"toc-item\"><li><span><a href=\"#Global-Parameters\" data-toc-modified-id=\"Global-Parameters-5.1\"><span class=\"toc-item-num\">5.1&nbsp;&nbsp;</span>Global Parameters</a></span></li><li><span><a href=\"#Time-Parsing-and-Formating\" data-toc-modified-id=\"Time-Parsing-and-Formating-5.2\"><span class=\"toc-item-num\">5.2&nbsp;&nbsp;</span>Time Parsing and Formating</a></span></li></ul></li><li><span><a href=\"#Setting-System-Parameters\" data-toc-modified-id=\"Setting-System-Parameters-6\"><span class=\"toc-item-num\">6&nbsp;&nbsp;</span>Setting System Parameters</a></span></li><li><span><a href=\"#System-Verification\" data-toc-modified-id=\"System-Verification-7\"><span class=\"toc-item-num\">7&nbsp;&nbsp;</span>System Verification</a></span><ul class=\"toc-item\"><li><span><a href=\"#Normal-Operations\" data-toc-modified-id=\"Normal-Operations-7.1\"><span class=\"toc-item-num\">7.1&nbsp;&nbsp;</span>Normal Operations</a></span></li><li><span><a href=\"#Incidents\" data-toc-modified-id=\"Incidents-7.2\"><span class=\"toc-item-num\">7.2&nbsp;&nbsp;</span>Incidents</a></span></li></ul></li><li><span><a href=\"#Validate-System\" data-toc-modified-id=\"Validate-System-8\"><span class=\"toc-item-num\">8&nbsp;&nbsp;</span>Validate System</a></span><ul class=\"toc-item\"><li><span><a href=\"#Metropolitan-Line\" data-toc-modified-id=\"Metropolitan-Line-8.1\"><span class=\"toc-item-num\">8.1&nbsp;&nbsp;</span>Metropolitan Line</a></span></li></ul></li><li><span><a href=\"#Collect-Statistics\" data-toc-modified-id=\"Collect-Statistics-9\"><span class=\"toc-item-num\">9&nbsp;&nbsp;</span>Collect Statistics</a></span><ul class=\"toc-item\"><li><span><a href=\"#Metropolitan-Line\" data-toc-modified-id=\"Metropolitan-Line-9.1\"><span class=\"toc-item-num\">9.1&nbsp;&nbsp;</span>Metropolitan Line</a></span><ul class=\"toc-item\"><li><span><a href=\"#Kings-Cross-Station\" data-toc-modified-id=\"Kings-Cross-Station-9.1.1\"><span class=\"toc-item-num\">9.1.1&nbsp;&nbsp;</span>Kings Cross Station</a></span><ul class=\"toc-item\"><li><span><a href=\"#Inter-Arrival-Time-Distribution\" data-toc-modified-id=\"Inter-Arrival-Time-Distribution-9.1.1.1\"><span class=\"toc-item-num\">9.1.1.1&nbsp;&nbsp;</span>Inter Arrival Time Distribution</a></span></li><li><span><a href=\"#Dwell-Time-Distribution\" data-toc-modified-id=\"Dwell-Time-Distribution-9.1.1.2\"><span class=\"toc-item-num\">9.1.1.2&nbsp;&nbsp;</span>Dwell Time Distribution</a></span></li><li><span><a href=\"#Inter-Departure-Time-Distribution\" data-toc-modified-id=\"Inter-Departure-Time-Distribution-9.1.1.3\"><span class=\"toc-item-num\">9.1.1.3&nbsp;&nbsp;</span>Inter Departure Time Distribution</a></span></li><li><span><a href=\"#Drive-Time-Distribution\" data-toc-modified-id=\"Drive-Time-Distribution-9.1.1.4\"><span class=\"toc-item-num\">9.1.1.4&nbsp;&nbsp;</span>Drive Time Distribution</a></span></li></ul></li><li><span><a href=\"#Wembley-Park-Station\" data-toc-modified-id=\"Wembley-Park-Station-9.1.2\"><span class=\"toc-item-num\">9.1.2&nbsp;&nbsp;</span>Wembley Park Station</a></span></li><li><span><a href=\"#West-Harrow\" data-toc-modified-id=\"West-Harrow-9.1.3\"><span class=\"toc-item-num\">9.1.3&nbsp;&nbsp;</span>West Harrow</a></span></li><li><span><a href=\"#Amersham-Station\" data-toc-modified-id=\"Amersham-Station-9.1.4\"><span class=\"toc-item-num\">9.1.4&nbsp;&nbsp;</span>Amersham Station</a></span></li><li><span><a href=\"#Standard-Deviations-Along-the-Track\" data-toc-modified-id=\"Standard-Deviations-Along-the-Track-9.1.5\"><span class=\"toc-item-num\">9.1.5&nbsp;&nbsp;</span>Standard Deviations Along the Track</a></span></li></ul></li><li><span><a href=\"#East-London-Line\" data-toc-modified-id=\"East-London-Line-9.2\"><span class=\"toc-item-num\">9.2&nbsp;&nbsp;</span>East London Line</a></span></li><li><span><a href=\"#Standard-Deviation\" data-toc-modified-id=\"Standard-Deviation-9.3\"><span class=\"toc-item-num\">9.3&nbsp;&nbsp;</span>Standard Deviation</a></span></li></ul></li><li><span><a href=\"#References\" data-toc-modified-id=\"References-10\"><span class=\"toc-item-num\">10&nbsp;&nbsp;</span>References</a></span></li></ul></div>"
   ]
  },
  {
   "cell_type": "markdown",
   "metadata": {},
   "source": [
    "# Load Libraries and Plotting Routines"
   ]
  },
  {
   "cell_type": "code",
   "execution_count": 1,
   "metadata": {
    "ExecuteTime": {
     "end_time": "2020-07-28T09:36:19.320215Z",
     "start_time": "2020-07-28T09:36:17.787543Z"
    }
   },
   "outputs": [],
   "source": [
    "import pandas as pd\n",
    "import matplotlib as mpl\n",
    "import matplotlib.pyplot as plt\n",
    "import scipy.stats as stats\n",
    "import math\n",
    "import numpy as np\n",
    "\n",
    "import simpy"
   ]
  },
  {
   "cell_type": "code",
   "execution_count": 2,
   "metadata": {
    "ExecuteTime": {
     "end_time": "2020-07-28T09:36:19.334357Z",
     "start_time": "2020-07-28T09:36:19.322698Z"
    }
   },
   "outputs": [],
   "source": [
    "def plot(data, xmin, xmax, pdf=None, bins=None, \n",
    "         μ=None, σ=None,\n",
    "         \n",
    "         title=None, xlabel=None, ylabel=None):\n",
    "    \n",
    "    fig = plt.figure()\n",
    "    fig.set_figwidth(10)\n",
    "    fig.set_figheight(5)\n",
    "    ax = fig.gca()\n",
    "    \n",
    "    μ = np.mean(data)\n",
    "    σ = np.std(data)  \n",
    "    minx = min(data)\n",
    "    maxx = max(data)\n",
    "        \n",
    "    ax.set_xlim(xmin, xmax)\n",
    "    \n",
    "    if title!=None:\n",
    "        plt.title(title)\n",
    "        \n",
    "    plt.hist(data, bins=bins, density=True)\n",
    "    \n",
    "    # calculate parameter for text positioning\n",
    "    dx=(xmax-xmin)*0.02\n",
    "    ymin, ymax=plt.ylim()\n",
    "    ypos=ymin+0.9*(ymax-ymin)\n",
    "     \n",
    "    # plot the probability density function if one is given\n",
    "    if pdf!=None:\n",
    "        X = list(np.linspace(xmin, xmax, 100))\n",
    "        Y = [ pdf(x) for x in X]\n",
    "        plt.plot(X, Y, lw=2, color='red')\n",
    " \n",
    "    ax.axvline(x=μ, color='red', linestyle='dashed', lw=2)\n",
    "    plt.text(μ+dx, ypos, f\"μ={μ:3.2f}\", color='red', fontsize=14)\n",
    "    \n",
    "    ax.axvline(x=minx, color='red', linestyle=':')\n",
    "    ax.axvline(x=maxx, color='red', linestyle=':')\n",
    "\n",
    "        \n",
    "    plt.grid(True)"
   ]
  },
  {
   "cell_type": "markdown",
   "metadata": {},
   "source": [
    "# Prepare Data"
   ]
  },
  {
   "cell_type": "code",
   "execution_count": 3,
   "metadata": {
    "ExecuteTime": {
     "end_time": "2020-07-28T09:36:19.344979Z",
     "start_time": "2020-07-28T09:36:19.337258Z"
    }
   },
   "outputs": [],
   "source": [
    "dt=pd.read_csv('LondonTube.csv')"
   ]
  },
  {
   "cell_type": "code",
   "execution_count": 4,
   "metadata": {
    "ExecuteTime": {
     "end_time": "2020-07-28T09:36:19.363588Z",
     "start_time": "2020-07-28T09:36:19.347371Z"
    }
   },
   "outputs": [
    {
     "data": {
      "text/html": [
       "<div>\n",
       "<style scoped>\n",
       "    .dataframe tbody tr th:only-of-type {\n",
       "        vertical-align: middle;\n",
       "    }\n",
       "\n",
       "    .dataframe tbody tr th {\n",
       "        vertical-align: top;\n",
       "    }\n",
       "\n",
       "    .dataframe thead th {\n",
       "        text-align: right;\n",
       "    }\n",
       "</style>\n",
       "<table border=\"1\" class=\"dataframe\">\n",
       "  <thead>\n",
       "    <tr style=\"text-align: right;\">\n",
       "      <th></th>\n",
       "      <th>Line</th>\n",
       "      <th>Direction</th>\n",
       "      <th>From</th>\n",
       "      <th>To</th>\n",
       "      <th>Distance</th>\n",
       "      <th>Running Time</th>\n",
       "      <th>Peak Running Time</th>\n",
       "      <th>Off-Peak Running Time</th>\n",
       "    </tr>\n",
       "  </thead>\n",
       "  <tbody>\n",
       "    <tr>\n",
       "      <th>0</th>\n",
       "      <td>Bakerloo</td>\n",
       "      <td>Southbound</td>\n",
       "      <td>HARROW &amp; WEALDSTONE</td>\n",
       "      <td>KENTON</td>\n",
       "      <td>1.74</td>\n",
       "      <td>2.23</td>\n",
       "      <td>2.50</td>\n",
       "      <td>2.50</td>\n",
       "    </tr>\n",
       "    <tr>\n",
       "      <th>1</th>\n",
       "      <td>Bakerloo</td>\n",
       "      <td>Southbound</td>\n",
       "      <td>KENTON</td>\n",
       "      <td>SOUTH KENTON</td>\n",
       "      <td>1.40</td>\n",
       "      <td>1.88</td>\n",
       "      <td>2.00</td>\n",
       "      <td>2.00</td>\n",
       "    </tr>\n",
       "    <tr>\n",
       "      <th>2</th>\n",
       "      <td>Bakerloo</td>\n",
       "      <td>Southbound</td>\n",
       "      <td>SOUTH KENTON</td>\n",
       "      <td>NORTH WEMBLEY</td>\n",
       "      <td>0.90</td>\n",
       "      <td>1.50</td>\n",
       "      <td>1.50</td>\n",
       "      <td>1.50</td>\n",
       "    </tr>\n",
       "    <tr>\n",
       "      <th>3</th>\n",
       "      <td>Bakerloo</td>\n",
       "      <td>Southbound</td>\n",
       "      <td>NORTH WEMBLEY</td>\n",
       "      <td>WEMBLEY CENTRAL</td>\n",
       "      <td>1.27</td>\n",
       "      <td>1.92</td>\n",
       "      <td>2.06</td>\n",
       "      <td>2.06</td>\n",
       "    </tr>\n",
       "    <tr>\n",
       "      <th>4</th>\n",
       "      <td>Bakerloo</td>\n",
       "      <td>Southbound</td>\n",
       "      <td>WEMBLEY CENTRAL</td>\n",
       "      <td>STONEBRIDGE PARK</td>\n",
       "      <td>1.71</td>\n",
       "      <td>2.23</td>\n",
       "      <td>3.13</td>\n",
       "      <td>3.13</td>\n",
       "    </tr>\n",
       "  </tbody>\n",
       "</table>\n",
       "</div>"
      ],
      "text/plain": [
       "       Line   Direction                 From                To  Distance  \\\n",
       "0  Bakerloo  Southbound  HARROW & WEALDSTONE            KENTON      1.74   \n",
       "1  Bakerloo  Southbound               KENTON      SOUTH KENTON      1.40   \n",
       "2  Bakerloo  Southbound         SOUTH KENTON     NORTH WEMBLEY      0.90   \n",
       "3  Bakerloo  Southbound        NORTH WEMBLEY   WEMBLEY CENTRAL      1.27   \n",
       "4  Bakerloo  Southbound      WEMBLEY CENTRAL  STONEBRIDGE PARK      1.71   \n",
       "\n",
       "   Running Time  Peak Running Time  Off-Peak Running Time  \n",
       "0          2.23               2.50                   2.50  \n",
       "1          1.88               2.00                   2.00  \n",
       "2          1.50               1.50                   1.50  \n",
       "3          1.92               2.06                   2.06  \n",
       "4          2.23               3.13                   3.13  "
      ]
     },
     "execution_count": 4,
     "metadata": {},
     "output_type": "execute_result"
    }
   ],
   "source": [
    "dt.head()"
   ]
  },
  {
   "cell_type": "markdown",
   "metadata": {},
   "source": [
    "## Adjust Units of Measurements"
   ]
  },
  {
   "cell_type": "markdown",
   "metadata": {},
   "source": [
    "Convert distances to meters"
   ]
  },
  {
   "cell_type": "code",
   "execution_count": 5,
   "metadata": {
    "ExecuteTime": {
     "end_time": "2020-07-28T09:36:20.896489Z",
     "start_time": "2020-07-28T09:36:20.891832Z"
    }
   },
   "outputs": [],
   "source": [
    "dt['Distance']=dt['Distance'].apply(lambda x: int(x*1000))"
   ]
  },
  {
   "cell_type": "markdown",
   "metadata": {},
   "source": [
    "Convert running times into seconds"
   ]
  },
  {
   "cell_type": "code",
   "execution_count": 6,
   "metadata": {
    "ExecuteTime": {
     "end_time": "2020-07-28T09:36:21.719942Z",
     "start_time": "2020-07-28T09:36:21.711580Z"
    }
   },
   "outputs": [],
   "source": [
    "dt['Running Time']=dt['Running Time'].apply(lambda x: int(x*60))\n",
    "dt['Peak Running Time']=dt['Peak Running Time'].apply(lambda x: int(x*60))\n",
    "dt['Off-Peak Running Time']=dt['Off-Peak Running Time'].apply(lambda x: int(x*60))"
   ]
  },
  {
   "cell_type": "code",
   "execution_count": 7,
   "metadata": {
    "ExecuteTime": {
     "end_time": "2020-07-28T09:36:21.734551Z",
     "start_time": "2020-07-28T09:36:21.722634Z"
    }
   },
   "outputs": [
    {
     "data": {
      "text/html": [
       "<div>\n",
       "<style scoped>\n",
       "    .dataframe tbody tr th:only-of-type {\n",
       "        vertical-align: middle;\n",
       "    }\n",
       "\n",
       "    .dataframe tbody tr th {\n",
       "        vertical-align: top;\n",
       "    }\n",
       "\n",
       "    .dataframe thead th {\n",
       "        text-align: right;\n",
       "    }\n",
       "</style>\n",
       "<table border=\"1\" class=\"dataframe\">\n",
       "  <thead>\n",
       "    <tr style=\"text-align: right;\">\n",
       "      <th></th>\n",
       "      <th>Line</th>\n",
       "      <th>Direction</th>\n",
       "      <th>From</th>\n",
       "      <th>To</th>\n",
       "      <th>Distance</th>\n",
       "      <th>Running Time</th>\n",
       "      <th>Peak Running Time</th>\n",
       "      <th>Off-Peak Running Time</th>\n",
       "    </tr>\n",
       "  </thead>\n",
       "  <tbody>\n",
       "    <tr>\n",
       "      <th>0</th>\n",
       "      <td>Bakerloo</td>\n",
       "      <td>Southbound</td>\n",
       "      <td>HARROW &amp; WEALDSTONE</td>\n",
       "      <td>KENTON</td>\n",
       "      <td>1740</td>\n",
       "      <td>133</td>\n",
       "      <td>150</td>\n",
       "      <td>150</td>\n",
       "    </tr>\n",
       "    <tr>\n",
       "      <th>1</th>\n",
       "      <td>Bakerloo</td>\n",
       "      <td>Southbound</td>\n",
       "      <td>KENTON</td>\n",
       "      <td>SOUTH KENTON</td>\n",
       "      <td>1400</td>\n",
       "      <td>112</td>\n",
       "      <td>120</td>\n",
       "      <td>120</td>\n",
       "    </tr>\n",
       "    <tr>\n",
       "      <th>2</th>\n",
       "      <td>Bakerloo</td>\n",
       "      <td>Southbound</td>\n",
       "      <td>SOUTH KENTON</td>\n",
       "      <td>NORTH WEMBLEY</td>\n",
       "      <td>900</td>\n",
       "      <td>90</td>\n",
       "      <td>90</td>\n",
       "      <td>90</td>\n",
       "    </tr>\n",
       "    <tr>\n",
       "      <th>3</th>\n",
       "      <td>Bakerloo</td>\n",
       "      <td>Southbound</td>\n",
       "      <td>NORTH WEMBLEY</td>\n",
       "      <td>WEMBLEY CENTRAL</td>\n",
       "      <td>1270</td>\n",
       "      <td>115</td>\n",
       "      <td>123</td>\n",
       "      <td>123</td>\n",
       "    </tr>\n",
       "    <tr>\n",
       "      <th>4</th>\n",
       "      <td>Bakerloo</td>\n",
       "      <td>Southbound</td>\n",
       "      <td>WEMBLEY CENTRAL</td>\n",
       "      <td>STONEBRIDGE PARK</td>\n",
       "      <td>1710</td>\n",
       "      <td>133</td>\n",
       "      <td>187</td>\n",
       "      <td>187</td>\n",
       "    </tr>\n",
       "  </tbody>\n",
       "</table>\n",
       "</div>"
      ],
      "text/plain": [
       "       Line   Direction                 From                To  Distance  \\\n",
       "0  Bakerloo  Southbound  HARROW & WEALDSTONE            KENTON      1740   \n",
       "1  Bakerloo  Southbound               KENTON      SOUTH KENTON      1400   \n",
       "2  Bakerloo  Southbound         SOUTH KENTON     NORTH WEMBLEY       900   \n",
       "3  Bakerloo  Southbound        NORTH WEMBLEY   WEMBLEY CENTRAL      1270   \n",
       "4  Bakerloo  Southbound      WEMBLEY CENTRAL  STONEBRIDGE PARK      1710   \n",
       "\n",
       "   Running Time  Peak Running Time  Off-Peak Running Time  \n",
       "0           133                150                    150  \n",
       "1           112                120                    120  \n",
       "2            90                 90                     90  \n",
       "3           115                123                    123  \n",
       "4           133                187                    187  "
      ]
     },
     "execution_count": 7,
     "metadata": {},
     "output_type": "execute_result"
    }
   ],
   "source": [
    "dt.head()"
   ]
  },
  {
   "cell_type": "markdown",
   "metadata": {},
   "source": [
    "## Consolidate Information about Lines"
   ]
  },
  {
   "cell_type": "markdown",
   "metadata": {},
   "source": [
    "Note: A short looping branch line of the Central Line has been deleted from the original data set."
   ]
  },
  {
   "cell_type": "code",
   "execution_count": 8,
   "metadata": {
    "ExecuteTime": {
     "end_time": "2020-07-28T09:36:23.926682Z",
     "start_time": "2020-07-28T09:36:23.921633Z"
    }
   },
   "outputs": [
    {
     "data": {
      "text/plain": [
       "['Bakerloo',\n",
       " 'Central',\n",
       " 'Victoria',\n",
       " 'Waterloo & City',\n",
       " 'Jubilee',\n",
       " 'Northern',\n",
       " 'Piccadilly',\n",
       " 'Metropolitan',\n",
       " 'H & C',\n",
       " 'Circle',\n",
       " 'District',\n",
       " 'East London']"
      ]
     },
     "execution_count": 8,
     "metadata": {},
     "output_type": "execute_result"
    }
   ],
   "source": [
    "list(dt['Line'].unique())"
   ]
  },
  {
   "cell_type": "code",
   "execution_count": 9,
   "metadata": {
    "ExecuteTime": {
     "end_time": "2020-07-28T09:36:23.936093Z",
     "start_time": "2020-07-28T09:36:23.930156Z"
    }
   },
   "outputs": [
    {
     "data": {
      "text/plain": [
       "['Southbound', 'Northbound', 'Eastbound', 'Westbound', 'Inner', 'Outer']"
      ]
     },
     "execution_count": 9,
     "metadata": {},
     "output_type": "execute_result"
    }
   ],
   "source": [
    "list(dt.Direction.unique())"
   ]
  },
  {
   "cell_type": "markdown",
   "metadata": {},
   "source": [
    "Note: Each line has its specific rolling stock with drive parameters depending on the track geometry, electrical power supply, and the year of construction. For simplicity we assume fixed parameters across the network.  "
   ]
  },
  {
   "cell_type": "code",
   "execution_count": 10,
   "metadata": {
    "ExecuteTime": {
     "end_time": "2020-07-28T09:36:24.737744Z",
     "start_time": "2020-07-28T09:36:24.729149Z"
    }
   },
   "outputs": [
    {
     "data": {
      "text/html": [
       "<div>\n",
       "<style scoped>\n",
       "    .dataframe tbody tr th:only-of-type {\n",
       "        vertical-align: middle;\n",
       "    }\n",
       "\n",
       "    .dataframe tbody tr th {\n",
       "        vertical-align: top;\n",
       "    }\n",
       "\n",
       "    .dataframe thead th {\n",
       "        text-align: right;\n",
       "    }\n",
       "</style>\n",
       "<table border=\"1\" class=\"dataframe\">\n",
       "  <thead>\n",
       "    <tr style=\"text-align: right;\">\n",
       "      <th></th>\n",
       "    </tr>\n",
       "    <tr>\n",
       "      <th>Line</th>\n",
       "    </tr>\n",
       "  </thead>\n",
       "  <tbody>\n",
       "    <tr>\n",
       "      <th>Bakerloo</th>\n",
       "    </tr>\n",
       "    <tr>\n",
       "      <th>Central</th>\n",
       "    </tr>\n",
       "    <tr>\n",
       "      <th>Victoria</th>\n",
       "    </tr>\n",
       "    <tr>\n",
       "      <th>Waterloo &amp; City</th>\n",
       "    </tr>\n",
       "    <tr>\n",
       "      <th>Jubilee</th>\n",
       "    </tr>\n",
       "    <tr>\n",
       "      <th>Northern</th>\n",
       "    </tr>\n",
       "    <tr>\n",
       "      <th>Piccadilly</th>\n",
       "    </tr>\n",
       "    <tr>\n",
       "      <th>Metropolitan</th>\n",
       "    </tr>\n",
       "    <tr>\n",
       "      <th>H &amp; C</th>\n",
       "    </tr>\n",
       "    <tr>\n",
       "      <th>Circle</th>\n",
       "    </tr>\n",
       "    <tr>\n",
       "      <th>District</th>\n",
       "    </tr>\n",
       "    <tr>\n",
       "      <th>East London</th>\n",
       "    </tr>\n",
       "  </tbody>\n",
       "</table>\n",
       "</div>"
      ],
      "text/plain": [
       "Empty DataFrame\n",
       "Columns: []\n",
       "Index: [Bakerloo, Central, Victoria, Waterloo & City, Jubilee, Northern, Piccadilly, Metropolitan, H & C, Circle, District, East London]"
      ]
     },
     "execution_count": 10,
     "metadata": {},
     "output_type": "execute_result"
    }
   ],
   "source": [
    "lines=dt['Line'].unique()\n",
    "dl=pd.DataFrame(lines, columns=['Line'])\n",
    "dl=dl.set_index('Line')\n",
    "\n",
    "dl"
   ]
  },
  {
   "cell_type": "code",
   "execution_count": 11,
   "metadata": {
    "ExecuteTime": {
     "end_time": "2020-07-28T09:36:24.768173Z",
     "start_time": "2020-07-28T09:36:24.740238Z"
    }
   },
   "outputs": [
    {
     "data": {
      "text/html": [
       "<div>\n",
       "<style scoped>\n",
       "    .dataframe tbody tr th:only-of-type {\n",
       "        vertical-align: middle;\n",
       "    }\n",
       "\n",
       "    .dataframe tbody tr th {\n",
       "        vertical-align: top;\n",
       "    }\n",
       "\n",
       "    .dataframe thead th {\n",
       "        text-align: right;\n",
       "    }\n",
       "</style>\n",
       "<table border=\"1\" class=\"dataframe\">\n",
       "  <thead>\n",
       "    <tr style=\"text-align: right;\">\n",
       "      <th></th>\n",
       "      <th>Direction 1</th>\n",
       "      <th>Direction 2</th>\n",
       "    </tr>\n",
       "    <tr>\n",
       "      <th>Line</th>\n",
       "      <th></th>\n",
       "      <th></th>\n",
       "    </tr>\n",
       "  </thead>\n",
       "  <tbody>\n",
       "    <tr>\n",
       "      <th>Bakerloo</th>\n",
       "      <td>Northbound</td>\n",
       "      <td>Southbound</td>\n",
       "    </tr>\n",
       "    <tr>\n",
       "      <th>Central</th>\n",
       "      <td>Eastbound</td>\n",
       "      <td>Westbound</td>\n",
       "    </tr>\n",
       "    <tr>\n",
       "      <th>Victoria</th>\n",
       "      <td>Northbound</td>\n",
       "      <td>Southbound</td>\n",
       "    </tr>\n",
       "    <tr>\n",
       "      <th>Waterloo &amp; City</th>\n",
       "      <td>Eastbound</td>\n",
       "      <td>Westbound</td>\n",
       "    </tr>\n",
       "    <tr>\n",
       "      <th>Jubilee</th>\n",
       "      <td>Eastbound</td>\n",
       "      <td>Westbound</td>\n",
       "    </tr>\n",
       "    <tr>\n",
       "      <th>Northern</th>\n",
       "      <td>Northbound</td>\n",
       "      <td>Southbound</td>\n",
       "    </tr>\n",
       "    <tr>\n",
       "      <th>Piccadilly</th>\n",
       "      <td>Eastbound</td>\n",
       "      <td>Westbound</td>\n",
       "    </tr>\n",
       "    <tr>\n",
       "      <th>Metropolitan</th>\n",
       "      <td>Eastbound</td>\n",
       "      <td>Westbound</td>\n",
       "    </tr>\n",
       "    <tr>\n",
       "      <th>H &amp; C</th>\n",
       "      <td>Eastbound</td>\n",
       "      <td>Westbound</td>\n",
       "    </tr>\n",
       "    <tr>\n",
       "      <th>Circle</th>\n",
       "      <td>Inner</td>\n",
       "      <td>Outer</td>\n",
       "    </tr>\n",
       "    <tr>\n",
       "      <th>District</th>\n",
       "      <td>Eastbound</td>\n",
       "      <td>Westbound</td>\n",
       "    </tr>\n",
       "    <tr>\n",
       "      <th>East London</th>\n",
       "      <td>Northbound</td>\n",
       "      <td>Southbound</td>\n",
       "    </tr>\n",
       "  </tbody>\n",
       "</table>\n",
       "</div>"
      ],
      "text/plain": [
       "                Direction 1 Direction 2\n",
       "Line                                   \n",
       "Bakerloo         Northbound  Southbound\n",
       "Central           Eastbound   Westbound\n",
       "Victoria         Northbound  Southbound\n",
       "Waterloo & City   Eastbound   Westbound\n",
       "Jubilee           Eastbound   Westbound\n",
       "Northern         Northbound  Southbound\n",
       "Piccadilly        Eastbound   Westbound\n",
       "Metropolitan      Eastbound   Westbound\n",
       "H & C             Eastbound   Westbound\n",
       "Circle                Inner       Outer\n",
       "District          Eastbound   Westbound\n",
       "East London      Northbound  Southbound"
      ]
     },
     "execution_count": 11,
     "metadata": {},
     "output_type": "execute_result"
    }
   ],
   "source": [
    "dl['Direction 1']=None\n",
    "dl['Direction 2']=None\n",
    "for l in lines:\n",
    "    \n",
    "    dirs = dt[dt['Line']==l]['Direction'].unique()\n",
    "    dirs = sorted(list(dirs))\n",
    "    if len(dirs)!=2:\n",
    "        print(\"Problem with line: \", l, dirs)\n",
    "    dl.at[l, 'Direction 1']=dirs[0]\n",
    "    dl.at[l, 'Direction 2']=dirs[1]\n",
    "    \n",
    "dl"
   ]
  },
  {
   "cell_type": "code",
   "execution_count": 12,
   "metadata": {
    "ExecuteTime": {
     "end_time": "2020-07-28T09:36:24.829150Z",
     "start_time": "2020-07-28T09:36:24.770859Z"
    },
    "scrolled": true
   },
   "outputs": [
    {
     "data": {
      "text/html": [
       "<div>\n",
       "<style scoped>\n",
       "    .dataframe tbody tr th:only-of-type {\n",
       "        vertical-align: middle;\n",
       "    }\n",
       "\n",
       "    .dataframe tbody tr th {\n",
       "        vertical-align: top;\n",
       "    }\n",
       "\n",
       "    .dataframe thead th {\n",
       "        text-align: right;\n",
       "    }\n",
       "</style>\n",
       "<table border=\"1\" class=\"dataframe\">\n",
       "  <thead>\n",
       "    <tr style=\"text-align: right;\">\n",
       "      <th></th>\n",
       "      <th>Direction 1</th>\n",
       "      <th>Direction 2</th>\n",
       "      <th>Stations</th>\n",
       "      <th>Total Dist</th>\n",
       "      <th>Min Dist</th>\n",
       "      <th>Avg Dist</th>\n",
       "      <th>Max Dist</th>\n",
       "      <th>Total Running Time</th>\n",
       "      <th>Max Running Time</th>\n",
       "    </tr>\n",
       "    <tr>\n",
       "      <th>Line</th>\n",
       "      <th></th>\n",
       "      <th></th>\n",
       "      <th></th>\n",
       "      <th></th>\n",
       "      <th></th>\n",
       "      <th></th>\n",
       "      <th></th>\n",
       "      <th></th>\n",
       "      <th></th>\n",
       "    </tr>\n",
       "  </thead>\n",
       "  <tbody>\n",
       "    <tr>\n",
       "      <th>Bakerloo</th>\n",
       "      <td>Northbound</td>\n",
       "      <td>Southbound</td>\n",
       "      <td>24</td>\n",
       "      <td>23230</td>\n",
       "      <td>370</td>\n",
       "      <td>967</td>\n",
       "      <td>1740</td>\n",
       "      <td>2521</td>\n",
       "      <td>169.0</td>\n",
       "    </tr>\n",
       "    <tr>\n",
       "      <th>Central</th>\n",
       "      <td>Eastbound</td>\n",
       "      <td>Westbound</td>\n",
       "      <td>45</td>\n",
       "      <td>67520</td>\n",
       "      <td>400</td>\n",
       "      <td>1500</td>\n",
       "      <td>3340</td>\n",
       "      <td>5279</td>\n",
       "      <td>192.0</td>\n",
       "    </tr>\n",
       "    <tr>\n",
       "      <th>Victoria</th>\n",
       "      <td>Northbound</td>\n",
       "      <td>Southbound</td>\n",
       "      <td>15</td>\n",
       "      <td>21250</td>\n",
       "      <td>740</td>\n",
       "      <td>1416</td>\n",
       "      <td>3150</td>\n",
       "      <td>1865</td>\n",
       "      <td>255.0</td>\n",
       "    </tr>\n",
       "    <tr>\n",
       "      <th>Waterloo &amp; City</th>\n",
       "      <td>Eastbound</td>\n",
       "      <td>Westbound</td>\n",
       "      <td>1</td>\n",
       "      <td>2370</td>\n",
       "      <td>2370</td>\n",
       "      <td>2370</td>\n",
       "      <td>2370</td>\n",
       "      <td>272</td>\n",
       "      <td>292.0</td>\n",
       "    </tr>\n",
       "    <tr>\n",
       "      <th>Jubilee</th>\n",
       "      <td>Eastbound</td>\n",
       "      <td>Westbound</td>\n",
       "      <td>26</td>\n",
       "      <td>36950</td>\n",
       "      <td>440</td>\n",
       "      <td>1421</td>\n",
       "      <td>2850</td>\n",
       "      <td>3058</td>\n",
       "      <td>208.0</td>\n",
       "    </tr>\n",
       "    <tr>\n",
       "      <th>Northern</th>\n",
       "      <td>Northbound</td>\n",
       "      <td>Southbound</td>\n",
       "      <td>51</td>\n",
       "      <td>57700</td>\n",
       "      <td>270</td>\n",
       "      <td>1131</td>\n",
       "      <td>2460</td>\n",
       "      <td>6100</td>\n",
       "      <td>277.0</td>\n",
       "    </tr>\n",
       "    <tr>\n",
       "      <th>Piccadilly</th>\n",
       "      <td>Eastbound</td>\n",
       "      <td>Westbound</td>\n",
       "      <td>49</td>\n",
       "      <td>66874</td>\n",
       "      <td>250</td>\n",
       "      <td>1350</td>\n",
       "      <td>4420</td>\n",
       "      <td>5961</td>\n",
       "      <td>339.0</td>\n",
       "    </tr>\n",
       "    <tr>\n",
       "      <th>Metropolitan</th>\n",
       "      <td>Eastbound</td>\n",
       "      <td>Westbound</td>\n",
       "      <td>35</td>\n",
       "      <td>87689</td>\n",
       "      <td>510</td>\n",
       "      <td>2505</td>\n",
       "      <td>11630</td>\n",
       "      <td>6962</td>\n",
       "      <td>661.0</td>\n",
       "    </tr>\n",
       "    <tr>\n",
       "      <th>H &amp; C</th>\n",
       "      <td>Eastbound</td>\n",
       "      <td>Westbound</td>\n",
       "      <td>27</td>\n",
       "      <td>25410</td>\n",
       "      <td>510</td>\n",
       "      <td>941</td>\n",
       "      <td>2290</td>\n",
       "      <td>2929</td>\n",
       "      <td>226.0</td>\n",
       "    </tr>\n",
       "    <tr>\n",
       "      <th>Circle</th>\n",
       "      <td>Inner</td>\n",
       "      <td>Outer</td>\n",
       "      <td>27</td>\n",
       "      <td>20760</td>\n",
       "      <td>310</td>\n",
       "      <td>768</td>\n",
       "      <td>1850</td>\n",
       "      <td>2548</td>\n",
       "      <td>187.0</td>\n",
       "    </tr>\n",
       "    <tr>\n",
       "      <th>District</th>\n",
       "      <td>Eastbound</td>\n",
       "      <td>Westbound</td>\n",
       "      <td>56</td>\n",
       "      <td>58460</td>\n",
       "      <td>310</td>\n",
       "      <td>1043</td>\n",
       "      <td>2370</td>\n",
       "      <td>6225</td>\n",
       "      <td>226.0</td>\n",
       "    </tr>\n",
       "    <tr>\n",
       "      <th>East London</th>\n",
       "      <td>Northbound</td>\n",
       "      <td>Southbound</td>\n",
       "      <td>7</td>\n",
       "      <td>5890</td>\n",
       "      <td>320</td>\n",
       "      <td>841</td>\n",
       "      <td>2040</td>\n",
       "      <td>716</td>\n",
       "      <td>232.0</td>\n",
       "    </tr>\n",
       "  </tbody>\n",
       "</table>\n",
       "</div>"
      ],
      "text/plain": [
       "                Direction 1 Direction 2 Stations Total Dist Min Dist Avg Dist  \\\n",
       "Line                                                                            \n",
       "Bakerloo         Northbound  Southbound       24      23230      370      967   \n",
       "Central           Eastbound   Westbound       45      67520      400     1500   \n",
       "Victoria         Northbound  Southbound       15      21250      740     1416   \n",
       "Waterloo & City   Eastbound   Westbound        1       2370     2370     2370   \n",
       "Jubilee           Eastbound   Westbound       26      36950      440     1421   \n",
       "Northern         Northbound  Southbound       51      57700      270     1131   \n",
       "Piccadilly        Eastbound   Westbound       49      66874      250     1350   \n",
       "Metropolitan      Eastbound   Westbound       35      87689      510     2505   \n",
       "H & C             Eastbound   Westbound       27      25410      510      941   \n",
       "Circle                Inner       Outer       27      20760      310      768   \n",
       "District          Eastbound   Westbound       56      58460      310     1043   \n",
       "East London      Northbound  Southbound        7       5890      320      841   \n",
       "\n",
       "                Max Dist Total Running Time  Max Running Time  \n",
       "Line                                                           \n",
       "Bakerloo            1740               2521             169.0  \n",
       "Central             3340               5279             192.0  \n",
       "Victoria            3150               1865             255.0  \n",
       "Waterloo & City     2370                272             292.0  \n",
       "Jubilee             2850               3058             208.0  \n",
       "Northern            2460               6100             277.0  \n",
       "Piccadilly          4420               5961             339.0  \n",
       "Metropolitan       11630               6962             661.0  \n",
       "H & C               2290               2929             226.0  \n",
       "Circle              1850               2548             187.0  \n",
       "District            2370               6225             226.0  \n",
       "East London         2040                716             232.0  "
      ]
     },
     "execution_count": 12,
     "metadata": {},
     "output_type": "execute_result"
    }
   ],
   "source": [
    "dl['Stations']=None\n",
    "dl['Total Dist']=None\n",
    "dl['Min Dist']=None\n",
    "dl['Avg Dist']=None\n",
    "dl['Max Dist']=None\n",
    "\n",
    "dl['Total Running Time']=None\n",
    "\n",
    "for l in lines:\n",
    "    \n",
    "    dist = dt[dt['Line']==l]['Distance']\n",
    "    dl.at[l, 'Stations']=int(dist.count()/2)\n",
    "    dl.at[l, 'Total Dist']=int(dist.sum()/2)\n",
    "    dl.at[l, 'Min Dist']=int(dist.min())\n",
    "    dl.at[l, 'Avg Dist']=int(dist.mean())\n",
    "    dl.at[l, 'Max Dist']=int(dist.max())\n",
    "    \n",
    "    time = dt[dt['Line']==l]['Running Time']\n",
    "    dl.at[l, 'Total Running Time']=int(time.sum()/2)\n",
    "    dl.at[l, 'Max Running Time']=int(time.max())\n",
    "\n",
    "dl"
   ]
  },
  {
   "cell_type": "markdown",
   "metadata": {},
   "source": [
    "Latere we will add a few columns for line specific parameters."
   ]
  },
  {
   "cell_type": "code",
   "execution_count": 13,
   "metadata": {
    "ExecuteTime": {
     "end_time": "2020-07-28T09:36:26.240681Z",
     "start_time": "2020-07-28T09:36:26.220504Z"
    },
    "scrolled": false
   },
   "outputs": [
    {
     "data": {
      "text/html": [
       "<div>\n",
       "<style scoped>\n",
       "    .dataframe tbody tr th:only-of-type {\n",
       "        vertical-align: middle;\n",
       "    }\n",
       "\n",
       "    .dataframe tbody tr th {\n",
       "        vertical-align: top;\n",
       "    }\n",
       "\n",
       "    .dataframe thead th {\n",
       "        text-align: right;\n",
       "    }\n",
       "</style>\n",
       "<table border=\"1\" class=\"dataframe\">\n",
       "  <thead>\n",
       "    <tr style=\"text-align: right;\">\n",
       "      <th></th>\n",
       "      <th>Direction 1</th>\n",
       "      <th>Direction 2</th>\n",
       "      <th>Stations</th>\n",
       "      <th>Total Dist</th>\n",
       "      <th>Min Dist</th>\n",
       "      <th>Avg Dist</th>\n",
       "      <th>Max Dist</th>\n",
       "      <th>Total Running Time</th>\n",
       "      <th>Max Running Time</th>\n",
       "      <th>max a</th>\n",
       "      <th>max v</th>\n",
       "    </tr>\n",
       "    <tr>\n",
       "      <th>Line</th>\n",
       "      <th></th>\n",
       "      <th></th>\n",
       "      <th></th>\n",
       "      <th></th>\n",
       "      <th></th>\n",
       "      <th></th>\n",
       "      <th></th>\n",
       "      <th></th>\n",
       "      <th></th>\n",
       "      <th></th>\n",
       "      <th></th>\n",
       "    </tr>\n",
       "  </thead>\n",
       "  <tbody>\n",
       "    <tr>\n",
       "      <th>Bakerloo</th>\n",
       "      <td>Northbound</td>\n",
       "      <td>Southbound</td>\n",
       "      <td>24</td>\n",
       "      <td>23230</td>\n",
       "      <td>370</td>\n",
       "      <td>967</td>\n",
       "      <td>1740</td>\n",
       "      <td>2521</td>\n",
       "      <td>169.0</td>\n",
       "      <td>0.7</td>\n",
       "      <td>25</td>\n",
       "    </tr>\n",
       "    <tr>\n",
       "      <th>Central</th>\n",
       "      <td>Eastbound</td>\n",
       "      <td>Westbound</td>\n",
       "      <td>45</td>\n",
       "      <td>67520</td>\n",
       "      <td>400</td>\n",
       "      <td>1500</td>\n",
       "      <td>3340</td>\n",
       "      <td>5279</td>\n",
       "      <td>192.0</td>\n",
       "      <td>0.7</td>\n",
       "      <td>25</td>\n",
       "    </tr>\n",
       "    <tr>\n",
       "      <th>Victoria</th>\n",
       "      <td>Northbound</td>\n",
       "      <td>Southbound</td>\n",
       "      <td>15</td>\n",
       "      <td>21250</td>\n",
       "      <td>740</td>\n",
       "      <td>1416</td>\n",
       "      <td>3150</td>\n",
       "      <td>1865</td>\n",
       "      <td>255.0</td>\n",
       "      <td>0.7</td>\n",
       "      <td>25</td>\n",
       "    </tr>\n",
       "    <tr>\n",
       "      <th>Waterloo &amp; City</th>\n",
       "      <td>Eastbound</td>\n",
       "      <td>Westbound</td>\n",
       "      <td>1</td>\n",
       "      <td>2370</td>\n",
       "      <td>2370</td>\n",
       "      <td>2370</td>\n",
       "      <td>2370</td>\n",
       "      <td>272</td>\n",
       "      <td>292.0</td>\n",
       "      <td>0.7</td>\n",
       "      <td>25</td>\n",
       "    </tr>\n",
       "    <tr>\n",
       "      <th>Jubilee</th>\n",
       "      <td>Eastbound</td>\n",
       "      <td>Westbound</td>\n",
       "      <td>26</td>\n",
       "      <td>36950</td>\n",
       "      <td>440</td>\n",
       "      <td>1421</td>\n",
       "      <td>2850</td>\n",
       "      <td>3058</td>\n",
       "      <td>208.0</td>\n",
       "      <td>0.7</td>\n",
       "      <td>25</td>\n",
       "    </tr>\n",
       "    <tr>\n",
       "      <th>Northern</th>\n",
       "      <td>Northbound</td>\n",
       "      <td>Southbound</td>\n",
       "      <td>51</td>\n",
       "      <td>57700</td>\n",
       "      <td>270</td>\n",
       "      <td>1131</td>\n",
       "      <td>2460</td>\n",
       "      <td>6100</td>\n",
       "      <td>277.0</td>\n",
       "      <td>0.7</td>\n",
       "      <td>25</td>\n",
       "    </tr>\n",
       "    <tr>\n",
       "      <th>Piccadilly</th>\n",
       "      <td>Eastbound</td>\n",
       "      <td>Westbound</td>\n",
       "      <td>49</td>\n",
       "      <td>66874</td>\n",
       "      <td>250</td>\n",
       "      <td>1350</td>\n",
       "      <td>4420</td>\n",
       "      <td>5961</td>\n",
       "      <td>339.0</td>\n",
       "      <td>0.7</td>\n",
       "      <td>25</td>\n",
       "    </tr>\n",
       "    <tr>\n",
       "      <th>Metropolitan</th>\n",
       "      <td>Eastbound</td>\n",
       "      <td>Westbound</td>\n",
       "      <td>35</td>\n",
       "      <td>87689</td>\n",
       "      <td>510</td>\n",
       "      <td>2505</td>\n",
       "      <td>11630</td>\n",
       "      <td>6962</td>\n",
       "      <td>661.0</td>\n",
       "      <td>0.8</td>\n",
       "      <td>40</td>\n",
       "    </tr>\n",
       "    <tr>\n",
       "      <th>H &amp; C</th>\n",
       "      <td>Eastbound</td>\n",
       "      <td>Westbound</td>\n",
       "      <td>27</td>\n",
       "      <td>25410</td>\n",
       "      <td>510</td>\n",
       "      <td>941</td>\n",
       "      <td>2290</td>\n",
       "      <td>2929</td>\n",
       "      <td>226.0</td>\n",
       "      <td>0.7</td>\n",
       "      <td>25</td>\n",
       "    </tr>\n",
       "    <tr>\n",
       "      <th>Circle</th>\n",
       "      <td>Inner</td>\n",
       "      <td>Outer</td>\n",
       "      <td>27</td>\n",
       "      <td>20760</td>\n",
       "      <td>310</td>\n",
       "      <td>768</td>\n",
       "      <td>1850</td>\n",
       "      <td>2548</td>\n",
       "      <td>187.0</td>\n",
       "      <td>0.7</td>\n",
       "      <td>25</td>\n",
       "    </tr>\n",
       "    <tr>\n",
       "      <th>District</th>\n",
       "      <td>Eastbound</td>\n",
       "      <td>Westbound</td>\n",
       "      <td>56</td>\n",
       "      <td>58460</td>\n",
       "      <td>310</td>\n",
       "      <td>1043</td>\n",
       "      <td>2370</td>\n",
       "      <td>6225</td>\n",
       "      <td>226.0</td>\n",
       "      <td>0.7</td>\n",
       "      <td>25</td>\n",
       "    </tr>\n",
       "    <tr>\n",
       "      <th>East London</th>\n",
       "      <td>Northbound</td>\n",
       "      <td>Southbound</td>\n",
       "      <td>7</td>\n",
       "      <td>5890</td>\n",
       "      <td>320</td>\n",
       "      <td>841</td>\n",
       "      <td>2040</td>\n",
       "      <td>716</td>\n",
       "      <td>232.0</td>\n",
       "      <td>0.7</td>\n",
       "      <td>25</td>\n",
       "    </tr>\n",
       "  </tbody>\n",
       "</table>\n",
       "</div>"
      ],
      "text/plain": [
       "                Direction 1 Direction 2 Stations Total Dist Min Dist Avg Dist  \\\n",
       "Line                                                                            \n",
       "Bakerloo         Northbound  Southbound       24      23230      370      967   \n",
       "Central           Eastbound   Westbound       45      67520      400     1500   \n",
       "Victoria         Northbound  Southbound       15      21250      740     1416   \n",
       "Waterloo & City   Eastbound   Westbound        1       2370     2370     2370   \n",
       "Jubilee           Eastbound   Westbound       26      36950      440     1421   \n",
       "Northern         Northbound  Southbound       51      57700      270     1131   \n",
       "Piccadilly        Eastbound   Westbound       49      66874      250     1350   \n",
       "Metropolitan      Eastbound   Westbound       35      87689      510     2505   \n",
       "H & C             Eastbound   Westbound       27      25410      510      941   \n",
       "Circle                Inner       Outer       27      20760      310      768   \n",
       "District          Eastbound   Westbound       56      58460      310     1043   \n",
       "East London      Northbound  Southbound        7       5890      320      841   \n",
       "\n",
       "                Max Dist Total Running Time  Max Running Time  max a  max v  \n",
       "Line                                                                         \n",
       "Bakerloo            1740               2521             169.0    0.7     25  \n",
       "Central             3340               5279             192.0    0.7     25  \n",
       "Victoria            3150               1865             255.0    0.7     25  \n",
       "Waterloo & City     2370                272             292.0    0.7     25  \n",
       "Jubilee             2850               3058             208.0    0.7     25  \n",
       "Northern            2460               6100             277.0    0.7     25  \n",
       "Piccadilly          4420               5961             339.0    0.7     25  \n",
       "Metropolitan       11630               6962             661.0    0.8     40  \n",
       "H & C               2290               2929             226.0    0.7     25  \n",
       "Circle              1850               2548             187.0    0.7     25  \n",
       "District            2370               6225             226.0    0.7     25  \n",
       "East London         2040                716             232.0    0.7     25  "
      ]
     },
     "execution_count": 13,
     "metadata": {},
     "output_type": "execute_result"
    }
   ],
   "source": [
    "dl['max a']=0.7\n",
    "dl['max v']=25\n",
    "\n",
    "dl.at['Metropolitan', 'max a'] = 0.8\n",
    "dl.at['Metropolitan', 'max v'] = 40\n",
    "dl"
   ]
  },
  {
   "cell_type": "markdown",
   "metadata": {},
   "source": [
    "## Convert Runtime into Expected Drive Time and Dwell Time"
   ]
  },
  {
   "cell_type": "markdown",
   "metadata": {},
   "source": [
    "Physics Calculation: time to travel a given distance based on acceleration and max velocity"
   ]
  },
  {
   "cell_type": "code",
   "execution_count": 14,
   "metadata": {
    "ExecuteTime": {
     "end_time": "2020-07-28T09:36:28.585076Z",
     "start_time": "2020-07-28T09:36:28.580341Z"
    }
   },
   "outputs": [],
   "source": [
    "def timeTo(a, maxV, d):\n",
    "    # a       constant acceleration, m/s²\n",
    "    # maxV    maximumum velocity, m/s\n",
    "    # d       distance, km\n",
    "    # return  time in seconds required to travel\n",
    "    # \n",
    "    ta = maxV/a         # time to accelerate to maxV\n",
    "    da = a*ta**2        # distance traveled during acceleration from 0 to maxV and back to 0\n",
    "    if (d < da):        # train never reaches full speed?\n",
    "        return np.sqrt(4.0*d/a)     # time needed to accelerate to half-way point then decelerate to destination\n",
    "    else:\n",
    "        return 2*ta + (d-da)/maxV   # time to accelerate to maxV plus travel at maxV plus decelerate to destination"
   ]
  },
  {
   "cell_type": "code",
   "execution_count": 15,
   "metadata": {
    "ExecuteTime": {
     "end_time": "2020-07-28T09:36:28.648499Z",
     "start_time": "2020-07-28T09:36:28.587923Z"
    }
   },
   "outputs": [],
   "source": [
    "dt['Drive Time'] = None\n",
    "for i in range(len(dt)):\n",
    "    dist = dt.at[i, 'Distance']\n",
    "    l = dt.at[i, 'Line']\n",
    "    a = dl.at[l, 'max a']\n",
    "    v = dl.at[l, 'max v']\n",
    "    dt.at[i, 'Drive Time']=int(timeTo(a, v, dist))"
   ]
  },
  {
   "cell_type": "code",
   "execution_count": 16,
   "metadata": {
    "ExecuteTime": {
     "end_time": "2020-07-28T09:36:28.657105Z",
     "start_time": "2020-07-28T09:36:28.651141Z"
    }
   },
   "outputs": [],
   "source": [
    "dt['Dwell Time']=dt['Running Time']-dt['Drive Time']"
   ]
  },
  {
   "cell_type": "code",
   "execution_count": 17,
   "metadata": {
    "ExecuteTime": {
     "end_time": "2020-07-28T09:36:28.663609Z",
     "start_time": "2020-07-28T09:36:28.659827Z"
    }
   },
   "outputs": [],
   "source": [
    "dt['Peak Dwell Time']=dt['Peak Running Time']-dt['Drive Time']"
   ]
  },
  {
   "cell_type": "code",
   "execution_count": 18,
   "metadata": {
    "ExecuteTime": {
     "end_time": "2020-07-28T09:36:28.670379Z",
     "start_time": "2020-07-28T09:36:28.666131Z"
    }
   },
   "outputs": [],
   "source": [
    "dt['Off-Peak Dwell Time']=dt['Off-Peak Running Time']-dt['Drive Time']"
   ]
  },
  {
   "cell_type": "code",
   "execution_count": 19,
   "metadata": {
    "ExecuteTime": {
     "end_time": "2020-07-28T09:36:28.677737Z",
     "start_time": "2020-07-28T09:36:28.672370Z"
    }
   },
   "outputs": [],
   "source": [
    "dt=dt.drop(columns=['Running Time', 'Peak Running Time', 'Off-Peak Running Time'])"
   ]
  },
  {
   "cell_type": "code",
   "execution_count": 20,
   "metadata": {
    "ExecuteTime": {
     "end_time": "2020-07-28T09:36:28.694139Z",
     "start_time": "2020-07-28T09:36:28.680968Z"
    }
   },
   "outputs": [
    {
     "data": {
      "text/html": [
       "<div>\n",
       "<style scoped>\n",
       "    .dataframe tbody tr th:only-of-type {\n",
       "        vertical-align: middle;\n",
       "    }\n",
       "\n",
       "    .dataframe tbody tr th {\n",
       "        vertical-align: top;\n",
       "    }\n",
       "\n",
       "    .dataframe thead th {\n",
       "        text-align: right;\n",
       "    }\n",
       "</style>\n",
       "<table border=\"1\" class=\"dataframe\">\n",
       "  <thead>\n",
       "    <tr style=\"text-align: right;\">\n",
       "      <th></th>\n",
       "      <th>Line</th>\n",
       "      <th>Direction</th>\n",
       "      <th>From</th>\n",
       "      <th>To</th>\n",
       "      <th>Distance</th>\n",
       "      <th>Drive Time</th>\n",
       "      <th>Dwell Time</th>\n",
       "      <th>Peak Dwell Time</th>\n",
       "      <th>Off-Peak Dwell Time</th>\n",
       "    </tr>\n",
       "  </thead>\n",
       "  <tbody>\n",
       "    <tr>\n",
       "      <th>0</th>\n",
       "      <td>Bakerloo</td>\n",
       "      <td>Southbound</td>\n",
       "      <td>HARROW &amp; WEALDSTONE</td>\n",
       "      <td>KENTON</td>\n",
       "      <td>1740</td>\n",
       "      <td>105</td>\n",
       "      <td>28</td>\n",
       "      <td>45</td>\n",
       "      <td>45</td>\n",
       "    </tr>\n",
       "    <tr>\n",
       "      <th>1</th>\n",
       "      <td>Bakerloo</td>\n",
       "      <td>Southbound</td>\n",
       "      <td>KENTON</td>\n",
       "      <td>SOUTH KENTON</td>\n",
       "      <td>1400</td>\n",
       "      <td>91</td>\n",
       "      <td>21</td>\n",
       "      <td>29</td>\n",
       "      <td>29</td>\n",
       "    </tr>\n",
       "    <tr>\n",
       "      <th>2</th>\n",
       "      <td>Bakerloo</td>\n",
       "      <td>Southbound</td>\n",
       "      <td>SOUTH KENTON</td>\n",
       "      <td>NORTH WEMBLEY</td>\n",
       "      <td>900</td>\n",
       "      <td>71</td>\n",
       "      <td>19</td>\n",
       "      <td>19</td>\n",
       "      <td>19</td>\n",
       "    </tr>\n",
       "    <tr>\n",
       "      <th>3</th>\n",
       "      <td>Bakerloo</td>\n",
       "      <td>Southbound</td>\n",
       "      <td>NORTH WEMBLEY</td>\n",
       "      <td>WEMBLEY CENTRAL</td>\n",
       "      <td>1270</td>\n",
       "      <td>86</td>\n",
       "      <td>29</td>\n",
       "      <td>37</td>\n",
       "      <td>37</td>\n",
       "    </tr>\n",
       "    <tr>\n",
       "      <th>4</th>\n",
       "      <td>Bakerloo</td>\n",
       "      <td>Southbound</td>\n",
       "      <td>WEMBLEY CENTRAL</td>\n",
       "      <td>STONEBRIDGE PARK</td>\n",
       "      <td>1710</td>\n",
       "      <td>104</td>\n",
       "      <td>29</td>\n",
       "      <td>83</td>\n",
       "      <td>83</td>\n",
       "    </tr>\n",
       "  </tbody>\n",
       "</table>\n",
       "</div>"
      ],
      "text/plain": [
       "       Line   Direction                 From                To  Distance  \\\n",
       "0  Bakerloo  Southbound  HARROW & WEALDSTONE            KENTON      1740   \n",
       "1  Bakerloo  Southbound               KENTON      SOUTH KENTON      1400   \n",
       "2  Bakerloo  Southbound         SOUTH KENTON     NORTH WEMBLEY       900   \n",
       "3  Bakerloo  Southbound        NORTH WEMBLEY   WEMBLEY CENTRAL      1270   \n",
       "4  Bakerloo  Southbound      WEMBLEY CENTRAL  STONEBRIDGE PARK      1710   \n",
       "\n",
       "  Drive Time Dwell Time Peak Dwell Time Off-Peak Dwell Time  \n",
       "0        105         28              45                  45  \n",
       "1         91         21              29                  29  \n",
       "2         71         19              19                  19  \n",
       "3         86         29              37                  37  \n",
       "4        104         29              83                  83  "
      ]
     },
     "execution_count": 20,
     "metadata": {},
     "output_type": "execute_result"
    }
   ],
   "source": [
    "dt.head()"
   ]
  },
  {
   "cell_type": "markdown",
   "metadata": {},
   "source": [
    "## Applying Corrections"
   ]
  },
  {
   "cell_type": "code",
   "execution_count": 21,
   "metadata": {
    "ExecuteTime": {
     "end_time": "2020-07-28T09:36:30.029058Z",
     "start_time": "2020-07-28T09:36:30.025478Z"
    }
   },
   "outputs": [],
   "source": [
    "def reduceDwellTime(t):\n",
    "    return 30 if t>60 else int(0.5*t)"
   ]
  },
  {
   "cell_type": "code",
   "execution_count": 22,
   "metadata": {
    "ExecuteTime": {
     "end_time": "2020-07-28T09:36:30.049851Z",
     "start_time": "2020-07-28T09:36:30.036079Z"
    }
   },
   "outputs": [],
   "source": [
    "for i in range(len(dt)):\n",
    "    if dt.at[i, 'Line']=='Metropolitan':\n",
    "        dt.at[i, 'Off-Peak Dwell Time']=reduceDwellTime(dt.at[i, 'Off-Peak Dwell Time'])\n",
    "        dt.at[i, 'Peak Dwell Time']=reduceDwellTime(dt.at[i, 'Peak Dwell Time'])"
   ]
  },
  {
   "cell_type": "markdown",
   "metadata": {},
   "source": [
    "# Exploratory Data Analysis"
   ]
  },
  {
   "cell_type": "markdown",
   "metadata": {},
   "source": [
    "## Distance Between Stations (m)"
   ]
  },
  {
   "cell_type": "code",
   "execution_count": 23,
   "metadata": {
    "ExecuteTime": {
     "end_time": "2020-07-28T09:36:31.688809Z",
     "start_time": "2020-07-28T09:36:31.684242Z"
    }
   },
   "outputs": [
    {
     "data": {
      "text/plain": [
       "250"
      ]
     },
     "execution_count": 23,
     "metadata": {},
     "output_type": "execute_result"
    }
   ],
   "source": [
    "dt['Distance'].min()"
   ]
  },
  {
   "cell_type": "code",
   "execution_count": 24,
   "metadata": {
    "ExecuteTime": {
     "end_time": "2020-07-28T09:36:31.696298Z",
     "start_time": "2020-07-28T09:36:31.691466Z"
    }
   },
   "outputs": [
    {
     "data": {
      "text/plain": [
       "11630"
      ]
     },
     "execution_count": 24,
     "metadata": {},
     "output_type": "execute_result"
    }
   ],
   "source": [
    "dt['Distance'].max()"
   ]
  },
  {
   "cell_type": "code",
   "execution_count": 25,
   "metadata": {
    "ExecuteTime": {
     "end_time": "2020-07-28T09:36:31.704711Z",
     "start_time": "2020-07-28T09:36:31.699261Z"
    }
   },
   "outputs": [
    {
     "data": {
      "text/plain": [
       "1304.2723521320495"
      ]
     },
     "execution_count": 25,
     "metadata": {},
     "output_type": "execute_result"
    }
   ],
   "source": [
    "dt['Distance'].mean()"
   ]
  },
  {
   "cell_type": "code",
   "execution_count": 26,
   "metadata": {
    "ExecuteTime": {
     "end_time": "2020-07-28T09:36:32.062327Z",
     "start_time": "2020-07-28T09:36:31.706905Z"
    }
   },
   "outputs": [
    {
     "data": {
      "text/plain": [
       "<matplotlib.axes._subplots.AxesSubplot at 0x7f871693ba60>"
      ]
     },
     "execution_count": 26,
     "metadata": {},
     "output_type": "execute_result"
    },
    {
     "data": {
      "image/png": "[encoded data removed]",
      "text/plain": [
       "<Figure size 432x288 with 1 Axes>"
      ]
     },
     "metadata": {
      "needs_background": "light"
     },
     "output_type": "display_data"
    }
   ],
   "source": [
    "dt['Distance'].hist(bins=np.linspace(0, 12000, 49))"
   ]
  },
  {
   "cell_type": "markdown",
   "metadata": {},
   "source": [
    "## Drive Time between Stations (s)"
   ]
  },
  {
   "cell_type": "code",
   "execution_count": 27,
   "metadata": {
    "ExecuteTime": {
     "end_time": "2020-07-28T09:36:32.519738Z",
     "start_time": "2020-07-28T09:36:32.514945Z"
    }
   },
   "outputs": [
    {
     "data": {
      "text/plain": [
       "37"
      ]
     },
     "execution_count": 27,
     "metadata": {},
     "output_type": "execute_result"
    }
   ],
   "source": [
    "dt['Drive Time'].min()"
   ]
  },
  {
   "cell_type": "code",
   "execution_count": 28,
   "metadata": {
    "ExecuteTime": {
     "end_time": "2020-07-28T09:36:32.527001Z",
     "start_time": "2020-07-28T09:36:32.522217Z"
    }
   },
   "outputs": [
    {
     "data": {
      "text/plain": [
       "340"
      ]
     },
     "execution_count": 28,
     "metadata": {},
     "output_type": "execute_result"
    }
   ],
   "source": [
    "dt['Drive Time'].max()"
   ]
  },
  {
   "cell_type": "code",
   "execution_count": 29,
   "metadata": {
    "ExecuteTime": {
     "end_time": "2020-07-28T09:36:32.844396Z",
     "start_time": "2020-07-28T09:36:32.529644Z"
    }
   },
   "outputs": [
    {
     "data": {
      "text/plain": [
       "<matplotlib.axes._subplots.AxesSubplot at 0x7f8716ad3b20>"
      ]
     },
     "execution_count": 29,
     "metadata": {},
     "output_type": "execute_result"
    },
    {
     "data": {
      "image/png": "[encoded data removed]",
      "text/plain": [
       "<Figure size 432x288 with 1 Axes>"
      ]
     },
     "metadata": {
      "needs_background": "light"
     },
     "output_type": "display_data"
    }
   ],
   "source": [
    "dt['Drive Time'].hist(bins=np.linspace(0, 500, 51))"
   ]
  },
  {
   "cell_type": "markdown",
   "metadata": {},
   "source": [
    "## Dwell Times (s)"
   ]
  },
  {
   "cell_type": "code",
   "execution_count": 30,
   "metadata": {
    "ExecuteTime": {
     "end_time": "2020-07-28T09:36:33.399516Z",
     "start_time": "2020-07-28T09:36:33.394922Z"
    }
   },
   "outputs": [
    {
     "data": {
      "text/plain": [
       "10"
      ]
     },
     "execution_count": 30,
     "metadata": {},
     "output_type": "execute_result"
    }
   ],
   "source": [
    "dt['Peak Dwell Time'].min()"
   ]
  },
  {
   "cell_type": "code",
   "execution_count": 31,
   "metadata": {
    "ExecuteTime": {
     "end_time": "2020-07-28T09:36:33.407476Z",
     "start_time": "2020-07-28T09:36:33.402517Z"
    }
   },
   "outputs": [
    {
     "data": {
      "text/plain": [
       "197"
      ]
     },
     "execution_count": 31,
     "metadata": {},
     "output_type": "execute_result"
    }
   ],
   "source": [
    "dt['Peak Dwell Time'].max()"
   ]
  },
  {
   "cell_type": "code",
   "execution_count": 32,
   "metadata": {
    "ExecuteTime": {
     "end_time": "2020-07-28T09:36:33.415441Z",
     "start_time": "2020-07-28T09:36:33.410340Z"
    }
   },
   "outputs": [
    {
     "data": {
      "text/plain": [
       "53.22145804676754"
      ]
     },
     "execution_count": 32,
     "metadata": {},
     "output_type": "execute_result"
    }
   ],
   "source": [
    "dt['Peak Dwell Time'].mean()"
   ]
  },
  {
   "cell_type": "code",
   "execution_count": 33,
   "metadata": {
    "ExecuteTime": {
     "end_time": "2020-07-28T09:36:33.423785Z",
     "start_time": "2020-07-28T09:36:33.418095Z"
    }
   },
   "outputs": [
    {
     "data": {
      "text/plain": [
       "32.537017385594986"
      ]
     },
     "execution_count": 33,
     "metadata": {},
     "output_type": "execute_result"
    }
   ],
   "source": [
    "dt['Peak Dwell Time'].std()"
   ]
  },
  {
   "cell_type": "code",
   "execution_count": 34,
   "metadata": {
    "ExecuteTime": {
     "end_time": "2020-07-28T09:36:33.741926Z",
     "start_time": "2020-07-28T09:36:33.425939Z"
    },
    "scrolled": true
   },
   "outputs": [
    {
     "data": {
      "text/plain": [
       "<matplotlib.axes._subplots.AxesSubplot at 0x7f8716c5d580>"
      ]
     },
     "execution_count": 34,
     "metadata": {},
     "output_type": "execute_result"
    },
    {
     "data": {
      "image/png": "[encoded data removed]",
      "text/plain": [
       "<Figure size 432x288 with 1 Axes>"
      ]
     },
     "metadata": {
      "needs_background": "light"
     },
     "output_type": "display_data"
    }
   ],
   "source": [
    "dt['Peak Dwell Time'].hist(bins=np.linspace(0, 300, 61))"
   ]
  },
  {
   "cell_type": "code",
   "execution_count": 35,
   "metadata": {
    "ExecuteTime": {
     "end_time": "2020-07-28T09:36:33.749244Z",
     "start_time": "2020-07-28T09:36:33.745110Z"
    }
   },
   "outputs": [
    {
     "data": {
      "text/plain": [
       "10"
      ]
     },
     "execution_count": 35,
     "metadata": {},
     "output_type": "execute_result"
    }
   ],
   "source": [
    "dt['Off-Peak Dwell Time'].min()"
   ]
  },
  {
   "cell_type": "code",
   "execution_count": 36,
   "metadata": {
    "ExecuteTime": {
     "end_time": "2020-07-28T09:36:33.755821Z",
     "start_time": "2020-07-28T09:36:33.751599Z"
    }
   },
   "outputs": [
    {
     "data": {
      "text/plain": [
       "200"
      ]
     },
     "execution_count": 36,
     "metadata": {},
     "output_type": "execute_result"
    }
   ],
   "source": [
    "dt['Off-Peak Dwell Time'].max()"
   ]
  },
  {
   "cell_type": "code",
   "execution_count": 37,
   "metadata": {
    "ExecuteTime": {
     "end_time": "2020-07-28T09:36:34.038968Z",
     "start_time": "2020-07-28T09:36:33.757687Z"
    }
   },
   "outputs": [
    {
     "data": {
      "text/plain": [
       "<matplotlib.axes._subplots.AxesSubplot at 0x7f8716eceb20>"
      ]
     },
     "execution_count": 37,
     "metadata": {},
     "output_type": "execute_result"
    },
    {
     "data": {
      "image/png": "[encoded data removed]",
      "text/plain": [
       "<Figure size 432x288 with 1 Axes>"
      ]
     },
     "metadata": {
      "needs_background": "light"
     },
     "output_type": "display_data"
    }
   ],
   "source": [
    "dt['Off-Peak Dwell Time'].hist(bins=np.linspace(0, 300, 31))"
   ]
  },
  {
   "cell_type": "markdown",
   "metadata": {},
   "source": [
    "# Modelling"
   ]
  },
  {
   "cell_type": "markdown",
   "metadata": {},
   "source": [
    "Components of the system will be described by Python classes. The parameters are passed as data frames.\n",
    "\n",
    "We assume that the global variable `env` is initialised before any component of the system is actually generated."
   ]
  },
  {
   "cell_type": "markdown",
   "metadata": {},
   "source": [
    "## The Infrastructure (Stations, Depots etc)"
   ]
  },
  {
   "cell_type": "markdown",
   "metadata": {},
   "source": [
    "The class NetworkNode is used as the common base class for all infrastructure classes. Each NetworkNode (like a station) has a name and belongs to a track, i.e. a line and a direction."
   ]
  },
  {
   "cell_type": "code",
   "execution_count": 38,
   "metadata": {
    "ExecuteTime": {
     "end_time": "2020-07-28T09:36:36.725513Z",
     "start_time": "2020-07-28T09:36:36.709438Z"
    }
   },
   "outputs": [],
   "source": [
    "class NetworkNode:\n",
    "    \n",
    "    def __init__(self, location, line):\n",
    "        self.location=location\n",
    "        self.line=line\n",
    "        self.tracing=False\n",
    "        self.incidents=[]\n",
    "        self.arr_time=[]\n",
    "        self.dep_time=[]\n",
    "\n",
    "    # is only used in connection with tracing\n",
    "    def setTrack(self, track):\n",
    "        self.track=track\n",
    "        \n",
    "    def isTracing(self):\n",
    "        return self.tracing and self.track.isTracing()\n",
    "    \n",
    "    def trace(self):\n",
    "        self.tracing=True\n",
    "        \n",
    "    def trace_prefix(self, train):\n",
    "        global max_line_name_length\n",
    "        global max_direction_length\n",
    "        return f\"{now():s} \" \\\n",
    "               f\"{self.line:{max_line_name_length}s} \" \\\n",
    "               f\"[Train {train.getNo():2d} \" \\\n",
    "               f\"{train.getDirection():{max_direction_length}s}]\"\n",
    "    \n",
    "    def arr(self, train):\n",
    "        self.arr_time.append(env.now)\n",
    "        if self.isTracing() and train.isTracing():\n",
    "            print(f\"{self.trace_prefix(train):s} arr {self.loc():s}\")        \n",
    "\n",
    "    def dep(self, train, dest):\n",
    "        self.dep_time.append(env.now)\n",
    "        if self.isTracing() and train.isTracing():\n",
    "            print(f\"{self.trace_prefix(train):s} dep {self.loc():s} for {dest.loc():s}\")\n",
    "        \n",
    "    def loc(self):\n",
    "        return self.location\n",
    "    \n",
    "    def __str__(self):\n",
    "        return self.location\n",
    "    \n",
    "\n",
    "    def getResource(self):\n",
    "        pass\n",
    "    \n",
    "    # NEW: Incident Handling\n",
    "    # trace output for incident\n",
    "    def inc(self, train):\n",
    "        if self.isTracing() or train.isTracing():\n",
    "            delay=self.incidentDelay()\n",
    "            message=f\"expected delay {daytime(delay):s}\" if delay>0 else \"incident cleared\"\n",
    "            print(f\"{self.trace_prefix(train):s} inc {self.loc():s} {message:s}\")        \n",
    "            \n",
    "    # registers an incident\n",
    "    def registerIncident(self, incident):\n",
    "        self.incidents+=[incident]\n",
    "        \n",
    "    # checks if there is currently an incident in progress\n",
    "    # if yes, it returns True otherwise False\n",
    "    def isIncident(self):\n",
    "        for inc in self.incidents:\n",
    "            if inc.active():\n",
    "                return True\n",
    "        return False\n",
    "        \n",
    "    # if there is currently an incident in progress it returns\n",
    "    # the time the incident will probably continue, otherwise it returns 0\n",
    "    def incidentDelay(self):\n",
    "        stopTime=0\n",
    "        for incident in self.incidents:\n",
    "            if incident.active():\n",
    "                stopTime=max(stopTime, incident.stopTime())\n",
    "        return 0 if stopTime==0 else stopTime-env.now\n",
    "    \n",
    "    def getArrivalTimes(self):\n",
    "        return self.arr_time\n",
    "    \n",
    "    def getDepartureTimes(self):\n",
    "        return self.dep_time"
   ]
  },
  {
   "cell_type": "markdown",
   "metadata": {},
   "source": [
    "### Depots"
   ]
  },
  {
   "cell_type": "markdown",
   "metadata": {},
   "source": [
    "A train depot serves a line and feeds trains into a particular direction."
   ]
  },
  {
   "cell_type": "code",
   "execution_count": 39,
   "metadata": {
    "ExecuteTime": {
     "end_time": "2020-07-28T09:36:38.359019Z",
     "start_time": "2020-07-28T09:36:38.353277Z"
    }
   },
   "outputs": [],
   "source": [
    "class Depot(NetworkNode):\n",
    "    def __init__(self, location, line, direction):\n",
    "        super().__init__(location+\" (DEPOT)\", line)\n",
    "        self.direction=direction\n",
    "        \n",
    "    def driveTime(self):\n",
    "        return 20\n",
    "    \n",
    "    def dwellTime(self):\n",
    "        return 10\n",
    "    \n",
    "    def dep(self, train, dest):\n",
    "        train.setDirection(self.direction)\n",
    "        super().dep(train, dest)\n",
    "        \n",
    "    def getResource(self):\n",
    "        return None"
   ]
  },
  {
   "cell_type": "markdown",
   "metadata": {},
   "source": [
    "### Stations"
   ]
  },
  {
   "cell_type": "markdown",
   "metadata": {},
   "source": [
    "A Station object describes a track in a physical station. Hence we use a station object for each of the directions of a line going through the station. \n",
    "\n",
    "Normally we have therefore two stations in a location. When two lines are crossing at an interchange, we will have actually 4 station objects sharing the same common name: two (for each direction) for each of the lines.  As such a \"station\" in our terminology is more like a platform or a track in a real life station.\n",
    "\n",
    "The common name of the physical station can be accessed as `loc()`. "
   ]
  },
  {
   "cell_type": "code",
   "execution_count": 40,
   "metadata": {
    "ExecuteTime": {
     "end_time": "2020-07-28T09:36:40.001458Z",
     "start_time": "2020-07-28T09:36:39.997768Z"
    }
   },
   "outputs": [],
   "source": [
    "def scale_dwell(m):\n",
    "    return min(0.3*m, 10)\n",
    "\n",
    "def scale_drive(m):\n",
    "    return min(0.2*m, 5)"
   ]
  },
  {
   "cell_type": "code",
   "execution_count": 41,
   "metadata": {
    "ExecuteTime": {
     "end_time": "2020-07-28T09:36:40.017828Z",
     "start_time": "2020-07-28T09:36:40.004146Z"
    }
   },
   "outputs": [],
   "source": [
    "class Station(NetworkNode):\n",
    "    def __init__(self, location, line, direction):\n",
    "        super().__init__(location, line)\n",
    "        self.location=location\n",
    "        self.line=line\n",
    "        self.direction=direction\n",
    "        self.resource=simpy.Resource(env, capacity=1)\n",
    "        \n",
    "        dd=dt[dt['Line']==self.line]\n",
    "        dd=dd[dd['Direction']==self.direction]\n",
    "        dd=dd[dd['From']==location]\n",
    "        \n",
    "        if len(dd)==0:\n",
    "            # last node in a direction, the last passengers leave the train\n",
    "            # and the train moves into the Cross-Over or the Depot\n",
    "            self.drive_time=20\n",
    "            self.off_peak_dwell_time=60\n",
    "            self.peak_dwell_time=60\n",
    "        else:\n",
    "            self.drive_time=dd.iloc[0].at['Drive Time']\n",
    "            self.off_peak_dwell_time=dd.iloc[0].at['Off-Peak Dwell Time']\n",
    "            self.peak_dwell_time=dd.iloc[0].at['Peak Dwell Time']\n",
    "\n",
    "        self.dist_drive_time = \\\n",
    "            stats.expon(loc=self.drive_time, \n",
    "                        scale=scale_drive(self.drive_time))\n",
    "        \n",
    "        self.dist_off_peak_dwell_time = \\\n",
    "            stats.norm(loc=self.off_peak_dwell_time, \n",
    "                       scale=scale_dwell(self.off_peak_dwell_time))\n",
    "        \n",
    "        self.dist_peak_dwell_time = \\\n",
    "            stats.norm(loc=self.peak_dwell_time, \n",
    "                       scale=scale_dwell(self.peak_dwell_time))\n",
    "\n",
    "    def driveTime(self):\n",
    "        return self.dist_drive_time.rvs()\n",
    "    \n",
    "    def dwellTime(self):\n",
    "        if isPeakTime():\n",
    "            x = self.dist_peak_dwell_time.rvs()\n",
    "        else:\n",
    "            x = self.dist_off_peak_dwell_time.rvs()\n",
    "        if x<0:\n",
    "            x=1\n",
    "        if x<5:\n",
    "            x = x*3\n",
    "        return x\n",
    "    \n",
    "    def __str__(self):\n",
    "        return self.location + \" (\" + self.direction[0] + \")\"\n",
    "\n",
    "    def getResource(self):\n",
    "        return self.resource"
   ]
  },
  {
   "cell_type": "markdown",
   "metadata": {},
   "source": [
    "### Cross-Overs"
   ]
  },
  {
   "cell_type": "markdown",
   "metadata": {},
   "source": [
    "A cross over node is attached to the last station at the end of a line and allows trains to switch direction. \n",
    "A cross over node shares the location name and the line with the station it is attached to, however is serves actually both directions. A cross over node may have a limited capacity holding trains.\n",
    "\n",
    "The drive time (in and out of the cross over node) is assumed as a fixed constant, as is the dwell time in the cross over node. These parameters could in the future also be stored in the line table."
   ]
  },
  {
   "cell_type": "code",
   "execution_count": 42,
   "metadata": {
    "ExecuteTime": {
     "end_time": "2020-07-28T09:36:41.657479Z",
     "start_time": "2020-07-28T09:36:41.651082Z"
    }
   },
   "outputs": [],
   "source": [
    "class CrossOver(NetworkNode):\n",
    "    def __init__(self, location, line, direction, capacity=2):\n",
    "        super().__init__(location+\" (X)\", line)\n",
    "        self.direction=direction\n",
    "        self.resource=simpy.Resource(env, capacity=2)\n",
    "        \n",
    "    def driveTime(self):\n",
    "        return 20\n",
    "    \n",
    "    def dwellTime(self):\n",
    "        return 300\n",
    "    \n",
    "    def dep(self, train, dest):\n",
    "        train.setDirection(self.direction)\n",
    "        super().dep(train, dest)\n",
    "        \n",
    "    def getResource(self):\n",
    "        return self.resource"
   ]
  },
  {
   "cell_type": "markdown",
   "metadata": {},
   "source": [
    "## The Network"
   ]
  },
  {
   "cell_type": "markdown",
   "metadata": {},
   "source": [
    "A track describes a direction of a line. The parameters describing a track are:\n",
    "- The start and stop times of the line (for example 6:00 to 23:00),\n",
    "- The time between trains (for example every 5 minutes), but this may vary during the day.\n",
    "\n",
    "The parameters for a line will later be taken from the line table. For the time being we use a simple procedure running the simulation of a single track."
   ]
  },
  {
   "cell_type": "code",
   "execution_count": 43,
   "metadata": {
    "ExecuteTime": {
     "end_time": "2020-07-28T09:36:43.309518Z",
     "start_time": "2020-07-28T09:36:43.285089Z"
    }
   },
   "outputs": [],
   "source": [
    "class Track(object):\n",
    "    def __init__(self, network, line, direction, depot, stations):\n",
    "        self.network=network\n",
    "        self.line=line\n",
    "        self.direction=direction\n",
    "\n",
    "        # extract line specific parameters\n",
    "        self.start = dl.at[line, 'start']\n",
    "        self.stop  = dl.at[line, 'stop']\n",
    "        self.freq  = dl.at[line, 'freq']\n",
    "        \n",
    "        self.track=[depot]+stations+[depot]\n",
    "        for s in self.track:\n",
    "            s.setTrack(self)\n",
    "            \n",
    "        self.tracing=False\n",
    "        self.tracingTrains=False\n",
    "        self.tracingTrainNos=[]\n",
    "    \n",
    "    def isTracing(self):\n",
    "        return self.tracing and self.network.isTracing()\n",
    "\n",
    "    def isTracingTrains(self):\n",
    "        return self.tracingTrains and self.network.isTracing()\n",
    "    \n",
    "    def trace(self, loc=None, train=None):\n",
    "        self.tracing=True\n",
    "        if loc is None:\n",
    "            for s in self.track:\n",
    "                s.trace()\n",
    "            if train is not None:\n",
    "                self.tracingTrains=True\n",
    "                self.tracingTrainNos.append(train)\n",
    "        else:\n",
    "            for s in self.track:\n",
    "                if s.loc()==loc:\n",
    "                    s.trace()\n",
    "            if train is not None:\n",
    "                self.tracingTrains=True\n",
    "                self.tracingTrainNos.append(train)\n",
    "\n",
    "    def getNetwork(self):\n",
    "        return self.network\n",
    "    \n",
    "    def getLine(self):\n",
    "        return self.line\n",
    "    \n",
    "    def getName(self):\n",
    "        if self.direction is None:\n",
    "            return self.line\n",
    "        else:\n",
    "            return self.line + \" (\"+self.direction+\")\"\n",
    "    \n",
    "    def getStations(self):\n",
    "        return self.track\n",
    "    \n",
    "    def process(self):\n",
    "        yield env.timeout(self.start-env.now) # the line starts operating at 6am\n",
    "        for i in range(int((self.stop-self.start)/self.freq)):\n",
    "            t=Train(i, self)\n",
    "            if self.tracingTrains and i in self.tracingTrainNos:\n",
    "                t.trace()\n",
    "            env.process(t.process())\n",
    "            yield env.timeout(self.freq)     \n",
    "            \n",
    "    def getArrData(self):\n",
    "        n=len(self.track[1].getArrivalTimes())-1\n",
    "        sd=pd.DataFrame(index=range(n))\n",
    "        for s in self.track:\n",
    "            if isinstance(s, Station):\n",
    "                col = s.loc()+\" (\"+s.direction[0]+\")\"\n",
    "                sd[col ]= [ s.arr_time[i+1]-s.arr_time[i] for i in range(n)]\n",
    "        return sd\n",
    "    \n",
    "    def getDepData(self):\n",
    "        n=len(self.track[1].getDepartureTimes())-1\n",
    "        sd=pd.DataFrame(index=range(n))\n",
    "        for s in self.track:\n",
    "            if isinstance(s, Station):\n",
    "                dep_col=s.loc()+\" (\"+s.direction[0]+\")\"\n",
    "                sd[dep_col]=[s.dep_time[i+1]-s.dep_time[i] for i in range(n)]\n",
    "        return sd\n",
    "    \n",
    "    def __str__(self):\n",
    "        direction = \"\" if self.direction is None else \" (\"+self.direction+\")\"\n",
    "        stations = \" - \".join([ str(s) for s in self.track ])\n",
    "        return self.line + direction + \": \" + stations"
   ]
  },
  {
   "cell_type": "code",
   "execution_count": 44,
   "metadata": {
    "ExecuteTime": {
     "end_time": "2020-07-28T09:36:43.316604Z",
     "start_time": "2020-07-28T09:36:43.312107Z"
    }
   },
   "outputs": [],
   "source": [
    "def allStations(line, direction):\n",
    "    dl=dt[dt['Line']==line]\n",
    "    ds=dl[dl['Direction']==direction]\n",
    "    stations=ds['From'].to_list()\n",
    "    stations+=[ds['To'].to_list()[-1]]\n",
    "    return [ Station(s, line, direction) for s in stations ]"
   ]
  },
  {
   "cell_type": "code",
   "execution_count": 45,
   "metadata": {
    "ExecuteTime": {
     "end_time": "2020-07-28T09:36:43.331590Z",
     "start_time": "2020-07-28T09:36:43.319675Z"
    }
   },
   "outputs": [],
   "source": [
    "def allTracks(network):\n",
    "    lines=[]\n",
    "    for line in dt['Line'].unique():\n",
    "        directions=dt[dt['Line']==line]['Direction'].unique()\n",
    "        stations=[ allStations(line, d) for d in directions]\n",
    "        \n",
    "        if stations[0][0].loc()==stations[0][-1].loc() and \\\n",
    "                stations[1][0].loc()==stations[1][-1].loc():\n",
    "            # create inner circular tracks\n",
    "            depot = Depot(stations[0][0].loc(), line, directions[0])\n",
    "            l = Track(network, line, directions[0], depot, stations[0])\n",
    "            lines += [l]\n",
    "            \n",
    "            # create outer circular tracks\n",
    "            depot = Depot(stations[1][0].loc(), line, directions[1])\n",
    "            l = Track(network, line, directions[1], depot, stations[1])\n",
    "            lines += [l]\n",
    "        \n",
    "        elif stations[0][-1].loc()==stations[1][0].loc() and \\\n",
    "                stations[0][0].loc()==stations[1][-1].loc():\n",
    "            # create linear track combining both directions with cross-over node\n",
    "            depot = Depot(stations[0][0].loc(), line, directions[0])\n",
    "            x = CrossOver(stations[0][-1].loc(), line, directions[1])\n",
    "            l = Track(network, line, None, depot, stations[0]+[x]+stations[1])\n",
    "            lines+=[l]\n",
    "\n",
    "    return lines"
   ]
  },
  {
   "cell_type": "code",
   "execution_count": 46,
   "metadata": {
    "ExecuteTime": {
     "end_time": "2020-07-28T09:36:43.346538Z",
     "start_time": "2020-07-28T09:36:43.333970Z"
    }
   },
   "outputs": [],
   "source": [
    "class Network(object):\n",
    "    def __init__(self):\n",
    "        self.tracks=allTracks(self)\n",
    "        \n",
    "        self.tracing=False\n",
    "        self.tracingStart=None\n",
    "        self.tracingStop=None\n",
    "        \n",
    "    def getTracks(self):\n",
    "        return self.tracks\n",
    "    \n",
    "    def isTracing(self):\n",
    "        return self.tracing and \\\n",
    "                (self.tracingStart is None or self.tracingStart<=env.now) and \\\n",
    "                (self.tracingStop is None or env.now <= self.tracingStop)\n",
    "    \n",
    "    def trace(self, line=None, loc=None, train=None, start=None, stop=None):\n",
    "        self.tracing = True\n",
    "        self.tracingStart = parseTime(start)\n",
    "        self.tracingStop = parseTime(stop)\n",
    "        if line is None:\n",
    "            for t in self.tracks:\n",
    "                t.trace(loc=loc, train=train)\n",
    "        else:\n",
    "            for t in self.tracks:\n",
    "                if t.getLine()==line:\n",
    "                    t.trace(loc=loc, train=train)\n",
    "    \n",
    "    def registerIncident(self, start, stop, line=None, direction=None, loc=None):\n",
    "        incident = Incident(start, stop)\n",
    "        for t in self.tracks:\n",
    "            if line is None or t.getLine()==line:\n",
    "                for s in t.getStations():\n",
    "                    if direction is None or s.getDirection()==direction:\n",
    "                        if loc is None or s.loc()==loc:\n",
    "                            s.registerIncident(incident)\n",
    "    \n",
    "    def process(self):\n",
    "        for t in self.tracks:\n",
    "            # the process method has to be a generator, therefore we are\n",
    "            # adding a meaningless timeout\n",
    "            yield env.timeout(0)\n",
    "            env.process(t.process())\n",
    "            "
   ]
  },
  {
   "cell_type": "markdown",
   "metadata": {},
   "source": [
    "## Trains"
   ]
  },
  {
   "cell_type": "code",
   "execution_count": 47,
   "metadata": {
    "ExecuteTime": {
     "end_time": "2020-07-28T09:36:44.133115Z",
     "start_time": "2020-07-28T09:36:44.119929Z"
    }
   },
   "outputs": [],
   "source": [
    "class Train(object):  \n",
    "    def __init__(self, i, track):\n",
    "        self.no=i\n",
    "        self.track = track\n",
    "\n",
    "        self.direction = None\n",
    "        self.tracing = False\n",
    "\n",
    "    def setDirection(self, direction):\n",
    "        self.direction=direction\n",
    "\n",
    "    def getDirection(self):\n",
    "        return self.direction\n",
    "    \n",
    "    def getNo(self):\n",
    "        return self.no\n",
    "    \n",
    "    def isTracing(self):\n",
    "        return self.track.isTracing() and \\\n",
    "                (not self.track.isTracingTrains() or self.tracing)\n",
    "    \n",
    "    def trace(self):\n",
    "        self.tracing=True\n",
    "            \n",
    "    def traceOff(self):\n",
    "        self.tracing=False\n",
    "        \n",
    "    def process(self):\n",
    "\n",
    "        stations = self.track.getStations()\n",
    "        \n",
    "        here = stations[0]\n",
    "        here_req = None\n",
    "        \n",
    "        for dest in stations[1:]:\n",
    "            \n",
    "  \n",
    "            drivetime=here.driveTime()\n",
    "            dwelltime=here.dwellTime()\n",
    "            \n",
    "            yield env.timeout(dwelltime)\n",
    "\n",
    "            if here.isIncident():\n",
    "                here.inc(self)\n",
    "                yield env.timeout(here.incidentDelay())\n",
    "                here.inc(self)\n",
    "                \n",
    "            if dest.getResource() is not None:\n",
    "                dest_req = dest.getResource().request()\n",
    "                yield dest_req\n",
    "            else:\n",
    "                dest_req = None\n",
    "            \n",
    "            # if the train doesn't get immediate access, it continues waiting \n",
    "            # in the current station ('here').\n",
    "            # if the train got access the train departs from 'here'for 'dest'\n",
    "            \n",
    "            here.dep(self, dest)\n",
    "            \n",
    "            # Once the train has completely left the station, the train\n",
    "            # will release the track of station ('here'). \n",
    "            # We assume that the train has left the station after 10 secs  \n",
    "            delaytime=min(drivetime, 10)\n",
    "            yield env.timeout(delaytime)\n",
    "            if here_req is not None:\n",
    "                here.getResource().release(here_req)\n",
    "\n",
    "            # the train proceeds to drive to the next station ('dest')\n",
    "            yield env.timeout(drivetime-delaytime)\n",
    "            \n",
    "            dest.arr(self)\n",
    "            here = dest\n",
    "            here_req=dest_req\n"
   ]
  },
  {
   "cell_type": "markdown",
   "metadata": {},
   "source": [
    "## Incidents"
   ]
  },
  {
   "cell_type": "code",
   "execution_count": 48,
   "metadata": {
    "ExecuteTime": {
     "end_time": "2020-07-28T09:36:44.932246Z",
     "start_time": "2020-07-28T09:36:44.927256Z"
    }
   },
   "outputs": [],
   "source": [
    "class Incident:\n",
    "    \n",
    "    def __init__(self, start, stop):\n",
    "        self.start = parseTime(start)\n",
    "        self.stop = parseTime(stop)\n",
    "        \n",
    "    def active(self):\n",
    "        return self.start <= env.now and env.now <= self.stop\n",
    "    \n",
    "    def startTime(self):\n",
    "        return self.start\n",
    "    \n",
    "    def stopTime(self):\n",
    "        return self.stop"
   ]
  },
  {
   "cell_type": "markdown",
   "metadata": {},
   "source": [
    "# Utilities"
   ]
  },
  {
   "cell_type": "markdown",
   "metadata": {},
   "source": [
    "## Global Parameters"
   ]
  },
  {
   "cell_type": "code",
   "execution_count": 49,
   "metadata": {
    "ExecuteTime": {
     "end_time": "2020-07-28T09:36:46.588034Z",
     "start_time": "2020-07-28T09:36:46.583078Z"
    }
   },
   "outputs": [],
   "source": [
    "max_line_name_length = max([len(line) for line in dt['Line'].unique()])\n",
    "max_direction_length = max([len(line) for line in dt['Direction'].unique()])"
   ]
  },
  {
   "cell_type": "code",
   "execution_count": 50,
   "metadata": {
    "ExecuteTime": {
     "end_time": "2020-07-28T09:36:46.594516Z",
     "start_time": "2020-07-28T09:36:46.590720Z"
    }
   },
   "outputs": [],
   "source": [
    "def isPeakTime():\n",
    "    now=env.now\n",
    "    return (3600*7<=now and now<=3600*10) or \\\n",
    "           (3600*16<=now and now<=3600*19)"
   ]
  },
  {
   "cell_type": "markdown",
   "metadata": {},
   "source": [
    "## Time Parsing and Formating "
   ]
  },
  {
   "cell_type": "markdown",
   "metadata": {},
   "source": [
    "Format time in seconds as hh:mm:ss"
   ]
  },
  {
   "cell_type": "code",
   "execution_count": 51,
   "metadata": {
    "ExecuteTime": {
     "end_time": "2020-07-28T09:36:48.258598Z",
     "start_time": "2020-07-28T09:36:48.251607Z"
    }
   },
   "outputs": [],
   "source": [
    "def daytime(t):\n",
    "    t=int(t)\n",
    "    return f\"{t//3600:02d}:{(t%3600)//60:02d}:{t%60:02d}\"\n",
    "def now():\n",
    "    return daytime(env.now)\n",
    "\n",
    "def parseTime(s):\n",
    "    if s is None:\n",
    "        return None\n",
    "    if isinstance(s, str):\n",
    "        parts=s.split(':')\n",
    "        if len(parts)>=2:\n",
    "            hours=int(parts[0])\n",
    "            minutes=int(parts[1])\n",
    "            seconds=0 if len(parts)==2 else int(parts[2])\n",
    "            return 3600*hours+60*minutes+seconds\n",
    "    print(\"WARNING Parsing Error:\", s)\n",
    "    # any wrong formats will be passed through and may cause \n",
    "    # an error at a later stage\n",
    "    return s"
   ]
  },
  {
   "cell_type": "markdown",
   "metadata": {},
   "source": [
    "# Setting System Parameters"
   ]
  },
  {
   "cell_type": "markdown",
   "metadata": {},
   "source": [
    "For the time being we use the same parameters for all lines. With a bit of research this should be modified to reflect the actual situation."
   ]
  },
  {
   "cell_type": "code",
   "execution_count": 52,
   "metadata": {
    "ExecuteTime": {
     "end_time": "2020-07-28T09:36:49.950261Z",
     "start_time": "2020-07-28T09:36:49.925160Z"
    },
    "scrolled": false
   },
   "outputs": [
    {
     "data": {
      "text/html": [
       "<div>\n",
       "<style scoped>\n",
       "    .dataframe tbody tr th:only-of-type {\n",
       "        vertical-align: middle;\n",
       "    }\n",
       "\n",
       "    .dataframe tbody tr th {\n",
       "        vertical-align: top;\n",
       "    }\n",
       "\n",
       "    .dataframe thead th {\n",
       "        text-align: right;\n",
       "    }\n",
       "</style>\n",
       "<table border=\"1\" class=\"dataframe\">\n",
       "  <thead>\n",
       "    <tr style=\"text-align: right;\">\n",
       "      <th></th>\n",
       "      <th>Direction 1</th>\n",
       "      <th>Direction 2</th>\n",
       "      <th>Stations</th>\n",
       "      <th>Total Dist</th>\n",
       "      <th>Min Dist</th>\n",
       "      <th>Avg Dist</th>\n",
       "      <th>Max Dist</th>\n",
       "      <th>Total Running Time</th>\n",
       "      <th>Max Running Time</th>\n",
       "      <th>max a</th>\n",
       "      <th>max v</th>\n",
       "      <th>start</th>\n",
       "      <th>stop</th>\n",
       "      <th>freq</th>\n",
       "    </tr>\n",
       "    <tr>\n",
       "      <th>Line</th>\n",
       "      <th></th>\n",
       "      <th></th>\n",
       "      <th></th>\n",
       "      <th></th>\n",
       "      <th></th>\n",
       "      <th></th>\n",
       "      <th></th>\n",
       "      <th></th>\n",
       "      <th></th>\n",
       "      <th></th>\n",
       "      <th></th>\n",
       "      <th></th>\n",
       "      <th></th>\n",
       "      <th></th>\n",
       "    </tr>\n",
       "  </thead>\n",
       "  <tbody>\n",
       "    <tr>\n",
       "      <th>Bakerloo</th>\n",
       "      <td>Northbound</td>\n",
       "      <td>Southbound</td>\n",
       "      <td>24</td>\n",
       "      <td>23230</td>\n",
       "      <td>370</td>\n",
       "      <td>967</td>\n",
       "      <td>1740</td>\n",
       "      <td>2521</td>\n",
       "      <td>169.0</td>\n",
       "      <td>0.7</td>\n",
       "      <td>25</td>\n",
       "      <td>21600</td>\n",
       "      <td>82800</td>\n",
       "      <td>600</td>\n",
       "    </tr>\n",
       "    <tr>\n",
       "      <th>Central</th>\n",
       "      <td>Eastbound</td>\n",
       "      <td>Westbound</td>\n",
       "      <td>45</td>\n",
       "      <td>67520</td>\n",
       "      <td>400</td>\n",
       "      <td>1500</td>\n",
       "      <td>3340</td>\n",
       "      <td>5279</td>\n",
       "      <td>192.0</td>\n",
       "      <td>0.7</td>\n",
       "      <td>25</td>\n",
       "      <td>21600</td>\n",
       "      <td>82800</td>\n",
       "      <td>600</td>\n",
       "    </tr>\n",
       "    <tr>\n",
       "      <th>Victoria</th>\n",
       "      <td>Northbound</td>\n",
       "      <td>Southbound</td>\n",
       "      <td>15</td>\n",
       "      <td>21250</td>\n",
       "      <td>740</td>\n",
       "      <td>1416</td>\n",
       "      <td>3150</td>\n",
       "      <td>1865</td>\n",
       "      <td>255.0</td>\n",
       "      <td>0.7</td>\n",
       "      <td>25</td>\n",
       "      <td>21600</td>\n",
       "      <td>82800</td>\n",
       "      <td>600</td>\n",
       "    </tr>\n",
       "    <tr>\n",
       "      <th>Waterloo &amp; City</th>\n",
       "      <td>Eastbound</td>\n",
       "      <td>Westbound</td>\n",
       "      <td>1</td>\n",
       "      <td>2370</td>\n",
       "      <td>2370</td>\n",
       "      <td>2370</td>\n",
       "      <td>2370</td>\n",
       "      <td>272</td>\n",
       "      <td>292.0</td>\n",
       "      <td>0.7</td>\n",
       "      <td>25</td>\n",
       "      <td>21600</td>\n",
       "      <td>82800</td>\n",
       "      <td>600</td>\n",
       "    </tr>\n",
       "    <tr>\n",
       "      <th>Jubilee</th>\n",
       "      <td>Eastbound</td>\n",
       "      <td>Westbound</td>\n",
       "      <td>26</td>\n",
       "      <td>36950</td>\n",
       "      <td>440</td>\n",
       "      <td>1421</td>\n",
       "      <td>2850</td>\n",
       "      <td>3058</td>\n",
       "      <td>208.0</td>\n",
       "      <td>0.7</td>\n",
       "      <td>25</td>\n",
       "      <td>21600</td>\n",
       "      <td>82800</td>\n",
       "      <td>600</td>\n",
       "    </tr>\n",
       "    <tr>\n",
       "      <th>Northern</th>\n",
       "      <td>Northbound</td>\n",
       "      <td>Southbound</td>\n",
       "      <td>51</td>\n",
       "      <td>57700</td>\n",
       "      <td>270</td>\n",
       "      <td>1131</td>\n",
       "      <td>2460</td>\n",
       "      <td>6100</td>\n",
       "      <td>277.0</td>\n",
       "      <td>0.7</td>\n",
       "      <td>25</td>\n",
       "      <td>21600</td>\n",
       "      <td>82800</td>\n",
       "      <td>600</td>\n",
       "    </tr>\n",
       "    <tr>\n",
       "      <th>Piccadilly</th>\n",
       "      <td>Eastbound</td>\n",
       "      <td>Westbound</td>\n",
       "      <td>49</td>\n",
       "      <td>66874</td>\n",
       "      <td>250</td>\n",
       "      <td>1350</td>\n",
       "      <td>4420</td>\n",
       "      <td>5961</td>\n",
       "      <td>339.0</td>\n",
       "      <td>0.7</td>\n",
       "      <td>25</td>\n",
       "      <td>21600</td>\n",
       "      <td>82800</td>\n",
       "      <td>900</td>\n",
       "    </tr>\n",
       "    <tr>\n",
       "      <th>Metropolitan</th>\n",
       "      <td>Eastbound</td>\n",
       "      <td>Westbound</td>\n",
       "      <td>35</td>\n",
       "      <td>87689</td>\n",
       "      <td>510</td>\n",
       "      <td>2505</td>\n",
       "      <td>11630</td>\n",
       "      <td>6962</td>\n",
       "      <td>661.0</td>\n",
       "      <td>0.8</td>\n",
       "      <td>40</td>\n",
       "      <td>21600</td>\n",
       "      <td>82800</td>\n",
       "      <td>1200</td>\n",
       "    </tr>\n",
       "    <tr>\n",
       "      <th>H &amp; C</th>\n",
       "      <td>Eastbound</td>\n",
       "      <td>Westbound</td>\n",
       "      <td>27</td>\n",
       "      <td>25410</td>\n",
       "      <td>510</td>\n",
       "      <td>941</td>\n",
       "      <td>2290</td>\n",
       "      <td>2929</td>\n",
       "      <td>226.0</td>\n",
       "      <td>0.7</td>\n",
       "      <td>25</td>\n",
       "      <td>21600</td>\n",
       "      <td>82800</td>\n",
       "      <td>600</td>\n",
       "    </tr>\n",
       "    <tr>\n",
       "      <th>Circle</th>\n",
       "      <td>Inner</td>\n",
       "      <td>Outer</td>\n",
       "      <td>27</td>\n",
       "      <td>20760</td>\n",
       "      <td>310</td>\n",
       "      <td>768</td>\n",
       "      <td>1850</td>\n",
       "      <td>2548</td>\n",
       "      <td>187.0</td>\n",
       "      <td>0.7</td>\n",
       "      <td>25</td>\n",
       "      <td>21600</td>\n",
       "      <td>82800</td>\n",
       "      <td>600</td>\n",
       "    </tr>\n",
       "    <tr>\n",
       "      <th>District</th>\n",
       "      <td>Eastbound</td>\n",
       "      <td>Westbound</td>\n",
       "      <td>56</td>\n",
       "      <td>58460</td>\n",
       "      <td>310</td>\n",
       "      <td>1043</td>\n",
       "      <td>2370</td>\n",
       "      <td>6225</td>\n",
       "      <td>226.0</td>\n",
       "      <td>0.7</td>\n",
       "      <td>25</td>\n",
       "      <td>21600</td>\n",
       "      <td>82800</td>\n",
       "      <td>600</td>\n",
       "    </tr>\n",
       "    <tr>\n",
       "      <th>East London</th>\n",
       "      <td>Northbound</td>\n",
       "      <td>Southbound</td>\n",
       "      <td>7</td>\n",
       "      <td>5890</td>\n",
       "      <td>320</td>\n",
       "      <td>841</td>\n",
       "      <td>2040</td>\n",
       "      <td>716</td>\n",
       "      <td>232.0</td>\n",
       "      <td>0.7</td>\n",
       "      <td>25</td>\n",
       "      <td>21600</td>\n",
       "      <td>82800</td>\n",
       "      <td>600</td>\n",
       "    </tr>\n",
       "  </tbody>\n",
       "</table>\n",
       "</div>"
      ],
      "text/plain": [
       "                Direction 1 Direction 2 Stations Total Dist Min Dist Avg Dist  \\\n",
       "Line                                                                            \n",
       "Bakerloo         Northbound  Southbound       24      23230      370      967   \n",
       "Central           Eastbound   Westbound       45      67520      400     1500   \n",
       "Victoria         Northbound  Southbound       15      21250      740     1416   \n",
       "Waterloo & City   Eastbound   Westbound        1       2370     2370     2370   \n",
       "Jubilee           Eastbound   Westbound       26      36950      440     1421   \n",
       "Northern         Northbound  Southbound       51      57700      270     1131   \n",
       "Piccadilly        Eastbound   Westbound       49      66874      250     1350   \n",
       "Metropolitan      Eastbound   Westbound       35      87689      510     2505   \n",
       "H & C             Eastbound   Westbound       27      25410      510      941   \n",
       "Circle                Inner       Outer       27      20760      310      768   \n",
       "District          Eastbound   Westbound       56      58460      310     1043   \n",
       "East London      Northbound  Southbound        7       5890      320      841   \n",
       "\n",
       "                Max Dist Total Running Time  Max Running Time  max a  max v  \\\n",
       "Line                                                                          \n",
       "Bakerloo            1740               2521             169.0    0.7     25   \n",
       "Central             3340               5279             192.0    0.7     25   \n",
       "Victoria            3150               1865             255.0    0.7     25   \n",
       "Waterloo & City     2370                272             292.0    0.7     25   \n",
       "Jubilee             2850               3058             208.0    0.7     25   \n",
       "Northern            2460               6100             277.0    0.7     25   \n",
       "Piccadilly          4420               5961             339.0    0.7     25   \n",
       "Metropolitan       11630               6962             661.0    0.8     40   \n",
       "H & C               2290               2929             226.0    0.7     25   \n",
       "Circle              1850               2548             187.0    0.7     25   \n",
       "District            2370               6225             226.0    0.7     25   \n",
       "East London         2040                716             232.0    0.7     25   \n",
       "\n",
       "                 start   stop  freq  \n",
       "Line                                 \n",
       "Bakerloo         21600  82800   600  \n",
       "Central          21600  82800   600  \n",
       "Victoria         21600  82800   600  \n",
       "Waterloo & City  21600  82800   600  \n",
       "Jubilee          21600  82800   600  \n",
       "Northern         21600  82800   600  \n",
       "Piccadilly       21600  82800   900  \n",
       "Metropolitan     21600  82800  1200  \n",
       "H & C            21600  82800   600  \n",
       "Circle           21600  82800   600  \n",
       "District         21600  82800   600  \n",
       "East London      21600  82800   600  "
      ]
     },
     "execution_count": 52,
     "metadata": {},
     "output_type": "execute_result"
    }
   ],
   "source": [
    "dl['start'] = parseTime(\"06:00:00\")\n",
    "dl['stop']  = parseTime(\"23:00:00\")\n",
    "dl['freq']  = parseTime(\"00:10:00\")\n",
    "\n",
    "dl.at['Metropolitan', 'freq'] = parseTime(\"00:20:00\")\n",
    "dl.at['Piccadilly', 'freq'] = parseTime(\"00:15:00\")\n",
    "\n",
    "dl"
   ]
  },
  {
   "cell_type": "markdown",
   "metadata": {},
   "source": [
    "# System Verification"
   ]
  },
  {
   "cell_type": "markdown",
   "metadata": {},
   "source": [
    "## Normal Operations"
   ]
  },
  {
   "cell_type": "markdown",
   "metadata": {},
   "source": [
    "Verify complete trace over a short time period"
   ]
  },
  {
   "cell_type": "code",
   "execution_count": 53,
   "metadata": {
    "ExecuteTime": {
     "end_time": "2020-07-28T09:37:12.774558Z",
     "start_time": "2020-07-28T09:36:52.955094Z"
    },
    "scrolled": false
   },
   "outputs": [
    {
     "name": "stdout",
     "output_type": "stream",
     "text": [
      "06:00:10 Metropolitan    [Train  0 Westbound ] dep ALDGATE (DEPOT) for ALDGATE\n",
      "06:00:30 Metropolitan    [Train  0 Westbound ] arr ALDGATE\n",
      "06:01:15 Metropolitan    [Train  0 Westbound ] dep ALDGATE for LIVERPOOL STREET\n",
      "06:02:15 Metropolitan    [Train  0 Westbound ] arr LIVERPOOL STREET\n",
      "06:02:34 Metropolitan    [Train  0 Westbound ] dep LIVERPOOL STREET for MOORGATE\n",
      "06:03:28 Metropolitan    [Train  0 Westbound ] arr MOORGATE\n",
      "06:03:42 Metropolitan    [Train  0 Westbound ] dep MOORGATE for BARBICAN\n",
      "06:04:42 Metropolitan    [Train  0 Westbound ] arr BARBICAN\n",
      "06:05:00 Metropolitan    [Train  0 Westbound ] dep BARBICAN for FARRINGDON\n",
      "06:06:01 Metropolitan    [Train  0 Westbound ] arr FARRINGDON\n",
      "06:06:34 Metropolitan    [Train  0 Westbound ] dep FARRINGDON for KINGS CROSS ST PANCRAS\n",
      "06:08:25 Metropolitan    [Train  0 Westbound ] arr KINGS CROSS ST PANCRAS\n",
      "06:08:55 Metropolitan    [Train  0 Westbound ] dep KINGS CROSS ST PANCRAS for EUSTON SQUARE\n",
      "06:10:01 Metropolitan    [Train  0 Westbound ] arr EUSTON SQUARE\n",
      "06:10:26 Metropolitan    [Train  0 Westbound ] dep EUSTON SQUARE for GREAT PORTLAND STREET\n",
      "06:11:22 Metropolitan    [Train  0 Westbound ] arr GREAT PORTLAND STREET\n",
      "06:11:39 Metropolitan    [Train  0 Westbound ] dep GREAT PORTLAND STREET for BAKER STREET (MET)\n",
      "06:12:47 Metropolitan    [Train  0 Westbound ] arr BAKER STREET (MET)\n",
      "06:13:14 Metropolitan    [Train  0 Westbound ] dep BAKER STREET (MET) for FINCHLEY ROAD\n",
      "06:15:32 Metropolitan    [Train  0 Westbound ] arr FINCHLEY ROAD\n",
      "06:15:43 Metropolitan    [Train  0 Westbound ] dep FINCHLEY ROAD for WEMBLEY PARK\n",
      "06:19:39 Metropolitan    [Train  0 Westbound ] arr WEMBLEY PARK\n",
      "06:20:10 Metropolitan    [Train  1 Westbound ] dep ALDGATE (DEPOT) for ALDGATE\n",
      "06:20:21 Metropolitan    [Train  0 Westbound ] dep WEMBLEY PARK for PRESTON ROAD\n",
      "06:20:30 Metropolitan    [Train  1 Westbound ] arr ALDGATE\n",
      "06:20:56 Metropolitan    [Train  1 Westbound ] dep ALDGATE for LIVERPOOL STREET\n",
      "06:21:55 Metropolitan    [Train  0 Westbound ] arr PRESTON ROAD\n",
      "06:21:57 Metropolitan    [Train  1 Westbound ] arr LIVERPOOL STREET\n",
      "06:22:16 Metropolitan    [Train  0 Westbound ] dep PRESTON ROAD for NORTHWICK PARK\n",
      "06:22:19 Metropolitan    [Train  1 Westbound ] dep LIVERPOOL STREET for MOORGATE\n",
      "06:23:10 Metropolitan    [Train  1 Westbound ] arr MOORGATE\n",
      "06:23:28 Metropolitan    [Train  1 Westbound ] dep MOORGATE for BARBICAN\n",
      "06:23:55 Metropolitan    [Train  0 Westbound ] arr NORTHWICK PARK\n",
      "06:24:17 Metropolitan    [Train  0 Westbound ] dep NORTHWICK PARK for FINCHLEY ROAD\n",
      "06:24:34 Metropolitan    [Train  1 Westbound ] arr BARBICAN\n",
      "06:24:50 Metropolitan    [Train  1 Westbound ] dep BARBICAN for FARRINGDON\n",
      "06:25:38 Metropolitan    [Train  0 Westbound ] arr FINCHLEY ROAD\n",
      "06:25:42 Metropolitan    [Train  1 Westbound ] arr FARRINGDON\n",
      "06:26:01 Metropolitan    [Train  0 Westbound ] dep FINCHLEY ROAD for HARROW-ON-THE-HILL\n",
      "06:26:09 Metropolitan    [Train  1 Westbound ] dep FARRINGDON for KINGS CROSS ST PANCRAS\n",
      "06:27:47 Metropolitan    [Train  1 Westbound ] arr KINGS CROSS ST PANCRAS\n",
      "06:28:11 Metropolitan    [Train  1 Westbound ] dep KINGS CROSS ST PANCRAS for EUSTON SQUARE\n",
      "06:29:17 Metropolitan    [Train  1 Westbound ] arr EUSTON SQUARE\n",
      "06:29:42 Metropolitan    [Train  1 Westbound ] dep EUSTON SQUARE for GREAT PORTLAND STREET\n",
      "06:29:54 Metropolitan    [Train  0 Westbound ] arr HARROW-ON-THE-HILL\n",
      "06:30:03 Metropolitan    [Train  0 Westbound ] dep HARROW-ON-THE-HILL for WEST HARROW\n",
      "06:30:43 Metropolitan    [Train  1 Westbound ] arr GREAT PORTLAND STREET\n",
      "06:31:22 Metropolitan    [Train  1 Westbound ] dep GREAT PORTLAND STREET for BAKER STREET (MET)\n",
      "06:31:30 Metropolitan    [Train  0 Westbound ] arr WEST HARROW\n",
      "06:32:09 Metropolitan    [Train  0 Westbound ] dep WEST HARROW for RAYNERS LANE\n",
      "06:32:38 Metropolitan    [Train  1 Westbound ] arr BAKER STREET (MET)\n",
      "06:33:10 Metropolitan    [Train  1 Westbound ] dep BAKER STREET (MET) for FINCHLEY ROAD\n",
      "06:33:34 Metropolitan    [Train  0 Westbound ] arr RAYNERS LANE\n",
      "06:34:00 Metropolitan    [Train  0 Westbound ] dep RAYNERS LANE for EASTCOTE\n",
      "06:35:27 Metropolitan    [Train  1 Westbound ] arr FINCHLEY ROAD\n",
      "06:35:38 Metropolitan    [Train  0 Westbound ] arr EASTCOTE\n",
      "06:35:55 Metropolitan    [Train  0 Westbound ] dep EASTCOTE for RUISLIP MANOR\n",
      "06:35:59 Metropolitan    [Train  1 Westbound ] dep FINCHLEY ROAD for WEMBLEY PARK\n",
      "06:37:21 Metropolitan    [Train  0 Westbound ] arr RUISLIP MANOR\n",
      "06:37:43 Metropolitan    [Train  0 Westbound ] dep RUISLIP MANOR for RUISLIP\n",
      "06:38:50 Metropolitan    [Train  0 Westbound ] arr RUISLIP\n",
      "06:39:20 Metropolitan    [Train  0 Westbound ] dep RUISLIP for ICKENHAM\n",
      "06:39:52 Metropolitan    [Train  1 Westbound ] arr WEMBLEY PARK\n",
      "06:40:10 Metropolitan    [Train  2 Westbound ] dep ALDGATE (DEPOT) for ALDGATE\n",
      "06:40:30 Metropolitan    [Train  2 Westbound ] arr ALDGATE\n",
      "06:40:32 Metropolitan    [Train  1 Westbound ] dep WEMBLEY PARK for PRESTON ROAD\n",
      "06:40:58 Metropolitan    [Train  0 Westbound ] arr ICKENHAM\n",
      "06:41:03 Metropolitan    [Train  2 Westbound ] dep ALDGATE for LIVERPOOL STREET\n",
      "06:41:13 Metropolitan    [Train  0 Westbound ] dep ICKENHAM for HILLINGDON\n",
      "06:42:01 Metropolitan    [Train  2 Westbound ] arr LIVERPOOL STREET\n",
      "06:42:05 Metropolitan    [Train  1 Westbound ] arr PRESTON ROAD\n",
      "06:42:21 Metropolitan    [Train  1 Westbound ] dep PRESTON ROAD for NORTHWICK PARK\n",
      "06:42:27 Metropolitan    [Train  2 Westbound ] dep LIVERPOOL STREET for MOORGATE\n",
      "06:42:29 Metropolitan    [Train  0 Westbound ] arr HILLINGDON\n",
      "06:43:00 Metropolitan    [Train  0 Westbound ] dep HILLINGDON for HARROW-ON-THE-HILL\n",
      "06:43:24 Metropolitan    [Train  2 Westbound ] arr MOORGATE\n",
      "06:43:42 Metropolitan    [Train  2 Westbound ] dep MOORGATE for BARBICAN\n",
      "06:43:53 Metropolitan    [Train  1 Westbound ] arr NORTHWICK PARK\n",
      "06:44:27 Metropolitan    [Train  1 Westbound ] dep NORTHWICK PARK for FINCHLEY ROAD\n",
      "06:44:38 Metropolitan    [Train  2 Westbound ] arr BARBICAN\n",
      "06:44:48 Metropolitan    [Train  0 Westbound ] arr HARROW-ON-THE-HILL\n",
      "06:44:55 Metropolitan    [Train  0 Westbound ] dep HARROW-ON-THE-HILL for NORTH HARROW\n",
      "06:44:56 Metropolitan    [Train  2 Westbound ] dep BARBICAN for FARRINGDON\n",
      "06:45:47 Metropolitan    [Train  2 Westbound ] arr FARRINGDON\n",
      "06:45:52 Metropolitan    [Train  1 Westbound ] arr FINCHLEY ROAD\n",
      "06:46:11 Metropolitan    [Train  1 Westbound ] dep FINCHLEY ROAD for HARROW-ON-THE-HILL\n",
      "06:46:14 Metropolitan    [Train  2 Westbound ] dep FARRINGDON for KINGS CROSS ST PANCRAS\n",
      "06:46:15 Metropolitan    [Train  0 Westbound ] arr NORTH HARROW\n",
      "06:46:36 Metropolitan    [Train  0 Westbound ] dep NORTH HARROW for PINNER\n",
      "06:47:50 Metropolitan    [Train  2 Westbound ] arr KINGS CROSS ST PANCRAS\n",
      "06:48:03 Metropolitan    [Train  0 Westbound ] arr PINNER\n",
      "06:48:25 Metropolitan    [Train  2 Westbound ] dep KINGS CROSS ST PANCRAS for EUSTON SQUARE\n",
      "06:48:31 Metropolitan    [Train  0 Westbound ] dep PINNER for NORTHWOOD HILLS\n",
      "06:49:35 Metropolitan    [Train  2 Westbound ] arr EUSTON SQUARE\n",
      "06:49:47 Metropolitan    [Train  2 Westbound ] dep EUSTON SQUARE for GREAT PORTLAND STREET\n",
      "06:50:11 Metropolitan    [Train  1 Westbound ] arr HARROW-ON-THE-HILL\n",
      "06:50:14 Metropolitan    [Train  0 Westbound ] arr NORTHWOOD HILLS\n",
      "06:50:32 Metropolitan    [Train  1 Westbound ] dep HARROW-ON-THE-HILL for WEST HARROW\n",
      "06:50:44 Metropolitan    [Train  2 Westbound ] arr GREAT PORTLAND STREET\n",
      "06:50:51 Metropolitan    [Train  0 Westbound ] dep NORTHWOOD HILLS for NORTHWOOD\n",
      "06:51:08 Metropolitan    [Train  2 Westbound ] dep GREAT PORTLAND STREET for BAKER STREET (MET)\n",
      "06:51:57 Metropolitan    [Train  1 Westbound ] arr WEST HARROW\n",
      "06:52:17 Metropolitan    [Train  2 Westbound ] arr BAKER STREET (MET)\n",
      "06:52:23 Metropolitan    [Train  1 Westbound ] dep WEST HARROW for RAYNERS LANE\n",
      "06:52:36 Metropolitan    [Train  0 Westbound ] arr NORTHWOOD\n",
      "06:52:52 Metropolitan    [Train  2 Westbound ] dep BAKER STREET (MET) for FINCHLEY ROAD\n",
      "06:53:31 Metropolitan    [Train  0 Westbound ] dep NORTHWOOD for HARROW-ON-THE-HILL\n",
      "06:53:51 Metropolitan    [Train  1 Westbound ] arr RAYNERS LANE\n",
      "06:54:08 Metropolitan    [Train  1 Westbound ] dep RAYNERS LANE for EASTCOTE\n",
      "06:55:19 Metropolitan    [Train  0 Westbound ] arr HARROW-ON-THE-HILL\n",
      "06:55:21 Metropolitan    [Train  2 Westbound ] arr FINCHLEY ROAD\n",
      "06:55:35 Metropolitan    [Train  2 Westbound ] dep FINCHLEY ROAD for WEMBLEY PARK\n",
      "06:55:39 Metropolitan    [Train  0 Westbound ] dep HARROW-ON-THE-HILL for MOOR PARK\n",
      "06:55:48 Metropolitan    [Train  1 Westbound ] arr EASTCOTE\n",
      "06:56:17 Metropolitan    [Train  1 Westbound ] dep EASTCOTE for RUISLIP MANOR\n",
      "06:56:59 Metropolitan    [Train  0 Westbound ] arr MOOR PARK\n",
      "06:57:17 Metropolitan    [Train  0 Westbound ] dep MOOR PARK for CROXLEY\n",
      "06:57:35 Metropolitan    [Train  1 Westbound ] arr RUISLIP MANOR\n",
      "06:57:49 Metropolitan    [Train  1 Westbound ] dep RUISLIP MANOR for RUISLIP\n",
      "06:58:50 Metropolitan    [Train  1 Westbound ] arr RUISLIP\n",
      "06:59:15 Metropolitan    [Train  1 Westbound ] dep RUISLIP for ICKENHAM\n",
      "06:59:22 Metropolitan    [Train  0 Westbound ] arr CROXLEY\n",
      "06:59:30 Metropolitan    [Train  2 Westbound ] arr WEMBLEY PARK\n",
      "06:59:49 Metropolitan    [Train  0 Westbound ] dep CROXLEY for MOOR PARK\n",
      "07:00:03 Metropolitan    [Train  2 Westbound ] dep WEMBLEY PARK for PRESTON ROAD\n",
      "07:01:00 Metropolitan    [Train  1 Westbound ] arr ICKENHAM\n",
      "07:01:22 Metropolitan    [Train  1 Westbound ] dep ICKENHAM for HILLINGDON\n",
      "07:01:32 Metropolitan    [Train  0 Westbound ] arr MOOR PARK\n",
      "07:01:42 Metropolitan    [Train  2 Westbound ] arr PRESTON ROAD\n",
      "07:01:45 Metropolitan    [Train  0 Westbound ] dep MOOR PARK for RICKMANSWORTH\n",
      "07:02:02 Metropolitan    [Train  2 Westbound ] dep PRESTON ROAD for NORTHWICK PARK\n",
      "07:02:41 Metropolitan    [Train  1 Westbound ] arr HILLINGDON\n",
      "07:03:19 Metropolitan    [Train  1 Westbound ] dep HILLINGDON for HARROW-ON-THE-HILL\n",
      "07:03:38 Metropolitan    [Train  2 Westbound ] arr NORTHWICK PARK\n",
      "07:03:52 Metropolitan    [Train  0 Westbound ] arr RICKMANSWORTH\n",
      "07:04:21 Metropolitan    [Train  2 Westbound ] dep NORTHWICK PARK for FINCHLEY ROAD\n",
      "07:04:49 Metropolitan    [Train  0 Westbound ] dep RICKMANSWORTH for CHORLEYWOOD\n",
      "07:04:59 Metropolitan    [Train  1 Westbound ] arr HARROW-ON-THE-HILL\n",
      "07:05:24 Metropolitan    [Train  1 Westbound ] dep HARROW-ON-THE-HILL for NORTH HARROW\n",
      "07:05:50 Metropolitan    [Train  2 Westbound ] arr FINCHLEY ROAD\n",
      "07:06:22 Metropolitan    [Train  2 Westbound ] dep FINCHLEY ROAD for HARROW-ON-THE-HILL\n",
      "07:06:43 Metropolitan    [Train  1 Westbound ] arr NORTH HARROW\n",
      "07:07:11 Metropolitan    [Train  0 Westbound ] arr CHORLEYWOOD\n",
      "07:07:16 Metropolitan    [Train  1 Westbound ] dep NORTH HARROW for PINNER\n",
      "07:07:39 Metropolitan    [Train  0 Westbound ] dep CHORLEYWOOD for CHALFONT & LATIMER\n",
      "07:08:45 Metropolitan    [Train  1 Westbound ] arr PINNER\n",
      "07:09:05 Metropolitan    [Train  1 Westbound ] dep PINNER for NORTHWOOD HILLS\n",
      "07:09:56 Metropolitan    [Train  0 Westbound ] arr CHALFONT & LATIMER\n",
      "07:10:23 Metropolitan    [Train  2 Westbound ] arr HARROW-ON-THE-HILL\n",
      "07:10:32 Metropolitan    [Train  0 Westbound ] dep CHALFONT & LATIMER for CHALFONT & LATIMER\n",
      "07:10:47 Metropolitan    [Train  2 Westbound ] dep HARROW-ON-THE-HILL for WEST HARROW\n",
      "07:10:48 Metropolitan    [Train  1 Westbound ] arr NORTHWOOD HILLS\n",
      "07:11:11 Metropolitan    [Train  1 Westbound ] dep NORTHWOOD HILLS for NORTHWOOD\n",
      "07:12:06 Metropolitan    [Train  2 Westbound ] arr WEST HARROW\n",
      "07:12:32 Metropolitan    [Train  2 Westbound ] dep WEST HARROW for RAYNERS LANE\n",
      "07:12:45 Metropolitan    [Train  1 Westbound ] arr NORTHWOOD\n",
      "07:13:06 Metropolitan    [Train  1 Westbound ] dep NORTHWOOD for HARROW-ON-THE-HILL\n",
      "07:13:58 Metropolitan    [Train  0 Westbound ] arr CHALFONT & LATIMER\n",
      "07:14:06 Metropolitan    [Train  2 Westbound ] arr RAYNERS LANE\n",
      "07:14:23 Metropolitan    [Train  0 Westbound ] dep CHALFONT & LATIMER for AMERSHAM\n",
      "07:14:33 Metropolitan    [Train  2 Westbound ] dep RAYNERS LANE for EASTCOTE\n",
      "07:14:51 Metropolitan    [Train  1 Westbound ] arr HARROW-ON-THE-HILL\n",
      "07:15:20 Metropolitan    [Train  1 Westbound ] dep HARROW-ON-THE-HILL for MOOR PARK\n",
      "07:16:08 Metropolitan    [Train  2 Westbound ] arr EASTCOTE\n",
      "07:16:24 Metropolitan    [Train  2 Westbound ] dep EASTCOTE for RUISLIP MANOR\n",
      "07:16:40 Metropolitan    [Train  1 Westbound ] arr MOOR PARK\n",
      "07:17:25 Metropolitan    [Train  1 Westbound ] dep MOOR PARK for CROXLEY\n",
      "07:17:42 Metropolitan    [Train  2 Westbound ] arr RUISLIP MANOR\n"
     ]
    },
    {
     "name": "stdout",
     "output_type": "stream",
     "text": [
      "07:17:50 Metropolitan    [Train  2 Westbound ] dep RUISLIP MANOR for RUISLIP\n",
      "07:17:50 Metropolitan    [Train  0 Westbound ] arr AMERSHAM\n",
      "07:18:42 Metropolitan    [Train  0 Westbound ] dep AMERSHAM for AMERSHAM (X)\n",
      "07:18:59 Metropolitan    [Train  2 Westbound ] arr RUISLIP\n",
      "07:19:10 Metropolitan    [Train  0 Westbound ] arr AMERSHAM (X)\n",
      "07:19:29 Metropolitan    [Train  1 Westbound ] arr CROXLEY\n",
      "07:19:38 Metropolitan    [Train  2 Westbound ] dep RUISLIP for ICKENHAM\n",
      "07:20:18 Metropolitan    [Train  1 Westbound ] dep CROXLEY for MOOR PARK\n",
      "07:21:26 Metropolitan    [Train  2 Westbound ] arr ICKENHAM\n",
      "07:21:52 Metropolitan    [Train  2 Westbound ] dep ICKENHAM for HILLINGDON\n",
      "07:21:59 Metropolitan    [Train  1 Westbound ] arr MOOR PARK\n",
      "07:22:23 Metropolitan    [Train  1 Westbound ] dep MOOR PARK for RICKMANSWORTH\n",
      "07:23:09 Metropolitan    [Train  2 Westbound ] arr HILLINGDON\n",
      "07:23:46 Metropolitan    [Train  2 Westbound ] dep HILLINGDON for HARROW-ON-THE-HILL\n",
      "07:24:10 Metropolitan    [Train  0 Eastbound ] dep AMERSHAM (X) for AMERSHAM\n",
      "07:24:30 Metropolitan    [Train  0 Eastbound ] arr AMERSHAM\n",
      "07:24:35 Metropolitan    [Train  1 Westbound ] arr RICKMANSWORTH\n",
      "07:24:58 Metropolitan    [Train  1 Westbound ] dep RICKMANSWORTH for CHORLEYWOOD\n",
      "07:25:08 Metropolitan    [Train  0 Eastbound ] dep AMERSHAM for CHESHAM\n",
      "07:25:44 Metropolitan    [Train  2 Westbound ] arr HARROW-ON-THE-HILL\n",
      "07:25:55 Metropolitan    [Train  2 Westbound ] dep HARROW-ON-THE-HILL for NORTH HARROW\n",
      "07:27:16 Metropolitan    [Train  2 Westbound ] arr NORTH HARROW\n",
      "07:27:17 Metropolitan    [Train  1 Westbound ] arr CHORLEYWOOD\n",
      "07:27:25 Metropolitan    [Train  0 Eastbound ] arr CHESHAM\n",
      "07:27:41 Metropolitan    [Train  2 Westbound ] dep NORTH HARROW for PINNER\n",
      "07:27:41 Metropolitan    [Train  0 Eastbound ] dep CHESHAM for CHALFONT & LATIMER\n",
      "07:27:50 Metropolitan    [Train  1 Westbound ] dep CHORLEYWOOD for CHALFONT & LATIMER\n",
      "07:29:14 Metropolitan    [Train  2 Westbound ] arr PINNER\n",
      "07:29:39 Metropolitan    [Train  2 Westbound ] dep PINNER for NORTHWOOD HILLS\n",
      "07:30:09 Metropolitan    [Train  1 Westbound ] arr CHALFONT & LATIMER\n",
      "07:30:40 Metropolitan    [Train  1 Westbound ] dep CHALFONT & LATIMER for CHALFONT & LATIMER\n",
      "07:31:07 Metropolitan    [Train  0 Eastbound ] arr CHALFONT & LATIMER\n",
      "07:31:28 Metropolitan    [Train  2 Westbound ] arr NORTHWOOD HILLS\n",
      "07:31:37 Metropolitan    [Train  0 Eastbound ] dep CHALFONT & LATIMER for CHORLEYWOOD\n",
      "07:32:02 Metropolitan    [Train  2 Westbound ] dep NORTHWOOD HILLS for NORTHWOOD\n",
      "07:33:31 Metropolitan    [Train  2 Westbound ] arr NORTHWOOD\n",
      "07:33:56 Metropolitan    [Train  0 Eastbound ] arr CHORLEYWOOD\n",
      "07:34:10 Metropolitan    [Train  2 Westbound ] dep NORTHWOOD for HARROW-ON-THE-HILL\n",
      "07:34:10 Metropolitan    [Train  1 Westbound ] arr CHALFONT & LATIMER\n",
      "07:34:43 Metropolitan    [Train  0 Eastbound ] dep CHORLEYWOOD for RICKMANSWORTH\n",
      "07:34:48 Metropolitan    [Train  1 Westbound ] dep CHALFONT & LATIMER for AMERSHAM\n",
      "07:35:55 Metropolitan    [Train  2 Westbound ] arr HARROW-ON-THE-HILL\n",
      "07:36:11 Metropolitan    [Train  2 Westbound ] dep HARROW-ON-THE-HILL for MOOR PARK\n",
      "07:36:58 Metropolitan    [Train  0 Eastbound ] arr RICKMANSWORTH\n",
      "07:37:12 Metropolitan    [Train  0 Eastbound ] dep RICKMANSWORTH for WATFORD\n",
      "07:37:31 Metropolitan    [Train  2 Westbound ] arr MOOR PARK\n",
      "07:38:05 Metropolitan    [Train  2 Westbound ] dep MOOR PARK for CROXLEY\n",
      "07:38:15 Metropolitan    [Train  1 Westbound ] arr AMERSHAM\n",
      "07:39:21 Metropolitan    [Train  1 Westbound ] dep AMERSHAM for AMERSHAM (X)\n",
      "07:39:34 Metropolitan    [Train  0 Eastbound ] arr WATFORD\n",
      "07:39:43 Metropolitan    [Train  1 Westbound ] arr AMERSHAM (X)\n",
      "07:40:07 Metropolitan    [Train  0 Eastbound ] dep WATFORD for CROXLEY\n",
      "07:40:25 Metropolitan    [Train  2 Westbound ] arr CROXLEY\n",
      "07:40:43 Metropolitan    [Train  2 Westbound ] dep CROXLEY for MOOR PARK\n",
      "07:41:46 Metropolitan    [Train  0 Eastbound ] arr CROXLEY\n",
      "07:42:21 Metropolitan    [Train  0 Eastbound ] dep CROXLEY for MOOR PARK\n",
      "07:42:30 Metropolitan    [Train  2 Westbound ] arr MOOR PARK\n",
      "07:43:12 Metropolitan    [Train  2 Westbound ] dep MOOR PARK for RICKMANSWORTH\n",
      "07:44:27 Metropolitan    [Train  0 Eastbound ] arr MOOR PARK\n",
      "07:44:43 Metropolitan    [Train  1 Eastbound ] dep AMERSHAM (X) for AMERSHAM\n",
      "07:45:03 Metropolitan    [Train  1 Eastbound ] arr AMERSHAM\n",
      "07:45:05 Metropolitan    [Train  0 Eastbound ] dep MOOR PARK for NORTHWOOD\n",
      "07:45:25 Metropolitan    [Train  2 Westbound ] arr RICKMANSWORTH\n",
      "07:45:27 Metropolitan    [Train  1 Eastbound ] dep AMERSHAM for CHESHAM\n",
      "07:45:58 Metropolitan    [Train  2 Westbound ] dep RICKMANSWORTH for CHORLEYWOOD\n",
      "07:46:53 Metropolitan    [Train  0 Eastbound ] arr NORTHWOOD\n",
      "07:47:38 Metropolitan    [Train  0 Eastbound ] dep NORTHWOOD for NORTHWOOD HILLS\n",
      "07:47:39 Metropolitan    [Train  1 Eastbound ] arr CHESHAM\n",
      "07:48:14 Metropolitan    [Train  2 Westbound ] arr CHORLEYWOOD\n",
      "07:48:22 Metropolitan    [Train  1 Eastbound ] dep CHESHAM for CHALFONT & LATIMER\n",
      "07:49:03 Metropolitan    [Train  2 Westbound ] dep CHORLEYWOOD for CHALFONT & LATIMER\n",
      "07:49:12 Metropolitan    [Train  0 Eastbound ] arr NORTHWOOD HILLS\n",
      "07:49:29 Metropolitan    [Train  0 Eastbound ] dep NORTHWOOD HILLS for PINNER\n",
      "07:51:14 Metropolitan    [Train  0 Eastbound ] arr PINNER\n",
      "07:51:21 Metropolitan    [Train  2 Westbound ] arr CHALFONT & LATIMER\n",
      "07:51:47 Metropolitan    [Train  0 Eastbound ] dep PINNER for NORTH HARROW\n",
      "07:51:56 Metropolitan    [Train  2 Westbound ] dep CHALFONT & LATIMER for CHALFONT & LATIMER\n",
      "07:52:00 Metropolitan    [Train  1 Eastbound ] arr CHALFONT & LATIMER\n",
      "07:52:39 Metropolitan    [Train  1 Eastbound ] dep CHALFONT & LATIMER for CHORLEYWOOD\n",
      "07:53:15 Metropolitan    [Train  0 Eastbound ] arr NORTH HARROW\n",
      "07:53:43 Metropolitan    [Train  0 Eastbound ] dep NORTH HARROW for MOOR PARK\n",
      "07:55:06 Metropolitan    [Train  1 Eastbound ] arr CHORLEYWOOD\n",
      "07:55:23 Metropolitan    [Train  0 Eastbound ] arr MOOR PARK\n",
      "07:55:37 Metropolitan    [Train  2 Westbound ] arr CHALFONT & LATIMER\n",
      "07:55:44 Metropolitan    [Train  1 Eastbound ] dep CHORLEYWOOD for RICKMANSWORTH\n",
      "07:55:44 Metropolitan    [Train  0 Eastbound ] dep MOOR PARK for UXBRIDGE\n",
      "07:55:58 Metropolitan    [Train  2 Westbound ] dep CHALFONT & LATIMER for AMERSHAM\n",
      "07:57:32 Metropolitan    [Train  0 Eastbound ] arr UXBRIDGE\n",
      "07:57:58 Metropolitan    [Train  1 Eastbound ] arr RICKMANSWORTH\n",
      "07:58:01 Metropolitan    [Train  0 Eastbound ] dep UXBRIDGE for HILLINGDON\n",
      "07:58:33 Metropolitan    [Train  1 Eastbound ] dep RICKMANSWORTH for WATFORD\n",
      "07:59:28 Metropolitan    [Train  2 Westbound ] arr AMERSHAM\n",
      "07:59:42 Metropolitan    [Train  0 Eastbound ] arr HILLINGDON\n",
      "08:00:04 Metropolitan    [Train  0 Eastbound ] dep HILLINGDON for ICKENHAM\n",
      "08:00:47 Metropolitan    [Train  2 Westbound ] dep AMERSHAM for AMERSHAM (X)\n",
      "08:00:53 Metropolitan    [Train  1 Eastbound ] arr WATFORD\n",
      "08:01:12 Metropolitan    [Train  2 Westbound ] arr AMERSHAM (X)\n",
      "08:01:22 Metropolitan    [Train  0 Eastbound ] arr ICKENHAM\n",
      "08:01:23 Metropolitan    [Train  1 Eastbound ] dep WATFORD for CROXLEY\n",
      "08:01:46 Metropolitan    [Train  0 Eastbound ] dep ICKENHAM for RUISLIP\n",
      "08:03:06 Metropolitan    [Train  1 Eastbound ] arr CROXLEY\n",
      "08:03:23 Metropolitan    [Train  0 Eastbound ] arr RUISLIP\n",
      "08:03:31 Metropolitan    [Train  1 Eastbound ] dep CROXLEY for MOOR PARK\n",
      "08:03:38 Metropolitan    [Train  0 Eastbound ] dep RUISLIP for RUISLIP MANOR\n",
      "08:04:46 Metropolitan    [Train  0 Eastbound ] arr RUISLIP MANOR\n",
      "08:05:16 Metropolitan    [Train  0 Eastbound ] dep RUISLIP MANOR for EASTCOTE\n",
      "08:05:35 Metropolitan    [Train  1 Eastbound ] arr MOOR PARK\n",
      "08:06:06 Metropolitan    [Train  1 Eastbound ] dep MOOR PARK for NORTHWOOD\n",
      "08:06:12 Metropolitan    [Train  2 Eastbound ] dep AMERSHAM (X) for AMERSHAM\n",
      "08:06:32 Metropolitan    [Train  2 Eastbound ] arr AMERSHAM\n",
      "08:06:34 Metropolitan    [Train  0 Eastbound ] arr EASTCOTE\n",
      "08:06:58 Metropolitan    [Train  0 Eastbound ] dep EASTCOTE for RAYNERS LANE\n",
      "08:07:02 Metropolitan    [Train  2 Eastbound ] dep AMERSHAM for CHESHAM\n",
      "08:07:52 Metropolitan    [Train  1 Eastbound ] arr NORTHWOOD\n",
      "08:08:30 Metropolitan    [Train  0 Eastbound ] arr RAYNERS LANE\n",
      "08:08:37 Metropolitan    [Train  0 Eastbound ] dep RAYNERS LANE for WEST HARROW\n",
      "08:08:45 Metropolitan    [Train  1 Eastbound ] dep NORTHWOOD for NORTHWOOD HILLS\n",
      "08:09:17 Metropolitan    [Train  2 Eastbound ] arr CHESHAM\n",
      "08:09:47 Metropolitan    [Train  2 Eastbound ] dep CHESHAM for CHALFONT & LATIMER\n",
      "08:10:02 Metropolitan    [Train  0 Eastbound ] arr WEST HARROW\n",
      "08:10:28 Metropolitan    [Train  1 Eastbound ] arr NORTHWOOD HILLS\n",
      "08:10:30 Metropolitan    [Train  0 Eastbound ] dep WEST HARROW for HARROW-ON-THE-HILL\n",
      "08:10:46 Metropolitan    [Train  1 Eastbound ] dep NORTHWOOD HILLS for PINNER\n",
      "08:11:56 Metropolitan    [Train  0 Eastbound ] arr HARROW-ON-THE-HILL\n",
      "08:12:22 Metropolitan    [Train  0 Eastbound ] dep HARROW-ON-THE-HILL for HARROW-ON-THE-HILL\n",
      "08:12:30 Metropolitan    [Train  1 Eastbound ] arr PINNER\n",
      "08:13:02 Metropolitan    [Train  1 Eastbound ] dep PINNER for NORTH HARROW\n",
      "08:13:12 Metropolitan    [Train  2 Eastbound ] arr CHALFONT & LATIMER\n",
      "08:13:33 Metropolitan    [Train  2 Eastbound ] dep CHALFONT & LATIMER for CHORLEYWOOD\n",
      "08:14:31 Metropolitan    [Train  1 Eastbound ] arr NORTH HARROW\n",
      "08:14:54 Metropolitan    [Train  1 Eastbound ] dep NORTH HARROW for MOOR PARK\n",
      "08:15:50 Metropolitan    [Train  2 Eastbound ] arr CHORLEYWOOD\n",
      "08:16:13 Metropolitan    [Train  2 Eastbound ] dep CHORLEYWOOD for RICKMANSWORTH\n",
      "08:16:41 Metropolitan    [Train  1 Eastbound ] arr MOOR PARK\n",
      "08:17:16 Metropolitan    [Train  1 Eastbound ] dep MOOR PARK for UXBRIDGE\n",
      "08:18:03 Metropolitan    [Train  0 Eastbound ] arr HARROW-ON-THE-HILL\n",
      "08:18:27 Metropolitan    [Train  2 Eastbound ] arr RICKMANSWORTH\n",
      "08:18:28 Metropolitan    [Train  0 Eastbound ] dep HARROW-ON-THE-HILL for NORTHWICK PARK\n",
      "08:18:59 Metropolitan    [Train  2 Eastbound ] dep RICKMANSWORTH for WATFORD\n",
      "08:19:01 Metropolitan    [Train  1 Eastbound ] arr UXBRIDGE\n"
     ]
    },
    {
     "name": "stdout",
     "output_type": "stream",
     "text": [
      "08:19:17 Metropolitan    [Train  1 Eastbound ] dep UXBRIDGE for HILLINGDON\n",
      "08:21:04 Metropolitan    [Train  1 Eastbound ] arr HILLINGDON\n",
      "08:21:17 Metropolitan    [Train  2 Eastbound ] arr WATFORD\n",
      "08:21:29 Metropolitan    [Train  1 Eastbound ] dep HILLINGDON for ICKENHAM\n",
      "08:21:50 Metropolitan    [Train  2 Eastbound ] dep WATFORD for CROXLEY\n",
      "08:22:48 Metropolitan    [Train  1 Eastbound ] arr ICKENHAM\n",
      "08:23:22 Metropolitan    [Train  1 Eastbound ] dep ICKENHAM for RUISLIP\n",
      "08:23:28 Metropolitan    [Train  2 Eastbound ] arr CROXLEY\n",
      "08:23:55 Metropolitan    [Train  2 Eastbound ] dep CROXLEY for MOOR PARK\n",
      "08:24:08 Metropolitan    [Train  0 Eastbound ] arr NORTHWICK PARK\n",
      "08:24:33 Metropolitan    [Train  0 Eastbound ] dep NORTHWICK PARK for PRESTON ROAD\n",
      "08:25:00 Metropolitan    [Train  1 Eastbound ] arr RUISLIP\n",
      "08:25:18 Metropolitan    [Train  1 Eastbound ] dep RUISLIP for RUISLIP MANOR\n",
      "08:26:05 Metropolitan    [Train  0 Eastbound ] arr PRESTON ROAD\n",
      "08:26:11 Metropolitan    [Train  2 Eastbound ] arr MOOR PARK\n",
      "08:26:26 Metropolitan    [Train  1 Eastbound ] arr RUISLIP MANOR\n",
      "08:26:28 Metropolitan    [Train  2 Eastbound ] dep MOOR PARK for NORTHWOOD\n",
      "08:26:34 Metropolitan    [Train  0 Eastbound ] dep PRESTON ROAD for WEMBLEY PARK\n",
      "08:26:42 Metropolitan    [Train  1 Eastbound ] dep RUISLIP MANOR for EASTCOTE\n",
      "08:28:05 Metropolitan    [Train  1 Eastbound ] arr EASTCOTE\n",
      "08:28:15 Metropolitan    [Train  0 Eastbound ] arr WEMBLEY PARK\n",
      "08:28:22 Metropolitan    [Train  2 Eastbound ] arr NORTHWOOD\n",
      "08:28:33 Metropolitan    [Train  1 Eastbound ] dep EASTCOTE for RAYNERS LANE\n",
      "08:28:47 Metropolitan    [Train  0 Eastbound ] dep WEMBLEY PARK for FINCHLEY ROAD\n",
      "08:28:48 Metropolitan    [Train  2 Eastbound ] dep NORTHWOOD for NORTHWOOD HILLS\n",
      "08:30:06 Metropolitan    [Train  1 Eastbound ] arr RAYNERS LANE\n",
      "08:30:19 Metropolitan    [Train  2 Eastbound ] arr NORTHWOOD HILLS\n",
      "08:30:19 Metropolitan    [Train  1 Eastbound ] dep RAYNERS LANE for WEST HARROW\n",
      "08:30:51 Metropolitan    [Train  2 Eastbound ] dep NORTHWOOD HILLS for PINNER\n",
      "08:31:47 Metropolitan    [Train  1 Eastbound ] arr WEST HARROW\n",
      "08:32:12 Metropolitan    [Train  1 Eastbound ] dep WEST HARROW for HARROW-ON-THE-HILL\n",
      "08:32:39 Metropolitan    [Train  2 Eastbound ] arr PINNER\n",
      "08:32:40 Metropolitan    [Train  0 Eastbound ] arr FINCHLEY ROAD\n",
      "08:33:00 Metropolitan    [Train  2 Eastbound ] dep PINNER for NORTH HARROW\n",
      "08:33:04 Metropolitan    [Train  0 Eastbound ] dep FINCHLEY ROAD for BAKER STREET (METROPOLITAN)\n",
      "08:33:39 Metropolitan    [Train  1 Eastbound ] arr HARROW-ON-THE-HILL\n",
      "08:34:09 Metropolitan    [Train  1 Eastbound ] dep HARROW-ON-THE-HILL for HARROW-ON-THE-HILL\n",
      "08:34:36 Metropolitan    [Train  2 Eastbound ] arr NORTH HARROW\n",
      "08:35:05 Metropolitan    [Train  2 Eastbound ] dep NORTH HARROW for MOOR PARK\n",
      "08:35:21 Metropolitan    [Train  0 Eastbound ] arr BAKER STREET (METROPOLITAN)\n",
      "08:35:55 Metropolitan    [Train  0 Eastbound ] dep BAKER STREET (METROPOLITAN) for GREAT PORTLAND STREET\n",
      "08:36:46 Metropolitan    [Train  2 Eastbound ] arr MOOR PARK\n",
      "08:37:03 Metropolitan    [Train  0 Eastbound ] arr GREAT PORTLAND STREET\n",
      "08:37:16 Metropolitan    [Train  2 Eastbound ] dep MOOR PARK for UXBRIDGE\n",
      "08:37:19 Metropolitan    [Train  0 Eastbound ] dep GREAT PORTLAND STREET for EUSTON SQUARE\n",
      "08:38:28 Metropolitan    [Train  0 Eastbound ] arr EUSTON SQUARE\n",
      "08:39:02 Metropolitan    [Train  2 Eastbound ] arr UXBRIDGE\n",
      "08:39:08 Metropolitan    [Train  0 Eastbound ] dep EUSTON SQUARE for KINGS CROSS ST PANCRAS\n",
      "08:39:31 Metropolitan    [Train  2 Eastbound ] dep UXBRIDGE for HILLINGDON\n",
      "08:40:02 Metropolitan    [Train  1 Eastbound ] arr HARROW-ON-THE-HILL\n",
      "08:40:14 Metropolitan    [Train  0 Eastbound ] arr KINGS CROSS ST PANCRAS\n",
      "08:40:30 Metropolitan    [Train  1 Eastbound ] dep HARROW-ON-THE-HILL for NORTHWICK PARK\n",
      "08:40:54 Metropolitan    [Train  0 Eastbound ] dep KINGS CROSS ST PANCRAS for FARRINGDON\n",
      "08:41:22 Metropolitan    [Train  2 Eastbound ] arr HILLINGDON\n",
      "08:41:39 Metropolitan    [Train  2 Eastbound ] dep HILLINGDON for ICKENHAM\n",
      "08:42:35 Metropolitan    [Train  0 Eastbound ] arr FARRINGDON\n",
      "08:42:58 Metropolitan    [Train  0 Eastbound ] dep FARRINGDON for BARBICAN\n",
      "08:43:00 Metropolitan    [Train  2 Eastbound ] arr ICKENHAM\n",
      "08:43:26 Metropolitan    [Train  2 Eastbound ] dep ICKENHAM for RUISLIP\n",
      "08:43:57 Metropolitan    [Train  0 Eastbound ] arr BARBICAN\n",
      "08:44:12 Metropolitan    [Train  0 Eastbound ] dep BARBICAN for MOORGATE\n",
      "08:45:10 Metropolitan    [Train  0 Eastbound ] arr MOORGATE\n",
      "08:45:17 Metropolitan    [Train  2 Eastbound ] arr RUISLIP\n",
      "08:45:33 Metropolitan    [Train  2 Eastbound ] dep RUISLIP for RUISLIP MANOR\n",
      "08:45:41 Metropolitan    [Train  0 Eastbound ] dep MOORGATE for LIVERPOOL STREET\n",
      "08:46:22 Metropolitan    [Train  1 Eastbound ] arr NORTHWICK PARK\n",
      "08:46:31 Metropolitan    [Train  0 Eastbound ] arr LIVERPOOL STREET\n",
      "08:46:33 Metropolitan    [Train  2 Eastbound ] arr RUISLIP MANOR\n",
      "08:46:54 Metropolitan    [Train  1 Eastbound ] dep NORTHWICK PARK for PRESTON ROAD\n",
      "08:46:55 Metropolitan    [Train  2 Eastbound ] dep RUISLIP MANOR for EASTCOTE\n",
      "08:46:56 Metropolitan    [Train  0 Eastbound ] dep LIVERPOOL STREET for ALDGATE\n",
      "08:47:58 Metropolitan    [Train  0 Eastbound ] arr ALDGATE\n",
      "08:48:22 Metropolitan    [Train  2 Eastbound ] arr EASTCOTE\n",
      "08:48:33 Metropolitan    [Train  1 Eastbound ] arr PRESTON ROAD\n",
      "08:48:53 Metropolitan    [Train  2 Eastbound ] dep EASTCOTE for RAYNERS LANE\n",
      "08:49:08 Metropolitan    [Train  1 Eastbound ] dep PRESTON ROAD for WEMBLEY PARK\n",
      "08:49:11 Metropolitan    [Train  0 Eastbound ] dep ALDGATE for ALDGATE (DEPOT)\n",
      "08:49:32 Metropolitan    [Train  0 Eastbound ] arr ALDGATE (DEPOT)\n",
      "08:50:27 Metropolitan    [Train  2 Eastbound ] arr RAYNERS LANE\n",
      "08:50:39 Metropolitan    [Train  1 Eastbound ] arr WEMBLEY PARK\n",
      "08:50:55 Metropolitan    [Train  2 Eastbound ] dep RAYNERS LANE for WEST HARROW\n",
      "08:51:01 Metropolitan    [Train  1 Eastbound ] dep WEMBLEY PARK for FINCHLEY ROAD\n",
      "08:52:29 Metropolitan    [Train  2 Eastbound ] arr WEST HARROW\n",
      "08:53:09 Metropolitan    [Train  2 Eastbound ] dep WEST HARROW for HARROW-ON-THE-HILL\n",
      "08:54:31 Metropolitan    [Train  2 Eastbound ] arr HARROW-ON-THE-HILL\n",
      "08:54:55 Metropolitan    [Train  1 Eastbound ] arr FINCHLEY ROAD\n",
      "08:55:06 Metropolitan    [Train  1 Eastbound ] dep FINCHLEY ROAD for BAKER STREET (METROPOLITAN)\n",
      "08:55:08 Metropolitan    [Train  2 Eastbound ] dep HARROW-ON-THE-HILL for HARROW-ON-THE-HILL\n",
      "08:57:21 Metropolitan    [Train  1 Eastbound ] arr BAKER STREET (METROPOLITAN)\n",
      "08:57:40 Metropolitan    [Train  1 Eastbound ] dep BAKER STREET (METROPOLITAN) for GREAT PORTLAND STREET\n",
      "08:58:48 Metropolitan    [Train  1 Eastbound ] arr GREAT PORTLAND STREET\n",
      "08:59:05 Metropolitan    [Train  1 Eastbound ] dep GREAT PORTLAND STREET for EUSTON SQUARE\n",
      "09:00:01 Metropolitan    [Train  1 Eastbound ] arr EUSTON SQUARE\n",
      "09:00:28 Metropolitan    [Train  1 Eastbound ] dep EUSTON SQUARE for KINGS CROSS ST PANCRAS\n",
      "09:00:52 Metropolitan    [Train  2 Eastbound ] arr HARROW-ON-THE-HILL\n",
      "09:01:17 Metropolitan    [Train  2 Eastbound ] dep HARROW-ON-THE-HILL for NORTHWICK PARK\n",
      "09:01:34 Metropolitan    [Train  1 Eastbound ] arr KINGS CROSS ST PANCRAS\n",
      "09:01:58 Metropolitan    [Train  1 Eastbound ] dep KINGS CROSS ST PANCRAS for FARRINGDON\n",
      "09:03:44 Metropolitan    [Train  1 Eastbound ] arr FARRINGDON\n",
      "09:04:13 Metropolitan    [Train  1 Eastbound ] dep FARRINGDON for BARBICAN\n",
      "09:05:11 Metropolitan    [Train  1 Eastbound ] arr BARBICAN\n",
      "09:05:18 Metropolitan    [Train  1 Eastbound ] dep BARBICAN for MOORGATE\n",
      "09:06:16 Metropolitan    [Train  1 Eastbound ] arr MOORGATE\n",
      "09:06:49 Metropolitan    [Train  1 Eastbound ] dep MOORGATE for LIVERPOOL STREET\n",
      "09:07:02 Metropolitan    [Train  2 Eastbound ] arr NORTHWICK PARK\n",
      "09:07:13 Metropolitan    [Train  2 Eastbound ] dep NORTHWICK PARK for PRESTON ROAD\n",
      "09:07:41 Metropolitan    [Train  1 Eastbound ] arr LIVERPOOL STREET\n",
      "09:08:06 Metropolitan    [Train  1 Eastbound ] dep LIVERPOOL STREET for ALDGATE\n",
      "09:08:44 Metropolitan    [Train  2 Eastbound ] arr PRESTON ROAD\n",
      "09:09:02 Metropolitan    [Train  1 Eastbound ] arr ALDGATE\n",
      "09:09:06 Metropolitan    [Train  2 Eastbound ] dep PRESTON ROAD for WEMBLEY PARK\n",
      "09:10:00 Metropolitan    [Train  1 Eastbound ] dep ALDGATE for ALDGATE (DEPOT)\n",
      "09:10:21 Metropolitan    [Train  1 Eastbound ] arr ALDGATE (DEPOT)\n",
      "09:10:31 Metropolitan    [Train  2 Eastbound ] arr WEMBLEY PARK\n",
      "09:10:51 Metropolitan    [Train  2 Eastbound ] dep WEMBLEY PARK for FINCHLEY ROAD\n"
     ]
    },
    {
     "name": "stdout",
     "output_type": "stream",
     "text": [
      "09:14:45 Metropolitan    [Train  2 Eastbound ] arr FINCHLEY ROAD\n",
      "09:15:03 Metropolitan    [Train  2 Eastbound ] dep FINCHLEY ROAD for BAKER STREET (METROPOLITAN)\n",
      "09:17:24 Metropolitan    [Train  2 Eastbound ] arr BAKER STREET (METROPOLITAN)\n",
      "09:17:41 Metropolitan    [Train  2 Eastbound ] dep BAKER STREET (METROPOLITAN) for GREAT PORTLAND STREET\n",
      "09:19:03 Metropolitan    [Train  2 Eastbound ] arr GREAT PORTLAND STREET\n",
      "09:19:19 Metropolitan    [Train  2 Eastbound ] dep GREAT PORTLAND STREET for EUSTON SQUARE\n",
      "09:20:22 Metropolitan    [Train  2 Eastbound ] arr EUSTON SQUARE\n",
      "09:20:52 Metropolitan    [Train  2 Eastbound ] dep EUSTON SQUARE for KINGS CROSS ST PANCRAS\n",
      "09:21:59 Metropolitan    [Train  2 Eastbound ] arr KINGS CROSS ST PANCRAS\n",
      "09:22:31 Metropolitan    [Train  2 Eastbound ] dep KINGS CROSS ST PANCRAS for FARRINGDON\n",
      "09:24:08 Metropolitan    [Train  2 Eastbound ] arr FARRINGDON\n",
      "09:24:19 Metropolitan    [Train  2 Eastbound ] dep FARRINGDON for BARBICAN\n",
      "09:25:11 Metropolitan    [Train  2 Eastbound ] arr BARBICAN\n",
      "09:25:27 Metropolitan    [Train  2 Eastbound ] dep BARBICAN for MOORGATE\n",
      "09:26:25 Metropolitan    [Train  2 Eastbound ] arr MOORGATE\n",
      "09:27:07 Metropolitan    [Train  2 Eastbound ] dep MOORGATE for LIVERPOOL STREET\n",
      "09:28:10 Metropolitan    [Train  2 Eastbound ] arr LIVERPOOL STREET\n",
      "09:28:44 Metropolitan    [Train  2 Eastbound ] dep LIVERPOOL STREET for ALDGATE\n",
      "09:29:44 Metropolitan    [Train  2 Eastbound ] arr ALDGATE\n",
      "09:30:50 Metropolitan    [Train  2 Eastbound ] dep ALDGATE for ALDGATE (DEPOT)\n",
      "09:31:22 Metropolitan    [Train  2 Eastbound ] arr ALDGATE (DEPOT)\n"
     ]
    }
   ],
   "source": [
    "np.random.seed(1)\n",
    "\n",
    "env = simpy.Environment()\n",
    "network = Network()\n",
    "# network.trace(line='Bakerloo')\n",
    "# network.trace(train=0)\n",
    "# network.trace(loc='KINGS CROSS ST PANCRAS')\n",
    "# network.trace(start=\"06:00\", stop=\"06:10\")\n",
    "# network.trace(line='Circle')\n",
    "# network.trace(line='Circle', start=\"06:00\", stop=\"06:30\")\n",
    "# network.trace(line='Bakerloo', loc='KENTON')\n",
    "#network.trace(line='Metropolitan', loc='HARROW-ON-THE-HILL')\n",
    "#network.trace(line='Metropolitan', loc='FINCHLEY ROAD')\n",
    "network.trace(line='Metropolitan', train=0)\n",
    "network.trace(line='Metropolitan', train=1)\n",
    "network.trace(line='Metropolitan', train=2)\n",
    "# network.trace(line='Bakerloo', start=\"06:00\", stop=\"07:30\")\n",
    "env.process(network.process())\n",
    "env.run()"
   ]
  },
  {
   "cell_type": "markdown",
   "metadata": {},
   "source": [
    "## Incidents"
   ]
  },
  {
   "cell_type": "markdown",
   "metadata": {},
   "source": [
    "Verify complete trace over a period of time around the incident. In particular check that the trains followings after come to a stop and resume operations after the incident was cleared."
   ]
  },
  {
   "cell_type": "code",
   "execution_count": 54,
   "metadata": {
    "ExecuteTime": {
     "end_time": "2020-07-28T09:37:12.779565Z",
     "start_time": "2020-07-28T09:37:12.776952Z"
    },
    "scrolled": false
   },
   "outputs": [],
   "source": [
    "# np.random.seed(1)\n",
    "# env = simpy.Environment()\n",
    "# network=Network()\n",
    "# network.trace(line='Bakerloo', start=\"06:00\", stop=\"07:00\")\n",
    "# network.registerIncident(start=\"06:05\", stop=\"06:35\", \n",
    "#                         line='Bakerloo', loc=\"NORTH WEMBLEY\")\n",
    "# env.process(network.process())\n",
    "# env.run()"
   ]
  },
  {
   "cell_type": "markdown",
   "metadata": {},
   "source": [
    "# Validate System"
   ]
  },
  {
   "cell_type": "markdown",
   "metadata": {},
   "source": [
    "## Metropolitan Line"
   ]
  },
  {
   "cell_type": "markdown",
   "metadata": {},
   "source": [
    "Some Timetabling Information:\n",
    "* [Metropolitan](https://tfl.gov.uk/tube/timetable/metropolitan?FromId=940GZZLUALD&fromText=Aldgate+Underground+Station&toText=Amersham+Underground+Station&ToId=940GZZLUAMS):  DEP Aldgate 06:46 ARR Amersham 07:54\n",
    "\n",
    "The traveling time is (currently) 68 min while the traveling time within our system is (after corrections) 84 min."
   ]
  },
  {
   "cell_type": "code",
   "execution_count": 55,
   "metadata": {
    "ExecuteTime": {
     "end_time": "2020-07-28T09:37:32.130842Z",
     "start_time": "2020-07-28T09:37:12.782414Z"
    },
    "scrolled": false
   },
   "outputs": [
    {
     "name": "stdout",
     "output_type": "stream",
     "text": [
      "06:00:30 Metropolitan    [Train  0 Westbound ] arr ALDGATE\n",
      "06:01:05 Metropolitan    [Train  0 Westbound ] dep ALDGATE for LIVERPOOL STREET\n",
      "07:16:51 Metropolitan    [Train  0 Westbound ] arr AMERSHAM\n",
      "07:17:51 Metropolitan    [Train  0 Westbound ] dep AMERSHAM for AMERSHAM (X)\n",
      "07:23:32 Metropolitan    [Train  0 Eastbound ] arr AMERSHAM\n",
      "07:23:53 Metropolitan    [Train  0 Eastbound ] dep AMERSHAM for CHESHAM\n",
      "08:47:03 Metropolitan    [Train  0 Eastbound ] arr ALDGATE\n",
      "08:48:05 Metropolitan    [Train  0 Eastbound ] dep ALDGATE for ALDGATE (DEPOT)\n"
     ]
    }
   ],
   "source": [
    "np.random.seed(0)\n",
    "env = simpy.Environment()\n",
    "network = Network()\n",
    "network.trace(line='Metropolitan', train=0, loc='ALDGATE')\n",
    "network.trace(line='Metropolitan', train=0, loc='AMERSHAM')\n",
    "env.process(network.process())\n",
    "env.run()"
   ]
  },
  {
   "cell_type": "markdown",
   "metadata": {},
   "source": [
    "# Collect Statistics"
   ]
  },
  {
   "cell_type": "code",
   "execution_count": 56,
   "metadata": {
    "ExecuteTime": {
     "end_time": "2020-07-28T09:37:51.197900Z",
     "start_time": "2020-07-28T09:37:32.133473Z"
    }
   },
   "outputs": [],
   "source": [
    "np.random.seed(0)\n",
    "\n",
    "env = simpy.Environment()\n",
    "network = Network()\n",
    "env.process(network.process())\n",
    "env.run()"
   ]
  },
  {
   "cell_type": "code",
   "execution_count": 57,
   "metadata": {
    "ExecuteTime": {
     "end_time": "2020-07-28T09:37:51.966775Z",
     "start_time": "2020-07-28T09:37:51.200088Z"
    }
   },
   "outputs": [],
   "source": [
    "LINE = [ t.getName() for t in network.getTracks() ]\n",
    "IARR = [ t.getArrData() for t in network.getTracks() ]\n",
    "IDEP = [ t.getDepData() for t in network.getTracks() ]"
   ]
  },
  {
   "cell_type": "code",
   "execution_count": 58,
   "metadata": {
    "ExecuteTime": {
     "end_time": "2020-07-28T09:37:51.973021Z",
     "start_time": "2020-07-28T09:37:51.968950Z"
    }
   },
   "outputs": [
    {
     "data": {
      "text/plain": [
       "['Bakerloo',\n",
       " 'Central',\n",
       " 'Victoria',\n",
       " 'Waterloo & City',\n",
       " 'Jubilee',\n",
       " 'Northern',\n",
       " 'Piccadilly',\n",
       " 'Metropolitan',\n",
       " 'H & C',\n",
       " 'Circle (Inner)',\n",
       " 'Circle (Outer)',\n",
       " 'District',\n",
       " 'East London']"
      ]
     },
     "execution_count": 58,
     "metadata": {},
     "output_type": "execute_result"
    }
   ],
   "source": [
    "LINE"
   ]
  },
  {
   "cell_type": "markdown",
   "metadata": {},
   "source": [
    "## Metropolitan Line"
   ]
  },
  {
   "cell_type": "markdown",
   "metadata": {},
   "source": [
    "The normal frequency of trains on the line is 20 minutes:"
   ]
  },
  {
   "cell_type": "code",
   "execution_count": 59,
   "metadata": {
    "ExecuteTime": {
     "end_time": "2020-07-28T09:37:51.979566Z",
     "start_time": "2020-07-28T09:37:51.975145Z"
    }
   },
   "outputs": [
    {
     "data": {
      "text/plain": [
       "1200"
      ]
     },
     "execution_count": 59,
     "metadata": {},
     "output_type": "execute_result"
    }
   ],
   "source": [
    "dl.at['Metropolitan', 'freq']"
   ]
  },
  {
   "cell_type": "code",
   "execution_count": 60,
   "metadata": {
    "ExecuteTime": {
     "end_time": "2020-07-28T09:37:51.988627Z",
     "start_time": "2020-07-28T09:37:51.984003Z"
    }
   },
   "outputs": [
    {
     "data": {
      "text/plain": [
       "35"
      ]
     },
     "execution_count": 60,
     "metadata": {},
     "output_type": "execute_result"
    }
   ],
   "source": [
    "dl.at['Metropolitan', 'Stations']"
   ]
  },
  {
   "cell_type": "code",
   "execution_count": 61,
   "metadata": {
    "ExecuteTime": {
     "end_time": "2020-07-28T09:37:51.996780Z",
     "start_time": "2020-07-28T09:37:51.992457Z"
    }
   },
   "outputs": [
    {
     "data": {
      "text/plain": [
       "'Metropolitan'"
      ]
     },
     "execution_count": 61,
     "metadata": {},
     "output_type": "execute_result"
    }
   ],
   "source": [
    "LINE[7]"
   ]
  },
  {
   "cell_type": "code",
   "execution_count": 62,
   "metadata": {
    "ExecuteTime": {
     "end_time": "2020-07-28T09:37:52.003585Z",
     "start_time": "2020-07-28T09:37:51.999268Z"
    }
   },
   "outputs": [
    {
     "data": {
      "text/plain": [
       "'Metropolitan'"
      ]
     },
     "execution_count": 62,
     "metadata": {},
     "output_type": "execute_result"
    }
   ],
   "source": [
    "network.getTracks()[7].getLine()"
   ]
  },
  {
   "cell_type": "code",
   "execution_count": 63,
   "metadata": {
    "ExecuteTime": {
     "end_time": "2020-07-28T09:37:52.010770Z",
     "start_time": "2020-07-28T09:37:52.005535Z"
    }
   },
   "outputs": [
    {
     "data": {
      "text/plain": [
       "Index(['ALDGATE (W)', 'LIVERPOOL STREET (W)', 'MOORGATE (W)', 'BARBICAN (W)',\n",
       "       'FARRINGDON (W)', 'KINGS CROSS ST PANCRAS (W)', 'EUSTON SQUARE (W)',\n",
       "       'GREAT PORTLAND STREET (W)', 'BAKER STREET (MET) (W)',\n",
       "       'FINCHLEY ROAD (W)', 'WEMBLEY PARK (W)', 'PRESTON ROAD (W)',\n",
       "       'NORTHWICK PARK (W)', 'HARROW-ON-THE-HILL (W)', 'WEST HARROW (W)',\n",
       "       'RAYNERS LANE (W)', 'EASTCOTE (W)', 'RUISLIP MANOR (W)', 'RUISLIP (W)',\n",
       "       'ICKENHAM (W)', 'HILLINGDON (W)', 'NORTH HARROW (W)', 'PINNER (W)',\n",
       "       'NORTHWOOD HILLS (W)', 'NORTHWOOD (W)', 'MOOR PARK (W)', 'CROXLEY (W)',\n",
       "       'RICKMANSWORTH (W)', 'CHORLEYWOOD (W)', 'CHALFONT & LATIMER (W)',\n",
       "       'AMERSHAM (W)', 'AMERSHAM (E)', 'CHESHAM (E)', 'CHALFONT & LATIMER (E)',\n",
       "       'CHORLEYWOOD (E)', 'RICKMANSWORTH (E)', 'WATFORD (E)', 'CROXLEY (E)',\n",
       "       'MOOR PARK (E)', 'NORTHWOOD (E)', 'NORTHWOOD HILLS (E)', 'PINNER (E)',\n",
       "       'NORTH HARROW (E)', 'UXBRIDGE (E)', 'HILLINGDON (E)', 'ICKENHAM (E)',\n",
       "       'RUISLIP (E)', 'RUISLIP MANOR (E)', 'EASTCOTE (E)', 'RAYNERS LANE (E)',\n",
       "       'WEST HARROW (E)', 'HARROW-ON-THE-HILL (E)', 'NORTHWICK PARK (E)',\n",
       "       'PRESTON ROAD (E)', 'WEMBLEY PARK (E)', 'FINCHLEY ROAD (E)',\n",
       "       'BAKER STREET (METROPOLITAN) (E)', 'GREAT PORTLAND STREET (E)',\n",
       "       'EUSTON SQUARE (E)', 'KINGS CROSS ST PANCRAS (E)', 'FARRINGDON (E)',\n",
       "       'BARBICAN (E)', 'MOORGATE (E)', 'LIVERPOOL STREET (E)', 'ALDGATE (E)'],\n",
       "      dtype='object')"
      ]
     },
     "execution_count": 63,
     "metadata": {},
     "output_type": "execute_result"
    }
   ],
   "source": [
    "IARR[7].columns"
   ]
  },
  {
   "cell_type": "markdown",
   "metadata": {},
   "source": [
    "### Kings Cross Station"
   ]
  },
  {
   "cell_type": "markdown",
   "metadata": {},
   "source": [
    "Kings Cross is the 5th station on the Metropolitan line"
   ]
  },
  {
   "cell_type": "code",
   "execution_count": 64,
   "metadata": {
    "ExecuteTime": {
     "end_time": "2020-07-28T09:37:52.017721Z",
     "start_time": "2020-07-28T09:37:52.012861Z"
    }
   },
   "outputs": [
    {
     "data": {
      "text/plain": [
       "'KINGS CROSS ST PANCRAS (W)'"
      ]
     },
     "execution_count": 64,
     "metadata": {},
     "output_type": "execute_result"
    }
   ],
   "source": [
    "str(network.getTracks()[7].getStations()[6])"
   ]
  },
  {
   "cell_type": "code",
   "execution_count": 65,
   "metadata": {
    "ExecuteTime": {
     "end_time": "2020-07-28T09:37:52.024608Z",
     "start_time": "2020-07-28T09:37:52.020069Z"
    }
   },
   "outputs": [
    {
     "data": {
      "text/plain": [
       "'KINGS CROSS ST PANCRAS (W)'"
      ]
     },
     "execution_count": 65,
     "metadata": {},
     "output_type": "execute_result"
    }
   ],
   "source": [
    "IARR[7].columns[5]"
   ]
  },
  {
   "cell_type": "markdown",
   "metadata": {},
   "source": [
    "#### Inter Arrival Time Distribution"
   ]
  },
  {
   "cell_type": "code",
   "execution_count": 66,
   "metadata": {
    "ExecuteTime": {
     "end_time": "2020-07-28T09:37:52.035669Z",
     "start_time": "2020-07-28T09:37:52.026790Z"
    }
   },
   "outputs": [
    {
     "data": {
      "text/plain": [
       "count      50.000000\n",
       "mean     1200.490964\n",
       "std        25.991629\n",
       "min      1142.132656\n",
       "25%      1183.577590\n",
       "50%      1205.055024\n",
       "75%      1219.760895\n",
       "max      1244.602660\n",
       "Name: KINGS CROSS ST PANCRAS (W), dtype: float64"
      ]
     },
     "execution_count": 66,
     "metadata": {},
     "output_type": "execute_result"
    }
   ],
   "source": [
    "iarr = IARR[7]['KINGS CROSS ST PANCRAS (W)']\n",
    "iarr.describe()"
   ]
  },
  {
   "cell_type": "code",
   "execution_count": 67,
   "metadata": {
    "ExecuteTime": {
     "end_time": "2020-07-28T09:37:52.446125Z",
     "start_time": "2020-07-28T09:37:52.038007Z"
    }
   },
   "outputs": [
    {
     "name": "stdout",
     "output_type": "stream",
     "text": [
      "2.2σ\n"
     ]
    },
    {
     "data": {
      "image/png": "[encoded data removed]",
      "text/plain": [
       "<Figure size 720x360 with 1 Axes>"
      ]
     },
     "metadata": {
      "needs_background": "light"
     },
     "output_type": "display_data"
    }
   ],
   "source": [
    "σ = iarr.std()\n",
    "μ = iarr.mean()\n",
    "norm = stats.norm(loc=μ, scale=σ).pdf\n",
    "plot(iarr, pdf=norm, xmin=0, xmax=2000, bins=np.linspace(0, 2000, 41))\n",
    "print(f\"{max((μ-iarr.min())/σ,  (iarr.max()-μ)/σ):3.1f}σ\")"
   ]
  },
  {
   "cell_type": "markdown",
   "metadata": {},
   "source": [
    "#### Dwell Time Distribution"
   ]
  },
  {
   "cell_type": "code",
   "execution_count": 68,
   "metadata": {
    "ExecuteTime": {
     "end_time": "2020-07-28T09:37:52.451610Z",
     "start_time": "2020-07-28T09:37:52.448474Z"
    }
   },
   "outputs": [],
   "source": [
    "dwell_time_dist=network.getTracks()[7].getStations()[6].dist_peak_dwell_time"
   ]
  },
  {
   "cell_type": "code",
   "execution_count": 69,
   "metadata": {
    "ExecuteTime": {
     "end_time": "2020-07-28T09:37:52.457393Z",
     "start_time": "2020-07-28T09:37:52.454083Z"
    }
   },
   "outputs": [],
   "source": [
    "dwell_times = dwell_time_dist.rvs(100)"
   ]
  },
  {
   "cell_type": "code",
   "execution_count": 70,
   "metadata": {
    "ExecuteTime": {
     "end_time": "2020-07-28T09:37:52.837265Z",
     "start_time": "2020-07-28T09:37:52.459704Z"
    },
    "scrolled": false
   },
   "outputs": [
    {
     "data": {
      "image/png": "[encoded data removed]",
      "text/plain": [
       "<Figure size 720x360 with 1 Axes>"
      ]
     },
     "metadata": {
      "needs_background": "light"
     },
     "output_type": "display_data"
    }
   ],
   "source": [
    "plot(dwell_times, pdf=dwell_time_dist.pdf, xmin=0, xmax=200, bins=np.linspace(0, 200, 41))"
   ]
  },
  {
   "cell_type": "markdown",
   "metadata": {},
   "source": [
    "#### Inter Departure Time Distribution"
   ]
  },
  {
   "cell_type": "code",
   "execution_count": 71,
   "metadata": {
    "ExecuteTime": {
     "end_time": "2020-07-28T09:37:52.849695Z",
     "start_time": "2020-07-28T09:37:52.840084Z"
    }
   },
   "outputs": [
    {
     "data": {
      "text/plain": [
       "count      50.000000\n",
       "mean     1200.479306\n",
       "std        33.179082\n",
       "min      1114.245966\n",
       "25%      1182.069523\n",
       "50%      1201.395035\n",
       "75%      1223.036717\n",
       "max      1266.133720\n",
       "Name: KINGS CROSS ST PANCRAS (W), dtype: float64"
      ]
     },
     "execution_count": 71,
     "metadata": {},
     "output_type": "execute_result"
    }
   ],
   "source": [
    "idep = IDEP[7]['KINGS CROSS ST PANCRAS (W)']\n",
    "idep.describe()"
   ]
  },
  {
   "cell_type": "code",
   "execution_count": 72,
   "metadata": {
    "ExecuteTime": {
     "end_time": "2020-07-28T09:37:53.270186Z",
     "start_time": "2020-07-28T09:37:52.852323Z"
    }
   },
   "outputs": [
    {
     "data": {
      "image/png": "[encoded data removed]",
      "text/plain": [
       "<Figure size 720x360 with 1 Axes>"
      ]
     },
     "metadata": {
      "needs_background": "light"
     },
     "output_type": "display_data"
    }
   ],
   "source": [
    "σ = idep.std()\n",
    "μ = idep.mean()\n",
    "norm = stats.norm(loc=μ, scale=σ).pdf\n",
    "plot(idep, pdf=norm, xmin=0, xmax=2000, bins=np.linspace(0, 2000, 41))"
   ]
  },
  {
   "cell_type": "markdown",
   "metadata": {},
   "source": [
    "#### Drive Time Distribution"
   ]
  },
  {
   "cell_type": "code",
   "execution_count": 73,
   "metadata": {
    "ExecuteTime": {
     "end_time": "2020-07-28T09:37:53.276445Z",
     "start_time": "2020-07-28T09:37:53.272872Z"
    }
   },
   "outputs": [],
   "source": [
    "drive_time_dist=network.getTracks()[7].getStations()[6].dist_drive_time"
   ]
  },
  {
   "cell_type": "code",
   "execution_count": 74,
   "metadata": {
    "ExecuteTime": {
     "end_time": "2020-07-28T09:37:53.282373Z",
     "start_time": "2020-07-28T09:37:53.279041Z"
    }
   },
   "outputs": [],
   "source": [
    "drive_times = drive_time_dist.rvs(100)"
   ]
  },
  {
   "cell_type": "code",
   "execution_count": 75,
   "metadata": {
    "ExecuteTime": {
     "end_time": "2020-07-28T09:37:53.699813Z",
     "start_time": "2020-07-28T09:37:53.292546Z"
    },
    "scrolled": true
   },
   "outputs": [
    {
     "data": {
      "image/png": "[encoded data removed]",
      "text/plain": [
       "<Figure size 720x360 with 1 Axes>"
      ]
     },
     "metadata": {
      "needs_background": "light"
     },
     "output_type": "display_data"
    }
   ],
   "source": [
    "plot(drive_times, pdf=drive_time_dist.pdf, xmin=0, xmax=200, bins=np.linspace(0, 200, 41))"
   ]
  },
  {
   "cell_type": "markdown",
   "metadata": {},
   "source": [
    "### Wembley Park Station"
   ]
  },
  {
   "cell_type": "code",
   "execution_count": 76,
   "metadata": {
    "ExecuteTime": {
     "end_time": "2020-07-28T09:37:53.711199Z",
     "start_time": "2020-07-28T09:37:53.706281Z"
    }
   },
   "outputs": [
    {
     "data": {
      "text/plain": [
       "'WEMBLEY PARK (W)'"
      ]
     },
     "execution_count": 76,
     "metadata": {},
     "output_type": "execute_result"
    }
   ],
   "source": [
    "IARR[7].columns[10]"
   ]
  },
  {
   "cell_type": "code",
   "execution_count": 77,
   "metadata": {
    "ExecuteTime": {
     "end_time": "2020-07-28T09:37:53.723564Z",
     "start_time": "2020-07-28T09:37:53.713781Z"
    }
   },
   "outputs": [
    {
     "data": {
      "text/plain": [
       "count      50.000000\n",
       "mean     1201.525269\n",
       "std        48.152654\n",
       "min      1077.996459\n",
       "25%      1168.257718\n",
       "50%      1206.898118\n",
       "75%      1237.171240\n",
       "max      1284.404418\n",
       "Name: WEMBLEY PARK (W), dtype: float64"
      ]
     },
     "execution_count": 77,
     "metadata": {},
     "output_type": "execute_result"
    }
   ],
   "source": [
    "iarr = IARR[7]['WEMBLEY PARK (W)']\n",
    "iarr.describe()"
   ]
  },
  {
   "cell_type": "code",
   "execution_count": 78,
   "metadata": {
    "ExecuteTime": {
     "end_time": "2020-07-28T09:37:54.146475Z",
     "start_time": "2020-07-28T09:37:53.726043Z"
    }
   },
   "outputs": [
    {
     "name": "stdout",
     "output_type": "stream",
     "text": [
      "2.6σ\n"
     ]
    },
    {
     "data": {
      "image/png": "[encoded data removed]",
      "text/plain": [
       "<Figure size 720x360 with 1 Axes>"
      ]
     },
     "metadata": {
      "needs_background": "light"
     },
     "output_type": "display_data"
    }
   ],
   "source": [
    "σ = iarr.std()\n",
    "μ = iarr.mean()\n",
    "norm = stats.norm(loc=μ, scale=σ).pdf\n",
    "plot(iarr, pdf=norm, xmin=0, xmax=2000, bins=np.linspace(0, 2000, 41))\n",
    "print(f\"{max((μ-iarr.min())/σ,  (iarr.max()-μ)/σ):3.1f}σ\")"
   ]
  },
  {
   "cell_type": "markdown",
   "metadata": {},
   "source": [
    "### West Harrow"
   ]
  },
  {
   "cell_type": "code",
   "execution_count": 79,
   "metadata": {
    "ExecuteTime": {
     "end_time": "2020-07-28T09:37:54.153168Z",
     "start_time": "2020-07-28T09:37:54.148758Z"
    }
   },
   "outputs": [
    {
     "data": {
      "text/plain": [
       "'HARROW-ON-THE-HILL (W)'"
      ]
     },
     "execution_count": 79,
     "metadata": {},
     "output_type": "execute_result"
    }
   ],
   "source": [
    "IARR[7].columns[13]"
   ]
  },
  {
   "cell_type": "code",
   "execution_count": 80,
   "metadata": {
    "ExecuteTime": {
     "end_time": "2020-07-28T09:37:54.163839Z",
     "start_time": "2020-07-28T09:37:54.155342Z"
    }
   },
   "outputs": [
    {
     "data": {
      "text/plain": [
       "count      50.000000\n",
       "mean     1201.750364\n",
       "std        72.153273\n",
       "min      1007.677867\n",
       "25%      1162.205955\n",
       "50%      1202.993300\n",
       "75%      1247.419605\n",
       "max      1365.185205\n",
       "Name: HARROW-ON-THE-HILL (W), dtype: float64"
      ]
     },
     "execution_count": 80,
     "metadata": {},
     "output_type": "execute_result"
    }
   ],
   "source": [
    "iarr = IARR[7]['HARROW-ON-THE-HILL (W)']\n",
    "iarr.describe()"
   ]
  },
  {
   "cell_type": "code",
   "execution_count": 81,
   "metadata": {
    "ExecuteTime": {
     "end_time": "2020-07-28T09:37:54.170132Z",
     "start_time": "2020-07-28T09:37:54.165967Z"
    }
   },
   "outputs": [
    {
     "data": {
      "text/plain": [
       "'WEST HARROW (W)'"
      ]
     },
     "execution_count": 81,
     "metadata": {},
     "output_type": "execute_result"
    }
   ],
   "source": [
    "IARR[7].columns[14]"
   ]
  },
  {
   "cell_type": "code",
   "execution_count": 82,
   "metadata": {
    "ExecuteTime": {
     "end_time": "2020-07-28T09:37:54.180715Z",
     "start_time": "2020-07-28T09:37:54.172383Z"
    }
   },
   "outputs": [
    {
     "data": {
      "text/plain": [
       "count      50.000000\n",
       "mean     1201.685640\n",
       "std        56.954589\n",
       "min      1039.622867\n",
       "25%      1163.214071\n",
       "50%      1209.384776\n",
       "75%      1238.444205\n",
       "max      1331.729509\n",
       "Name: WEST HARROW (W), dtype: float64"
      ]
     },
     "execution_count": 82,
     "metadata": {},
     "output_type": "execute_result"
    }
   ],
   "source": [
    "iarr = IARR[7]['WEST HARROW (W)']\n",
    "iarr.describe()"
   ]
  },
  {
   "cell_type": "code",
   "execution_count": 83,
   "metadata": {
    "ExecuteTime": {
     "end_time": "2020-07-28T09:37:54.594818Z",
     "start_time": "2020-07-28T09:37:54.182755Z"
    }
   },
   "outputs": [
    {
     "name": "stdout",
     "output_type": "stream",
     "text": [
      "2.8σ\n"
     ]
    },
    {
     "data": {
      "image/png": "[encoded data removed]",
      "text/plain": [
       "<Figure size 720x360 with 1 Axes>"
      ]
     },
     "metadata": {
      "needs_background": "light"
     },
     "output_type": "display_data"
    }
   ],
   "source": [
    "σ = iarr.std()\n",
    "μ = iarr.mean()\n",
    "norm = stats.norm(loc=μ, scale=σ).pdf\n",
    "plot(iarr, pdf=norm, xmin=0, xmax=2000, bins=np.linspace(0, 2000, 41))\n",
    "print(f\"{max((μ-iarr.min())/σ,  (iarr.max()-μ)/σ):3.1f}σ\")"
   ]
  },
  {
   "cell_type": "markdown",
   "metadata": {},
   "source": [
    "### Amersham Station"
   ]
  },
  {
   "cell_type": "code",
   "execution_count": 84,
   "metadata": {
    "ExecuteTime": {
     "end_time": "2020-07-28T09:37:54.601227Z",
     "start_time": "2020-07-28T09:37:54.597137Z"
    }
   },
   "outputs": [
    {
     "data": {
      "text/plain": [
       "'AMERSHAM (W)'"
      ]
     },
     "execution_count": 84,
     "metadata": {},
     "output_type": "execute_result"
    }
   ],
   "source": [
    "IARR[7].columns[30]"
   ]
  },
  {
   "cell_type": "code",
   "execution_count": 85,
   "metadata": {
    "ExecuteTime": {
     "end_time": "2020-07-28T09:37:54.612190Z",
     "start_time": "2020-07-28T09:37:54.603655Z"
    }
   },
   "outputs": [
    {
     "data": {
      "text/plain": [
       "count      50.000000\n",
       "mean     1202.772040\n",
       "std        67.754101\n",
       "min      1059.810846\n",
       "25%      1156.536271\n",
       "50%      1202.934321\n",
       "75%      1246.395558\n",
       "max      1401.933063\n",
       "Name: AMERSHAM (W), dtype: float64"
      ]
     },
     "execution_count": 85,
     "metadata": {},
     "output_type": "execute_result"
    }
   ],
   "source": [
    "iarr = IARR[7]['AMERSHAM (W)']\n",
    "iarr.describe()"
   ]
  },
  {
   "cell_type": "code",
   "execution_count": 86,
   "metadata": {
    "ExecuteTime": {
     "end_time": "2020-07-28T09:37:55.002582Z",
     "start_time": "2020-07-28T09:37:54.614238Z"
    }
   },
   "outputs": [
    {
     "name": "stdout",
     "output_type": "stream",
     "text": [
      "2.9σ\n"
     ]
    },
    {
     "data": {
      "image/png": "[encoded data removed]",
      "text/plain": [
       "<Figure size 720x360 with 1 Axes>"
      ]
     },
     "metadata": {
      "needs_background": "light"
     },
     "output_type": "display_data"
    }
   ],
   "source": [
    "σ = iarr.std()\n",
    "μ = iarr.mean()\n",
    "norm = stats.norm(loc=μ, scale=σ).pdf\n",
    "plot(iarr, pdf=norm, xmin=0, xmax=2000, bins=np.linspace(0, 2000, 41))\n",
    "print(f\"{max((μ-iarr.min())/σ,  (iarr.max()-μ)/σ):3.1f}σ\")"
   ]
  },
  {
   "cell_type": "markdown",
   "metadata": {},
   "source": [
    "### Standard Deviations Along the Track"
   ]
  },
  {
   "cell_type": "code",
   "execution_count": 87,
   "metadata": {
    "ExecuteTime": {
     "end_time": "2020-07-28T09:37:55.242243Z",
     "start_time": "2020-07-28T09:37:55.004990Z"
    },
    "scrolled": false
   },
   "outputs": [
    {
     "data": {
      "text/plain": [
       "[<matplotlib.lines.Line2D at 0x7f871c774520>]"
      ]
     },
     "execution_count": 87,
     "metadata": {},
     "output_type": "execute_result"
    },
    {
     "data": {
      "image/png": "[encoded data removed]",
      "text/plain": [
       "<Figure size 432x288 with 1 Axes>"
      ]
     },
     "metadata": {
      "needs_background": "light"
     },
     "output_type": "display_data"
    }
   ],
   "source": [
    "n = len(IARR[7].columns)//2-1\n",
    "std = [ IARR[7][IARR[7].columns[i]].std() for i in range(n) ]\n",
    "x = range(n)\n",
    "plt.plot(x, std)\n",
    "plt.plot(x, [ std[-1]/(n-1)*x for x in x ])"
   ]
  },
  {
   "cell_type": "markdown",
   "metadata": {},
   "source": [
    "## East London Line"
   ]
  },
  {
   "cell_type": "code",
   "execution_count": 90,
   "metadata": {
    "ExecuteTime": {
     "end_time": "2020-07-28T09:37:55.512942Z",
     "start_time": "2020-07-28T09:37:55.495315Z"
    }
   },
   "outputs": [
    {
     "data": {
      "text/html": [
       "<div>\n",
       "<style scoped>\n",
       "    .dataframe tbody tr th:only-of-type {\n",
       "        vertical-align: middle;\n",
       "    }\n",
       "\n",
       "    .dataframe tbody tr th {\n",
       "        vertical-align: top;\n",
       "    }\n",
       "\n",
       "    .dataframe thead th {\n",
       "        text-align: right;\n",
       "    }\n",
       "</style>\n",
       "<table border=\"1\" class=\"dataframe\">\n",
       "  <thead>\n",
       "    <tr style=\"text-align: right;\">\n",
       "      <th></th>\n",
       "      <th>Line</th>\n",
       "      <th>Direction</th>\n",
       "      <th>From</th>\n",
       "      <th>To</th>\n",
       "      <th>Distance</th>\n",
       "      <th>Drive Time</th>\n",
       "      <th>Dwell Time</th>\n",
       "      <th>Peak Dwell Time</th>\n",
       "      <th>Off-Peak Dwell Time</th>\n",
       "    </tr>\n",
       "  </thead>\n",
       "  <tbody>\n",
       "    <tr>\n",
       "      <th>713</th>\n",
       "      <td>East London</td>\n",
       "      <td>Northbound</td>\n",
       "      <td>NEW CROSS GATE</td>\n",
       "      <td>SURREY QUAYS</td>\n",
       "      <td>2040</td>\n",
       "      <td>117</td>\n",
       "      <td>51</td>\n",
       "      <td>93</td>\n",
       "      <td>93</td>\n",
       "    </tr>\n",
       "    <tr>\n",
       "      <th>714</th>\n",
       "      <td>East London</td>\n",
       "      <td>Northbound</td>\n",
       "      <td>SURREY QUAYS</td>\n",
       "      <td>CANADA WATER</td>\n",
       "      <td>550</td>\n",
       "      <td>56</td>\n",
       "      <td>32</td>\n",
       "      <td>34</td>\n",
       "      <td>34</td>\n",
       "    </tr>\n",
       "    <tr>\n",
       "      <th>715</th>\n",
       "      <td>East London</td>\n",
       "      <td>Northbound</td>\n",
       "      <td>CANADA WATER</td>\n",
       "      <td>ROTHERHITHE</td>\n",
       "      <td>320</td>\n",
       "      <td>42</td>\n",
       "      <td>9</td>\n",
       "      <td>18</td>\n",
       "      <td>18</td>\n",
       "    </tr>\n",
       "    <tr>\n",
       "      <th>716</th>\n",
       "      <td>East London</td>\n",
       "      <td>Northbound</td>\n",
       "      <td>ROTHERHITHE</td>\n",
       "      <td>WAPPING</td>\n",
       "      <td>510</td>\n",
       "      <td>53</td>\n",
       "      <td>17</td>\n",
       "      <td>37</td>\n",
       "      <td>37</td>\n",
       "    </tr>\n",
       "    <tr>\n",
       "      <th>717</th>\n",
       "      <td>East London</td>\n",
       "      <td>Northbound</td>\n",
       "      <td>WAPPING</td>\n",
       "      <td>SHADWELL</td>\n",
       "      <td>770</td>\n",
       "      <td>66</td>\n",
       "      <td>19</td>\n",
       "      <td>24</td>\n",
       "      <td>24</td>\n",
       "    </tr>\n",
       "    <tr>\n",
       "      <th>718</th>\n",
       "      <td>East London</td>\n",
       "      <td>Northbound</td>\n",
       "      <td>SHADWELL</td>\n",
       "      <td>WHITECHAPEL</td>\n",
       "      <td>980</td>\n",
       "      <td>74</td>\n",
       "      <td>44</td>\n",
       "      <td>76</td>\n",
       "      <td>56</td>\n",
       "    </tr>\n",
       "    <tr>\n",
       "      <th>719</th>\n",
       "      <td>East London</td>\n",
       "      <td>Northbound</td>\n",
       "      <td>WHITECHAPEL</td>\n",
       "      <td>SHOREDITCH</td>\n",
       "      <td>720</td>\n",
       "      <td>64</td>\n",
       "      <td>47</td>\n",
       "      <td>56</td>\n",
       "      <td>56</td>\n",
       "    </tr>\n",
       "    <tr>\n",
       "      <th>720</th>\n",
       "      <td>East London</td>\n",
       "      <td>Southbound</td>\n",
       "      <td>SHOREDITCH</td>\n",
       "      <td>WHITECHAPEL</td>\n",
       "      <td>720</td>\n",
       "      <td>64</td>\n",
       "      <td>32</td>\n",
       "      <td>56</td>\n",
       "      <td>56</td>\n",
       "    </tr>\n",
       "    <tr>\n",
       "      <th>721</th>\n",
       "      <td>East London</td>\n",
       "      <td>Southbound</td>\n",
       "      <td>WHITECHAPEL</td>\n",
       "      <td>SHADWELL</td>\n",
       "      <td>980</td>\n",
       "      <td>74</td>\n",
       "      <td>35</td>\n",
       "      <td>46</td>\n",
       "      <td>46</td>\n",
       "    </tr>\n",
       "    <tr>\n",
       "      <th>722</th>\n",
       "      <td>East London</td>\n",
       "      <td>Southbound</td>\n",
       "      <td>SHADWELL</td>\n",
       "      <td>WAPPING</td>\n",
       "      <td>770</td>\n",
       "      <td>66</td>\n",
       "      <td>12</td>\n",
       "      <td>24</td>\n",
       "      <td>24</td>\n",
       "    </tr>\n",
       "    <tr>\n",
       "      <th>723</th>\n",
       "      <td>East London</td>\n",
       "      <td>Southbound</td>\n",
       "      <td>WAPPING</td>\n",
       "      <td>ROTHERHITHE</td>\n",
       "      <td>510</td>\n",
       "      <td>53</td>\n",
       "      <td>17</td>\n",
       "      <td>37</td>\n",
       "      <td>37</td>\n",
       "    </tr>\n",
       "    <tr>\n",
       "      <th>724</th>\n",
       "      <td>East London</td>\n",
       "      <td>Southbound</td>\n",
       "      <td>ROTHERHITHE</td>\n",
       "      <td>CANADA WATER</td>\n",
       "      <td>320</td>\n",
       "      <td>42</td>\n",
       "      <td>13</td>\n",
       "      <td>18</td>\n",
       "      <td>18</td>\n",
       "    </tr>\n",
       "    <tr>\n",
       "      <th>725</th>\n",
       "      <td>East London</td>\n",
       "      <td>Southbound</td>\n",
       "      <td>CANADA WATER</td>\n",
       "      <td>SURREY QUAYS</td>\n",
       "      <td>550</td>\n",
       "      <td>56</td>\n",
       "      <td>46</td>\n",
       "      <td>64</td>\n",
       "      <td>69</td>\n",
       "    </tr>\n",
       "    <tr>\n",
       "      <th>726</th>\n",
       "      <td>East London</td>\n",
       "      <td>Southbound</td>\n",
       "      <td>SURREY QUAYS</td>\n",
       "      <td>NEW CROSS GATE</td>\n",
       "      <td>2040</td>\n",
       "      <td>117</td>\n",
       "      <td>115</td>\n",
       "      <td>93</td>\n",
       "      <td>93</td>\n",
       "    </tr>\n",
       "  </tbody>\n",
       "</table>\n",
       "</div>"
      ],
      "text/plain": [
       "            Line   Direction            From              To  Distance  \\\n",
       "713  East London  Northbound  NEW CROSS GATE    SURREY QUAYS      2040   \n",
       "714  East London  Northbound    SURREY QUAYS    CANADA WATER       550   \n",
       "715  East London  Northbound    CANADA WATER     ROTHERHITHE       320   \n",
       "716  East London  Northbound     ROTHERHITHE         WAPPING       510   \n",
       "717  East London  Northbound         WAPPING        SHADWELL       770   \n",
       "718  East London  Northbound        SHADWELL     WHITECHAPEL       980   \n",
       "719  East London  Northbound     WHITECHAPEL      SHOREDITCH       720   \n",
       "720  East London  Southbound      SHOREDITCH     WHITECHAPEL       720   \n",
       "721  East London  Southbound     WHITECHAPEL        SHADWELL       980   \n",
       "722  East London  Southbound        SHADWELL         WAPPING       770   \n",
       "723  East London  Southbound         WAPPING     ROTHERHITHE       510   \n",
       "724  East London  Southbound     ROTHERHITHE    CANADA WATER       320   \n",
       "725  East London  Southbound    CANADA WATER    SURREY QUAYS       550   \n",
       "726  East London  Southbound    SURREY QUAYS  NEW CROSS GATE      2040   \n",
       "\n",
       "    Drive Time Dwell Time Peak Dwell Time Off-Peak Dwell Time  \n",
       "713        117         51              93                  93  \n",
       "714         56         32              34                  34  \n",
       "715         42          9              18                  18  \n",
       "716         53         17              37                  37  \n",
       "717         66         19              24                  24  \n",
       "718         74         44              76                  56  \n",
       "719         64         47              56                  56  \n",
       "720         64         32              56                  56  \n",
       "721         74         35              46                  46  \n",
       "722         66         12              24                  24  \n",
       "723         53         17              37                  37  \n",
       "724         42         13              18                  18  \n",
       "725         56         46              64                  69  \n",
       "726        117        115              93                  93  "
      ]
     },
     "execution_count": 90,
     "metadata": {},
     "output_type": "execute_result"
    }
   ],
   "source": [
    "dt[dt['Line']=='East London']"
   ]
  },
  {
   "cell_type": "code",
   "execution_count": 91,
   "metadata": {
    "ExecuteTime": {
     "end_time": "2020-07-28T09:37:55.520036Z",
     "start_time": "2020-07-28T09:37:55.515332Z"
    }
   },
   "outputs": [
    {
     "data": {
      "text/plain": [
       "Index(['NEW CROSS GATE (N)', 'SURREY QUAYS (N)', 'CANADA WATER (N)',\n",
       "       'ROTHERHITHE (N)', 'WAPPING (N)', 'SHADWELL (N)', 'WHITECHAPEL (N)',\n",
       "       'SHOREDITCH (N)', 'SHOREDITCH (S)', 'WHITECHAPEL (S)', 'SHADWELL (S)',\n",
       "       'WAPPING (S)', 'ROTHERHITHE (S)', 'CANADA WATER (S)',\n",
       "       'SURREY QUAYS (S)', 'NEW CROSS GATE (S)'],\n",
       "      dtype='object')"
      ]
     },
     "execution_count": 91,
     "metadata": {},
     "output_type": "execute_result"
    }
   ],
   "source": [
    "IARR[-1].columns"
   ]
  },
  {
   "cell_type": "code",
   "execution_count": 92,
   "metadata": {
    "ExecuteTime": {
     "end_time": "2020-07-28T09:37:55.526414Z",
     "start_time": "2020-07-28T09:37:55.522322Z"
    }
   },
   "outputs": [
    {
     "data": {
      "text/plain": [
       "'SURREY QUAYS (N)'"
      ]
     },
     "execution_count": 92,
     "metadata": {},
     "output_type": "execute_result"
    }
   ],
   "source": [
    "IARR[-1].columns[1]"
   ]
  },
  {
   "cell_type": "code",
   "execution_count": 93,
   "metadata": {
    "ExecuteTime": {
     "end_time": "2020-07-28T09:37:55.895596Z",
     "start_time": "2020-07-28T09:37:55.528331Z"
    }
   },
   "outputs": [
    {
     "name": "stdout",
     "output_type": "stream",
     "text": [
      "2.6σ\n"
     ]
    },
    {
     "data": {
      "image/png": "[encoded data removed]",
      "text/plain": [
       "<Figure size 720x360 with 1 Axes>"
      ]
     },
     "metadata": {
      "needs_background": "light"
     },
     "output_type": "display_data"
    }
   ],
   "source": [
    "station = IARR[-1].columns[1]\n",
    "iarr = IARR[-1][station]\n",
    "σ = iarr.std()\n",
    "μ = iarr.mean()\n",
    "norm = stats.norm(loc=μ, scale=σ).pdf\n",
    "plot(iarr, pdf=norm, xmin=0, xmax=2000, title=station, bins=np.linspace(0, 2000, 41))\n",
    "print(f\"{max((μ-iarr.min())/σ,  (iarr.max()-μ)/σ):3.1f}σ\")"
   ]
  },
  {
   "cell_type": "code",
   "execution_count": 94,
   "metadata": {
    "ExecuteTime": {
     "end_time": "2020-07-28T09:37:56.263824Z",
     "start_time": "2020-07-28T09:37:55.897735Z"
    }
   },
   "outputs": [
    {
     "name": "stdout",
     "output_type": "stream",
     "text": [
      "2.3σ\n"
     ]
    },
    {
     "data": {
      "image/png": "[encoded data removed]",
      "text/plain": [
       "<Figure size 720x360 with 1 Axes>"
      ]
     },
     "metadata": {
      "needs_background": "light"
     },
     "output_type": "display_data"
    }
   ],
   "source": [
    "station = IARR[-1].columns[4]\n",
    "iarr = IARR[-1][station]\n",
    "σ = iarr.std()\n",
    "μ = iarr.mean()\n",
    "norm = stats.norm(loc=μ, scale=σ).pdf\n",
    "plot(iarr, pdf=norm, xmin=0, xmax=2000, title=station, bins=np.linspace(0, 2000, 41))\n",
    "print(f\"{max((μ-iarr.min())/σ,  (iarr.max()-μ)/σ):3.1f}σ\")"
   ]
  },
  {
   "cell_type": "code",
   "execution_count": 95,
   "metadata": {
    "ExecuteTime": {
     "end_time": "2020-07-28T09:37:56.633836Z",
     "start_time": "2020-07-28T09:37:56.266204Z"
    }
   },
   "outputs": [
    {
     "name": "stdout",
     "output_type": "stream",
     "text": [
      "2.3σ\n"
     ]
    },
    {
     "data": {
      "image/png": "[encoded data removed]",
      "text/plain": [
       "<Figure size 720x360 with 1 Axes>"
      ]
     },
     "metadata": {
      "needs_background": "light"
     },
     "output_type": "display_data"
    }
   ],
   "source": [
    "station = IARR[-1].columns[7]\n",
    "iarr = IARR[-1][station]\n",
    "σ = iarr.std()\n",
    "μ = iarr.mean()\n",
    "norm = stats.norm(loc=μ, scale=σ).pdf\n",
    "plot(iarr, pdf=norm, xmin=0, xmax=2000, title=station, bins=np.linspace(0, 2000, 41))\n",
    "print(f\"{max((μ-iarr.min())/σ,  (iarr.max()-μ)/σ):3.1f}σ\")"
   ]
  },
  {
   "cell_type": "markdown",
   "metadata": {},
   "source": [
    "## Standard Deviation"
   ]
  },
  {
   "cell_type": "code",
   "execution_count": 96,
   "metadata": {
    "ExecuteTime": {
     "end_time": "2020-07-28T09:37:59.073042Z",
     "start_time": "2020-07-28T09:37:56.636245Z"
    },
    "scrolled": false
   },
   "outputs": [
    {
     "data": {
      "image/png": "[encoded data removed]",
      "text/plain": [
       "<Figure size 288x216 with 1 Axes>"
      ]
     },
     "metadata": {
      "needs_background": "light"
     },
     "output_type": "display_data"
    },
    {
     "data": {
      "image/png": "[encoded data removed]",
      "text/plain": [
       "<Figure size 288x216 with 1 Axes>"
      ]
     },
     "metadata": {
      "needs_background": "light"
     },
     "output_type": "display_data"
    },
    {
     "data": {
      "image/png": "[encoded data removed]",
      "text/plain": [
       "<Figure size 288x216 with 1 Axes>"
      ]
     },
     "metadata": {
      "needs_background": "light"
     },
     "output_type": "display_data"
    },
    {
     "data": {
      "image/png": "[encoded data removed]",
      "text/plain": [
       "<Figure size 288x216 with 1 Axes>"
      ]
     },
     "metadata": {
      "needs_background": "light"
     },
     "output_type": "display_data"
    },
    {
     "data": {
      "image/png": "[encoded data removed]",
      "text/plain": [
       "<Figure size 288x216 with 1 Axes>"
      ]
     },
     "metadata": {
      "needs_background": "light"
     },
     "output_type": "display_data"
    },
    {
     "data": {
      "image/png": "[encoded data removed]",
      "text/plain": [
       "<Figure size 288x216 with 1 Axes>"
      ]
     },
     "metadata": {
      "needs_background": "light"
     },
     "output_type": "display_data"
    },
    {
     "data": {
      "image/png": "[encoded data removed]",
      "text/plain": [
       "<Figure size 288x216 with 1 Axes>"
      ]
     },
     "metadata": {
      "needs_background": "light"
     },
     "output_type": "display_data"
    },
    {
     "data": {
      "image/png": "[encoded data removed]",
      "text/plain": [
       "<Figure size 288x216 with 1 Axes>"
      ]
     },
     "metadata": {
      "needs_background": "light"
     },
     "output_type": "display_data"
    },
    {
     "data": {
      "image/png": "[encoded data removed]",
      "text/plain": [
       "<Figure size 288x216 with 1 Axes>"
      ]
     },
     "metadata": {
      "needs_background": "light"
     },
     "output_type": "display_data"
    },
    {
     "data": {
      "image/png": "[encoded data removed]",
      "text/plain": [
       "<Figure size 288x216 with 1 Axes>"
      ]
     },
     "metadata": {
      "needs_background": "light"
     },
     "output_type": "display_data"
    },
    {
     "data": {
      "image/png": "[encoded data removed]",
      "text/plain": [
       "<Figure size 288x216 with 1 Axes>"
      ]
     },
     "metadata": {
      "needs_background": "light"
     },
     "output_type": "display_data"
    },
    {
     "data": {
      "image/png": "[encoded data removed]",
      "text/plain": [
       "<Figure size 288x216 with 1 Axes>"
      ]
     },
     "metadata": {
      "needs_background": "light"
     },
     "output_type": "display_data"
    }
   ],
   "source": [
    "for line in range(len(IARR)):\n",
    "    name = LINE[line]\n",
    "    iarr = IARR[line]\n",
    "    n = len(iarr.columns)//2-1\n",
    "    if name.startswith(\"Circle\"):\n",
    "        name=\"Circle\"\n",
    "        n = 2*n\n",
    "\n",
    "    if n>2:\n",
    "        std = [ iarr[iarr.columns[i]].std() for i in range(1, n) ]\n",
    "        x = range(1, n)\n",
    "        \n",
    "        fig = plt.figure()\n",
    "        fig.set_figwidth(4)\n",
    "        fig.set_figheight(3)\n",
    "        ax = fig.gca()\n",
    "        \n",
    "        title=f\"{name:s} Line (freq={dl.at[name,'freq']//60:d}min)\"\n",
    "        plt.title(title)\n",
    "        plt.plot(x, std)\n",
    "        plt.plot(x, [ std[-1]/(n-1)*x for x in x ])"
   ]
  },
  {
   "cell_type": "markdown",
   "metadata": {},
   "source": [
    "# References"
   ]
  },
  {
   "cell_type": "markdown",
   "metadata": {},
   "source": [
    "[SimPy](https://simpy.readthedocs.io/en/latest/contents.html)"
   ]
  }
 ],
 "metadata": {
  "kernelspec": {
   "display_name": "Python 3",
   "language": "python",
   "name": "python3"
  },
  "language_info": {
   "codemirror_mode": {
    "name": "ipython",
    "version": 3
   },
   "file_extension": ".py",
   "mimetype": "text/x-python",
   "name": "python",
   "nbconvert_exporter": "python",
   "pygments_lexer": "ipython3",
   "version": "3.7.6"
  },
  "latex_envs": {
   "LaTeX_envs_menu_present": true,
   "autoclose": false,
   "autocomplete": true,
   "bibliofile": "biblio.bib",
   "cite_by": "apalike",
   "current_citInitial": 1,
   "eqLabelWithNumbers": true,
   "eqNumInitial": 1,
   "hotkeys": {
    "equation": "Ctrl-E",
    "itemize": "Ctrl-I"
   },
   "labels_anchors": false,
   "latex_user_defs": false,
   "report_style_numbering": false,
   "user_envs_cfg": false
  },
  "toc": {
   "base_numbering": 1,
   "nav_menu": {},
   "number_sections": true,
   "sideBar": true,
   "skip_h1_title": false,
   "title_cell": "Table of Contents",
   "title_sidebar": "Contents",
   "toc_cell": true,
   "toc_position": {},
   "toc_section_display": true,
   "toc_window_display": false
  },
  "varInspector": {
   "cols": {
    "lenName": 16,
    "lenType": 16,
    "lenVar": 40
   },
   "kernels_config": {
    "python": {
     "delete_cmd_postfix": "",
     "delete_cmd_prefix": "del ",
     "library": "var_list.py",
     "varRefreshCmd": "print(var_dic_list())"
    },
    "r": {
     "delete_cmd_postfix": ") ",
     "delete_cmd_prefix": "rm(",
     "library": "var_list.r",
     "varRefreshCmd": "cat(var_dic_list()) "
    }
   },
   "types_to_exclude": [
    "module",
    "function",
    "builtin_function_or_method",
    "instance",
    "_Feature"
   ],
   "window_display": false
  }
 },
 "nbformat": 4,
 "nbformat_minor": 4
}
