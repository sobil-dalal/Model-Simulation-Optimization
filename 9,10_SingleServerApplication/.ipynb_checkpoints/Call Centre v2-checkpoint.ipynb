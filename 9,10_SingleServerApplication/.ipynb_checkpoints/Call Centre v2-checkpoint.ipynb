{
 "cells": [
  {
   "cell_type": "markdown",
   "metadata": {
    "toc": true
   },
   "source": [
    "<h1>Table of Contents<span class=\"tocSkip\"></span></h1>\n",
    "<div class=\"toc\"><ul class=\"toc-item\"><li><span><a href=\"#Import-Libraries\" data-toc-modified-id=\"Import-Libraries-1\"><span class=\"toc-item-num\">1&nbsp;&nbsp;</span>Import Libraries</a></span></li><li><span><a href=\"#Plotting-Routine\" data-toc-modified-id=\"Plotting-Routine-2\"><span class=\"toc-item-num\">2&nbsp;&nbsp;</span>Plotting Routine</a></span></li><li><span><a href=\"#Load-Empirical-Data\" data-toc-modified-id=\"Load-Empirical-Data-3\"><span class=\"toc-item-num\">3&nbsp;&nbsp;</span>Load Empirical Data</a></span></li><li><span><a href=\"#Generate-Random-Call-Data\" data-toc-modified-id=\"Generate-Random-Call-Data-4\"><span class=\"toc-item-num\">4&nbsp;&nbsp;</span>Generate Random Call Data</a></span><ul class=\"toc-item\"><li><span><a href=\"#Interarrival-Data\" data-toc-modified-id=\"Interarrival-Data-4.1\"><span class=\"toc-item-num\">4.1&nbsp;&nbsp;</span>Interarrival Data</a></span></li><li><span><a href=\"#Call-Length\" data-toc-modified-id=\"Call-Length-4.2\"><span class=\"toc-item-num\">4.2&nbsp;&nbsp;</span>Call Length</a></span></li></ul></li><li><span><a href=\"#Simulation\" data-toc-modified-id=\"Simulation-5\"><span class=\"toc-item-num\">5&nbsp;&nbsp;</span>Simulation</a></span><ul class=\"toc-item\"><li><span><a href=\"#How-many-staff-are-required-to-maintain-a-steady-state?\" data-toc-modified-id=\"How-many-staff-are-required-to-maintain-a-steady-state?-5.1\"><span class=\"toc-item-num\">5.1&nbsp;&nbsp;</span>How many staff are required to maintain a steady state?</a></span></li><li><span><a href=\"#How-many-staff-are-required-to-ensure-that-the-maximum-waiting-time-is-less-than-10min?\" data-toc-modified-id=\"How-many-staff-are-required-to-ensure-that-the-maximum-waiting-time-is-less-than-10min?-5.2\"><span class=\"toc-item-num\">5.2&nbsp;&nbsp;</span>How many staff are required to ensure that the maximum waiting time is less than 10min?</a></span></li><li><span><a href=\"#How-changes-the-wait-time-over-the-day?\" data-toc-modified-id=\"How-changes-the-wait-time-over-the-day?-5.3\"><span class=\"toc-item-num\">5.3&nbsp;&nbsp;</span>How changes the wait time over the day?</a></span></li></ul></li><li><span><a href=\"#Combine-the-code-into-a-single-routine\" data-toc-modified-id=\"Combine-the-code-into-a-single-routine-6\"><span class=\"toc-item-num\">6&nbsp;&nbsp;</span>Combine the code into a single routine</a></span></li><li><span><a href=\"#Capacity-Planning\" data-toc-modified-id=\"Capacity-Planning-7\"><span class=\"toc-item-num\">7&nbsp;&nbsp;</span>Capacity Planning</a></span></li><li><span><a href=\"#Optimisation\" data-toc-modified-id=\"Optimisation-8\"><span class=\"toc-item-num\">8&nbsp;&nbsp;</span>Optimisation</a></span><ul class=\"toc-item\"><li><span><a href=\"#First-Step\" data-toc-modified-id=\"First-Step-8.1\"><span class=\"toc-item-num\">8.1&nbsp;&nbsp;</span>First Step</a></span></li><li><span><a href=\"#Second-Step\" data-toc-modified-id=\"Second-Step-8.2\"><span class=\"toc-item-num\">8.2&nbsp;&nbsp;</span>Second Step</a></span></li><li><span><a href=\"#Third-Step\" data-toc-modified-id=\"Third-Step-8.3\"><span class=\"toc-item-num\">8.3&nbsp;&nbsp;</span>Third Step</a></span></li><li><span><a href=\"#One-more-step...\" data-toc-modified-id=\"One-more-step...-8.4\"><span class=\"toc-item-num\">8.4&nbsp;&nbsp;</span>One more step...</a></span></li><li><span><a href=\"#And-one-more...\" data-toc-modified-id=\"And-one-more...-8.5\"><span class=\"toc-item-num\">8.5&nbsp;&nbsp;</span>And one more...</a></span></li></ul></li><li><span><a href=\"#References\" data-toc-modified-id=\"References-9\"><span class=\"toc-item-num\">9&nbsp;&nbsp;</span>References</a></span></li></ul></div>"
   ]
  },
  {
   "cell_type": "markdown",
   "metadata": {},
   "source": [
    "# Import Libraries"
   ]
  },
  {
   "cell_type": "code",
   "execution_count": 1,
   "metadata": {
    "ExecuteTime": {
     "end_time": "2020-07-21T03:02:17.350440Z",
     "start_time": "2020-07-21T03:02:15.864596Z"
    }
   },
   "outputs": [],
   "source": [
    "import pandas as pd\n",
    "import matplotlib as mpl\n",
    "import matplotlib.pyplot as plt\n",
    "import scipy.stats as stats\n",
    "import math\n",
    "import numpy as np\n",
    "import random\n",
    "\n",
    "import simpy"
   ]
  },
  {
   "cell_type": "code",
   "execution_count": 2,
   "metadata": {
    "ExecuteTime": {
     "end_time": "2020-07-21T03:02:17.355784Z",
     "start_time": "2020-07-21T03:02:17.352961Z"
    }
   },
   "outputs": [],
   "source": [
    "LABOUR_COST = 10 # €/hour\n",
    "TELEFON_COST = 0.05 # €/min"
   ]
  },
  {
   "cell_type": "markdown",
   "metadata": {},
   "source": [
    "# Plotting Routine"
   ]
  },
  {
   "cell_type": "code",
   "execution_count": 3,
   "metadata": {
    "ExecuteTime": {
     "end_time": "2020-07-21T03:02:17.368705Z",
     "start_time": "2020-07-21T03:02:17.359075Z"
    }
   },
   "outputs": [],
   "source": [
    "def plotOverTime(data=None, f=None, style=None, scale=1,\n",
    "                 title=None, ax=None, xlabel=None, ylabel=None):\n",
    "\n",
    "    if ax is None:\n",
    "        fig = plt.figure()\n",
    "        fig.set_figwidth(12)\n",
    "        fig.set_figheight(5)\n",
    "        ax = fig.gca()\n",
    "        \n",
    "    if xlabel is not None:\n",
    "        ax.set_xlabel(xlabel)\n",
    "    if ylabel is not None:\n",
    "        ax.set_ylabel(ylabel)\n",
    "    ax.set_xlim(0, 24)\n",
    "    plt.xticks(ticks=range(24))\n",
    "    if title is not None:\n",
    "        ax.set_title(title)\n",
    "    if data is not None:\n",
    "        plt.hist(data*scale, bins=np.linspace(0,24,25))\n",
    "    if style is None:\n",
    "        style='r-'\n",
    "    if f is not None:\n",
    "        X=np.linspace(0, 24, 1000)\n",
    "        Y=[f(x)*scale for x in X]\n",
    "        plt.plot(X, Y, style)\n",
    "    return ax"
   ]
  },
  {
   "cell_type": "code",
   "execution_count": 4,
   "metadata": {
    "ExecuteTime": {
     "end_time": "2020-07-21T03:02:17.382654Z",
     "start_time": "2020-07-21T03:02:17.371751Z"
    }
   },
   "outputs": [],
   "source": [
    "def plot(data, xmin, xmax, pdf=None, bins=None, \n",
    "         μ=None, σ=None,\n",
    "         \n",
    "         title=None, xlabel=None, ylabel=None):\n",
    "    \n",
    "    fig = plt.figure()\n",
    "    fig.set_figwidth(10)\n",
    "    fig.set_figheight(5)\n",
    "    ax = fig.gca()\n",
    "    \n",
    "    μ = np.mean(data)\n",
    "    σ = np.std(data)  \n",
    "        \n",
    "    ax.set_xlim(xmin, xmax)\n",
    "    \n",
    "    if title!=None:\n",
    "        plt.title(title)\n",
    "        \n",
    "    plt.hist(data, bins=bins, density=True)\n",
    "    \n",
    "    # calculate parameter for text positioning\n",
    "    dx=(xmax-xmin)*0.02\n",
    "    ymin, ymax=plt.ylim()\n",
    "    ypos=ymin+0.9*(ymax-ymin)\n",
    "     \n",
    "    # plot the probability density function if one is given\n",
    "    if pdf!=None:\n",
    "        X = list(np.linspace(xmin, xmax, 100))\n",
    "        Y = [ pdf(x) for x in X]\n",
    "        plt.plot(X, Y, lw=2, color='red')\n",
    " \n",
    "    ax.axvline(x=μ, color='red', linestyle='dashed', lw=2)\n",
    "    plt.text(μ+dx, ypos, f\"μ={μ:3.2f}\", color='red', fontsize=14)\n",
    "        \n",
    "    plt.grid(True)"
   ]
  },
  {
   "cell_type": "code",
   "execution_count": 5,
   "metadata": {
    "ExecuteTime": {
     "end_time": "2020-07-21T03:02:17.396779Z",
     "start_time": "2020-07-21T03:02:17.385244Z"
    }
   },
   "outputs": [],
   "source": [
    "def poissonPlot(data, pdf=None, title=None):\n",
    "    μ = data.mean()\n",
    "    n = data.count()\n",
    "    max = data.mean()*10\n",
    "    \n",
    "    fig = plt.figure()\n",
    "    fig.set_figwidth(10)\n",
    "    fig.set_figheight(5)\n",
    "    \n",
    "    ax = fig.gca()\n",
    "    ax.set_xlim(0, max)\n",
    "    \n",
    "    if title!=None:\n",
    "        ax.set_title(title+\" (n={:,})\".format(n))\n",
    "        \n",
    "    bins = list(np.linspace(0,max,100))+[data.max()]\n",
    "    data.hist(ax=ax, bins=bins, density=True)\n",
    "\n",
    "    x = np.linspace(0, max, 100)\n",
    "\n",
    "    if pdf is None:\n",
    "        y = [ 1/μ*math.exp(-x/μ) for x in x]\n",
    "    else:\n",
    "        y = [ pdf(x) for x in x]\n",
    "    plt.plot(x, y, lw=3, color='red')\n",
    "    ax.axvline(x=μ, color='red')\n",
    "    plt.text(μ+0.2,0.9*y[0],'μ='+'%2.2f' % μ, color='red', fontsize=14)\n",
    "    plt.grid(True)"
   ]
  },
  {
   "cell_type": "markdown",
   "metadata": {},
   "source": [
    "# Load Empirical Data"
   ]
  },
  {
   "cell_type": "markdown",
   "metadata": {},
   "source": [
    "The file `Calls.csv` contains the number of calls per hour recorded over a typical day."
   ]
  },
  {
   "cell_type": "code",
   "execution_count": 6,
   "metadata": {
    "ExecuteTime": {
     "end_time": "2020-07-21T03:02:17.415394Z",
     "start_time": "2020-07-21T03:02:17.399369Z"
    }
   },
   "outputs": [
    {
     "data": {
      "text/html": [
       "<div>\n",
       "<style scoped>\n",
       "    .dataframe tbody tr th:only-of-type {\n",
       "        vertical-align: middle;\n",
       "    }\n",
       "\n",
       "    .dataframe tbody tr th {\n",
       "        vertical-align: top;\n",
       "    }\n",
       "\n",
       "    .dataframe thead th {\n",
       "        text-align: right;\n",
       "    }\n",
       "</style>\n",
       "<table border=\"1\" class=\"dataframe\">\n",
       "  <thead>\n",
       "    <tr style=\"text-align: right;\">\n",
       "      <th></th>\n",
       "      <th>Hour</th>\n",
       "      <th>Calls</th>\n",
       "    </tr>\n",
       "  </thead>\n",
       "  <tbody>\n",
       "    <tr>\n",
       "      <th>0</th>\n",
       "      <td>0</td>\n",
       "      <td>60</td>\n",
       "    </tr>\n",
       "    <tr>\n",
       "      <th>1</th>\n",
       "      <td>1</td>\n",
       "      <td>30</td>\n",
       "    </tr>\n",
       "    <tr>\n",
       "      <th>2</th>\n",
       "      <td>2</td>\n",
       "      <td>18</td>\n",
       "    </tr>\n",
       "    <tr>\n",
       "      <th>3</th>\n",
       "      <td>3</td>\n",
       "      <td>12</td>\n",
       "    </tr>\n",
       "    <tr>\n",
       "      <th>4</th>\n",
       "      <td>4</td>\n",
       "      <td>12</td>\n",
       "    </tr>\n",
       "    <tr>\n",
       "      <th>5</th>\n",
       "      <td>5</td>\n",
       "      <td>30</td>\n",
       "    </tr>\n",
       "    <tr>\n",
       "      <th>6</th>\n",
       "      <td>6</td>\n",
       "      <td>60</td>\n",
       "    </tr>\n",
       "    <tr>\n",
       "      <th>7</th>\n",
       "      <td>7</td>\n",
       "      <td>120</td>\n",
       "    </tr>\n",
       "    <tr>\n",
       "      <th>8</th>\n",
       "      <td>8</td>\n",
       "      <td>420</td>\n",
       "    </tr>\n",
       "    <tr>\n",
       "      <th>9</th>\n",
       "      <td>9</td>\n",
       "      <td>600</td>\n",
       "    </tr>\n",
       "    <tr>\n",
       "      <th>10</th>\n",
       "      <td>10</td>\n",
       "      <td>240</td>\n",
       "    </tr>\n",
       "    <tr>\n",
       "      <th>11</th>\n",
       "      <td>11</td>\n",
       "      <td>120</td>\n",
       "    </tr>\n",
       "    <tr>\n",
       "      <th>12</th>\n",
       "      <td>12</td>\n",
       "      <td>240</td>\n",
       "    </tr>\n",
       "    <tr>\n",
       "      <th>13</th>\n",
       "      <td>13</td>\n",
       "      <td>240</td>\n",
       "    </tr>\n",
       "    <tr>\n",
       "      <th>14</th>\n",
       "      <td>14</td>\n",
       "      <td>180</td>\n",
       "    </tr>\n",
       "    <tr>\n",
       "      <th>15</th>\n",
       "      <td>15</td>\n",
       "      <td>120</td>\n",
       "    </tr>\n",
       "    <tr>\n",
       "      <th>16</th>\n",
       "      <td>16</td>\n",
       "      <td>120</td>\n",
       "    </tr>\n",
       "    <tr>\n",
       "      <th>17</th>\n",
       "      <td>17</td>\n",
       "      <td>480</td>\n",
       "    </tr>\n",
       "    <tr>\n",
       "      <th>18</th>\n",
       "      <td>18</td>\n",
       "      <td>900</td>\n",
       "    </tr>\n",
       "    <tr>\n",
       "      <th>19</th>\n",
       "      <td>19</td>\n",
       "      <td>360</td>\n",
       "    </tr>\n",
       "    <tr>\n",
       "      <th>20</th>\n",
       "      <td>20</td>\n",
       "      <td>240</td>\n",
       "    </tr>\n",
       "    <tr>\n",
       "      <th>21</th>\n",
       "      <td>21</td>\n",
       "      <td>120</td>\n",
       "    </tr>\n",
       "    <tr>\n",
       "      <th>22</th>\n",
       "      <td>22</td>\n",
       "      <td>120</td>\n",
       "    </tr>\n",
       "    <tr>\n",
       "      <th>23</th>\n",
       "      <td>23</td>\n",
       "      <td>90</td>\n",
       "    </tr>\n",
       "  </tbody>\n",
       "</table>\n",
       "</div>"
      ],
      "text/plain": [
       "    Hour  Calls\n",
       "0      0     60\n",
       "1      1     30\n",
       "2      2     18\n",
       "3      3     12\n",
       "4      4     12\n",
       "5      5     30\n",
       "6      6     60\n",
       "7      7    120\n",
       "8      8    420\n",
       "9      9    600\n",
       "10    10    240\n",
       "11    11    120\n",
       "12    12    240\n",
       "13    13    240\n",
       "14    14    180\n",
       "15    15    120\n",
       "16    16    120\n",
       "17    17    480\n",
       "18    18    900\n",
       "19    19    360\n",
       "20    20    240\n",
       "21    21    120\n",
       "22    22    120\n",
       "23    23     90"
      ]
     },
     "execution_count": 6,
     "metadata": {},
     "output_type": "execute_result"
    }
   ],
   "source": [
    "callData = pd.read_csv('Calls.csv')\n",
    "callData"
   ]
  },
  {
   "cell_type": "code",
   "execution_count": 7,
   "metadata": {
    "ExecuteTime": {
     "end_time": "2020-07-21T03:02:17.421621Z",
     "start_time": "2020-07-21T03:02:17.417828Z"
    }
   },
   "outputs": [],
   "source": [
    "def arrivals(x):\n",
    "    x = x%24\n",
    "    return callData.at[int(math.floor(x)),'Calls']"
   ]
  },
  {
   "cell_type": "code",
   "execution_count": 8,
   "metadata": {
    "ExecuteTime": {
     "end_time": "2020-07-21T03:02:17.821589Z",
     "start_time": "2020-07-21T03:02:17.425723Z"
    }
   },
   "outputs": [
    {
     "data": {
      "text/plain": [
       "<matplotlib.axes._subplots.AxesSubplot at 0x7fd4c10c3d30>"
      ]
     },
     "execution_count": 8,
     "metadata": {},
     "output_type": "execute_result"
    },
    {
     "data": {
      "image/png": "[encoded data removed]",
      "text/plain": [
       "<Figure size 864x360 with 1 Axes>"
      ]
     },
     "metadata": {
      "needs_background": "light"
     },
     "output_type": "display_data"
    }
   ],
   "source": [
    "plotOverTime(f=arrivals, \n",
    "             xlabel='Time [h]', ylabel='Calls / h', \n",
    "             title=\"Average number of calls per hour\")"
   ]
  },
  {
   "cell_type": "markdown",
   "metadata": {},
   "source": [
    "# Generate Random Call Data"
   ]
  },
  {
   "cell_type": "markdown",
   "metadata": {},
   "source": [
    "`callData` generates 24h of call data, the interarrival time of which varies over time according to the function f that returns the average number of calls per hour. The call length is normally distribution with the mean `length` and coefficient of variation `cv`."
   ]
  },
  {
   "cell_type": "code",
   "execution_count": 9,
   "metadata": {
    "ExecuteTime": {
     "end_time": "2020-07-21T03:02:23.330205Z",
     "start_time": "2020-07-21T03:02:18.410055Z"
    }
   },
   "outputs": [],
   "source": [
    "def calls(f, length, cv, days=1):\n",
    "    call, time, iat, lgt = [], [], [], []\n",
    "    no = 0\n",
    "    t = 0\n",
    "    while t<24*days:\n",
    "        dt = stats.expon(scale = 1/f(t)).rvs()\n",
    "        cl = stats.norm.rvs(loc=length/3600, scale=length/3600*cv)\n",
    "        t += dt\n",
    "        if t<24*days:\n",
    "            call.append(no)\n",
    "            time.append(t%24)\n",
    "            iat.append(dt)\n",
    "            lgt.append(cl)\n",
    "        no += 1\n",
    "\n",
    "    return call, time, iat, lgt\n",
    "\n",
    "\n",
    "random.seed(0)\n",
    "call, time, iat, lgt = calls(arrivals, 90, 0.1)\n",
    "Calls=pd.DataFrame(index=call)\n",
    "Calls['time']=time\n",
    "Calls['iat']=iat\n",
    "Calls['lgt']=lgt"
   ]
  },
  {
   "cell_type": "code",
   "execution_count": 10,
   "metadata": {
    "ExecuteTime": {
     "end_time": "2020-07-21T03:02:23.336665Z",
     "start_time": "2020-07-21T03:02:23.332573Z"
    }
   },
   "outputs": [
    {
     "data": {
      "text/plain": [
       "5024"
      ]
     },
     "execution_count": 10,
     "metadata": {},
     "output_type": "execute_result"
    }
   ],
   "source": [
    "len(Calls)"
   ]
  },
  {
   "cell_type": "code",
   "execution_count": 11,
   "metadata": {
    "ExecuteTime": {
     "end_time": "2020-07-21T03:02:23.353077Z",
     "start_time": "2020-07-21T03:02:23.339924Z"
    }
   },
   "outputs": [
    {
     "data": {
      "text/html": [
       "<div>\n",
       "<style scoped>\n",
       "    .dataframe tbody tr th:only-of-type {\n",
       "        vertical-align: middle;\n",
       "    }\n",
       "\n",
       "    .dataframe tbody tr th {\n",
       "        vertical-align: top;\n",
       "    }\n",
       "\n",
       "    .dataframe thead th {\n",
       "        text-align: right;\n",
       "    }\n",
       "</style>\n",
       "<table border=\"1\" class=\"dataframe\">\n",
       "  <thead>\n",
       "    <tr style=\"text-align: right;\">\n",
       "      <th></th>\n",
       "      <th>time</th>\n",
       "      <th>iat</th>\n",
       "      <th>lgt</th>\n",
       "    </tr>\n",
       "  </thead>\n",
       "  <tbody>\n",
       "    <tr>\n",
       "      <th>0</th>\n",
       "      <td>0.003735</td>\n",
       "      <td>0.003735</td>\n",
       "      <td>0.027526</td>\n",
       "    </tr>\n",
       "    <tr>\n",
       "      <th>1</th>\n",
       "      <td>0.028783</td>\n",
       "      <td>0.025049</td>\n",
       "      <td>0.023663</td>\n",
       "    </tr>\n",
       "    <tr>\n",
       "      <th>2</th>\n",
       "      <td>0.049840</td>\n",
       "      <td>0.021057</td>\n",
       "      <td>0.026726</td>\n",
       "    </tr>\n",
       "    <tr>\n",
       "      <th>3</th>\n",
       "      <td>0.069793</td>\n",
       "      <td>0.019954</td>\n",
       "      <td>0.024378</td>\n",
       "    </tr>\n",
       "    <tr>\n",
       "      <th>4</th>\n",
       "      <td>0.124843</td>\n",
       "      <td>0.055049</td>\n",
       "      <td>0.024577</td>\n",
       "    </tr>\n",
       "    <tr>\n",
       "      <th>...</th>\n",
       "      <td>...</td>\n",
       "      <td>...</td>\n",
       "      <td>...</td>\n",
       "    </tr>\n",
       "    <tr>\n",
       "      <th>5019</th>\n",
       "      <td>23.953106</td>\n",
       "      <td>0.011356</td>\n",
       "      <td>0.030420</td>\n",
       "    </tr>\n",
       "    <tr>\n",
       "      <th>5020</th>\n",
       "      <td>23.957683</td>\n",
       "      <td>0.004577</td>\n",
       "      <td>0.028670</td>\n",
       "    </tr>\n",
       "    <tr>\n",
       "      <th>5021</th>\n",
       "      <td>23.960101</td>\n",
       "      <td>0.002418</td>\n",
       "      <td>0.022569</td>\n",
       "    </tr>\n",
       "    <tr>\n",
       "      <th>5022</th>\n",
       "      <td>23.980419</td>\n",
       "      <td>0.020318</td>\n",
       "      <td>0.021582</td>\n",
       "    </tr>\n",
       "    <tr>\n",
       "      <th>5023</th>\n",
       "      <td>23.989279</td>\n",
       "      <td>0.008860</td>\n",
       "      <td>0.025077</td>\n",
       "    </tr>\n",
       "  </tbody>\n",
       "</table>\n",
       "<p>5024 rows × 3 columns</p>\n",
       "</div>"
      ],
      "text/plain": [
       "           time       iat       lgt\n",
       "0      0.003735  0.003735  0.027526\n",
       "1      0.028783  0.025049  0.023663\n",
       "2      0.049840  0.021057  0.026726\n",
       "3      0.069793  0.019954  0.024378\n",
       "4      0.124843  0.055049  0.024577\n",
       "...         ...       ...       ...\n",
       "5019  23.953106  0.011356  0.030420\n",
       "5020  23.957683  0.004577  0.028670\n",
       "5021  23.960101  0.002418  0.022569\n",
       "5022  23.980419  0.020318  0.021582\n",
       "5023  23.989279  0.008860  0.025077\n",
       "\n",
       "[5024 rows x 3 columns]"
      ]
     },
     "execution_count": 11,
     "metadata": {},
     "output_type": "execute_result"
    }
   ],
   "source": [
    "Calls"
   ]
  },
  {
   "cell_type": "markdown",
   "metadata": {},
   "source": [
    "## Interarrival Data"
   ]
  },
  {
   "cell_type": "code",
   "execution_count": 12,
   "metadata": {
    "ExecuteTime": {
     "end_time": "2020-07-21T03:02:23.744038Z",
     "start_time": "2020-07-21T03:02:23.356105Z"
    }
   },
   "outputs": [
    {
     "data": {
      "text/plain": [
       "<matplotlib.axes._subplots.AxesSubplot at 0x7fd4c1431370>"
      ]
     },
     "execution_count": 12,
     "metadata": {},
     "output_type": "execute_result"
    },
    {
     "data": {
      "image/png": "[encoded data removed]",
      "text/plain": [
       "<Figure size 864x360 with 1 Axes>"
      ]
     },
     "metadata": {
      "needs_background": "light"
     },
     "output_type": "display_data"
    }
   ],
   "source": [
    "plotOverTime(data=Calls['time'],\n",
    "             xlabel='Time [h]', ylabel='Calls / h', \n",
    "             title=f\"Average number of calls per hour\")"
   ]
  },
  {
   "cell_type": "code",
   "execution_count": 13,
   "metadata": {
    "ExecuteTime": {
     "end_time": "2020-07-21T03:02:24.152519Z",
     "start_time": "2020-07-21T03:02:23.746344Z"
    }
   },
   "outputs": [
    {
     "data": {
      "text/plain": [
       "<matplotlib.axes._subplots.AxesSubplot at 0x7fd4c15af670>"
      ]
     },
     "execution_count": 13,
     "metadata": {},
     "output_type": "execute_result"
    },
    {
     "data": {
      "image/png": "[encoded data removed]",
      "text/plain": [
       "<Figure size 864x360 with 1 Axes>"
      ]
     },
     "metadata": {
      "needs_background": "light"
     },
     "output_type": "display_data"
    }
   ],
   "source": [
    "plotOverTime(data=Calls['time'], f=arrivals, \n",
    "             xlabel='Time [h]', ylabel='Calls / h', \n",
    "             title=f\"Average number of calls per hour\")"
   ]
  },
  {
   "cell_type": "code",
   "execution_count": 14,
   "metadata": {
    "ExecuteTime": {
     "end_time": "2020-07-21T03:02:24.169918Z",
     "start_time": "2020-07-21T03:02:24.154810Z"
    }
   },
   "outputs": [
    {
     "name": "stdout",
     "output_type": "stream",
     "text": [
      "Min. Interarrival Time:      0.0003s\n",
      "Max. Interarrival Time:    811.6378s\n",
      "\n",
      "     ...   5% Quantile:      0.4139s\n",
      "     ...  25% Quantile:      2.6531s\n",
      "     ...  50% Quantile:      7.0221s\n",
      "     ...  75% Quantile:     17.7975s\n",
      "     ...  95% Quantile:     59.2808s\n",
      "\n",
      "Mean Interarrival Time:     17.1898s\n"
     ]
    }
   ],
   "source": [
    "print(f\"Min. Interarrival Time: {Calls['iat'].min()*3600:11.4f}s\")\n",
    "print(f\"Max. Interarrival Time: {Calls['iat'].max()*3600:11.4f}s\")\n",
    "print()\n",
    "print(f\"     ...   5% Quantile: {Calls['iat'].quantile(q=0.05)*3600:11.4f}s\")\n",
    "print(f\"     ...  25% Quantile: {Calls['iat'].quantile(q=0.25)*3600:11.4f}s\")\n",
    "print(f\"     ...  50% Quantile: {Calls['iat'].quantile(q=0.50)*3600:11.4f}s\")\n",
    "print(f\"     ...  75% Quantile: {Calls['iat'].quantile(q=0.75)*3600:11.4f}s\")\n",
    "print(f\"     ...  95% Quantile: {Calls['iat'].quantile(q=0.95)*3600:11.4f}s\")\n",
    "print()\n",
    "print(f\"Mean Interarrival Time: {Calls['iat'].mean()*3600:11.4f}s\")\n",
    "\n"
   ]
  },
  {
   "cell_type": "code",
   "execution_count": 15,
   "metadata": {
    "ExecuteTime": {
     "end_time": "2020-07-21T03:02:24.660404Z",
     "start_time": "2020-07-21T03:02:24.172247Z"
    }
   },
   "outputs": [
    {
     "data": {
      "image/png": "[encoded data removed]",
      "text/plain": [
       "<Figure size 720x360 with 1 Axes>"
      ]
     },
     "metadata": {
      "needs_background": "light"
     },
     "output_type": "display_data"
    }
   ],
   "source": [
    "poissonPlot(Calls['iat']*3600, title=\"Inter-Arrival Times in seconds\")"
   ]
  },
  {
   "cell_type": "markdown",
   "metadata": {},
   "source": [
    "## Call Length"
   ]
  },
  {
   "cell_type": "code",
   "execution_count": 16,
   "metadata": {
    "ExecuteTime": {
     "end_time": "2020-07-21T03:02:24.670784Z",
     "start_time": "2020-07-21T03:02:24.665275Z"
    }
   },
   "outputs": [
    {
     "name": "stdout",
     "output_type": "stream",
     "text": [
      "Min. Call Length:     58.6705s\n",
      "Max. Call Length:    120.1797s\n",
      "Mean Call Length:     89.8775s\n"
     ]
    }
   ],
   "source": [
    "print(f\"Min. Call Length: {Calls['lgt'].min()*3600:11.4f}s\")\n",
    "print(f\"Max. Call Length: {Calls['lgt'].max()*3600:11.4f}s\")\n",
    "print(f\"Mean Call Length: {Calls['lgt'].mean()*3600:11.4f}s\")"
   ]
  },
  {
   "cell_type": "code",
   "execution_count": 17,
   "metadata": {
    "ExecuteTime": {
     "end_time": "2020-07-21T03:02:25.038838Z",
     "start_time": "2020-07-21T03:02:24.674729Z"
    }
   },
   "outputs": [
    {
     "data": {
      "image/png": "[encoded data removed]",
      "text/plain": [
       "<Figure size 720x360 with 1 Axes>"
      ]
     },
     "metadata": {
      "needs_background": "light"
     },
     "output_type": "display_data"
    }
   ],
   "source": [
    "plot(Calls['lgt']*3600, xmin=0, xmax=150, bins=50,\n",
    "    title=\"Call Length in seconds\")"
   ]
  },
  {
   "cell_type": "markdown",
   "metadata": {},
   "source": [
    "# Simulation"
   ]
  },
  {
   "cell_type": "code",
   "execution_count": 18,
   "metadata": {
    "ExecuteTime": {
     "end_time": "2020-07-21T03:02:25.115830Z",
     "start_time": "2020-07-21T03:02:25.041182Z"
    }
   },
   "outputs": [],
   "source": [
    "def callCentre(cd, staffno, log=False, plot=False):\n",
    "    \n",
    "    N = len(cd)\n",
    "    \n",
    "    iarr = cd['iat'].mean()\n",
    "    proc_μ = cd['lgt'].mean()\n",
    "    proc_σ = cd['lgt'].std()\n",
    "    \n",
    "    # Prepare a DataFrame to record observations\n",
    "    sd = pd.DataFrame()\n",
    "    sd['calling at'] = [None]*N\n",
    "    sd['answered at'] = [None]*N\n",
    "    sd['finished at'] = [None]*N \n",
    "    \n",
    "    env = simpy.Environment()\n",
    "    staff = simpy.Resource(env, capacity=staffno)\n",
    "    \n",
    "    # initialise variables describing the queue\n",
    "    maxql=0  # maximum length of queue\n",
    "    qt=0     # \"integral\" of ql from 0 to lastT\n",
    "    lastT=0 # last time qt was updated\n",
    "    \n",
    "    # initialise variables describing the server\n",
    "    maxs=0   # max number of customers served at anyone time\n",
    "    s=0      # current number of customers being served\n",
    "    st=0     # \"integral\" of s from 0 to env.now\n",
    "    \n",
    "    def calls(n):\n",
    "        for i in range(n):\n",
    "            # wait for the next call\n",
    "            yield env.timeout(cd.at[i, 'iat'])\n",
    "            c = call(i)\n",
    "            env.process(c)\n",
    "     \n",
    "    def call(i):\n",
    "        sd.at[i, 'calling at'] = env.now\n",
    "        \n",
    "        nonlocal qt, lastT, maxql, s, st, maxs\n",
    "        \n",
    "        # length of the queue before the customer enters\n",
    "\n",
    "        ql = len(staff.queue) \n",
    "        if ql==maxql:\n",
    "            maxql = ql+1\n",
    "        qt += ql*(env.now-lastT)\n",
    "        lastT=env.now\n",
    "\n",
    "        req = staff.request()\n",
    "        \n",
    "        yield req\n",
    "        \n",
    "        # length of the queue just before the customer leaves\n",
    "        ql = len(staff.queue) \n",
    "        qt += ql*(env.now-lastT)\n",
    "        lastT=env.now\n",
    "        \n",
    "        sd.at[i, 'answered at'] = env.now\n",
    "        # Wait while the clerk is dealing with you\n",
    "        \n",
    "        s += 1\n",
    "        if s>maxs:\n",
    "            maxs = s\n",
    "            \n",
    "        proc = cd.at[i, 'lgt']\n",
    "        yield env.timeout(proc)\n",
    "        sd.at[i, 'finished at'] = env.now\n",
    "        staff.release(req)\n",
    "        \n",
    "        s -= 1\n",
    "        st += proc\n",
    "        \n",
    "            \n",
    "    env.process(calls(len(cd)))\n",
    "    env.run()\n",
    "    \n",
    "    sd['wait time']=sd['answered at']-sd['calling at'] \n",
    "    sd['call time']=sd['finished at']-sd['answered at']\n",
    "    sd['flow time']=sd['finished at']-sd['calling at']\n",
    "    \n",
    "    w = sd['wait time']\n",
    "    f = sd['flow time']\n",
    "    \n",
    "    if plot:\n",
    "        idep_μ = sd['idep'].mean()\n",
    "        idep_σ = sd['idep'].std()\n",
    "        poissonPlot(cd['iat'], title=\"Inter-Arrival Times\")\n",
    "        # poissonPlot(cd['proc'], pdf=stats.norm(loc=proc_μ, scale=proc_σ).pdf, title=\"Processing Times\")\n",
    "        poissonPlot(sd['wait time'], title=\"Wait Times\")\n",
    "        poissonPlot(sd['flow time'], title=\"Flow Times\")\n",
    "    \n",
    "    μ_iarr = cd['iat'].mean()\n",
    "    μ_proc = cd['lgt'].mean()\n",
    "    ρ = st/(lastT*staffno)\n",
    "    ρ_theor = proc_μ/(iarr*staffno)\n",
    "    Lq = qt/lastT\n",
    "    \n",
    "    if log:\n",
    "\n",
    "        CV_proc = proc_σ/proc_μ\n",
    "        Lq_theor = (1+CV_proc)/2*ρ_theor**2/(1-ρ_theor)\n",
    "        Wq_theor = Lq_theor*iarr\n",
    "  \n",
    "        print(f\"   actual / expected   N={N:,d}\")\n",
    "        print(f\"a= {μ_iarr*3600:6.2f}   {iarr*3600:6.2f}   (Inter Arrival Time [s])\")\n",
    "        print(f\"p= {μ_proc*3600:6.2f}   {proc_μ*3600:6.2f}   (Processing Time [s])\")\n",
    "        print(f\"ρ= {100*ρ:5.1f}%  {100*ρ_theor:6.1f}%   (System Utilisation)\")\n",
    "        print(f\"L= {ρ+Lq:6.2f}   {ρ_theor+Lq_theor:6.2f}   (inventory in the system)\")\n",
    "        print(f\"Lq={Lq:6.2f}   {Lq_theor:6.2f}   (inventory in the queue)\")\n",
    "        print(f\"Ls={ρ:6.2f}   {ρ_theor:6.2f}   (inventory in service)\")\n",
    "        print(f\"W= {f.mean()*60:6.2f}   {(proc_μ+Wq_theor)*60:6.2f}   (Flow Time through the System [min]\")\n",
    "        print(f\"Wq={w.mean()*60:6.2f}   {Wq_theor*60:6.2f}   (Wait Time [min])\")\n",
    "        print(f\"Ws={μ_proc*60:6.2f}   {proc_μ*60:6.2f}   (Service Time [min])\")\n",
    "        print()\n",
    "        \n",
    "    return sd, w.mean(), w.max(), Lq, maxql, ρ, ρ_theor"
   ]
  },
  {
   "cell_type": "code",
   "execution_count": 19,
   "metadata": {
    "ExecuteTime": {
     "end_time": "2020-07-21T03:02:25.759655Z",
     "start_time": "2020-07-21T03:02:25.118472Z"
    }
   },
   "outputs": [
    {
     "name": "stdout",
     "output_type": "stream",
     "text": [
      "   actual / expected   N=5,024\n",
      "a=  17.19    17.19   (Inter Arrival Time [s])\n",
      "p=  89.88    89.88   (Processing Time [s])\n",
      "ρ=  52.3%    52.3%   (System Utilisation)\n",
      "L=  85.54     0.84   (inventory in the system)\n",
      "Lq= 85.02     0.32   (inventory in the queue)\n",
      "Ls=  0.52     0.52   (inventory in service)\n",
      "W=  25.91     1.59   (Flow Time through the System [min]\n",
      "Wq= 24.41     0.09   (Wait Time [min])\n",
      "Ws=  1.50     1.50   (Service Time [min])\n",
      "\n"
     ]
    }
   ],
   "source": [
    "_ = callCentre(Calls, 10, log=True)"
   ]
  },
  {
   "cell_type": "code",
   "execution_count": 20,
   "metadata": {
    "ExecuteTime": {
     "end_time": "2020-07-21T03:02:26.411075Z",
     "start_time": "2020-07-21T03:02:25.761985Z"
    }
   },
   "outputs": [
    {
     "name": "stdout",
     "output_type": "stream",
     "text": [
      "   actual / expected   N=5,024\n",
      "a=  17.19    17.19   (Inter Arrival Time [s])\n",
      "p=  89.88    89.88   (Processing Time [s])\n",
      "ρ=  26.1%    26.1%   (System Utilisation)\n",
      "L=   4.04     0.31   (inventory in the system)\n",
      "Lq=  3.78     0.05   (inventory in the queue)\n",
      "Ls=  0.26     0.26   (inventory in service)\n",
      "W=   2.59     1.51   (Flow Time through the System [min]\n",
      "Wq=  1.09     0.01   (Wait Time [min])\n",
      "Ws=  1.50     1.50   (Service Time [min])\n",
      "\n"
     ]
    }
   ],
   "source": [
    "_ = callCentre(Calls, 20, log=True)"
   ]
  },
  {
   "cell_type": "markdown",
   "metadata": {},
   "source": [
    "## How many staff are required to maintain a steady state?"
   ]
  },
  {
   "cell_type": "code",
   "execution_count": 21,
   "metadata": {
    "ExecuteTime": {
     "end_time": "2020-07-21T03:02:30.353218Z",
     "start_time": "2020-07-21T03:02:26.413731Z"
    }
   },
   "outputs": [
    {
     "name": "stdout",
     "output_type": "stream",
     "text": [
      "6 staff are required for 24h/day to maintain a steady state.\n"
     ]
    }
   ],
   "source": [
    "minstaff=0\n",
    "for i in range(1,100):\n",
    "    _, _, _, _, _, _, ρ = callCentre(Calls, i)\n",
    "    if ρ<1:\n",
    "        minstaff=i\n",
    "        break\n",
    "print(f\"{minstaff:d} staff are required for 24h/day to maintain a steady state.\")"
   ]
  },
  {
   "cell_type": "markdown",
   "metadata": {},
   "source": [
    "## How many staff are required to ensure that the maximum waiting time is less than 10min?"
   ]
  },
  {
   "cell_type": "code",
   "execution_count": 22,
   "metadata": {
    "ExecuteTime": {
     "end_time": "2020-07-21T03:02:41.014086Z",
     "start_time": "2020-07-21T03:02:30.355406Z"
    }
   },
   "outputs": [
    {
     "name": "stdout",
     "output_type": "stream",
     "text": [
      "With  6 staff, the maximum waiting time is 292.5min\n",
      "With  7 staff, the maximum waiting time is 196.7min\n",
      "With  8 staff, the maximum waiting time is 149.1min\n",
      "With  9 staff, the maximum waiting time is 116.1min\n",
      "With 10 staff, the maximum waiting time is  93.2min\n",
      "With 11 staff, the maximum waiting time is  74.6min\n",
      "With 12 staff, the maximum waiting time is  59.8min\n",
      "With 13 staff, the maximum waiting time is  48.2min\n",
      "With 14 staff, the maximum waiting time is  40.3min\n",
      "With 15 staff, the maximum waiting time is  33.8min\n",
      "With 16 staff, the maximum waiting time is  28.0min\n",
      "With 17 staff, the maximum waiting time is  22.8min\n",
      "With 18 staff, the maximum waiting time is  18.3min\n",
      "With 19 staff, the maximum waiting time is  14.3min\n",
      "With 20 staff, the maximum waiting time is  10.8min\n",
      "With 21 staff, the maximum waiting time is   7.6min\n"
     ]
    }
   ],
   "source": [
    "for i in range(minstaff,100):\n",
    "    _, _, max_wait, _, _, _, _ = callCentre(Calls, i)\n",
    "    print(f\"With {i:2d} staff, the maximum waiting time is {max_wait*60:5.1f}min\")\n",
    "    if max_wait*60<10:\n",
    "        break"
   ]
  },
  {
   "cell_type": "markdown",
   "metadata": {},
   "source": [
    "## How changes the wait time over the day?"
   ]
  },
  {
   "cell_type": "code",
   "execution_count": 23,
   "metadata": {
    "ExecuteTime": {
     "end_time": "2020-07-21T03:02:41.689580Z",
     "start_time": "2020-07-21T03:02:41.016159Z"
    }
   },
   "outputs": [
    {
     "name": "stdout",
     "output_type": "stream",
     "text": [
      "   actual / expected   N=5,024\n",
      "a=  17.19    17.19   (Inter Arrival Time [s])\n",
      "p=  89.88    89.88   (Processing Time [s])\n",
      "ρ=  52.3%    52.3%   (System Utilisation)\n",
      "L=  85.54     0.84   (inventory in the system)\n",
      "Lq= 85.02     0.32   (inventory in the queue)\n",
      "Ls=  0.52     0.52   (inventory in service)\n",
      "W=  25.91     1.59   (Flow Time through the System [min]\n",
      "Wq= 24.41     0.09   (Wait Time [min])\n",
      "Ws=  1.50     1.50   (Service Time [min])\n",
      "\n"
     ]
    }
   ],
   "source": [
    "sd, _, _, _, _, _, _ = callCentre(Calls, 10, log=True)"
   ]
  },
  {
   "cell_type": "code",
   "execution_count": 24,
   "metadata": {
    "ExecuteTime": {
     "end_time": "2020-07-21T03:02:41.707912Z",
     "start_time": "2020-07-21T03:02:41.691868Z"
    }
   },
   "outputs": [
    {
     "data": {
      "text/html": [
       "<div>\n",
       "<style scoped>\n",
       "    .dataframe tbody tr th:only-of-type {\n",
       "        vertical-align: middle;\n",
       "    }\n",
       "\n",
       "    .dataframe tbody tr th {\n",
       "        vertical-align: top;\n",
       "    }\n",
       "\n",
       "    .dataframe thead th {\n",
       "        text-align: right;\n",
       "    }\n",
       "</style>\n",
       "<table border=\"1\" class=\"dataframe\">\n",
       "  <thead>\n",
       "    <tr style=\"text-align: right;\">\n",
       "      <th></th>\n",
       "      <th>calling at</th>\n",
       "      <th>answered at</th>\n",
       "      <th>finished at</th>\n",
       "      <th>wait time</th>\n",
       "      <th>call time</th>\n",
       "      <th>flow time</th>\n",
       "    </tr>\n",
       "  </thead>\n",
       "  <tbody>\n",
       "    <tr>\n",
       "      <th>0</th>\n",
       "      <td>0.00373456</td>\n",
       "      <td>0.00373456</td>\n",
       "      <td>0.031261</td>\n",
       "      <td>0</td>\n",
       "      <td>0.0275265</td>\n",
       "      <td>0.0275265</td>\n",
       "    </tr>\n",
       "    <tr>\n",
       "      <th>1</th>\n",
       "      <td>0.0287831</td>\n",
       "      <td>0.0287831</td>\n",
       "      <td>0.0524463</td>\n",
       "      <td>0</td>\n",
       "      <td>0.0236632</td>\n",
       "      <td>0.0236632</td>\n",
       "    </tr>\n",
       "    <tr>\n",
       "      <th>2</th>\n",
       "      <td>0.0498398</td>\n",
       "      <td>0.0498398</td>\n",
       "      <td>0.0765658</td>\n",
       "      <td>0</td>\n",
       "      <td>0.0267261</td>\n",
       "      <td>0.0267261</td>\n",
       "    </tr>\n",
       "    <tr>\n",
       "      <th>3</th>\n",
       "      <td>0.0697934</td>\n",
       "      <td>0.0697934</td>\n",
       "      <td>0.0941717</td>\n",
       "      <td>0</td>\n",
       "      <td>0.0243782</td>\n",
       "      <td>0.0243782</td>\n",
       "    </tr>\n",
       "    <tr>\n",
       "      <th>4</th>\n",
       "      <td>0.124843</td>\n",
       "      <td>0.124843</td>\n",
       "      <td>0.149419</td>\n",
       "      <td>0</td>\n",
       "      <td>0.0245765</td>\n",
       "      <td>0.0245765</td>\n",
       "    </tr>\n",
       "    <tr>\n",
       "      <th>...</th>\n",
       "      <td>...</td>\n",
       "      <td>...</td>\n",
       "      <td>...</td>\n",
       "      <td>...</td>\n",
       "      <td>...</td>\n",
       "      <td>...</td>\n",
       "    </tr>\n",
       "    <tr>\n",
       "      <th>5019</th>\n",
       "      <td>23.9531</td>\n",
       "      <td>23.9531</td>\n",
       "      <td>23.9835</td>\n",
       "      <td>0</td>\n",
       "      <td>0.0304199</td>\n",
       "      <td>0.0304199</td>\n",
       "    </tr>\n",
       "    <tr>\n",
       "      <th>5020</th>\n",
       "      <td>23.9577</td>\n",
       "      <td>23.9577</td>\n",
       "      <td>23.9864</td>\n",
       "      <td>0</td>\n",
       "      <td>0.0286701</td>\n",
       "      <td>0.0286701</td>\n",
       "    </tr>\n",
       "    <tr>\n",
       "      <th>5021</th>\n",
       "      <td>23.9601</td>\n",
       "      <td>23.9601</td>\n",
       "      <td>23.9827</td>\n",
       "      <td>0</td>\n",
       "      <td>0.022569</td>\n",
       "      <td>0.022569</td>\n",
       "    </tr>\n",
       "    <tr>\n",
       "      <th>5022</th>\n",
       "      <td>23.9804</td>\n",
       "      <td>23.9804</td>\n",
       "      <td>24.002</td>\n",
       "      <td>0</td>\n",
       "      <td>0.0215818</td>\n",
       "      <td>0.0215818</td>\n",
       "    </tr>\n",
       "    <tr>\n",
       "      <th>5023</th>\n",
       "      <td>23.9893</td>\n",
       "      <td>23.9893</td>\n",
       "      <td>24.0144</td>\n",
       "      <td>0</td>\n",
       "      <td>0.0250768</td>\n",
       "      <td>0.0250768</td>\n",
       "    </tr>\n",
       "  </tbody>\n",
       "</table>\n",
       "<p>5024 rows × 6 columns</p>\n",
       "</div>"
      ],
      "text/plain": [
       "      calling at answered at finished at wait time  call time  flow time\n",
       "0     0.00373456  0.00373456    0.031261         0  0.0275265  0.0275265\n",
       "1      0.0287831   0.0287831   0.0524463         0  0.0236632  0.0236632\n",
       "2      0.0498398   0.0498398   0.0765658         0  0.0267261  0.0267261\n",
       "3      0.0697934   0.0697934   0.0941717         0  0.0243782  0.0243782\n",
       "4       0.124843    0.124843    0.149419         0  0.0245765  0.0245765\n",
       "...          ...         ...         ...       ...        ...        ...\n",
       "5019     23.9531     23.9531     23.9835         0  0.0304199  0.0304199\n",
       "5020     23.9577     23.9577     23.9864         0  0.0286701  0.0286701\n",
       "5021     23.9601     23.9601     23.9827         0   0.022569   0.022569\n",
       "5022     23.9804     23.9804      24.002         0  0.0215818  0.0215818\n",
       "5023     23.9893     23.9893     24.0144         0  0.0250768  0.0250768\n",
       "\n",
       "[5024 rows x 6 columns]"
      ]
     },
     "execution_count": 24,
     "metadata": {},
     "output_type": "execute_result"
    }
   ],
   "source": [
    "sd"
   ]
  },
  {
   "cell_type": "code",
   "execution_count": 25,
   "metadata": {
    "ExecuteTime": {
     "end_time": "2020-07-21T03:02:41.848468Z",
     "start_time": "2020-07-21T03:02:41.710533Z"
    },
    "scrolled": false
   },
   "outputs": [
    {
     "data": {
      "text/html": [
       "<div>\n",
       "<style scoped>\n",
       "    .dataframe tbody tr th:only-of-type {\n",
       "        vertical-align: middle;\n",
       "    }\n",
       "\n",
       "    .dataframe tbody tr th {\n",
       "        vertical-align: top;\n",
       "    }\n",
       "\n",
       "    .dataframe thead th {\n",
       "        text-align: right;\n",
       "    }\n",
       "</style>\n",
       "<table border=\"1\" class=\"dataframe\">\n",
       "  <thead>\n",
       "    <tr style=\"text-align: right;\">\n",
       "      <th></th>\n",
       "      <th>mean</th>\n",
       "      <th>max</th>\n",
       "      <th>min</th>\n",
       "    </tr>\n",
       "  </thead>\n",
       "  <tbody>\n",
       "    <tr>\n",
       "      <th>0</th>\n",
       "      <td>0.000000</td>\n",
       "      <td>0.000000</td>\n",
       "      <td>0.000000</td>\n",
       "    </tr>\n",
       "    <tr>\n",
       "      <th>1</th>\n",
       "      <td>0.000000</td>\n",
       "      <td>0.000000</td>\n",
       "      <td>0.000000</td>\n",
       "    </tr>\n",
       "    <tr>\n",
       "      <th>2</th>\n",
       "      <td>0.000000</td>\n",
       "      <td>0.000000</td>\n",
       "      <td>0.000000</td>\n",
       "    </tr>\n",
       "    <tr>\n",
       "      <th>3</th>\n",
       "      <td>0.000000</td>\n",
       "      <td>0.000000</td>\n",
       "      <td>0.000000</td>\n",
       "    </tr>\n",
       "    <tr>\n",
       "      <th>4</th>\n",
       "      <td>0.000000</td>\n",
       "      <td>0.000000</td>\n",
       "      <td>0.000000</td>\n",
       "    </tr>\n",
       "    <tr>\n",
       "      <th>5</th>\n",
       "      <td>0.000000</td>\n",
       "      <td>0.000000</td>\n",
       "      <td>0.000000</td>\n",
       "    </tr>\n",
       "    <tr>\n",
       "      <th>6</th>\n",
       "      <td>0.000000</td>\n",
       "      <td>0.000000</td>\n",
       "      <td>0.000000</td>\n",
       "    </tr>\n",
       "    <tr>\n",
       "      <th>7</th>\n",
       "      <td>0.000000</td>\n",
       "      <td>0.000000</td>\n",
       "      <td>0.000000</td>\n",
       "    </tr>\n",
       "    <tr>\n",
       "      <th>8</th>\n",
       "      <td>0.038243</td>\n",
       "      <td>0.110955</td>\n",
       "      <td>0.000000</td>\n",
       "    </tr>\n",
       "    <tr>\n",
       "      <th>9</th>\n",
       "      <td>0.251537</td>\n",
       "      <td>0.457981</td>\n",
       "      <td>0.079851</td>\n",
       "    </tr>\n",
       "    <tr>\n",
       "      <th>10</th>\n",
       "      <td>0.257296</td>\n",
       "      <td>0.460476</td>\n",
       "      <td>0.045718</td>\n",
       "    </tr>\n",
       "    <tr>\n",
       "      <th>11</th>\n",
       "      <td>0.002076</td>\n",
       "      <td>0.037205</td>\n",
       "      <td>0.000000</td>\n",
       "    </tr>\n",
       "    <tr>\n",
       "      <th>12</th>\n",
       "      <td>0.000313</td>\n",
       "      <td>0.012351</td>\n",
       "      <td>0.000000</td>\n",
       "    </tr>\n",
       "    <tr>\n",
       "      <th>13</th>\n",
       "      <td>0.000473</td>\n",
       "      <td>0.009587</td>\n",
       "      <td>0.000000</td>\n",
       "    </tr>\n",
       "    <tr>\n",
       "      <th>14</th>\n",
       "      <td>0.000015</td>\n",
       "      <td>0.001670</td>\n",
       "      <td>0.000000</td>\n",
       "    </tr>\n",
       "    <tr>\n",
       "      <th>15</th>\n",
       "      <td>0.000000</td>\n",
       "      <td>0.000000</td>\n",
       "      <td>0.000000</td>\n",
       "    </tr>\n",
       "    <tr>\n",
       "      <th>16</th>\n",
       "      <td>0.000000</td>\n",
       "      <td>0.000000</td>\n",
       "      <td>0.000000</td>\n",
       "    </tr>\n",
       "    <tr>\n",
       "      <th>17</th>\n",
       "      <td>0.095642</td>\n",
       "      <td>0.213727</td>\n",
       "      <td>0.000000</td>\n",
       "    </tr>\n",
       "    <tr>\n",
       "      <th>18</th>\n",
       "      <td>0.877933</td>\n",
       "      <td>1.542232</td>\n",
       "      <td>0.204331</td>\n",
       "    </tr>\n",
       "    <tr>\n",
       "      <th>19</th>\n",
       "      <td>1.468803</td>\n",
       "      <td>1.553382</td>\n",
       "      <td>1.392619</td>\n",
       "    </tr>\n",
       "    <tr>\n",
       "      <th>20</th>\n",
       "      <td>1.245286</td>\n",
       "      <td>1.412343</td>\n",
       "      <td>1.091381</td>\n",
       "    </tr>\n",
       "    <tr>\n",
       "      <th>21</th>\n",
       "      <td>0.756070</td>\n",
       "      <td>1.097187</td>\n",
       "      <td>0.401805</td>\n",
       "    </tr>\n",
       "    <tr>\n",
       "      <th>22</th>\n",
       "      <td>0.134828</td>\n",
       "      <td>0.376646</td>\n",
       "      <td>0.000000</td>\n",
       "    </tr>\n",
       "    <tr>\n",
       "      <th>23</th>\n",
       "      <td>0.000000</td>\n",
       "      <td>0.000000</td>\n",
       "      <td>0.000000</td>\n",
       "    </tr>\n",
       "  </tbody>\n",
       "</table>\n",
       "</div>"
      ],
      "text/plain": [
       "        mean       max       min\n",
       "0   0.000000  0.000000  0.000000\n",
       "1   0.000000  0.000000  0.000000\n",
       "2   0.000000  0.000000  0.000000\n",
       "3   0.000000  0.000000  0.000000\n",
       "4   0.000000  0.000000  0.000000\n",
       "5   0.000000  0.000000  0.000000\n",
       "6   0.000000  0.000000  0.000000\n",
       "7   0.000000  0.000000  0.000000\n",
       "8   0.038243  0.110955  0.000000\n",
       "9   0.251537  0.457981  0.079851\n",
       "10  0.257296  0.460476  0.045718\n",
       "11  0.002076  0.037205  0.000000\n",
       "12  0.000313  0.012351  0.000000\n",
       "13  0.000473  0.009587  0.000000\n",
       "14  0.000015  0.001670  0.000000\n",
       "15  0.000000  0.000000  0.000000\n",
       "16  0.000000  0.000000  0.000000\n",
       "17  0.095642  0.213727  0.000000\n",
       "18  0.877933  1.542232  0.204331\n",
       "19  1.468803  1.553382  1.392619\n",
       "20  1.245286  1.412343  1.091381\n",
       "21  0.756070  1.097187  0.401805\n",
       "22  0.134828  0.376646  0.000000\n",
       "23  0.000000  0.000000  0.000000"
      ]
     },
     "execution_count": 25,
     "metadata": {},
     "output_type": "execute_result"
    }
   ],
   "source": [
    "wait_times=pd.DataFrame(index=range(24))\n",
    "sdi=sd\n",
    "for i in range(24):\n",
    "    sdi=sd[sd['calling at']>=i]\n",
    "    sdx=sdi[sdi['calling at']<i+1]\n",
    "    wait_times.at[i, 'mean']=0 if len(sdx)==0 else sdx['wait time'].mean()\n",
    "    wait_times.at[i, 'max']=0 if len(sdx)==0 else sdx['wait time'].max()\n",
    "    wait_times.at[i, 'min']=0 if len(sdx)==0 else sdx['wait time'].min()\n",
    "wait_times"
   ]
  },
  {
   "cell_type": "code",
   "execution_count": 26,
   "metadata": {
    "ExecuteTime": {
     "end_time": "2020-07-21T03:02:41.856527Z",
     "start_time": "2020-07-21T03:02:41.851070Z"
    }
   },
   "outputs": [],
   "source": [
    "def mean_waiting_time(x):\n",
    "    x = x%24\n",
    "    return wait_times.at[int(math.floor(x)),'mean']\n",
    "\n",
    "def max_waiting_time(x):\n",
    "    x = x%24\n",
    "    return wait_times.at[int(math.floor(x)),'max']\n",
    "\n",
    "def min_waiting_time(x):\n",
    "    x = x%24\n",
    "    return wait_times.at[int(math.floor(x)),'min']"
   ]
  },
  {
   "cell_type": "code",
   "execution_count": 27,
   "metadata": {
    "ExecuteTime": {
     "end_time": "2020-07-21T03:02:42.209009Z",
     "start_time": "2020-07-21T03:02:41.859205Z"
    }
   },
   "outputs": [
    {
     "data": {
      "image/png": "[encoded data removed]",
      "text/plain": [
       "<Figure size 864x360 with 1 Axes>"
      ]
     },
     "metadata": {
      "needs_background": "light"
     },
     "output_type": "display_data"
    }
   ],
   "source": [
    "ax=plotOverTime(f=mean_waiting_time, style='b-', scale=60, \n",
    "             xlabel='Time [h]', ylabel='Waiting Time [min]', \n",
    "             title=\"Waiting times over the day\")\n",
    "ax=plotOverTime(f=max_waiting_time, style='r-', scale=60, ax=ax)\n",
    "ax=plotOverTime(f=min_waiting_time, style='g-', scale=60, ax=ax)"
   ]
  },
  {
   "cell_type": "markdown",
   "metadata": {},
   "source": [
    "# Combine the code into a single routine"
   ]
  },
  {
   "cell_type": "code",
   "execution_count": 28,
   "metadata": {
    "ExecuteTime": {
     "end_time": "2020-07-21T03:02:42.223466Z",
     "start_time": "2020-07-21T03:02:42.211914Z"
    }
   },
   "outputs": [],
   "source": [
    "def waiting_times(callcentre):\n",
    "    sd, wm, _, _, _, _, _ = callcentre\n",
    "    wt=pd.DataFrame(index=range(24))\n",
    "    for i in range(24):\n",
    "        sdi=sd[sd['calling at']>=i]\n",
    "        sdx=sdi[sdi['calling at']<i+1]\n",
    "        wt.at[i, 'mean']=0 if len(sdx)==0 else sdx['wait time'].mean()\n",
    "        wt.at[i, 'max']=0 if len(sdx)==0 else sdx['wait time'].max()\n",
    "        wt.at[i, 'min']=0 if len(sdx)==0 else sdx['wait time'].min()\n",
    "\n",
    "    def mean_waiting_time(x):\n",
    "        return wt.at[int(math.floor(x%24)),'mean']\n",
    "\n",
    "    def max_waiting_time(x):\n",
    "        return wt.at[int(math.floor(x%24)),'max']\n",
    "    \n",
    "    def min_waiting_time(x):\n",
    "        return wt.at[int(math.floor(x%24)),'min']\n",
    "    \n",
    "    ax=plotOverTime(f=mean_waiting_time, style='b-', scale=60, \n",
    "                     xlabel='Time [h]', ylabel='Waiting Time [min]', \n",
    "                     title=\"Waiting times over the day\")\n",
    "    ax=plotOverTime(f=max_waiting_time, style='r-', scale=60, ax=ax)\n",
    "    ax=plotOverTime(f=min_waiting_time, style='g-', scale=60, ax=ax)"
   ]
  },
  {
   "cell_type": "code",
   "execution_count": 29,
   "metadata": {
    "ExecuteTime": {
     "end_time": "2020-07-21T03:02:43.343204Z",
     "start_time": "2020-07-21T03:02:42.226426Z"
    }
   },
   "outputs": [
    {
     "data": {
      "image/png": "[encoded data removed]",
      "text/plain": [
       "<Figure size 864x360 with 1 Axes>"
      ]
     },
     "metadata": {
      "needs_background": "light"
     },
     "output_type": "display_data"
    }
   ],
   "source": [
    "waiting_times(callCentre(Calls, 10))"
   ]
  },
  {
   "cell_type": "code",
   "execution_count": 30,
   "metadata": {
    "ExecuteTime": {
     "end_time": "2020-07-21T03:02:44.517989Z",
     "start_time": "2020-07-21T03:02:43.345555Z"
    }
   },
   "outputs": [
    {
     "data": {
      "image/png": "[encoded data removed]",
      "text/plain": [
       "<Figure size 864x360 with 1 Axes>"
      ]
     },
     "metadata": {
      "needs_background": "light"
     },
     "output_type": "display_data"
    }
   ],
   "source": [
    "waiting_times(callCentre(Calls, 20))"
   ]
  },
  {
   "cell_type": "markdown",
   "metadata": {},
   "source": [
    "# Capacity Planning"
   ]
  },
  {
   "cell_type": "markdown",
   "metadata": {},
   "source": [
    "From the above diagram we can derive that we need a higher call center capacity between 8:00 and 14:00 and  between 17:00-23:00. We create data structures describing the shift times and the planned shift capacity:"
   ]
  },
  {
   "cell_type": "code",
   "execution_count": 31,
   "metadata": {
    "ExecuteTime": {
     "end_time": "2020-07-21T03:02:44.530412Z",
     "start_time": "2020-07-21T03:02:44.526772Z"
    }
   },
   "outputs": [],
   "source": [
    "times=[0, 8, 14, 17, 23]\n",
    "capacity=[3, 10, 3, 20, 3]"
   ]
  },
  {
   "cell_type": "markdown",
   "metadata": {},
   "source": [
    "The cost function is the number of person hours spent:"
   ]
  },
  {
   "cell_type": "code",
   "execution_count": 32,
   "metadata": {
    "ExecuteTime": {
     "end_time": "2020-07-21T03:02:44.544522Z",
     "start_time": "2020-07-21T03:02:44.536410Z"
    }
   },
   "outputs": [
    {
     "data": {
      "text/plain": [
       "32"
      ]
     },
     "execution_count": 32,
     "metadata": {},
     "output_type": "execute_result"
    }
   ],
   "source": [
    "times=[0, 8, 16]\n",
    "capacity=[1, 2, 1]\n",
    "\n",
    "def personhours(times, capacity):\n",
    "    total=0\n",
    "    timespan=[ (times[i+1] if i+1<len(times) else 24)-times[i] for i in range(len(times)) ]\n",
    "    for i in range(len(times)):\n",
    "        total += timespan[i]*capacity[i]\n",
    "    return total\n",
    "\n",
    "personhours(times, capacity)"
   ]
  },
  {
   "cell_type": "markdown",
   "metadata": {},
   "source": [
    "The `callCentre` code is modified as `callCentreFlex` with the staffno replaced by two lists of shift change times and staff no per shift:"
   ]
  },
  {
   "cell_type": "code",
   "execution_count": 33,
   "metadata": {
    "ExecuteTime": {
     "end_time": "2020-07-21T03:02:44.577171Z",
     "start_time": "2020-07-21T03:02:44.546942Z"
    }
   },
   "outputs": [],
   "source": [
    "def callCentreFlex(cd, shift_times, shift_capacity, log=False, plot=False):\n",
    "    \n",
    "    assert(len(shift_times) == len(shift_capacity))\n",
    "    \n",
    "    N = len(cd)\n",
    "    \n",
    "    iarr = cd['iat'].mean()\n",
    "    proc_μ = cd['lgt'].mean()\n",
    "    proc_σ = cd['lgt'].std()\n",
    "    \n",
    "    # Prepare a DataFrame to record observations\n",
    "    sd = pd.DataFrame()\n",
    "    sd['calling at'] = [None]*N\n",
    "    sd['answered at'] = [None]*N\n",
    "    sd['finished at'] = [None]*N \n",
    "    \n",
    "    env = simpy.Environment()\n",
    "\n",
    "    \n",
    "    staff = [ simpy.Resource(env, capacity=c) for c in shift_capacity ]\n",
    "    shift = 0\n",
    "        \n",
    "    # initialise variables describing the queue\n",
    "    maxql=0  # maximum length of queue\n",
    "    qt=0     # \"integral\" of ql from 0 to lastT\n",
    "    lastT=0 # last time qt was updated\n",
    "    \n",
    "    # initialise variables describing the server\n",
    "    maxs=0   # max number of customers served at anyone time\n",
    "    s=0      # current number of customers being served\n",
    "    st=0     # \"integral\" of s from 0 to env.now\n",
    "    \n",
    "    def calls(n):\n",
    "        shift = 0\n",
    "        for i in range(n):\n",
    "            # wait for the next call\n",
    "            yield env.timeout(cd.at[i, 'iat'])\n",
    "            \n",
    "            # check if a new shift starts\n",
    "            if shift+1<len(shift_times) and env.now>shift_times[shift+1]:\n",
    "                shift += 1\n",
    "                \n",
    "            c = call(i, shift)\n",
    "            env.process(c)\n",
    "     \n",
    "    def call(i, shift):\n",
    "        sd.at[i, 'calling at'] = env.now\n",
    "        \n",
    "        nonlocal qt, lastT, maxql, s, st, maxs\n",
    "        \n",
    "        # length of the queue before the customer enters\n",
    "\n",
    "        ql = len(staff[shift].queue) \n",
    "        if ql==maxql:\n",
    "            maxql = ql+1\n",
    "        qt += ql*(env.now-lastT)\n",
    "        lastT=env.now\n",
    "\n",
    "        req = staff[shift].request()\n",
    "        \n",
    "        yield req\n",
    "        \n",
    "        # length of the queue just before the customer leaves\n",
    "        ql = len(staff[shift].queue) \n",
    "        qt += ql*(env.now-lastT)\n",
    "        lastT=env.now\n",
    "        \n",
    "        sd.at[i, 'answered at'] = env.now\n",
    "        # Wait while the clerk is dealing with you\n",
    "        \n",
    "        s += 1\n",
    "        if s>maxs:\n",
    "            maxs = s\n",
    "            \n",
    "        proc = cd.at[i, 'lgt']\n",
    "        yield env.timeout(proc)\n",
    "        sd.at[i, 'finished at'] = env.now\n",
    "        staff[shift].release(req)\n",
    "        \n",
    "        s -= 1\n",
    "        st += proc/shift_capacity[shift]\n",
    "        \n",
    "            \n",
    "    env.process(calls(len(cd)))\n",
    "    env.run()\n",
    "    \n",
    "    sd['wait time']=sd['answered at']-sd['calling at'] \n",
    "    sd['call time']=sd['finished at']-sd['answered at']\n",
    "    sd['flow time']=sd['finished at']-sd['calling at']\n",
    "    \n",
    "    w = sd['wait time']\n",
    "    f = sd['flow time']\n",
    "    \n",
    "    if plot:\n",
    "        idep_μ = sd['idep'].mean()\n",
    "        idep_σ = sd['idep'].std()\n",
    "        poissonPlot(cd['iat'], title=\"Inter-Arrival Times\")\n",
    "        # poissonPlot(cd['proc'], pdf=stats.norm(loc=proc_μ, scale=proc_σ).pdf, title=\"Processing Times\")\n",
    "        poissonPlot(sd['wait time'], title=\"Wait Times\")\n",
    "        poissonPlot(sd['flow time'], title=\"Flow Times\")\n",
    "    \n",
    "    μ_iarr = cd['iat'].mean()\n",
    "    μ_proc = cd['lgt'].mean()\n",
    "    ρ = st/lastT\n",
    "    ρ_theor = proc_μ/(iarr*sum(shift_capacity)/len(shift_capacity))\n",
    "    Lq = qt/lastT\n",
    "    \n",
    "    if log:\n",
    "\n",
    "        CV_proc = proc_σ/proc_μ\n",
    "        Lq_theor = (1+CV_proc)/2*ρ_theor**2/(1-ρ_theor)\n",
    "        Wq_theor = Lq_theor*iarr\n",
    "  \n",
    "        print(f\"   actual / expected   N={N:,d}\")\n",
    "        print(f\"a= {μ_iarr*3600:6.2f}   {iarr*3600:6.2f}   (Inter Arrival Time [s])\")\n",
    "        print(f\"p= {μ_proc*3600:6.2f}   {proc_μ*3600:6.2f}   (Processing Time [s])\")\n",
    "        print(f\"ρ= {100*ρ:5.1f}%  {100*ρ_theor:6.1f}%   (System Utilisation)\")\n",
    "        print(f\"L= {ρ+Lq:6.2f}   {ρ_theor+Lq_theor:6.2f}   (inventory in the system)\")\n",
    "        print(f\"Lq={Lq:6.2f}   {Lq_theor:6.2f}   (inventory in the queue)\")\n",
    "        print(f\"Ls={ρ:6.2f}   {ρ_theor:6.2f}   (inventory in service)\")\n",
    "        print(f\"W= {f.mean()*60:6.2f}   {(proc_μ+Wq_theor)*60:6.2f}   (Flow Time through the System [min]\")\n",
    "        print(f\"Wq={w.mean()*60:6.2f}   {Wq_theor*60:6.2f}   (Wait Time [min])\")\n",
    "        print(f\"Ws={μ_proc*60:6.2f}   {proc_μ*60:6.2f}   (Service Time [min])\")\n",
    "        print()\n",
    "        \n",
    "    labourCost=personhours(times, capacity)*LABOUR_COST\n",
    "    phoneCost=f.sum()*60*TELEFON_COST\n",
    "    print(f\"Mean Waiting Time: {w.mean()*60:5.2f}min\")\n",
    "    print(f\"Cost: {personhours(times, capacity):8d} person hours  = {labourCost:7.2f}€\")\n",
    "    print(f\"      {int(f.sum()*60):8,d} phone minutes = {phoneCost:7.2f}€\")\n",
    "    print(f\"                  total cost = {labourCost+phoneCost:7.2f}€\")\n",
    "    return sd, w.mean(), w.max(), Lq, maxql, ρ, ρ_theor"
   ]
  },
  {
   "cell_type": "markdown",
   "metadata": {},
   "source": [
    "A first attempt, just to see if it works..."
   ]
  },
  {
   "cell_type": "code",
   "execution_count": 34,
   "metadata": {
    "ExecuteTime": {
     "end_time": "2020-07-21T03:02:45.774716Z",
     "start_time": "2020-07-21T03:02:44.579575Z"
    }
   },
   "outputs": [
    {
     "name": "stdout",
     "output_type": "stream",
     "text": [
      "Mean Waiting Time:  6.07min\n",
      "Cost:      216 person hours  = 2160.00€\n",
      "        38,003 phone minutes = 1900.18€\n",
      "                  total cost = 4060.18€\n"
     ]
    },
    {
     "data": {
      "image/png": "[encoded data removed]",
      "text/plain": [
       "<Figure size 864x360 with 1 Axes>"
      ]
     },
     "metadata": {
      "needs_background": "light"
     },
     "output_type": "display_data"
    }
   ],
   "source": [
    "times=[0, 8, 14, 17, 23]\n",
    "capacity=[3, 10, 3, 20, 3]\n",
    "waiting_times(callCentreFlex(Calls, times, capacity))"
   ]
  },
  {
   "cell_type": "markdown",
   "metadata": {},
   "source": [
    "# Optimisation"
   ]
  },
  {
   "cell_type": "markdown",
   "metadata": {},
   "source": [
    "## First Step"
   ]
  },
  {
   "cell_type": "markdown",
   "metadata": {},
   "source": [
    "We begin with a wild guess, actually the same as before:"
   ]
  },
  {
   "cell_type": "code",
   "execution_count": 35,
   "metadata": {
    "ExecuteTime": {
     "end_time": "2020-07-21T03:02:47.012380Z",
     "start_time": "2020-07-21T03:02:45.777428Z"
    }
   },
   "outputs": [
    {
     "name": "stdout",
     "output_type": "stream",
     "text": [
      "Mean Waiting Time:  6.07min\n",
      "Cost:      216 person hours  = 2160.00€\n",
      "        38,003 phone minutes = 1900.18€\n",
      "                  total cost = 4060.18€\n"
     ]
    },
    {
     "data": {
      "image/png": "[encoded data removed]",
      "text/plain": [
       "<Figure size 864x360 with 1 Axes>"
      ]
     },
     "metadata": {
      "needs_background": "light"
     },
     "output_type": "display_data"
    }
   ],
   "source": [
    "times=[0, 8, 14, 17, 23]\n",
    "capacity=[3, 10, 3, 20, 3]\n",
    "waiting_times(callCentreFlex(Calls, times, capacity))"
   ]
  },
  {
   "cell_type": "markdown",
   "metadata": {},
   "source": [
    "It seems we need to increase the capacity between 14:00 and 17:00, which is currently only 3:"
   ]
  },
  {
   "cell_type": "markdown",
   "metadata": {},
   "source": [
    "## Second Step"
   ]
  },
  {
   "cell_type": "code",
   "execution_count": 36,
   "metadata": {
    "ExecuteTime": {
     "end_time": "2020-07-21T03:02:48.256411Z",
     "start_time": "2020-07-21T03:02:47.014864Z"
    }
   },
   "outputs": [
    {
     "name": "stdout",
     "output_type": "stream",
     "text": [
      "Mean Waiting Time:  3.77min\n",
      "Cost:      225 person hours  = 2250.00€\n",
      "        26,454 phone minutes = 1322.71€\n",
      "                  total cost = 3572.71€\n"
     ]
    },
    {
     "data": {
      "image/png": "[encoded data removed]",
      "text/plain": [
       "<Figure size 864x360 with 1 Axes>"
      ]
     },
     "metadata": {
      "needs_background": "light"
     },
     "output_type": "display_data"
    }
   ],
   "source": [
    "times=[0, 8, 14, 17, 23]\n",
    "capacity=[3, 10, 6, 20, 3]\n",
    "waiting_times(callCentreFlex(Calls, times, capacity))"
   ]
  },
  {
   "cell_type": "markdown",
   "metadata": {},
   "source": [
    "It seems we need to increase the capacity between 8:00 and 12:00, which is currently 10, but we leave it between 12:00 and 14:00, that means we need a new shift regime:"
   ]
  },
  {
   "cell_type": "markdown",
   "metadata": {},
   "source": [
    "## Third Step"
   ]
  },
  {
   "cell_type": "code",
   "execution_count": 37,
   "metadata": {
    "ExecuteTime": {
     "end_time": "2020-07-21T03:02:49.505774Z",
     "start_time": "2020-07-21T03:02:48.258874Z"
    }
   },
   "outputs": [
    {
     "name": "stdout",
     "output_type": "stream",
     "text": [
      "Mean Waiting Time:  1.29min\n",
      "Cost:      241 person hours  = 2410.00€\n",
      "        14,007 phone minutes =  700.40€\n",
      "                  total cost = 3110.40€\n"
     ]
    },
    {
     "data": {
      "image/png": "[encoded data removed]",
      "text/plain": [
       "<Figure size 864x360 with 1 Axes>"
      ]
     },
     "metadata": {
      "needs_background": "light"
     },
     "output_type": "display_data"
    }
   ],
   "source": [
    "times=[0, 8, 12, 14, 17, 23]\n",
    "capacity=[3, 14, 10, 6, 20, 3]\n",
    "waiting_times(callCentreFlex(Calls, times, capacity))"
   ]
  },
  {
   "cell_type": "markdown",
   "metadata": {},
   "source": [
    "We may be able to reduce the capacity between 0:00 and 7:00 and between 20:00 and 23:00:"
   ]
  },
  {
   "cell_type": "markdown",
   "metadata": {},
   "source": [
    "## One more step..."
   ]
  },
  {
   "cell_type": "code",
   "execution_count": 38,
   "metadata": {
    "ExecuteTime": {
     "end_time": "2020-07-21T03:02:50.702360Z",
     "start_time": "2020-07-21T03:02:49.508252Z"
    }
   },
   "outputs": [
    {
     "name": "stdout",
     "output_type": "stream",
     "text": [
      "Mean Waiting Time:  1.57min\n",
      "Cost:      192 person hours  = 1920.00€\n",
      "        15,413 phone minutes =  770.65€\n",
      "                  total cost = 2690.65€\n"
     ]
    },
    {
     "data": {
      "image/png": "[encoded data removed]",
      "text/plain": [
       "<Figure size 864x360 with 1 Axes>"
      ]
     },
     "metadata": {
      "needs_background": "light"
     },
     "output_type": "display_data"
    }
   ],
   "source": [
    "times=   [0, 7,  8, 12, 14, 17, 20, 23]\n",
    "capacity=[2, 3, 14, 10,  6, 20,  6,  3]\n",
    "waiting_times(callCentreFlex(Calls, times, capacity))"
   ]
  },
  {
   "cell_type": "markdown",
   "metadata": {},
   "source": [
    "If we increase marginally between 7:00 and 8:00 and between 17:00 and 20:00:"
   ]
  },
  {
   "cell_type": "markdown",
   "metadata": {},
   "source": [
    "## And one more..."
   ]
  },
  {
   "cell_type": "code",
   "execution_count": 39,
   "metadata": {
    "ExecuteTime": {
     "end_time": "2020-07-21T03:02:51.922826Z",
     "start_time": "2020-07-21T03:02:50.704831Z"
    }
   },
   "outputs": [
    {
     "name": "stdout",
     "output_type": "stream",
     "text": [
      "Mean Waiting Time:  1.13min\n",
      "Cost:      196 person hours  = 1960.00€\n",
      "        13,217 phone minutes =  660.87€\n",
      "                  total cost = 2620.87€\n"
     ]
    },
    {
     "data": {
      "image/png": "[encoded data removed]",
      "text/plain": [
       "<Figure size 864x360 with 1 Axes>"
      ]
     },
     "metadata": {
      "needs_background": "light"
     },
     "output_type": "display_data"
    }
   ],
   "source": [
    "times=   [0, 7,  8, 12, 14, 17, 20, 23]\n",
    "capacity=[2, 4, 14, 10,  6, 21,  6,  3]\n",
    "waiting_times(callCentreFlex(Calls, times, capacity))"
   ]
  },
  {
   "cell_type": "code",
   "execution_count": 40,
   "metadata": {
    "ExecuteTime": {
     "end_time": "2020-07-21T03:02:53.102643Z",
     "start_time": "2020-07-21T03:02:51.925235Z"
    },
    "scrolled": false
   },
   "outputs": [
    {
     "name": "stdout",
     "output_type": "stream",
     "text": [
      "Mean Waiting Time:  1.13min\n",
      "Cost:      188 person hours  = 1880.00€\n",
      "        13,205 phone minutes =  660.30€\n",
      "                  total cost = 2540.30€\n"
     ]
    },
    {
     "data": {
      "image/png": "[encoded data removed]",
      "text/plain": [
       "<Figure size 864x360 with 1 Axes>"
      ]
     },
     "metadata": {
      "needs_background": "light"
     },
     "output_type": "display_data"
    }
   ],
   "source": [
    "times=   [0, 7,  8, 10, 14, 17, 20, 23]\n",
    "capacity=[2, 4, 14, 10,  6, 21,  6,  3]\n",
    "waiting_times(callCentreFlex(Calls, times, capacity))"
   ]
  },
  {
   "cell_type": "markdown",
   "metadata": {},
   "source": [
    "# References"
   ]
  },
  {
   "cell_type": "markdown",
   "metadata": {
    "ExecuteTime": {
     "end_time": "2020-03-28T05:16:06.756896Z",
     "start_time": "2020-03-28T05:16:06.751603Z"
    }
   },
   "source": [
    "[scipy.stats](https://docs.scipy.org/doc/scipy/reference/stats.html)"
   ]
  }
 ],
 "metadata": {
  "kernelspec": {
   "display_name": "Python 3",
   "language": "python",
   "name": "python3"
  },
  "language_info": {
   "codemirror_mode": {
    "name": "ipython",
    "version": 3
   },
   "file_extension": ".py",
   "mimetype": "text/x-python",
   "name": "python",
   "nbconvert_exporter": "python",
   "pygments_lexer": "ipython3",
   "version": "3.7.6"
  },
  "latex_envs": {
   "LaTeX_envs_menu_present": true,
   "autoclose": false,
   "autocomplete": true,
   "bibliofile": "biblio.bib",
   "cite_by": "apalike",
   "current_citInitial": 1,
   "eqLabelWithNumbers": true,
   "eqNumInitial": 1,
   "hotkeys": {
    "equation": "Ctrl-E",
    "itemize": "Ctrl-I"
   },
   "labels_anchors": false,
   "latex_user_defs": false,
   "report_style_numbering": false,
   "user_envs_cfg": false
  },
  "toc": {
   "base_numbering": 1,
   "nav_menu": {},
   "number_sections": true,
   "sideBar": true,
   "skip_h1_title": false,
   "title_cell": "Table of Contents",
   "title_sidebar": "Contents",
   "toc_cell": true,
   "toc_position": {},
   "toc_section_display": true,
   "toc_window_display": false
  },
  "varInspector": {
   "cols": {
    "lenName": 16,
    "lenType": 16,
    "lenVar": 40
   },
   "kernels_config": {
    "python": {
     "delete_cmd_postfix": "",
     "delete_cmd_prefix": "del ",
     "library": "var_list.py",
     "varRefreshCmd": "print(var_dic_list())"
    },
    "r": {
     "delete_cmd_postfix": ") ",
     "delete_cmd_prefix": "rm(",
     "library": "var_list.r",
     "varRefreshCmd": "cat(var_dic_list()) "
    }
   },
   "types_to_exclude": [
    "module",
    "function",
    "builtin_function_or_method",
    "instance",
    "_Feature"
   ],
   "window_display": false
  }
 },
 "nbformat": 4,
 "nbformat_minor": 2
}
